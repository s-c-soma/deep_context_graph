{
  "nbformat": 4,
  "nbformat_minor": 0,
  "metadata": {
    "colab": {
      "name": "StatementChecker_KnowledgeGraph.ipynb",
      "provenance": [],
      "collapsed_sections": [],
      "toc_visible": true,
      "machine_shape": "hm",
      "include_colab_link": true
    },
    "kernelspec": {
      "name": "python3",
      "display_name": "Python 3"
    },
    "widgets": {
      "application/vnd.jupyter.widget-state+json": {
        "6ee41d9d3b114aa5b8662373464856c1": {
          "model_module": "@jupyter-widgets/controls",
          "model_name": "HBoxModel",
          "state": {
            "_view_name": "HBoxView",
            "_dom_classes": [],
            "_model_name": "HBoxModel",
            "_view_module": "@jupyter-widgets/controls",
            "_model_module_version": "1.5.0",
            "_view_count": null,
            "_view_module_version": "1.5.0",
            "box_style": "",
            "layout": "IPY_MODEL_d50555ddb4174ad090a5e76226c1c48d",
            "_model_module": "@jupyter-widgets/controls",
            "children": [
              "IPY_MODEL_bf3f2241b44d4576bc3e56a4d3faa794",
              "IPY_MODEL_9e970f563bdc41e29be4a09c4ede352f"
            ]
          }
        },
        "d50555ddb4174ad090a5e76226c1c48d": {
          "model_module": "@jupyter-widgets/base",
          "model_name": "LayoutModel",
          "state": {
            "_view_name": "LayoutView",
            "grid_template_rows": null,
            "right": null,
            "justify_content": null,
            "_view_module": "@jupyter-widgets/base",
            "overflow": null,
            "_model_module_version": "1.2.0",
            "_view_count": null,
            "flex_flow": null,
            "width": null,
            "min_width": null,
            "border": null,
            "align_items": null,
            "bottom": null,
            "_model_module": "@jupyter-widgets/base",
            "top": null,
            "grid_column": null,
            "overflow_y": null,
            "overflow_x": null,
            "grid_auto_flow": null,
            "grid_area": null,
            "grid_template_columns": null,
            "flex": null,
            "_model_name": "LayoutModel",
            "justify_items": null,
            "grid_row": null,
            "max_height": null,
            "align_content": null,
            "visibility": null,
            "align_self": null,
            "height": null,
            "min_height": null,
            "padding": null,
            "grid_auto_rows": null,
            "grid_gap": null,
            "max_width": null,
            "order": null,
            "_view_module_version": "1.2.0",
            "grid_template_areas": null,
            "object_position": null,
            "object_fit": null,
            "grid_auto_columns": null,
            "margin": null,
            "display": null,
            "left": null
          }
        },
        "bf3f2241b44d4576bc3e56a4d3faa794": {
          "model_module": "@jupyter-widgets/controls",
          "model_name": "FloatProgressModel",
          "state": {
            "_view_name": "ProgressView",
            "style": "IPY_MODEL_21026d3ddbfb45e2a8382dd6dcb78385",
            "_dom_classes": [],
            "description": "Downloading: 100%",
            "_model_name": "FloatProgressModel",
            "bar_style": "success",
            "max": 473,
            "_view_module": "@jupyter-widgets/controls",
            "_model_module_version": "1.5.0",
            "value": 473,
            "_view_count": null,
            "_view_module_version": "1.5.0",
            "orientation": "horizontal",
            "min": 0,
            "description_tooltip": null,
            "_model_module": "@jupyter-widgets/controls",
            "layout": "IPY_MODEL_27029a6a200f4544b5d0f35aea55a353"
          }
        },
        "9e970f563bdc41e29be4a09c4ede352f": {
          "model_module": "@jupyter-widgets/controls",
          "model_name": "HTMLModel",
          "state": {
            "_view_name": "HTMLView",
            "style": "IPY_MODEL_393d8d3679914035b8d7e885fff5c052",
            "_dom_classes": [],
            "description": "",
            "_model_name": "HTMLModel",
            "placeholder": "​",
            "_view_module": "@jupyter-widgets/controls",
            "_model_module_version": "1.5.0",
            "value": " 473/473 [00:00&lt;00:00, 1.29kB/s]",
            "_view_count": null,
            "_view_module_version": "1.5.0",
            "description_tooltip": null,
            "_model_module": "@jupyter-widgets/controls",
            "layout": "IPY_MODEL_371b58a10fb94743aea399c4edddbcdc"
          }
        },
        "21026d3ddbfb45e2a8382dd6dcb78385": {
          "model_module": "@jupyter-widgets/controls",
          "model_name": "ProgressStyleModel",
          "state": {
            "_view_name": "StyleView",
            "_model_name": "ProgressStyleModel",
            "description_width": "initial",
            "_view_module": "@jupyter-widgets/base",
            "_model_module_version": "1.5.0",
            "_view_count": null,
            "_view_module_version": "1.2.0",
            "bar_color": null,
            "_model_module": "@jupyter-widgets/controls"
          }
        },
        "27029a6a200f4544b5d0f35aea55a353": {
          "model_module": "@jupyter-widgets/base",
          "model_name": "LayoutModel",
          "state": {
            "_view_name": "LayoutView",
            "grid_template_rows": null,
            "right": null,
            "justify_content": null,
            "_view_module": "@jupyter-widgets/base",
            "overflow": null,
            "_model_module_version": "1.2.0",
            "_view_count": null,
            "flex_flow": null,
            "width": null,
            "min_width": null,
            "border": null,
            "align_items": null,
            "bottom": null,
            "_model_module": "@jupyter-widgets/base",
            "top": null,
            "grid_column": null,
            "overflow_y": null,
            "overflow_x": null,
            "grid_auto_flow": null,
            "grid_area": null,
            "grid_template_columns": null,
            "flex": null,
            "_model_name": "LayoutModel",
            "justify_items": null,
            "grid_row": null,
            "max_height": null,
            "align_content": null,
            "visibility": null,
            "align_self": null,
            "height": null,
            "min_height": null,
            "padding": null,
            "grid_auto_rows": null,
            "grid_gap": null,
            "max_width": null,
            "order": null,
            "_view_module_version": "1.2.0",
            "grid_template_areas": null,
            "object_position": null,
            "object_fit": null,
            "grid_auto_columns": null,
            "margin": null,
            "display": null,
            "left": null
          }
        },
        "393d8d3679914035b8d7e885fff5c052": {
          "model_module": "@jupyter-widgets/controls",
          "model_name": "DescriptionStyleModel",
          "state": {
            "_view_name": "StyleView",
            "_model_name": "DescriptionStyleModel",
            "description_width": "",
            "_view_module": "@jupyter-widgets/base",
            "_model_module_version": "1.5.0",
            "_view_count": null,
            "_view_module_version": "1.2.0",
            "_model_module": "@jupyter-widgets/controls"
          }
        },
        "371b58a10fb94743aea399c4edddbcdc": {
          "model_module": "@jupyter-widgets/base",
          "model_name": "LayoutModel",
          "state": {
            "_view_name": "LayoutView",
            "grid_template_rows": null,
            "right": null,
            "justify_content": null,
            "_view_module": "@jupyter-widgets/base",
            "overflow": null,
            "_model_module_version": "1.2.0",
            "_view_count": null,
            "flex_flow": null,
            "width": null,
            "min_width": null,
            "border": null,
            "align_items": null,
            "bottom": null,
            "_model_module": "@jupyter-widgets/base",
            "top": null,
            "grid_column": null,
            "overflow_y": null,
            "overflow_x": null,
            "grid_auto_flow": null,
            "grid_area": null,
            "grid_template_columns": null,
            "flex": null,
            "_model_name": "LayoutModel",
            "justify_items": null,
            "grid_row": null,
            "max_height": null,
            "align_content": null,
            "visibility": null,
            "align_self": null,
            "height": null,
            "min_height": null,
            "padding": null,
            "grid_auto_rows": null,
            "grid_gap": null,
            "max_width": null,
            "order": null,
            "_view_module_version": "1.2.0",
            "grid_template_areas": null,
            "object_position": null,
            "object_fit": null,
            "grid_auto_columns": null,
            "margin": null,
            "display": null,
            "left": null
          }
        },
        "83aee60a1e8c4e39b4df5eabacddce2c": {
          "model_module": "@jupyter-widgets/controls",
          "model_name": "HBoxModel",
          "state": {
            "_view_name": "HBoxView",
            "_dom_classes": [],
            "_model_name": "HBoxModel",
            "_view_module": "@jupyter-widgets/controls",
            "_model_module_version": "1.5.0",
            "_view_count": null,
            "_view_module_version": "1.5.0",
            "box_style": "",
            "layout": "IPY_MODEL_9afaa49e6fbc40199d03aba7f2ddc17e",
            "_model_module": "@jupyter-widgets/controls",
            "children": [
              "IPY_MODEL_74687c1b842d48b0a2557f2778a336e3",
              "IPY_MODEL_c60ea9cf65f941c59b8d048b0a8ca99d"
            ]
          }
        },
        "9afaa49e6fbc40199d03aba7f2ddc17e": {
          "model_module": "@jupyter-widgets/base",
          "model_name": "LayoutModel",
          "state": {
            "_view_name": "LayoutView",
            "grid_template_rows": null,
            "right": null,
            "justify_content": null,
            "_view_module": "@jupyter-widgets/base",
            "overflow": null,
            "_model_module_version": "1.2.0",
            "_view_count": null,
            "flex_flow": null,
            "width": null,
            "min_width": null,
            "border": null,
            "align_items": null,
            "bottom": null,
            "_model_module": "@jupyter-widgets/base",
            "top": null,
            "grid_column": null,
            "overflow_y": null,
            "overflow_x": null,
            "grid_auto_flow": null,
            "grid_area": null,
            "grid_template_columns": null,
            "flex": null,
            "_model_name": "LayoutModel",
            "justify_items": null,
            "grid_row": null,
            "max_height": null,
            "align_content": null,
            "visibility": null,
            "align_self": null,
            "height": null,
            "min_height": null,
            "padding": null,
            "grid_auto_rows": null,
            "grid_gap": null,
            "max_width": null,
            "order": null,
            "_view_module_version": "1.2.0",
            "grid_template_areas": null,
            "object_position": null,
            "object_fit": null,
            "grid_auto_columns": null,
            "margin": null,
            "display": null,
            "left": null
          }
        },
        "74687c1b842d48b0a2557f2778a336e3": {
          "model_module": "@jupyter-widgets/controls",
          "model_name": "FloatProgressModel",
          "state": {
            "_view_name": "ProgressView",
            "style": "IPY_MODEL_87ef04ad19784b85ada7d98bf7581ac9",
            "_dom_classes": [],
            "description": "Downloading: 100%",
            "_model_name": "FloatProgressModel",
            "bar_style": "success",
            "max": 260793700,
            "_view_module": "@jupyter-widgets/controls",
            "_model_module_version": "1.5.0",
            "value": 260793700,
            "_view_count": null,
            "_view_module_version": "1.5.0",
            "orientation": "horizontal",
            "min": 0,
            "description_tooltip": null,
            "_model_module": "@jupyter-widgets/controls",
            "layout": "IPY_MODEL_2fef3520ae8e40508c20ba8b2ecc7b5b"
          }
        },
        "c60ea9cf65f941c59b8d048b0a8ca99d": {
          "model_module": "@jupyter-widgets/controls",
          "model_name": "HTMLModel",
          "state": {
            "_view_name": "HTMLView",
            "style": "IPY_MODEL_2fbb7b31fe7d41f09b2ddbadb6bbd9de",
            "_dom_classes": [],
            "description": "",
            "_model_name": "HTMLModel",
            "placeholder": "​",
            "_view_module": "@jupyter-widgets/controls",
            "_model_module_version": "1.5.0",
            "value": " 261M/261M [00:05&lt;00:00, 45.2MB/s]",
            "_view_count": null,
            "_view_module_version": "1.5.0",
            "description_tooltip": null,
            "_model_module": "@jupyter-widgets/controls",
            "layout": "IPY_MODEL_5bfaff0b9f6541a5864ae9fa3a229993"
          }
        },
        "87ef04ad19784b85ada7d98bf7581ac9": {
          "model_module": "@jupyter-widgets/controls",
          "model_name": "ProgressStyleModel",
          "state": {
            "_view_name": "StyleView",
            "_model_name": "ProgressStyleModel",
            "description_width": "initial",
            "_view_module": "@jupyter-widgets/base",
            "_model_module_version": "1.5.0",
            "_view_count": null,
            "_view_module_version": "1.2.0",
            "bar_color": null,
            "_model_module": "@jupyter-widgets/controls"
          }
        },
        "2fef3520ae8e40508c20ba8b2ecc7b5b": {
          "model_module": "@jupyter-widgets/base",
          "model_name": "LayoutModel",
          "state": {
            "_view_name": "LayoutView",
            "grid_template_rows": null,
            "right": null,
            "justify_content": null,
            "_view_module": "@jupyter-widgets/base",
            "overflow": null,
            "_model_module_version": "1.2.0",
            "_view_count": null,
            "flex_flow": null,
            "width": null,
            "min_width": null,
            "border": null,
            "align_items": null,
            "bottom": null,
            "_model_module": "@jupyter-widgets/base",
            "top": null,
            "grid_column": null,
            "overflow_y": null,
            "overflow_x": null,
            "grid_auto_flow": null,
            "grid_area": null,
            "grid_template_columns": null,
            "flex": null,
            "_model_name": "LayoutModel",
            "justify_items": null,
            "grid_row": null,
            "max_height": null,
            "align_content": null,
            "visibility": null,
            "align_self": null,
            "height": null,
            "min_height": null,
            "padding": null,
            "grid_auto_rows": null,
            "grid_gap": null,
            "max_width": null,
            "order": null,
            "_view_module_version": "1.2.0",
            "grid_template_areas": null,
            "object_position": null,
            "object_fit": null,
            "grid_auto_columns": null,
            "margin": null,
            "display": null,
            "left": null
          }
        },
        "2fbb7b31fe7d41f09b2ddbadb6bbd9de": {
          "model_module": "@jupyter-widgets/controls",
          "model_name": "DescriptionStyleModel",
          "state": {
            "_view_name": "StyleView",
            "_model_name": "DescriptionStyleModel",
            "description_width": "",
            "_view_module": "@jupyter-widgets/base",
            "_model_module_version": "1.5.0",
            "_view_count": null,
            "_view_module_version": "1.2.0",
            "_model_module": "@jupyter-widgets/controls"
          }
        },
        "5bfaff0b9f6541a5864ae9fa3a229993": {
          "model_module": "@jupyter-widgets/base",
          "model_name": "LayoutModel",
          "state": {
            "_view_name": "LayoutView",
            "grid_template_rows": null,
            "right": null,
            "justify_content": null,
            "_view_module": "@jupyter-widgets/base",
            "overflow": null,
            "_model_module_version": "1.2.0",
            "_view_count": null,
            "flex_flow": null,
            "width": null,
            "min_width": null,
            "border": null,
            "align_items": null,
            "bottom": null,
            "_model_module": "@jupyter-widgets/base",
            "top": null,
            "grid_column": null,
            "overflow_y": null,
            "overflow_x": null,
            "grid_auto_flow": null,
            "grid_area": null,
            "grid_template_columns": null,
            "flex": null,
            "_model_name": "LayoutModel",
            "justify_items": null,
            "grid_row": null,
            "max_height": null,
            "align_content": null,
            "visibility": null,
            "align_self": null,
            "height": null,
            "min_height": null,
            "padding": null,
            "grid_auto_rows": null,
            "grid_gap": null,
            "max_width": null,
            "order": null,
            "_view_module_version": "1.2.0",
            "grid_template_areas": null,
            "object_position": null,
            "object_fit": null,
            "grid_auto_columns": null,
            "margin": null,
            "display": null,
            "left": null
          }
        },
        "3d500d4c77544a548f92ad6e66e2137d": {
          "model_module": "@jupyter-widgets/controls",
          "model_name": "HBoxModel",
          "state": {
            "_view_name": "HBoxView",
            "_dom_classes": [],
            "_model_name": "HBoxModel",
            "_view_module": "@jupyter-widgets/controls",
            "_model_module_version": "1.5.0",
            "_view_count": null,
            "_view_module_version": "1.5.0",
            "box_style": "",
            "layout": "IPY_MODEL_9030cb590c684e0a84b1220b5d8d338f",
            "_model_module": "@jupyter-widgets/controls",
            "children": [
              "IPY_MODEL_6bbbcbd4788b44ba93de1b52a0d99a3d",
              "IPY_MODEL_1b0d8818c75142c3a34b10dd7ce6c5b9"
            ]
          }
        },
        "9030cb590c684e0a84b1220b5d8d338f": {
          "model_module": "@jupyter-widgets/base",
          "model_name": "LayoutModel",
          "state": {
            "_view_name": "LayoutView",
            "grid_template_rows": null,
            "right": null,
            "justify_content": null,
            "_view_module": "@jupyter-widgets/base",
            "overflow": null,
            "_model_module_version": "1.2.0",
            "_view_count": null,
            "flex_flow": null,
            "width": null,
            "min_width": null,
            "border": null,
            "align_items": null,
            "bottom": null,
            "_model_module": "@jupyter-widgets/base",
            "top": null,
            "grid_column": null,
            "overflow_y": null,
            "overflow_x": null,
            "grid_auto_flow": null,
            "grid_area": null,
            "grid_template_columns": null,
            "flex": null,
            "_model_name": "LayoutModel",
            "justify_items": null,
            "grid_row": null,
            "max_height": null,
            "align_content": null,
            "visibility": null,
            "align_self": null,
            "height": null,
            "min_height": null,
            "padding": null,
            "grid_auto_rows": null,
            "grid_gap": null,
            "max_width": null,
            "order": null,
            "_view_module_version": "1.2.0",
            "grid_template_areas": null,
            "object_position": null,
            "object_fit": null,
            "grid_auto_columns": null,
            "margin": null,
            "display": null,
            "left": null
          }
        },
        "6bbbcbd4788b44ba93de1b52a0d99a3d": {
          "model_module": "@jupyter-widgets/controls",
          "model_name": "FloatProgressModel",
          "state": {
            "_view_name": "ProgressView",
            "style": "IPY_MODEL_6fe65fc6682c42daacb64721df493b86",
            "_dom_classes": [],
            "description": "Downloading: 100%",
            "_model_name": "FloatProgressModel",
            "bar_style": "success",
            "max": 213450,
            "_view_module": "@jupyter-widgets/controls",
            "_model_module_version": "1.5.0",
            "value": 213450,
            "_view_count": null,
            "_view_module_version": "1.5.0",
            "orientation": "horizontal",
            "min": 0,
            "description_tooltip": null,
            "_model_module": "@jupyter-widgets/controls",
            "layout": "IPY_MODEL_4418cb78f41a4c289598006022b9427d"
          }
        },
        "1b0d8818c75142c3a34b10dd7ce6c5b9": {
          "model_module": "@jupyter-widgets/controls",
          "model_name": "HTMLModel",
          "state": {
            "_view_name": "HTMLView",
            "style": "IPY_MODEL_e0a5fef0dfc54ecbb4f73fcd41b2401d",
            "_dom_classes": [],
            "description": "",
            "_model_name": "HTMLModel",
            "placeholder": "​",
            "_view_module": "@jupyter-widgets/controls",
            "_model_module_version": "1.5.0",
            "value": " 213k/213k [00:00&lt;00:00, 237kB/s]",
            "_view_count": null,
            "_view_module_version": "1.5.0",
            "description_tooltip": null,
            "_model_module": "@jupyter-widgets/controls",
            "layout": "IPY_MODEL_1334fa1a048c44f89c3a2fc4d61be58c"
          }
        },
        "6fe65fc6682c42daacb64721df493b86": {
          "model_module": "@jupyter-widgets/controls",
          "model_name": "ProgressStyleModel",
          "state": {
            "_view_name": "StyleView",
            "_model_name": "ProgressStyleModel",
            "description_width": "initial",
            "_view_module": "@jupyter-widgets/base",
            "_model_module_version": "1.5.0",
            "_view_count": null,
            "_view_module_version": "1.2.0",
            "bar_color": null,
            "_model_module": "@jupyter-widgets/controls"
          }
        },
        "4418cb78f41a4c289598006022b9427d": {
          "model_module": "@jupyter-widgets/base",
          "model_name": "LayoutModel",
          "state": {
            "_view_name": "LayoutView",
            "grid_template_rows": null,
            "right": null,
            "justify_content": null,
            "_view_module": "@jupyter-widgets/base",
            "overflow": null,
            "_model_module_version": "1.2.0",
            "_view_count": null,
            "flex_flow": null,
            "width": null,
            "min_width": null,
            "border": null,
            "align_items": null,
            "bottom": null,
            "_model_module": "@jupyter-widgets/base",
            "top": null,
            "grid_column": null,
            "overflow_y": null,
            "overflow_x": null,
            "grid_auto_flow": null,
            "grid_area": null,
            "grid_template_columns": null,
            "flex": null,
            "_model_name": "LayoutModel",
            "justify_items": null,
            "grid_row": null,
            "max_height": null,
            "align_content": null,
            "visibility": null,
            "align_self": null,
            "height": null,
            "min_height": null,
            "padding": null,
            "grid_auto_rows": null,
            "grid_gap": null,
            "max_width": null,
            "order": null,
            "_view_module_version": "1.2.0",
            "grid_template_areas": null,
            "object_position": null,
            "object_fit": null,
            "grid_auto_columns": null,
            "margin": null,
            "display": null,
            "left": null
          }
        },
        "e0a5fef0dfc54ecbb4f73fcd41b2401d": {
          "model_module": "@jupyter-widgets/controls",
          "model_name": "DescriptionStyleModel",
          "state": {
            "_view_name": "StyleView",
            "_model_name": "DescriptionStyleModel",
            "description_width": "",
            "_view_module": "@jupyter-widgets/base",
            "_model_module_version": "1.5.0",
            "_view_count": null,
            "_view_module_version": "1.2.0",
            "_model_module": "@jupyter-widgets/controls"
          }
        },
        "1334fa1a048c44f89c3a2fc4d61be58c": {
          "model_module": "@jupyter-widgets/base",
          "model_name": "LayoutModel",
          "state": {
            "_view_name": "LayoutView",
            "grid_template_rows": null,
            "right": null,
            "justify_content": null,
            "_view_module": "@jupyter-widgets/base",
            "overflow": null,
            "_model_module_version": "1.2.0",
            "_view_count": null,
            "flex_flow": null,
            "width": null,
            "min_width": null,
            "border": null,
            "align_items": null,
            "bottom": null,
            "_model_module": "@jupyter-widgets/base",
            "top": null,
            "grid_column": null,
            "overflow_y": null,
            "overflow_x": null,
            "grid_auto_flow": null,
            "grid_area": null,
            "grid_template_columns": null,
            "flex": null,
            "_model_name": "LayoutModel",
            "justify_items": null,
            "grid_row": null,
            "max_height": null,
            "align_content": null,
            "visibility": null,
            "align_self": null,
            "height": null,
            "min_height": null,
            "padding": null,
            "grid_auto_rows": null,
            "grid_gap": null,
            "max_width": null,
            "order": null,
            "_view_module_version": "1.2.0",
            "grid_template_areas": null,
            "object_position": null,
            "object_fit": null,
            "grid_auto_columns": null,
            "margin": null,
            "display": null,
            "left": null
          }
        },
        "045fef8ad8c14cabbf6e116d6f18d7ee": {
          "model_module": "@jupyter-widgets/controls",
          "model_name": "HBoxModel",
          "state": {
            "_view_name": "HBoxView",
            "_dom_classes": [],
            "_model_name": "HBoxModel",
            "_view_module": "@jupyter-widgets/controls",
            "_model_module_version": "1.5.0",
            "_view_count": null,
            "_view_module_version": "1.5.0",
            "box_style": "",
            "layout": "IPY_MODEL_48ccf2f32d444b1aa56a496d344520e2",
            "_model_module": "@jupyter-widgets/controls",
            "children": [
              "IPY_MODEL_973e0fdc24f04e21980c80ea5bba50dc",
              "IPY_MODEL_ca623568f9e74bbda90dd08b04648ba7"
            ]
          }
        },
        "48ccf2f32d444b1aa56a496d344520e2": {
          "model_module": "@jupyter-widgets/base",
          "model_name": "LayoutModel",
          "state": {
            "_view_name": "LayoutView",
            "grid_template_rows": null,
            "right": null,
            "justify_content": null,
            "_view_module": "@jupyter-widgets/base",
            "overflow": null,
            "_model_module_version": "1.2.0",
            "_view_count": null,
            "flex_flow": null,
            "width": null,
            "min_width": null,
            "border": null,
            "align_items": null,
            "bottom": null,
            "_model_module": "@jupyter-widgets/base",
            "top": null,
            "grid_column": null,
            "overflow_y": null,
            "overflow_x": null,
            "grid_auto_flow": null,
            "grid_area": null,
            "grid_template_columns": null,
            "flex": null,
            "_model_name": "LayoutModel",
            "justify_items": null,
            "grid_row": null,
            "max_height": null,
            "align_content": null,
            "visibility": null,
            "align_self": null,
            "height": null,
            "min_height": null,
            "padding": null,
            "grid_auto_rows": null,
            "grid_gap": null,
            "max_width": null,
            "order": null,
            "_view_module_version": "1.2.0",
            "grid_template_areas": null,
            "object_position": null,
            "object_fit": null,
            "grid_auto_columns": null,
            "margin": null,
            "display": null,
            "left": null
          }
        },
        "973e0fdc24f04e21980c80ea5bba50dc": {
          "model_module": "@jupyter-widgets/controls",
          "model_name": "FloatProgressModel",
          "state": {
            "_view_name": "ProgressView",
            "style": "IPY_MODEL_e4ca4704a118422d9b764174c698ebbe",
            "_dom_classes": [],
            "description": "Downloading: 100%",
            "_model_name": "FloatProgressModel",
            "bar_style": "success",
            "max": 435797,
            "_view_module": "@jupyter-widgets/controls",
            "_model_module_version": "1.5.0",
            "value": 435797,
            "_view_count": null,
            "_view_module_version": "1.5.0",
            "orientation": "horizontal",
            "min": 0,
            "description_tooltip": null,
            "_model_module": "@jupyter-widgets/controls",
            "layout": "IPY_MODEL_21fd3e96ba684f2faece32afc05e7645"
          }
        },
        "ca623568f9e74bbda90dd08b04648ba7": {
          "model_module": "@jupyter-widgets/controls",
          "model_name": "HTMLModel",
          "state": {
            "_view_name": "HTMLView",
            "style": "IPY_MODEL_2cc4e804d7f64915bdf56179900f43f2",
            "_dom_classes": [],
            "description": "",
            "_model_name": "HTMLModel",
            "placeholder": "​",
            "_view_module": "@jupyter-widgets/controls",
            "_model_module_version": "1.5.0",
            "value": " 436k/436k [03:59&lt;00:00, 1.82kB/s]",
            "_view_count": null,
            "_view_module_version": "1.5.0",
            "description_tooltip": null,
            "_model_module": "@jupyter-widgets/controls",
            "layout": "IPY_MODEL_686d869a63a4476e85cad55dfb0d00cd"
          }
        },
        "e4ca4704a118422d9b764174c698ebbe": {
          "model_module": "@jupyter-widgets/controls",
          "model_name": "ProgressStyleModel",
          "state": {
            "_view_name": "StyleView",
            "_model_name": "ProgressStyleModel",
            "description_width": "initial",
            "_view_module": "@jupyter-widgets/base",
            "_model_module_version": "1.5.0",
            "_view_count": null,
            "_view_module_version": "1.2.0",
            "bar_color": null,
            "_model_module": "@jupyter-widgets/controls"
          }
        },
        "21fd3e96ba684f2faece32afc05e7645": {
          "model_module": "@jupyter-widgets/base",
          "model_name": "LayoutModel",
          "state": {
            "_view_name": "LayoutView",
            "grid_template_rows": null,
            "right": null,
            "justify_content": null,
            "_view_module": "@jupyter-widgets/base",
            "overflow": null,
            "_model_module_version": "1.2.0",
            "_view_count": null,
            "flex_flow": null,
            "width": null,
            "min_width": null,
            "border": null,
            "align_items": null,
            "bottom": null,
            "_model_module": "@jupyter-widgets/base",
            "top": null,
            "grid_column": null,
            "overflow_y": null,
            "overflow_x": null,
            "grid_auto_flow": null,
            "grid_area": null,
            "grid_template_columns": null,
            "flex": null,
            "_model_name": "LayoutModel",
            "justify_items": null,
            "grid_row": null,
            "max_height": null,
            "align_content": null,
            "visibility": null,
            "align_self": null,
            "height": null,
            "min_height": null,
            "padding": null,
            "grid_auto_rows": null,
            "grid_gap": null,
            "max_width": null,
            "order": null,
            "_view_module_version": "1.2.0",
            "grid_template_areas": null,
            "object_position": null,
            "object_fit": null,
            "grid_auto_columns": null,
            "margin": null,
            "display": null,
            "left": null
          }
        },
        "2cc4e804d7f64915bdf56179900f43f2": {
          "model_module": "@jupyter-widgets/controls",
          "model_name": "DescriptionStyleModel",
          "state": {
            "_view_name": "StyleView",
            "_model_name": "DescriptionStyleModel",
            "description_width": "",
            "_view_module": "@jupyter-widgets/base",
            "_model_module_version": "1.5.0",
            "_view_count": null,
            "_view_module_version": "1.2.0",
            "_model_module": "@jupyter-widgets/controls"
          }
        },
        "686d869a63a4476e85cad55dfb0d00cd": {
          "model_module": "@jupyter-widgets/base",
          "model_name": "LayoutModel",
          "state": {
            "_view_name": "LayoutView",
            "grid_template_rows": null,
            "right": null,
            "justify_content": null,
            "_view_module": "@jupyter-widgets/base",
            "overflow": null,
            "_model_module_version": "1.2.0",
            "_view_count": null,
            "flex_flow": null,
            "width": null,
            "min_width": null,
            "border": null,
            "align_items": null,
            "bottom": null,
            "_model_module": "@jupyter-widgets/base",
            "top": null,
            "grid_column": null,
            "overflow_y": null,
            "overflow_x": null,
            "grid_auto_flow": null,
            "grid_area": null,
            "grid_template_columns": null,
            "flex": null,
            "_model_name": "LayoutModel",
            "justify_items": null,
            "grid_row": null,
            "max_height": null,
            "align_content": null,
            "visibility": null,
            "align_self": null,
            "height": null,
            "min_height": null,
            "padding": null,
            "grid_auto_rows": null,
            "grid_gap": null,
            "max_width": null,
            "order": null,
            "_view_module_version": "1.2.0",
            "grid_template_areas": null,
            "object_position": null,
            "object_fit": null,
            "grid_auto_columns": null,
            "margin": null,
            "display": null,
            "left": null
          }
        },
        "f53558b1782449d3bc139570528e05a3": {
          "model_module": "@jupyter-widgets/controls",
          "model_name": "HBoxModel",
          "state": {
            "_view_name": "HBoxView",
            "_dom_classes": [],
            "_model_name": "HBoxModel",
            "_view_module": "@jupyter-widgets/controls",
            "_model_module_version": "1.5.0",
            "_view_count": null,
            "_view_module_version": "1.5.0",
            "box_style": "",
            "layout": "IPY_MODEL_9008ef184faf4ebc8e10cea942d1200d",
            "_model_module": "@jupyter-widgets/controls",
            "children": [
              "IPY_MODEL_d6f09a61e65c46989b04e6d2b9425347",
              "IPY_MODEL_91f265ff05354bffbe52236b9c0c871d"
            ]
          }
        },
        "9008ef184faf4ebc8e10cea942d1200d": {
          "model_module": "@jupyter-widgets/base",
          "model_name": "LayoutModel",
          "state": {
            "_view_name": "LayoutView",
            "grid_template_rows": null,
            "right": null,
            "justify_content": null,
            "_view_module": "@jupyter-widgets/base",
            "overflow": null,
            "_model_module_version": "1.2.0",
            "_view_count": null,
            "flex_flow": null,
            "width": null,
            "min_width": null,
            "border": null,
            "align_items": null,
            "bottom": null,
            "_model_module": "@jupyter-widgets/base",
            "top": null,
            "grid_column": null,
            "overflow_y": null,
            "overflow_x": null,
            "grid_auto_flow": null,
            "grid_area": null,
            "grid_template_columns": null,
            "flex": null,
            "_model_name": "LayoutModel",
            "justify_items": null,
            "grid_row": null,
            "max_height": null,
            "align_content": null,
            "visibility": null,
            "align_self": null,
            "height": null,
            "min_height": null,
            "padding": null,
            "grid_auto_rows": null,
            "grid_gap": null,
            "max_width": null,
            "order": null,
            "_view_module_version": "1.2.0",
            "grid_template_areas": null,
            "object_position": null,
            "object_fit": null,
            "grid_auto_columns": null,
            "margin": null,
            "display": null,
            "left": null
          }
        },
        "d6f09a61e65c46989b04e6d2b9425347": {
          "model_module": "@jupyter-widgets/controls",
          "model_name": "FloatProgressModel",
          "state": {
            "_view_name": "ProgressView",
            "style": "IPY_MODEL_1a966357bfc1410f88012d15d3d8b5eb",
            "_dom_classes": [],
            "description": "Downloading: 100%",
            "_model_name": "FloatProgressModel",
            "bar_style": "success",
            "max": 29,
            "_view_module": "@jupyter-widgets/controls",
            "_model_module_version": "1.5.0",
            "value": 29,
            "_view_count": null,
            "_view_module_version": "1.5.0",
            "orientation": "horizontal",
            "min": 0,
            "description_tooltip": null,
            "_model_module": "@jupyter-widgets/controls",
            "layout": "IPY_MODEL_07c899828be54a5890205cd1a3a29114"
          }
        },
        "91f265ff05354bffbe52236b9c0c871d": {
          "model_module": "@jupyter-widgets/controls",
          "model_name": "HTMLModel",
          "state": {
            "_view_name": "HTMLView",
            "style": "IPY_MODEL_c533ebdcf2fb47da8d4e0bf5f217ba1a",
            "_dom_classes": [],
            "description": "",
            "_model_name": "HTMLModel",
            "placeholder": "​",
            "_view_module": "@jupyter-widgets/controls",
            "_model_module_version": "1.5.0",
            "value": " 29.0/29.0 [00:30&lt;00:00, 1.06s/B]",
            "_view_count": null,
            "_view_module_version": "1.5.0",
            "description_tooltip": null,
            "_model_module": "@jupyter-widgets/controls",
            "layout": "IPY_MODEL_6dcc0f30b59b43e9acf07bb7ca78b59f"
          }
        },
        "1a966357bfc1410f88012d15d3d8b5eb": {
          "model_module": "@jupyter-widgets/controls",
          "model_name": "ProgressStyleModel",
          "state": {
            "_view_name": "StyleView",
            "_model_name": "ProgressStyleModel",
            "description_width": "initial",
            "_view_module": "@jupyter-widgets/base",
            "_model_module_version": "1.5.0",
            "_view_count": null,
            "_view_module_version": "1.2.0",
            "bar_color": null,
            "_model_module": "@jupyter-widgets/controls"
          }
        },
        "07c899828be54a5890205cd1a3a29114": {
          "model_module": "@jupyter-widgets/base",
          "model_name": "LayoutModel",
          "state": {
            "_view_name": "LayoutView",
            "grid_template_rows": null,
            "right": null,
            "justify_content": null,
            "_view_module": "@jupyter-widgets/base",
            "overflow": null,
            "_model_module_version": "1.2.0",
            "_view_count": null,
            "flex_flow": null,
            "width": null,
            "min_width": null,
            "border": null,
            "align_items": null,
            "bottom": null,
            "_model_module": "@jupyter-widgets/base",
            "top": null,
            "grid_column": null,
            "overflow_y": null,
            "overflow_x": null,
            "grid_auto_flow": null,
            "grid_area": null,
            "grid_template_columns": null,
            "flex": null,
            "_model_name": "LayoutModel",
            "justify_items": null,
            "grid_row": null,
            "max_height": null,
            "align_content": null,
            "visibility": null,
            "align_self": null,
            "height": null,
            "min_height": null,
            "padding": null,
            "grid_auto_rows": null,
            "grid_gap": null,
            "max_width": null,
            "order": null,
            "_view_module_version": "1.2.0",
            "grid_template_areas": null,
            "object_position": null,
            "object_fit": null,
            "grid_auto_columns": null,
            "margin": null,
            "display": null,
            "left": null
          }
        },
        "c533ebdcf2fb47da8d4e0bf5f217ba1a": {
          "model_module": "@jupyter-widgets/controls",
          "model_name": "DescriptionStyleModel",
          "state": {
            "_view_name": "StyleView",
            "_model_name": "DescriptionStyleModel",
            "description_width": "",
            "_view_module": "@jupyter-widgets/base",
            "_model_module_version": "1.5.0",
            "_view_count": null,
            "_view_module_version": "1.2.0",
            "_model_module": "@jupyter-widgets/controls"
          }
        },
        "6dcc0f30b59b43e9acf07bb7ca78b59f": {
          "model_module": "@jupyter-widgets/base",
          "model_name": "LayoutModel",
          "state": {
            "_view_name": "LayoutView",
            "grid_template_rows": null,
            "right": null,
            "justify_content": null,
            "_view_module": "@jupyter-widgets/base",
            "overflow": null,
            "_model_module_version": "1.2.0",
            "_view_count": null,
            "flex_flow": null,
            "width": null,
            "min_width": null,
            "border": null,
            "align_items": null,
            "bottom": null,
            "_model_module": "@jupyter-widgets/base",
            "top": null,
            "grid_column": null,
            "overflow_y": null,
            "overflow_x": null,
            "grid_auto_flow": null,
            "grid_area": null,
            "grid_template_columns": null,
            "flex": null,
            "_model_name": "LayoutModel",
            "justify_items": null,
            "grid_row": null,
            "max_height": null,
            "align_content": null,
            "visibility": null,
            "align_self": null,
            "height": null,
            "min_height": null,
            "padding": null,
            "grid_auto_rows": null,
            "grid_gap": null,
            "max_width": null,
            "order": null,
            "_view_module_version": "1.2.0",
            "grid_template_areas": null,
            "object_position": null,
            "object_fit": null,
            "grid_auto_columns": null,
            "margin": null,
            "display": null,
            "left": null
          }
        }
      }
    },
    "accelerator": "GPU"
  },
  "cells": [
    {
      "cell_type": "markdown",
      "metadata": {
        "id": "view-in-github",
        "colab_type": "text"
      },
      "source": [
        "<a href=\"https://colab.research.google.com/github/s-c-soma/deep_context_graph/blob/main/code/StatementChecker_KnowledgeGraph.ipynb\" target=\"_parent\"><img src=\"https://colab.research.google.com/assets/colab-badge.svg\" alt=\"Open In Colab\"/></a>"
      ]
    },
    {
      "cell_type": "markdown",
      "metadata": {
        "id": "Rx7gmnkznLmk"
      },
      "source": [
        "# Two variation: \n",
        "1. summarize ->graph :: .buildGraph(.summarize(text))\n",
        "2. distillation -> graph :: .buildGraph(.distill(text))\n"
      ]
    },
    {
      "cell_type": "markdown",
      "metadata": {
        "id": "qbLARzOqft-2"
      },
      "source": [
        "# **Env Setup**\n"
      ]
    },
    {
      "cell_type": "code",
      "metadata": {
        "id": "diQAzNIjGxqN",
        "colab": {
          "base_uri": "https://localhost:8080/"
        },
        "outputId": "47101e64-36f7-4ce9-9f94-4a612206b5cd"
      },
      "source": [
        "\n",
        "\n",
        "# Mount google drive\n",
        "from google.colab import drive\n",
        "drive.mount('/content/drive',force_remount=False)\n",
        "\n",
        "\n",
        "# create folder to write data to\n",
        "#CIS545_FOLDER=os.path.join(DRIVE_MOUNT, 'My Drive', 'CIS545_2020')\n",
        "#HOMEWORK_FOLDER=os.path.join(CIS545_FOLDER, 'Project')\n",
        "#os.makedirs(HOMEWORK_FOLDER, exist_ok=True)"
      ],
      "execution_count": 48,
      "outputs": [
        {
          "output_type": "stream",
          "text": [
            "Mounted at /content/drive\n"
          ],
          "name": "stdout"
        }
      ]
    },
    {
      "cell_type": "code",
      "metadata": {
        "id": "_BFPSZ4QWG5W",
        "colab": {
          "base_uri": "https://localhost:8080/"
        },
        "outputId": "6c2b7170-811e-4a14-8536-5b06426276db"
      },
      "source": [
        "!ls '/content/drive/Shared drives/1DeepContextGraph/1DeepContextGraph'"
      ],
      "execution_count": null,
      "outputs": [
        {
          "output_type": "stream",
          "text": [
            "code  documents\n"
          ],
          "name": "stdout"
        }
      ]
    },
    {
      "cell_type": "code",
      "metadata": {
        "id": "pYTBhUSrWxL-"
      },
      "source": [
        "file_path = '/content/drive/Shared drives/1DeepContextGraph/1DeepContextGraph/code/data/'"
      ],
      "execution_count": 49,
      "outputs": []
    },
    {
      "cell_type": "markdown",
      "metadata": {
        "id": "Rahs7nD9y1Yd"
      },
      "source": [
        "# Library"
      ]
    },
    {
      "cell_type": "code",
      "metadata": {
        "colab": {
          "base_uri": "https://localhost:8080/"
        },
        "id": "zKHChq0e8x8k",
        "outputId": "d95ca397-5150-42ac-bcf9-83c026cdde97"
      },
      "source": [
        "!pip install sentence-transformers"
      ],
      "execution_count": 1,
      "outputs": [
        {
          "output_type": "stream",
          "text": [
            "Collecting sentence-transformers\n",
            "\u001b[?25l  Downloading https://files.pythonhosted.org/packages/c4/87/49dc49e13ac107ce912c2f3f3fd92252c6d4221e88d1e6c16747044a11d8/sentence-transformers-1.1.0.tar.gz (78kB)\n",
            "\u001b[K     |████████████████████████████████| 81kB 6.5MB/s \n",
            "\u001b[?25hCollecting transformers<5.0.0,>=3.1.0\n",
            "\u001b[?25l  Downloading https://files.pythonhosted.org/packages/d8/b2/57495b5309f09fa501866e225c84532d1fd89536ea62406b2181933fb418/transformers-4.5.1-py3-none-any.whl (2.1MB)\n",
            "\u001b[K     |████████████████████████████████| 2.1MB 9.0MB/s \n",
            "\u001b[?25hRequirement already satisfied: tqdm in /usr/local/lib/python3.7/dist-packages (from sentence-transformers) (4.41.1)\n",
            "Requirement already satisfied: torch>=1.6.0 in /usr/local/lib/python3.7/dist-packages (from sentence-transformers) (1.8.1+cu101)\n",
            "Requirement already satisfied: numpy in /usr/local/lib/python3.7/dist-packages (from sentence-transformers) (1.19.5)\n",
            "Requirement already satisfied: scikit-learn in /usr/local/lib/python3.7/dist-packages (from sentence-transformers) (0.22.2.post1)\n",
            "Requirement already satisfied: scipy in /usr/local/lib/python3.7/dist-packages (from sentence-transformers) (1.4.1)\n",
            "Requirement already satisfied: nltk in /usr/local/lib/python3.7/dist-packages (from sentence-transformers) (3.2.5)\n",
            "Collecting sentencepiece\n",
            "\u001b[?25l  Downloading https://files.pythonhosted.org/packages/f5/99/e0808cb947ba10f575839c43e8fafc9cc44e4a7a2c8f79c60db48220a577/sentencepiece-0.1.95-cp37-cp37m-manylinux2014_x86_64.whl (1.2MB)\n",
            "\u001b[K     |████████████████████████████████| 1.2MB 56.5MB/s \n",
            "\u001b[?25hCollecting sacremoses\n",
            "\u001b[?25l  Downloading https://files.pythonhosted.org/packages/75/ee/67241dc87f266093c533a2d4d3d69438e57d7a90abb216fa076e7d475d4a/sacremoses-0.0.45-py3-none-any.whl (895kB)\n",
            "\u001b[K     |████████████████████████████████| 901kB 61.0MB/s \n",
            "\u001b[?25hCollecting tokenizers<0.11,>=0.10.1\n",
            "\u001b[?25l  Downloading https://files.pythonhosted.org/packages/ae/04/5b870f26a858552025a62f1649c20d29d2672c02ff3c3fb4c688ca46467a/tokenizers-0.10.2-cp37-cp37m-manylinux2010_x86_64.whl (3.3MB)\n",
            "\u001b[K     |████████████████████████████████| 3.3MB 60.2MB/s \n",
            "\u001b[?25hRequirement already satisfied: packaging in /usr/local/lib/python3.7/dist-packages (from transformers<5.0.0,>=3.1.0->sentence-transformers) (20.9)\n",
            "Requirement already satisfied: requests in /usr/local/lib/python3.7/dist-packages (from transformers<5.0.0,>=3.1.0->sentence-transformers) (2.23.0)\n",
            "Requirement already satisfied: importlib-metadata; python_version < \"3.8\" in /usr/local/lib/python3.7/dist-packages (from transformers<5.0.0,>=3.1.0->sentence-transformers) (3.10.1)\n",
            "Requirement already satisfied: filelock in /usr/local/lib/python3.7/dist-packages (from transformers<5.0.0,>=3.1.0->sentence-transformers) (3.0.12)\n",
            "Requirement already satisfied: regex!=2019.12.17 in /usr/local/lib/python3.7/dist-packages (from transformers<5.0.0,>=3.1.0->sentence-transformers) (2019.12.20)\n",
            "Requirement already satisfied: typing-extensions in /usr/local/lib/python3.7/dist-packages (from torch>=1.6.0->sentence-transformers) (3.7.4.3)\n",
            "Requirement already satisfied: joblib>=0.11 in /usr/local/lib/python3.7/dist-packages (from scikit-learn->sentence-transformers) (1.0.1)\n",
            "Requirement already satisfied: six in /usr/local/lib/python3.7/dist-packages (from nltk->sentence-transformers) (1.15.0)\n",
            "Requirement already satisfied: click in /usr/local/lib/python3.7/dist-packages (from sacremoses->transformers<5.0.0,>=3.1.0->sentence-transformers) (7.1.2)\n",
            "Requirement already satisfied: pyparsing>=2.0.2 in /usr/local/lib/python3.7/dist-packages (from packaging->transformers<5.0.0,>=3.1.0->sentence-transformers) (2.4.7)\n",
            "Requirement already satisfied: urllib3!=1.25.0,!=1.25.1,<1.26,>=1.21.1 in /usr/local/lib/python3.7/dist-packages (from requests->transformers<5.0.0,>=3.1.0->sentence-transformers) (1.24.3)\n",
            "Requirement already satisfied: idna<3,>=2.5 in /usr/local/lib/python3.7/dist-packages (from requests->transformers<5.0.0,>=3.1.0->sentence-transformers) (2.10)\n",
            "Requirement already satisfied: chardet<4,>=3.0.2 in /usr/local/lib/python3.7/dist-packages (from requests->transformers<5.0.0,>=3.1.0->sentence-transformers) (3.0.4)\n",
            "Requirement already satisfied: certifi>=2017.4.17 in /usr/local/lib/python3.7/dist-packages (from requests->transformers<5.0.0,>=3.1.0->sentence-transformers) (2020.12.5)\n",
            "Requirement already satisfied: zipp>=0.5 in /usr/local/lib/python3.7/dist-packages (from importlib-metadata; python_version < \"3.8\"->transformers<5.0.0,>=3.1.0->sentence-transformers) (3.4.1)\n",
            "Building wheels for collected packages: sentence-transformers\n",
            "  Building wheel for sentence-transformers (setup.py) ... \u001b[?25l\u001b[?25hdone\n",
            "  Created wheel for sentence-transformers: filename=sentence_transformers-1.1.0-cp37-none-any.whl size=119615 sha256=1b893d2b89733698fd6761a109ba03e03a84680345fd817fb40339ffa1101bb6\n",
            "  Stored in directory: /root/.cache/pip/wheels/84/cb/21/1066bff3027215c760ca14a198f698bca8fccb92e33e2327eb\n",
            "Successfully built sentence-transformers\n",
            "Installing collected packages: sacremoses, tokenizers, transformers, sentencepiece, sentence-transformers\n",
            "Successfully installed sacremoses-0.0.45 sentence-transformers-1.1.0 sentencepiece-0.1.95 tokenizers-0.10.2 transformers-4.5.1\n"
          ],
          "name": "stdout"
        }
      ]
    },
    {
      "cell_type": "code",
      "metadata": {
        "colab": {
          "base_uri": "https://localhost:8080/"
        },
        "id": "WnpavPOi8-wJ",
        "outputId": "d7d6e028-4f67-40db-c60d-1118a19af0b8"
      },
      "source": [
        "!pip install LexRank"
      ],
      "execution_count": 2,
      "outputs": [
        {
          "output_type": "stream",
          "text": [
            "Collecting LexRank\n",
            "\u001b[?25l  Downloading https://files.pythonhosted.org/packages/e1/25/f139d8526e014b6bf6021305492cd7ccffbfa10999802fce4813808b04e4/lexrank-0.1.0-py3-none-any.whl (69kB)\n",
            "\r\u001b[K     |████▊                           | 10kB 17.1MB/s eta 0:00:01\r\u001b[K     |█████████▍                      | 20kB 24.4MB/s eta 0:00:01\r\u001b[K     |██████████████                  | 30kB 26.1MB/s eta 0:00:01\r\u001b[K     |██████████████████▊             | 40kB 18.9MB/s eta 0:00:01\r\u001b[K     |███████████████████████▌        | 51kB 18.5MB/s eta 0:00:01\r\u001b[K     |████████████████████████████▏   | 61kB 15.7MB/s eta 0:00:01\r\u001b[K     |████████████████████████████████| 71kB 6.5MB/s \n",
            "\u001b[?25hRequirement already satisfied: regex>=2017.11.9 in /usr/local/lib/python3.7/dist-packages (from LexRank) (2019.12.20)\n",
            "Requirement already satisfied: scipy>=0.19.0 in /usr/local/lib/python3.7/dist-packages (from LexRank) (1.4.1)\n",
            "Requirement already satisfied: pyrsistent>=0.14.0 in /usr/local/lib/python3.7/dist-packages (from LexRank) (0.17.3)\n",
            "Requirement already satisfied: numpy>=1.13.3 in /usr/local/lib/python3.7/dist-packages (from LexRank) (1.19.5)\n",
            "Collecting urlextract>=0.7\n",
            "  Downloading https://files.pythonhosted.org/packages/c3/24/0f5c690a4ef9b5d30845517ef14c35ce6a3d96e5b0ae0db6895bb194ab10/urlextract-1.2.0-py3-none-any.whl\n",
            "Collecting path.py>=10.5\n",
            "  Downloading https://files.pythonhosted.org/packages/8f/04/130b7a538c25693c85c4dee7e25d126ebf5511b1eb7320e64906687b159e/path.py-12.5.0-py3-none-any.whl\n",
            "Requirement already satisfied: idna in /usr/local/lib/python3.7/dist-packages (from urlextract>=0.7->LexRank) (2.10)\n",
            "Collecting uritools\n",
            "  Downloading https://files.pythonhosted.org/packages/3d/cf/b081118f4505e3092bfaad94d14b78ec8344976cea142ed767b240cbf243/uritools-3.0.1-py3-none-any.whl\n",
            "Requirement already satisfied: appdirs in /usr/local/lib/python3.7/dist-packages (from urlextract>=0.7->LexRank) (1.4.4)\n",
            "Requirement already satisfied: filelock in /usr/local/lib/python3.7/dist-packages (from urlextract>=0.7->LexRank) (3.0.12)\n",
            "Collecting path\n",
            "  Downloading https://files.pythonhosted.org/packages/d3/2a/b0f97e1b736725f6ec48a8bd564ee1d1f3f945bb5d39cb44ef8bbe66bd14/path-15.1.2-py3-none-any.whl\n",
            "Installing collected packages: uritools, urlextract, path, path.py, LexRank\n",
            "Successfully installed LexRank-0.1.0 path-15.1.2 path.py-12.5.0 uritools-3.0.1 urlextract-1.2.0\n"
          ],
          "name": "stdout"
        }
      ]
    },
    {
      "cell_type": "code",
      "metadata": {
        "colab": {
          "base_uri": "https://localhost:8080/"
        },
        "id": "S2EgFlRXsVsA",
        "outputId": "e40ce241-4ce4-402a-d223-a5adf6fac82f"
      },
      "source": [
        "!python -m spacy download en_core_web_sm"
      ],
      "execution_count": 3,
      "outputs": [
        {
          "output_type": "stream",
          "text": [
            "Requirement already satisfied: en_core_web_sm==2.2.5 from https://github.com/explosion/spacy-models/releases/download/en_core_web_sm-2.2.5/en_core_web_sm-2.2.5.tar.gz#egg=en_core_web_sm==2.2.5 in /usr/local/lib/python3.7/dist-packages (2.2.5)\n",
            "Requirement already satisfied: spacy>=2.2.2 in /usr/local/lib/python3.7/dist-packages (from en_core_web_sm==2.2.5) (2.2.4)\n",
            "Requirement already satisfied: wasabi<1.1.0,>=0.4.0 in /usr/local/lib/python3.7/dist-packages (from spacy>=2.2.2->en_core_web_sm==2.2.5) (0.8.2)\n",
            "Requirement already satisfied: srsly<1.1.0,>=1.0.2 in /usr/local/lib/python3.7/dist-packages (from spacy>=2.2.2->en_core_web_sm==2.2.5) (1.0.5)\n",
            "Requirement already satisfied: plac<1.2.0,>=0.9.6 in /usr/local/lib/python3.7/dist-packages (from spacy>=2.2.2->en_core_web_sm==2.2.5) (1.1.3)\n",
            "Requirement already satisfied: murmurhash<1.1.0,>=0.28.0 in /usr/local/lib/python3.7/dist-packages (from spacy>=2.2.2->en_core_web_sm==2.2.5) (1.0.5)\n",
            "Requirement already satisfied: blis<0.5.0,>=0.4.0 in /usr/local/lib/python3.7/dist-packages (from spacy>=2.2.2->en_core_web_sm==2.2.5) (0.4.1)\n",
            "Requirement already satisfied: cymem<2.1.0,>=2.0.2 in /usr/local/lib/python3.7/dist-packages (from spacy>=2.2.2->en_core_web_sm==2.2.5) (2.0.5)\n",
            "Requirement already satisfied: requests<3.0.0,>=2.13.0 in /usr/local/lib/python3.7/dist-packages (from spacy>=2.2.2->en_core_web_sm==2.2.5) (2.23.0)\n",
            "Requirement already satisfied: tqdm<5.0.0,>=4.38.0 in /usr/local/lib/python3.7/dist-packages (from spacy>=2.2.2->en_core_web_sm==2.2.5) (4.41.1)\n",
            "Requirement already satisfied: setuptools in /usr/local/lib/python3.7/dist-packages (from spacy>=2.2.2->en_core_web_sm==2.2.5) (56.0.0)\n",
            "Requirement already satisfied: preshed<3.1.0,>=3.0.2 in /usr/local/lib/python3.7/dist-packages (from spacy>=2.2.2->en_core_web_sm==2.2.5) (3.0.5)\n",
            "Requirement already satisfied: thinc==7.4.0 in /usr/local/lib/python3.7/dist-packages (from spacy>=2.2.2->en_core_web_sm==2.2.5) (7.4.0)\n",
            "Requirement already satisfied: numpy>=1.15.0 in /usr/local/lib/python3.7/dist-packages (from spacy>=2.2.2->en_core_web_sm==2.2.5) (1.19.5)\n",
            "Requirement already satisfied: catalogue<1.1.0,>=0.0.7 in /usr/local/lib/python3.7/dist-packages (from spacy>=2.2.2->en_core_web_sm==2.2.5) (1.0.0)\n",
            "Requirement already satisfied: chardet<4,>=3.0.2 in /usr/local/lib/python3.7/dist-packages (from requests<3.0.0,>=2.13.0->spacy>=2.2.2->en_core_web_sm==2.2.5) (3.0.4)\n",
            "Requirement already satisfied: idna<3,>=2.5 in /usr/local/lib/python3.7/dist-packages (from requests<3.0.0,>=2.13.0->spacy>=2.2.2->en_core_web_sm==2.2.5) (2.10)\n",
            "Requirement already satisfied: urllib3!=1.25.0,!=1.25.1,<1.26,>=1.21.1 in /usr/local/lib/python3.7/dist-packages (from requests<3.0.0,>=2.13.0->spacy>=2.2.2->en_core_web_sm==2.2.5) (1.24.3)\n",
            "Requirement already satisfied: certifi>=2017.4.17 in /usr/local/lib/python3.7/dist-packages (from requests<3.0.0,>=2.13.0->spacy>=2.2.2->en_core_web_sm==2.2.5) (2020.12.5)\n",
            "Requirement already satisfied: importlib-metadata>=0.20; python_version < \"3.8\" in /usr/local/lib/python3.7/dist-packages (from catalogue<1.1.0,>=0.0.7->spacy>=2.2.2->en_core_web_sm==2.2.5) (3.10.1)\n",
            "Requirement already satisfied: zipp>=0.5 in /usr/local/lib/python3.7/dist-packages (from importlib-metadata>=0.20; python_version < \"3.8\"->catalogue<1.1.0,>=0.0.7->spacy>=2.2.2->en_core_web_sm==2.2.5) (3.4.1)\n",
            "Requirement already satisfied: typing-extensions>=3.6.4; python_version < \"3.8\" in /usr/local/lib/python3.7/dist-packages (from importlib-metadata>=0.20; python_version < \"3.8\"->catalogue<1.1.0,>=0.0.7->spacy>=2.2.2->en_core_web_sm==2.2.5) (3.7.4.3)\n",
            "\u001b[38;5;2m✔ Download and installation successful\u001b[0m\n",
            "You can now load the model via spacy.load('en_core_web_sm')\n"
          ],
          "name": "stdout"
        }
      ]
    },
    {
      "cell_type": "code",
      "metadata": {
        "id": "DeeYtkOS-MXU"
      },
      "source": [
        "#import lexrank.degree_centrality_scores\n",
        "\n",
        "from lexrank import STOPWORDS, LexRank\n",
        "from path import Path\n"
      ],
      "execution_count": 4,
      "outputs": []
    },
    {
      "cell_type": "code",
      "metadata": {
        "id": "wIpGURz6ZkHi",
        "colab": {
          "base_uri": "https://localhost:8080/"
        },
        "outputId": "133eb33f-f347-44dd-901d-bd788f88acd5"
      },
      "source": [
        "import json\n",
        "import os\n",
        "# For caculating approximate time to process notebook (IGNORE)\n",
        "import datetime\n",
        "datetime.datetime.now()\n",
        "import argparse\n",
        "import pandas as pd\n",
        "import numpy as np\n",
        "import operator\n",
        "import pickle as pkl \n",
        "import matplotlib.pyplot as plt\n",
        "import nltk as nl\n",
        "from nltk.sentiment.vader import SentimentIntensityAnalyzer\n",
        "from sklearn.model_selection import ParameterGrid\n",
        "import statistics\n",
        "import random\n",
        "import warnings\n",
        "from string import punctuation\n",
        "from matplotlib import pyplot\n",
        "from pandas import Series, datetime\n",
        "from pandas.plotting import scatter_matrix, autocorrelation_plot\n",
        "from sklearn.preprocessing import StandardScaler\n",
        "from sklearn.model_selection import train_test_split, KFold, cross_val_score, GridSearchCV, TimeSeriesSplit\n",
        "from sklearn.metrics import classification_report, confusion_matrix, accuracy_score, mean_squared_error\n",
        "from sklearn.pipeline import Pipeline\n",
        "from sklearn.linear_model import LogisticRegression\n",
        "from sklearn.tree import DecisionTreeClassifier\n",
        "from sklearn.neighbors import KNeighborsClassifier\n",
        "from sklearn.discriminant_analysis import LinearDiscriminantAnalysis\n",
        "from sklearn.naive_bayes import GaussianNB\n",
        "from sklearn.svm import SVC\n",
        "from sklearn.ensemble import AdaBoostClassifier, GradientBoostingClassifier, RandomForestClassifier, ExtraTreesClassifier\n",
        "from sklearn.metrics import roc_curve, auc\n",
        "from sklearn.feature_extraction.text import CountVectorizer\n",
        "from xgboost import XGBClassifier\n",
        "from sklearn.naive_bayes import MultinomialNB\n",
        "from spacy import displacy \n",
        "import nltk\n",
        "import re\n",
        "import io\n",
        "import requests\n",
        "import time\n",
        "import gensim\n",
        "from nltk.stem.wordnet import WordNetLemmatizer\n",
        "from nltk.corpus import stopwords\n",
        "from string import punctuation\n",
        "import nltk.sentiment\n",
        "from sentence_transformers import SentenceTransformer, util\n",
        "import numpy as np\n",
        "import spacy\n",
        "from spacy.lang.en import English\n",
        "import networkx as nx\n",
        "import matplotlib.pyplot as plt\n",
        "from nltk.tokenize import word_tokenize, sent_tokenize\n",
        "\n",
        "nltk.download('punkt')\n",
        "nltk.download('stopwords')\n",
        "nltk.download('averaged_perceptron_tagger')\n",
        "nltk.download('punkt')\n",
        "nltk.download('wordnet')\n",
        "nltk.download('vader_lexicon')"
      ],
      "execution_count": 5,
      "outputs": [
        {
          "output_type": "stream",
          "text": [
            "/usr/local/lib/python3.7/dist-packages/nltk/twitter/__init__.py:20: UserWarning: The twython library has not been installed. Some functionality from the twitter package will not be available.\n",
            "  warnings.warn(\"The twython library has not been installed. \"\n",
            "/usr/local/lib/python3.7/dist-packages/ipykernel_launcher.py:20: FutureWarning: The pandas.datetime class is deprecated and will be removed from pandas in a future version. Import from datetime module instead.\n"
          ],
          "name": "stderr"
        },
        {
          "output_type": "stream",
          "text": [
            "[nltk_data] Downloading package punkt to /root/nltk_data...\n",
            "[nltk_data]   Unzipping tokenizers/punkt.zip.\n",
            "[nltk_data] Downloading package stopwords to /root/nltk_data...\n",
            "[nltk_data]   Unzipping corpora/stopwords.zip.\n",
            "[nltk_data] Downloading package averaged_perceptron_tagger to\n",
            "[nltk_data]     /root/nltk_data...\n",
            "[nltk_data]   Unzipping taggers/averaged_perceptron_tagger.zip.\n",
            "[nltk_data] Downloading package punkt to /root/nltk_data...\n",
            "[nltk_data]   Package punkt is already up-to-date!\n",
            "[nltk_data] Downloading package wordnet to /root/nltk_data...\n",
            "[nltk_data]   Unzipping corpora/wordnet.zip.\n",
            "[nltk_data] Downloading package vader_lexicon to /root/nltk_data...\n"
          ],
          "name": "stdout"
        },
        {
          "output_type": "execute_result",
          "data": {
            "text/plain": [
              "True"
            ]
          },
          "metadata": {
            "tags": []
          },
          "execution_count": 5
        }
      ]
    },
    {
      "cell_type": "markdown",
      "metadata": {
        "id": "qla-L-vEyPe4"
      },
      "source": [
        "# Load Data"
      ]
    },
    {
      "cell_type": "code",
      "metadata": {
        "id": "zklda03cyYgP"
      },
      "source": [
        "data_fox_claim = pd.read_csv(file_path+'/fox_claim_news_processed.csv',low_memory=False)\n",
        "#data_all_news = pd.read_csv(file_path+'/statement_checker_all.csv',low_memory=False)\n",
        "data_polifact = pd.read_csv(file_path+'/political_fact_checker_processed.csv',low_memory=False)\n"
      ],
      "execution_count": 7,
      "outputs": []
    },
    {
      "cell_type": "code",
      "metadata": {
        "colab": {
          "base_uri": "https://localhost:8080/"
        },
        "id": "_cgt3SqP0hY9",
        "outputId": "ae33ddb3-f8ad-426c-f22a-8fd932f9a426"
      },
      "source": [
        "data_fox_claim.columns"
      ],
      "execution_count": 8,
      "outputs": [
        {
          "output_type": "execute_result",
          "data": {
            "text/plain": [
              "Index(['Unnamed: 0', 'Unnamed: 0.1', 'link', 'published', 'title', 'text',\n",
              "       'site', 'text_distilled', 'topics', 'named_entity_recognition',\n",
              "       'top_10_freq_word', 'pasts_of_speech'],\n",
              "      dtype='object')"
            ]
          },
          "metadata": {
            "tags": []
          },
          "execution_count": 8
        }
      ]
    },
    {
      "cell_type": "code",
      "metadata": {
        "colab": {
          "base_uri": "https://localhost:8080/"
        },
        "id": "75927YU6lUO2",
        "outputId": "560601e8-fa98-4e4d-ef76-30cd8a57990d"
      },
      "source": [
        "data_polifact.columns"
      ],
      "execution_count": 9,
      "outputs": [
        {
          "output_type": "execute_result",
          "data": {
            "text/plain": [
              "Index(['Unnamed: 0', 'Unnamed: 0.1', 'sources', 'urls', 'title', 'summaries',\n",
              "       'dates', 'ratings', 'text', 'authors', 'publishdate', 'relatedlinks',\n",
              "       'claims', 'text_distilled', 'topics', 'named_entity_recognition',\n",
              "       'top_10_freq_word', 'pasts_of_speech'],\n",
              "      dtype='object')"
            ]
          },
          "metadata": {
            "tags": []
          },
          "execution_count": 9
        }
      ]
    },
    {
      "cell_type": "code",
      "metadata": {
        "colab": {
          "base_uri": "https://localhost:8080/"
        },
        "id": "cJp0grVSkij1",
        "outputId": "87acd34a-76dd-44e8-a0b7-fa7e68e7b64b"
      },
      "source": [
        "data_fox_claim['Unnamed: 0'][1]"
      ],
      "execution_count": 10,
      "outputs": [
        {
          "output_type": "execute_result",
          "data": {
            "text/plain": [
              "1"
            ]
          },
          "metadata": {
            "tags": []
          },
          "execution_count": 10
        }
      ]
    },
    {
      "cell_type": "code",
      "metadata": {
        "id": "b97W8RmnlF-E"
      },
      "source": [
        "data_fox_claim = data_fox_claim.rename({'Unnamed: 0': 'documentId'}, axis='columns')\n",
        "data_polifact = data_polifact.rename({'Unnamed: 0': 'documentId'}, axis='columns')"
      ],
      "execution_count": 11,
      "outputs": []
    },
    {
      "cell_type": "markdown",
      "metadata": {
        "id": "f5BuIUfZ1X5g"
      },
      "source": [
        "# Methods"
      ]
    },
    {
      "cell_type": "markdown",
      "metadata": {
        "id": "K9zg6DzVyV1Q"
      },
      "source": [
        "## Lemmatization\n",
        "  \n",
        "First, the raw words must be converted to root forms.  "
      ]
    },
    {
      "cell_type": "code",
      "metadata": {
        "id": "Qs9YyZ8WygUo"
      },
      "source": [
        "def lemmatize(tokenized_words):\n",
        "  text = [nltk.WordNetLemmatizer().lemmatize(word) for word in tokenized_words]\n",
        "  return text\n"
      ],
      "execution_count": 12,
      "outputs": []
    },
    {
      "cell_type": "markdown",
      "metadata": {
        "id": "CRnq7Orw5sSW"
      },
      "source": [
        "## Removing Stop words\n",
        "\n"
      ]
    },
    {
      "cell_type": "code",
      "metadata": {
        "id": "7axUBcsp5yXD"
      },
      "source": [
        "english_stopwords = set(stopwords.words('english') + list(punctuation) + [''])\n",
        "\n",
        "def remove_stopwords(tokenized_words):\n",
        "  text = [word for word in tokenized_words if word not in english_stopwords]\n",
        "  return text\n"
      ],
      "execution_count": 13,
      "outputs": []
    },
    {
      "cell_type": "markdown",
      "metadata": {
        "id": "ejCglovYHwyb"
      },
      "source": [
        "## Custom Filtering\n",
        "\n",
        "Some of the one or two-letter words from the tokenized words are also removed to further cleanse the raw text. "
      ]
    },
    {
      "cell_type": "code",
      "metadata": {
        "id": "Z9ujoC42HwGM"
      },
      "source": [
        "whitelist = set(['ai', 'ax', 'ca', 'eu', 'go', 'io', 'la', 'ox', 'us', 'uk', \n",
        "                 'al', 'ak', 'az', 'ar', 'ca', 'co', 'ct', 'de', 'fl', 'ga', 'hi', \n",
        "                 'id', 'il', 'in', 'ia', 'ks', 'ky', 'la', 'me', 'md', 'ma', 'mi',\n",
        "                 'mn', 'ms', 'mo', 'mt', 'ne', 'nv', 'nh', 'nj', 'nm', 'ny',\n",
        "                 'nc', 'nd', 'oh', 'ok', 'or', 'pa', 'ri', 'sc', 'sd', 'tn',\n",
        "                 'tx', 'ut', 'vt', 'va', 'wa', 'wv', 'wi', 'wy' ])\n",
        "def remove_too_short(tokenized_words):\n",
        "  text = [word for word in tokenized_words if (len(word) >= 3 or word not in whitelist) ]\n",
        "  return text"
      ],
      "execution_count": 14,
      "outputs": []
    },
    {
      "cell_type": "markdown",
      "metadata": {
        "id": "DGmEhyrkC0e5"
      },
      "source": [
        "## LDA Analysis\n"
      ]
    },
    {
      "cell_type": "code",
      "metadata": {
        "id": "M7Fdvch1EjQ4"
      },
      "source": [
        "from gensim.models.ldamodel import LdaModel\n",
        "from gensim.corpora import Dictionary\n",
        "\n",
        "def topics(tokenized_words):\n",
        "    d = Dictionary([tokenized_words])\n",
        "    c = [d.doc2bow(tokenized_words)]\n",
        "    m = LdaModel(c, num_topics=1, id2word=d)\n",
        "    return list(m.print_topics(num_words=2))\n",
        "  \n"
      ],
      "execution_count": 15,
      "outputs": []
    },
    {
      "cell_type": "markdown",
      "metadata": {
        "id": "ze4YTpBLultl"
      },
      "source": [
        "## Topics as Simple List of Words\n",
        "\n",
        "A list of topic terms is compiled as show below. The coefficients in front of each word are dropped as part of simplification. The assumption is that the top two words comprising the topic, are both significant enough to be treated equally. It is important that the goal is to build a reliable prediction model. While there is a risk of oversimplification, if the final model results in a poor accuracy score, the coefficient can always be reintroduced here."
      ]
    },
    {
      "cell_type": "code",
      "metadata": {
        "id": "a1fxmdcyuqoB"
      },
      "source": [
        "def parseTopics(topics):\n",
        "   output = []\n",
        "   words = topics[0][1].split( '+' )\n",
        "   for word in words:\n",
        "       output.append( word.split('*')[1].replace( '\"', '' ) )\n",
        "   return output"
      ],
      "execution_count": 16,
      "outputs": []
    },
    {
      "cell_type": "markdown",
      "metadata": {
        "id": "WhDGJBUxpbMC"
      },
      "source": [
        "# Information extraction and knowledge graphs\n",
        "\n",
        "* https://programmerbackpack.com/python-nlp-tutorial-information-extraction-and-knowledge-graphs/\n",
        "* https://github.com/bdmarius/python-knowledge-graph"
      ]
    },
    {
      "cell_type": "markdown",
      "metadata": {
        "id": "fp3-5DIUxo-G"
      },
      "source": [
        "## Methods"
      ]
    },
    {
      "cell_type": "code",
      "metadata": {
        "id": "AGLiWdQHxbu3"
      },
      "source": [
        "def getSentences(text):\n",
        "    nlp = English()\n",
        "    nlp.add_pipe(nlp.create_pipe('sentencizer'))\n",
        "    document = nlp(text)\n",
        "    return [sent.string.strip() for sent in document.sents]\n",
        "\n",
        "def printToken(token):\n",
        "    print(token.text, \"->\", token.dep_)\n",
        "\n",
        "def appendChunk(original, chunk):\n",
        "    return original + ' ' + chunk\n",
        "\n",
        "def isRelationCandidate(token):\n",
        "    deps = [\"ROOT\", \"adj\", \"attr\", \"agent\", \"amod\"]\n",
        "    return any(subs in token.dep_ for subs in deps)\n",
        "\n",
        "def isConstructionCandidate(token):\n",
        "    deps = [\"compound\", \"prep\", \"conj\", \"mod\"]\n",
        "    return any(subs in token.dep_ for subs in deps)\n",
        "\n",
        "def processSubjectObjectPairs(tokens):\n",
        "    subject = ''\n",
        "    object = ''\n",
        "    relation = ''\n",
        "    subjectConstruction = ''\n",
        "    objectConstruction = ''\n",
        "    for token in tokens:\n",
        "        printToken(token)\n",
        "        if \"punct\" in token.dep_:\n",
        "            continue\n",
        "        if isRelationCandidate(token):\n",
        "            relation = appendChunk(relation, token.lemma_)\n",
        "        if isConstructionCandidate(token):\n",
        "            if subjectConstruction:\n",
        "                subjectConstruction = appendChunk(subjectConstruction, token.text)\n",
        "            if objectConstruction:\n",
        "                objectConstruction = appendChunk(objectConstruction, token.text)\n",
        "        if \"subj\" in token.dep_:\n",
        "            subject = appendChunk(subject, token.text)\n",
        "            subject = appendChunk(subjectConstruction, subject)\n",
        "            subjectConstruction = ''\n",
        "        if \"obj\" in token.dep_:\n",
        "            object = appendChunk(object, token.text)\n",
        "            object = appendChunk(objectConstruction, object)\n",
        "            objectConstruction = ''\n",
        "\n",
        "    print (subject.strip(), \",\", relation.strip(), \",\", object.strip())\n",
        "    return (subject.strip(), relation.strip(), object.strip())\n",
        "\n",
        "def processSentence(sentence):\n",
        "    tokens = nlp_model(sentence)\n",
        "    return processSubjectObjectPairs(tokens)\n",
        "\n",
        "def printGraph(triples):\n",
        "    G = nx.Graph()\n",
        "    for triple in triples:\n",
        "        G.add_node(triple[0])\n",
        "        G.add_node(triple[1])\n",
        "        G.add_node(triple[2])\n",
        "        G.add_edge(triple[0], triple[1])\n",
        "        G.add_edge(triple[1], triple[2])\n",
        "\n",
        "    pos = nx.spring_layout(G)\n",
        "    plt.figure(figsize=(8, 6), dpi=80)\n",
        "    nx.draw(G, pos, edge_color='black', width=1, linewidths=1,\n",
        "            node_size=500, node_color='seagreen', alpha=0.9,\n",
        "            labels={node: node for node in G.nodes()})\n",
        "    plt.axis('off')\n",
        "    plt.show()"
      ],
      "execution_count": 64,
      "outputs": []
    },
    {
      "cell_type": "markdown",
      "metadata": {
        "id": "Qj4I-nm51JdI"
      },
      "source": [
        "## Example and Experiment"
      ]
    },
    {
      "cell_type": "code",
      "metadata": {
        "id": "04VT_L4rxuQP"
      },
      "source": [
        "text = \"London is the capital and largest city of England and the United Kingdom. Standing on the River \" \\\n",
        "           \"Thames in the south-east of England, at the head of its 50-mile (80 km) estuary leading to \" \\\n",
        "           \"the North Sea, London has been a major settlement for two millennia. \" \\\n",
        "           \"Londinium was founded by the Romans. The City of London, \" \\\n",
        "           \"London's ancient core − an area of just 1.12 square miles (2.9 km2) and colloquially known as \" \\\n",
        "           \"the Square Mile − retains boundaries that follow closely its medieval limits.\" \\\n",
        "           \"The City of Westminster is also an Inner London borough holding city status. \" \\\n",
        "           \"Greater London is governed by the Mayor of London and the London Assembly.\" \\\n",
        "           \"London is located in the southeast of England.\" \\\n",
        "           \"Westminster is located in London.\" \\\n",
        "           \"London is the biggest city in Britain. London has a population of 7,172,036.\"\n"
      ],
      "execution_count": null,
      "outputs": []
    },
    {
      "cell_type": "code",
      "metadata": {
        "id": "jmF74bLKz1xH"
      },
      "source": [
        "body = \"\"\" The Chrysler Building, the famous art deco New York skyscraper, will be\n",
        " sold for a small fraction of its previous sales price. The building sold fairly \n",
        " quickly after being publicly placed on the market only two months ago. The incentive \n",
        " to sell the building at such a huge loss was due to the soaring rent the owners pay to \n",
        " Cooper Union, a New York college, for the land under the building.' Still the building is \n",
        "among the best known in the city, even to people who have never been to New York. \"\"\""
      ],
      "execution_count": 31,
      "outputs": []
    },
    {
      "cell_type": "code",
      "metadata": {
        "colab": {
          "base_uri": "https://localhost:8080/"
        },
        "id": "mc4gedTiz6Jw",
        "outputId": "7a6df4b8-fafc-4682-b3a1-10c3c9005028"
      },
      "source": [
        "body = summary\n",
        "sentences = getSentences(body)\n",
        "nlp_model = spacy.load('en_core_web_sm')\n",
        "\n",
        "triples = []\n",
        "#print (body)\n",
        "for sentence in sentences:\n",
        "  triples.append(processSentence(sentence))"
      ],
      "execution_count": 10,
      "outputs": [
        {
          "output_type": "stream",
          "text": [
            "In -> prep\n",
            "a -> det\n",
            "self -> npadvmod\n",
            "- -> punct\n",
            "published -> amod\n",
            "2015 -> nummod\n",
            "autobiography -> pobj\n",
            ", -> punct\n",
            "Mellon -> nsubj\n",
            "called -> ROOT\n",
            "social -> amod\n",
            "safety -> nmod\n",
            "net -> amod\n",
            "programs -> dobj\n",
            "“ -> punct\n",
            "Slavery -> compound\n",
            "Redux -> appos\n",
            ", -> punct\n",
            "” -> punct\n",
            "adding -> advcl\n",
            ": -> punct\n",
            "“ -> punct\n",
            "For -> prep\n",
            "delivering -> pcomp\n",
            "their -> poss\n",
            "votes -> dobj\n",
            "in -> prep\n",
            "the -> det\n",
            "Federal -> compound\n",
            "Elections -> pobj\n",
            ", -> punct\n",
            "they -> nsubjpass\n",
            "are -> auxpass\n",
            "awarded -> ccomp\n",
            "with -> prep\n",
            "yet -> advmod\n",
            "more -> amod\n",
            "and -> cc\n",
            "more -> conj\n",
            "freebies -> pobj\n",
            ": -> punct\n",
            "food -> compound\n",
            "stamps -> appos\n",
            ", -> punct\n",
            "cell -> compound\n",
            "phones -> conj\n",
            ", -> punct\n",
            "WIC -> compound\n",
            "payments -> conj\n",
            ", -> punct\n",
            "Obamacare -> conj\n",
            ", -> punct\n",
            "and -> cc\n",
            "on -> conj\n",
            ", -> punct\n",
            "and -> cc\n",
            "on -> conj\n",
            ", -> punct\n",
            "and -> cc\n",
            "on -> conj\n",
            ". -> punct\n",
            "Mellon they , publish call social net more , autobiography programs votes Elections freebies\n",
            "Advertisement -> nmod\n",
            "\n",
            "\n",
            " -> \n",
            "Story -> nsubj\n",
            "continues -> ROOT\n",
            "below -> prep\n",
            "advertisement -> pobj\n",
            "\n",
            "\n",
            " -> \n",
            "Mellon -> nsubj\n",
            "declined -> ROOT\n",
            "to -> aux\n",
            "comment -> xcomp\n",
            ". -> punct\n",
            "Story Mellon , continue decline , advertisement\n",
            "Mellon -> nsubj\n",
            ", -> punct\n",
            "who -> nsubj\n",
            "is -> relcl\n",
            "the -> det\n",
            "great -> amod\n",
            "- -> punct\n",
            "grandson -> attr\n",
            "of -> prep\n",
            "Mellon -> compound\n",
            "family -> compound\n",
            "patriarch -> pobj\n",
            "and -> cc\n",
            "banker -> conj\n",
            "Thomas -> compound\n",
            "Mellon -> conj\n",
            ", -> punct\n",
            "and -> cc\n",
            "grandson -> conj\n",
            "of -> prep\n",
            "Andrew -> compound\n",
            "W. -> compound\n",
            "Mellon -> pobj\n",
            ", -> punct\n",
            "the -> det\n",
            "former -> amod\n",
            "Treasury -> compound\n",
            "Department -> compound\n",
            "secretary -> appos\n",
            ", -> punct\n",
            "had -> aux\n",
            "given -> ROOT\n",
            "smaller -> amod\n",
            "amounts -> dobj\n",
            "to -> prep\n",
            "state -> nmod\n",
            "and -> cc\n",
            "federal -> conj\n",
            "GOP -> compound\n",
            "candidates -> pobj\n",
            "for -> prep\n",
            "years -> pobj\n",
            ", -> punct\n",
            "but -> cc\n",
            "ramped -> conj\n",
            "up -> prt\n",
            "his -> poss\n",
            "giving -> dobj\n",
            "under -> prep\n",
            "Trump -> pobj\n",
            ", -> punct\n",
            "campaign -> compound\n",
            "finance -> compound\n",
            "records -> compound\n",
            "show -> appos\n",
            ". -> punct\n",
            "Mellon who , great grandson former give small , patriarch Mellon amounts candidates years giving Trump\n",
            "Story -> nsubj\n",
            "continues -> ROOT\n",
            "below -> prep\n",
            "advertisement -> pobj\n",
            "\n",
            "\n",
            " -> \n",
            "He -> nsubj\n",
            "now -> advmod\n",
            "rivals -> ROOT\n",
            "other -> amod\n",
            "prominent -> amod\n",
            "donors -> dobj\n",
            "who -> nsubj\n",
            "have -> aux\n",
            "increased -> relcl\n",
            "their -> poss\n",
            "political -> amod\n",
            "giving -> dobj\n",
            "under -> prep\n",
            "Trump -> pobj\n",
            ", -> punct\n",
            "such -> amod\n",
            "as -> prep\n",
            "shipping -> compound\n",
            "supplies -> compound\n",
            "magnate -> compound\n",
            "Richard -> compound\n",
            "Uihlein -> pobj\n",
            "and -> cc\n",
            "Stephen -> compound\n",
            "Schwarzman -> conj\n",
            ", -> punct\n",
            "the -> det\n",
            "Blackstone -> compound\n",
            "chairman -> appos\n",
            "and -> cc\n",
            "chief -> amod\n",
            "executive -> conj\n",
            ". -> punct\n",
            "Story He who , continue rival other prominent political such chief , advertisement donors giving Trump Uihlein\n",
            "Black -> amod\n",
            "people -> nsubj\n",
            ", -> punct\n",
            "in -> prep\n",
            "spite -> pobj\n",
            "of -> prep\n",
            "heroic -> amod\n",
            "efforts -> pobj\n",
            "by -> prep\n",
            "the -> det\n",
            "‘ -> punct\n",
            "Establishment -> pobj\n",
            "’ -> punct\n",
            "to -> aux\n",
            "right -> acl\n",
            "the -> det\n",
            "wrongs -> dobj\n",
            "of -> prep\n",
            "the -> det\n",
            "past -> pobj\n",
            ", -> punct\n",
            "became -> ccomp\n",
            "even -> advmod\n",
            "more -> amod\n",
            "belligerent -> attr\n",
            "and -> cc\n",
            "unwilling -> conj\n",
            "to -> aux\n",
            "pitch -> xcomp\n",
            "in -> prt\n",
            "to -> aux\n",
            "improve -> advcl\n",
            "their -> poss\n",
            "own -> amod\n",
            "situations -> dobj\n",
            ", -> punct\n",
            "” -> punct\n",
            "Mellon -> nsubj\n",
            "wrote -> ROOT\n",
            ", -> punct\n",
            "describing -> advcl\n",
            "his -> poss\n",
            "view -> dobj\n",
            "of -> prep\n",
            "America -> pobj\n",
            "during -> prep\n",
            "Reagan -> nmod\n",
            "’s -> punct\n",
            "1984 -> nummod\n",
            "reelection -> compound\n",
            "campaign -> pobj\n",
            ". -> punct\n",
            "people Mellon , black heroic more belligerent own write , spite efforts Establishment wrongs past situations view America campaign\n",
            "Advertisement -> ROOT\n",
            "\n",
            "\n",
            " -> \n",
            "Two -> nummod\n",
            "decades -> npadvmod\n",
            "later -> advmod\n",
            ", -> punct\n",
            "too -> advmod\n",
            "many -> amod\n",
            "Americans -> nsubj\n",
            "are -> aux\n",
            "still -> advmod\n",
            "relying -> ccomp\n",
            "on -> prep\n",
            "the -> det\n",
            "government -> pobj\n",
            "for -> prep\n",
            "help -> pobj\n",
            ", -> punct\n",
            "he -> nsubj\n",
            "wrote -> ROOT\n",
            ". -> punct\n",
            "Americans he , advertisement many write , government help\n",
            "In -> prep\n",
            "the -> det\n",
            "1980s -> pobj\n",
            ", -> punct\n",
            "Mellon -> nsubj\n",
            "took -> ROOT\n",
            "over -> prt\n",
            "a -> det\n",
            "rail -> compound\n",
            "company -> dobj\n",
            "called -> acl\n",
            "Guilford -> compound\n",
            "Transportation -> compound\n",
            "Industries -> oprd\n",
            "and -> cc\n",
            "rebranded -> conj\n",
            "it -> dobj\n",
            "after -> prep\n",
            "purchasing -> pcomp\n",
            "Pan -> compound\n",
            "Am -> compound\n",
            "Airways -> dobj\n",
            "from -> prep\n",
            "bankruptcy -> pobj\n",
            "in -> prep\n",
            "the -> det\n",
            "1990s -> pobj\n",
            ". -> punct\n",
            "Mellon , take , 1980s company it Airways bankruptcy 1990s\n",
            "Advertisement -> ROOT\n",
            "\n",
            "\n",
            " -> \n",
            "He -> nsubj\n",
            "gave -> ROOT\n",
            "another -> det\n",
            "$ -> quantmod\n",
            "10 -> compound\n",
            "million -> dobj\n",
            "to -> prep\n",
            "the -> det\n",
            "Congressional -> compound\n",
            "Leadership -> compound\n",
            "Fund -> pobj\n",
            "in -> prep\n",
            "November -> pobj\n",
            "2019 -> nummod\n",
            ". -> punct\n",
            "He , advertisement give , million Fund November\n",
            "The -> det\n",
            "Congressional -> compound\n",
            "Leadership -> compound\n",
            "Fund -> nsubj\n",
            "did -> aux\n",
            "not -> neg\n",
            "respond -> ROOT\n",
            "to -> prep\n",
            "requests -> pobj\n",
            "for -> prep\n",
            "comment -> pobj\n",
            ". -> punct\n",
            "Fund , respond , requests comment\n"
          ],
          "name": "stdout"
        }
      ]
    },
    {
      "cell_type": "code",
      "metadata": {
        "colab": {
          "base_uri": "https://localhost:8080/",
          "height": 512
        },
        "id": "bwkgAJpKyHdm",
        "outputId": "9f063821-2329-4b3b-9ca1-d39c5e2991fd"
      },
      "source": [
        "printGraph(triples)  "
      ],
      "execution_count": 11,
      "outputs": [
        {
          "output_type": "display_data",
          "data": {
            "image/png": "[encoded data removed]",
            "text/plain": [
              "<Figure size 640x480 with 1 Axes>"
            ]
          },
          "metadata": {
            "tags": []
          }
        }
      ]
    },
    {
      "cell_type": "markdown",
      "metadata": {
        "id": "t1xGdtsk1Nv_"
      },
      "source": [
        "## Knowledge graph FoxClaim"
      ]
    },
    {
      "cell_type": "code",
      "metadata": {
        "colab": {
          "base_uri": "https://localhost:8080/",
          "height": 214
        },
        "id": "Ap-YUwPL1R3X",
        "outputId": "9343ea9d-3474-42be-dca9-4273369daa19"
      },
      "source": [
        "data_fox_claim.head(1)"
      ],
      "execution_count": 38,
      "outputs": [
        {
          "output_type": "execute_result",
          "data": {
            "text/html": [
              "<div>\n",
              "<style scoped>\n",
              "    .dataframe tbody tr th:only-of-type {\n",
              "        vertical-align: middle;\n",
              "    }\n",
              "\n",
              "    .dataframe tbody tr th {\n",
              "        vertical-align: top;\n",
              "    }\n",
              "\n",
              "    .dataframe thead th {\n",
              "        text-align: right;\n",
              "    }\n",
              "</style>\n",
              "<table border=\"1\" class=\"dataframe\">\n",
              "  <thead>\n",
              "    <tr style=\"text-align: right;\">\n",
              "      <th></th>\n",
              "      <th>documentId</th>\n",
              "      <th>Unnamed: 0.1</th>\n",
              "      <th>link</th>\n",
              "      <th>published</th>\n",
              "      <th>title</th>\n",
              "      <th>text</th>\n",
              "      <th>site</th>\n",
              "      <th>text_distilled</th>\n",
              "      <th>topics</th>\n",
              "      <th>named_entity_recognition</th>\n",
              "      <th>top_10_freq_word</th>\n",
              "      <th>pasts_of_speech</th>\n",
              "    </tr>\n",
              "  </thead>\n",
              "  <tbody>\n",
              "    <tr>\n",
              "      <th>0</th>\n",
              "      <td>0</td>\n",
              "      <td>0</td>\n",
              "      <td>https://www.foxnews.com/us/violent-crime-los-a...</td>\n",
              "      <td>2021-04-15T22:33:38</td>\n",
              "      <td>Murders in Los Angeles up nearly 200%, violent...</td>\n",
              "      <td>Murders in Los Angeles County have spiked near...</td>\n",
              "      <td>foxnews</td>\n",
              "      <td>['murder', 'los', 'angeles', 'nearly', '200', ...</td>\n",
              "      <td>['angeles ', 'crime']</td>\n",
              "      <td>[(Raphael, 'PERSON'), (Warnock, 'PERSON'), (re...</td>\n",
              "      <td>[('los', 5), ('angeles', 5), ('crime', 5), ('f...</td>\n",
              "      <td>[('Murders', 'NNS'), ('Los', 'NNP'), ('Angeles...</td>\n",
              "    </tr>\n",
              "  </tbody>\n",
              "</table>\n",
              "</div>"
            ],
            "text/plain": [
              "   documentId  ...                                    pasts_of_speech\n",
              "0           0  ...  [('Murders', 'NNS'), ('Los', 'NNP'), ('Angeles...\n",
              "\n",
              "[1 rows x 12 columns]"
            ]
          },
          "metadata": {
            "tags": []
          },
          "execution_count": 38
        }
      ]
    },
    {
      "cell_type": "code",
      "metadata": {
        "colab": {
          "base_uri": "https://localhost:8080/"
        },
        "id": "y_WkBNud1rOX",
        "outputId": "fd38618a-25ae-4aae-b76e-4576b520afac"
      },
      "source": [
        "data_fox_claim.columns"
      ],
      "execution_count": 39,
      "outputs": [
        {
          "output_type": "execute_result",
          "data": {
            "text/plain": [
              "Index(['documentId', 'Unnamed: 0.1', 'link', 'published', 'title', 'text',\n",
              "       'site', 'text_distilled', 'topics', 'named_entity_recognition',\n",
              "       'top_10_freq_word', 'pasts_of_speech'],\n",
              "      dtype='object')"
            ]
          },
          "metadata": {
            "tags": []
          },
          "execution_count": 39
        }
      ]
    },
    {
      "cell_type": "code",
      "metadata": {
        "id": "MfRC4eRa1jHQ"
      },
      "source": [
        "body = data_fox_claim['title'][0]\n",
        "sentences = getSentences(body)\n",
        "nlp_model = spacy.load('en_core_web_sm')\n",
        "\n",
        "triples = []\n",
        "#print (body)\n",
        "for sentence in sentences:\n",
        "  triples.append(processSentence(sentence))"
      ],
      "execution_count": null,
      "outputs": []
    },
    {
      "cell_type": "code",
      "metadata": {
        "colab": {
          "base_uri": "https://localhost:8080/",
          "height": 319
        },
        "id": "Ldt4x9iH2xz_",
        "outputId": "507ac21a-f1a6-42e5-9a7f-9aee1f892ecc"
      },
      "source": [
        "printGraph(triples) "
      ],
      "execution_count": 45,
      "outputs": [
        {
          "output_type": "display_data",
          "data": {
            "image/png": "[encoded data removed]",
            "text/plain": [
              "<Figure size 432x288 with 1 Axes>"
            ]
          },
          "metadata": {
            "tags": []
          }
        }
      ]
    },
    {
      "cell_type": "markdown",
      "metadata": {
        "id": "K5P7pLXo13V5"
      },
      "source": [
        "## Knowledge graph Politifact"
      ]
    },
    {
      "cell_type": "code",
      "metadata": {
        "colab": {
          "base_uri": "https://localhost:8080/",
          "height": 197
        },
        "id": "B9ShGWHN13V6",
        "outputId": "2ef07018-71ae-4510-bb03-e8cf8efb7872"
      },
      "source": [
        "data_polifact.head(1)"
      ],
      "execution_count": 41,
      "outputs": [
        {
          "output_type": "execute_result",
          "data": {
            "text/html": [
              "<div>\n",
              "<style scoped>\n",
              "    .dataframe tbody tr th:only-of-type {\n",
              "        vertical-align: middle;\n",
              "    }\n",
              "\n",
              "    .dataframe tbody tr th {\n",
              "        vertical-align: top;\n",
              "    }\n",
              "\n",
              "    .dataframe thead th {\n",
              "        text-align: right;\n",
              "    }\n",
              "</style>\n",
              "<table border=\"1\" class=\"dataframe\">\n",
              "  <thead>\n",
              "    <tr style=\"text-align: right;\">\n",
              "      <th></th>\n",
              "      <th>documentId</th>\n",
              "      <th>Unnamed: 0.1</th>\n",
              "      <th>sources</th>\n",
              "      <th>urls</th>\n",
              "      <th>title</th>\n",
              "      <th>summaries</th>\n",
              "      <th>dates</th>\n",
              "      <th>ratings</th>\n",
              "      <th>text</th>\n",
              "      <th>authors</th>\n",
              "      <th>publishdate</th>\n",
              "      <th>relatedlinks</th>\n",
              "      <th>claims</th>\n",
              "      <th>text_distilled</th>\n",
              "      <th>topics</th>\n",
              "      <th>named_entity_recognition</th>\n",
              "      <th>top_10_freq_word</th>\n",
              "      <th>pasts_of_speech</th>\n",
              "    </tr>\n",
              "  </thead>\n",
              "  <tbody>\n",
              "    <tr>\n",
              "      <th>0</th>\n",
              "      <td>0</td>\n",
              "      <td>0</td>\n",
              "      <td>politifact</td>\n",
              "      <td>http://www.politifact.com/factchecks/2021/mar/...</td>\n",
              "      <td>\\nSays Deborah Birx “traveled a great distance...</td>\n",
              "      <td>\\n\\n\\n\\n\\n\\n\\n\\n\\n\\n\\n\\n\\n\\n\\n\\n\\n\\n\\n\\n\\n\\n\\n...</td>\n",
              "      <td>2021-03-29</td>\n",
              "      <td>half-true</td>\n",
              "      <td>\\nFormer President Donald Trump didn’t appreci...</td>\n",
              "      <td>Jon Greenberg</td>\n",
              "      <td>2021-03-30</td>\n",
              "      <td>['https://www.cnn.com/2021/03/29/health/pandem...</td>\n",
              "      <td>National,Coronavirus,Donald Trump</td>\n",
              "      <td>['say', 'deborah', 'birx', 'traveled', 'great'...</td>\n",
              "      <td>['birx ', 'said']</td>\n",
              "      <td>[(Donald, 'PERSON'), (Trump, 'PERSON'), (Biden...</td>\n",
              "      <td>[('birx', 22), ('said', 12), ('family', 10), (...</td>\n",
              "      <td>[('Former', 'NNP'), ('President', 'NNP'), ('Do...</td>\n",
              "    </tr>\n",
              "  </tbody>\n",
              "</table>\n",
              "</div>"
            ],
            "text/plain": [
              "   documentId  ...                                    pasts_of_speech\n",
              "0           0  ...  [('Former', 'NNP'), ('President', 'NNP'), ('Do...\n",
              "\n",
              "[1 rows x 18 columns]"
            ]
          },
          "metadata": {
            "tags": []
          },
          "execution_count": 41
        }
      ]
    },
    {
      "cell_type": "code",
      "metadata": {
        "colab": {
          "base_uri": "https://localhost:8080/"
        },
        "id": "KDEyml2J13V8",
        "outputId": "a1bc861a-3b88-411c-d134-1a4ebf905804"
      },
      "source": [
        "data_polifact.columns"
      ],
      "execution_count": 37,
      "outputs": [
        {
          "output_type": "execute_result",
          "data": {
            "text/plain": [
              "Index(['documentId', 'Unnamed: 0.1', 'sources', 'urls', 'title', 'summaries',\n",
              "       'dates', 'ratings', 'text', 'authors', 'publishdate', 'relatedlinks',\n",
              "       'claims', 'text_distilled', 'topics', 'named_entity_recognition',\n",
              "       'top_10_freq_word', 'pasts_of_speech'],\n",
              "      dtype='object')"
            ]
          },
          "metadata": {
            "tags": []
          },
          "execution_count": 37
        }
      ]
    },
    {
      "cell_type": "code",
      "metadata": {
        "colab": {
          "base_uri": "https://localhost:8080/"
        },
        "id": "HpFn9jXI13V8",
        "outputId": "525eb5fa-f67d-4f3e-c41a-cc51d403f43f"
      },
      "source": [
        "body = data_polifact['title'][0]\n",
        "sentences = getSentences(body)\n",
        "nlp_model = spacy.load('en_core_web_sm')\n",
        "\n",
        "triples = []\n",
        "#print (body)\n",
        "for sentence in sentences:\n",
        "  triples.append(processSentence(sentence))"
      ],
      "execution_count": 54,
      "outputs": [
        {
          "output_type": "stream",
          "text": [
            "Says -> ROOT\n",
            "Deborah -> compound\n",
            "Birx -> nsubj\n",
            "“ -> punct\n",
            "traveled -> ccomp\n",
            "a -> det\n",
            "great -> amod\n",
            "distance -> dobj\n",
            "to -> aux\n",
            "see -> advcl\n",
            "her -> poss\n",
            "family -> dobj\n",
            "for -> prep\n",
            "Thanksgiving -> pobj\n",
            ", -> punct\n",
            "only -> advmod\n",
            "to -> aux\n",
            "have -> advcl\n",
            "them -> nsubj\n",
            "call -> ccomp\n",
            "the -> det\n",
            "police -> dobj\n",
            "and -> cc\n",
            "turn -> conj\n",
            "her -> dobj\n",
            "in -> prt\n",
            ". -> punct\n",
            "Birx them , say great , distance family Thanksgiving police her\n",
            "She -> nsubj\n",
            "then -> advmod\n",
            "... -> punct\n",
            "resigned -> ROOT\n",
            ". -> punct\n",
            "” -> punct\n",
            "She , resign , \n",
            " ,  , \n"
          ],
          "name": "stdout"
        }
      ]
    },
    {
      "cell_type": "code",
      "metadata": {
        "colab": {
          "base_uri": "https://localhost:8080/",
          "height": 319
        },
        "id": "RSBFTHaA3Pxu",
        "outputId": "cf689a51-42e6-40d7-8e99-504a95622bcb"
      },
      "source": [
        "printGraph(triples) "
      ],
      "execution_count": 55,
      "outputs": [
        {
          "output_type": "display_data",
          "data": {
            "image/png": "[encoded data removed]",
            "text/plain": [
              "<Figure size 432x288 with 1 Axes>"
            ]
          },
          "metadata": {
            "tags": []
          }
        }
      ]
    },
    {
      "cell_type": "markdown",
      "metadata": {
        "id": "AV_E-Bqw7JWO"
      },
      "source": [
        "# Use Case: Political Donation Knowledge Graph for Trump\n",
        "\n",
        "* news: \n",
        "https://www.washingtonpost.com/politics/timothy-mellon-top-donor-to-trump-super-pac-used-racial-stereotypes-to-describe-african-americans-in-his-autobiography/2020/06/18/89206c5a-a742-11ea-b619-3f9133bbb482_story.html\n",
        "\n",
        "* ref: \n",
        "https://programmerbackpack.com/python-nlp-tutorial-information-extraction-and-knowledge-graphs/"
      ]
    },
    {
      "cell_type": "code",
      "metadata": {
        "colab": {
          "base_uri": "https://localhost:8080/"
        },
        "id": "zgjpebtD7O_9",
        "outputId": "02f14532-5831-48a9-ae1a-c6b90b255cde"
      },
      "source": [
        "!pip install newspaper3k"
      ],
      "execution_count": 6,
      "outputs": [
        {
          "output_type": "stream",
          "text": [
            "Collecting newspaper3k\n",
            "\u001b[?25l  Downloading https://files.pythonhosted.org/packages/d7/b9/51afecb35bb61b188a4b44868001de348a0e8134b4dfa00ffc191567c4b9/newspaper3k-0.2.8-py3-none-any.whl (211kB)\n",
            "\u001b[K     |████████████████████████████████| 215kB 13.9MB/s \n",
            "\u001b[?25hCollecting tldextract>=2.0.1\n",
            "\u001b[?25l  Downloading https://files.pythonhosted.org/packages/7e/62/b6acd3129c5615b9860e670df07fd55b76175b63e6b7f68282c7cad38e9e/tldextract-3.1.0-py2.py3-none-any.whl (87kB)\n",
            "\u001b[K     |████████████████████████████████| 92kB 9.2MB/s \n",
            "\u001b[?25hRequirement already satisfied: nltk>=3.2.1 in /usr/local/lib/python3.7/dist-packages (from newspaper3k) (3.2.5)\n",
            "Collecting cssselect>=0.9.2\n",
            "  Downloading https://files.pythonhosted.org/packages/3b/d4/3b5c17f00cce85b9a1e6f91096e1cc8e8ede2e1be8e96b87ce1ed09e92c5/cssselect-1.1.0-py2.py3-none-any.whl\n",
            "Requirement already satisfied: Pillow>=3.3.0 in /usr/local/lib/python3.7/dist-packages (from newspaper3k) (7.1.2)\n",
            "Requirement already satisfied: python-dateutil>=2.5.3 in /usr/local/lib/python3.7/dist-packages (from newspaper3k) (2.8.1)\n",
            "Requirement already satisfied: lxml>=3.6.0 in /usr/local/lib/python3.7/dist-packages (from newspaper3k) (4.2.6)\n",
            "Requirement already satisfied: beautifulsoup4>=4.4.1 in /usr/local/lib/python3.7/dist-packages (from newspaper3k) (4.6.3)\n",
            "Requirement already satisfied: PyYAML>=3.11 in /usr/local/lib/python3.7/dist-packages (from newspaper3k) (3.13)\n",
            "Collecting feedfinder2>=0.0.4\n",
            "  Downloading https://files.pythonhosted.org/packages/35/82/1251fefec3bb4b03fd966c7e7f7a41c9fc2bb00d823a34c13f847fd61406/feedfinder2-0.0.4.tar.gz\n",
            "Collecting jieba3k>=0.35.1\n",
            "\u001b[?25l  Downloading https://files.pythonhosted.org/packages/a9/cb/2c8332bcdc14d33b0bedd18ae0a4981a069c3513e445120da3c3f23a8aaa/jieba3k-0.35.1.zip (7.4MB)\n",
            "\u001b[K     |████████████████████████████████| 7.4MB 13.4MB/s \n",
            "\u001b[?25hCollecting feedparser>=5.2.1\n",
            "\u001b[?25l  Downloading https://files.pythonhosted.org/packages/1c/21/faf1bac028662cc8adb2b5ef7a6f3999a765baa2835331df365289b0ca56/feedparser-6.0.2-py3-none-any.whl (80kB)\n",
            "\u001b[K     |████████████████████████████████| 81kB 10.3MB/s \n",
            "\u001b[?25hCollecting tinysegmenter==0.3\n",
            "  Downloading https://files.pythonhosted.org/packages/17/82/86982e4b6d16e4febc79c2a1d68ee3b707e8a020c5d2bc4af8052d0f136a/tinysegmenter-0.3.tar.gz\n",
            "Requirement already satisfied: requests>=2.10.0 in /usr/local/lib/python3.7/dist-packages (from newspaper3k) (2.23.0)\n",
            "Collecting requests-file>=1.4\n",
            "  Downloading https://files.pythonhosted.org/packages/77/86/cdb5e8eaed90796aa83a6d9f75cfbd37af553c47a291cd47bc410ef9bdb2/requests_file-1.5.1-py2.py3-none-any.whl\n",
            "Requirement already satisfied: idna in /usr/local/lib/python3.7/dist-packages (from tldextract>=2.0.1->newspaper3k) (2.10)\n",
            "Requirement already satisfied: filelock>=3.0.8 in /usr/local/lib/python3.7/dist-packages (from tldextract>=2.0.1->newspaper3k) (3.0.12)\n",
            "Requirement already satisfied: six in /usr/local/lib/python3.7/dist-packages (from nltk>=3.2.1->newspaper3k) (1.15.0)\n",
            "Collecting sgmllib3k\n",
            "  Downloading https://files.pythonhosted.org/packages/9e/bd/3704a8c3e0942d711c1299ebf7b9091930adae6675d7c8f476a7ce48653c/sgmllib3k-1.0.0.tar.gz\n",
            "Requirement already satisfied: certifi>=2017.4.17 in /usr/local/lib/python3.7/dist-packages (from requests>=2.10.0->newspaper3k) (2020.12.5)\n",
            "Requirement already satisfied: urllib3!=1.25.0,!=1.25.1,<1.26,>=1.21.1 in /usr/local/lib/python3.7/dist-packages (from requests>=2.10.0->newspaper3k) (1.24.3)\n",
            "Requirement already satisfied: chardet<4,>=3.0.2 in /usr/local/lib/python3.7/dist-packages (from requests>=2.10.0->newspaper3k) (3.0.4)\n",
            "Building wheels for collected packages: feedfinder2, jieba3k, tinysegmenter, sgmllib3k\n",
            "  Building wheel for feedfinder2 (setup.py) ... \u001b[?25l\u001b[?25hdone\n",
            "  Created wheel for feedfinder2: filename=feedfinder2-0.0.4-cp37-none-any.whl size=3358 sha256=9fcb5e494176194454aa7eb695363baabea58c97a8456c72d0274121ebaed8cb\n",
            "  Stored in directory: /root/.cache/pip/wheels/de/03/ca/778e3a7a627e3d98836cc890e7cb40c7575424cfd3340f40ed\n",
            "  Building wheel for jieba3k (setup.py) ... \u001b[?25l\u001b[?25hdone\n",
            "  Created wheel for jieba3k: filename=jieba3k-0.35.1-cp37-none-any.whl size=7398406 sha256=3a856f840d3a5806574d1bbcc1d45aa865cf51b4ba48dd48a4e7b5ef6f27ff2f\n",
            "  Stored in directory: /root/.cache/pip/wheels/83/15/9c/a3f1f67e7f7181170ad37d32e503c35da20627c013f438ed34\n",
            "  Building wheel for tinysegmenter (setup.py) ... \u001b[?25l\u001b[?25hdone\n",
            "  Created wheel for tinysegmenter: filename=tinysegmenter-0.3-cp37-none-any.whl size=13538 sha256=70f1413095bfffbaa837d7a306dc00136e8303dff94fac41e1bc4d095ef5b9c6\n",
            "  Stored in directory: /root/.cache/pip/wheels/81/2b/43/a02ede72324dd40cdd7ca53aad718c7710628e91b8b0dc0f02\n",
            "  Building wheel for sgmllib3k (setup.py) ... \u001b[?25l\u001b[?25hdone\n",
            "  Created wheel for sgmllib3k: filename=sgmllib3k-1.0.0-cp37-none-any.whl size=6067 sha256=6e209c43d45ce0fd1aa4d73558238e109586139a94a628f26a9d3bd66f144bfe\n",
            "  Stored in directory: /root/.cache/pip/wheels/f1/80/5a/444ba08a550cdd241bd9baf8bae44be750efe370adb944506a\n",
            "Successfully built feedfinder2 jieba3k tinysegmenter sgmllib3k\n",
            "Installing collected packages: requests-file, tldextract, cssselect, feedfinder2, jieba3k, sgmllib3k, feedparser, tinysegmenter, newspaper3k\n",
            "Successfully installed cssselect-1.1.0 feedfinder2-0.0.4 feedparser-6.0.2 jieba3k-0.35.1 newspaper3k-0.2.8 requests-file-1.5.1 sgmllib3k-1.0.0 tinysegmenter-0.3 tldextract-3.1.0\n"
          ],
          "name": "stdout"
        }
      ]
    },
    {
      "cell_type": "markdown",
      "metadata": {
        "id": "vTU_5o64hGYa"
      },
      "source": [
        "## Get Text\n",
        "https://analyticsindiamag.com/hands-on-guide-to-extractive-text-summarization-with-bertsum/"
      ]
    },
    {
      "cell_type": "code",
      "metadata": {
        "colab": {
          "base_uri": "https://localhost:8080/"
        },
        "id": "o-UvRYDu7az_",
        "outputId": "bdac101b-4275-4b2b-aa0d-5713a142f6e2"
      },
      "source": [
        "from newspaper import fulltext\n",
        "import requests\n",
        "article_url=\"https://www.washingtonpost.com/politics/timothy-mellon-top-donor-to-trump-super-pac-used-racial-stereotypes-to-describe-african-americans-in-his-autobiography/2020/06/18/89206c5a-a742-11ea-b619-3f9133bbb482_story.html \"\n",
        "article = fulltext(requests.get(article_url).text)\n",
        "print(article)"
      ],
      "execution_count": 110,
      "outputs": [
        {
          "output_type": "stream",
          "text": [
            "In a self-published 2015 autobiography, Mellon called social safety net programs “Slavery Redux,” adding: “For delivering their votes in the Federal Elections, they are awarded with yet more and more freebies: food stamps, cell phones, WIC payments, Obamacare, and on, and on, and on. The largess is funded by the hardworking folks, fewer and fewer in number, who are too honest or too proud to allow themselves to sink into this morass.”\n",
            "\n",
            "Advertisement\n",
            "\n",
            "Story continues below advertisement\n",
            "\n",
            "Mellon declined to comment.\n",
            "\n",
            "The Wyoming-based donor, whose family fortune dates to the Gilded Age, gave his first major pro-Trump donation in April, with a $10 million check to America First Action, the main super PAC supporting the president’s reelection. His donations are the biggest known contributions to the group by far, and he is also a top donor to GOP congressional super PACs, according to campaign finance records.\n",
            "\n",
            "America First Action, a super PAC chaired by Linda McMahon, former head of the Small Business Administration, declined to comment on Mellon’s contribution.\n",
            "\n",
            "Mellon’s company, Pan Am Systems, declined to comment on Mellon’s donation or support for Trump. The company did not respond to multiple requests for comment on the views expressed in his autobiography, which it described on its website as “a refreshingly candid look into his family life as well as his business successes.”\n",
            "\n",
            "Advertisement\n",
            "\n",
            "Story continues below advertisement\n",
            "\n",
            "The book was available for free download on the company’s website until this week, when it was removed after inquiries by The Washington Post. Copies were still available through a separate website.\n",
            "\n",
            "Mellon, who is the great-grandson of Mellon family patriarch and banker Thomas Mellon, and grandson of Andrew W. Mellon, the former Treasury Department secretary, had given smaller amounts to state and federal GOP candidates for years, but ramped up his giving under Trump, campaign finance records show. His first major federal donation came in May 2018, when he gave $10 million in support of the super PAC that supports the House GOP.\n",
            "\n",
            "Since February 2018, he has given $40 million to three super PACs, and tens of thousands of dollars more to an array of GOP candidates, records show.\n",
            "\n",
            "Story continues below advertisement\n",
            "\n",
            "He now rivals other prominent donors who have increased their political giving under Trump, such as shipping supplies magnate Richard Uihlein and Stephen Schwarzman, the Blackstone chairman and chief executive.\n",
            "\n",
            "Advertisement\n",
            "\n",
            "In his autobiography, Mellon wrote that while his family had been Republicans for generations before him, it wasn’t until the presidency of Ronald Reagan that he fully considered himself a Republican. He said Reagan “understood that people did best for themselves when shackled with the least amount of governmental constraints.”\n",
            "\n",
            "“Something had obviously gone dreadfully wrong with the Great Society and the Liberal onslaught. Poor people had become no less poor. Black people, in spite of heroic efforts by the ‘Establishment’ to right the wrongs of the past, became even more belligerent and unwilling to pitch in to improve their own situations,” Mellon wrote, describing his view of America during Reagan’s 1984 reelection campaign.\n",
            "\n",
            "Story continues below advertisement\n",
            "\n",
            "He continued: “Drugs rose to the level of epidemic. Single parent families became more and more prevalent. The likes of Jesse Jackson and Al Sharpton pandered endlessly to fan the flames.”\n",
            "\n",
            "Advertisement\n",
            "\n",
            "Two decades later, too many Americans are still relying on the government for help, he wrote.\n",
            "\n",
            "Mellon slammed the educational system for becoming beholden to teachers unions, and wrote that “Black Studies, Women’s Studies, LGBT Studies, they have all cluttered Higher Education with a mishmash of meaningless tripe designed to brainwash gullible young adults into going along with the Dependency Syndrome.”\n",
            "\n",
            "And he blasted media outlets, blaming journalists, particularly at MSNBC, for perpetuating the federal government’s “Dependency Message.”\n",
            "\n",
            "Story continues below advertisement\n",
            "\n",
            "“It took Abraham Lincoln and the Republican Party to deal with the first scourge of slavery. And now it appears that it is again up to the Republican Party to deal with the contemporary counterpart,” he wrote. “The question is: Is the Republican Party up to it this time?”\n",
            "\n",
            "Advertisement\n",
            "\n",
            "Mellon is the chairman of New Hampshire-based Pan Am Systems Inc., a privately held transportation and freight holding company whose subsidiaries include Pan Am Railways, a New England rail system, and a wood products manufacturer.\n",
            "\n",
            "In the 1980s, Mellon took over a rail company called Guilford Transportation Industries and rebranded it after purchasing Pan Am Airways from bankruptcy in the 1990s.\n",
            "\n",
            "Story continues below advertisement\n",
            "\n",
            "Mellon’s company has publicly praised the GOP-backed 2017 tax overhaul bill, which represented the largest one-time reduction in the corporate tax rate in U.S. history and lowered taxes for the vast majority of Americans.\n",
            "\n",
            "In May 2018 — the month he made his first donation to the Congressional Leadership Fund, the House GOP super PAC — his company announced it would issue a bonus of $1,100 to each employee because of the tax law.\n",
            "\n",
            "Advertisement\n",
            "\n",
            "He gave another $10 million to the Congressional Leadership Fund in November 2019. This year, he gave an additional $10 million to the Senate Leadership Fund, the Senate GOP super PAC.\n",
            "\n",
            "Even as his political giving has increased, Mellon has maintained a low profile. When officials with the Congressional Leadership Fund invited Mellon to attend a donor retreat in Jackson Hole, Wyo., to express thanks for his 2018 donation and meet with then-House Speaker Paul D. Ryan, Mellon declined, according to someone familiar with the invitation who spoke on the condition of anonymity to describe private conversations.\n",
            "\n",
            "Story continues below advertisement\n",
            "\n",
            "“It was all over email, and he didn’t want to meet, and said no to meetings,” said the person familiar with Mellon’s donations, which came in response to an email to major GOP donors, the person said. “He’s very off-the-grid.”\n",
            "\n",
            "Advertisement\n",
            "\n",
            "Officials with the Senate Leadership Fund declined to comment. The Congressional Leadership Fund did not respond to requests for comment.\n",
            "\n",
            "In an unusual move, Mellon has also given donations to two Democrats: $2,700 to Rep. Alexandria Ocasio-Cortez of New York for her 2018 campaign and $2,800 to Rep. Tulsi Gabbard of Hawaii for her long-shot bid for the 2020 Democratic presidential nomination.\n",
            "\n",
            "Gabbard’s office did not ­respond to a request for comment. Ocasio-Cortez’s campaign spokeswoman, Lauren Hitt, said the campaign did not solicit the donation in 2018 and would return it after an inquiry by The Post.\n",
            "\n",
            "Story continues below advertisement\n",
            "\n",
            "In the 2016 GOP primaries, Mellon made donations in support of business executive Carly Fiorina and now-Secretary of Housing and Urban Development Ben Carson, before giving $2,700 in total to Trump and the Republican National Committee in the general election, records show.\n",
            "\n",
            "Advertisement\n",
            "\n",
            "In 2010, Mellon made headlines as the biggest donor to a legal fund set up by then-Arizona Gov. Jan Brewer (R) to defend Senate Bill 1070, a controversial immigration law that required police to determine the immigration status of people suspected of being in the country illegally, which critics had said would lead to rampant racial profiling. He gave an unsolicited $1.5 million to the fund, according to a person familiar with fundraising who spoke on the condition of anonymity to describe donor support.\n",
            "\n",
            "“We were told by a representative that he was very closely watching current events and was inspired by [Brewer] and her leadership, and engaged on it,” the person said.\n",
            "\n",
            "Alice Crites contributed to this report.\n"
          ],
          "name": "stdout"
        }
      ]
    },
    {
      "cell_type": "markdown",
      "metadata": {
        "id": "Bf9ARm12hKa7"
      },
      "source": [
        "## Get Summary from Text"
      ]
    },
    {
      "cell_type": "code",
      "metadata": {
        "id": "6xesxQYG9M4N"
      },
      "source": [
        "## computed using my BERT Model Summarization\n",
        "summary = '''\n",
        "In a self-published 2015 autobiography, Mellon called social safety net programs “Slavery Redux,” adding: “For delivering their votes in the Federal Elections, they are awarded with yet more and more freebies: food stamps, cell phones, WIC payments, Obamacare, and on, and on, and on. Advertisement\n",
        "\n",
        "Story continues below advertisement\n",
        "\n",
        "Mellon declined to comment. Mellon, who is the great-grandson of Mellon family patriarch and banker Thomas Mellon, and grandson of Andrew W. Mellon, the former Treasury Department secretary, had given smaller amounts to state and federal GOP candidates for years, \n",
        "but ramped up his giving under Trump, campaign finance records show. Story continues below advertisement\n",
        "\n",
        "He now rivals other prominent donors who have increased their political giving under Trump, \n",
        "such as shipping supplies magnate Richard Uihlein and Stephen Schwarzman, the Blackstone chairman and chief executive. \n",
        "Black people, in spite of heroic efforts by the ‘Establishment’ to right the wrongs of the past, became even more belligerent and unwilling to pitch in to improve their own situations,” Mellon wrote, describing his view of America during Reagan’s 1984 reelection campaign. Advertisement\n",
        "\n",
        "Two decades later, too many Americans are still relying on the government for help, \n",
        "he wrote. In the 1980s, Mellon took over a rail company called Guilford Transportation Industries and rebranded it after purchasing Pan Am Airways from bankruptcy in the 1990s. Advertisement\n",
        "\n",
        "He gave another $10 million to the Congressional Leadership Fund in November 2019. The Congressional Leadership Fund did not respond to requests for comment.'''"
      ],
      "execution_count": 9,
      "outputs": []
    },
    {
      "cell_type": "markdown",
      "metadata": {
        "id": "coggI-nMgMla"
      },
      "source": [
        "## Create Graph"
      ]
    },
    {
      "cell_type": "code",
      "metadata": {
        "colab": {
          "base_uri": "https://localhost:8080/"
        },
        "id": "Xcjz1BO5gPXL",
        "outputId": "0f1f84a8-bc66-48da-8809-0188954543ad"
      },
      "source": [
        "body = summary\n",
        "sentences = getSentences(body)\n",
        "nlp_model = spacy.load('en_core_web_sm')\n",
        "\n",
        "triples = []\n",
        "#print (body)\n",
        "for sentence in sentences:\n",
        "  triples.append(processSentence(sentence))"
      ],
      "execution_count": 14,
      "outputs": [
        {
          "output_type": "stream",
          "text": [
            "In -> prep\n",
            "a -> det\n",
            "self -> npadvmod\n",
            "- -> punct\n",
            "published -> amod\n",
            "2015 -> nummod\n",
            "autobiography -> pobj\n",
            ", -> punct\n",
            "Mellon -> nsubj\n",
            "called -> ROOT\n",
            "social -> amod\n",
            "safety -> nmod\n",
            "net -> amod\n",
            "programs -> dobj\n",
            "“ -> punct\n",
            "Slavery -> compound\n",
            "Redux -> appos\n",
            ", -> punct\n",
            "” -> punct\n",
            "adding -> advcl\n",
            ": -> punct\n",
            "“ -> punct\n",
            "For -> prep\n",
            "delivering -> pcomp\n",
            "their -> poss\n",
            "votes -> dobj\n",
            "in -> prep\n",
            "the -> det\n",
            "Federal -> compound\n",
            "Elections -> pobj\n",
            ", -> punct\n",
            "they -> nsubjpass\n",
            "are -> auxpass\n",
            "awarded -> ccomp\n",
            "with -> prep\n",
            "yet -> advmod\n",
            "more -> amod\n",
            "and -> cc\n",
            "more -> conj\n",
            "freebies -> pobj\n",
            ": -> punct\n",
            "food -> compound\n",
            "stamps -> appos\n",
            ", -> punct\n",
            "cell -> compound\n",
            "phones -> conj\n",
            ", -> punct\n",
            "WIC -> compound\n",
            "payments -> conj\n",
            ", -> punct\n",
            "Obamacare -> conj\n",
            ", -> punct\n",
            "and -> cc\n",
            "on -> conj\n",
            ", -> punct\n",
            "and -> cc\n",
            "on -> conj\n",
            ", -> punct\n",
            "and -> cc\n",
            "on -> conj\n",
            ". -> punct\n",
            "Mellon they , publish call social net more , autobiography programs votes Elections freebies\n",
            "Advertisement -> nmod\n",
            "\n",
            "\n",
            " -> \n",
            "Story -> nsubj\n",
            "continues -> ROOT\n",
            "below -> prep\n",
            "advertisement -> pobj\n",
            "\n",
            "\n",
            " -> \n",
            "Mellon -> nsubj\n",
            "declined -> ROOT\n",
            "to -> aux\n",
            "comment -> xcomp\n",
            ". -> punct\n",
            "Story Mellon , continue decline , advertisement\n",
            "Mellon -> nsubj\n",
            ", -> punct\n",
            "who -> nsubj\n",
            "is -> relcl\n",
            "the -> det\n",
            "great -> amod\n",
            "- -> punct\n",
            "grandson -> attr\n",
            "of -> prep\n",
            "Mellon -> compound\n",
            "family -> compound\n",
            "patriarch -> pobj\n",
            "and -> cc\n",
            "banker -> conj\n",
            "Thomas -> compound\n",
            "Mellon -> conj\n",
            ", -> punct\n",
            "and -> cc\n",
            "grandson -> conj\n",
            "of -> prep\n",
            "Andrew -> compound\n",
            "W. -> compound\n",
            "Mellon -> pobj\n",
            ", -> punct\n",
            "the -> det\n",
            "former -> amod\n",
            "Treasury -> compound\n",
            "Department -> compound\n",
            "secretary -> appos\n",
            ", -> punct\n",
            "had -> aux\n",
            "given -> ROOT\n",
            "smaller -> amod\n",
            "amounts -> dobj\n",
            "to -> prep\n",
            "state -> nmod\n",
            "and -> cc\n",
            "federal -> conj\n",
            "GOP -> compound\n",
            "candidates -> pobj\n",
            "for -> prep\n",
            "years -> pobj\n",
            ", -> punct\n",
            "but -> cc\n",
            "ramped -> conj\n",
            "up -> prt\n",
            "his -> poss\n",
            "giving -> dobj\n",
            "under -> prep\n",
            "Trump -> pobj\n",
            ", -> punct\n",
            "campaign -> compound\n",
            "finance -> compound\n",
            "records -> compound\n",
            "show -> appos\n",
            ". -> punct\n",
            "Mellon who , great grandson former give small , patriarch Mellon amounts candidates years giving Trump\n",
            "Story -> nsubj\n",
            "continues -> ROOT\n",
            "below -> prep\n",
            "advertisement -> pobj\n",
            "\n",
            "\n",
            " -> \n",
            "He -> nsubj\n",
            "now -> advmod\n",
            "rivals -> ROOT\n",
            "other -> amod\n",
            "prominent -> amod\n",
            "donors -> dobj\n",
            "who -> nsubj\n",
            "have -> aux\n",
            "increased -> relcl\n",
            "their -> poss\n",
            "political -> amod\n",
            "giving -> dobj\n",
            "under -> prep\n",
            "Trump -> pobj\n",
            ", -> punct\n",
            "such -> amod\n",
            "as -> prep\n",
            "shipping -> compound\n",
            "supplies -> compound\n",
            "magnate -> compound\n",
            "Richard -> compound\n",
            "Uihlein -> pobj\n",
            "and -> cc\n",
            "Stephen -> compound\n",
            "Schwarzman -> conj\n",
            ", -> punct\n",
            "the -> det\n",
            "Blackstone -> compound\n",
            "chairman -> appos\n",
            "and -> cc\n",
            "chief -> amod\n",
            "executive -> conj\n",
            ". -> punct\n",
            "Story He who , continue rival other prominent political such chief , advertisement donors giving Trump Uihlein\n",
            "Black -> amod\n",
            "people -> nsubj\n",
            ", -> punct\n",
            "in -> prep\n",
            "spite -> pobj\n",
            "of -> prep\n",
            "heroic -> amod\n",
            "efforts -> pobj\n",
            "by -> prep\n",
            "the -> det\n",
            "‘ -> punct\n",
            "Establishment -> pobj\n",
            "’ -> punct\n",
            "to -> aux\n",
            "right -> acl\n",
            "the -> det\n",
            "wrongs -> dobj\n",
            "of -> prep\n",
            "the -> det\n",
            "past -> pobj\n",
            ", -> punct\n",
            "became -> ccomp\n",
            "even -> advmod\n",
            "more -> amod\n",
            "belligerent -> attr\n",
            "and -> cc\n",
            "unwilling -> conj\n",
            "to -> aux\n",
            "pitch -> xcomp\n",
            "in -> prt\n",
            "to -> aux\n",
            "improve -> advcl\n",
            "their -> poss\n",
            "own -> amod\n",
            "situations -> dobj\n",
            ", -> punct\n",
            "” -> punct\n",
            "Mellon -> nsubj\n",
            "wrote -> ROOT\n",
            ", -> punct\n",
            "describing -> advcl\n",
            "his -> poss\n",
            "view -> dobj\n",
            "of -> prep\n",
            "America -> pobj\n",
            "during -> prep\n",
            "Reagan -> nmod\n",
            "’s -> punct\n",
            "1984 -> nummod\n",
            "reelection -> compound\n",
            "campaign -> pobj\n",
            ". -> punct\n",
            "people Mellon , black heroic more belligerent own write , spite efforts Establishment wrongs past situations view America campaign\n",
            "Advertisement -> ROOT\n",
            "\n",
            "\n",
            " -> \n",
            "Two -> nummod\n",
            "decades -> npadvmod\n",
            "later -> advmod\n",
            ", -> punct\n",
            "too -> advmod\n",
            "many -> amod\n",
            "Americans -> nsubj\n",
            "are -> aux\n",
            "still -> advmod\n",
            "relying -> ccomp\n",
            "on -> prep\n",
            "the -> det\n",
            "government -> pobj\n",
            "for -> prep\n",
            "help -> pobj\n",
            ", -> punct\n",
            "he -> nsubj\n",
            "wrote -> ROOT\n",
            ". -> punct\n",
            "Americans he , advertisement many write , government help\n",
            "In -> prep\n",
            "the -> det\n",
            "1980s -> pobj\n",
            ", -> punct\n",
            "Mellon -> nsubj\n",
            "took -> ROOT\n",
            "over -> prt\n",
            "a -> det\n",
            "rail -> compound\n",
            "company -> dobj\n",
            "called -> acl\n",
            "Guilford -> compound\n",
            "Transportation -> compound\n",
            "Industries -> oprd\n",
            "and -> cc\n",
            "rebranded -> conj\n",
            "it -> dobj\n",
            "after -> prep\n",
            "purchasing -> pcomp\n",
            "Pan -> compound\n",
            "Am -> compound\n",
            "Airways -> dobj\n",
            "from -> prep\n",
            "bankruptcy -> pobj\n",
            "in -> prep\n",
            "the -> det\n",
            "1990s -> pobj\n",
            ". -> punct\n",
            "Mellon , take , 1980s company it Airways bankruptcy 1990s\n",
            "Advertisement -> ROOT\n",
            "\n",
            "\n",
            " -> \n",
            "He -> nsubj\n",
            "gave -> ROOT\n",
            "another -> det\n",
            "$ -> quantmod\n",
            "10 -> compound\n",
            "million -> dobj\n",
            "to -> prep\n",
            "the -> det\n",
            "Congressional -> compound\n",
            "Leadership -> compound\n",
            "Fund -> pobj\n",
            "in -> prep\n",
            "November -> pobj\n",
            "2019 -> nummod\n",
            ". -> punct\n",
            "He , advertisement give , million Fund November\n",
            "The -> det\n",
            "Congressional -> compound\n",
            "Leadership -> compound\n",
            "Fund -> nsubj\n",
            "did -> aux\n",
            "not -> neg\n",
            "respond -> ROOT\n",
            "to -> prep\n",
            "requests -> pobj\n",
            "for -> prep\n",
            "comment -> pobj\n",
            ". -> punct\n",
            "Fund , respond , requests comment\n"
          ],
          "name": "stdout"
        }
      ]
    },
    {
      "cell_type": "code",
      "metadata": {
        "colab": {
          "base_uri": "https://localhost:8080/"
        },
        "id": "jpPnJ2oDSC3M",
        "outputId": "f6417181-a722-46bd-f623-c890d572efc4"
      },
      "source": [
        "triples"
      ],
      "execution_count": 16,
      "outputs": [
        {
          "output_type": "execute_result",
          "data": {
            "text/plain": [
              "[('Mellon they',\n",
              "  'publish call social net more',\n",
              "  'autobiography programs votes Elections freebies'),\n",
              " ('Story Mellon', 'continue decline', 'advertisement'),\n",
              " ('Mellon who',\n",
              "  'great grandson former give small',\n",
              "  'patriarch Mellon amounts candidates years giving Trump'),\n",
              " ('Story He who',\n",
              "  'continue rival other prominent political such chief',\n",
              "  'advertisement donors giving Trump Uihlein'),\n",
              " ('people Mellon',\n",
              "  'black heroic more belligerent own write',\n",
              "  'spite efforts Establishment wrongs past situations view America campaign'),\n",
              " ('Americans he', 'advertisement many write', 'government help'),\n",
              " ('Mellon', 'take', '1980s company it Airways bankruptcy 1990s'),\n",
              " ('He', 'advertisement give', 'million Fund November'),\n",
              " ('Fund', 'respond', 'requests comment')]"
            ]
          },
          "metadata": {
            "tags": []
          },
          "execution_count": 16
        }
      ]
    },
    {
      "cell_type": "code",
      "metadata": {
        "colab": {
          "base_uri": "https://localhost:8080/",
          "height": 512
        },
        "id": "MuC9RLJAhBBG",
        "outputId": "415a2f8c-831c-4955-d7a8-2f337bac14ad"
      },
      "source": [
        "printGraph(triples)  "
      ],
      "execution_count": 15,
      "outputs": [
        {
          "output_type": "display_data",
          "data": {
            "image/png": "[encoded data removed]",
            "text/plain": [
              "<Figure size 640x480 with 1 Axes>"
            ]
          },
          "metadata": {
            "tags": []
          }
        }
      ]
    },
    {
      "cell_type": "markdown",
      "metadata": {
        "id": "BXLOzV5tTJIK"
      },
      "source": [
        "# Semantic Relationships"
      ]
    },
    {
      "cell_type": "code",
      "metadata": {
        "id": "RtNFlac4UAxK"
      },
      "source": [
        "from nltk import Tree\n",
        "\n",
        "def buildTree(token):\n",
        "    if token.n_lefts + token.n_rights > 0:\n",
        "        return Tree(token, [buildTree(child) for child in token.children])\n",
        "    else:\n",
        "        return buildTree(token)"
      ],
      "execution_count": 17,
      "outputs": []
    },
    {
      "cell_type": "code",
      "metadata": {
        "id": "3MLtDVTSUIye"
      },
      "source": [
        "class Relation:\n",
        "\n",
        "    __hypernym: str\n",
        "    __hyponym: str\n",
        "\n",
        "    def __init__(self, hypernym, hyponym):\n",
        "        self.__hypernym = hypernym\n",
        "        self.__hyponym = hyponym\n",
        "\n",
        "    def getHypernym(self):\n",
        "        return self.__hypernym\n",
        "\n",
        "    def getHyponym(self):\n",
        "        return self.__hyponym"
      ],
      "execution_count": 18,
      "outputs": []
    },
    {
      "cell_type": "code",
      "metadata": {
        "colab": {
          "base_uri": "https://localhost:8080/"
        },
        "id": "xQKsdjkXUTnm",
        "outputId": "9adfff38-7cdb-491d-c76c-ada2503c311a"
      },
      "source": [
        "!pip install relation"
      ],
      "execution_count": 20,
      "outputs": [
        {
          "output_type": "stream",
          "text": [
            "\u001b[31mERROR: Could not find a version that satisfies the requirement relation (from versions: none)\u001b[0m\n",
            "\u001b[31mERROR: No matching distribution found for relation\u001b[0m\n"
          ],
          "name": "stdout"
        }
      ]
    },
    {
      "cell_type": "code",
      "metadata": {
        "id": "a7Rq_7fSUQez"
      },
      "source": [
        "#from relation import Relation\n",
        "\n",
        "class RelationProvider:\n",
        "\n",
        "    __relations: [Relation]\n",
        "\n",
        "    def __init__(self, relations=[Relation]):\n",
        "        self.__relations = relations\n",
        "\n",
        "    def getRelations(self):\n",
        "        return self.__relations"
      ],
      "execution_count": 21,
      "outputs": []
    },
    {
      "cell_type": "code",
      "metadata": {
        "id": "ajT_XeVpU7Uk"
      },
      "source": [
        "#import wikipedia\n",
        "\n",
        "\n",
        "class TextExtractor:\n",
        "\n",
        "    __pageTitle: str\n",
        "    __pageId: str\n",
        "\n",
        "    def __init__(self, pageTitle, pageId):\n",
        "        self.__pageTitle = pageTitle\n",
        "        self.__pageId = pageId\n",
        "\n",
        "    def extract(self):\n",
        "        page = wikipedia.page(title=self.__pageTitle, pageid=self.__pageId)\n",
        "        f = open(\"./text/\" + self.__pageTitle + \".txt\", \"w\")\n",
        "        f.write(page.content)\n",
        "        f.close()\n",
        "\n",
        "    def getText(self):\n",
        "        f = open(\"./text/\" + self.__pageTitle + \".txt\", \"r\")\n",
        "        return f.read()"
      ],
      "execution_count": 22,
      "outputs": []
    },
    {
      "cell_type": "code",
      "metadata": {
        "id": "3eUCBvqJVCZz"
      },
      "source": [
        "#from text_extractor import TextExtractor\n",
        "\n",
        "\n",
        "class TextExtractorPipe:\n",
        "\n",
        "    __textExtractors: [TextExtractor]\n",
        "\n",
        "    def __init__(self):\n",
        "        self.__textExtractors = []\n",
        "\n",
        "    def addTextExtractor(self, textExtractor: TextExtractor):\n",
        "        self.__textExtractors.append(textExtractor)\n",
        "\n",
        "    def extract(self) -> str:\n",
        "        result = ''\n",
        "        for textExtractor in self.__textExtractors:\n",
        "            result = result + textExtractor.getText()\n",
        "        return result"
      ],
      "execution_count": 23,
      "outputs": []
    },
    {
      "cell_type": "code",
      "metadata": {
        "id": "gMqMCj38Vb2q"
      },
      "source": [
        "from spacy.matcher import Matcher\n",
        "from abc import abstractmethod\n",
        "from spacy.tokens import Doc\n",
        "# from relation import Relation\n",
        "\n",
        "\n",
        "class PatternMatcher:\n",
        "\n",
        "\n",
        "    def __init__(self, pattern, nlp, matcherId):\n",
        "        self._nlp = nlp\n",
        "        self._matcher = Matcher(nlp.vocab)\n",
        "        self._matcher.add(matcherId, None, pattern)\n",
        "\n",
        "    @abstractmethod\n",
        "    def getRelations(self, doc: Doc) -> [Relation]:\n",
        "        ..."
      ],
      "execution_count": 24,
      "outputs": []
    },
    {
      "cell_type": "code",
      "metadata": {
        "id": "wNCs-sAMWxkw"
      },
      "source": [
        "# from pattern_matcher import PatternMatcher\n",
        "from spacy.tokens import Doc\n",
        "# from relation import Relation\n",
        "\n",
        "\n",
        "class AndOtherPatternMatcher(PatternMatcher):\n",
        "\n",
        "\n",
        "    def __init__(self, nlp):\n",
        "        pattern = [{'POS': 'NOUN'},\n",
        "                   {'LOWER': 'and'},\n",
        "                   {'LOWER': 'other'},\n",
        "                   {'POS': 'NOUN'}]\n",
        "        PatternMatcher.__init__(self, pattern, nlp, \"andOther\")\n",
        "\n",
        "    def getRelations(self, doc: Doc) -> [Relation]:\n",
        "        relations = []\n",
        "        matches = self._matcher(doc)\n",
        "        for match_id, start, end in matches:\n",
        "            span = doc[start:end]\n",
        "            firstToken = span.root.head\n",
        "            results = [firstToken]\n",
        "            while firstToken and firstToken.head.pos_ == \"NOUN\":\n",
        "                results.append(firstToken.head)\n",
        "                firstToken = firstToken.head\n",
        "            hypernym = span.text.split()[-1]\n",
        "            relations.append(Relation(hypernym, span.text.split()[0]))\n",
        "            if len(results) > 0:\n",
        "                for result in results:\n",
        "                    relations.append(Relation(hypernym, result.text))\n",
        "        return relations"
      ],
      "execution_count": 25,
      "outputs": []
    },
    {
      "cell_type": "markdown",
      "metadata": {
        "id": "ccaUlqZEXE_t"
      },
      "source": [
        "## Implementation"
      ]
    },
    {
      "cell_type": "code",
      "metadata": {
        "colab": {
          "base_uri": "https://localhost:8080/",
          "height": 161
        },
        "id": "gdsrpF89XG06",
        "outputId": "1ea4f46c-3f1a-4313-ae17-c4d31ea33eea"
      },
      "source": [
        "hypernym = span.text.split()[-1]"
      ],
      "execution_count": 26,
      "outputs": [
        {
          "output_type": "error",
          "ename": "NameError",
          "evalue": "ignored",
          "traceback": [
            "\u001b[0;31m---------------------------------------------------------------------------\u001b[0m",
            "\u001b[0;31mNameError\u001b[0m                                 Traceback (most recent call last)",
            "\u001b[0;32m<ipython-input-26-bf7b7a5a4649>\u001b[0m in \u001b[0;36m<module>\u001b[0;34m()\u001b[0m\n\u001b[0;32m----> 1\u001b[0;31m \u001b[0mhypernym\u001b[0m \u001b[0;34m=\u001b[0m \u001b[0mspan\u001b[0m\u001b[0;34m.\u001b[0m\u001b[0mtext\u001b[0m\u001b[0;34m.\u001b[0m\u001b[0msplit\u001b[0m\u001b[0;34m(\u001b[0m\u001b[0;34m)\u001b[0m\u001b[0;34m[\u001b[0m\u001b[0;34m-\u001b[0m\u001b[0;36m1\u001b[0m\u001b[0;34m]\u001b[0m\u001b[0;34m\u001b[0m\u001b[0;34m\u001b[0m\u001b[0m\n\u001b[0m",
            "\u001b[0;31mNameError\u001b[0m: name 'span' is not defined"
          ]
        }
      ]
    },
    {
      "cell_type": "code",
      "metadata": {
        "colab": {
          "base_uri": "https://localhost:8080/",
          "height": 161
        },
        "id": "tMsbmF5lZbk7",
        "outputId": "4dc22011-18e6-4f9b-f14c-fd13b03d1138"
      },
      "source": [
        "relations.append(Relation(hypernym, span.text.split()[0]))"
      ],
      "execution_count": 27,
      "outputs": [
        {
          "output_type": "error",
          "ename": "NameError",
          "evalue": "ignored",
          "traceback": [
            "\u001b[0;31m---------------------------------------------------------------------------\u001b[0m",
            "\u001b[0;31mNameError\u001b[0m                                 Traceback (most recent call last)",
            "\u001b[0;32m<ipython-input-27-a35e971376ac>\u001b[0m in \u001b[0;36m<module>\u001b[0;34m()\u001b[0m\n\u001b[0;32m----> 1\u001b[0;31m \u001b[0mrelations\u001b[0m\u001b[0;34m.\u001b[0m\u001b[0mappend\u001b[0m\u001b[0;34m(\u001b[0m\u001b[0mRelation\u001b[0m\u001b[0;34m(\u001b[0m\u001b[0mhypernym\u001b[0m\u001b[0;34m,\u001b[0m \u001b[0mspan\u001b[0m\u001b[0;34m.\u001b[0m\u001b[0mtext\u001b[0m\u001b[0;34m.\u001b[0m\u001b[0msplit\u001b[0m\u001b[0;34m(\u001b[0m\u001b[0;34m)\u001b[0m\u001b[0;34m[\u001b[0m\u001b[0;36m0\u001b[0m\u001b[0;34m]\u001b[0m\u001b[0;34m)\u001b[0m\u001b[0;34m)\u001b[0m\u001b[0;34m\u001b[0m\u001b[0;34m\u001b[0m\u001b[0m\n\u001b[0m",
            "\u001b[0;31mNameError\u001b[0m: name 'relations' is not defined"
          ]
        }
      ]
    },
    {
      "cell_type": "code",
      "metadata": {
        "id": "5crsMzswah_c"
      },
      "source": [
        "# from pattern_matcher import PatternMatcher\n",
        "from spacy.tokens import Doc\n",
        "# from relation import Relation\n",
        "\n",
        "\n",
        "class OrOtherPatternMatcher(PatternMatcher):\n",
        "\n",
        "    def __init__(self, nlp):\n",
        "        pattern = [{'POS': 'NOUN'},\n",
        "                   {'LOWER': 'or'},\n",
        "                   {'LOWER': 'other'},\n",
        "                   {'POS': 'NOUN'}]\n",
        "        PatternMatcher.__init__(self, pattern, nlp, \"orOther\")\n",
        "\n",
        "    def getRelations(self, doc: Doc) -> [Relation]:\n",
        "        relations = []\n",
        "        matches = self._matcher(doc)\n",
        "        for match_id, start, end in matches:\n",
        "            span = doc[start:end]\n",
        "            firstToken = span.root.head\n",
        "            results = [firstToken]\n",
        "            while firstToken and firstToken.head.pos_ == \"NOUN\":\n",
        "                results.append(firstToken.head)\n",
        "                firstToken = firstToken.head\n",
        "            hypernym = span.text.split()[-1]\n",
        "            relations.append(Relation(hypernym, span.text.split()[0]))\n",
        "            if len(results) > 0:\n",
        "                for result in results:\n",
        "                    relations.append(Relation(hypernym, result.text))\n",
        "        return relations"
      ],
      "execution_count": 28,
      "outputs": []
    },
    {
      "cell_type": "code",
      "metadata": {
        "id": "ijhcA9qbasIS"
      },
      "source": [
        "# from pattern_matcher import PatternMatcher\n",
        "from spacy.tokens import Doc\n",
        "# from relation import Relation\n",
        "\n",
        "\n",
        "class EspeciallyPatternMatcher(PatternMatcher):\n",
        "\n",
        "    def __init__(self, nlp):\n",
        "        pattern = [{'POS': 'NOUN'},\n",
        "                   {'IS_PUNCT': True, 'OP': '?'},\n",
        "                   {'LOWER': 'especially'},\n",
        "                   {'POS': 'NOUN'}]\n",
        "        PatternMatcher.__init__(self, pattern, nlp, \"especially\")\n",
        "\n",
        "    def getRelations(self, doc: Doc) -> [Relation]:\n",
        "        relations = []\n",
        "        matches = self._matcher(doc)\n",
        "        for match_id, start, end in matches:\n",
        "            span = doc[start:end]\n",
        "            candidates = set()\n",
        "            for sent in doc.sents:\n",
        "                for token in sent:\n",
        "                    # Find relation\n",
        "                    if token.i == span.root.i:\n",
        "                        for token2 in sent:\n",
        "                            # First hyponym\n",
        "                            if token2.head.i == token.i:\n",
        "                                for token3 in sent:\n",
        "                                    startToken = token3\n",
        "                                    while startToken and startToken.head.i != sent.root.i and startToken.i != token2.i:\n",
        "                                        if startToken.pos_ == \"NOUN\":\n",
        "                                            candidates.add(startToken)\n",
        "                                        startToken = startToken.head\n",
        "            if len(candidates) > 0:\n",
        "                hypernym = span.text.split()[0].replace(',', '')\n",
        "                for candidate in candidates:\n",
        "                    relations.append(Relation(hypernym, candidate.text))\n",
        "\n",
        "        return relations"
      ],
      "execution_count": 29,
      "outputs": []
    },
    {
      "cell_type": "code",
      "metadata": {
        "id": "wGOhrSNGbIsa"
      },
      "source": [
        "# from pattern_matcher import PatternMatcher\n",
        "from spacy.tokens import Doc\n",
        "# from relation import Relation\n",
        "\n",
        "\n",
        "class IncludingPatternMatcher(PatternMatcher):\n",
        "\n",
        "    def __init__(self, nlp):\n",
        "        pattern = [{'POS': 'NOUN'},\n",
        "                   {'IS_PUNCT': True, 'OP': '?'},\n",
        "                   {'LOWER': 'including'},\n",
        "                   {'POS': 'NOUN'}]\n",
        "        PatternMatcher.__init__(self, pattern, nlp, \"including\")\n",
        "\n",
        "    def getRelations(self, doc: Doc) -> [Relation]:\n",
        "        relations = []\n",
        "        matches = self._matcher(doc)\n",
        "        for match_id, start, end in matches:\n",
        "            span = doc[start:end]\n",
        "            for sent in doc.sents:\n",
        "                for token in sent:\n",
        "                    # Find the relation\n",
        "                    if token.text == \"including\" and token.head.i == span.root.i:\n",
        "                        for token2 in sent:\n",
        "                            # First hyponym\n",
        "                            if token2.head.i == token.i:\n",
        "                                results = set()\n",
        "                                results.add(span.text.split()[-1])\n",
        "                                # Other hyponyms\n",
        "                                for token3 in sent:\n",
        "                                    startToken = token3\n",
        "                                    while startToken and startToken.head.i != sent.root.i and startToken.i != token2.i:\n",
        "                                        if startToken.pos_ == \"NOUN\":\n",
        "                                            results.add(startToken.text)\n",
        "                                        startToken = startToken.head\n",
        "                                if len(results) > 0:\n",
        "                                    hypernym = span.text.split()[0].replace(',', '')\n",
        "                                    for result in results:\n",
        "                                        relations.append(Relation(hypernym, result))\n",
        "        return relations"
      ],
      "execution_count": 30,
      "outputs": []
    },
    {
      "cell_type": "code",
      "metadata": {
        "id": "ozddjOdLbUD8"
      },
      "source": [
        "# from pattern_matcher import PatternMatcher\n",
        "from spacy.tokens import Doc\n",
        "# from relation import Relation\n",
        "\n",
        "\n",
        "class SuchAsPatternMatcher(PatternMatcher):\n",
        "\n",
        "\n",
        "    def __init__(self, nlp):\n",
        "        pattern = [{'POS': 'NOUN'},\n",
        "                   {'IS_PUNCT': True, 'OP': '?'},\n",
        "                   {'LOWER': 'such'},\n",
        "                   {'LOWER': 'as'},\n",
        "                   {'POS': 'NOUN'}]\n",
        "        PatternMatcher.__init__(self, pattern, nlp, \"suchAs\")\n",
        "\n",
        "    def getRelations(self, doc: Doc) -> [Relation]:\n",
        "        relations = []\n",
        "        matches = self._matcher(doc)\n",
        "        for match_id, start, end in matches:\n",
        "            span = doc[start:end]\n",
        "            hypernym = span.root.text\n",
        "            hyponym = span.text.split()[-1]\n",
        "            relations.append(Relation(hypernym, hyponym))\n",
        "            for right in span.rights:\n",
        "                if right.pos_ == \"NOUN\":\n",
        "                    relations.append(Relation(hypernym, right.text))\n",
        "        return relations"
      ],
      "execution_count": 31,
      "outputs": []
    },
    {
      "cell_type": "code",
      "metadata": {
        "id": "_pmWllL0bpYe"
      },
      "source": [
        "# from pattern_matcher import PatternMatcher\n",
        "# from relation import Relation\n",
        "from spacy.tokens import Doc\n",
        "\n",
        "\n",
        "class MatcherPipe:\n",
        "\n",
        "    __matchers: [PatternMatcher]\n",
        "\n",
        "    def __init__(self):\n",
        "        self.__matchers = []\n",
        "\n",
        "    def addMatcher(self, matcher: PatternMatcher):\n",
        "        self.__matchers.append(matcher)\n",
        "\n",
        "    def extract(self, doc: Doc) -> [Relation]:\n",
        "        results = []\n",
        "        for matcher in self.__matchers:\n",
        "            results.extend(matcher.getRelations(doc))\n",
        "        return results"
      ],
      "execution_count": 33,
      "outputs": []
    },
    {
      "cell_type": "markdown",
      "metadata": {
        "id": "yr0Kkk12cBML"
      },
      "source": [
        "## knowledge_graph.py"
      ]
    },
    {
      "cell_type": "code",
      "metadata": {
        "id": "EiiNuAWVb5BT"
      },
      "source": [
        "# from relation import Relation\n",
        "import networkx as nx\n",
        "import matplotlib.pyplot as plt\n",
        "\n",
        "class KnowledgeGraph:\n",
        "\n",
        "    __relations: [Relation]\n",
        "    __graph: nx.Graph\n",
        "    __colors: {}\n",
        "\n",
        "    def __init__(self, relations):\n",
        "        self.__relations = relations\n",
        "        self.__graph = nx.Graph()\n",
        "        self.__colors = {}\n",
        "\n",
        "    def build(self):\n",
        "        for relation in self.__relations:\n",
        "            self.__graph.add_node(relation.getHypernym())\n",
        "            self.__colors[relation.getHypernym()] = '#e34234'\n",
        "            self.__graph.add_node(relation.getHyponym())\n",
        "            self.__colors[relation.getHyponym()] = '#009966'\n",
        "            self.__graph.add_edge(relation.getHypernym(), relation.getHyponym())\n",
        "\n",
        "    def show(self):\n",
        "        pos = nx.spring_layout(self.__graph)\n",
        "        plt.figure()\n",
        "        colorMap = []\n",
        "        for node in self.__graph.nodes:\n",
        "            colorMap.append(self.__colors[node])\n",
        "        nx.draw(self.__graph, pos, edge_color='black', width=1, linewidths=1,\n",
        "                node_size=500, node_color=colorMap, alpha=0.9,\n",
        "                labels={node: node for node in self.__graph.nodes()})\n",
        "        plt.axis('off')\n",
        "        plt.show()"
      ],
      "execution_count": 34,
      "outputs": []
    },
    {
      "cell_type": "markdown",
      "metadata": {
        "id": "Ahu1FkAMd6zs"
      },
      "source": [
        "## build_knowledge_graph.py"
      ]
    },
    {
      "cell_type": "code",
      "metadata": {
        "id": "XuXef_tyd0F9"
      },
      "source": [
        "from text_extractor import TextExtractor\n",
        "from and_other_pattern_matcher import AndOtherPatternMatcher\n",
        "from such_as_pattern_matcher import SuchAsPatternMatcher\n",
        "from or_other_pattern_matcher import OrOtherPatternMatcher\n",
        "from including_pattern_matcher import IncludingPatternMatcher\n",
        "from especially_pattern_matcher import EspeciallyPatternMatcher\n",
        "from text_extractor_pipe import TextExtractorPipe\n",
        "from knowledge_graph import KnowledgeGraph\n",
        "from matcher_pipe import MatcherPipe\n",
        "import spacy\n",
        "\n",
        "textExtractor1 = TextExtractor(\"WWII\", \"Q362\")\n",
        "textExtractor1.extract()\n",
        "textExtractor2 = TextExtractor(\"London\", \"Q84\")\n",
        "textExtractor2.extract()\n",
        "textExtractor3 = TextExtractor(\"Paris\", \"Q90\")\n",
        "textExtractor3.extract()\n",
        "textExtractor4 = TextExtractor(\"World War I\", \"Q361\")\n",
        "textExtractor4.extract()\n",
        "textExtractorPipe = TextExtractorPipe()\n",
        "textExtractorPipe.addTextExtractor(textExtractor1)\n",
        "textExtractorPipe.addTextExtractor(textExtractor2)\n",
        "textExtractorPipe.addTextExtractor(textExtractor3)\n",
        "textExtractorPipe.addTextExtractor(textExtractor4)\n",
        "\n",
        "\n",
        "nlp = spacy.load('en_core_web_sm')\n",
        "nlp.add_pipe(nlp.create_pipe('sentencizer')) # updated\n",
        "doc = nlp(textExtractorPipe.extract())\n",
        "\n",
        "andOtherPatternMatcher = AndOtherPatternMatcher(nlp)\n",
        "suchAsMatcher = SuchAsPatternMatcher(nlp)\n",
        "orOtherMatcher = OrOtherPatternMatcher(nlp)\n",
        "includingPatternMatcher = IncludingPatternMatcher(nlp)\n",
        "especiallyPatternMatcher = EspeciallyPatternMatcher(nlp)\n",
        "matcherPipe = MatcherPipe()\n",
        "matcherPipe.addMatcher(andOtherPatternMatcher)\n",
        "matcherPipe.addMatcher(suchAsMatcher)\n",
        "matcherPipe.addMatcher(orOtherMatcher)\n",
        "matcherPipe.addMatcher(includingPatternMatcher)\n",
        "matcherPipe.addMatcher(especiallyPatternMatcher)\n",
        "relations = matcherPipe.extract(doc)\n",
        "\n",
        "for relation in relations:\n",
        "    print (relation.getHypernym(), relation.getHyponym())\n",
        "\n",
        "knowledgeGraph = KnowledgeGraph(relations)\n",
        "knowledgeGraph.build()\n",
        "knowledgeGraph.show()"
      ],
      "execution_count": null,
      "outputs": []
    },
    {
      "cell_type": "markdown",
      "metadata": {
        "id": "IG1V3mmqkIwM"
      },
      "source": [
        "# Question Answering with Pretrained Transformers Using PyTorch\n",
        "\n",
        "https://towardsdatascience.com/question-answering-with-pretrained-transformers-using-pytorch-c3e7a44b4012"
      ]
    },
    {
      "cell_type": "markdown",
      "metadata": {
        "id": "O5BzxoVHlfpO"
      },
      "source": [
        "## Library Setup"
      ]
    },
    {
      "cell_type": "code",
      "metadata": {
        "colab": {
          "base_uri": "https://localhost:8080/"
        },
        "id": "0V6oQEu9lbIG",
        "outputId": "b3bf2431-823b-497c-bf99-6f3082c1e8cf"
      },
      "source": [
        "!pip install transformers"
      ],
      "execution_count": 95,
      "outputs": [
        {
          "output_type": "stream",
          "text": [
            "Requirement already satisfied: transformers in /usr/local/lib/python3.7/dist-packages (4.5.1)\n",
            "Requirement already satisfied: regex!=2019.12.17 in /usr/local/lib/python3.7/dist-packages (from transformers) (2019.12.20)\n",
            "Requirement already satisfied: tokenizers<0.11,>=0.10.1 in /usr/local/lib/python3.7/dist-packages (from transformers) (0.10.2)\n",
            "Requirement already satisfied: requests in /usr/local/lib/python3.7/dist-packages (from transformers) (2.23.0)\n",
            "Requirement already satisfied: importlib-metadata; python_version < \"3.8\" in /usr/local/lib/python3.7/dist-packages (from transformers) (3.10.1)\n",
            "Requirement already satisfied: sacremoses in /usr/local/lib/python3.7/dist-packages (from transformers) (0.0.45)\n",
            "Requirement already satisfied: numpy>=1.17 in /usr/local/lib/python3.7/dist-packages (from transformers) (1.19.5)\n",
            "Requirement already satisfied: filelock in /usr/local/lib/python3.7/dist-packages (from transformers) (3.0.12)\n",
            "Requirement already satisfied: tqdm>=4.27 in /usr/local/lib/python3.7/dist-packages (from transformers) (4.41.1)\n",
            "Requirement already satisfied: packaging in /usr/local/lib/python3.7/dist-packages (from transformers) (20.9)\n",
            "Requirement already satisfied: chardet<4,>=3.0.2 in /usr/local/lib/python3.7/dist-packages (from requests->transformers) (3.0.4)\n",
            "Requirement already satisfied: urllib3!=1.25.0,!=1.25.1,<1.26,>=1.21.1 in /usr/local/lib/python3.7/dist-packages (from requests->transformers) (1.24.3)\n",
            "Requirement already satisfied: idna<3,>=2.5 in /usr/local/lib/python3.7/dist-packages (from requests->transformers) (2.10)\n",
            "Requirement already satisfied: certifi>=2017.4.17 in /usr/local/lib/python3.7/dist-packages (from requests->transformers) (2020.12.5)\n",
            "Requirement already satisfied: zipp>=0.5 in /usr/local/lib/python3.7/dist-packages (from importlib-metadata; python_version < \"3.8\"->transformers) (3.4.1)\n",
            "Requirement already satisfied: typing-extensions>=3.6.4; python_version < \"3.8\" in /usr/local/lib/python3.7/dist-packages (from importlib-metadata; python_version < \"3.8\"->transformers) (3.7.4.3)\n",
            "Requirement already satisfied: joblib in /usr/local/lib/python3.7/dist-packages (from sacremoses->transformers) (1.0.1)\n",
            "Requirement already satisfied: six in /usr/local/lib/python3.7/dist-packages (from sacremoses->transformers) (1.15.0)\n",
            "Requirement already satisfied: click in /usr/local/lib/python3.7/dist-packages (from sacremoses->transformers) (7.1.2)\n",
            "Requirement already satisfied: pyparsing>=2.0.2 in /usr/local/lib/python3.7/dist-packages (from packaging->transformers) (2.4.7)\n"
          ],
          "name": "stdout"
        }
      ]
    },
    {
      "cell_type": "code",
      "metadata": {
        "id": "flitDhOclivk"
      },
      "source": [
        "from transformers import pipeline"
      ],
      "execution_count": 96,
      "outputs": []
    },
    {
      "cell_type": "markdown",
      "metadata": {
        "id": "YGJO9my7lnbH"
      },
      "source": [
        "## Build the QA Pipeline"
      ]
    },
    {
      "cell_type": "code",
      "metadata": {
        "colab": {
          "base_uri": "https://localhost:8080/",
          "height": 260,
          "referenced_widgets": [
            "6ee41d9d3b114aa5b8662373464856c1",
            "d50555ddb4174ad090a5e76226c1c48d",
            "bf3f2241b44d4576bc3e56a4d3faa794",
            "9e970f563bdc41e29be4a09c4ede352f",
            "21026d3ddbfb45e2a8382dd6dcb78385",
            "27029a6a200f4544b5d0f35aea55a353",
            "393d8d3679914035b8d7e885fff5c052",
            "371b58a10fb94743aea399c4edddbcdc",
            "83aee60a1e8c4e39b4df5eabacddce2c",
            "9afaa49e6fbc40199d03aba7f2ddc17e",
            "74687c1b842d48b0a2557f2778a336e3",
            "c60ea9cf65f941c59b8d048b0a8ca99d",
            "87ef04ad19784b85ada7d98bf7581ac9",
            "2fef3520ae8e40508c20ba8b2ecc7b5b",
            "2fbb7b31fe7d41f09b2ddbadb6bbd9de",
            "5bfaff0b9f6541a5864ae9fa3a229993",
            "3d500d4c77544a548f92ad6e66e2137d",
            "9030cb590c684e0a84b1220b5d8d338f",
            "6bbbcbd4788b44ba93de1b52a0d99a3d",
            "1b0d8818c75142c3a34b10dd7ce6c5b9",
            "6fe65fc6682c42daacb64721df493b86",
            "4418cb78f41a4c289598006022b9427d",
            "e0a5fef0dfc54ecbb4f73fcd41b2401d",
            "1334fa1a048c44f89c3a2fc4d61be58c",
            "045fef8ad8c14cabbf6e116d6f18d7ee",
            "48ccf2f32d444b1aa56a496d344520e2",
            "973e0fdc24f04e21980c80ea5bba50dc",
            "ca623568f9e74bbda90dd08b04648ba7",
            "e4ca4704a118422d9b764174c698ebbe",
            "21fd3e96ba684f2faece32afc05e7645",
            "2cc4e804d7f64915bdf56179900f43f2",
            "686d869a63a4476e85cad55dfb0d00cd",
            "f53558b1782449d3bc139570528e05a3",
            "9008ef184faf4ebc8e10cea942d1200d",
            "d6f09a61e65c46989b04e6d2b9425347",
            "91f265ff05354bffbe52236b9c0c871d",
            "1a966357bfc1410f88012d15d3d8b5eb",
            "07c899828be54a5890205cd1a3a29114",
            "c533ebdcf2fb47da8d4e0bf5f217ba1a",
            "6dcc0f30b59b43e9acf07bb7ca78b59f"
          ]
        },
        "id": "wciAogOAlrim",
        "outputId": "e6e28b8d-2b0b-46a6-fa25-e879c454c2bd"
      },
      "source": [
        "question_answering = pipeline(\"question-answering\")"
      ],
      "execution_count": 98,
      "outputs": [
        {
          "output_type": "display_data",
          "data": {
            "application/vnd.jupyter.widget-view+json": {
              "model_id": "6ee41d9d3b114aa5b8662373464856c1",
              "version_minor": 0,
              "version_major": 2
            },
            "text/plain": [
              "HBox(children=(FloatProgress(value=0.0, description='Downloading', max=473.0, style=ProgressStyle(description_…"
            ]
          },
          "metadata": {
            "tags": []
          }
        },
        {
          "output_type": "stream",
          "text": [
            "\n"
          ],
          "name": "stdout"
        },
        {
          "output_type": "display_data",
          "data": {
            "application/vnd.jupyter.widget-view+json": {
              "model_id": "83aee60a1e8c4e39b4df5eabacddce2c",
              "version_minor": 0,
              "version_major": 2
            },
            "text/plain": [
              "HBox(children=(FloatProgress(value=0.0, description='Downloading', max=260793700.0, style=ProgressStyle(descri…"
            ]
          },
          "metadata": {
            "tags": []
          }
        },
        {
          "output_type": "stream",
          "text": [
            "\n"
          ],
          "name": "stdout"
        },
        {
          "output_type": "display_data",
          "data": {
            "application/vnd.jupyter.widget-view+json": {
              "model_id": "3d500d4c77544a548f92ad6e66e2137d",
              "version_minor": 0,
              "version_major": 2
            },
            "text/plain": [
              "HBox(children=(FloatProgress(value=0.0, description='Downloading', max=213450.0, style=ProgressStyle(descripti…"
            ]
          },
          "metadata": {
            "tags": []
          }
        },
        {
          "output_type": "stream",
          "text": [
            "\n"
          ],
          "name": "stdout"
        },
        {
          "output_type": "display_data",
          "data": {
            "application/vnd.jupyter.widget-view+json": {
              "model_id": "045fef8ad8c14cabbf6e116d6f18d7ee",
              "version_minor": 0,
              "version_major": 2
            },
            "text/plain": [
              "HBox(children=(FloatProgress(value=0.0, description='Downloading', max=435797.0, style=ProgressStyle(descripti…"
            ]
          },
          "metadata": {
            "tags": []
          }
        },
        {
          "output_type": "stream",
          "text": [
            "\n"
          ],
          "name": "stdout"
        },
        {
          "output_type": "display_data",
          "data": {
            "application/vnd.jupyter.widget-view+json": {
              "model_id": "f53558b1782449d3bc139570528e05a3",
              "version_minor": 0,
              "version_major": 2
            },
            "text/plain": [
              "HBox(children=(FloatProgress(value=0.0, description='Downloading', max=29.0, style=ProgressStyle(description_w…"
            ]
          },
          "metadata": {
            "tags": []
          }
        },
        {
          "output_type": "stream",
          "text": [
            "\n"
          ],
          "name": "stdout"
        }
      ]
    },
    {
      "cell_type": "markdown",
      "metadata": {
        "id": "A8ejjOPfl54k"
      },
      "source": [
        "## Define the Context and Question to Ask"
      ]
    },
    {
      "cell_type": "code",
      "metadata": {
        "id": "HxfRZhWbknqc"
      },
      "source": [
        "text = '''Mellon from Pan Am Systems donated $10 million to Trump's campaign.\n",
        "An heir to the Mellon banking fortune and the grandson of former U.S. \n",
        "Treasury Secretary, Andrew Mellon, his is among the biggest donations this \n",
        "election cycle. He owns the largest regional railroad in North America,\n",
        " Pan Am Railways, which went up for sale in July. He's been notably reclusive and absent from politics. \n",
        "Republican operatives reportedly had to look his name up on Google when he came forward to help.'''"
      ],
      "execution_count": null,
      "outputs": []
    },
    {
      "cell_type": "code",
      "metadata": {
        "id": "okXEdEXHmzbj"
      },
      "source": [
        "text = '''Timothy Mellon, Pan Am Systems - $10 million\n",
        "An heir to the Mellon banking fortune and the grandson of former U.S. Treasury Secretary, \n",
        "Andrew Mellon, his is among the biggest donations this election cycle. He owns the largest \n",
        "regional railroad in North America, Pan Am Railways, which went up for sale in July. \n",
        "He's been notably reclusive and absent from politics. \n",
        "Republican operatives reportedly had to look his name up on Google when he came forward to help.'''"
      ],
      "execution_count": 102,
      "outputs": []
    },
    {
      "cell_type": "code",
      "metadata": {
        "id": "EHh2Gpc2oATq"
      },
      "source": [
        "text = summary = '''\n",
        "In a self-published 2015 autobiography, Mellon called social safety net programs “Slavery Redux,” adding: “For delivering their votes in the Federal Elections, they are awarded with yet more and more freebies: food stamps, cell phones, WIC payments, Obamacare, and on, and on, and on. Advertisement\n",
        "Story continues below advertisement\n",
        "Mellon declined to comment. Mellon, who is the great-grandson of Mellon family patriarch and banker Thomas Mellon, and grandson of Andrew W. Mellon, the former Treasury Department secretary, had given smaller amounts to state and federal GOP candidates for years, \n",
        "but ramped up his giving under Trump, campaign finance records show. Story continues below advertisement\n",
        "\n",
        "He now rivals other prominent donors who have increased their political giving under Trump, \n",
        "such as shipping supplies magnate Richard Uihlein and Stephen Schwarzman, the Blackstone chairman and chief executive. \n",
        "Black people, in spite of heroic efforts by the ‘Establishment’ to right the wrongs of the past, became even more belligerent and unwilling to pitch in to improve their own situations,” Mellon wrote, describing his view of America during Reagan’s 1984 reelection campaign. Advertisement\n",
        "\n",
        "Two decades later, too many Americans are still relying on the government for help, \n",
        "he wrote. In the 1980s, Mellon took over a rail company called Guilford Transportation Industries and rebranded it after purchasing Pan Am Airways from bankruptcy in the 1990s. Advertisement\n",
        "\n",
        "He gave another $10 million to the Congressional Leadership Fund in November 2019. The Congressional Leadership Fund did not respond to requests for comment.'''"
      ],
      "execution_count": 120,
      "outputs": []
    },
    {
      "cell_type": "code",
      "metadata": {
        "id": "7U5Gm01Gl_Hr"
      },
      "source": [
        "context = text"
      ],
      "execution_count": 124,
      "outputs": []
    },
    {
      "cell_type": "code",
      "metadata": {
        "id": "jwxQ2BI3mSu8"
      },
      "source": [
        "question = \"Who gave the election donation?\""
      ],
      "execution_count": 125,
      "outputs": []
    },
    {
      "cell_type": "markdown",
      "metadata": {
        "id": "XR_AX9HBmlOl"
      },
      "source": [
        "## Perform Q&A"
      ]
    },
    {
      "cell_type": "code",
      "metadata": {
        "colab": {
          "base_uri": "https://localhost:8080/"
        },
        "id": "sOE4ojlpmrIs",
        "outputId": "1fe7094e-7fc8-4101-8da9-ee0c107297be"
      },
      "source": [
        "result = question_answering(question=question, context=context)\n",
        "print(\"Answer:\", result['answer'])\n",
        "print(\"Score:\", result['score'])"
      ],
      "execution_count": 126,
      "outputs": [
        {
          "output_type": "stream",
          "text": [
            "Answer: Congressional Leadership Fund\n",
            "Score: 0.5438297390937805\n"
          ],
          "name": "stdout"
        }
      ]
    },
    {
      "cell_type": "markdown",
      "metadata": {
        "id": "JfCYXxL3hRMU"
      },
      "source": [
        "# Upgrade Mehtods"
      ]
    },
    {
      "cell_type": "code",
      "metadata": {
        "id": "PMQWL6MChT2E"
      },
      "source": [
        "import re\n",
        "import pandas as pd\n",
        "import bs4\n",
        "import requests\n",
        "import spacy\n",
        "from spacy import displacy\n",
        "nlp = spacy.load('en_core_web_sm')\n",
        "\n",
        "from spacy.matcher import Matcher \n",
        "from spacy.tokens import Span \n",
        "\n",
        "import networkx as nx\n",
        "\n",
        "import matplotlib.pyplot as plt\n",
        "from tqdm import tqdm\n",
        "\n",
        "pd.set_option('display.max_colwidth', 200)\n",
        "%matplotlib inline"
      ],
      "execution_count": 8,
      "outputs": []
    },
    {
      "cell_type": "markdown",
      "metadata": {
        "id": "jgwijOWfkdVu"
      },
      "source": [
        "## Input Test"
      ]
    },
    {
      "cell_type": "code",
      "metadata": {
        "id": "xMlE2qXHSi_7"
      },
      "source": [
        "text = '''Mellon from Pan Am Systems donated $10 million to Trump's campaign.\n",
        "An heir to the Mellon banking fortune and the grandson of former U.S. \n",
        "Treasury Secretary, Andrew Mellon, his is among the biggest donations this \n",
        "election cycle. He owns the largest regional railroad in North America,\n",
        " Pan Am Railways, which went up for sale in July. He's been notably reclusive and absent from politics. \n",
        "Republican operatives reportedly had to look his name up on Google when he came forward to help.'''"
      ],
      "execution_count": 70,
      "outputs": []
    },
    {
      "cell_type": "markdown",
      "metadata": {
        "id": "gHff51zZRMWR"
      },
      "source": [
        "## get_NER"
      ]
    },
    {
      "cell_type": "code",
      "metadata": {
        "colab": {
          "base_uri": "https://localhost:8080/"
        },
        "id": "vaF_mdZOlBg1",
        "outputId": "0f7c6721-53da-413d-e655-cdbe1fe56a8b"
      },
      "source": [
        "doc = nlp(\"Mellon gave 100 million donation to Trump's campaign\")\n",
        "\n",
        "for tok in doc:\n",
        "  print(tok.text, \"...\", tok.dep_, \"....\", tok.ent_type_)"
      ],
      "execution_count": 20,
      "outputs": [
        {
          "output_type": "stream",
          "text": [
            "Mellon ... nsubj .... ORG\n",
            "gave ... ROOT .... \n",
            "100 ... compound .... CARDINAL\n",
            "million ... nummod .... CARDINAL\n",
            "donation ... dobj .... \n",
            "to ... prep .... \n",
            "Trump ... poss .... PERSON\n",
            "'s ... case .... \n",
            "campaign ... pobj .... \n"
          ],
          "name": "stdout"
        }
      ]
    },
    {
      "cell_type": "code",
      "metadata": {
        "id": "hrRd0XiunnTc"
      },
      "source": [
        "#summary = article\n",
        "summary = text"
      ],
      "execution_count": 71,
      "outputs": []
    },
    {
      "cell_type": "code",
      "metadata": {
        "colab": {
          "base_uri": "https://localhost:8080/"
        },
        "id": "LRyKfRzpiCLM",
        "outputId": "9e09a4c1-bdc4-4945-fc72-c60232e93b19"
      },
      "source": [
        "doc = nlp(summary)\n",
        "\n",
        "for tok in doc:\n",
        "  print(tok.text, \"...\", tok.dep_, \"--\", tok.ent_type_)\n",
        "  print(tok.text, '=>',tok.pos_,'=>',tok.tag_)\n",
        "  print(\"#########\")"
      ],
      "execution_count": 93,
      "outputs": [
        {
          "output_type": "stream",
          "text": [
            "Mellon ... nsubj -- ORG\n",
            "Mellon => PROPN => NNP\n",
            "#########\n",
            "from ... prep -- \n",
            "from => ADP => IN\n",
            "#########\n",
            "Pan ... compound -- ORG\n",
            "Pan => PROPN => NNP\n",
            "#########\n",
            "Am ... compound -- ORG\n",
            "Am => PROPN => NNP\n",
            "#########\n",
            "Systems ... pobj -- ORG\n",
            "Systems => PROPN => NNPS\n",
            "#########\n",
            "donated ... ROOT -- \n",
            "donated => VERB => VBD\n",
            "#########\n",
            "$ ... quantmod -- MONEY\n",
            "$ => SYM => $\n",
            "#########\n",
            "10 ... compound -- MONEY\n",
            "10 => NUM => CD\n",
            "#########\n",
            "million ... dobj -- MONEY\n",
            "million => NUM => CD\n",
            "#########\n",
            "to ... prep -- \n",
            "to => ADP => IN\n",
            "#########\n",
            "Trump ... poss -- PERSON\n",
            "Trump => PROPN => NNP\n",
            "#########\n",
            "'s ... case -- \n",
            "'s => PART => POS\n",
            "#########\n",
            "campaign ... pobj -- \n",
            "campaign => NOUN => NN\n",
            "#########\n",
            ". ... punct -- \n",
            ". => PUNCT => .\n",
            "#########\n",
            "\n",
            " ...  -- \n",
            "\n",
            " => SPACE => _SP\n",
            "#########\n",
            "An ... det -- \n",
            "An => DET => DT\n",
            "#########\n",
            "heir ... npadvmod -- \n",
            "heir => NOUN => NN\n",
            "#########\n",
            "to ... prep -- \n",
            "to => ADP => IN\n",
            "#########\n",
            "the ... det -- \n",
            "the => DET => DT\n",
            "#########\n",
            "Mellon ... compound -- ORG\n",
            "Mellon => PROPN => NNP\n",
            "#########\n",
            "banking ... compound -- \n",
            "banking => NOUN => NN\n",
            "#########\n",
            "fortune ... pobj -- \n",
            "fortune => NOUN => NN\n",
            "#########\n",
            "and ... cc -- \n",
            "and => CCONJ => CC\n",
            "#########\n",
            "the ... det -- \n",
            "the => DET => DT\n",
            "#########\n",
            "grandson ... conj -- \n",
            "grandson => NOUN => NN\n",
            "#########\n",
            "of ... prep -- \n",
            "of => ADP => IN\n",
            "#########\n",
            "former ... amod -- \n",
            "former => ADJ => JJ\n",
            "#########\n",
            "U.S. ... nmod -- GPE\n",
            "U.S. => PROPN => NNP\n",
            "#########\n",
            "\n",
            " ...  -- \n",
            "\n",
            " => SPACE => _SP\n",
            "#########\n",
            "Treasury ... compound -- ORG\n",
            "Treasury => PROPN => NNP\n",
            "#########\n",
            "Secretary ... pobj -- \n",
            "Secretary => PROPN => NNP\n",
            "#########\n",
            ", ... punct -- \n",
            ", => PUNCT => ,\n",
            "#########\n",
            "Andrew ... compound -- PERSON\n",
            "Andrew => PROPN => NNP\n",
            "#########\n",
            "Mellon ... appos -- PERSON\n",
            "Mellon => PROPN => NNP\n",
            "#########\n",
            ", ... punct -- \n",
            ", => PUNCT => ,\n",
            "#########\n",
            "his ... nsubj -- \n",
            "his => DET => PRP$\n",
            "#########\n",
            "is ... ROOT -- \n",
            "is => AUX => VBZ\n",
            "#########\n",
            "among ... prep -- \n",
            "among => ADP => IN\n",
            "#########\n",
            "the ... det -- \n",
            "the => DET => DT\n",
            "#########\n",
            "biggest ... amod -- \n",
            "biggest => ADJ => JJS\n",
            "#########\n",
            "donations ... pobj -- \n",
            "donations => NOUN => NNS\n",
            "#########\n",
            "this ... det -- \n",
            "this => DET => DT\n",
            "#########\n",
            "\n",
            " ...  -- \n",
            "\n",
            " => SPACE => _SP\n",
            "#########\n",
            "election ... compound -- \n",
            "election => NOUN => NN\n",
            "#########\n",
            "cycle ... attr -- \n",
            "cycle => NOUN => NN\n",
            "#########\n",
            ". ... punct -- \n",
            ". => PUNCT => .\n",
            "#########\n",
            "He ... nsubj -- \n",
            "He => PRON => PRP\n",
            "#########\n",
            "owns ... ROOT -- \n",
            "owns => VERB => VBZ\n",
            "#########\n",
            "the ... det -- \n",
            "the => DET => DT\n",
            "#########\n",
            "largest ... amod -- \n",
            "largest => ADJ => JJS\n",
            "#########\n",
            "regional ... amod -- \n",
            "regional => ADJ => JJ\n",
            "#########\n",
            "railroad ... dobj -- \n",
            "railroad => NOUN => NN\n",
            "#########\n",
            "in ... prep -- \n",
            "in => ADP => IN\n",
            "#########\n",
            "North ... compound -- LOC\n",
            "North => PROPN => NNP\n",
            "#########\n",
            "America ... pobj -- LOC\n",
            "America => PROPN => NNP\n",
            "#########\n",
            ", ... punct -- \n",
            ", => PUNCT => ,\n",
            "#########\n",
            "\n",
            "  ...  -- \n",
            "\n",
            "  => SPACE => _SP\n",
            "#########\n",
            "Pan ... compound -- ORG\n",
            "Pan => PROPN => NNP\n",
            "#########\n",
            "Am ... compound -- ORG\n",
            "Am => PROPN => NNP\n",
            "#########\n",
            "Railways ... appos -- ORG\n",
            "Railways => PROPN => NNPS\n",
            "#########\n",
            ", ... punct -- \n",
            ", => PUNCT => ,\n",
            "#########\n",
            "which ... nsubj -- \n",
            "which => DET => WDT\n",
            "#########\n",
            "went ... relcl -- \n",
            "went => VERB => VBD\n",
            "#########\n",
            "up ... prt -- \n",
            "up => ADP => RP\n",
            "#########\n",
            "for ... prep -- \n",
            "for => ADP => IN\n",
            "#########\n",
            "sale ... pobj -- \n",
            "sale => NOUN => NN\n",
            "#########\n",
            "in ... prep -- \n",
            "in => ADP => IN\n",
            "#########\n",
            "July ... pobj -- DATE\n",
            "July => PROPN => NNP\n",
            "#########\n",
            ". ... punct -- \n",
            ". => PUNCT => .\n",
            "#########\n",
            "He ... nsubjpass -- \n",
            "He => PRON => PRP\n",
            "#########\n",
            "'s ... auxpass -- \n",
            "'s => AUX => VBZ\n",
            "#########\n",
            "been ... ROOT -- \n",
            "been => AUX => VBN\n",
            "#########\n",
            "notably ... advmod -- \n",
            "notably => ADV => RB\n",
            "#########\n",
            "reclusive ... acomp -- \n",
            "reclusive => ADJ => JJ\n",
            "#########\n",
            "and ... cc -- \n",
            "and => CCONJ => CC\n",
            "#########\n",
            "absent ... conj -- \n",
            "absent => ADJ => JJ\n",
            "#########\n",
            "from ... prep -- \n",
            "from => ADP => IN\n",
            "#########\n",
            "politics ... pobj -- \n",
            "politics => NOUN => NNS\n",
            "#########\n",
            ". ... punct -- \n",
            ". => PUNCT => .\n",
            "#########\n",
            "\n",
            " ...  -- \n",
            "\n",
            " => SPACE => _SP\n",
            "#########\n",
            "Republican ... amod -- NORP\n",
            "Republican => ADJ => JJ\n",
            "#########\n",
            "operatives ... nsubj -- \n",
            "operatives => NOUN => NNS\n",
            "#########\n",
            "reportedly ... advmod -- \n",
            "reportedly => ADV => RB\n",
            "#########\n",
            "had ... ROOT -- \n",
            "had => AUX => VBD\n",
            "#########\n",
            "to ... aux -- \n",
            "to => PART => TO\n",
            "#########\n",
            "look ... xcomp -- \n",
            "look => VERB => VB\n",
            "#########\n",
            "his ... poss -- \n",
            "his => DET => PRP$\n",
            "#########\n",
            "name ... dobj -- \n",
            "name => NOUN => NN\n",
            "#########\n",
            "up ... prt -- \n",
            "up => ADP => RP\n",
            "#########\n",
            "on ... prep -- \n",
            "on => ADP => IN\n",
            "#########\n",
            "Google ... pobj -- ORG\n",
            "Google => PROPN => NNP\n",
            "#########\n",
            "when ... advmod -- \n",
            "when => ADV => WRB\n",
            "#########\n",
            "he ... nsubj -- \n",
            "he => PRON => PRP\n",
            "#########\n",
            "came ... advcl -- \n",
            "came => VERB => VBD\n",
            "#########\n",
            "forward ... advmod -- \n",
            "forward => ADV => RB\n",
            "#########\n",
            "to ... aux -- \n",
            "to => PART => TO\n",
            "#########\n",
            "help ... advcl -- \n",
            "help => VERB => VB\n",
            "#########\n",
            ". ... punct -- \n",
            ". => PUNCT => .\n",
            "#########\n"
          ],
          "name": "stdout"
        }
      ]
    },
    {
      "cell_type": "markdown",
      "metadata": {
        "id": "jAV2RwCHRQQR"
      },
      "source": [
        "### Visualize NER"
      ]
    },
    {
      "cell_type": "code",
      "metadata": {
        "colab": {
          "base_uri": "https://localhost:8080/",
          "height": 226
        },
        "id": "B3SZCTx6RStw",
        "outputId": "6a82bba9-1ee5-48af-a58c-2aefa60915e2"
      },
      "source": [
        "displacy.render(doc, style='ent', jupyter=True)"
      ],
      "execution_count": 94,
      "outputs": [
        {
          "output_type": "display_data",
          "data": {
            "text/html": [
              "<span class=\"tex2jax_ignore\"><div class=\"entities\" style=\"line-height: 2.5; direction: ltr\">\n",
              "<mark class=\"entity\" style=\"background: #7aecec; padding: 0.45em 0.6em; margin: 0 0.25em; line-height: 1; border-radius: 0.35em;\">\n",
              "    Mellon\n",
              "    <span style=\"font-size: 0.8em; font-weight: bold; line-height: 1; border-radius: 0.35em; text-transform: uppercase; vertical-align: middle; margin-left: 0.5rem\">ORG</span>\n",
              "</mark>\n",
              " from \n",
              "<mark class=\"entity\" style=\"background: #7aecec; padding: 0.45em 0.6em; margin: 0 0.25em; line-height: 1; border-radius: 0.35em;\">\n",
              "    Pan Am Systems\n",
              "    <span style=\"font-size: 0.8em; font-weight: bold; line-height: 1; border-radius: 0.35em; text-transform: uppercase; vertical-align: middle; margin-left: 0.5rem\">ORG</span>\n",
              "</mark>\n",
              " donated \n",
              "<mark class=\"entity\" style=\"background: #e4e7d2; padding: 0.45em 0.6em; margin: 0 0.25em; line-height: 1; border-radius: 0.35em;\">\n",
              "    $10 million\n",
              "    <span style=\"font-size: 0.8em; font-weight: bold; line-height: 1; border-radius: 0.35em; text-transform: uppercase; vertical-align: middle; margin-left: 0.5rem\">MONEY</span>\n",
              "</mark>\n",
              " to \n",
              "<mark class=\"entity\" style=\"background: #aa9cfc; padding: 0.45em 0.6em; margin: 0 0.25em; line-height: 1; border-radius: 0.35em;\">\n",
              "    Trump\n",
              "    <span style=\"font-size: 0.8em; font-weight: bold; line-height: 1; border-radius: 0.35em; text-transform: uppercase; vertical-align: middle; margin-left: 0.5rem\">PERSON</span>\n",
              "</mark>\n",
              "'s campaign.</br>An heir to the \n",
              "<mark class=\"entity\" style=\"background: #7aecec; padding: 0.45em 0.6em; margin: 0 0.25em; line-height: 1; border-radius: 0.35em;\">\n",
              "    Mellon\n",
              "    <span style=\"font-size: 0.8em; font-weight: bold; line-height: 1; border-radius: 0.35em; text-transform: uppercase; vertical-align: middle; margin-left: 0.5rem\">ORG</span>\n",
              "</mark>\n",
              " banking fortune and the grandson of former \n",
              "<mark class=\"entity\" style=\"background: #feca74; padding: 0.45em 0.6em; margin: 0 0.25em; line-height: 1; border-radius: 0.35em;\">\n",
              "    U.S.\n",
              "    <span style=\"font-size: 0.8em; font-weight: bold; line-height: 1; border-radius: 0.35em; text-transform: uppercase; vertical-align: middle; margin-left: 0.5rem\">GPE</span>\n",
              "</mark>\n",
              " </br>\n",
              "<mark class=\"entity\" style=\"background: #7aecec; padding: 0.45em 0.6em; margin: 0 0.25em; line-height: 1; border-radius: 0.35em;\">\n",
              "    Treasury\n",
              "    <span style=\"font-size: 0.8em; font-weight: bold; line-height: 1; border-radius: 0.35em; text-transform: uppercase; vertical-align: middle; margin-left: 0.5rem\">ORG</span>\n",
              "</mark>\n",
              " Secretary, \n",
              "<mark class=\"entity\" style=\"background: #aa9cfc; padding: 0.45em 0.6em; margin: 0 0.25em; line-height: 1; border-radius: 0.35em;\">\n",
              "    Andrew Mellon\n",
              "    <span style=\"font-size: 0.8em; font-weight: bold; line-height: 1; border-radius: 0.35em; text-transform: uppercase; vertical-align: middle; margin-left: 0.5rem\">PERSON</span>\n",
              "</mark>\n",
              ", his is among the biggest donations this </br>election cycle. He owns the largest regional railroad in \n",
              "<mark class=\"entity\" style=\"background: #ff9561; padding: 0.45em 0.6em; margin: 0 0.25em; line-height: 1; border-radius: 0.35em;\">\n",
              "    North America\n",
              "    <span style=\"font-size: 0.8em; font-weight: bold; line-height: 1; border-radius: 0.35em; text-transform: uppercase; vertical-align: middle; margin-left: 0.5rem\">LOC</span>\n",
              "</mark>\n",
              ",</br> \n",
              "<mark class=\"entity\" style=\"background: #7aecec; padding: 0.45em 0.6em; margin: 0 0.25em; line-height: 1; border-radius: 0.35em;\">\n",
              "    Pan Am Railways\n",
              "    <span style=\"font-size: 0.8em; font-weight: bold; line-height: 1; border-radius: 0.35em; text-transform: uppercase; vertical-align: middle; margin-left: 0.5rem\">ORG</span>\n",
              "</mark>\n",
              ", which went up for sale in \n",
              "<mark class=\"entity\" style=\"background: #bfe1d9; padding: 0.45em 0.6em; margin: 0 0.25em; line-height: 1; border-radius: 0.35em;\">\n",
              "    July\n",
              "    <span style=\"font-size: 0.8em; font-weight: bold; line-height: 1; border-radius: 0.35em; text-transform: uppercase; vertical-align: middle; margin-left: 0.5rem\">DATE</span>\n",
              "</mark>\n",
              ". He's been notably reclusive and absent from politics. </br>\n",
              "<mark class=\"entity\" style=\"background: #c887fb; padding: 0.45em 0.6em; margin: 0 0.25em; line-height: 1; border-radius: 0.35em;\">\n",
              "    Republican\n",
              "    <span style=\"font-size: 0.8em; font-weight: bold; line-height: 1; border-radius: 0.35em; text-transform: uppercase; vertical-align: middle; margin-left: 0.5rem\">NORP</span>\n",
              "</mark>\n",
              " operatives reportedly had to look his name up on \n",
              "<mark class=\"entity\" style=\"background: #7aecec; padding: 0.45em 0.6em; margin: 0 0.25em; line-height: 1; border-radius: 0.35em;\">\n",
              "    Google\n",
              "    <span style=\"font-size: 0.8em; font-weight: bold; line-height: 1; border-radius: 0.35em; text-transform: uppercase; vertical-align: middle; margin-left: 0.5rem\">ORG</span>\n",
              "</mark>\n",
              " when he came forward to help.</div></span>"
            ],
            "text/plain": [
              "<IPython.core.display.HTML object>"
            ]
          },
          "metadata": {
            "tags": []
          }
        }
      ]
    },
    {
      "cell_type": "markdown",
      "metadata": {
        "id": "XgZUEhWIddAZ"
      },
      "source": [
        "### Visualize POS\n",
        "\n",
        "https://stackabuse.com/python-for-nlp-parts-of-speech-tagging-and-named-entity-recognition/"
      ]
    },
    {
      "cell_type": "code",
      "metadata": {
        "colab": {
          "base_uri": "https://localhost:8080/",
          "height": 645
        },
        "id": "8PYHqlssdwTU",
        "outputId": "5725e4f2-3e17-4028-e692-3f1c4d470af6"
      },
      "source": [
        "displacy.render(doc, style='dep', jupyter=True, options={'distance': 85})"
      ],
      "execution_count": 91,
      "outputs": [
        {
          "output_type": "display_data",
          "data": {
            "text/html": [
              "<span class=\"tex2jax_ignore\"><svg xmlns=\"http://www.w3.org/2000/svg\" xmlns:xlink=\"http://www.w3.org/1999/xlink\" xml:lang=\"en\" id=\"38515fdb5e95480a80110f1ff83db3ab-0\" class=\"displacy\" width=\"7615\" height=\"604.5\" direction=\"ltr\" style=\"max-width: none; height: 604.5px; color: #000000; background: #ffffff; font-family: Arial; direction: ltr\">\n",
              "<text class=\"displacy-token\" fill=\"currentColor\" text-anchor=\"middle\" y=\"514.5\">\n",
              "    <tspan class=\"displacy-word\" fill=\"currentColor\" x=\"50\">Mellon</tspan>\n",
              "    <tspan class=\"displacy-tag\" dy=\"2em\" fill=\"currentColor\" x=\"50\">PROPN</tspan>\n",
              "</text>\n",
              "\n",
              "<text class=\"displacy-token\" fill=\"currentColor\" text-anchor=\"middle\" y=\"514.5\">\n",
              "    <tspan class=\"displacy-word\" fill=\"currentColor\" x=\"135\">from</tspan>\n",
              "    <tspan class=\"displacy-tag\" dy=\"2em\" fill=\"currentColor\" x=\"135\">ADP</tspan>\n",
              "</text>\n",
              "\n",
              "<text class=\"displacy-token\" fill=\"currentColor\" text-anchor=\"middle\" y=\"514.5\">\n",
              "    <tspan class=\"displacy-word\" fill=\"currentColor\" x=\"220\">Pan</tspan>\n",
              "    <tspan class=\"displacy-tag\" dy=\"2em\" fill=\"currentColor\" x=\"220\">PROPN</tspan>\n",
              "</text>\n",
              "\n",
              "<text class=\"displacy-token\" fill=\"currentColor\" text-anchor=\"middle\" y=\"514.5\">\n",
              "    <tspan class=\"displacy-word\" fill=\"currentColor\" x=\"305\">Am</tspan>\n",
              "    <tspan class=\"displacy-tag\" dy=\"2em\" fill=\"currentColor\" x=\"305\">PROPN</tspan>\n",
              "</text>\n",
              "\n",
              "<text class=\"displacy-token\" fill=\"currentColor\" text-anchor=\"middle\" y=\"514.5\">\n",
              "    <tspan class=\"displacy-word\" fill=\"currentColor\" x=\"390\">Systems</tspan>\n",
              "    <tspan class=\"displacy-tag\" dy=\"2em\" fill=\"currentColor\" x=\"390\">PROPN</tspan>\n",
              "</text>\n",
              "\n",
              "<text class=\"displacy-token\" fill=\"currentColor\" text-anchor=\"middle\" y=\"514.5\">\n",
              "    <tspan class=\"displacy-word\" fill=\"currentColor\" x=\"475\">donated</tspan>\n",
              "    <tspan class=\"displacy-tag\" dy=\"2em\" fill=\"currentColor\" x=\"475\">VERB</tspan>\n",
              "</text>\n",
              "\n",
              "<text class=\"displacy-token\" fill=\"currentColor\" text-anchor=\"middle\" y=\"514.5\">\n",
              "    <tspan class=\"displacy-word\" fill=\"currentColor\" x=\"560\">$</tspan>\n",
              "    <tspan class=\"displacy-tag\" dy=\"2em\" fill=\"currentColor\" x=\"560\">SYM</tspan>\n",
              "</text>\n",
              "\n",
              "<text class=\"displacy-token\" fill=\"currentColor\" text-anchor=\"middle\" y=\"514.5\">\n",
              "    <tspan class=\"displacy-word\" fill=\"currentColor\" x=\"645\">10</tspan>\n",
              "    <tspan class=\"displacy-tag\" dy=\"2em\" fill=\"currentColor\" x=\"645\">NUM</tspan>\n",
              "</text>\n",
              "\n",
              "<text class=\"displacy-token\" fill=\"currentColor\" text-anchor=\"middle\" y=\"514.5\">\n",
              "    <tspan class=\"displacy-word\" fill=\"currentColor\" x=\"730\">million</tspan>\n",
              "    <tspan class=\"displacy-tag\" dy=\"2em\" fill=\"currentColor\" x=\"730\">NUM</tspan>\n",
              "</text>\n",
              "\n",
              "<text class=\"displacy-token\" fill=\"currentColor\" text-anchor=\"middle\" y=\"514.5\">\n",
              "    <tspan class=\"displacy-word\" fill=\"currentColor\" x=\"815\">to</tspan>\n",
              "    <tspan class=\"displacy-tag\" dy=\"2em\" fill=\"currentColor\" x=\"815\">ADP</tspan>\n",
              "</text>\n",
              "\n",
              "<text class=\"displacy-token\" fill=\"currentColor\" text-anchor=\"middle\" y=\"514.5\">\n",
              "    <tspan class=\"displacy-word\" fill=\"currentColor\" x=\"900\">Trump</tspan>\n",
              "    <tspan class=\"displacy-tag\" dy=\"2em\" fill=\"currentColor\" x=\"900\">PROPN</tspan>\n",
              "</text>\n",
              "\n",
              "<text class=\"displacy-token\" fill=\"currentColor\" text-anchor=\"middle\" y=\"514.5\">\n",
              "    <tspan class=\"displacy-word\" fill=\"currentColor\" x=\"985\">'s</tspan>\n",
              "    <tspan class=\"displacy-tag\" dy=\"2em\" fill=\"currentColor\" x=\"985\">PART</tspan>\n",
              "</text>\n",
              "\n",
              "<text class=\"displacy-token\" fill=\"currentColor\" text-anchor=\"middle\" y=\"514.5\">\n",
              "    <tspan class=\"displacy-word\" fill=\"currentColor\" x=\"1070\">campaign.</tspan>\n",
              "    <tspan class=\"displacy-tag\" dy=\"2em\" fill=\"currentColor\" x=\"1070\">NOUN</tspan>\n",
              "</text>\n",
              "\n",
              "<text class=\"displacy-token\" fill=\"currentColor\" text-anchor=\"middle\" y=\"514.5\">\n",
              "    <tspan class=\"displacy-word\" fill=\"currentColor\" x=\"1155\">\n",
              "</tspan>\n",
              "    <tspan class=\"displacy-tag\" dy=\"2em\" fill=\"currentColor\" x=\"1155\">SPACE</tspan>\n",
              "</text>\n",
              "\n",
              "<text class=\"displacy-token\" fill=\"currentColor\" text-anchor=\"middle\" y=\"514.5\">\n",
              "    <tspan class=\"displacy-word\" fill=\"currentColor\" x=\"1240\">An</tspan>\n",
              "    <tspan class=\"displacy-tag\" dy=\"2em\" fill=\"currentColor\" x=\"1240\">DET</tspan>\n",
              "</text>\n",
              "\n",
              "<text class=\"displacy-token\" fill=\"currentColor\" text-anchor=\"middle\" y=\"514.5\">\n",
              "    <tspan class=\"displacy-word\" fill=\"currentColor\" x=\"1325\">heir</tspan>\n",
              "    <tspan class=\"displacy-tag\" dy=\"2em\" fill=\"currentColor\" x=\"1325\">NOUN</tspan>\n",
              "</text>\n",
              "\n",
              "<text class=\"displacy-token\" fill=\"currentColor\" text-anchor=\"middle\" y=\"514.5\">\n",
              "    <tspan class=\"displacy-word\" fill=\"currentColor\" x=\"1410\">to</tspan>\n",
              "    <tspan class=\"displacy-tag\" dy=\"2em\" fill=\"currentColor\" x=\"1410\">ADP</tspan>\n",
              "</text>\n",
              "\n",
              "<text class=\"displacy-token\" fill=\"currentColor\" text-anchor=\"middle\" y=\"514.5\">\n",
              "    <tspan class=\"displacy-word\" fill=\"currentColor\" x=\"1495\">the</tspan>\n",
              "    <tspan class=\"displacy-tag\" dy=\"2em\" fill=\"currentColor\" x=\"1495\">DET</tspan>\n",
              "</text>\n",
              "\n",
              "<text class=\"displacy-token\" fill=\"currentColor\" text-anchor=\"middle\" y=\"514.5\">\n",
              "    <tspan class=\"displacy-word\" fill=\"currentColor\" x=\"1580\">Mellon</tspan>\n",
              "    <tspan class=\"displacy-tag\" dy=\"2em\" fill=\"currentColor\" x=\"1580\">PROPN</tspan>\n",
              "</text>\n",
              "\n",
              "<text class=\"displacy-token\" fill=\"currentColor\" text-anchor=\"middle\" y=\"514.5\">\n",
              "    <tspan class=\"displacy-word\" fill=\"currentColor\" x=\"1665\">banking</tspan>\n",
              "    <tspan class=\"displacy-tag\" dy=\"2em\" fill=\"currentColor\" x=\"1665\">NOUN</tspan>\n",
              "</text>\n",
              "\n",
              "<text class=\"displacy-token\" fill=\"currentColor\" text-anchor=\"middle\" y=\"514.5\">\n",
              "    <tspan class=\"displacy-word\" fill=\"currentColor\" x=\"1750\">fortune</tspan>\n",
              "    <tspan class=\"displacy-tag\" dy=\"2em\" fill=\"currentColor\" x=\"1750\">NOUN</tspan>\n",
              "</text>\n",
              "\n",
              "<text class=\"displacy-token\" fill=\"currentColor\" text-anchor=\"middle\" y=\"514.5\">\n",
              "    <tspan class=\"displacy-word\" fill=\"currentColor\" x=\"1835\">and</tspan>\n",
              "    <tspan class=\"displacy-tag\" dy=\"2em\" fill=\"currentColor\" x=\"1835\">CCONJ</tspan>\n",
              "</text>\n",
              "\n",
              "<text class=\"displacy-token\" fill=\"currentColor\" text-anchor=\"middle\" y=\"514.5\">\n",
              "    <tspan class=\"displacy-word\" fill=\"currentColor\" x=\"1920\">the</tspan>\n",
              "    <tspan class=\"displacy-tag\" dy=\"2em\" fill=\"currentColor\" x=\"1920\">DET</tspan>\n",
              "</text>\n",
              "\n",
              "<text class=\"displacy-token\" fill=\"currentColor\" text-anchor=\"middle\" y=\"514.5\">\n",
              "    <tspan class=\"displacy-word\" fill=\"currentColor\" x=\"2005\">grandson</tspan>\n",
              "    <tspan class=\"displacy-tag\" dy=\"2em\" fill=\"currentColor\" x=\"2005\">NOUN</tspan>\n",
              "</text>\n",
              "\n",
              "<text class=\"displacy-token\" fill=\"currentColor\" text-anchor=\"middle\" y=\"514.5\">\n",
              "    <tspan class=\"displacy-word\" fill=\"currentColor\" x=\"2090\">of</tspan>\n",
              "    <tspan class=\"displacy-tag\" dy=\"2em\" fill=\"currentColor\" x=\"2090\">ADP</tspan>\n",
              "</text>\n",
              "\n",
              "<text class=\"displacy-token\" fill=\"currentColor\" text-anchor=\"middle\" y=\"514.5\">\n",
              "    <tspan class=\"displacy-word\" fill=\"currentColor\" x=\"2175\">former</tspan>\n",
              "    <tspan class=\"displacy-tag\" dy=\"2em\" fill=\"currentColor\" x=\"2175\">ADJ</tspan>\n",
              "</text>\n",
              "\n",
              "<text class=\"displacy-token\" fill=\"currentColor\" text-anchor=\"middle\" y=\"514.5\">\n",
              "    <tspan class=\"displacy-word\" fill=\"currentColor\" x=\"2260\">U.S.</tspan>\n",
              "    <tspan class=\"displacy-tag\" dy=\"2em\" fill=\"currentColor\" x=\"2260\">PROPN</tspan>\n",
              "</text>\n",
              "\n",
              "<text class=\"displacy-token\" fill=\"currentColor\" text-anchor=\"middle\" y=\"514.5\">\n",
              "    <tspan class=\"displacy-word\" fill=\"currentColor\" x=\"2345\">\n",
              "</tspan>\n",
              "    <tspan class=\"displacy-tag\" dy=\"2em\" fill=\"currentColor\" x=\"2345\">SPACE</tspan>\n",
              "</text>\n",
              "\n",
              "<text class=\"displacy-token\" fill=\"currentColor\" text-anchor=\"middle\" y=\"514.5\">\n",
              "    <tspan class=\"displacy-word\" fill=\"currentColor\" x=\"2430\">Treasury</tspan>\n",
              "    <tspan class=\"displacy-tag\" dy=\"2em\" fill=\"currentColor\" x=\"2430\">PROPN</tspan>\n",
              "</text>\n",
              "\n",
              "<text class=\"displacy-token\" fill=\"currentColor\" text-anchor=\"middle\" y=\"514.5\">\n",
              "    <tspan class=\"displacy-word\" fill=\"currentColor\" x=\"2515\">Secretary,</tspan>\n",
              "    <tspan class=\"displacy-tag\" dy=\"2em\" fill=\"currentColor\" x=\"2515\">PROPN</tspan>\n",
              "</text>\n",
              "\n",
              "<text class=\"displacy-token\" fill=\"currentColor\" text-anchor=\"middle\" y=\"514.5\">\n",
              "    <tspan class=\"displacy-word\" fill=\"currentColor\" x=\"2600\">Andrew</tspan>\n",
              "    <tspan class=\"displacy-tag\" dy=\"2em\" fill=\"currentColor\" x=\"2600\">PROPN</tspan>\n",
              "</text>\n",
              "\n",
              "<text class=\"displacy-token\" fill=\"currentColor\" text-anchor=\"middle\" y=\"514.5\">\n",
              "    <tspan class=\"displacy-word\" fill=\"currentColor\" x=\"2685\">Mellon,</tspan>\n",
              "    <tspan class=\"displacy-tag\" dy=\"2em\" fill=\"currentColor\" x=\"2685\">PROPN</tspan>\n",
              "</text>\n",
              "\n",
              "<text class=\"displacy-token\" fill=\"currentColor\" text-anchor=\"middle\" y=\"514.5\">\n",
              "    <tspan class=\"displacy-word\" fill=\"currentColor\" x=\"2770\">his</tspan>\n",
              "    <tspan class=\"displacy-tag\" dy=\"2em\" fill=\"currentColor\" x=\"2770\">DET</tspan>\n",
              "</text>\n",
              "\n",
              "<text class=\"displacy-token\" fill=\"currentColor\" text-anchor=\"middle\" y=\"514.5\">\n",
              "    <tspan class=\"displacy-word\" fill=\"currentColor\" x=\"2855\">is</tspan>\n",
              "    <tspan class=\"displacy-tag\" dy=\"2em\" fill=\"currentColor\" x=\"2855\">AUX</tspan>\n",
              "</text>\n",
              "\n",
              "<text class=\"displacy-token\" fill=\"currentColor\" text-anchor=\"middle\" y=\"514.5\">\n",
              "    <tspan class=\"displacy-word\" fill=\"currentColor\" x=\"2940\">among</tspan>\n",
              "    <tspan class=\"displacy-tag\" dy=\"2em\" fill=\"currentColor\" x=\"2940\">ADP</tspan>\n",
              "</text>\n",
              "\n",
              "<text class=\"displacy-token\" fill=\"currentColor\" text-anchor=\"middle\" y=\"514.5\">\n",
              "    <tspan class=\"displacy-word\" fill=\"currentColor\" x=\"3025\">the</tspan>\n",
              "    <tspan class=\"displacy-tag\" dy=\"2em\" fill=\"currentColor\" x=\"3025\">DET</tspan>\n",
              "</text>\n",
              "\n",
              "<text class=\"displacy-token\" fill=\"currentColor\" text-anchor=\"middle\" y=\"514.5\">\n",
              "    <tspan class=\"displacy-word\" fill=\"currentColor\" x=\"3110\">biggest</tspan>\n",
              "    <tspan class=\"displacy-tag\" dy=\"2em\" fill=\"currentColor\" x=\"3110\">ADJ</tspan>\n",
              "</text>\n",
              "\n",
              "<text class=\"displacy-token\" fill=\"currentColor\" text-anchor=\"middle\" y=\"514.5\">\n",
              "    <tspan class=\"displacy-word\" fill=\"currentColor\" x=\"3195\">donations</tspan>\n",
              "    <tspan class=\"displacy-tag\" dy=\"2em\" fill=\"currentColor\" x=\"3195\">NOUN</tspan>\n",
              "</text>\n",
              "\n",
              "<text class=\"displacy-token\" fill=\"currentColor\" text-anchor=\"middle\" y=\"514.5\">\n",
              "    <tspan class=\"displacy-word\" fill=\"currentColor\" x=\"3280\">this</tspan>\n",
              "    <tspan class=\"displacy-tag\" dy=\"2em\" fill=\"currentColor\" x=\"3280\">DET</tspan>\n",
              "</text>\n",
              "\n",
              "<text class=\"displacy-token\" fill=\"currentColor\" text-anchor=\"middle\" y=\"514.5\">\n",
              "    <tspan class=\"displacy-word\" fill=\"currentColor\" x=\"3365\">\n",
              "</tspan>\n",
              "    <tspan class=\"displacy-tag\" dy=\"2em\" fill=\"currentColor\" x=\"3365\">SPACE</tspan>\n",
              "</text>\n",
              "\n",
              "<text class=\"displacy-token\" fill=\"currentColor\" text-anchor=\"middle\" y=\"514.5\">\n",
              "    <tspan class=\"displacy-word\" fill=\"currentColor\" x=\"3450\">election</tspan>\n",
              "    <tspan class=\"displacy-tag\" dy=\"2em\" fill=\"currentColor\" x=\"3450\">NOUN</tspan>\n",
              "</text>\n",
              "\n",
              "<text class=\"displacy-token\" fill=\"currentColor\" text-anchor=\"middle\" y=\"514.5\">\n",
              "    <tspan class=\"displacy-word\" fill=\"currentColor\" x=\"3535\">cycle.</tspan>\n",
              "    <tspan class=\"displacy-tag\" dy=\"2em\" fill=\"currentColor\" x=\"3535\">NOUN</tspan>\n",
              "</text>\n",
              "\n",
              "<text class=\"displacy-token\" fill=\"currentColor\" text-anchor=\"middle\" y=\"514.5\">\n",
              "    <tspan class=\"displacy-word\" fill=\"currentColor\" x=\"3620\">He</tspan>\n",
              "    <tspan class=\"displacy-tag\" dy=\"2em\" fill=\"currentColor\" x=\"3620\">PRON</tspan>\n",
              "</text>\n",
              "\n",
              "<text class=\"displacy-token\" fill=\"currentColor\" text-anchor=\"middle\" y=\"514.5\">\n",
              "    <tspan class=\"displacy-word\" fill=\"currentColor\" x=\"3705\">owns</tspan>\n",
              "    <tspan class=\"displacy-tag\" dy=\"2em\" fill=\"currentColor\" x=\"3705\">VERB</tspan>\n",
              "</text>\n",
              "\n",
              "<text class=\"displacy-token\" fill=\"currentColor\" text-anchor=\"middle\" y=\"514.5\">\n",
              "    <tspan class=\"displacy-word\" fill=\"currentColor\" x=\"3790\">the</tspan>\n",
              "    <tspan class=\"displacy-tag\" dy=\"2em\" fill=\"currentColor\" x=\"3790\">DET</tspan>\n",
              "</text>\n",
              "\n",
              "<text class=\"displacy-token\" fill=\"currentColor\" text-anchor=\"middle\" y=\"514.5\">\n",
              "    <tspan class=\"displacy-word\" fill=\"currentColor\" x=\"3875\">largest</tspan>\n",
              "    <tspan class=\"displacy-tag\" dy=\"2em\" fill=\"currentColor\" x=\"3875\">ADJ</tspan>\n",
              "</text>\n",
              "\n",
              "<text class=\"displacy-token\" fill=\"currentColor\" text-anchor=\"middle\" y=\"514.5\">\n",
              "    <tspan class=\"displacy-word\" fill=\"currentColor\" x=\"3960\">regional</tspan>\n",
              "    <tspan class=\"displacy-tag\" dy=\"2em\" fill=\"currentColor\" x=\"3960\">ADJ</tspan>\n",
              "</text>\n",
              "\n",
              "<text class=\"displacy-token\" fill=\"currentColor\" text-anchor=\"middle\" y=\"514.5\">\n",
              "    <tspan class=\"displacy-word\" fill=\"currentColor\" x=\"4045\">railroad</tspan>\n",
              "    <tspan class=\"displacy-tag\" dy=\"2em\" fill=\"currentColor\" x=\"4045\">NOUN</tspan>\n",
              "</text>\n",
              "\n",
              "<text class=\"displacy-token\" fill=\"currentColor\" text-anchor=\"middle\" y=\"514.5\">\n",
              "    <tspan class=\"displacy-word\" fill=\"currentColor\" x=\"4130\">in</tspan>\n",
              "    <tspan class=\"displacy-tag\" dy=\"2em\" fill=\"currentColor\" x=\"4130\">ADP</tspan>\n",
              "</text>\n",
              "\n",
              "<text class=\"displacy-token\" fill=\"currentColor\" text-anchor=\"middle\" y=\"514.5\">\n",
              "    <tspan class=\"displacy-word\" fill=\"currentColor\" x=\"4215\">North</tspan>\n",
              "    <tspan class=\"displacy-tag\" dy=\"2em\" fill=\"currentColor\" x=\"4215\">PROPN</tspan>\n",
              "</text>\n",
              "\n",
              "<text class=\"displacy-token\" fill=\"currentColor\" text-anchor=\"middle\" y=\"514.5\">\n",
              "    <tspan class=\"displacy-word\" fill=\"currentColor\" x=\"4300\">America,</tspan>\n",
              "    <tspan class=\"displacy-tag\" dy=\"2em\" fill=\"currentColor\" x=\"4300\">PROPN</tspan>\n",
              "</text>\n",
              "\n",
              "<text class=\"displacy-token\" fill=\"currentColor\" text-anchor=\"middle\" y=\"514.5\">\n",
              "    <tspan class=\"displacy-word\" fill=\"currentColor\" x=\"4385\">\n",
              " </tspan>\n",
              "    <tspan class=\"displacy-tag\" dy=\"2em\" fill=\"currentColor\" x=\"4385\">SPACE</tspan>\n",
              "</text>\n",
              "\n",
              "<text class=\"displacy-token\" fill=\"currentColor\" text-anchor=\"middle\" y=\"514.5\">\n",
              "    <tspan class=\"displacy-word\" fill=\"currentColor\" x=\"4470\">Pan</tspan>\n",
              "    <tspan class=\"displacy-tag\" dy=\"2em\" fill=\"currentColor\" x=\"4470\">PROPN</tspan>\n",
              "</text>\n",
              "\n",
              "<text class=\"displacy-token\" fill=\"currentColor\" text-anchor=\"middle\" y=\"514.5\">\n",
              "    <tspan class=\"displacy-word\" fill=\"currentColor\" x=\"4555\">Am</tspan>\n",
              "    <tspan class=\"displacy-tag\" dy=\"2em\" fill=\"currentColor\" x=\"4555\">PROPN</tspan>\n",
              "</text>\n",
              "\n",
              "<text class=\"displacy-token\" fill=\"currentColor\" text-anchor=\"middle\" y=\"514.5\">\n",
              "    <tspan class=\"displacy-word\" fill=\"currentColor\" x=\"4640\">Railways,</tspan>\n",
              "    <tspan class=\"displacy-tag\" dy=\"2em\" fill=\"currentColor\" x=\"4640\">PROPN</tspan>\n",
              "</text>\n",
              "\n",
              "<text class=\"displacy-token\" fill=\"currentColor\" text-anchor=\"middle\" y=\"514.5\">\n",
              "    <tspan class=\"displacy-word\" fill=\"currentColor\" x=\"4725\">which</tspan>\n",
              "    <tspan class=\"displacy-tag\" dy=\"2em\" fill=\"currentColor\" x=\"4725\">DET</tspan>\n",
              "</text>\n",
              "\n",
              "<text class=\"displacy-token\" fill=\"currentColor\" text-anchor=\"middle\" y=\"514.5\">\n",
              "    <tspan class=\"displacy-word\" fill=\"currentColor\" x=\"4810\">went</tspan>\n",
              "    <tspan class=\"displacy-tag\" dy=\"2em\" fill=\"currentColor\" x=\"4810\">VERB</tspan>\n",
              "</text>\n",
              "\n",
              "<text class=\"displacy-token\" fill=\"currentColor\" text-anchor=\"middle\" y=\"514.5\">\n",
              "    <tspan class=\"displacy-word\" fill=\"currentColor\" x=\"4895\">up</tspan>\n",
              "    <tspan class=\"displacy-tag\" dy=\"2em\" fill=\"currentColor\" x=\"4895\">ADP</tspan>\n",
              "</text>\n",
              "\n",
              "<text class=\"displacy-token\" fill=\"currentColor\" text-anchor=\"middle\" y=\"514.5\">\n",
              "    <tspan class=\"displacy-word\" fill=\"currentColor\" x=\"4980\">for</tspan>\n",
              "    <tspan class=\"displacy-tag\" dy=\"2em\" fill=\"currentColor\" x=\"4980\">ADP</tspan>\n",
              "</text>\n",
              "\n",
              "<text class=\"displacy-token\" fill=\"currentColor\" text-anchor=\"middle\" y=\"514.5\">\n",
              "    <tspan class=\"displacy-word\" fill=\"currentColor\" x=\"5065\">sale</tspan>\n",
              "    <tspan class=\"displacy-tag\" dy=\"2em\" fill=\"currentColor\" x=\"5065\">NOUN</tspan>\n",
              "</text>\n",
              "\n",
              "<text class=\"displacy-token\" fill=\"currentColor\" text-anchor=\"middle\" y=\"514.5\">\n",
              "    <tspan class=\"displacy-word\" fill=\"currentColor\" x=\"5150\">in</tspan>\n",
              "    <tspan class=\"displacy-tag\" dy=\"2em\" fill=\"currentColor\" x=\"5150\">ADP</tspan>\n",
              "</text>\n",
              "\n",
              "<text class=\"displacy-token\" fill=\"currentColor\" text-anchor=\"middle\" y=\"514.5\">\n",
              "    <tspan class=\"displacy-word\" fill=\"currentColor\" x=\"5235\">July.</tspan>\n",
              "    <tspan class=\"displacy-tag\" dy=\"2em\" fill=\"currentColor\" x=\"5235\">PROPN</tspan>\n",
              "</text>\n",
              "\n",
              "<text class=\"displacy-token\" fill=\"currentColor\" text-anchor=\"middle\" y=\"514.5\">\n",
              "    <tspan class=\"displacy-word\" fill=\"currentColor\" x=\"5320\">He</tspan>\n",
              "    <tspan class=\"displacy-tag\" dy=\"2em\" fill=\"currentColor\" x=\"5320\">PRON</tspan>\n",
              "</text>\n",
              "\n",
              "<text class=\"displacy-token\" fill=\"currentColor\" text-anchor=\"middle\" y=\"514.5\">\n",
              "    <tspan class=\"displacy-word\" fill=\"currentColor\" x=\"5405\">'s</tspan>\n",
              "    <tspan class=\"displacy-tag\" dy=\"2em\" fill=\"currentColor\" x=\"5405\">AUX</tspan>\n",
              "</text>\n",
              "\n",
              "<text class=\"displacy-token\" fill=\"currentColor\" text-anchor=\"middle\" y=\"514.5\">\n",
              "    <tspan class=\"displacy-word\" fill=\"currentColor\" x=\"5490\">been</tspan>\n",
              "    <tspan class=\"displacy-tag\" dy=\"2em\" fill=\"currentColor\" x=\"5490\">AUX</tspan>\n",
              "</text>\n",
              "\n",
              "<text class=\"displacy-token\" fill=\"currentColor\" text-anchor=\"middle\" y=\"514.5\">\n",
              "    <tspan class=\"displacy-word\" fill=\"currentColor\" x=\"5575\">notably</tspan>\n",
              "    <tspan class=\"displacy-tag\" dy=\"2em\" fill=\"currentColor\" x=\"5575\">ADV</tspan>\n",
              "</text>\n",
              "\n",
              "<text class=\"displacy-token\" fill=\"currentColor\" text-anchor=\"middle\" y=\"514.5\">\n",
              "    <tspan class=\"displacy-word\" fill=\"currentColor\" x=\"5660\">reclusive</tspan>\n",
              "    <tspan class=\"displacy-tag\" dy=\"2em\" fill=\"currentColor\" x=\"5660\">ADJ</tspan>\n",
              "</text>\n",
              "\n",
              "<text class=\"displacy-token\" fill=\"currentColor\" text-anchor=\"middle\" y=\"514.5\">\n",
              "    <tspan class=\"displacy-word\" fill=\"currentColor\" x=\"5745\">and</tspan>\n",
              "    <tspan class=\"displacy-tag\" dy=\"2em\" fill=\"currentColor\" x=\"5745\">CCONJ</tspan>\n",
              "</text>\n",
              "\n",
              "<text class=\"displacy-token\" fill=\"currentColor\" text-anchor=\"middle\" y=\"514.5\">\n",
              "    <tspan class=\"displacy-word\" fill=\"currentColor\" x=\"5830\">absent</tspan>\n",
              "    <tspan class=\"displacy-tag\" dy=\"2em\" fill=\"currentColor\" x=\"5830\">ADJ</tspan>\n",
              "</text>\n",
              "\n",
              "<text class=\"displacy-token\" fill=\"currentColor\" text-anchor=\"middle\" y=\"514.5\">\n",
              "    <tspan class=\"displacy-word\" fill=\"currentColor\" x=\"5915\">from</tspan>\n",
              "    <tspan class=\"displacy-tag\" dy=\"2em\" fill=\"currentColor\" x=\"5915\">ADP</tspan>\n",
              "</text>\n",
              "\n",
              "<text class=\"displacy-token\" fill=\"currentColor\" text-anchor=\"middle\" y=\"514.5\">\n",
              "    <tspan class=\"displacy-word\" fill=\"currentColor\" x=\"6000\">politics.</tspan>\n",
              "    <tspan class=\"displacy-tag\" dy=\"2em\" fill=\"currentColor\" x=\"6000\">NOUN</tspan>\n",
              "</text>\n",
              "\n",
              "<text class=\"displacy-token\" fill=\"currentColor\" text-anchor=\"middle\" y=\"514.5\">\n",
              "    <tspan class=\"displacy-word\" fill=\"currentColor\" x=\"6085\">\n",
              "</tspan>\n",
              "    <tspan class=\"displacy-tag\" dy=\"2em\" fill=\"currentColor\" x=\"6085\">SPACE</tspan>\n",
              "</text>\n",
              "\n",
              "<text class=\"displacy-token\" fill=\"currentColor\" text-anchor=\"middle\" y=\"514.5\">\n",
              "    <tspan class=\"displacy-word\" fill=\"currentColor\" x=\"6170\">Republican</tspan>\n",
              "    <tspan class=\"displacy-tag\" dy=\"2em\" fill=\"currentColor\" x=\"6170\">ADJ</tspan>\n",
              "</text>\n",
              "\n",
              "<text class=\"displacy-token\" fill=\"currentColor\" text-anchor=\"middle\" y=\"514.5\">\n",
              "    <tspan class=\"displacy-word\" fill=\"currentColor\" x=\"6255\">operatives</tspan>\n",
              "    <tspan class=\"displacy-tag\" dy=\"2em\" fill=\"currentColor\" x=\"6255\">NOUN</tspan>\n",
              "</text>\n",
              "\n",
              "<text class=\"displacy-token\" fill=\"currentColor\" text-anchor=\"middle\" y=\"514.5\">\n",
              "    <tspan class=\"displacy-word\" fill=\"currentColor\" x=\"6340\">reportedly</tspan>\n",
              "    <tspan class=\"displacy-tag\" dy=\"2em\" fill=\"currentColor\" x=\"6340\">ADV</tspan>\n",
              "</text>\n",
              "\n",
              "<text class=\"displacy-token\" fill=\"currentColor\" text-anchor=\"middle\" y=\"514.5\">\n",
              "    <tspan class=\"displacy-word\" fill=\"currentColor\" x=\"6425\">had</tspan>\n",
              "    <tspan class=\"displacy-tag\" dy=\"2em\" fill=\"currentColor\" x=\"6425\">AUX</tspan>\n",
              "</text>\n",
              "\n",
              "<text class=\"displacy-token\" fill=\"currentColor\" text-anchor=\"middle\" y=\"514.5\">\n",
              "    <tspan class=\"displacy-word\" fill=\"currentColor\" x=\"6510\">to</tspan>\n",
              "    <tspan class=\"displacy-tag\" dy=\"2em\" fill=\"currentColor\" x=\"6510\">PART</tspan>\n",
              "</text>\n",
              "\n",
              "<text class=\"displacy-token\" fill=\"currentColor\" text-anchor=\"middle\" y=\"514.5\">\n",
              "    <tspan class=\"displacy-word\" fill=\"currentColor\" x=\"6595\">look</tspan>\n",
              "    <tspan class=\"displacy-tag\" dy=\"2em\" fill=\"currentColor\" x=\"6595\">VERB</tspan>\n",
              "</text>\n",
              "\n",
              "<text class=\"displacy-token\" fill=\"currentColor\" text-anchor=\"middle\" y=\"514.5\">\n",
              "    <tspan class=\"displacy-word\" fill=\"currentColor\" x=\"6680\">his</tspan>\n",
              "    <tspan class=\"displacy-tag\" dy=\"2em\" fill=\"currentColor\" x=\"6680\">DET</tspan>\n",
              "</text>\n",
              "\n",
              "<text class=\"displacy-token\" fill=\"currentColor\" text-anchor=\"middle\" y=\"514.5\">\n",
              "    <tspan class=\"displacy-word\" fill=\"currentColor\" x=\"6765\">name</tspan>\n",
              "    <tspan class=\"displacy-tag\" dy=\"2em\" fill=\"currentColor\" x=\"6765\">NOUN</tspan>\n",
              "</text>\n",
              "\n",
              "<text class=\"displacy-token\" fill=\"currentColor\" text-anchor=\"middle\" y=\"514.5\">\n",
              "    <tspan class=\"displacy-word\" fill=\"currentColor\" x=\"6850\">up</tspan>\n",
              "    <tspan class=\"displacy-tag\" dy=\"2em\" fill=\"currentColor\" x=\"6850\">ADP</tspan>\n",
              "</text>\n",
              "\n",
              "<text class=\"displacy-token\" fill=\"currentColor\" text-anchor=\"middle\" y=\"514.5\">\n",
              "    <tspan class=\"displacy-word\" fill=\"currentColor\" x=\"6935\">on</tspan>\n",
              "    <tspan class=\"displacy-tag\" dy=\"2em\" fill=\"currentColor\" x=\"6935\">ADP</tspan>\n",
              "</text>\n",
              "\n",
              "<text class=\"displacy-token\" fill=\"currentColor\" text-anchor=\"middle\" y=\"514.5\">\n",
              "    <tspan class=\"displacy-word\" fill=\"currentColor\" x=\"7020\">Google</tspan>\n",
              "    <tspan class=\"displacy-tag\" dy=\"2em\" fill=\"currentColor\" x=\"7020\">PROPN</tspan>\n",
              "</text>\n",
              "\n",
              "<text class=\"displacy-token\" fill=\"currentColor\" text-anchor=\"middle\" y=\"514.5\">\n",
              "    <tspan class=\"displacy-word\" fill=\"currentColor\" x=\"7105\">when</tspan>\n",
              "    <tspan class=\"displacy-tag\" dy=\"2em\" fill=\"currentColor\" x=\"7105\">ADV</tspan>\n",
              "</text>\n",
              "\n",
              "<text class=\"displacy-token\" fill=\"currentColor\" text-anchor=\"middle\" y=\"514.5\">\n",
              "    <tspan class=\"displacy-word\" fill=\"currentColor\" x=\"7190\">he</tspan>\n",
              "    <tspan class=\"displacy-tag\" dy=\"2em\" fill=\"currentColor\" x=\"7190\">PRON</tspan>\n",
              "</text>\n",
              "\n",
              "<text class=\"displacy-token\" fill=\"currentColor\" text-anchor=\"middle\" y=\"514.5\">\n",
              "    <tspan class=\"displacy-word\" fill=\"currentColor\" x=\"7275\">came</tspan>\n",
              "    <tspan class=\"displacy-tag\" dy=\"2em\" fill=\"currentColor\" x=\"7275\">VERB</tspan>\n",
              "</text>\n",
              "\n",
              "<text class=\"displacy-token\" fill=\"currentColor\" text-anchor=\"middle\" y=\"514.5\">\n",
              "    <tspan class=\"displacy-word\" fill=\"currentColor\" x=\"7360\">forward</tspan>\n",
              "    <tspan class=\"displacy-tag\" dy=\"2em\" fill=\"currentColor\" x=\"7360\">ADV</tspan>\n",
              "</text>\n",
              "\n",
              "<text class=\"displacy-token\" fill=\"currentColor\" text-anchor=\"middle\" y=\"514.5\">\n",
              "    <tspan class=\"displacy-word\" fill=\"currentColor\" x=\"7445\">to</tspan>\n",
              "    <tspan class=\"displacy-tag\" dy=\"2em\" fill=\"currentColor\" x=\"7445\">PART</tspan>\n",
              "</text>\n",
              "\n",
              "<text class=\"displacy-token\" fill=\"currentColor\" text-anchor=\"middle\" y=\"514.5\">\n",
              "    <tspan class=\"displacy-word\" fill=\"currentColor\" x=\"7530\">help.</tspan>\n",
              "    <tspan class=\"displacy-tag\" dy=\"2em\" fill=\"currentColor\" x=\"7530\">VERB</tspan>\n",
              "</text>\n",
              "\n",
              "<g class=\"displacy-arrow\">\n",
              "    <path class=\"displacy-arc\" id=\"arrow-38515fdb5e95480a80110f1ff83db3ab-0-0\" stroke-width=\"2px\" d=\"M70,469.5 C70,257.0 445.0,257.0 445.0,469.5\" fill=\"none\" stroke=\"currentColor\"/>\n",
              "    <text dy=\"1.25em\" style=\"font-size: 0.8em; letter-spacing: 1px\">\n",
              "        <textPath xlink:href=\"#arrow-38515fdb5e95480a80110f1ff83db3ab-0-0\" class=\"displacy-label\" startOffset=\"50%\" side=\"left\" fill=\"currentColor\" text-anchor=\"middle\">nsubj</textPath>\n",
              "    </text>\n",
              "    <path class=\"displacy-arrowhead\" d=\"M70,471.5 L62,459.5 78,459.5\" fill=\"currentColor\"/>\n",
              "</g>\n",
              "\n",
              "<g class=\"displacy-arrow\">\n",
              "    <path class=\"displacy-arc\" id=\"arrow-38515fdb5e95480a80110f1ff83db3ab-0-1\" stroke-width=\"2px\" d=\"M70,469.5 C70,427.0 85.0,427.0 85.0,469.5\" fill=\"none\" stroke=\"currentColor\"/>\n",
              "    <text dy=\"1.25em\" style=\"font-size: 0.8em; letter-spacing: 1px\">\n",
              "        <textPath xlink:href=\"#arrow-38515fdb5e95480a80110f1ff83db3ab-0-1\" class=\"displacy-label\" startOffset=\"50%\" side=\"left\" fill=\"currentColor\" text-anchor=\"middle\">prep</textPath>\n",
              "    </text>\n",
              "    <path class=\"displacy-arrowhead\" d=\"M85.0,471.5 L93.0,459.5 77.0,459.5\" fill=\"currentColor\"/>\n",
              "</g>\n",
              "\n",
              "<g class=\"displacy-arrow\">\n",
              "    <path class=\"displacy-arc\" id=\"arrow-38515fdb5e95480a80110f1ff83db3ab-0-2\" stroke-width=\"2px\" d=\"M240,469.5 C240,427.0 255.0,427.0 255.0,469.5\" fill=\"none\" stroke=\"currentColor\"/>\n",
              "    <text dy=\"1.25em\" style=\"font-size: 0.8em; letter-spacing: 1px\">\n",
              "        <textPath xlink:href=\"#arrow-38515fdb5e95480a80110f1ff83db3ab-0-2\" class=\"displacy-label\" startOffset=\"50%\" side=\"left\" fill=\"currentColor\" text-anchor=\"middle\">compound</textPath>\n",
              "    </text>\n",
              "    <path class=\"displacy-arrowhead\" d=\"M240,471.5 L232,459.5 248,459.5\" fill=\"currentColor\"/>\n",
              "</g>\n",
              "\n",
              "<g class=\"displacy-arrow\">\n",
              "    <path class=\"displacy-arc\" id=\"arrow-38515fdb5e95480a80110f1ff83db3ab-0-3\" stroke-width=\"2px\" d=\"M325,469.5 C325,427.0 340.0,427.0 340.0,469.5\" fill=\"none\" stroke=\"currentColor\"/>\n",
              "    <text dy=\"1.25em\" style=\"font-size: 0.8em; letter-spacing: 1px\">\n",
              "        <textPath xlink:href=\"#arrow-38515fdb5e95480a80110f1ff83db3ab-0-3\" class=\"displacy-label\" startOffset=\"50%\" side=\"left\" fill=\"currentColor\" text-anchor=\"middle\">compound</textPath>\n",
              "    </text>\n",
              "    <path class=\"displacy-arrowhead\" d=\"M325,471.5 L317,459.5 333,459.5\" fill=\"currentColor\"/>\n",
              "</g>\n",
              "\n",
              "<g class=\"displacy-arrow\">\n",
              "    <path class=\"displacy-arc\" id=\"arrow-38515fdb5e95480a80110f1ff83db3ab-0-4\" stroke-width=\"2px\" d=\"M155,469.5 C155,342.0 350.0,342.0 350.0,469.5\" fill=\"none\" stroke=\"currentColor\"/>\n",
              "    <text dy=\"1.25em\" style=\"font-size: 0.8em; letter-spacing: 1px\">\n",
              "        <textPath xlink:href=\"#arrow-38515fdb5e95480a80110f1ff83db3ab-0-4\" class=\"displacy-label\" startOffset=\"50%\" side=\"left\" fill=\"currentColor\" text-anchor=\"middle\">pobj</textPath>\n",
              "    </text>\n",
              "    <path class=\"displacy-arrowhead\" d=\"M350.0,471.5 L358.0,459.5 342.0,459.5\" fill=\"currentColor\"/>\n",
              "</g>\n",
              "\n",
              "<g class=\"displacy-arrow\">\n",
              "    <path class=\"displacy-arc\" id=\"arrow-38515fdb5e95480a80110f1ff83db3ab-0-5\" stroke-width=\"2px\" d=\"M580,469.5 C580,384.5 685.0,384.5 685.0,469.5\" fill=\"none\" stroke=\"currentColor\"/>\n",
              "    <text dy=\"1.25em\" style=\"font-size: 0.8em; letter-spacing: 1px\">\n",
              "        <textPath xlink:href=\"#arrow-38515fdb5e95480a80110f1ff83db3ab-0-5\" class=\"displacy-label\" startOffset=\"50%\" side=\"left\" fill=\"currentColor\" text-anchor=\"middle\">quantmod</textPath>\n",
              "    </text>\n",
              "    <path class=\"displacy-arrowhead\" d=\"M580,471.5 L572,459.5 588,459.5\" fill=\"currentColor\"/>\n",
              "</g>\n",
              "\n",
              "<g class=\"displacy-arrow\">\n",
              "    <path class=\"displacy-arc\" id=\"arrow-38515fdb5e95480a80110f1ff83db3ab-0-6\" stroke-width=\"2px\" d=\"M665,469.5 C665,427.0 680.0,427.0 680.0,469.5\" fill=\"none\" stroke=\"currentColor\"/>\n",
              "    <text dy=\"1.25em\" style=\"font-size: 0.8em; letter-spacing: 1px\">\n",
              "        <textPath xlink:href=\"#arrow-38515fdb5e95480a80110f1ff83db3ab-0-6\" class=\"displacy-label\" startOffset=\"50%\" side=\"left\" fill=\"currentColor\" text-anchor=\"middle\">compound</textPath>\n",
              "    </text>\n",
              "    <path class=\"displacy-arrowhead\" d=\"M665,471.5 L657,459.5 673,459.5\" fill=\"currentColor\"/>\n",
              "</g>\n",
              "\n",
              "<g class=\"displacy-arrow\">\n",
              "    <path class=\"displacy-arc\" id=\"arrow-38515fdb5e95480a80110f1ff83db3ab-0-7\" stroke-width=\"2px\" d=\"M495,469.5 C495,342.0 690.0,342.0 690.0,469.5\" fill=\"none\" stroke=\"currentColor\"/>\n",
              "    <text dy=\"1.25em\" style=\"font-size: 0.8em; letter-spacing: 1px\">\n",
              "        <textPath xlink:href=\"#arrow-38515fdb5e95480a80110f1ff83db3ab-0-7\" class=\"displacy-label\" startOffset=\"50%\" side=\"left\" fill=\"currentColor\" text-anchor=\"middle\">dobj</textPath>\n",
              "    </text>\n",
              "    <path class=\"displacy-arrowhead\" d=\"M690.0,471.5 L698.0,459.5 682.0,459.5\" fill=\"currentColor\"/>\n",
              "</g>\n",
              "\n",
              "<g class=\"displacy-arrow\">\n",
              "    <path class=\"displacy-arc\" id=\"arrow-38515fdb5e95480a80110f1ff83db3ab-0-8\" stroke-width=\"2px\" d=\"M495,469.5 C495,299.5 780.0,299.5 780.0,469.5\" fill=\"none\" stroke=\"currentColor\"/>\n",
              "    <text dy=\"1.25em\" style=\"font-size: 0.8em; letter-spacing: 1px\">\n",
              "        <textPath xlink:href=\"#arrow-38515fdb5e95480a80110f1ff83db3ab-0-8\" class=\"displacy-label\" startOffset=\"50%\" side=\"left\" fill=\"currentColor\" text-anchor=\"middle\">prep</textPath>\n",
              "    </text>\n",
              "    <path class=\"displacy-arrowhead\" d=\"M780.0,471.5 L788.0,459.5 772.0,459.5\" fill=\"currentColor\"/>\n",
              "</g>\n",
              "\n",
              "<g class=\"displacy-arrow\">\n",
              "    <path class=\"displacy-arc\" id=\"arrow-38515fdb5e95480a80110f1ff83db3ab-0-9\" stroke-width=\"2px\" d=\"M920,469.5 C920,384.5 1025.0,384.5 1025.0,469.5\" fill=\"none\" stroke=\"currentColor\"/>\n",
              "    <text dy=\"1.25em\" style=\"font-size: 0.8em; letter-spacing: 1px\">\n",
              "        <textPath xlink:href=\"#arrow-38515fdb5e95480a80110f1ff83db3ab-0-9\" class=\"displacy-label\" startOffset=\"50%\" side=\"left\" fill=\"currentColor\" text-anchor=\"middle\">poss</textPath>\n",
              "    </text>\n",
              "    <path class=\"displacy-arrowhead\" d=\"M920,471.5 L912,459.5 928,459.5\" fill=\"currentColor\"/>\n",
              "</g>\n",
              "\n",
              "<g class=\"displacy-arrow\">\n",
              "    <path class=\"displacy-arc\" id=\"arrow-38515fdb5e95480a80110f1ff83db3ab-0-10\" stroke-width=\"2px\" d=\"M920,469.5 C920,427.0 935.0,427.0 935.0,469.5\" fill=\"none\" stroke=\"currentColor\"/>\n",
              "    <text dy=\"1.25em\" style=\"font-size: 0.8em; letter-spacing: 1px\">\n",
              "        <textPath xlink:href=\"#arrow-38515fdb5e95480a80110f1ff83db3ab-0-10\" class=\"displacy-label\" startOffset=\"50%\" side=\"left\" fill=\"currentColor\" text-anchor=\"middle\">case</textPath>\n",
              "    </text>\n",
              "    <path class=\"displacy-arrowhead\" d=\"M935.0,471.5 L943.0,459.5 927.0,459.5\" fill=\"currentColor\"/>\n",
              "</g>\n",
              "\n",
              "<g class=\"displacy-arrow\">\n",
              "    <path class=\"displacy-arc\" id=\"arrow-38515fdb5e95480a80110f1ff83db3ab-0-11\" stroke-width=\"2px\" d=\"M495,469.5 C495,172.0 1050.0,172.0 1050.0,469.5\" fill=\"none\" stroke=\"currentColor\"/>\n",
              "    <text dy=\"1.25em\" style=\"font-size: 0.8em; letter-spacing: 1px\">\n",
              "        <textPath xlink:href=\"#arrow-38515fdb5e95480a80110f1ff83db3ab-0-11\" class=\"displacy-label\" startOffset=\"50%\" side=\"left\" fill=\"currentColor\" text-anchor=\"middle\">punct</textPath>\n",
              "    </text>\n",
              "    <path class=\"displacy-arrowhead\" d=\"M1050.0,471.5 L1058.0,459.5 1042.0,459.5\" fill=\"currentColor\"/>\n",
              "</g>\n",
              "\n",
              "<g class=\"displacy-arrow\">\n",
              "    <path class=\"displacy-arc\" id=\"arrow-38515fdb5e95480a80110f1ff83db3ab-0-12\" stroke-width=\"2px\" d=\"M1090,469.5 C1090,427.0 1105.0,427.0 1105.0,469.5\" fill=\"none\" stroke=\"currentColor\"/>\n",
              "    <text dy=\"1.25em\" style=\"font-size: 0.8em; letter-spacing: 1px\">\n",
              "        <textPath xlink:href=\"#arrow-38515fdb5e95480a80110f1ff83db3ab-0-12\" class=\"displacy-label\" startOffset=\"50%\" side=\"left\" fill=\"currentColor\" text-anchor=\"middle\"></textPath>\n",
              "    </text>\n",
              "    <path class=\"displacy-arrowhead\" d=\"M1105.0,471.5 L1113.0,459.5 1097.0,459.5\" fill=\"currentColor\"/>\n",
              "</g>\n",
              "\n",
              "<g class=\"displacy-arrow\">\n",
              "    <path class=\"displacy-arc\" id=\"arrow-38515fdb5e95480a80110f1ff83db3ab-0-13\" stroke-width=\"2px\" d=\"M1260,469.5 C1260,427.0 1275.0,427.0 1275.0,469.5\" fill=\"none\" stroke=\"currentColor\"/>\n",
              "    <text dy=\"1.25em\" style=\"font-size: 0.8em; letter-spacing: 1px\">\n",
              "        <textPath xlink:href=\"#arrow-38515fdb5e95480a80110f1ff83db3ab-0-13\" class=\"displacy-label\" startOffset=\"50%\" side=\"left\" fill=\"currentColor\" text-anchor=\"middle\">det</textPath>\n",
              "    </text>\n",
              "    <path class=\"displacy-arrowhead\" d=\"M1260,471.5 L1252,459.5 1268,459.5\" fill=\"currentColor\"/>\n",
              "</g>\n",
              "\n",
              "<g class=\"displacy-arrow\">\n",
              "    <path class=\"displacy-arc\" id=\"arrow-38515fdb5e95480a80110f1ff83db3ab-0-14\" stroke-width=\"2px\" d=\"M1345,469.5 C1345,2.0 2855.0,2.0 2855.0,469.5\" fill=\"none\" stroke=\"currentColor\"/>\n",
              "    <text dy=\"1.25em\" style=\"font-size: 0.8em; letter-spacing: 1px\">\n",
              "        <textPath xlink:href=\"#arrow-38515fdb5e95480a80110f1ff83db3ab-0-14\" class=\"displacy-label\" startOffset=\"50%\" side=\"left\" fill=\"currentColor\" text-anchor=\"middle\">npadvmod</textPath>\n",
              "    </text>\n",
              "    <path class=\"displacy-arrowhead\" d=\"M1345,471.5 L1337,459.5 1353,459.5\" fill=\"currentColor\"/>\n",
              "</g>\n",
              "\n",
              "<g class=\"displacy-arrow\">\n",
              "    <path class=\"displacy-arc\" id=\"arrow-38515fdb5e95480a80110f1ff83db3ab-0-15\" stroke-width=\"2px\" d=\"M1345,469.5 C1345,427.0 1360.0,427.0 1360.0,469.5\" fill=\"none\" stroke=\"currentColor\"/>\n",
              "    <text dy=\"1.25em\" style=\"font-size: 0.8em; letter-spacing: 1px\">\n",
              "        <textPath xlink:href=\"#arrow-38515fdb5e95480a80110f1ff83db3ab-0-15\" class=\"displacy-label\" startOffset=\"50%\" side=\"left\" fill=\"currentColor\" text-anchor=\"middle\">prep</textPath>\n",
              "    </text>\n",
              "    <path class=\"displacy-arrowhead\" d=\"M1360.0,471.5 L1368.0,459.5 1352.0,459.5\" fill=\"currentColor\"/>\n",
              "</g>\n",
              "\n",
              "<g class=\"displacy-arrow\">\n",
              "    <path class=\"displacy-arc\" id=\"arrow-38515fdb5e95480a80110f1ff83db3ab-0-16\" stroke-width=\"2px\" d=\"M1515,469.5 C1515,342.0 1710.0,342.0 1710.0,469.5\" fill=\"none\" stroke=\"currentColor\"/>\n",
              "    <text dy=\"1.25em\" style=\"font-size: 0.8em; letter-spacing: 1px\">\n",
              "        <textPath xlink:href=\"#arrow-38515fdb5e95480a80110f1ff83db3ab-0-16\" class=\"displacy-label\" startOffset=\"50%\" side=\"left\" fill=\"currentColor\" text-anchor=\"middle\">det</textPath>\n",
              "    </text>\n",
              "    <path class=\"displacy-arrowhead\" d=\"M1515,471.5 L1507,459.5 1523,459.5\" fill=\"currentColor\"/>\n",
              "</g>\n",
              "\n",
              "<g class=\"displacy-arrow\">\n",
              "    <path class=\"displacy-arc\" id=\"arrow-38515fdb5e95480a80110f1ff83db3ab-0-17\" stroke-width=\"2px\" d=\"M1600,469.5 C1600,384.5 1705.0,384.5 1705.0,469.5\" fill=\"none\" stroke=\"currentColor\"/>\n",
              "    <text dy=\"1.25em\" style=\"font-size: 0.8em; letter-spacing: 1px\">\n",
              "        <textPath xlink:href=\"#arrow-38515fdb5e95480a80110f1ff83db3ab-0-17\" class=\"displacy-label\" startOffset=\"50%\" side=\"left\" fill=\"currentColor\" text-anchor=\"middle\">compound</textPath>\n",
              "    </text>\n",
              "    <path class=\"displacy-arrowhead\" d=\"M1600,471.5 L1592,459.5 1608,459.5\" fill=\"currentColor\"/>\n",
              "</g>\n",
              "\n",
              "<g class=\"displacy-arrow\">\n",
              "    <path class=\"displacy-arc\" id=\"arrow-38515fdb5e95480a80110f1ff83db3ab-0-18\" stroke-width=\"2px\" d=\"M1685,469.5 C1685,427.0 1700.0,427.0 1700.0,469.5\" fill=\"none\" stroke=\"currentColor\"/>\n",
              "    <text dy=\"1.25em\" style=\"font-size: 0.8em; letter-spacing: 1px\">\n",
              "        <textPath xlink:href=\"#arrow-38515fdb5e95480a80110f1ff83db3ab-0-18\" class=\"displacy-label\" startOffset=\"50%\" side=\"left\" fill=\"currentColor\" text-anchor=\"middle\">compound</textPath>\n",
              "    </text>\n",
              "    <path class=\"displacy-arrowhead\" d=\"M1685,471.5 L1677,459.5 1693,459.5\" fill=\"currentColor\"/>\n",
              "</g>\n",
              "\n",
              "<g class=\"displacy-arrow\">\n",
              "    <path class=\"displacy-arc\" id=\"arrow-38515fdb5e95480a80110f1ff83db3ab-0-19\" stroke-width=\"2px\" d=\"M1430,469.5 C1430,299.5 1715.0,299.5 1715.0,469.5\" fill=\"none\" stroke=\"currentColor\"/>\n",
              "    <text dy=\"1.25em\" style=\"font-size: 0.8em; letter-spacing: 1px\">\n",
              "        <textPath xlink:href=\"#arrow-38515fdb5e95480a80110f1ff83db3ab-0-19\" class=\"displacy-label\" startOffset=\"50%\" side=\"left\" fill=\"currentColor\" text-anchor=\"middle\">pobj</textPath>\n",
              "    </text>\n",
              "    <path class=\"displacy-arrowhead\" d=\"M1715.0,471.5 L1723.0,459.5 1707.0,459.5\" fill=\"currentColor\"/>\n",
              "</g>\n",
              "\n",
              "<g class=\"displacy-arrow\">\n",
              "    <path class=\"displacy-arc\" id=\"arrow-38515fdb5e95480a80110f1ff83db3ab-0-20\" stroke-width=\"2px\" d=\"M1770,469.5 C1770,427.0 1785.0,427.0 1785.0,469.5\" fill=\"none\" stroke=\"currentColor\"/>\n",
              "    <text dy=\"1.25em\" style=\"font-size: 0.8em; letter-spacing: 1px\">\n",
              "        <textPath xlink:href=\"#arrow-38515fdb5e95480a80110f1ff83db3ab-0-20\" class=\"displacy-label\" startOffset=\"50%\" side=\"left\" fill=\"currentColor\" text-anchor=\"middle\">cc</textPath>\n",
              "    </text>\n",
              "    <path class=\"displacy-arrowhead\" d=\"M1785.0,471.5 L1793.0,459.5 1777.0,459.5\" fill=\"currentColor\"/>\n",
              "</g>\n",
              "\n",
              "<g class=\"displacy-arrow\">\n",
              "    <path class=\"displacy-arc\" id=\"arrow-38515fdb5e95480a80110f1ff83db3ab-0-21\" stroke-width=\"2px\" d=\"M1940,469.5 C1940,427.0 1955.0,427.0 1955.0,469.5\" fill=\"none\" stroke=\"currentColor\"/>\n",
              "    <text dy=\"1.25em\" style=\"font-size: 0.8em; letter-spacing: 1px\">\n",
              "        <textPath xlink:href=\"#arrow-38515fdb5e95480a80110f1ff83db3ab-0-21\" class=\"displacy-label\" startOffset=\"50%\" side=\"left\" fill=\"currentColor\" text-anchor=\"middle\">det</textPath>\n",
              "    </text>\n",
              "    <path class=\"displacy-arrowhead\" d=\"M1940,471.5 L1932,459.5 1948,459.5\" fill=\"currentColor\"/>\n",
              "</g>\n",
              "\n",
              "<g class=\"displacy-arrow\">\n",
              "    <path class=\"displacy-arc\" id=\"arrow-38515fdb5e95480a80110f1ff83db3ab-0-22\" stroke-width=\"2px\" d=\"M1770,469.5 C1770,342.0 1965.0,342.0 1965.0,469.5\" fill=\"none\" stroke=\"currentColor\"/>\n",
              "    <text dy=\"1.25em\" style=\"font-size: 0.8em; letter-spacing: 1px\">\n",
              "        <textPath xlink:href=\"#arrow-38515fdb5e95480a80110f1ff83db3ab-0-22\" class=\"displacy-label\" startOffset=\"50%\" side=\"left\" fill=\"currentColor\" text-anchor=\"middle\">conj</textPath>\n",
              "    </text>\n",
              "    <path class=\"displacy-arrowhead\" d=\"M1965.0,471.5 L1973.0,459.5 1957.0,459.5\" fill=\"currentColor\"/>\n",
              "</g>\n",
              "\n",
              "<g class=\"displacy-arrow\">\n",
              "    <path class=\"displacy-arc\" id=\"arrow-38515fdb5e95480a80110f1ff83db3ab-0-23\" stroke-width=\"2px\" d=\"M2025,469.5 C2025,427.0 2040.0,427.0 2040.0,469.5\" fill=\"none\" stroke=\"currentColor\"/>\n",
              "    <text dy=\"1.25em\" style=\"font-size: 0.8em; letter-spacing: 1px\">\n",
              "        <textPath xlink:href=\"#arrow-38515fdb5e95480a80110f1ff83db3ab-0-23\" class=\"displacy-label\" startOffset=\"50%\" side=\"left\" fill=\"currentColor\" text-anchor=\"middle\">prep</textPath>\n",
              "    </text>\n",
              "    <path class=\"displacy-arrowhead\" d=\"M2040.0,471.5 L2048.0,459.5 2032.0,459.5\" fill=\"currentColor\"/>\n",
              "</g>\n",
              "\n",
              "<g class=\"displacy-arrow\">\n",
              "    <path class=\"displacy-arc\" id=\"arrow-38515fdb5e95480a80110f1ff83db3ab-0-24\" stroke-width=\"2px\" d=\"M2195,469.5 C2195,299.5 2480.0,299.5 2480.0,469.5\" fill=\"none\" stroke=\"currentColor\"/>\n",
              "    <text dy=\"1.25em\" style=\"font-size: 0.8em; letter-spacing: 1px\">\n",
              "        <textPath xlink:href=\"#arrow-38515fdb5e95480a80110f1ff83db3ab-0-24\" class=\"displacy-label\" startOffset=\"50%\" side=\"left\" fill=\"currentColor\" text-anchor=\"middle\">amod</textPath>\n",
              "    </text>\n",
              "    <path class=\"displacy-arrowhead\" d=\"M2195,471.5 L2187,459.5 2203,459.5\" fill=\"currentColor\"/>\n",
              "</g>\n",
              "\n",
              "<g class=\"displacy-arrow\">\n",
              "    <path class=\"displacy-arc\" id=\"arrow-38515fdb5e95480a80110f1ff83db3ab-0-25\" stroke-width=\"2px\" d=\"M2280,469.5 C2280,342.0 2475.0,342.0 2475.0,469.5\" fill=\"none\" stroke=\"currentColor\"/>\n",
              "    <text dy=\"1.25em\" style=\"font-size: 0.8em; letter-spacing: 1px\">\n",
              "        <textPath xlink:href=\"#arrow-38515fdb5e95480a80110f1ff83db3ab-0-25\" class=\"displacy-label\" startOffset=\"50%\" side=\"left\" fill=\"currentColor\" text-anchor=\"middle\">nmod</textPath>\n",
              "    </text>\n",
              "    <path class=\"displacy-arrowhead\" d=\"M2280,471.5 L2272,459.5 2288,459.5\" fill=\"currentColor\"/>\n",
              "</g>\n",
              "\n",
              "<g class=\"displacy-arrow\">\n",
              "    <path class=\"displacy-arc\" id=\"arrow-38515fdb5e95480a80110f1ff83db3ab-0-26\" stroke-width=\"2px\" d=\"M2280,469.5 C2280,427.0 2295.0,427.0 2295.0,469.5\" fill=\"none\" stroke=\"currentColor\"/>\n",
              "    <text dy=\"1.25em\" style=\"font-size: 0.8em; letter-spacing: 1px\">\n",
              "        <textPath xlink:href=\"#arrow-38515fdb5e95480a80110f1ff83db3ab-0-26\" class=\"displacy-label\" startOffset=\"50%\" side=\"left\" fill=\"currentColor\" text-anchor=\"middle\"></textPath>\n",
              "    </text>\n",
              "    <path class=\"displacy-arrowhead\" d=\"M2295.0,471.5 L2303.0,459.5 2287.0,459.5\" fill=\"currentColor\"/>\n",
              "</g>\n",
              "\n",
              "<g class=\"displacy-arrow\">\n",
              "    <path class=\"displacy-arc\" id=\"arrow-38515fdb5e95480a80110f1ff83db3ab-0-27\" stroke-width=\"2px\" d=\"M2450,469.5 C2450,427.0 2465.0,427.0 2465.0,469.5\" fill=\"none\" stroke=\"currentColor\"/>\n",
              "    <text dy=\"1.25em\" style=\"font-size: 0.8em; letter-spacing: 1px\">\n",
              "        <textPath xlink:href=\"#arrow-38515fdb5e95480a80110f1ff83db3ab-0-27\" class=\"displacy-label\" startOffset=\"50%\" side=\"left\" fill=\"currentColor\" text-anchor=\"middle\">compound</textPath>\n",
              "    </text>\n",
              "    <path class=\"displacy-arrowhead\" d=\"M2450,471.5 L2442,459.5 2458,459.5\" fill=\"currentColor\"/>\n",
              "</g>\n",
              "\n",
              "<g class=\"displacy-arrow\">\n",
              "    <path class=\"displacy-arc\" id=\"arrow-38515fdb5e95480a80110f1ff83db3ab-0-28\" stroke-width=\"2px\" d=\"M2110,469.5 C2110,257.0 2485.0,257.0 2485.0,469.5\" fill=\"none\" stroke=\"currentColor\"/>\n",
              "    <text dy=\"1.25em\" style=\"font-size: 0.8em; letter-spacing: 1px\">\n",
              "        <textPath xlink:href=\"#arrow-38515fdb5e95480a80110f1ff83db3ab-0-28\" class=\"displacy-label\" startOffset=\"50%\" side=\"left\" fill=\"currentColor\" text-anchor=\"middle\">pobj</textPath>\n",
              "    </text>\n",
              "    <path class=\"displacy-arrowhead\" d=\"M2485.0,471.5 L2493.0,459.5 2477.0,459.5\" fill=\"currentColor\"/>\n",
              "</g>\n",
              "\n",
              "<g class=\"displacy-arrow\">\n",
              "    <path class=\"displacy-arc\" id=\"arrow-38515fdb5e95480a80110f1ff83db3ab-0-29\" stroke-width=\"2px\" d=\"M2620,469.5 C2620,427.0 2635.0,427.0 2635.0,469.5\" fill=\"none\" stroke=\"currentColor\"/>\n",
              "    <text dy=\"1.25em\" style=\"font-size: 0.8em; letter-spacing: 1px\">\n",
              "        <textPath xlink:href=\"#arrow-38515fdb5e95480a80110f1ff83db3ab-0-29\" class=\"displacy-label\" startOffset=\"50%\" side=\"left\" fill=\"currentColor\" text-anchor=\"middle\">compound</textPath>\n",
              "    </text>\n",
              "    <path class=\"displacy-arrowhead\" d=\"M2620,471.5 L2612,459.5 2628,459.5\" fill=\"currentColor\"/>\n",
              "</g>\n",
              "\n",
              "<g class=\"displacy-arrow\">\n",
              "    <path class=\"displacy-arc\" id=\"arrow-38515fdb5e95480a80110f1ff83db3ab-0-30\" stroke-width=\"2px\" d=\"M1345,469.5 C1345,44.5 2680.0,44.5 2680.0,469.5\" fill=\"none\" stroke=\"currentColor\"/>\n",
              "    <text dy=\"1.25em\" style=\"font-size: 0.8em; letter-spacing: 1px\">\n",
              "        <textPath xlink:href=\"#arrow-38515fdb5e95480a80110f1ff83db3ab-0-30\" class=\"displacy-label\" startOffset=\"50%\" side=\"left\" fill=\"currentColor\" text-anchor=\"middle\">appos</textPath>\n",
              "    </text>\n",
              "    <path class=\"displacy-arrowhead\" d=\"M2680.0,471.5 L2688.0,459.5 2672.0,459.5\" fill=\"currentColor\"/>\n",
              "</g>\n",
              "\n",
              "<g class=\"displacy-arrow\">\n",
              "    <path class=\"displacy-arc\" id=\"arrow-38515fdb5e95480a80110f1ff83db3ab-0-31\" stroke-width=\"2px\" d=\"M2790,469.5 C2790,427.0 2805.0,427.0 2805.0,469.5\" fill=\"none\" stroke=\"currentColor\"/>\n",
              "    <text dy=\"1.25em\" style=\"font-size: 0.8em; letter-spacing: 1px\">\n",
              "        <textPath xlink:href=\"#arrow-38515fdb5e95480a80110f1ff83db3ab-0-31\" class=\"displacy-label\" startOffset=\"50%\" side=\"left\" fill=\"currentColor\" text-anchor=\"middle\">nsubj</textPath>\n",
              "    </text>\n",
              "    <path class=\"displacy-arrowhead\" d=\"M2790,471.5 L2782,459.5 2798,459.5\" fill=\"currentColor\"/>\n",
              "</g>\n",
              "\n",
              "<g class=\"displacy-arrow\">\n",
              "    <path class=\"displacy-arc\" id=\"arrow-38515fdb5e95480a80110f1ff83db3ab-0-32\" stroke-width=\"2px\" d=\"M2875,469.5 C2875,427.0 2890.0,427.0 2890.0,469.5\" fill=\"none\" stroke=\"currentColor\"/>\n",
              "    <text dy=\"1.25em\" style=\"font-size: 0.8em; letter-spacing: 1px\">\n",
              "        <textPath xlink:href=\"#arrow-38515fdb5e95480a80110f1ff83db3ab-0-32\" class=\"displacy-label\" startOffset=\"50%\" side=\"left\" fill=\"currentColor\" text-anchor=\"middle\">prep</textPath>\n",
              "    </text>\n",
              "    <path class=\"displacy-arrowhead\" d=\"M2890.0,471.5 L2898.0,459.5 2882.0,459.5\" fill=\"currentColor\"/>\n",
              "</g>\n",
              "\n",
              "<g class=\"displacy-arrow\">\n",
              "    <path class=\"displacy-arc\" id=\"arrow-38515fdb5e95480a80110f1ff83db3ab-0-33\" stroke-width=\"2px\" d=\"M3045,469.5 C3045,384.5 3150.0,384.5 3150.0,469.5\" fill=\"none\" stroke=\"currentColor\"/>\n",
              "    <text dy=\"1.25em\" style=\"font-size: 0.8em; letter-spacing: 1px\">\n",
              "        <textPath xlink:href=\"#arrow-38515fdb5e95480a80110f1ff83db3ab-0-33\" class=\"displacy-label\" startOffset=\"50%\" side=\"left\" fill=\"currentColor\" text-anchor=\"middle\">det</textPath>\n",
              "    </text>\n",
              "    <path class=\"displacy-arrowhead\" d=\"M3045,471.5 L3037,459.5 3053,459.5\" fill=\"currentColor\"/>\n",
              "</g>\n",
              "\n",
              "<g class=\"displacy-arrow\">\n",
              "    <path class=\"displacy-arc\" id=\"arrow-38515fdb5e95480a80110f1ff83db3ab-0-34\" stroke-width=\"2px\" d=\"M3130,469.5 C3130,427.0 3145.0,427.0 3145.0,469.5\" fill=\"none\" stroke=\"currentColor\"/>\n",
              "    <text dy=\"1.25em\" style=\"font-size: 0.8em; letter-spacing: 1px\">\n",
              "        <textPath xlink:href=\"#arrow-38515fdb5e95480a80110f1ff83db3ab-0-34\" class=\"displacy-label\" startOffset=\"50%\" side=\"left\" fill=\"currentColor\" text-anchor=\"middle\">amod</textPath>\n",
              "    </text>\n",
              "    <path class=\"displacy-arrowhead\" d=\"M3130,471.5 L3122,459.5 3138,459.5\" fill=\"currentColor\"/>\n",
              "</g>\n",
              "\n",
              "<g class=\"displacy-arrow\">\n",
              "    <path class=\"displacy-arc\" id=\"arrow-38515fdb5e95480a80110f1ff83db3ab-0-35\" stroke-width=\"2px\" d=\"M2960,469.5 C2960,342.0 3155.0,342.0 3155.0,469.5\" fill=\"none\" stroke=\"currentColor\"/>\n",
              "    <text dy=\"1.25em\" style=\"font-size: 0.8em; letter-spacing: 1px\">\n",
              "        <textPath xlink:href=\"#arrow-38515fdb5e95480a80110f1ff83db3ab-0-35\" class=\"displacy-label\" startOffset=\"50%\" side=\"left\" fill=\"currentColor\" text-anchor=\"middle\">pobj</textPath>\n",
              "    </text>\n",
              "    <path class=\"displacy-arrowhead\" d=\"M3155.0,471.5 L3163.0,459.5 3147.0,459.5\" fill=\"currentColor\"/>\n",
              "</g>\n",
              "\n",
              "<g class=\"displacy-arrow\">\n",
              "    <path class=\"displacy-arc\" id=\"arrow-38515fdb5e95480a80110f1ff83db3ab-0-36\" stroke-width=\"2px\" d=\"M3300,469.5 C3300,342.0 3495.0,342.0 3495.0,469.5\" fill=\"none\" stroke=\"currentColor\"/>\n",
              "    <text dy=\"1.25em\" style=\"font-size: 0.8em; letter-spacing: 1px\">\n",
              "        <textPath xlink:href=\"#arrow-38515fdb5e95480a80110f1ff83db3ab-0-36\" class=\"displacy-label\" startOffset=\"50%\" side=\"left\" fill=\"currentColor\" text-anchor=\"middle\">det</textPath>\n",
              "    </text>\n",
              "    <path class=\"displacy-arrowhead\" d=\"M3300,471.5 L3292,459.5 3308,459.5\" fill=\"currentColor\"/>\n",
              "</g>\n",
              "\n",
              "<g class=\"displacy-arrow\">\n",
              "    <path class=\"displacy-arc\" id=\"arrow-38515fdb5e95480a80110f1ff83db3ab-0-37\" stroke-width=\"2px\" d=\"M3300,469.5 C3300,427.0 3315.0,427.0 3315.0,469.5\" fill=\"none\" stroke=\"currentColor\"/>\n",
              "    <text dy=\"1.25em\" style=\"font-size: 0.8em; letter-spacing: 1px\">\n",
              "        <textPath xlink:href=\"#arrow-38515fdb5e95480a80110f1ff83db3ab-0-37\" class=\"displacy-label\" startOffset=\"50%\" side=\"left\" fill=\"currentColor\" text-anchor=\"middle\"></textPath>\n",
              "    </text>\n",
              "    <path class=\"displacy-arrowhead\" d=\"M3315.0,471.5 L3323.0,459.5 3307.0,459.5\" fill=\"currentColor\"/>\n",
              "</g>\n",
              "\n",
              "<g class=\"displacy-arrow\">\n",
              "    <path class=\"displacy-arc\" id=\"arrow-38515fdb5e95480a80110f1ff83db3ab-0-38\" stroke-width=\"2px\" d=\"M3470,469.5 C3470,427.0 3485.0,427.0 3485.0,469.5\" fill=\"none\" stroke=\"currentColor\"/>\n",
              "    <text dy=\"1.25em\" style=\"font-size: 0.8em; letter-spacing: 1px\">\n",
              "        <textPath xlink:href=\"#arrow-38515fdb5e95480a80110f1ff83db3ab-0-38\" class=\"displacy-label\" startOffset=\"50%\" side=\"left\" fill=\"currentColor\" text-anchor=\"middle\">compound</textPath>\n",
              "    </text>\n",
              "    <path class=\"displacy-arrowhead\" d=\"M3470,471.5 L3462,459.5 3478,459.5\" fill=\"currentColor\"/>\n",
              "</g>\n",
              "\n",
              "<g class=\"displacy-arrow\">\n",
              "    <path class=\"displacy-arc\" id=\"arrow-38515fdb5e95480a80110f1ff83db3ab-0-39\" stroke-width=\"2px\" d=\"M2875,469.5 C2875,129.5 3520.0,129.5 3520.0,469.5\" fill=\"none\" stroke=\"currentColor\"/>\n",
              "    <text dy=\"1.25em\" style=\"font-size: 0.8em; letter-spacing: 1px\">\n",
              "        <textPath xlink:href=\"#arrow-38515fdb5e95480a80110f1ff83db3ab-0-39\" class=\"displacy-label\" startOffset=\"50%\" side=\"left\" fill=\"currentColor\" text-anchor=\"middle\">attr</textPath>\n",
              "    </text>\n",
              "    <path class=\"displacy-arrowhead\" d=\"M3520.0,471.5 L3528.0,459.5 3512.0,459.5\" fill=\"currentColor\"/>\n",
              "</g>\n",
              "\n",
              "<g class=\"displacy-arrow\">\n",
              "    <path class=\"displacy-arc\" id=\"arrow-38515fdb5e95480a80110f1ff83db3ab-0-40\" stroke-width=\"2px\" d=\"M3640,469.5 C3640,427.0 3655.0,427.0 3655.0,469.5\" fill=\"none\" stroke=\"currentColor\"/>\n",
              "    <text dy=\"1.25em\" style=\"font-size: 0.8em; letter-spacing: 1px\">\n",
              "        <textPath xlink:href=\"#arrow-38515fdb5e95480a80110f1ff83db3ab-0-40\" class=\"displacy-label\" startOffset=\"50%\" side=\"left\" fill=\"currentColor\" text-anchor=\"middle\">nsubj</textPath>\n",
              "    </text>\n",
              "    <path class=\"displacy-arrowhead\" d=\"M3640,471.5 L3632,459.5 3648,459.5\" fill=\"currentColor\"/>\n",
              "</g>\n",
              "\n",
              "<g class=\"displacy-arrow\">\n",
              "    <path class=\"displacy-arc\" id=\"arrow-38515fdb5e95480a80110f1ff83db3ab-0-41\" stroke-width=\"2px\" d=\"M3810,469.5 C3810,342.0 4005.0,342.0 4005.0,469.5\" fill=\"none\" stroke=\"currentColor\"/>\n",
              "    <text dy=\"1.25em\" style=\"font-size: 0.8em; letter-spacing: 1px\">\n",
              "        <textPath xlink:href=\"#arrow-38515fdb5e95480a80110f1ff83db3ab-0-41\" class=\"displacy-label\" startOffset=\"50%\" side=\"left\" fill=\"currentColor\" text-anchor=\"middle\">det</textPath>\n",
              "    </text>\n",
              "    <path class=\"displacy-arrowhead\" d=\"M3810,471.5 L3802,459.5 3818,459.5\" fill=\"currentColor\"/>\n",
              "</g>\n",
              "\n",
              "<g class=\"displacy-arrow\">\n",
              "    <path class=\"displacy-arc\" id=\"arrow-38515fdb5e95480a80110f1ff83db3ab-0-42\" stroke-width=\"2px\" d=\"M3895,469.5 C3895,384.5 4000.0,384.5 4000.0,469.5\" fill=\"none\" stroke=\"currentColor\"/>\n",
              "    <text dy=\"1.25em\" style=\"font-size: 0.8em; letter-spacing: 1px\">\n",
              "        <textPath xlink:href=\"#arrow-38515fdb5e95480a80110f1ff83db3ab-0-42\" class=\"displacy-label\" startOffset=\"50%\" side=\"left\" fill=\"currentColor\" text-anchor=\"middle\">amod</textPath>\n",
              "    </text>\n",
              "    <path class=\"displacy-arrowhead\" d=\"M3895,471.5 L3887,459.5 3903,459.5\" fill=\"currentColor\"/>\n",
              "</g>\n",
              "\n",
              "<g class=\"displacy-arrow\">\n",
              "    <path class=\"displacy-arc\" id=\"arrow-38515fdb5e95480a80110f1ff83db3ab-0-43\" stroke-width=\"2px\" d=\"M3980,469.5 C3980,427.0 3995.0,427.0 3995.0,469.5\" fill=\"none\" stroke=\"currentColor\"/>\n",
              "    <text dy=\"1.25em\" style=\"font-size: 0.8em; letter-spacing: 1px\">\n",
              "        <textPath xlink:href=\"#arrow-38515fdb5e95480a80110f1ff83db3ab-0-43\" class=\"displacy-label\" startOffset=\"50%\" side=\"left\" fill=\"currentColor\" text-anchor=\"middle\">amod</textPath>\n",
              "    </text>\n",
              "    <path class=\"displacy-arrowhead\" d=\"M3980,471.5 L3972,459.5 3988,459.5\" fill=\"currentColor\"/>\n",
              "</g>\n",
              "\n",
              "<g class=\"displacy-arrow\">\n",
              "    <path class=\"displacy-arc\" id=\"arrow-38515fdb5e95480a80110f1ff83db3ab-0-44\" stroke-width=\"2px\" d=\"M3725,469.5 C3725,299.5 4010.0,299.5 4010.0,469.5\" fill=\"none\" stroke=\"currentColor\"/>\n",
              "    <text dy=\"1.25em\" style=\"font-size: 0.8em; letter-spacing: 1px\">\n",
              "        <textPath xlink:href=\"#arrow-38515fdb5e95480a80110f1ff83db3ab-0-44\" class=\"displacy-label\" startOffset=\"50%\" side=\"left\" fill=\"currentColor\" text-anchor=\"middle\">dobj</textPath>\n",
              "    </text>\n",
              "    <path class=\"displacy-arrowhead\" d=\"M4010.0,471.5 L4018.0,459.5 4002.0,459.5\" fill=\"currentColor\"/>\n",
              "</g>\n",
              "\n",
              "<g class=\"displacy-arrow\">\n",
              "    <path class=\"displacy-arc\" id=\"arrow-38515fdb5e95480a80110f1ff83db3ab-0-45\" stroke-width=\"2px\" d=\"M4065,469.5 C4065,427.0 4080.0,427.0 4080.0,469.5\" fill=\"none\" stroke=\"currentColor\"/>\n",
              "    <text dy=\"1.25em\" style=\"font-size: 0.8em; letter-spacing: 1px\">\n",
              "        <textPath xlink:href=\"#arrow-38515fdb5e95480a80110f1ff83db3ab-0-45\" class=\"displacy-label\" startOffset=\"50%\" side=\"left\" fill=\"currentColor\" text-anchor=\"middle\">prep</textPath>\n",
              "    </text>\n",
              "    <path class=\"displacy-arrowhead\" d=\"M4080.0,471.5 L4088.0,459.5 4072.0,459.5\" fill=\"currentColor\"/>\n",
              "</g>\n",
              "\n",
              "<g class=\"displacy-arrow\">\n",
              "    <path class=\"displacy-arc\" id=\"arrow-38515fdb5e95480a80110f1ff83db3ab-0-46\" stroke-width=\"2px\" d=\"M4235,469.5 C4235,427.0 4250.0,427.0 4250.0,469.5\" fill=\"none\" stroke=\"currentColor\"/>\n",
              "    <text dy=\"1.25em\" style=\"font-size: 0.8em; letter-spacing: 1px\">\n",
              "        <textPath xlink:href=\"#arrow-38515fdb5e95480a80110f1ff83db3ab-0-46\" class=\"displacy-label\" startOffset=\"50%\" side=\"left\" fill=\"currentColor\" text-anchor=\"middle\">compound</textPath>\n",
              "    </text>\n",
              "    <path class=\"displacy-arrowhead\" d=\"M4235,471.5 L4227,459.5 4243,459.5\" fill=\"currentColor\"/>\n",
              "</g>\n",
              "\n",
              "<g class=\"displacy-arrow\">\n",
              "    <path class=\"displacy-arc\" id=\"arrow-38515fdb5e95480a80110f1ff83db3ab-0-47\" stroke-width=\"2px\" d=\"M4065,469.5 C4065,342.0 4260.0,342.0 4260.0,469.5\" fill=\"none\" stroke=\"currentColor\"/>\n",
              "    <text dy=\"1.25em\" style=\"font-size: 0.8em; letter-spacing: 1px\">\n",
              "        <textPath xlink:href=\"#arrow-38515fdb5e95480a80110f1ff83db3ab-0-47\" class=\"displacy-label\" startOffset=\"50%\" side=\"left\" fill=\"currentColor\" text-anchor=\"middle\">punct</textPath>\n",
              "    </text>\n",
              "    <path class=\"displacy-arrowhead\" d=\"M4260.0,471.5 L4268.0,459.5 4252.0,459.5\" fill=\"currentColor\"/>\n",
              "</g>\n",
              "\n",
              "<g class=\"displacy-arrow\">\n",
              "    <path class=\"displacy-arc\" id=\"arrow-38515fdb5e95480a80110f1ff83db3ab-0-48\" stroke-width=\"2px\" d=\"M4320,469.5 C4320,427.0 4335.0,427.0 4335.0,469.5\" fill=\"none\" stroke=\"currentColor\"/>\n",
              "    <text dy=\"1.25em\" style=\"font-size: 0.8em; letter-spacing: 1px\">\n",
              "        <textPath xlink:href=\"#arrow-38515fdb5e95480a80110f1ff83db3ab-0-48\" class=\"displacy-label\" startOffset=\"50%\" side=\"left\" fill=\"currentColor\" text-anchor=\"middle\"></textPath>\n",
              "    </text>\n",
              "    <path class=\"displacy-arrowhead\" d=\"M4335.0,471.5 L4343.0,459.5 4327.0,459.5\" fill=\"currentColor\"/>\n",
              "</g>\n",
              "\n",
              "<g class=\"displacy-arrow\">\n",
              "    <path class=\"displacy-arc\" id=\"arrow-38515fdb5e95480a80110f1ff83db3ab-0-49\" stroke-width=\"2px\" d=\"M4490,469.5 C4490,427.0 4505.0,427.0 4505.0,469.5\" fill=\"none\" stroke=\"currentColor\"/>\n",
              "    <text dy=\"1.25em\" style=\"font-size: 0.8em; letter-spacing: 1px\">\n",
              "        <textPath xlink:href=\"#arrow-38515fdb5e95480a80110f1ff83db3ab-0-49\" class=\"displacy-label\" startOffset=\"50%\" side=\"left\" fill=\"currentColor\" text-anchor=\"middle\">compound</textPath>\n",
              "    </text>\n",
              "    <path class=\"displacy-arrowhead\" d=\"M4490,471.5 L4482,459.5 4498,459.5\" fill=\"currentColor\"/>\n",
              "</g>\n",
              "\n",
              "<g class=\"displacy-arrow\">\n",
              "    <path class=\"displacy-arc\" id=\"arrow-38515fdb5e95480a80110f1ff83db3ab-0-50\" stroke-width=\"2px\" d=\"M4575,469.5 C4575,427.0 4590.0,427.0 4590.0,469.5\" fill=\"none\" stroke=\"currentColor\"/>\n",
              "    <text dy=\"1.25em\" style=\"font-size: 0.8em; letter-spacing: 1px\">\n",
              "        <textPath xlink:href=\"#arrow-38515fdb5e95480a80110f1ff83db3ab-0-50\" class=\"displacy-label\" startOffset=\"50%\" side=\"left\" fill=\"currentColor\" text-anchor=\"middle\">compound</textPath>\n",
              "    </text>\n",
              "    <path class=\"displacy-arrowhead\" d=\"M4575,471.5 L4567,459.5 4583,459.5\" fill=\"currentColor\"/>\n",
              "</g>\n",
              "\n",
              "<g class=\"displacy-arrow\">\n",
              "    <path class=\"displacy-arc\" id=\"arrow-38515fdb5e95480a80110f1ff83db3ab-0-51\" stroke-width=\"2px\" d=\"M4065,469.5 C4065,172.0 4620.0,172.0 4620.0,469.5\" fill=\"none\" stroke=\"currentColor\"/>\n",
              "    <text dy=\"1.25em\" style=\"font-size: 0.8em; letter-spacing: 1px\">\n",
              "        <textPath xlink:href=\"#arrow-38515fdb5e95480a80110f1ff83db3ab-0-51\" class=\"displacy-label\" startOffset=\"50%\" side=\"left\" fill=\"currentColor\" text-anchor=\"middle\">appos</textPath>\n",
              "    </text>\n",
              "    <path class=\"displacy-arrowhead\" d=\"M4620.0,471.5 L4628.0,459.5 4612.0,459.5\" fill=\"currentColor\"/>\n",
              "</g>\n",
              "\n",
              "<g class=\"displacy-arrow\">\n",
              "    <path class=\"displacy-arc\" id=\"arrow-38515fdb5e95480a80110f1ff83db3ab-0-52\" stroke-width=\"2px\" d=\"M4745,469.5 C4745,427.0 4760.0,427.0 4760.0,469.5\" fill=\"none\" stroke=\"currentColor\"/>\n",
              "    <text dy=\"1.25em\" style=\"font-size: 0.8em; letter-spacing: 1px\">\n",
              "        <textPath xlink:href=\"#arrow-38515fdb5e95480a80110f1ff83db3ab-0-52\" class=\"displacy-label\" startOffset=\"50%\" side=\"left\" fill=\"currentColor\" text-anchor=\"middle\">nsubj</textPath>\n",
              "    </text>\n",
              "    <path class=\"displacy-arrowhead\" d=\"M4745,471.5 L4737,459.5 4753,459.5\" fill=\"currentColor\"/>\n",
              "</g>\n",
              "\n",
              "<g class=\"displacy-arrow\">\n",
              "    <path class=\"displacy-arc\" id=\"arrow-38515fdb5e95480a80110f1ff83db3ab-0-53\" stroke-width=\"2px\" d=\"M4660,469.5 C4660,384.5 4765.0,384.5 4765.0,469.5\" fill=\"none\" stroke=\"currentColor\"/>\n",
              "    <text dy=\"1.25em\" style=\"font-size: 0.8em; letter-spacing: 1px\">\n",
              "        <textPath xlink:href=\"#arrow-38515fdb5e95480a80110f1ff83db3ab-0-53\" class=\"displacy-label\" startOffset=\"50%\" side=\"left\" fill=\"currentColor\" text-anchor=\"middle\">relcl</textPath>\n",
              "    </text>\n",
              "    <path class=\"displacy-arrowhead\" d=\"M4765.0,471.5 L4773.0,459.5 4757.0,459.5\" fill=\"currentColor\"/>\n",
              "</g>\n",
              "\n",
              "<g class=\"displacy-arrow\">\n",
              "    <path class=\"displacy-arc\" id=\"arrow-38515fdb5e95480a80110f1ff83db3ab-0-54\" stroke-width=\"2px\" d=\"M4830,469.5 C4830,427.0 4845.0,427.0 4845.0,469.5\" fill=\"none\" stroke=\"currentColor\"/>\n",
              "    <text dy=\"1.25em\" style=\"font-size: 0.8em; letter-spacing: 1px\">\n",
              "        <textPath xlink:href=\"#arrow-38515fdb5e95480a80110f1ff83db3ab-0-54\" class=\"displacy-label\" startOffset=\"50%\" side=\"left\" fill=\"currentColor\" text-anchor=\"middle\">prt</textPath>\n",
              "    </text>\n",
              "    <path class=\"displacy-arrowhead\" d=\"M4845.0,471.5 L4853.0,459.5 4837.0,459.5\" fill=\"currentColor\"/>\n",
              "</g>\n",
              "\n",
              "<g class=\"displacy-arrow\">\n",
              "    <path class=\"displacy-arc\" id=\"arrow-38515fdb5e95480a80110f1ff83db3ab-0-55\" stroke-width=\"2px\" d=\"M4830,469.5 C4830,384.5 4935.0,384.5 4935.0,469.5\" fill=\"none\" stroke=\"currentColor\"/>\n",
              "    <text dy=\"1.25em\" style=\"font-size: 0.8em; letter-spacing: 1px\">\n",
              "        <textPath xlink:href=\"#arrow-38515fdb5e95480a80110f1ff83db3ab-0-55\" class=\"displacy-label\" startOffset=\"50%\" side=\"left\" fill=\"currentColor\" text-anchor=\"middle\">prep</textPath>\n",
              "    </text>\n",
              "    <path class=\"displacy-arrowhead\" d=\"M4935.0,471.5 L4943.0,459.5 4927.0,459.5\" fill=\"currentColor\"/>\n",
              "</g>\n",
              "\n",
              "<g class=\"displacy-arrow\">\n",
              "    <path class=\"displacy-arc\" id=\"arrow-38515fdb5e95480a80110f1ff83db3ab-0-56\" stroke-width=\"2px\" d=\"M5000,469.5 C5000,427.0 5015.0,427.0 5015.0,469.5\" fill=\"none\" stroke=\"currentColor\"/>\n",
              "    <text dy=\"1.25em\" style=\"font-size: 0.8em; letter-spacing: 1px\">\n",
              "        <textPath xlink:href=\"#arrow-38515fdb5e95480a80110f1ff83db3ab-0-56\" class=\"displacy-label\" startOffset=\"50%\" side=\"left\" fill=\"currentColor\" text-anchor=\"middle\">pobj</textPath>\n",
              "    </text>\n",
              "    <path class=\"displacy-arrowhead\" d=\"M5015.0,471.5 L5023.0,459.5 5007.0,459.5\" fill=\"currentColor\"/>\n",
              "</g>\n",
              "\n",
              "<g class=\"displacy-arrow\">\n",
              "    <path class=\"displacy-arc\" id=\"arrow-38515fdb5e95480a80110f1ff83db3ab-0-57\" stroke-width=\"2px\" d=\"M4830,469.5 C4830,299.5 5115.0,299.5 5115.0,469.5\" fill=\"none\" stroke=\"currentColor\"/>\n",
              "    <text dy=\"1.25em\" style=\"font-size: 0.8em; letter-spacing: 1px\">\n",
              "        <textPath xlink:href=\"#arrow-38515fdb5e95480a80110f1ff83db3ab-0-57\" class=\"displacy-label\" startOffset=\"50%\" side=\"left\" fill=\"currentColor\" text-anchor=\"middle\">prep</textPath>\n",
              "    </text>\n",
              "    <path class=\"displacy-arrowhead\" d=\"M5115.0,471.5 L5123.0,459.5 5107.0,459.5\" fill=\"currentColor\"/>\n",
              "</g>\n",
              "\n",
              "<g class=\"displacy-arrow\">\n",
              "    <path class=\"displacy-arc\" id=\"arrow-38515fdb5e95480a80110f1ff83db3ab-0-58\" stroke-width=\"2px\" d=\"M5170,469.5 C5170,427.0 5185.0,427.0 5185.0,469.5\" fill=\"none\" stroke=\"currentColor\"/>\n",
              "    <text dy=\"1.25em\" style=\"font-size: 0.8em; letter-spacing: 1px\">\n",
              "        <textPath xlink:href=\"#arrow-38515fdb5e95480a80110f1ff83db3ab-0-58\" class=\"displacy-label\" startOffset=\"50%\" side=\"left\" fill=\"currentColor\" text-anchor=\"middle\">pobj</textPath>\n",
              "    </text>\n",
              "    <path class=\"displacy-arrowhead\" d=\"M5185.0,471.5 L5193.0,459.5 5177.0,459.5\" fill=\"currentColor\"/>\n",
              "</g>\n",
              "\n",
              "<g class=\"displacy-arrow\">\n",
              "    <path class=\"displacy-arc\" id=\"arrow-38515fdb5e95480a80110f1ff83db3ab-0-59\" stroke-width=\"2px\" d=\"M5340,469.5 C5340,384.5 5445.0,384.5 5445.0,469.5\" fill=\"none\" stroke=\"currentColor\"/>\n",
              "    <text dy=\"1.25em\" style=\"font-size: 0.8em; letter-spacing: 1px\">\n",
              "        <textPath xlink:href=\"#arrow-38515fdb5e95480a80110f1ff83db3ab-0-59\" class=\"displacy-label\" startOffset=\"50%\" side=\"left\" fill=\"currentColor\" text-anchor=\"middle\">nsubjpass</textPath>\n",
              "    </text>\n",
              "    <path class=\"displacy-arrowhead\" d=\"M5340,471.5 L5332,459.5 5348,459.5\" fill=\"currentColor\"/>\n",
              "</g>\n",
              "\n",
              "<g class=\"displacy-arrow\">\n",
              "    <path class=\"displacy-arc\" id=\"arrow-38515fdb5e95480a80110f1ff83db3ab-0-60\" stroke-width=\"2px\" d=\"M5425,469.5 C5425,427.0 5440.0,427.0 5440.0,469.5\" fill=\"none\" stroke=\"currentColor\"/>\n",
              "    <text dy=\"1.25em\" style=\"font-size: 0.8em; letter-spacing: 1px\">\n",
              "        <textPath xlink:href=\"#arrow-38515fdb5e95480a80110f1ff83db3ab-0-60\" class=\"displacy-label\" startOffset=\"50%\" side=\"left\" fill=\"currentColor\" text-anchor=\"middle\">auxpass</textPath>\n",
              "    </text>\n",
              "    <path class=\"displacy-arrowhead\" d=\"M5425,471.5 L5417,459.5 5433,459.5\" fill=\"currentColor\"/>\n",
              "</g>\n",
              "\n",
              "<g class=\"displacy-arrow\">\n",
              "    <path class=\"displacy-arc\" id=\"arrow-38515fdb5e95480a80110f1ff83db3ab-0-61\" stroke-width=\"2px\" d=\"M5595,469.5 C5595,427.0 5610.0,427.0 5610.0,469.5\" fill=\"none\" stroke=\"currentColor\"/>\n",
              "    <text dy=\"1.25em\" style=\"font-size: 0.8em; letter-spacing: 1px\">\n",
              "        <textPath xlink:href=\"#arrow-38515fdb5e95480a80110f1ff83db3ab-0-61\" class=\"displacy-label\" startOffset=\"50%\" side=\"left\" fill=\"currentColor\" text-anchor=\"middle\">advmod</textPath>\n",
              "    </text>\n",
              "    <path class=\"displacy-arrowhead\" d=\"M5595,471.5 L5587,459.5 5603,459.5\" fill=\"currentColor\"/>\n",
              "</g>\n",
              "\n",
              "<g class=\"displacy-arrow\">\n",
              "    <path class=\"displacy-arc\" id=\"arrow-38515fdb5e95480a80110f1ff83db3ab-0-62\" stroke-width=\"2px\" d=\"M5510,469.5 C5510,384.5 5615.0,384.5 5615.0,469.5\" fill=\"none\" stroke=\"currentColor\"/>\n",
              "    <text dy=\"1.25em\" style=\"font-size: 0.8em; letter-spacing: 1px\">\n",
              "        <textPath xlink:href=\"#arrow-38515fdb5e95480a80110f1ff83db3ab-0-62\" class=\"displacy-label\" startOffset=\"50%\" side=\"left\" fill=\"currentColor\" text-anchor=\"middle\">acomp</textPath>\n",
              "    </text>\n",
              "    <path class=\"displacy-arrowhead\" d=\"M5615.0,471.5 L5623.0,459.5 5607.0,459.5\" fill=\"currentColor\"/>\n",
              "</g>\n",
              "\n",
              "<g class=\"displacy-arrow\">\n",
              "    <path class=\"displacy-arc\" id=\"arrow-38515fdb5e95480a80110f1ff83db3ab-0-63\" stroke-width=\"2px\" d=\"M5680,469.5 C5680,427.0 5695.0,427.0 5695.0,469.5\" fill=\"none\" stroke=\"currentColor\"/>\n",
              "    <text dy=\"1.25em\" style=\"font-size: 0.8em; letter-spacing: 1px\">\n",
              "        <textPath xlink:href=\"#arrow-38515fdb5e95480a80110f1ff83db3ab-0-63\" class=\"displacy-label\" startOffset=\"50%\" side=\"left\" fill=\"currentColor\" text-anchor=\"middle\">cc</textPath>\n",
              "    </text>\n",
              "    <path class=\"displacy-arrowhead\" d=\"M5695.0,471.5 L5703.0,459.5 5687.0,459.5\" fill=\"currentColor\"/>\n",
              "</g>\n",
              "\n",
              "<g class=\"displacy-arrow\">\n",
              "    <path class=\"displacy-arc\" id=\"arrow-38515fdb5e95480a80110f1ff83db3ab-0-64\" stroke-width=\"2px\" d=\"M5680,469.5 C5680,384.5 5785.0,384.5 5785.0,469.5\" fill=\"none\" stroke=\"currentColor\"/>\n",
              "    <text dy=\"1.25em\" style=\"font-size: 0.8em; letter-spacing: 1px\">\n",
              "        <textPath xlink:href=\"#arrow-38515fdb5e95480a80110f1ff83db3ab-0-64\" class=\"displacy-label\" startOffset=\"50%\" side=\"left\" fill=\"currentColor\" text-anchor=\"middle\">conj</textPath>\n",
              "    </text>\n",
              "    <path class=\"displacy-arrowhead\" d=\"M5785.0,471.5 L5793.0,459.5 5777.0,459.5\" fill=\"currentColor\"/>\n",
              "</g>\n",
              "\n",
              "<g class=\"displacy-arrow\">\n",
              "    <path class=\"displacy-arc\" id=\"arrow-38515fdb5e95480a80110f1ff83db3ab-0-65\" stroke-width=\"2px\" d=\"M5850,469.5 C5850,427.0 5865.0,427.0 5865.0,469.5\" fill=\"none\" stroke=\"currentColor\"/>\n",
              "    <text dy=\"1.25em\" style=\"font-size: 0.8em; letter-spacing: 1px\">\n",
              "        <textPath xlink:href=\"#arrow-38515fdb5e95480a80110f1ff83db3ab-0-65\" class=\"displacy-label\" startOffset=\"50%\" side=\"left\" fill=\"currentColor\" text-anchor=\"middle\">prep</textPath>\n",
              "    </text>\n",
              "    <path class=\"displacy-arrowhead\" d=\"M5865.0,471.5 L5873.0,459.5 5857.0,459.5\" fill=\"currentColor\"/>\n",
              "</g>\n",
              "\n",
              "<g class=\"displacy-arrow\">\n",
              "    <path class=\"displacy-arc\" id=\"arrow-38515fdb5e95480a80110f1ff83db3ab-0-66\" stroke-width=\"2px\" d=\"M5510,469.5 C5510,214.5 5975.0,214.5 5975.0,469.5\" fill=\"none\" stroke=\"currentColor\"/>\n",
              "    <text dy=\"1.25em\" style=\"font-size: 0.8em; letter-spacing: 1px\">\n",
              "        <textPath xlink:href=\"#arrow-38515fdb5e95480a80110f1ff83db3ab-0-66\" class=\"displacy-label\" startOffset=\"50%\" side=\"left\" fill=\"currentColor\" text-anchor=\"middle\">punct</textPath>\n",
              "    </text>\n",
              "    <path class=\"displacy-arrowhead\" d=\"M5975.0,471.5 L5983.0,459.5 5967.0,459.5\" fill=\"currentColor\"/>\n",
              "</g>\n",
              "\n",
              "<g class=\"displacy-arrow\">\n",
              "    <path class=\"displacy-arc\" id=\"arrow-38515fdb5e95480a80110f1ff83db3ab-0-67\" stroke-width=\"2px\" d=\"M6020,469.5 C6020,427.0 6035.0,427.0 6035.0,469.5\" fill=\"none\" stroke=\"currentColor\"/>\n",
              "    <text dy=\"1.25em\" style=\"font-size: 0.8em; letter-spacing: 1px\">\n",
              "        <textPath xlink:href=\"#arrow-38515fdb5e95480a80110f1ff83db3ab-0-67\" class=\"displacy-label\" startOffset=\"50%\" side=\"left\" fill=\"currentColor\" text-anchor=\"middle\"></textPath>\n",
              "    </text>\n",
              "    <path class=\"displacy-arrowhead\" d=\"M6035.0,471.5 L6043.0,459.5 6027.0,459.5\" fill=\"currentColor\"/>\n",
              "</g>\n",
              "\n",
              "<g class=\"displacy-arrow\">\n",
              "    <path class=\"displacy-arc\" id=\"arrow-38515fdb5e95480a80110f1ff83db3ab-0-68\" stroke-width=\"2px\" d=\"M6190,469.5 C6190,427.0 6205.0,427.0 6205.0,469.5\" fill=\"none\" stroke=\"currentColor\"/>\n",
              "    <text dy=\"1.25em\" style=\"font-size: 0.8em; letter-spacing: 1px\">\n",
              "        <textPath xlink:href=\"#arrow-38515fdb5e95480a80110f1ff83db3ab-0-68\" class=\"displacy-label\" startOffset=\"50%\" side=\"left\" fill=\"currentColor\" text-anchor=\"middle\">amod</textPath>\n",
              "    </text>\n",
              "    <path class=\"displacy-arrowhead\" d=\"M6190,471.5 L6182,459.5 6198,459.5\" fill=\"currentColor\"/>\n",
              "</g>\n",
              "\n",
              "<g class=\"displacy-arrow\">\n",
              "    <path class=\"displacy-arc\" id=\"arrow-38515fdb5e95480a80110f1ff83db3ab-0-69\" stroke-width=\"2px\" d=\"M6275,469.5 C6275,384.5 6380.0,384.5 6380.0,469.5\" fill=\"none\" stroke=\"currentColor\"/>\n",
              "    <text dy=\"1.25em\" style=\"font-size: 0.8em; letter-spacing: 1px\">\n",
              "        <textPath xlink:href=\"#arrow-38515fdb5e95480a80110f1ff83db3ab-0-69\" class=\"displacy-label\" startOffset=\"50%\" side=\"left\" fill=\"currentColor\" text-anchor=\"middle\">nsubj</textPath>\n",
              "    </text>\n",
              "    <path class=\"displacy-arrowhead\" d=\"M6275,471.5 L6267,459.5 6283,459.5\" fill=\"currentColor\"/>\n",
              "</g>\n",
              "\n",
              "<g class=\"displacy-arrow\">\n",
              "    <path class=\"displacy-arc\" id=\"arrow-38515fdb5e95480a80110f1ff83db3ab-0-70\" stroke-width=\"2px\" d=\"M6360,469.5 C6360,427.0 6375.0,427.0 6375.0,469.5\" fill=\"none\" stroke=\"currentColor\"/>\n",
              "    <text dy=\"1.25em\" style=\"font-size: 0.8em; letter-spacing: 1px\">\n",
              "        <textPath xlink:href=\"#arrow-38515fdb5e95480a80110f1ff83db3ab-0-70\" class=\"displacy-label\" startOffset=\"50%\" side=\"left\" fill=\"currentColor\" text-anchor=\"middle\">advmod</textPath>\n",
              "    </text>\n",
              "    <path class=\"displacy-arrowhead\" d=\"M6360,471.5 L6352,459.5 6368,459.5\" fill=\"currentColor\"/>\n",
              "</g>\n",
              "\n",
              "<g class=\"displacy-arrow\">\n",
              "    <path class=\"displacy-arc\" id=\"arrow-38515fdb5e95480a80110f1ff83db3ab-0-71\" stroke-width=\"2px\" d=\"M6530,469.5 C6530,427.0 6545.0,427.0 6545.0,469.5\" fill=\"none\" stroke=\"currentColor\"/>\n",
              "    <text dy=\"1.25em\" style=\"font-size: 0.8em; letter-spacing: 1px\">\n",
              "        <textPath xlink:href=\"#arrow-38515fdb5e95480a80110f1ff83db3ab-0-71\" class=\"displacy-label\" startOffset=\"50%\" side=\"left\" fill=\"currentColor\" text-anchor=\"middle\">aux</textPath>\n",
              "    </text>\n",
              "    <path class=\"displacy-arrowhead\" d=\"M6530,471.5 L6522,459.5 6538,459.5\" fill=\"currentColor\"/>\n",
              "</g>\n",
              "\n",
              "<g class=\"displacy-arrow\">\n",
              "    <path class=\"displacy-arc\" id=\"arrow-38515fdb5e95480a80110f1ff83db3ab-0-72\" stroke-width=\"2px\" d=\"M6445,469.5 C6445,384.5 6550.0,384.5 6550.0,469.5\" fill=\"none\" stroke=\"currentColor\"/>\n",
              "    <text dy=\"1.25em\" style=\"font-size: 0.8em; letter-spacing: 1px\">\n",
              "        <textPath xlink:href=\"#arrow-38515fdb5e95480a80110f1ff83db3ab-0-72\" class=\"displacy-label\" startOffset=\"50%\" side=\"left\" fill=\"currentColor\" text-anchor=\"middle\">xcomp</textPath>\n",
              "    </text>\n",
              "    <path class=\"displacy-arrowhead\" d=\"M6550.0,471.5 L6558.0,459.5 6542.0,459.5\" fill=\"currentColor\"/>\n",
              "</g>\n",
              "\n",
              "<g class=\"displacy-arrow\">\n",
              "    <path class=\"displacy-arc\" id=\"arrow-38515fdb5e95480a80110f1ff83db3ab-0-73\" stroke-width=\"2px\" d=\"M6700,469.5 C6700,427.0 6715.0,427.0 6715.0,469.5\" fill=\"none\" stroke=\"currentColor\"/>\n",
              "    <text dy=\"1.25em\" style=\"font-size: 0.8em; letter-spacing: 1px\">\n",
              "        <textPath xlink:href=\"#arrow-38515fdb5e95480a80110f1ff83db3ab-0-73\" class=\"displacy-label\" startOffset=\"50%\" side=\"left\" fill=\"currentColor\" text-anchor=\"middle\">poss</textPath>\n",
              "    </text>\n",
              "    <path class=\"displacy-arrowhead\" d=\"M6700,471.5 L6692,459.5 6708,459.5\" fill=\"currentColor\"/>\n",
              "</g>\n",
              "\n",
              "<g class=\"displacy-arrow\">\n",
              "    <path class=\"displacy-arc\" id=\"arrow-38515fdb5e95480a80110f1ff83db3ab-0-74\" stroke-width=\"2px\" d=\"M6615,469.5 C6615,384.5 6720.0,384.5 6720.0,469.5\" fill=\"none\" stroke=\"currentColor\"/>\n",
              "    <text dy=\"1.25em\" style=\"font-size: 0.8em; letter-spacing: 1px\">\n",
              "        <textPath xlink:href=\"#arrow-38515fdb5e95480a80110f1ff83db3ab-0-74\" class=\"displacy-label\" startOffset=\"50%\" side=\"left\" fill=\"currentColor\" text-anchor=\"middle\">dobj</textPath>\n",
              "    </text>\n",
              "    <path class=\"displacy-arrowhead\" d=\"M6720.0,471.5 L6728.0,459.5 6712.0,459.5\" fill=\"currentColor\"/>\n",
              "</g>\n",
              "\n",
              "<g class=\"displacy-arrow\">\n",
              "    <path class=\"displacy-arc\" id=\"arrow-38515fdb5e95480a80110f1ff83db3ab-0-75\" stroke-width=\"2px\" d=\"M6615,469.5 C6615,342.0 6810.0,342.0 6810.0,469.5\" fill=\"none\" stroke=\"currentColor\"/>\n",
              "    <text dy=\"1.25em\" style=\"font-size: 0.8em; letter-spacing: 1px\">\n",
              "        <textPath xlink:href=\"#arrow-38515fdb5e95480a80110f1ff83db3ab-0-75\" class=\"displacy-label\" startOffset=\"50%\" side=\"left\" fill=\"currentColor\" text-anchor=\"middle\">prt</textPath>\n",
              "    </text>\n",
              "    <path class=\"displacy-arrowhead\" d=\"M6810.0,471.5 L6818.0,459.5 6802.0,459.5\" fill=\"currentColor\"/>\n",
              "</g>\n",
              "\n",
              "<g class=\"displacy-arrow\">\n",
              "    <path class=\"displacy-arc\" id=\"arrow-38515fdb5e95480a80110f1ff83db3ab-0-76\" stroke-width=\"2px\" d=\"M6615,469.5 C6615,299.5 6900.0,299.5 6900.0,469.5\" fill=\"none\" stroke=\"currentColor\"/>\n",
              "    <text dy=\"1.25em\" style=\"font-size: 0.8em; letter-spacing: 1px\">\n",
              "        <textPath xlink:href=\"#arrow-38515fdb5e95480a80110f1ff83db3ab-0-76\" class=\"displacy-label\" startOffset=\"50%\" side=\"left\" fill=\"currentColor\" text-anchor=\"middle\">prep</textPath>\n",
              "    </text>\n",
              "    <path class=\"displacy-arrowhead\" d=\"M6900.0,471.5 L6908.0,459.5 6892.0,459.5\" fill=\"currentColor\"/>\n",
              "</g>\n",
              "\n",
              "<g class=\"displacy-arrow\">\n",
              "    <path class=\"displacy-arc\" id=\"arrow-38515fdb5e95480a80110f1ff83db3ab-0-77\" stroke-width=\"2px\" d=\"M6955,469.5 C6955,427.0 6970.0,427.0 6970.0,469.5\" fill=\"none\" stroke=\"currentColor\"/>\n",
              "    <text dy=\"1.25em\" style=\"font-size: 0.8em; letter-spacing: 1px\">\n",
              "        <textPath xlink:href=\"#arrow-38515fdb5e95480a80110f1ff83db3ab-0-77\" class=\"displacy-label\" startOffset=\"50%\" side=\"left\" fill=\"currentColor\" text-anchor=\"middle\">pobj</textPath>\n",
              "    </text>\n",
              "    <path class=\"displacy-arrowhead\" d=\"M6970.0,471.5 L6978.0,459.5 6962.0,459.5\" fill=\"currentColor\"/>\n",
              "</g>\n",
              "\n",
              "<g class=\"displacy-arrow\">\n",
              "    <path class=\"displacy-arc\" id=\"arrow-38515fdb5e95480a80110f1ff83db3ab-0-78\" stroke-width=\"2px\" d=\"M7125,469.5 C7125,384.5 7230.0,384.5 7230.0,469.5\" fill=\"none\" stroke=\"currentColor\"/>\n",
              "    <text dy=\"1.25em\" style=\"font-size: 0.8em; letter-spacing: 1px\">\n",
              "        <textPath xlink:href=\"#arrow-38515fdb5e95480a80110f1ff83db3ab-0-78\" class=\"displacy-label\" startOffset=\"50%\" side=\"left\" fill=\"currentColor\" text-anchor=\"middle\">advmod</textPath>\n",
              "    </text>\n",
              "    <path class=\"displacy-arrowhead\" d=\"M7125,471.5 L7117,459.5 7133,459.5\" fill=\"currentColor\"/>\n",
              "</g>\n",
              "\n",
              "<g class=\"displacy-arrow\">\n",
              "    <path class=\"displacy-arc\" id=\"arrow-38515fdb5e95480a80110f1ff83db3ab-0-79\" stroke-width=\"2px\" d=\"M7210,469.5 C7210,427.0 7225.0,427.0 7225.0,469.5\" fill=\"none\" stroke=\"currentColor\"/>\n",
              "    <text dy=\"1.25em\" style=\"font-size: 0.8em; letter-spacing: 1px\">\n",
              "        <textPath xlink:href=\"#arrow-38515fdb5e95480a80110f1ff83db3ab-0-79\" class=\"displacy-label\" startOffset=\"50%\" side=\"left\" fill=\"currentColor\" text-anchor=\"middle\">nsubj</textPath>\n",
              "    </text>\n",
              "    <path class=\"displacy-arrowhead\" d=\"M7210,471.5 L7202,459.5 7218,459.5\" fill=\"currentColor\"/>\n",
              "</g>\n",
              "\n",
              "<g class=\"displacy-arrow\">\n",
              "    <path class=\"displacy-arc\" id=\"arrow-38515fdb5e95480a80110f1ff83db3ab-0-80\" stroke-width=\"2px\" d=\"M6445,469.5 C6445,87.0 7265.0,87.0 7265.0,469.5\" fill=\"none\" stroke=\"currentColor\"/>\n",
              "    <text dy=\"1.25em\" style=\"font-size: 0.8em; letter-spacing: 1px\">\n",
              "        <textPath xlink:href=\"#arrow-38515fdb5e95480a80110f1ff83db3ab-0-80\" class=\"displacy-label\" startOffset=\"50%\" side=\"left\" fill=\"currentColor\" text-anchor=\"middle\">advcl</textPath>\n",
              "    </text>\n",
              "    <path class=\"displacy-arrowhead\" d=\"M7265.0,471.5 L7273.0,459.5 7257.0,459.5\" fill=\"currentColor\"/>\n",
              "</g>\n",
              "\n",
              "<g class=\"displacy-arrow\">\n",
              "    <path class=\"displacy-arc\" id=\"arrow-38515fdb5e95480a80110f1ff83db3ab-0-81\" stroke-width=\"2px\" d=\"M7295,469.5 C7295,427.0 7310.0,427.0 7310.0,469.5\" fill=\"none\" stroke=\"currentColor\"/>\n",
              "    <text dy=\"1.25em\" style=\"font-size: 0.8em; letter-spacing: 1px\">\n",
              "        <textPath xlink:href=\"#arrow-38515fdb5e95480a80110f1ff83db3ab-0-81\" class=\"displacy-label\" startOffset=\"50%\" side=\"left\" fill=\"currentColor\" text-anchor=\"middle\">advmod</textPath>\n",
              "    </text>\n",
              "    <path class=\"displacy-arrowhead\" d=\"M7310.0,471.5 L7318.0,459.5 7302.0,459.5\" fill=\"currentColor\"/>\n",
              "</g>\n",
              "\n",
              "<g class=\"displacy-arrow\">\n",
              "    <path class=\"displacy-arc\" id=\"arrow-38515fdb5e95480a80110f1ff83db3ab-0-82\" stroke-width=\"2px\" d=\"M7465,469.5 C7465,427.0 7480.0,427.0 7480.0,469.5\" fill=\"none\" stroke=\"currentColor\"/>\n",
              "    <text dy=\"1.25em\" style=\"font-size: 0.8em; letter-spacing: 1px\">\n",
              "        <textPath xlink:href=\"#arrow-38515fdb5e95480a80110f1ff83db3ab-0-82\" class=\"displacy-label\" startOffset=\"50%\" side=\"left\" fill=\"currentColor\" text-anchor=\"middle\">aux</textPath>\n",
              "    </text>\n",
              "    <path class=\"displacy-arrowhead\" d=\"M7465,471.5 L7457,459.5 7473,459.5\" fill=\"currentColor\"/>\n",
              "</g>\n",
              "\n",
              "<g class=\"displacy-arrow\">\n",
              "    <path class=\"displacy-arc\" id=\"arrow-38515fdb5e95480a80110f1ff83db3ab-0-83\" stroke-width=\"2px\" d=\"M7295,469.5 C7295,342.0 7490.0,342.0 7490.0,469.5\" fill=\"none\" stroke=\"currentColor\"/>\n",
              "    <text dy=\"1.25em\" style=\"font-size: 0.8em; letter-spacing: 1px\">\n",
              "        <textPath xlink:href=\"#arrow-38515fdb5e95480a80110f1ff83db3ab-0-83\" class=\"displacy-label\" startOffset=\"50%\" side=\"left\" fill=\"currentColor\" text-anchor=\"middle\">advcl</textPath>\n",
              "    </text>\n",
              "    <path class=\"displacy-arrowhead\" d=\"M7490.0,471.5 L7498.0,459.5 7482.0,459.5\" fill=\"currentColor\"/>\n",
              "</g>\n",
              "</svg></span>"
            ],
            "text/plain": [
              "<IPython.core.display.HTML object>"
            ]
          },
          "metadata": {
            "tags": []
          }
        }
      ]
    },
    {
      "cell_type": "code",
      "metadata": {
        "colab": {
          "base_uri": "https://localhost:8080/"
        },
        "id": "o_GKPszidcMc",
        "outputId": "0e3acc89-bcbe-405d-c5da-8857c73e362e"
      },
      "source": [
        "for word in doc:\n",
        "    print(f'{word.text:{12}} {word.pos_:{10}} {word.tag_:{8}} {spacy.explain(word.tag_)}')"
      ],
      "execution_count": 90,
      "outputs": [
        {
          "output_type": "stream",
          "text": [
            "Mellon       PROPN      NNP      noun, proper singular\n",
            "from         ADP        IN       conjunction, subordinating or preposition\n",
            "Pan          PROPN      NNP      noun, proper singular\n",
            "Am           PROPN      NNP      noun, proper singular\n",
            "Systems      PROPN      NNPS     noun, proper plural\n",
            "donated      VERB       VBD      verb, past tense\n",
            "$            SYM        $        symbol, currency\n",
            "10           NUM        CD       cardinal number\n",
            "million      NUM        CD       cardinal number\n",
            "to           ADP        IN       conjunction, subordinating or preposition\n",
            "Trump        PROPN      NNP      noun, proper singular\n",
            "'s           PART       POS      possessive ending\n",
            "campaign     NOUN       NN       noun, singular or mass\n",
            ".            PUNCT      .        punctuation mark, sentence closer\n",
            "\n",
            "            SPACE      _SP      None\n",
            "An           DET        DT       determiner\n",
            "heir         NOUN       NN       noun, singular or mass\n",
            "to           ADP        IN       conjunction, subordinating or preposition\n",
            "the          DET        DT       determiner\n",
            "Mellon       PROPN      NNP      noun, proper singular\n",
            "banking      NOUN       NN       noun, singular or mass\n",
            "fortune      NOUN       NN       noun, singular or mass\n",
            "and          CCONJ      CC       conjunction, coordinating\n",
            "the          DET        DT       determiner\n",
            "grandson     NOUN       NN       noun, singular or mass\n",
            "of           ADP        IN       conjunction, subordinating or preposition\n",
            "former       ADJ        JJ       adjective\n",
            "U.S.         PROPN      NNP      noun, proper singular\n",
            "\n",
            "            SPACE      _SP      None\n",
            "Treasury     PROPN      NNP      noun, proper singular\n",
            "Secretary    PROPN      NNP      noun, proper singular\n",
            ",            PUNCT      ,        punctuation mark, comma\n",
            "Andrew       PROPN      NNP      noun, proper singular\n",
            "Mellon       PROPN      NNP      noun, proper singular\n",
            ",            PUNCT      ,        punctuation mark, comma\n",
            "his          DET        PRP$     pronoun, possessive\n",
            "is           AUX        VBZ      verb, 3rd person singular present\n",
            "among        ADP        IN       conjunction, subordinating or preposition\n",
            "the          DET        DT       determiner\n",
            "biggest      ADJ        JJS      adjective, superlative\n",
            "donations    NOUN       NNS      noun, plural\n",
            "this         DET        DT       determiner\n",
            "\n",
            "            SPACE      _SP      None\n",
            "election     NOUN       NN       noun, singular or mass\n",
            "cycle        NOUN       NN       noun, singular or mass\n",
            ".            PUNCT      .        punctuation mark, sentence closer\n",
            "He           PRON       PRP      pronoun, personal\n",
            "owns         VERB       VBZ      verb, 3rd person singular present\n",
            "the          DET        DT       determiner\n",
            "largest      ADJ        JJS      adjective, superlative\n",
            "regional     ADJ        JJ       adjective\n",
            "railroad     NOUN       NN       noun, singular or mass\n",
            "in           ADP        IN       conjunction, subordinating or preposition\n",
            "North        PROPN      NNP      noun, proper singular\n",
            "America      PROPN      NNP      noun, proper singular\n",
            ",            PUNCT      ,        punctuation mark, comma\n",
            "\n",
            "            SPACE      _SP      None\n",
            "Pan          PROPN      NNP      noun, proper singular\n",
            "Am           PROPN      NNP      noun, proper singular\n",
            "Railways     PROPN      NNPS     noun, proper plural\n",
            ",            PUNCT      ,        punctuation mark, comma\n",
            "which        DET        WDT      wh-determiner\n",
            "went         VERB       VBD      verb, past tense\n",
            "up           ADP        RP       adverb, particle\n",
            "for          ADP        IN       conjunction, subordinating or preposition\n",
            "sale         NOUN       NN       noun, singular or mass\n",
            "in           ADP        IN       conjunction, subordinating or preposition\n",
            "July         PROPN      NNP      noun, proper singular\n",
            ".            PUNCT      .        punctuation mark, sentence closer\n",
            "He           PRON       PRP      pronoun, personal\n",
            "'s           AUX        VBZ      verb, 3rd person singular present\n",
            "been         AUX        VBN      verb, past participle\n",
            "notably      ADV        RB       adverb\n",
            "reclusive    ADJ        JJ       adjective\n",
            "and          CCONJ      CC       conjunction, coordinating\n",
            "absent       ADJ        JJ       adjective\n",
            "from         ADP        IN       conjunction, subordinating or preposition\n",
            "politics     NOUN       NNS      noun, plural\n",
            ".            PUNCT      .        punctuation mark, sentence closer\n",
            "\n",
            "            SPACE      _SP      None\n",
            "Republican   ADJ        JJ       adjective\n",
            "operatives   NOUN       NNS      noun, plural\n",
            "reportedly   ADV        RB       adverb\n",
            "had          AUX        VBD      verb, past tense\n",
            "to           PART       TO       infinitival \"to\"\n",
            "look         VERB       VB       verb, base form\n",
            "his          DET        PRP$     pronoun, possessive\n",
            "name         NOUN       NN       noun, singular or mass\n",
            "up           ADP        RP       adverb, particle\n",
            "on           ADP        IN       conjunction, subordinating or preposition\n",
            "Google       PROPN      NNP      noun, proper singular\n",
            "when         ADV        WRB      wh-adverb\n",
            "he           PRON       PRP      pronoun, personal\n",
            "came         VERB       VBD      verb, past tense\n",
            "forward      ADV        RB       adverb\n",
            "to           PART       TO       infinitival \"to\"\n",
            "help         VERB       VB       verb, base form\n",
            ".            PUNCT      .        punctuation mark, sentence closer\n"
          ],
          "name": "stdout"
        }
      ]
    },
    {
      "cell_type": "markdown",
      "metadata": {
        "id": "xYzKBdHvf7XY"
      },
      "source": [
        "## get_entities"
      ]
    },
    {
      "cell_type": "code",
      "metadata": {
        "id": "f6y0VrRLiPeB"
      },
      "source": [
        "def get_entities(sent):\n",
        "  ## chunk 1\n",
        "  ent1 = \"\"\n",
        "  ent2 = \"\"\n",
        "\n",
        "  prv_tok_dep = \"\"    # dependency tag of previous token in the sentence\n",
        "  prv_tok_text = \"\"   # previous token in the sentence\n",
        "\n",
        "  prefix = \"\"\n",
        "  modifier = \"\"\n",
        "\n",
        "  #############################################################\n",
        "  \n",
        "  for tok in nlp(sent):\n",
        "    ## chunk 2\n",
        "    # if token is a punctuation mark then move on to the next token\n",
        "    if tok.dep_ != \"punct\":\n",
        "      # check: token is a compound word or not\n",
        "      if tok.dep_ == \"compound\":\n",
        "        prefix = tok.text\n",
        "        # if the previous word was also a 'compound' then add the current word to it\n",
        "        if prv_tok_dep == \"compound\":\n",
        "          prefix = prv_tok_text + \" \"+ tok.text\n",
        "      \n",
        "      # check: token is a modifier or not\n",
        "      if tok.dep_.endswith(\"mod\") == True:\n",
        "        modifier = tok.text\n",
        "        # if the previous word was also a 'compound' then add the current word to it\n",
        "        if prv_tok_dep == \"compound\":\n",
        "          modifier = prv_tok_text + \" \"+ tok.text\n",
        "      \n",
        "      ## chunk 3\n",
        "      if tok.dep_.find(\"subj\") == True:\n",
        "        ent1 = modifier +\" \"+ prefix + \" \"+ tok.text\n",
        "        prefix = \"\"\n",
        "        modifier = \"\"\n",
        "        prv_tok_dep = \"\"\n",
        "        prv_tok_text = \"\"      \n",
        "\n",
        "      ## chunk 4\n",
        "      if tok.dep_.find(\"obj\") == True:\n",
        "        ent2 = modifier +\" \"+ prefix +\" \"+ tok.text\n",
        "        \n",
        "      ## chunk 5  \n",
        "      # update variables\n",
        "      prv_tok_dep = tok.dep_\n",
        "      prv_tok_text = tok.text\n",
        "  #############################################################\n",
        "\n",
        "  return [ent1.strip(), ent2.strip()]"
      ],
      "execution_count": 74,
      "outputs": []
    },
    {
      "cell_type": "code",
      "metadata": {
        "colab": {
          "base_uri": "https://localhost:8080/"
        },
        "id": "mgwGqtnmiUkJ",
        "outputId": "b15629b0-69e6-46a0-df33-d30adf8e960c"
      },
      "source": [
        "get_entities(\"Mellon gave 100 million donation to Trump's campaign\")"
      ],
      "execution_count": 32,
      "outputs": [
        {
          "output_type": "execute_result",
          "data": {
            "text/plain": [
              "['Mellon', '100 million 100 campaign']"
            ]
          },
          "metadata": {
            "tags": []
          },
          "execution_count": 32
        }
      ]
    },
    {
      "cell_type": "code",
      "metadata": {
        "colab": {
          "base_uri": "https://localhost:8080/"
        },
        "id": "ekDgsO35iV5z",
        "outputId": "9776c148-7240-41e8-fad9-42391a4d4dbf"
      },
      "source": [
        "get_entities(summary)"
      ],
      "execution_count": 75,
      "outputs": [
        {
          "output_type": "execute_result",
          "data": {
            "text/plain": [
              "['when  he', 'reportedly  Google']"
            ]
          },
          "metadata": {
            "tags": []
          },
          "execution_count": 75
        }
      ]
    },
    {
      "cell_type": "code",
      "metadata": {
        "colab": {
          "base_uri": "https://localhost:8080/"
        },
        "id": "pC0lRAiDlc3o",
        "outputId": "7a68c39b-042c-4af5-8875-e1b741ece5c2"
      },
      "source": [
        "sentences = sent_tokenize(summary)\n",
        "sentences"
      ],
      "execution_count": 76,
      "outputs": [
        {
          "output_type": "execute_result",
          "data": {
            "text/plain": [
              "[\"Mellon from Pan Am Systems donated $10 million to Trump's campaign.\",\n",
              " 'An heir to the Mellon banking fortune and the grandson of former U.S. \\nTreasury Secretary, Andrew Mellon, his is among the biggest donations this \\nelection cycle.',\n",
              " 'He owns the largest regional railroad in North America,\\n Pan Am Railways, which went up for sale in July.',\n",
              " \"He's been notably reclusive and absent from politics.\",\n",
              " 'Republican operatives reportedly had to look his name up on Google when he came forward to help.']"
            ]
          },
          "metadata": {
            "tags": []
          },
          "execution_count": 76
        }
      ]
    },
    {
      "cell_type": "markdown",
      "metadata": {
        "id": "rPxXrRJDgAPD"
      },
      "source": [
        "## entity_pairs"
      ]
    },
    {
      "cell_type": "code",
      "metadata": {
        "colab": {
          "base_uri": "https://localhost:8080/"
        },
        "id": "DB5U2OQWlTnm",
        "outputId": "36ff7552-296b-4cce-a26b-e682dd7e9f06"
      },
      "source": [
        "entity_pairs = []\n",
        "\n",
        "for i in tqdm(sentences):\n",
        "  entity_pairs.append(get_entities(i))"
      ],
      "execution_count": 77,
      "outputs": [
        {
          "output_type": "stream",
          "text": [
            "100%|██████████| 5/5 [00:00<00:00, 11.56it/s]\n"
          ],
          "name": "stderr"
        }
      ]
    },
    {
      "cell_type": "code",
      "metadata": {
        "colab": {
          "base_uri": "https://localhost:8080/"
        },
        "id": "Fri0daoFmNZu",
        "outputId": "852e79d1-82fd-4ed7-b5c4-745ec728cd33"
      },
      "source": [
        "entity_pairs"
      ],
      "execution_count": 78,
      "outputs": [
        {
          "output_type": "execute_result",
          "data": {
            "text/plain": [
              "[['Mellon', '$ 10 campaign'],\n",
              " ['U.S. Andrew his', 'biggest  donations'],\n",
              " ['regional Pan Am which', 'July'],\n",
              " ['He', 'notably  politics'],\n",
              " ['when  he', 'reportedly  Google']]"
            ]
          },
          "metadata": {
            "tags": []
          },
          "execution_count": 78
        }
      ]
    },
    {
      "cell_type": "markdown",
      "metadata": {
        "id": "s5ZKkd4rgC5z"
      },
      "source": [
        "## get_relation"
      ]
    },
    {
      "cell_type": "code",
      "metadata": {
        "id": "aw42Uk_QmZxC"
      },
      "source": [
        "def get_relation(sent):\n",
        "\n",
        "  doc = nlp(sent)\n",
        "\n",
        "  # Matcher class object \n",
        "  matcher = Matcher(nlp.vocab)\n",
        "\n",
        "  #define the pattern ## update pattern using Hearst Patteren \n",
        "  pattern = [{'DEP':'ROOT'}, \n",
        "            {'DEP':'prep','OP':\"?\"},\n",
        "            {'DEP':'agent','OP':\"?\"},  \n",
        "            {'POS':'ADJ','OP':\"?\"}] \n",
        "\n",
        "  matcher.add(\"matching_1\", None, pattern) \n",
        "\n",
        "  matches = matcher(doc)\n",
        "  k = len(matches) - 1\n",
        "\n",
        "  span = doc[matches[k][1]:matches[k][2]] \n",
        "\n",
        "  return(span.text)"
      ],
      "execution_count": 79,
      "outputs": []
    },
    {
      "cell_type": "code",
      "metadata": {
        "colab": {
          "base_uri": "https://localhost:8080/",
          "height": 35
        },
        "id": "GPLcJaG3mfLm",
        "outputId": "b40a1934-75f0-49fb-ffbd-9b4bdf606d2d"
      },
      "source": [
        "get_relation(\"Mellon gave 100million donation to Trump's campaign\")"
      ],
      "execution_count": 80,
      "outputs": [
        {
          "output_type": "execute_result",
          "data": {
            "application/vnd.google.colaboratory.intrinsic+json": {
              "type": "string"
            },
            "text/plain": [
              "'gave'"
            ]
          },
          "metadata": {
            "tags": []
          },
          "execution_count": 80
        }
      ]
    },
    {
      "cell_type": "code",
      "metadata": {
        "colab": {
          "base_uri": "https://localhost:8080/"
        },
        "id": "m6a3Ui6emos5",
        "outputId": "cbb3eaf1-df02-4e73-818c-f64ad39150d4"
      },
      "source": [
        "relations = [get_relation(i) for i in tqdm(sentences)]"
      ],
      "execution_count": 81,
      "outputs": [
        {
          "output_type": "stream",
          "text": [
            "100%|██████████| 5/5 [00:00<00:00,  8.00it/s]\n"
          ],
          "name": "stderr"
        }
      ]
    },
    {
      "cell_type": "code",
      "metadata": {
        "colab": {
          "base_uri": "https://localhost:8080/"
        },
        "id": "f2guPonYm1T8",
        "outputId": "9731a25e-4db2-43d7-ffe1-e90067da1d46"
      },
      "source": [
        "pd.Series(relations).value_counts()[:50]"
      ],
      "execution_count": 82,
      "outputs": [
        {
          "output_type": "execute_result",
          "data": {
            "text/plain": [
              "is among    1\n",
              "had         1\n",
              "been        1\n",
              "owns        1\n",
              "donated     1\n",
              "dtype: int64"
            ]
          },
          "metadata": {
            "tags": []
          },
          "execution_count": 82
        }
      ]
    },
    {
      "cell_type": "markdown",
      "metadata": {
        "id": "u1XG7JZvnBby"
      },
      "source": [
        "## Building Knowledge Graph: Method 1"
      ]
    },
    {
      "cell_type": "code",
      "metadata": {
        "id": "wdAANGFBnDfd"
      },
      "source": [
        "# extract subject\n",
        "source = [i[0] for i in entity_pairs]\n",
        "\n",
        "# extract object\n",
        "target = [i[1] for i in entity_pairs]\n",
        "\n",
        "kg_df = pd.DataFrame({'source':source, 'target':target, 'edge':relations})"
      ],
      "execution_count": 83,
      "outputs": []
    },
    {
      "cell_type": "code",
      "metadata": {
        "id": "nCtW6OjtnGxd"
      },
      "source": [
        "\n",
        "# create a directed-graph from a dataframe\n",
        "G=nx.from_pandas_edgelist(kg_df, \"source\", \"target\", \n",
        "                          edge_attr=True, create_using=nx.MultiDiGraph())"
      ],
      "execution_count": 84,
      "outputs": []
    },
    {
      "cell_type": "code",
      "metadata": {
        "colab": {
          "base_uri": "https://localhost:8080/",
          "height": 895
        },
        "id": "g6kSn63vnJqp",
        "outputId": "75a5755e-016c-40b2-ce9e-9e4d0caf6c17"
      },
      "source": [
        "plt.figure(figsize=(12,12))\n",
        "\n",
        "pos = nx.spring_layout(G)\n",
        "nx.draw(G, with_labels=True, node_color='skyblue', edge_cmap=plt.cm.Blues, pos = pos)\n",
        "plt.show()"
      ],
      "execution_count": 85,
      "outputs": [
        {
          "output_type": "display_data",
          "data": {
            "image/png": "[encoded data removed]",
            "text/plain": [
              "<Figure size 864x864 with 1 Axes>"
            ]
          },
          "metadata": {
            "tags": []
          }
        }
      ]
    },
    {
      "cell_type": "code",
      "metadata": {
        "colab": {
          "base_uri": "https://localhost:8080/"
        },
        "id": "_1_q4dpPndM7",
        "outputId": "fb4dcf0d-bb0c-4262-ba7e-a87e1dcc941e"
      },
      "source": [
        "kg_df['edge'].unique()"
      ],
      "execution_count": 62,
      "outputs": [
        {
          "output_type": "execute_result",
          "data": {
            "text/plain": [
              "array(['donated', 'is among', 'owns', 'been', 'had'], dtype=object)"
            ]
          },
          "metadata": {
            "tags": []
          },
          "execution_count": 62
        }
      ]
    },
    {
      "cell_type": "markdown",
      "metadata": {
        "id": "3RdtxpfpuYhA"
      },
      "source": [
        "### To CSV"
      ]
    },
    {
      "cell_type": "code",
      "metadata": {
        "id": "m3b4avnFs7wx"
      },
      "source": [
        "file_path = '/content/drive/Shared drives/1DeepContextGraph/1DeepContextGraph/code/data/'"
      ],
      "execution_count": 50,
      "outputs": []
    },
    {
      "cell_type": "code",
      "metadata": {
        "colab": {
          "base_uri": "https://localhost:8080/",
          "height": 196
        },
        "id": "AktpiZ5yoIEY",
        "outputId": "f821331d-9370-4dcb-e3ed-de7f49d0e3be"
      },
      "source": [
        "kg_df.head()\n",
        "#kg_df.to_csv(file_path+\"kg_path.csv\")"
      ],
      "execution_count": 86,
      "outputs": [
        {
          "output_type": "execute_result",
          "data": {
            "text/html": [
              "<div>\n",
              "<style scoped>\n",
              "    .dataframe tbody tr th:only-of-type {\n",
              "        vertical-align: middle;\n",
              "    }\n",
              "\n",
              "    .dataframe tbody tr th {\n",
              "        vertical-align: top;\n",
              "    }\n",
              "\n",
              "    .dataframe thead th {\n",
              "        text-align: right;\n",
              "    }\n",
              "</style>\n",
              "<table border=\"1\" class=\"dataframe\">\n",
              "  <thead>\n",
              "    <tr style=\"text-align: right;\">\n",
              "      <th></th>\n",
              "      <th>source</th>\n",
              "      <th>target</th>\n",
              "      <th>edge</th>\n",
              "    </tr>\n",
              "  </thead>\n",
              "  <tbody>\n",
              "    <tr>\n",
              "      <th>0</th>\n",
              "      <td>Mellon</td>\n",
              "      <td>$ 10 campaign</td>\n",
              "      <td>donated</td>\n",
              "    </tr>\n",
              "    <tr>\n",
              "      <th>1</th>\n",
              "      <td>U.S. Andrew his</td>\n",
              "      <td>biggest  donations</td>\n",
              "      <td>is among</td>\n",
              "    </tr>\n",
              "    <tr>\n",
              "      <th>2</th>\n",
              "      <td>regional Pan Am which</td>\n",
              "      <td>July</td>\n",
              "      <td>owns</td>\n",
              "    </tr>\n",
              "    <tr>\n",
              "      <th>3</th>\n",
              "      <td>He</td>\n",
              "      <td>notably  politics</td>\n",
              "      <td>been</td>\n",
              "    </tr>\n",
              "    <tr>\n",
              "      <th>4</th>\n",
              "      <td>when  he</td>\n",
              "      <td>reportedly  Google</td>\n",
              "      <td>had</td>\n",
              "    </tr>\n",
              "  </tbody>\n",
              "</table>\n",
              "</div>"
            ],
            "text/plain": [
              "                  source              target      edge\n",
              "0                 Mellon       $ 10 campaign   donated\n",
              "1        U.S. Andrew his  biggest  donations  is among\n",
              "2  regional Pan Am which                July      owns\n",
              "3                     He   notably  politics      been\n",
              "4               when  he  reportedly  Google       had"
            ]
          },
          "metadata": {
            "tags": []
          },
          "execution_count": 86
        }
      ]
    },
    {
      "cell_type": "code",
      "metadata": {
        "colab": {
          "base_uri": "https://localhost:8080/",
          "height": 895
        },
        "id": "l2mZGHqzn-B9",
        "outputId": "5b5e1b9d-9de7-4352-df0c-b2b0bd5484e6"
      },
      "source": [
        "G=nx.from_pandas_edgelist(kg_df[kg_df['edge']==\"donated\"], \"source\", \"target\", \n",
        "                          edge_attr=True, create_using=nx.MultiDiGraph())\n",
        "\n",
        "plt.figure(figsize=(12,12))\n",
        "pos = nx.spring_layout(G, k = 0.5) # k regulates the distance between nodes\n",
        "nx.draw(G, with_labels=True, node_color='skyblue', node_size=1500, edge_cmap=plt.cm.Blues, pos = pos)\n",
        "plt.show()"
      ],
      "execution_count": 87,
      "outputs": [
        {
          "output_type": "display_data",
          "data": {
            "image/png": "[encoded data removed]",
            "text/plain": [
              "<Figure size 864x864 with 1 Axes>"
            ]
          },
          "metadata": {
            "tags": []
          }
        }
      ]
    },
    {
      "cell_type": "code",
      "metadata": {
        "id": "Ej1EevKKow2O"
      },
      "source": [
        "kg_df[kg_df['source']==\"Mellon\"]"
      ],
      "execution_count": null,
      "outputs": []
    },
    {
      "cell_type": "code",
      "metadata": {
        "id": "F-D8Lbb1oWbV"
      },
      "source": [
        "\n",
        "G=nx.from_pandas_edgelist(kg_df[kg_df['source']==\"Mellon\"], \"edge\", \"target\", \n",
        "                          edge_attr=True, create_using=nx.MultiDiGraph())\n",
        "plt.figure(figsize=(12,12))\n",
        "pos = nx.spring_layout(G, k = 0.5) # k regulates the distance between nodes\n",
        "nx.draw(G, with_labels=True, node_color='skyblue', node_size=1500, edge_cmap=plt.cm.Blues, pos = pos)\n",
        "plt.show()"
      ],
      "execution_count": null,
      "outputs": []
    },
    {
      "cell_type": "code",
      "metadata": {
        "id": "9_eRKzHJpTkd"
      },
      "source": [
        "\n",
        "G=nx.from_pandas_edgelist(kg_df[kg_df['target']==\"advertisement\"], \"edge\", \"source\", \n",
        "                          edge_attr=True, create_using=nx.MultiDiGraph())\n",
        "plt.figure(figsize=(12,12))\n",
        "pos = nx.spring_layout(G, k = 0.5) # k regulates the distance between nodes\n",
        "nx.draw(G, with_labels=True, node_color='skyblue', node_size=1500, edge_cmap=plt.cm.Blues, pos = pos)\n",
        "plt.show()"
      ],
      "execution_count": null,
      "outputs": []
    },
    {
      "cell_type": "markdown",
      "metadata": {
        "id": "8GZOUJF2axLi"
      },
      "source": [
        "## Building Knowledge Graph: Method 2"
      ]
    },
    {
      "cell_type": "code",
      "metadata": {
        "colab": {
          "base_uri": "https://localhost:8080/"
        },
        "id": "6CZwm8sna11J",
        "outputId": "d76dee6f-ec7b-42f6-9747-93b0afd86223"
      },
      "source": [
        "body = summary\n",
        "sentences = getSentences(body)\n",
        "nlp_model = spacy.load('en_core_web_sm')\n",
        "\n",
        "triples = []\n",
        "#print (body)\n",
        "for sentence in sentences:\n",
        "  triples.append(processSentence(sentence))\n"
      ],
      "execution_count": 88,
      "outputs": [
        {
          "output_type": "stream",
          "text": [
            "Mellon -> nsubj\n",
            "from -> prep\n",
            "Pan -> compound\n",
            "Am -> compound\n",
            "Systems -> pobj\n",
            "donated -> ROOT\n",
            "$ -> quantmod\n",
            "10 -> compound\n",
            "million -> dobj\n",
            "to -> prep\n",
            "Trump -> poss\n",
            "'s -> case\n",
            "campaign -> pobj\n",
            ". -> punct\n",
            "Mellon , donate , Systems million campaign\n",
            "An -> det\n",
            "heir -> dep\n",
            "to -> prep\n",
            "the -> det\n",
            "Mellon -> compound\n",
            "banking -> compound\n",
            "fortune -> pobj\n",
            "and -> cc\n",
            "the -> det\n",
            "grandson -> conj\n",
            "of -> prep\n",
            "former -> amod\n",
            "U.S. -> nmod\n",
            "\n",
            " -> \n",
            "Treasury -> compound\n",
            "Secretary -> pobj\n",
            ", -> punct\n",
            "Andrew -> compound\n",
            "Mellon -> appos\n",
            ", -> punct\n",
            "his -> nsubj\n",
            "is -> ROOT\n",
            "among -> prep\n",
            "the -> det\n",
            "biggest -> amod\n",
            "donations -> pobj\n",
            "this -> det\n",
            "\n",
            " -> \n",
            "election -> compound\n",
            "cycle -> attr\n",
            ". -> punct\n",
            "his , former be big cycle , fortune Secretary donations\n",
            "He -> nsubj\n",
            "owns -> ROOT\n",
            "the -> det\n",
            "largest -> amod\n",
            "regional -> amod\n",
            "railroad -> dobj\n",
            "in -> prep\n",
            "North -> compound\n",
            "America -> pobj\n",
            ", -> punct\n",
            "\n",
            "  -> \n",
            "Pan -> compound\n",
            "Am -> compound\n",
            "Railways -> dobj\n",
            ", -> punct\n",
            "which -> nsubj\n",
            "went -> relcl\n",
            "up -> prt\n",
            "for -> prep\n",
            "sale -> pobj\n",
            "in -> prep\n",
            "July -> pobj\n",
            ". -> punct\n",
            "He which , own large regional , railroad America Railways sale July\n",
            "He -> nsubjpass\n",
            "'s -> auxpass\n",
            "been -> ROOT\n",
            "notably -> advmod\n",
            "reclusive -> acomp\n",
            "and -> cc\n",
            "absent -> conj\n",
            "from -> prep\n",
            "politics -> pobj\n",
            ". -> punct\n",
            "He , be , politics\n",
            "Republican -> amod\n",
            "operatives -> nsubj\n",
            "reportedly -> advmod\n",
            "had -> ROOT\n",
            "to -> aux\n",
            "look -> xcomp\n",
            "his -> poss\n",
            "name -> dobj\n",
            "up -> prt\n",
            "on -> prep\n",
            "Google -> pobj\n",
            "when -> advmod\n",
            "he -> nsubj\n",
            "came -> advcl\n",
            "forward -> advmod\n",
            "to -> aux\n",
            "help -> advcl\n",
            ". -> punct\n",
            "operatives he , republican have , name Google\n"
          ],
          "name": "stdout"
        }
      ]
    },
    {
      "cell_type": "code",
      "metadata": {
        "colab": {
          "base_uri": "https://localhost:8080/",
          "height": 512
        },
        "id": "I_MbtjPPa3xS",
        "outputId": "7260e122-560e-46be-ca97-b9f55bc12ef0"
      },
      "source": [
        "printGraph(triples) "
      ],
      "execution_count": 89,
      "outputs": [
        {
          "output_type": "display_data",
          "data": {
            "image/png": "[encoded data removed]",
            "text/plain": [
              "<Figure size 640x480 with 1 Axes>"
            ]
          },
          "metadata": {
            "tags": []
          }
        }
      ]
    },
    {
      "cell_type": "markdown",
      "metadata": {
        "id": "f7nFnGz5sjDV"
      },
      "source": [
        "order 2-4"
      ]
    },
    {
      "cell_type": "markdown",
      "metadata": {
        "id": "_jSfSrbytMwq"
      },
      "source": [
        "1. given url -> provide a df containing all the binary relationship\n",
        "2. Add \"mapping data structure\" to the df\n",
        "3. Visualize: Netwroks\n",
        "4. Visualize NER; POS; Relationships; => binary graph\n",
        "5. Transitive micro graph\n",
        "6. ** Disambiguation\n",
        "\n",
        "2,4,5"
      ]
    }
  ]
}