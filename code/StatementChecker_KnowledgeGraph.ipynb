{
  "nbformat": 4,
  "nbformat_minor": 0,
  "metadata": {
    "colab": {
      "name": "StatementChecker_KnowledgeGraph.ipynb",
      "provenance": [],
      "collapsed_sections": [],
      "toc_visible": true,
      "machine_shape": "hm",
      "include_colab_link": true
    },
    "kernelspec": {
      "name": "python3",
      "display_name": "Python 3"
    },
    "widgets": {
      "application/vnd.jupyter.widget-state+json": {
        "6ee41d9d3b114aa5b8662373464856c1": {
          "model_module": "@jupyter-widgets/controls",
          "model_name": "HBoxModel",
          "state": {
            "_view_name": "HBoxView",
            "_dom_classes": [],
            "_model_name": "HBoxModel",
            "_view_module": "@jupyter-widgets/controls",
            "_model_module_version": "1.5.0",
            "_view_count": null,
            "_view_module_version": "1.5.0",
            "box_style": "",
            "layout": "IPY_MODEL_d50555ddb4174ad090a5e76226c1c48d",
            "_model_module": "@jupyter-widgets/controls",
            "children": [
              "IPY_MODEL_bf3f2241b44d4576bc3e56a4d3faa794",
              "IPY_MODEL_9e970f563bdc41e29be4a09c4ede352f"
            ]
          }
        },
        "d50555ddb4174ad090a5e76226c1c48d": {
          "model_module": "@jupyter-widgets/base",
          "model_name": "LayoutModel",
          "state": {
            "_view_name": "LayoutView",
            "grid_template_rows": null,
            "right": null,
            "justify_content": null,
            "_view_module": "@jupyter-widgets/base",
            "overflow": null,
            "_model_module_version": "1.2.0",
            "_view_count": null,
            "flex_flow": null,
            "width": null,
            "min_width": null,
            "border": null,
            "align_items": null,
            "bottom": null,
            "_model_module": "@jupyter-widgets/base",
            "top": null,
            "grid_column": null,
            "overflow_y": null,
            "overflow_x": null,
            "grid_auto_flow": null,
            "grid_area": null,
            "grid_template_columns": null,
            "flex": null,
            "_model_name": "LayoutModel",
            "justify_items": null,
            "grid_row": null,
            "max_height": null,
            "align_content": null,
            "visibility": null,
            "align_self": null,
            "height": null,
            "min_height": null,
            "padding": null,
            "grid_auto_rows": null,
            "grid_gap": null,
            "max_width": null,
            "order": null,
            "_view_module_version": "1.2.0",
            "grid_template_areas": null,
            "object_position": null,
            "object_fit": null,
            "grid_auto_columns": null,
            "margin": null,
            "display": null,
            "left": null
          }
        },
        "bf3f2241b44d4576bc3e56a4d3faa794": {
          "model_module": "@jupyter-widgets/controls",
          "model_name": "FloatProgressModel",
          "state": {
            "_view_name": "ProgressView",
            "style": "IPY_MODEL_21026d3ddbfb45e2a8382dd6dcb78385",
            "_dom_classes": [],
            "description": "Downloading: 100%",
            "_model_name": "FloatProgressModel",
            "bar_style": "success",
            "max": 473,
            "_view_module": "@jupyter-widgets/controls",
            "_model_module_version": "1.5.0",
            "value": 473,
            "_view_count": null,
            "_view_module_version": "1.5.0",
            "orientation": "horizontal",
            "min": 0,
            "description_tooltip": null,
            "_model_module": "@jupyter-widgets/controls",
            "layout": "IPY_MODEL_27029a6a200f4544b5d0f35aea55a353"
          }
        },
        "9e970f563bdc41e29be4a09c4ede352f": {
          "model_module": "@jupyter-widgets/controls",
          "model_name": "HTMLModel",
          "state": {
            "_view_name": "HTMLView",
            "style": "IPY_MODEL_393d8d3679914035b8d7e885fff5c052",
            "_dom_classes": [],
            "description": "",
            "_model_name": "HTMLModel",
            "placeholder": "​",
            "_view_module": "@jupyter-widgets/controls",
            "_model_module_version": "1.5.0",
            "value": " 473/473 [00:00&lt;00:00, 1.29kB/s]",
            "_view_count": null,
            "_view_module_version": "1.5.0",
            "description_tooltip": null,
            "_model_module": "@jupyter-widgets/controls",
            "layout": "IPY_MODEL_371b58a10fb94743aea399c4edddbcdc"
          }
        },
        "21026d3ddbfb45e2a8382dd6dcb78385": {
          "model_module": "@jupyter-widgets/controls",
          "model_name": "ProgressStyleModel",
          "state": {
            "_view_name": "StyleView",
            "_model_name": "ProgressStyleModel",
            "description_width": "initial",
            "_view_module": "@jupyter-widgets/base",
            "_model_module_version": "1.5.0",
            "_view_count": null,
            "_view_module_version": "1.2.0",
            "bar_color": null,
            "_model_module": "@jupyter-widgets/controls"
          }
        },
        "27029a6a200f4544b5d0f35aea55a353": {
          "model_module": "@jupyter-widgets/base",
          "model_name": "LayoutModel",
          "state": {
            "_view_name": "LayoutView",
            "grid_template_rows": null,
            "right": null,
            "justify_content": null,
            "_view_module": "@jupyter-widgets/base",
            "overflow": null,
            "_model_module_version": "1.2.0",
            "_view_count": null,
            "flex_flow": null,
            "width": null,
            "min_width": null,
            "border": null,
            "align_items": null,
            "bottom": null,
            "_model_module": "@jupyter-widgets/base",
            "top": null,
            "grid_column": null,
            "overflow_y": null,
            "overflow_x": null,
            "grid_auto_flow": null,
            "grid_area": null,
            "grid_template_columns": null,
            "flex": null,
            "_model_name": "LayoutModel",
            "justify_items": null,
            "grid_row": null,
            "max_height": null,
            "align_content": null,
            "visibility": null,
            "align_self": null,
            "height": null,
            "min_height": null,
            "padding": null,
            "grid_auto_rows": null,
            "grid_gap": null,
            "max_width": null,
            "order": null,
            "_view_module_version": "1.2.0",
            "grid_template_areas": null,
            "object_position": null,
            "object_fit": null,
            "grid_auto_columns": null,
            "margin": null,
            "display": null,
            "left": null
          }
        },
        "393d8d3679914035b8d7e885fff5c052": {
          "model_module": "@jupyter-widgets/controls",
          "model_name": "DescriptionStyleModel",
          "state": {
            "_view_name": "StyleView",
            "_model_name": "DescriptionStyleModel",
            "description_width": "",
            "_view_module": "@jupyter-widgets/base",
            "_model_module_version": "1.5.0",
            "_view_count": null,
            "_view_module_version": "1.2.0",
            "_model_module": "@jupyter-widgets/controls"
          }
        },
        "371b58a10fb94743aea399c4edddbcdc": {
          "model_module": "@jupyter-widgets/base",
          "model_name": "LayoutModel",
          "state": {
            "_view_name": "LayoutView",
            "grid_template_rows": null,
            "right": null,
            "justify_content": null,
            "_view_module": "@jupyter-widgets/base",
            "overflow": null,
            "_model_module_version": "1.2.0",
            "_view_count": null,
            "flex_flow": null,
            "width": null,
            "min_width": null,
            "border": null,
            "align_items": null,
            "bottom": null,
            "_model_module": "@jupyter-widgets/base",
            "top": null,
            "grid_column": null,
            "overflow_y": null,
            "overflow_x": null,
            "grid_auto_flow": null,
            "grid_area": null,
            "grid_template_columns": null,
            "flex": null,
            "_model_name": "LayoutModel",
            "justify_items": null,
            "grid_row": null,
            "max_height": null,
            "align_content": null,
            "visibility": null,
            "align_self": null,
            "height": null,
            "min_height": null,
            "padding": null,
            "grid_auto_rows": null,
            "grid_gap": null,
            "max_width": null,
            "order": null,
            "_view_module_version": "1.2.0",
            "grid_template_areas": null,
            "object_position": null,
            "object_fit": null,
            "grid_auto_columns": null,
            "margin": null,
            "display": null,
            "left": null
          }
        },
        "83aee60a1e8c4e39b4df5eabacddce2c": {
          "model_module": "@jupyter-widgets/controls",
          "model_name": "HBoxModel",
          "state": {
            "_view_name": "HBoxView",
            "_dom_classes": [],
            "_model_name": "HBoxModel",
            "_view_module": "@jupyter-widgets/controls",
            "_model_module_version": "1.5.0",
            "_view_count": null,
            "_view_module_version": "1.5.0",
            "box_style": "",
            "layout": "IPY_MODEL_9afaa49e6fbc40199d03aba7f2ddc17e",
            "_model_module": "@jupyter-widgets/controls",
            "children": [
              "IPY_MODEL_74687c1b842d48b0a2557f2778a336e3",
              "IPY_MODEL_c60ea9cf65f941c59b8d048b0a8ca99d"
            ]
          }
        },
        "9afaa49e6fbc40199d03aba7f2ddc17e": {
          "model_module": "@jupyter-widgets/base",
          "model_name": "LayoutModel",
          "state": {
            "_view_name": "LayoutView",
            "grid_template_rows": null,
            "right": null,
            "justify_content": null,
            "_view_module": "@jupyter-widgets/base",
            "overflow": null,
            "_model_module_version": "1.2.0",
            "_view_count": null,
            "flex_flow": null,
            "width": null,
            "min_width": null,
            "border": null,
            "align_items": null,
            "bottom": null,
            "_model_module": "@jupyter-widgets/base",
            "top": null,
            "grid_column": null,
            "overflow_y": null,
            "overflow_x": null,
            "grid_auto_flow": null,
            "grid_area": null,
            "grid_template_columns": null,
            "flex": null,
            "_model_name": "LayoutModel",
            "justify_items": null,
            "grid_row": null,
            "max_height": null,
            "align_content": null,
            "visibility": null,
            "align_self": null,
            "height": null,
            "min_height": null,
            "padding": null,
            "grid_auto_rows": null,
            "grid_gap": null,
            "max_width": null,
            "order": null,
            "_view_module_version": "1.2.0",
            "grid_template_areas": null,
            "object_position": null,
            "object_fit": null,
            "grid_auto_columns": null,
            "margin": null,
            "display": null,
            "left": null
          }
        },
        "74687c1b842d48b0a2557f2778a336e3": {
          "model_module": "@jupyter-widgets/controls",
          "model_name": "FloatProgressModel",
          "state": {
            "_view_name": "ProgressView",
            "style": "IPY_MODEL_87ef04ad19784b85ada7d98bf7581ac9",
            "_dom_classes": [],
            "description": "Downloading: 100%",
            "_model_name": "FloatProgressModel",
            "bar_style": "success",
            "max": 260793700,
            "_view_module": "@jupyter-widgets/controls",
            "_model_module_version": "1.5.0",
            "value": 260793700,
            "_view_count": null,
            "_view_module_version": "1.5.0",
            "orientation": "horizontal",
            "min": 0,
            "description_tooltip": null,
            "_model_module": "@jupyter-widgets/controls",
            "layout": "IPY_MODEL_2fef3520ae8e40508c20ba8b2ecc7b5b"
          }
        },
        "c60ea9cf65f941c59b8d048b0a8ca99d": {
          "model_module": "@jupyter-widgets/controls",
          "model_name": "HTMLModel",
          "state": {
            "_view_name": "HTMLView",
            "style": "IPY_MODEL_2fbb7b31fe7d41f09b2ddbadb6bbd9de",
            "_dom_classes": [],
            "description": "",
            "_model_name": "HTMLModel",
            "placeholder": "​",
            "_view_module": "@jupyter-widgets/controls",
            "_model_module_version": "1.5.0",
            "value": " 261M/261M [00:05&lt;00:00, 45.2MB/s]",
            "_view_count": null,
            "_view_module_version": "1.5.0",
            "description_tooltip": null,
            "_model_module": "@jupyter-widgets/controls",
            "layout": "IPY_MODEL_5bfaff0b9f6541a5864ae9fa3a229993"
          }
        },
        "87ef04ad19784b85ada7d98bf7581ac9": {
          "model_module": "@jupyter-widgets/controls",
          "model_name": "ProgressStyleModel",
          "state": {
            "_view_name": "StyleView",
            "_model_name": "ProgressStyleModel",
            "description_width": "initial",
            "_view_module": "@jupyter-widgets/base",
            "_model_module_version": "1.5.0",
            "_view_count": null,
            "_view_module_version": "1.2.0",
            "bar_color": null,
            "_model_module": "@jupyter-widgets/controls"
          }
        },
        "2fef3520ae8e40508c20ba8b2ecc7b5b": {
          "model_module": "@jupyter-widgets/base",
          "model_name": "LayoutModel",
          "state": {
            "_view_name": "LayoutView",
            "grid_template_rows": null,
            "right": null,
            "justify_content": null,
            "_view_module": "@jupyter-widgets/base",
            "overflow": null,
            "_model_module_version": "1.2.0",
            "_view_count": null,
            "flex_flow": null,
            "width": null,
            "min_width": null,
            "border": null,
            "align_items": null,
            "bottom": null,
            "_model_module": "@jupyter-widgets/base",
            "top": null,
            "grid_column": null,
            "overflow_y": null,
            "overflow_x": null,
            "grid_auto_flow": null,
            "grid_area": null,
            "grid_template_columns": null,
            "flex": null,
            "_model_name": "LayoutModel",
            "justify_items": null,
            "grid_row": null,
            "max_height": null,
            "align_content": null,
            "visibility": null,
            "align_self": null,
            "height": null,
            "min_height": null,
            "padding": null,
            "grid_auto_rows": null,
            "grid_gap": null,
            "max_width": null,
            "order": null,
            "_view_module_version": "1.2.0",
            "grid_template_areas": null,
            "object_position": null,
            "object_fit": null,
            "grid_auto_columns": null,
            "margin": null,
            "display": null,
            "left": null
          }
        },
        "2fbb7b31fe7d41f09b2ddbadb6bbd9de": {
          "model_module": "@jupyter-widgets/controls",
          "model_name": "DescriptionStyleModel",
          "state": {
            "_view_name": "StyleView",
            "_model_name": "DescriptionStyleModel",
            "description_width": "",
            "_view_module": "@jupyter-widgets/base",
            "_model_module_version": "1.5.0",
            "_view_count": null,
            "_view_module_version": "1.2.0",
            "_model_module": "@jupyter-widgets/controls"
          }
        },
        "5bfaff0b9f6541a5864ae9fa3a229993": {
          "model_module": "@jupyter-widgets/base",
          "model_name": "LayoutModel",
          "state": {
            "_view_name": "LayoutView",
            "grid_template_rows": null,
            "right": null,
            "justify_content": null,
            "_view_module": "@jupyter-widgets/base",
            "overflow": null,
            "_model_module_version": "1.2.0",
            "_view_count": null,
            "flex_flow": null,
            "width": null,
            "min_width": null,
            "border": null,
            "align_items": null,
            "bottom": null,
            "_model_module": "@jupyter-widgets/base",
            "top": null,
            "grid_column": null,
            "overflow_y": null,
            "overflow_x": null,
            "grid_auto_flow": null,
            "grid_area": null,
            "grid_template_columns": null,
            "flex": null,
            "_model_name": "LayoutModel",
            "justify_items": null,
            "grid_row": null,
            "max_height": null,
            "align_content": null,
            "visibility": null,
            "align_self": null,
            "height": null,
            "min_height": null,
            "padding": null,
            "grid_auto_rows": null,
            "grid_gap": null,
            "max_width": null,
            "order": null,
            "_view_module_version": "1.2.0",
            "grid_template_areas": null,
            "object_position": null,
            "object_fit": null,
            "grid_auto_columns": null,
            "margin": null,
            "display": null,
            "left": null
          }
        },
        "3d500d4c77544a548f92ad6e66e2137d": {
          "model_module": "@jupyter-widgets/controls",
          "model_name": "HBoxModel",
          "state": {
            "_view_name": "HBoxView",
            "_dom_classes": [],
            "_model_name": "HBoxModel",
            "_view_module": "@jupyter-widgets/controls",
            "_model_module_version": "1.5.0",
            "_view_count": null,
            "_view_module_version": "1.5.0",
            "box_style": "",
            "layout": "IPY_MODEL_9030cb590c684e0a84b1220b5d8d338f",
            "_model_module": "@jupyter-widgets/controls",
            "children": [
              "IPY_MODEL_6bbbcbd4788b44ba93de1b52a0d99a3d",
              "IPY_MODEL_1b0d8818c75142c3a34b10dd7ce6c5b9"
            ]
          }
        },
        "9030cb590c684e0a84b1220b5d8d338f": {
          "model_module": "@jupyter-widgets/base",
          "model_name": "LayoutModel",
          "state": {
            "_view_name": "LayoutView",
            "grid_template_rows": null,
            "right": null,
            "justify_content": null,
            "_view_module": "@jupyter-widgets/base",
            "overflow": null,
            "_model_module_version": "1.2.0",
            "_view_count": null,
            "flex_flow": null,
            "width": null,
            "min_width": null,
            "border": null,
            "align_items": null,
            "bottom": null,
            "_model_module": "@jupyter-widgets/base",
            "top": null,
            "grid_column": null,
            "overflow_y": null,
            "overflow_x": null,
            "grid_auto_flow": null,
            "grid_area": null,
            "grid_template_columns": null,
            "flex": null,
            "_model_name": "LayoutModel",
            "justify_items": null,
            "grid_row": null,
            "max_height": null,
            "align_content": null,
            "visibility": null,
            "align_self": null,
            "height": null,
            "min_height": null,
            "padding": null,
            "grid_auto_rows": null,
            "grid_gap": null,
            "max_width": null,
            "order": null,
            "_view_module_version": "1.2.0",
            "grid_template_areas": null,
            "object_position": null,
            "object_fit": null,
            "grid_auto_columns": null,
            "margin": null,
            "display": null,
            "left": null
          }
        },
        "6bbbcbd4788b44ba93de1b52a0d99a3d": {
          "model_module": "@jupyter-widgets/controls",
          "model_name": "FloatProgressModel",
          "state": {
            "_view_name": "ProgressView",
            "style": "IPY_MODEL_6fe65fc6682c42daacb64721df493b86",
            "_dom_classes": [],
            "description": "Downloading: 100%",
            "_model_name": "FloatProgressModel",
            "bar_style": "success",
            "max": 213450,
            "_view_module": "@jupyter-widgets/controls",
            "_model_module_version": "1.5.0",
            "value": 213450,
            "_view_count": null,
            "_view_module_version": "1.5.0",
            "orientation": "horizontal",
            "min": 0,
            "description_tooltip": null,
            "_model_module": "@jupyter-widgets/controls",
            "layout": "IPY_MODEL_4418cb78f41a4c289598006022b9427d"
          }
        },
        "1b0d8818c75142c3a34b10dd7ce6c5b9": {
          "model_module": "@jupyter-widgets/controls",
          "model_name": "HTMLModel",
          "state": {
            "_view_name": "HTMLView",
            "style": "IPY_MODEL_e0a5fef0dfc54ecbb4f73fcd41b2401d",
            "_dom_classes": [],
            "description": "",
            "_model_name": "HTMLModel",
            "placeholder": "​",
            "_view_module": "@jupyter-widgets/controls",
            "_model_module_version": "1.5.0",
            "value": " 213k/213k [00:00&lt;00:00, 237kB/s]",
            "_view_count": null,
            "_view_module_version": "1.5.0",
            "description_tooltip": null,
            "_model_module": "@jupyter-widgets/controls",
            "layout": "IPY_MODEL_1334fa1a048c44f89c3a2fc4d61be58c"
          }
        },
        "6fe65fc6682c42daacb64721df493b86": {
          "model_module": "@jupyter-widgets/controls",
          "model_name": "ProgressStyleModel",
          "state": {
            "_view_name": "StyleView",
            "_model_name": "ProgressStyleModel",
            "description_width": "initial",
            "_view_module": "@jupyter-widgets/base",
            "_model_module_version": "1.5.0",
            "_view_count": null,
            "_view_module_version": "1.2.0",
            "bar_color": null,
            "_model_module": "@jupyter-widgets/controls"
          }
        },
        "4418cb78f41a4c289598006022b9427d": {
          "model_module": "@jupyter-widgets/base",
          "model_name": "LayoutModel",
          "state": {
            "_view_name": "LayoutView",
            "grid_template_rows": null,
            "right": null,
            "justify_content": null,
            "_view_module": "@jupyter-widgets/base",
            "overflow": null,
            "_model_module_version": "1.2.0",
            "_view_count": null,
            "flex_flow": null,
            "width": null,
            "min_width": null,
            "border": null,
            "align_items": null,
            "bottom": null,
            "_model_module": "@jupyter-widgets/base",
            "top": null,
            "grid_column": null,
            "overflow_y": null,
            "overflow_x": null,
            "grid_auto_flow": null,
            "grid_area": null,
            "grid_template_columns": null,
            "flex": null,
            "_model_name": "LayoutModel",
            "justify_items": null,
            "grid_row": null,
            "max_height": null,
            "align_content": null,
            "visibility": null,
            "align_self": null,
            "height": null,
            "min_height": null,
            "padding": null,
            "grid_auto_rows": null,
            "grid_gap": null,
            "max_width": null,
            "order": null,
            "_view_module_version": "1.2.0",
            "grid_template_areas": null,
            "object_position": null,
            "object_fit": null,
            "grid_auto_columns": null,
            "margin": null,
            "display": null,
            "left": null
          }
        },
        "e0a5fef0dfc54ecbb4f73fcd41b2401d": {
          "model_module": "@jupyter-widgets/controls",
          "model_name": "DescriptionStyleModel",
          "state": {
            "_view_name": "StyleView",
            "_model_name": "DescriptionStyleModel",
            "description_width": "",
            "_view_module": "@jupyter-widgets/base",
            "_model_module_version": "1.5.0",
            "_view_count": null,
            "_view_module_version": "1.2.0",
            "_model_module": "@jupyter-widgets/controls"
          }
        },
        "1334fa1a048c44f89c3a2fc4d61be58c": {
          "model_module": "@jupyter-widgets/base",
          "model_name": "LayoutModel",
          "state": {
            "_view_name": "LayoutView",
            "grid_template_rows": null,
            "right": null,
            "justify_content": null,
            "_view_module": "@jupyter-widgets/base",
            "overflow": null,
            "_model_module_version": "1.2.0",
            "_view_count": null,
            "flex_flow": null,
            "width": null,
            "min_width": null,
            "border": null,
            "align_items": null,
            "bottom": null,
            "_model_module": "@jupyter-widgets/base",
            "top": null,
            "grid_column": null,
            "overflow_y": null,
            "overflow_x": null,
            "grid_auto_flow": null,
            "grid_area": null,
            "grid_template_columns": null,
            "flex": null,
            "_model_name": "LayoutModel",
            "justify_items": null,
            "grid_row": null,
            "max_height": null,
            "align_content": null,
            "visibility": null,
            "align_self": null,
            "height": null,
            "min_height": null,
            "padding": null,
            "grid_auto_rows": null,
            "grid_gap": null,
            "max_width": null,
            "order": null,
            "_view_module_version": "1.2.0",
            "grid_template_areas": null,
            "object_position": null,
            "object_fit": null,
            "grid_auto_columns": null,
            "margin": null,
            "display": null,
            "left": null
          }
        },
        "045fef8ad8c14cabbf6e116d6f18d7ee": {
          "model_module": "@jupyter-widgets/controls",
          "model_name": "HBoxModel",
          "state": {
            "_view_name": "HBoxView",
            "_dom_classes": [],
            "_model_name": "HBoxModel",
            "_view_module": "@jupyter-widgets/controls",
            "_model_module_version": "1.5.0",
            "_view_count": null,
            "_view_module_version": "1.5.0",
            "box_style": "",
            "layout": "IPY_MODEL_48ccf2f32d444b1aa56a496d344520e2",
            "_model_module": "@jupyter-widgets/controls",
            "children": [
              "IPY_MODEL_973e0fdc24f04e21980c80ea5bba50dc",
              "IPY_MODEL_ca623568f9e74bbda90dd08b04648ba7"
            ]
          }
        },
        "48ccf2f32d444b1aa56a496d344520e2": {
          "model_module": "@jupyter-widgets/base",
          "model_name": "LayoutModel",
          "state": {
            "_view_name": "LayoutView",
            "grid_template_rows": null,
            "right": null,
            "justify_content": null,
            "_view_module": "@jupyter-widgets/base",
            "overflow": null,
            "_model_module_version": "1.2.0",
            "_view_count": null,
            "flex_flow": null,
            "width": null,
            "min_width": null,
            "border": null,
            "align_items": null,
            "bottom": null,
            "_model_module": "@jupyter-widgets/base",
            "top": null,
            "grid_column": null,
            "overflow_y": null,
            "overflow_x": null,
            "grid_auto_flow": null,
            "grid_area": null,
            "grid_template_columns": null,
            "flex": null,
            "_model_name": "LayoutModel",
            "justify_items": null,
            "grid_row": null,
            "max_height": null,
            "align_content": null,
            "visibility": null,
            "align_self": null,
            "height": null,
            "min_height": null,
            "padding": null,
            "grid_auto_rows": null,
            "grid_gap": null,
            "max_width": null,
            "order": null,
            "_view_module_version": "1.2.0",
            "grid_template_areas": null,
            "object_position": null,
            "object_fit": null,
            "grid_auto_columns": null,
            "margin": null,
            "display": null,
            "left": null
          }
        },
        "973e0fdc24f04e21980c80ea5bba50dc": {
          "model_module": "@jupyter-widgets/controls",
          "model_name": "FloatProgressModel",
          "state": {
            "_view_name": "ProgressView",
            "style": "IPY_MODEL_e4ca4704a118422d9b764174c698ebbe",
            "_dom_classes": [],
            "description": "Downloading: 100%",
            "_model_name": "FloatProgressModel",
            "bar_style": "success",
            "max": 435797,
            "_view_module": "@jupyter-widgets/controls",
            "_model_module_version": "1.5.0",
            "value": 435797,
            "_view_count": null,
            "_view_module_version": "1.5.0",
            "orientation": "horizontal",
            "min": 0,
            "description_tooltip": null,
            "_model_module": "@jupyter-widgets/controls",
            "layout": "IPY_MODEL_21fd3e96ba684f2faece32afc05e7645"
          }
        },
        "ca623568f9e74bbda90dd08b04648ba7": {
          "model_module": "@jupyter-widgets/controls",
          "model_name": "HTMLModel",
          "state": {
            "_view_name": "HTMLView",
            "style": "IPY_MODEL_2cc4e804d7f64915bdf56179900f43f2",
            "_dom_classes": [],
            "description": "",
            "_model_name": "HTMLModel",
            "placeholder": "​",
            "_view_module": "@jupyter-widgets/controls",
            "_model_module_version": "1.5.0",
            "value": " 436k/436k [03:59&lt;00:00, 1.82kB/s]",
            "_view_count": null,
            "_view_module_version": "1.5.0",
            "description_tooltip": null,
            "_model_module": "@jupyter-widgets/controls",
            "layout": "IPY_MODEL_686d869a63a4476e85cad55dfb0d00cd"
          }
        },
        "e4ca4704a118422d9b764174c698ebbe": {
          "model_module": "@jupyter-widgets/controls",
          "model_name": "ProgressStyleModel",
          "state": {
            "_view_name": "StyleView",
            "_model_name": "ProgressStyleModel",
            "description_width": "initial",
            "_view_module": "@jupyter-widgets/base",
            "_model_module_version": "1.5.0",
            "_view_count": null,
            "_view_module_version": "1.2.0",
            "bar_color": null,
            "_model_module": "@jupyter-widgets/controls"
          }
        },
        "21fd3e96ba684f2faece32afc05e7645": {
          "model_module": "@jupyter-widgets/base",
          "model_name": "LayoutModel",
          "state": {
            "_view_name": "LayoutView",
            "grid_template_rows": null,
            "right": null,
            "justify_content": null,
            "_view_module": "@jupyter-widgets/base",
            "overflow": null,
            "_model_module_version": "1.2.0",
            "_view_count": null,
            "flex_flow": null,
            "width": null,
            "min_width": null,
            "border": null,
            "align_items": null,
            "bottom": null,
            "_model_module": "@jupyter-widgets/base",
            "top": null,
            "grid_column": null,
            "overflow_y": null,
            "overflow_x": null,
            "grid_auto_flow": null,
            "grid_area": null,
            "grid_template_columns": null,
            "flex": null,
            "_model_name": "LayoutModel",
            "justify_items": null,
            "grid_row": null,
            "max_height": null,
            "align_content": null,
            "visibility": null,
            "align_self": null,
            "height": null,
            "min_height": null,
            "padding": null,
            "grid_auto_rows": null,
            "grid_gap": null,
            "max_width": null,
            "order": null,
            "_view_module_version": "1.2.0",
            "grid_template_areas": null,
            "object_position": null,
            "object_fit": null,
            "grid_auto_columns": null,
            "margin": null,
            "display": null,
            "left": null
          }
        },
        "2cc4e804d7f64915bdf56179900f43f2": {
          "model_module": "@jupyter-widgets/controls",
          "model_name": "DescriptionStyleModel",
          "state": {
            "_view_name": "StyleView",
            "_model_name": "DescriptionStyleModel",
            "description_width": "",
            "_view_module": "@jupyter-widgets/base",
            "_model_module_version": "1.5.0",
            "_view_count": null,
            "_view_module_version": "1.2.0",
            "_model_module": "@jupyter-widgets/controls"
          }
        },
        "686d869a63a4476e85cad55dfb0d00cd": {
          "model_module": "@jupyter-widgets/base",
          "model_name": "LayoutModel",
          "state": {
            "_view_name": "LayoutView",
            "grid_template_rows": null,
            "right": null,
            "justify_content": null,
            "_view_module": "@jupyter-widgets/base",
            "overflow": null,
            "_model_module_version": "1.2.0",
            "_view_count": null,
            "flex_flow": null,
            "width": null,
            "min_width": null,
            "border": null,
            "align_items": null,
            "bottom": null,
            "_model_module": "@jupyter-widgets/base",
            "top": null,
            "grid_column": null,
            "overflow_y": null,
            "overflow_x": null,
            "grid_auto_flow": null,
            "grid_area": null,
            "grid_template_columns": null,
            "flex": null,
            "_model_name": "LayoutModel",
            "justify_items": null,
            "grid_row": null,
            "max_height": null,
            "align_content": null,
            "visibility": null,
            "align_self": null,
            "height": null,
            "min_height": null,
            "padding": null,
            "grid_auto_rows": null,
            "grid_gap": null,
            "max_width": null,
            "order": null,
            "_view_module_version": "1.2.0",
            "grid_template_areas": null,
            "object_position": null,
            "object_fit": null,
            "grid_auto_columns": null,
            "margin": null,
            "display": null,
            "left": null
          }
        },
        "f53558b1782449d3bc139570528e05a3": {
          "model_module": "@jupyter-widgets/controls",
          "model_name": "HBoxModel",
          "state": {
            "_view_name": "HBoxView",
            "_dom_classes": [],
            "_model_name": "HBoxModel",
            "_view_module": "@jupyter-widgets/controls",
            "_model_module_version": "1.5.0",
            "_view_count": null,
            "_view_module_version": "1.5.0",
            "box_style": "",
            "layout": "IPY_MODEL_9008ef184faf4ebc8e10cea942d1200d",
            "_model_module": "@jupyter-widgets/controls",
            "children": [
              "IPY_MODEL_d6f09a61e65c46989b04e6d2b9425347",
              "IPY_MODEL_91f265ff05354bffbe52236b9c0c871d"
            ]
          }
        },
        "9008ef184faf4ebc8e10cea942d1200d": {
          "model_module": "@jupyter-widgets/base",
          "model_name": "LayoutModel",
          "state": {
            "_view_name": "LayoutView",
            "grid_template_rows": null,
            "right": null,
            "justify_content": null,
            "_view_module": "@jupyter-widgets/base",
            "overflow": null,
            "_model_module_version": "1.2.0",
            "_view_count": null,
            "flex_flow": null,
            "width": null,
            "min_width": null,
            "border": null,
            "align_items": null,
            "bottom": null,
            "_model_module": "@jupyter-widgets/base",
            "top": null,
            "grid_column": null,
            "overflow_y": null,
            "overflow_x": null,
            "grid_auto_flow": null,
            "grid_area": null,
            "grid_template_columns": null,
            "flex": null,
            "_model_name": "LayoutModel",
            "justify_items": null,
            "grid_row": null,
            "max_height": null,
            "align_content": null,
            "visibility": null,
            "align_self": null,
            "height": null,
            "min_height": null,
            "padding": null,
            "grid_auto_rows": null,
            "grid_gap": null,
            "max_width": null,
            "order": null,
            "_view_module_version": "1.2.0",
            "grid_template_areas": null,
            "object_position": null,
            "object_fit": null,
            "grid_auto_columns": null,
            "margin": null,
            "display": null,
            "left": null
          }
        },
        "d6f09a61e65c46989b04e6d2b9425347": {
          "model_module": "@jupyter-widgets/controls",
          "model_name": "FloatProgressModel",
          "state": {
            "_view_name": "ProgressView",
            "style": "IPY_MODEL_1a966357bfc1410f88012d15d3d8b5eb",
            "_dom_classes": [],
            "description": "Downloading: 100%",
            "_model_name": "FloatProgressModel",
            "bar_style": "success",
            "max": 29,
            "_view_module": "@jupyter-widgets/controls",
            "_model_module_version": "1.5.0",
            "value": 29,
            "_view_count": null,
            "_view_module_version": "1.5.0",
            "orientation": "horizontal",
            "min": 0,
            "description_tooltip": null,
            "_model_module": "@jupyter-widgets/controls",
            "layout": "IPY_MODEL_07c899828be54a5890205cd1a3a29114"
          }
        },
        "91f265ff05354bffbe52236b9c0c871d": {
          "model_module": "@jupyter-widgets/controls",
          "model_name": "HTMLModel",
          "state": {
            "_view_name": "HTMLView",
            "style": "IPY_MODEL_c533ebdcf2fb47da8d4e0bf5f217ba1a",
            "_dom_classes": [],
            "description": "",
            "_model_name": "HTMLModel",
            "placeholder": "​",
            "_view_module": "@jupyter-widgets/controls",
            "_model_module_version": "1.5.0",
            "value": " 29.0/29.0 [00:30&lt;00:00, 1.06s/B]",
            "_view_count": null,
            "_view_module_version": "1.5.0",
            "description_tooltip": null,
            "_model_module": "@jupyter-widgets/controls",
            "layout": "IPY_MODEL_6dcc0f30b59b43e9acf07bb7ca78b59f"
          }
        },
        "1a966357bfc1410f88012d15d3d8b5eb": {
          "model_module": "@jupyter-widgets/controls",
          "model_name": "ProgressStyleModel",
          "state": {
            "_view_name": "StyleView",
            "_model_name": "ProgressStyleModel",
            "description_width": "initial",
            "_view_module": "@jupyter-widgets/base",
            "_model_module_version": "1.5.0",
            "_view_count": null,
            "_view_module_version": "1.2.0",
            "bar_color": null,
            "_model_module": "@jupyter-widgets/controls"
          }
        },
        "07c899828be54a5890205cd1a3a29114": {
          "model_module": "@jupyter-widgets/base",
          "model_name": "LayoutModel",
          "state": {
            "_view_name": "LayoutView",
            "grid_template_rows": null,
            "right": null,
            "justify_content": null,
            "_view_module": "@jupyter-widgets/base",
            "overflow": null,
            "_model_module_version": "1.2.0",
            "_view_count": null,
            "flex_flow": null,
            "width": null,
            "min_width": null,
            "border": null,
            "align_items": null,
            "bottom": null,
            "_model_module": "@jupyter-widgets/base",
            "top": null,
            "grid_column": null,
            "overflow_y": null,
            "overflow_x": null,
            "grid_auto_flow": null,
            "grid_area": null,
            "grid_template_columns": null,
            "flex": null,
            "_model_name": "LayoutModel",
            "justify_items": null,
            "grid_row": null,
            "max_height": null,
            "align_content": null,
            "visibility": null,
            "align_self": null,
            "height": null,
            "min_height": null,
            "padding": null,
            "grid_auto_rows": null,
            "grid_gap": null,
            "max_width": null,
            "order": null,
            "_view_module_version": "1.2.0",
            "grid_template_areas": null,
            "object_position": null,
            "object_fit": null,
            "grid_auto_columns": null,
            "margin": null,
            "display": null,
            "left": null
          }
        },
        "c533ebdcf2fb47da8d4e0bf5f217ba1a": {
          "model_module": "@jupyter-widgets/controls",
          "model_name": "DescriptionStyleModel",
          "state": {
            "_view_name": "StyleView",
            "_model_name": "DescriptionStyleModel",
            "description_width": "",
            "_view_module": "@jupyter-widgets/base",
            "_model_module_version": "1.5.0",
            "_view_count": null,
            "_view_module_version": "1.2.0",
            "_model_module": "@jupyter-widgets/controls"
          }
        },
        "6dcc0f30b59b43e9acf07bb7ca78b59f": {
          "model_module": "@jupyter-widgets/base",
          "model_name": "LayoutModel",
          "state": {
            "_view_name": "LayoutView",
            "grid_template_rows": null,
            "right": null,
            "justify_content": null,
            "_view_module": "@jupyter-widgets/base",
            "overflow": null,
            "_model_module_version": "1.2.0",
            "_view_count": null,
            "flex_flow": null,
            "width": null,
            "min_width": null,
            "border": null,
            "align_items": null,
            "bottom": null,
            "_model_module": "@jupyter-widgets/base",
            "top": null,
            "grid_column": null,
            "overflow_y": null,
            "overflow_x": null,
            "grid_auto_flow": null,
            "grid_area": null,
            "grid_template_columns": null,
            "flex": null,
            "_model_name": "LayoutModel",
            "justify_items": null,
            "grid_row": null,
            "max_height": null,
            "align_content": null,
            "visibility": null,
            "align_self": null,
            "height": null,
            "min_height": null,
            "padding": null,
            "grid_auto_rows": null,
            "grid_gap": null,
            "max_width": null,
            "order": null,
            "_view_module_version": "1.2.0",
            "grid_template_areas": null,
            "object_position": null,
            "object_fit": null,
            "grid_auto_columns": null,
            "margin": null,
            "display": null,
            "left": null
          }
        }
      }
    },
    "accelerator": "GPU"
  },
  "cells": [
    {
      "cell_type": "markdown",
      "metadata": {
        "id": "view-in-github",
        "colab_type": "text"
      },
      "source": [
        "<a href=\"https://colab.research.google.com/github/s-c-soma/deep_context_graph/blob/main/code/StatementChecker_KnowledgeGraph.ipynb\" target=\"_parent\"><img src=\"https://colab.research.google.com/assets/colab-badge.svg\" alt=\"Open In Colab\"/></a>"
      ]
    },
    {
      "cell_type": "markdown",
      "metadata": {
        "id": "Rx7gmnkznLmk"
      },
      "source": [
        "# Two variation: \n",
        "1. summarize ->graph :: .buildGraph(.summarize(text))\n",
        "2. distillation -> graph :: .buildGraph(.distill(text))\n"
      ]
    },
    {
      "cell_type": "markdown",
      "metadata": {
        "id": "qbLARzOqft-2"
      },
      "source": [
        "# **Env Setup**\n"
      ]
    },
    {
      "cell_type": "code",
      "metadata": {
        "id": "diQAzNIjGxqN",
        "colab": {
          "base_uri": "https://localhost:8080/",
          "height": 520
        },
        "outputId": "69b56d6b-571e-4db3-cde2-efe909eb0a27"
      },
      "source": [
        "\n",
        "\n",
        "# Mount google drive\n",
        "from google.colab import drive\n",
        "drive.mount('/content/drive',force_remount=False)\n",
        "\n",
        "\n",
        "# create folder to write data to\n",
        "#CIS545_FOLDER=os.path.join(DRIVE_MOUNT, 'My Drive', 'CIS545_2020')\n",
        "#HOMEWORK_FOLDER=os.path.join(CIS545_FOLDER, 'Project')\n",
        "#os.makedirs(HOMEWORK_FOLDER, exist_ok=True)"
      ],
      "execution_count": 1,
      "outputs": [
        {
          "output_type": "error",
          "ename": "KeyboardInterrupt",
          "evalue": "ignored",
          "traceback": [
            "\u001b[0;31m---------------------------------------------------------------------------\u001b[0m",
            "\u001b[0;31mKeyboardInterrupt\u001b[0m                         Traceback (most recent call last)",
            "\u001b[0;32m/usr/local/lib/python3.7/dist-packages/ipykernel/kernelbase.py\u001b[0m in \u001b[0;36m_input_request\u001b[0;34m(self, prompt, ident, parent, password)\u001b[0m\n\u001b[1;32m    728\u001b[0m             \u001b[0;32mtry\u001b[0m\u001b[0;34m:\u001b[0m\u001b[0;34m\u001b[0m\u001b[0;34m\u001b[0m\u001b[0m\n\u001b[0;32m--> 729\u001b[0;31m                 \u001b[0mident\u001b[0m\u001b[0;34m,\u001b[0m \u001b[0mreply\u001b[0m \u001b[0;34m=\u001b[0m \u001b[0mself\u001b[0m\u001b[0;34m.\u001b[0m\u001b[0msession\u001b[0m\u001b[0;34m.\u001b[0m\u001b[0mrecv\u001b[0m\u001b[0;34m(\u001b[0m\u001b[0mself\u001b[0m\u001b[0;34m.\u001b[0m\u001b[0mstdin_socket\u001b[0m\u001b[0;34m,\u001b[0m \u001b[0;36m0\u001b[0m\u001b[0;34m)\u001b[0m\u001b[0;34m\u001b[0m\u001b[0;34m\u001b[0m\u001b[0m\n\u001b[0m\u001b[1;32m    730\u001b[0m             \u001b[0;32mexcept\u001b[0m \u001b[0mException\u001b[0m\u001b[0;34m:\u001b[0m\u001b[0;34m\u001b[0m\u001b[0;34m\u001b[0m\u001b[0m\n",
            "\u001b[0;32m/usr/local/lib/python3.7/dist-packages/jupyter_client/session.py\u001b[0m in \u001b[0;36mrecv\u001b[0;34m(self, socket, mode, content, copy)\u001b[0m\n\u001b[1;32m    802\u001b[0m         \u001b[0;32mtry\u001b[0m\u001b[0;34m:\u001b[0m\u001b[0;34m\u001b[0m\u001b[0;34m\u001b[0m\u001b[0m\n\u001b[0;32m--> 803\u001b[0;31m             \u001b[0mmsg_list\u001b[0m \u001b[0;34m=\u001b[0m \u001b[0msocket\u001b[0m\u001b[0;34m.\u001b[0m\u001b[0mrecv_multipart\u001b[0m\u001b[0;34m(\u001b[0m\u001b[0mmode\u001b[0m\u001b[0;34m,\u001b[0m \u001b[0mcopy\u001b[0m\u001b[0;34m=\u001b[0m\u001b[0mcopy\u001b[0m\u001b[0;34m)\u001b[0m\u001b[0;34m\u001b[0m\u001b[0;34m\u001b[0m\u001b[0m\n\u001b[0m\u001b[1;32m    804\u001b[0m         \u001b[0;32mexcept\u001b[0m \u001b[0mzmq\u001b[0m\u001b[0;34m.\u001b[0m\u001b[0mZMQError\u001b[0m \u001b[0;32mas\u001b[0m \u001b[0me\u001b[0m\u001b[0;34m:\u001b[0m\u001b[0;34m\u001b[0m\u001b[0;34m\u001b[0m\u001b[0m\n",
            "\u001b[0;32m/usr/local/lib/python3.7/dist-packages/zmq/sugar/socket.py\u001b[0m in \u001b[0;36mrecv_multipart\u001b[0;34m(self, flags, copy, track)\u001b[0m\n\u001b[1;32m    582\u001b[0m         \"\"\"\n\u001b[0;32m--> 583\u001b[0;31m         \u001b[0mparts\u001b[0m \u001b[0;34m=\u001b[0m \u001b[0;34m[\u001b[0m\u001b[0mself\u001b[0m\u001b[0;34m.\u001b[0m\u001b[0mrecv\u001b[0m\u001b[0;34m(\u001b[0m\u001b[0mflags\u001b[0m\u001b[0;34m,\u001b[0m \u001b[0mcopy\u001b[0m\u001b[0;34m=\u001b[0m\u001b[0mcopy\u001b[0m\u001b[0;34m,\u001b[0m \u001b[0mtrack\u001b[0m\u001b[0;34m=\u001b[0m\u001b[0mtrack\u001b[0m\u001b[0;34m)\u001b[0m\u001b[0;34m]\u001b[0m\u001b[0;34m\u001b[0m\u001b[0;34m\u001b[0m\u001b[0m\n\u001b[0m\u001b[1;32m    584\u001b[0m         \u001b[0;31m# have first part already, only loop while more to receive\u001b[0m\u001b[0;34m\u001b[0m\u001b[0;34m\u001b[0m\u001b[0;34m\u001b[0m\u001b[0m\n",
            "\u001b[0;32mzmq/backend/cython/socket.pyx\u001b[0m in \u001b[0;36mzmq.backend.cython.socket.Socket.recv\u001b[0;34m()\u001b[0m\n",
            "\u001b[0;32mzmq/backend/cython/socket.pyx\u001b[0m in \u001b[0;36mzmq.backend.cython.socket.Socket.recv\u001b[0;34m()\u001b[0m\n",
            "\u001b[0;32mzmq/backend/cython/socket.pyx\u001b[0m in \u001b[0;36mzmq.backend.cython.socket._recv_copy\u001b[0;34m()\u001b[0m\n",
            "\u001b[0;32m/usr/local/lib/python3.7/dist-packages/zmq/backend/cython/checkrc.pxd\u001b[0m in \u001b[0;36mzmq.backend.cython.checkrc._check_rc\u001b[0;34m()\u001b[0m\n",
            "\u001b[0;31mKeyboardInterrupt\u001b[0m: ",
            "\nDuring handling of the above exception, another exception occurred:\n",
            "\u001b[0;31mKeyboardInterrupt\u001b[0m                         Traceback (most recent call last)",
            "\u001b[0;32m<ipython-input-1-29f45847674b>\u001b[0m in \u001b[0;36m<module>\u001b[0;34m()\u001b[0m\n\u001b[1;32m      3\u001b[0m \u001b[0;31m# Mount google drive\u001b[0m\u001b[0;34m\u001b[0m\u001b[0;34m\u001b[0m\u001b[0;34m\u001b[0m\u001b[0m\n\u001b[1;32m      4\u001b[0m \u001b[0;32mfrom\u001b[0m \u001b[0mgoogle\u001b[0m\u001b[0;34m.\u001b[0m\u001b[0mcolab\u001b[0m \u001b[0;32mimport\u001b[0m \u001b[0mdrive\u001b[0m\u001b[0;34m\u001b[0m\u001b[0;34m\u001b[0m\u001b[0m\n\u001b[0;32m----> 5\u001b[0;31m \u001b[0mdrive\u001b[0m\u001b[0;34m.\u001b[0m\u001b[0mmount\u001b[0m\u001b[0;34m(\u001b[0m\u001b[0;34m'/content/drive'\u001b[0m\u001b[0;34m,\u001b[0m\u001b[0mforce_remount\u001b[0m\u001b[0;34m=\u001b[0m\u001b[0;32mFalse\u001b[0m\u001b[0;34m)\u001b[0m\u001b[0;34m\u001b[0m\u001b[0;34m\u001b[0m\u001b[0m\n\u001b[0m\u001b[1;32m      6\u001b[0m \u001b[0;34m\u001b[0m\u001b[0m\n\u001b[1;32m      7\u001b[0m \u001b[0;34m\u001b[0m\u001b[0m\n",
            "\u001b[0;32m/usr/local/lib/python3.7/dist-packages/google/colab/drive.py\u001b[0m in \u001b[0;36mmount\u001b[0;34m(mountpoint, force_remount, timeout_ms, use_metadata_server)\u001b[0m\n\u001b[1;32m    258\u001b[0m       \u001b[0;32mwith\u001b[0m \u001b[0m_output\u001b[0m\u001b[0;34m.\u001b[0m\u001b[0muse_tags\u001b[0m\u001b[0;34m(\u001b[0m\u001b[0;34m'dfs-auth-dance'\u001b[0m\u001b[0;34m)\u001b[0m\u001b[0;34m:\u001b[0m\u001b[0;34m\u001b[0m\u001b[0;34m\u001b[0m\u001b[0m\n\u001b[1;32m    259\u001b[0m         \u001b[0;32mwith\u001b[0m \u001b[0mopen\u001b[0m\u001b[0;34m(\u001b[0m\u001b[0mfifo\u001b[0m\u001b[0;34m,\u001b[0m \u001b[0;34m'w'\u001b[0m\u001b[0;34m)\u001b[0m \u001b[0;32mas\u001b[0m \u001b[0mfifo_file\u001b[0m\u001b[0;34m:\u001b[0m\u001b[0;34m\u001b[0m\u001b[0;34m\u001b[0m\u001b[0m\n\u001b[0;32m--> 260\u001b[0;31m           \u001b[0mfifo_file\u001b[0m\u001b[0;34m.\u001b[0m\u001b[0mwrite\u001b[0m\u001b[0;34m(\u001b[0m\u001b[0mget_code\u001b[0m\u001b[0;34m(\u001b[0m\u001b[0mauth_prompt\u001b[0m\u001b[0;34m)\u001b[0m \u001b[0;34m+\u001b[0m \u001b[0;34m'\\n'\u001b[0m\u001b[0;34m)\u001b[0m\u001b[0;34m\u001b[0m\u001b[0;34m\u001b[0m\u001b[0m\n\u001b[0m\u001b[1;32m    261\u001b[0m       \u001b[0mwrote_to_fifo\u001b[0m \u001b[0;34m=\u001b[0m \u001b[0;32mTrue\u001b[0m\u001b[0;34m\u001b[0m\u001b[0;34m\u001b[0m\u001b[0m\n\u001b[1;32m    262\u001b[0m     \u001b[0;32melif\u001b[0m \u001b[0mcase\u001b[0m \u001b[0;34m==\u001b[0m \u001b[0;36m5\u001b[0m\u001b[0;34m:\u001b[0m\u001b[0;34m\u001b[0m\u001b[0;34m\u001b[0m\u001b[0m\n",
            "\u001b[0;32m/usr/local/lib/python3.7/dist-packages/ipykernel/kernelbase.py\u001b[0m in \u001b[0;36mraw_input\u001b[0;34m(self, prompt)\u001b[0m\n\u001b[1;32m    702\u001b[0m             \u001b[0mself\u001b[0m\u001b[0;34m.\u001b[0m\u001b[0m_parent_ident\u001b[0m\u001b[0;34m,\u001b[0m\u001b[0;34m\u001b[0m\u001b[0;34m\u001b[0m\u001b[0m\n\u001b[1;32m    703\u001b[0m             \u001b[0mself\u001b[0m\u001b[0;34m.\u001b[0m\u001b[0m_parent_header\u001b[0m\u001b[0;34m,\u001b[0m\u001b[0;34m\u001b[0m\u001b[0;34m\u001b[0m\u001b[0m\n\u001b[0;32m--> 704\u001b[0;31m             \u001b[0mpassword\u001b[0m\u001b[0;34m=\u001b[0m\u001b[0;32mFalse\u001b[0m\u001b[0;34m,\u001b[0m\u001b[0;34m\u001b[0m\u001b[0;34m\u001b[0m\u001b[0m\n\u001b[0m\u001b[1;32m    705\u001b[0m         )\n\u001b[1;32m    706\u001b[0m \u001b[0;34m\u001b[0m\u001b[0m\n",
            "\u001b[0;32m/usr/local/lib/python3.7/dist-packages/ipykernel/kernelbase.py\u001b[0m in \u001b[0;36m_input_request\u001b[0;34m(self, prompt, ident, parent, password)\u001b[0m\n\u001b[1;32m    732\u001b[0m             \u001b[0;32mexcept\u001b[0m \u001b[0mKeyboardInterrupt\u001b[0m\u001b[0;34m:\u001b[0m\u001b[0;34m\u001b[0m\u001b[0;34m\u001b[0m\u001b[0m\n\u001b[1;32m    733\u001b[0m                 \u001b[0;31m# re-raise KeyboardInterrupt, to truncate traceback\u001b[0m\u001b[0;34m\u001b[0m\u001b[0;34m\u001b[0m\u001b[0;34m\u001b[0m\u001b[0m\n\u001b[0;32m--> 734\u001b[0;31m                 \u001b[0;32mraise\u001b[0m \u001b[0mKeyboardInterrupt\u001b[0m\u001b[0;34m\u001b[0m\u001b[0;34m\u001b[0m\u001b[0m\n\u001b[0m\u001b[1;32m    735\u001b[0m             \u001b[0;32melse\u001b[0m\u001b[0;34m:\u001b[0m\u001b[0;34m\u001b[0m\u001b[0;34m\u001b[0m\u001b[0m\n\u001b[1;32m    736\u001b[0m                 \u001b[0;32mbreak\u001b[0m\u001b[0;34m\u001b[0m\u001b[0;34m\u001b[0m\u001b[0m\n",
            "\u001b[0;31mKeyboardInterrupt\u001b[0m: "
          ]
        }
      ]
    },
    {
      "cell_type": "code",
      "metadata": {
        "id": "_BFPSZ4QWG5W",
        "colab": {
          "base_uri": "https://localhost:8080/"
        },
        "outputId": "6c2b7170-811e-4a14-8536-5b06426276db"
      },
      "source": [
        "!ls '/content/drive/Shared drives/1DeepContextGraph/1DeepContextGraph'"
      ],
      "execution_count": null,
      "outputs": [
        {
          "output_type": "stream",
          "text": [
            "code  documents\n"
          ],
          "name": "stdout"
        }
      ]
    },
    {
      "cell_type": "code",
      "metadata": {
        "id": "pYTBhUSrWxL-"
      },
      "source": [
        "file_path = '/content/drive/Shared drives/1DeepContextGraph/1DeepContextGraph/code/data/'"
      ],
      "execution_count": 49,
      "outputs": []
    },
    {
      "cell_type": "markdown",
      "metadata": {
        "id": "Rahs7nD9y1Yd"
      },
      "source": [
        "# Library"
      ]
    },
    {
      "cell_type": "code",
      "metadata": {
        "colab": {
          "base_uri": "https://localhost:8080/"
        },
        "id": "zKHChq0e8x8k",
        "outputId": "7a0a3297-529d-4ed0-9765-95803f77dad7"
      },
      "source": [
        "!pip install sentence-transformers"
      ],
      "execution_count": 1,
      "outputs": [
        {
          "output_type": "stream",
          "text": [
            "Collecting sentence-transformers\n",
            "\u001b[?25l  Downloading https://files.pythonhosted.org/packages/c4/87/49dc49e13ac107ce912c2f3f3fd92252c6d4221e88d1e6c16747044a11d8/sentence-transformers-1.1.0.tar.gz (78kB)\n",
            "\u001b[K     |████████████████████████████████| 81kB 3.7MB/s \n",
            "\u001b[?25hCollecting transformers<5.0.0,>=3.1.0\n",
            "\u001b[?25l  Downloading https://files.pythonhosted.org/packages/d8/b2/57495b5309f09fa501866e225c84532d1fd89536ea62406b2181933fb418/transformers-4.5.1-py3-none-any.whl (2.1MB)\n",
            "\u001b[K     |████████████████████████████████| 2.1MB 5.9MB/s \n",
            "\u001b[?25hRequirement already satisfied: tqdm in /usr/local/lib/python3.7/dist-packages (from sentence-transformers) (4.41.1)\n",
            "Requirement already satisfied: torch>=1.6.0 in /usr/local/lib/python3.7/dist-packages (from sentence-transformers) (1.8.1+cu101)\n",
            "Requirement already satisfied: numpy in /usr/local/lib/python3.7/dist-packages (from sentence-transformers) (1.19.5)\n",
            "Requirement already satisfied: scikit-learn in /usr/local/lib/python3.7/dist-packages (from sentence-transformers) (0.22.2.post1)\n",
            "Requirement already satisfied: scipy in /usr/local/lib/python3.7/dist-packages (from sentence-transformers) (1.4.1)\n",
            "Requirement already satisfied: nltk in /usr/local/lib/python3.7/dist-packages (from sentence-transformers) (3.2.5)\n",
            "Collecting sentencepiece\n",
            "\u001b[?25l  Downloading https://files.pythonhosted.org/packages/f5/99/e0808cb947ba10f575839c43e8fafc9cc44e4a7a2c8f79c60db48220a577/sentencepiece-0.1.95-cp37-cp37m-manylinux2014_x86_64.whl (1.2MB)\n",
            "\u001b[K     |████████████████████████████████| 1.2MB 21.7MB/s \n",
            "\u001b[?25hRequirement already satisfied: filelock in /usr/local/lib/python3.7/dist-packages (from transformers<5.0.0,>=3.1.0->sentence-transformers) (3.0.12)\n",
            "Requirement already satisfied: packaging in /usr/local/lib/python3.7/dist-packages (from transformers<5.0.0,>=3.1.0->sentence-transformers) (20.9)\n",
            "Collecting sacremoses\n",
            "\u001b[?25l  Downloading https://files.pythonhosted.org/packages/75/ee/67241dc87f266093c533a2d4d3d69438e57d7a90abb216fa076e7d475d4a/sacremoses-0.0.45-py3-none-any.whl (895kB)\n",
            "\u001b[K     |████████████████████████████████| 901kB 28.2MB/s \n",
            "\u001b[?25hCollecting tokenizers<0.11,>=0.10.1\n",
            "\u001b[?25l  Downloading https://files.pythonhosted.org/packages/ae/04/5b870f26a858552025a62f1649c20d29d2672c02ff3c3fb4c688ca46467a/tokenizers-0.10.2-cp37-cp37m-manylinux2010_x86_64.whl (3.3MB)\n",
            "\u001b[K     |████████████████████████████████| 3.3MB 30.1MB/s \n",
            "\u001b[?25hRequirement already satisfied: regex!=2019.12.17 in /usr/local/lib/python3.7/dist-packages (from transformers<5.0.0,>=3.1.0->sentence-transformers) (2019.12.20)\n",
            "Requirement already satisfied: requests in /usr/local/lib/python3.7/dist-packages (from transformers<5.0.0,>=3.1.0->sentence-transformers) (2.23.0)\n",
            "Requirement already satisfied: importlib-metadata; python_version < \"3.8\" in /usr/local/lib/python3.7/dist-packages (from transformers<5.0.0,>=3.1.0->sentence-transformers) (3.10.1)\n",
            "Requirement already satisfied: typing-extensions in /usr/local/lib/python3.7/dist-packages (from torch>=1.6.0->sentence-transformers) (3.7.4.3)\n",
            "Requirement already satisfied: joblib>=0.11 in /usr/local/lib/python3.7/dist-packages (from scikit-learn->sentence-transformers) (1.0.1)\n",
            "Requirement already satisfied: six in /usr/local/lib/python3.7/dist-packages (from nltk->sentence-transformers) (1.15.0)\n",
            "Requirement already satisfied: pyparsing>=2.0.2 in /usr/local/lib/python3.7/dist-packages (from packaging->transformers<5.0.0,>=3.1.0->sentence-transformers) (2.4.7)\n",
            "Requirement already satisfied: click in /usr/local/lib/python3.7/dist-packages (from sacremoses->transformers<5.0.0,>=3.1.0->sentence-transformers) (7.1.2)\n",
            "Requirement already satisfied: certifi>=2017.4.17 in /usr/local/lib/python3.7/dist-packages (from requests->transformers<5.0.0,>=3.1.0->sentence-transformers) (2020.12.5)\n",
            "Requirement already satisfied: idna<3,>=2.5 in /usr/local/lib/python3.7/dist-packages (from requests->transformers<5.0.0,>=3.1.0->sentence-transformers) (2.10)\n",
            "Requirement already satisfied: urllib3!=1.25.0,!=1.25.1,<1.26,>=1.21.1 in /usr/local/lib/python3.7/dist-packages (from requests->transformers<5.0.0,>=3.1.0->sentence-transformers) (1.24.3)\n",
            "Requirement already satisfied: chardet<4,>=3.0.2 in /usr/local/lib/python3.7/dist-packages (from requests->transformers<5.0.0,>=3.1.0->sentence-transformers) (3.0.4)\n",
            "Requirement already satisfied: zipp>=0.5 in /usr/local/lib/python3.7/dist-packages (from importlib-metadata; python_version < \"3.8\"->transformers<5.0.0,>=3.1.0->sentence-transformers) (3.4.1)\n",
            "Building wheels for collected packages: sentence-transformers\n",
            "  Building wheel for sentence-transformers (setup.py) ... \u001b[?25l\u001b[?25hdone\n",
            "  Created wheel for sentence-transformers: filename=sentence_transformers-1.1.0-cp37-none-any.whl size=119615 sha256=67621d7eff6600152553ac66a40a1bff4fd1c5dfe9a83cea052cff3cf1a41243\n",
            "  Stored in directory: /root/.cache/pip/wheels/84/cb/21/1066bff3027215c760ca14a198f698bca8fccb92e33e2327eb\n",
            "Successfully built sentence-transformers\n",
            "Installing collected packages: sacremoses, tokenizers, transformers, sentencepiece, sentence-transformers\n",
            "Successfully installed sacremoses-0.0.45 sentence-transformers-1.1.0 sentencepiece-0.1.95 tokenizers-0.10.2 transformers-4.5.1\n"
          ],
          "name": "stdout"
        }
      ]
    },
    {
      "cell_type": "code",
      "metadata": {
        "colab": {
          "base_uri": "https://localhost:8080/"
        },
        "id": "WnpavPOi8-wJ",
        "outputId": "292146c6-4c78-4fb9-c326-d9f62d22f4eb"
      },
      "source": [
        "!pip install LexRank"
      ],
      "execution_count": 2,
      "outputs": [
        {
          "output_type": "stream",
          "text": [
            "Collecting LexRank\n",
            "\u001b[?25l  Downloading https://files.pythonhosted.org/packages/e1/25/f139d8526e014b6bf6021305492cd7ccffbfa10999802fce4813808b04e4/lexrank-0.1.0-py3-none-any.whl (69kB)\n",
            "\r\u001b[K     |████▊                           | 10kB 26.0MB/s eta 0:00:01\r\u001b[K     |█████████▍                      | 20kB 9.9MB/s eta 0:00:01\r\u001b[K     |██████████████                  | 30kB 8.0MB/s eta 0:00:01\r\u001b[K     |██████████████████▊             | 40kB 7.3MB/s eta 0:00:01\r\u001b[K     |███████████████████████▌        | 51kB 4.1MB/s eta 0:00:01\r\u001b[K     |████████████████████████████▏   | 61kB 4.7MB/s eta 0:00:01\r\u001b[K     |████████████████████████████████| 71kB 3.6MB/s \n",
            "\u001b[?25hRequirement already satisfied: numpy>=1.13.3 in /usr/local/lib/python3.7/dist-packages (from LexRank) (1.19.5)\n",
            "Collecting path.py>=10.5\n",
            "  Downloading https://files.pythonhosted.org/packages/8f/04/130b7a538c25693c85c4dee7e25d126ebf5511b1eb7320e64906687b159e/path.py-12.5.0-py3-none-any.whl\n",
            "Requirement already satisfied: pyrsistent>=0.14.0 in /usr/local/lib/python3.7/dist-packages (from LexRank) (0.17.3)\n",
            "Collecting urlextract>=0.7\n",
            "  Downloading https://files.pythonhosted.org/packages/c3/24/0f5c690a4ef9b5d30845517ef14c35ce6a3d96e5b0ae0db6895bb194ab10/urlextract-1.2.0-py3-none-any.whl\n",
            "Requirement already satisfied: regex>=2017.11.9 in /usr/local/lib/python3.7/dist-packages (from LexRank) (2019.12.20)\n",
            "Requirement already satisfied: scipy>=0.19.0 in /usr/local/lib/python3.7/dist-packages (from LexRank) (1.4.1)\n",
            "Collecting path\n",
            "  Downloading https://files.pythonhosted.org/packages/d3/2a/b0f97e1b736725f6ec48a8bd564ee1d1f3f945bb5d39cb44ef8bbe66bd14/path-15.1.2-py3-none-any.whl\n",
            "Collecting uritools\n",
            "  Downloading https://files.pythonhosted.org/packages/5f/fe/44e4381e7fcf89cc32af9f2d83a778e63dbc1e3f80e9625ad00ec0214a0b/uritools-3.0.2-py3-none-any.whl\n",
            "Requirement already satisfied: filelock in /usr/local/lib/python3.7/dist-packages (from urlextract>=0.7->LexRank) (3.0.12)\n",
            "Requirement already satisfied: idna in /usr/local/lib/python3.7/dist-packages (from urlextract>=0.7->LexRank) (2.10)\n",
            "Requirement already satisfied: appdirs in /usr/local/lib/python3.7/dist-packages (from urlextract>=0.7->LexRank) (1.4.4)\n",
            "Installing collected packages: path, path.py, uritools, urlextract, LexRank\n",
            "Successfully installed LexRank-0.1.0 path-15.1.2 path.py-12.5.0 uritools-3.0.2 urlextract-1.2.0\n"
          ],
          "name": "stdout"
        }
      ]
    },
    {
      "cell_type": "code",
      "metadata": {
        "colab": {
          "base_uri": "https://localhost:8080/"
        },
        "id": "S2EgFlRXsVsA",
        "outputId": "2737e93f-74e6-4c35-b195-c209b041d3a7"
      },
      "source": [
        "!python -m spacy download en_core_web_sm"
      ],
      "execution_count": 3,
      "outputs": [
        {
          "output_type": "stream",
          "text": [
            "Requirement already satisfied: en_core_web_sm==2.2.5 from https://github.com/explosion/spacy-models/releases/download/en_core_web_sm-2.2.5/en_core_web_sm-2.2.5.tar.gz#egg=en_core_web_sm==2.2.5 in /usr/local/lib/python3.7/dist-packages (2.2.5)\n",
            "Requirement already satisfied: spacy>=2.2.2 in /usr/local/lib/python3.7/dist-packages (from en_core_web_sm==2.2.5) (2.2.4)\n",
            "Requirement already satisfied: srsly<1.1.0,>=1.0.2 in /usr/local/lib/python3.7/dist-packages (from spacy>=2.2.2->en_core_web_sm==2.2.5) (1.0.5)\n",
            "Requirement already satisfied: blis<0.5.0,>=0.4.0 in /usr/local/lib/python3.7/dist-packages (from spacy>=2.2.2->en_core_web_sm==2.2.5) (0.4.1)\n",
            "Requirement already satisfied: thinc==7.4.0 in /usr/local/lib/python3.7/dist-packages (from spacy>=2.2.2->en_core_web_sm==2.2.5) (7.4.0)\n",
            "Requirement already satisfied: preshed<3.1.0,>=3.0.2 in /usr/local/lib/python3.7/dist-packages (from spacy>=2.2.2->en_core_web_sm==2.2.5) (3.0.5)\n",
            "Requirement already satisfied: cymem<2.1.0,>=2.0.2 in /usr/local/lib/python3.7/dist-packages (from spacy>=2.2.2->en_core_web_sm==2.2.5) (2.0.5)\n",
            "Requirement already satisfied: catalogue<1.1.0,>=0.0.7 in /usr/local/lib/python3.7/dist-packages (from spacy>=2.2.2->en_core_web_sm==2.2.5) (1.0.0)\n",
            "Requirement already satisfied: wasabi<1.1.0,>=0.4.0 in /usr/local/lib/python3.7/dist-packages (from spacy>=2.2.2->en_core_web_sm==2.2.5) (0.8.2)\n",
            "Requirement already satisfied: plac<1.2.0,>=0.9.6 in /usr/local/lib/python3.7/dist-packages (from spacy>=2.2.2->en_core_web_sm==2.2.5) (1.1.3)\n",
            "Requirement already satisfied: tqdm<5.0.0,>=4.38.0 in /usr/local/lib/python3.7/dist-packages (from spacy>=2.2.2->en_core_web_sm==2.2.5) (4.41.1)\n",
            "Requirement already satisfied: numpy>=1.15.0 in /usr/local/lib/python3.7/dist-packages (from spacy>=2.2.2->en_core_web_sm==2.2.5) (1.19.5)\n",
            "Requirement already satisfied: setuptools in /usr/local/lib/python3.7/dist-packages (from spacy>=2.2.2->en_core_web_sm==2.2.5) (56.0.0)\n",
            "Requirement already satisfied: murmurhash<1.1.0,>=0.28.0 in /usr/local/lib/python3.7/dist-packages (from spacy>=2.2.2->en_core_web_sm==2.2.5) (1.0.5)\n",
            "Requirement already satisfied: requests<3.0.0,>=2.13.0 in /usr/local/lib/python3.7/dist-packages (from spacy>=2.2.2->en_core_web_sm==2.2.5) (2.23.0)\n",
            "Requirement already satisfied: importlib-metadata>=0.20; python_version < \"3.8\" in /usr/local/lib/python3.7/dist-packages (from catalogue<1.1.0,>=0.0.7->spacy>=2.2.2->en_core_web_sm==2.2.5) (3.10.1)\n",
            "Requirement already satisfied: idna<3,>=2.5 in /usr/local/lib/python3.7/dist-packages (from requests<3.0.0,>=2.13.0->spacy>=2.2.2->en_core_web_sm==2.2.5) (2.10)\n",
            "Requirement already satisfied: certifi>=2017.4.17 in /usr/local/lib/python3.7/dist-packages (from requests<3.0.0,>=2.13.0->spacy>=2.2.2->en_core_web_sm==2.2.5) (2020.12.5)\n",
            "Requirement already satisfied: urllib3!=1.25.0,!=1.25.1,<1.26,>=1.21.1 in /usr/local/lib/python3.7/dist-packages (from requests<3.0.0,>=2.13.0->spacy>=2.2.2->en_core_web_sm==2.2.5) (1.24.3)\n",
            "Requirement already satisfied: chardet<4,>=3.0.2 in /usr/local/lib/python3.7/dist-packages (from requests<3.0.0,>=2.13.0->spacy>=2.2.2->en_core_web_sm==2.2.5) (3.0.4)\n",
            "Requirement already satisfied: zipp>=0.5 in /usr/local/lib/python3.7/dist-packages (from importlib-metadata>=0.20; python_version < \"3.8\"->catalogue<1.1.0,>=0.0.7->spacy>=2.2.2->en_core_web_sm==2.2.5) (3.4.1)\n",
            "Requirement already satisfied: typing-extensions>=3.6.4; python_version < \"3.8\" in /usr/local/lib/python3.7/dist-packages (from importlib-metadata>=0.20; python_version < \"3.8\"->catalogue<1.1.0,>=0.0.7->spacy>=2.2.2->en_core_web_sm==2.2.5) (3.7.4.3)\n",
            "\u001b[38;5;2m✔ Download and installation successful\u001b[0m\n",
            "You can now load the model via spacy.load('en_core_web_sm')\n"
          ],
          "name": "stdout"
        }
      ]
    },
    {
      "cell_type": "code",
      "metadata": {
        "id": "DeeYtkOS-MXU"
      },
      "source": [
        "#import lexrank.degree_centrality_scores\n",
        "\n",
        "from lexrank import STOPWORDS, LexRank\n",
        "from path import Path\n"
      ],
      "execution_count": 4,
      "outputs": []
    },
    {
      "cell_type": "code",
      "metadata": {
        "id": "wIpGURz6ZkHi",
        "colab": {
          "base_uri": "https://localhost:8080/"
        },
        "outputId": "b3394e18-1d2c-41fe-8377-b9204fbcf1e5"
      },
      "source": [
        "import json\n",
        "import os\n",
        "# For caculating approximate time to process notebook (IGNORE)\n",
        "import datetime\n",
        "datetime.datetime.now()\n",
        "import argparse\n",
        "import pandas as pd\n",
        "import numpy as np\n",
        "import operator\n",
        "import pickle as pkl \n",
        "import matplotlib.pyplot as plt\n",
        "import nltk as nl\n",
        "from nltk.sentiment.vader import SentimentIntensityAnalyzer\n",
        "from sklearn.model_selection import ParameterGrid\n",
        "import statistics\n",
        "import random\n",
        "import warnings\n",
        "from string import punctuation\n",
        "from matplotlib import pyplot\n",
        "from pandas import Series, datetime\n",
        "from pandas.plotting import scatter_matrix, autocorrelation_plot\n",
        "from sklearn.preprocessing import StandardScaler\n",
        "from sklearn.model_selection import train_test_split, KFold, cross_val_score, GridSearchCV, TimeSeriesSplit\n",
        "from sklearn.metrics import classification_report, confusion_matrix, accuracy_score, mean_squared_error\n",
        "from sklearn.pipeline import Pipeline\n",
        "from sklearn.linear_model import LogisticRegression\n",
        "from sklearn.tree import DecisionTreeClassifier\n",
        "from sklearn.neighbors import KNeighborsClassifier\n",
        "from sklearn.discriminant_analysis import LinearDiscriminantAnalysis\n",
        "from sklearn.naive_bayes import GaussianNB\n",
        "from sklearn.svm import SVC\n",
        "from sklearn.ensemble import AdaBoostClassifier, GradientBoostingClassifier, RandomForestClassifier, ExtraTreesClassifier\n",
        "from sklearn.metrics import roc_curve, auc\n",
        "from sklearn.feature_extraction.text import CountVectorizer\n",
        "from xgboost import XGBClassifier\n",
        "from sklearn.naive_bayes import MultinomialNB\n",
        "from spacy import displacy \n",
        "import nltk\n",
        "import re\n",
        "import io\n",
        "import requests\n",
        "import time\n",
        "import gensim\n",
        "from nltk.stem.wordnet import WordNetLemmatizer\n",
        "from nltk.corpus import stopwords\n",
        "from string import punctuation\n",
        "import nltk.sentiment\n",
        "from sentence_transformers import SentenceTransformer, util\n",
        "import numpy as np\n",
        "import spacy\n",
        "from spacy.lang.en import English\n",
        "import networkx as nx\n",
        "import matplotlib.pyplot as plt\n",
        "from nltk.tokenize import word_tokenize, sent_tokenize\n",
        "\n",
        "nltk.download('punkt')\n",
        "nltk.download('stopwords')\n",
        "nltk.download('averaged_perceptron_tagger')\n",
        "nltk.download('punkt')\n",
        "nltk.download('wordnet')\n",
        "nltk.download('vader_lexicon')"
      ],
      "execution_count": 5,
      "outputs": [
        {
          "output_type": "stream",
          "text": [
            "/usr/local/lib/python3.7/dist-packages/nltk/twitter/__init__.py:20: UserWarning: The twython library has not been installed. Some functionality from the twitter package will not be available.\n",
            "  warnings.warn(\"The twython library has not been installed. \"\n",
            "/usr/local/lib/python3.7/dist-packages/ipykernel_launcher.py:20: FutureWarning: The pandas.datetime class is deprecated and will be removed from pandas in a future version. Import from datetime module instead.\n"
          ],
          "name": "stderr"
        },
        {
          "output_type": "stream",
          "text": [
            "[nltk_data] Downloading package punkt to /root/nltk_data...\n",
            "[nltk_data]   Unzipping tokenizers/punkt.zip.\n",
            "[nltk_data] Downloading package stopwords to /root/nltk_data...\n",
            "[nltk_data]   Unzipping corpora/stopwords.zip.\n",
            "[nltk_data] Downloading package averaged_perceptron_tagger to\n",
            "[nltk_data]     /root/nltk_data...\n",
            "[nltk_data]   Unzipping taggers/averaged_perceptron_tagger.zip.\n",
            "[nltk_data] Downloading package punkt to /root/nltk_data...\n",
            "[nltk_data]   Package punkt is already up-to-date!\n",
            "[nltk_data] Downloading package wordnet to /root/nltk_data...\n",
            "[nltk_data]   Unzipping corpora/wordnet.zip.\n",
            "[nltk_data] Downloading package vader_lexicon to /root/nltk_data...\n"
          ],
          "name": "stdout"
        },
        {
          "output_type": "execute_result",
          "data": {
            "text/plain": [
              "True"
            ]
          },
          "metadata": {
            "tags": []
          },
          "execution_count": 5
        }
      ]
    },
    {
      "cell_type": "markdown",
      "metadata": {
        "id": "qla-L-vEyPe4"
      },
      "source": [
        "# Load Data"
      ]
    },
    {
      "cell_type": "code",
      "metadata": {
        "id": "zklda03cyYgP"
      },
      "source": [
        "data_fox_claim = pd.read_csv(file_path+'/fox_claim_news_processed.csv',low_memory=False)\n",
        "#data_all_news = pd.read_csv(file_path+'/statement_checker_all.csv',low_memory=False)\n",
        "data_polifact = pd.read_csv(file_path+'/political_fact_checker_processed.csv',low_memory=False)\n"
      ],
      "execution_count": 7,
      "outputs": []
    },
    {
      "cell_type": "code",
      "metadata": {
        "colab": {
          "base_uri": "https://localhost:8080/"
        },
        "id": "_cgt3SqP0hY9",
        "outputId": "ae33ddb3-f8ad-426c-f22a-8fd932f9a426"
      },
      "source": [
        "data_fox_claim.columns"
      ],
      "execution_count": 8,
      "outputs": [
        {
          "output_type": "execute_result",
          "data": {
            "text/plain": [
              "Index(['Unnamed: 0', 'Unnamed: 0.1', 'link', 'published', 'title', 'text',\n",
              "       'site', 'text_distilled', 'topics', 'named_entity_recognition',\n",
              "       'top_10_freq_word', 'pasts_of_speech'],\n",
              "      dtype='object')"
            ]
          },
          "metadata": {
            "tags": []
          },
          "execution_count": 8
        }
      ]
    },
    {
      "cell_type": "code",
      "metadata": {
        "colab": {
          "base_uri": "https://localhost:8080/"
        },
        "id": "75927YU6lUO2",
        "outputId": "560601e8-fa98-4e4d-ef76-30cd8a57990d"
      },
      "source": [
        "data_polifact.columns"
      ],
      "execution_count": 9,
      "outputs": [
        {
          "output_type": "execute_result",
          "data": {
            "text/plain": [
              "Index(['Unnamed: 0', 'Unnamed: 0.1', 'sources', 'urls', 'title', 'summaries',\n",
              "       'dates', 'ratings', 'text', 'authors', 'publishdate', 'relatedlinks',\n",
              "       'claims', 'text_distilled', 'topics', 'named_entity_recognition',\n",
              "       'top_10_freq_word', 'pasts_of_speech'],\n",
              "      dtype='object')"
            ]
          },
          "metadata": {
            "tags": []
          },
          "execution_count": 9
        }
      ]
    },
    {
      "cell_type": "code",
      "metadata": {
        "colab": {
          "base_uri": "https://localhost:8080/"
        },
        "id": "cJp0grVSkij1",
        "outputId": "87acd34a-76dd-44e8-a0b7-fa7e68e7b64b"
      },
      "source": [
        "data_fox_claim['Unnamed: 0'][1]"
      ],
      "execution_count": 10,
      "outputs": [
        {
          "output_type": "execute_result",
          "data": {
            "text/plain": [
              "1"
            ]
          },
          "metadata": {
            "tags": []
          },
          "execution_count": 10
        }
      ]
    },
    {
      "cell_type": "code",
      "metadata": {
        "id": "b97W8RmnlF-E"
      },
      "source": [
        "data_fox_claim = data_fox_claim.rename({'Unnamed: 0': 'documentId'}, axis='columns')\n",
        "data_polifact = data_polifact.rename({'Unnamed: 0': 'documentId'}, axis='columns')"
      ],
      "execution_count": 11,
      "outputs": []
    },
    {
      "cell_type": "markdown",
      "metadata": {
        "id": "f5BuIUfZ1X5g"
      },
      "source": [
        "# Methods"
      ]
    },
    {
      "cell_type": "markdown",
      "metadata": {
        "id": "K9zg6DzVyV1Q"
      },
      "source": [
        "## Lemmatization\n",
        "  \n",
        "First, the raw words must be converted to root forms.  "
      ]
    },
    {
      "cell_type": "code",
      "metadata": {
        "id": "Qs9YyZ8WygUo"
      },
      "source": [
        "def lemmatize(tokenized_words):\n",
        "  text = [nltk.WordNetLemmatizer().lemmatize(word) for word in tokenized_words]\n",
        "  return text\n"
      ],
      "execution_count": 12,
      "outputs": []
    },
    {
      "cell_type": "markdown",
      "metadata": {
        "id": "CRnq7Orw5sSW"
      },
      "source": [
        "## Removing Stop words\n",
        "\n"
      ]
    },
    {
      "cell_type": "code",
      "metadata": {
        "id": "7axUBcsp5yXD"
      },
      "source": [
        "english_stopwords = set(stopwords.words('english') + list(punctuation) + [''])\n",
        "\n",
        "def remove_stopwords(tokenized_words):\n",
        "  text = [word for word in tokenized_words if word not in english_stopwords]\n",
        "  return text\n"
      ],
      "execution_count": 13,
      "outputs": []
    },
    {
      "cell_type": "markdown",
      "metadata": {
        "id": "ejCglovYHwyb"
      },
      "source": [
        "## Custom Filtering\n",
        "\n",
        "Some of the one or two-letter words from the tokenized words are also removed to further cleanse the raw text. "
      ]
    },
    {
      "cell_type": "code",
      "metadata": {
        "id": "Z9ujoC42HwGM"
      },
      "source": [
        "whitelist = set(['ai', 'ax', 'ca', 'eu', 'go', 'io', 'la', 'ox', 'us', 'uk', \n",
        "                 'al', 'ak', 'az', 'ar', 'ca', 'co', 'ct', 'de', 'fl', 'ga', 'hi', \n",
        "                 'id', 'il', 'in', 'ia', 'ks', 'ky', 'la', 'me', 'md', 'ma', 'mi',\n",
        "                 'mn', 'ms', 'mo', 'mt', 'ne', 'nv', 'nh', 'nj', 'nm', 'ny',\n",
        "                 'nc', 'nd', 'oh', 'ok', 'or', 'pa', 'ri', 'sc', 'sd', 'tn',\n",
        "                 'tx', 'ut', 'vt', 'va', 'wa', 'wv', 'wi', 'wy' ])\n",
        "def remove_too_short(tokenized_words):\n",
        "  text = [word for word in tokenized_words if (len(word) >= 3 or word not in whitelist) ]\n",
        "  return text"
      ],
      "execution_count": 14,
      "outputs": []
    },
    {
      "cell_type": "markdown",
      "metadata": {
        "id": "DGmEhyrkC0e5"
      },
      "source": [
        "## LDA Analysis\n"
      ]
    },
    {
      "cell_type": "code",
      "metadata": {
        "id": "M7Fdvch1EjQ4"
      },
      "source": [
        "from gensim.models.ldamodel import LdaModel\n",
        "from gensim.corpora import Dictionary\n",
        "\n",
        "def topics(tokenized_words):\n",
        "    d = Dictionary([tokenized_words])\n",
        "    c = [d.doc2bow(tokenized_words)]\n",
        "    m = LdaModel(c, num_topics=1, id2word=d)\n",
        "    return list(m.print_topics(num_words=2))\n",
        "  \n"
      ],
      "execution_count": 15,
      "outputs": []
    },
    {
      "cell_type": "markdown",
      "metadata": {
        "id": "ze4YTpBLultl"
      },
      "source": [
        "## Topics as Simple List of Words\n",
        "\n",
        "A list of topic terms is compiled as show below. The coefficients in front of each word are dropped as part of simplification. The assumption is that the top two words comprising the topic, are both significant enough to be treated equally. It is important that the goal is to build a reliable prediction model. While there is a risk of oversimplification, if the final model results in a poor accuracy score, the coefficient can always be reintroduced here."
      ]
    },
    {
      "cell_type": "code",
      "metadata": {
        "id": "a1fxmdcyuqoB"
      },
      "source": [
        "def parseTopics(topics):\n",
        "   output = []\n",
        "   words = topics[0][1].split( '+' )\n",
        "   for word in words:\n",
        "       output.append( word.split('*')[1].replace( '\"', '' ) )\n",
        "   return output"
      ],
      "execution_count": 16,
      "outputs": []
    },
    {
      "cell_type": "markdown",
      "metadata": {
        "id": "WhDGJBUxpbMC"
      },
      "source": [
        "# Information extraction and knowledge graphs\n",
        "\n",
        "* https://programmerbackpack.com/python-nlp-tutorial-information-extraction-and-knowledge-graphs/\n",
        "* https://github.com/bdmarius/python-knowledge-graph"
      ]
    },
    {
      "cell_type": "markdown",
      "metadata": {
        "id": "fp3-5DIUxo-G"
      },
      "source": [
        "## Methods"
      ]
    },
    {
      "cell_type": "code",
      "metadata": {
        "id": "AGLiWdQHxbu3"
      },
      "source": [
        "def getSentences(text):\n",
        "    nlp = English()\n",
        "    nlp.add_pipe(nlp.create_pipe('sentencizer'))\n",
        "    document = nlp(text)\n",
        "    return [sent.string.strip() for sent in document.sents]\n",
        "\n",
        "def printToken(token):\n",
        "    print(token.text, \"->\", token.dep_)\n",
        "\n",
        "def appendChunk(original, chunk):\n",
        "    return original + ' ' + chunk\n",
        "\n",
        "def isRelationCandidate(token):\n",
        "    deps = [\"ROOT\", \"adj\", \"attr\", \"agent\", \"amod\"]\n",
        "    return any(subs in token.dep_ for subs in deps)\n",
        "\n",
        "def isConstructionCandidate(token):\n",
        "    #deps = [\"compound\", \"prep\", \"conj\", \"mod\",\"nsubj\",\"quantmod\",\"dobj\",\"poss\",\"pobj\"] #\n",
        "    deps = [\"compound\", \"prep\", \"conj\", \"mod\", \"quantmod\", \"dobj\"] #,\"poss\"\n",
        "    return any(subs in token.dep_ for subs in deps)\n",
        "'''\n",
        "Mellon ... nsubj .... ORG\n",
        "from ... prep .... \n",
        "Pan ... compound .... ORG\n",
        "Am ... compound .... ORG\n",
        "Systems ... pobj .... ORG\n",
        "donated ... ROOT .... \n",
        "$ ... quantmod .... MONEY\n",
        "10 ... compound .... MONEY\n",
        "million ... dobj .... MONEY\n",
        "to ... prep .... \n",
        "Trump ... poss .... PERSON\n",
        "'s ... case .... \n",
        "campaign ... pobj .... \n",
        ". ... punct .... \n",
        "'''\n",
        "def processSubjectObjectPairs(tokens):\n",
        "    subject = ''\n",
        "    object = ''\n",
        "    relation = ''\n",
        "    subjectConstruction = ''\n",
        "    objectConstruction = ''\n",
        "    for token in tokens:\n",
        "        printToken(token)\n",
        "        if \"punct\" in token.dep_:\n",
        "            continue\n",
        "        if isRelationCandidate(token):\n",
        "            relation = appendChunk(relation, token.lemma_)\n",
        "        if isConstructionCandidate(token):\n",
        "            if subjectConstruction:\n",
        "                subjectConstruction = appendChunk(subjectConstruction, token.text)\n",
        "            if objectConstruction:\n",
        "                objectConstruction = appendChunk(objectConstruction, token.text)\n",
        "        if \"subj\" in token.dep_:\n",
        "            subject = appendChunk(subject, token.text)\n",
        "            subject = appendChunk(subjectConstruction, subject)\n",
        "            subjectConstruction = ''\n",
        "        if \"obj\" in token.dep_:\n",
        "            object = appendChunk(object, token.text)\n",
        "            object = appendChunk(objectConstruction, object)\n",
        "            objectConstruction = ''\n",
        "\n",
        "    print (subject.strip(), \",\", relation.strip(), \",\", object.strip())\n",
        "    return (subject.strip(), relation.strip(), object.strip())\n",
        "\n",
        "def processSentence(sentence):\n",
        "    tokens = nlp_model(sentence)\n",
        "    return processSubjectObjectPairs(tokens)\n",
        "\n",
        "def printGraph(triples):\n",
        "    G = nx.Graph()\n",
        "    for triple in triples:\n",
        "        G.add_node(triple[0])\n",
        "        G.add_node(triple[1])\n",
        "        G.add_node(triple[2])\n",
        "        G.add_edge(triple[0], triple[1])\n",
        "        G.add_edge(triple[1], triple[2])\n",
        "\n",
        "    pos = nx.spring_layout(G)\n",
        "    # plt.figure(figsize=(8, 6), dpi=80)\n",
        "    # nx.draw(G, pos, edge_color='black', width=1, linewidths=1,\n",
        "    #         node_size=500, node_color='seagreen', alpha=0.9,\n",
        "    #         labels={node: node for node in G.nodes()})\n",
        "    # plt.axis('off')\n",
        "\n",
        "    plt.figure(figsize=(12,12))\n",
        "    pos = nx.spring_layout(G)\n",
        "    nx.draw(G, with_labels=True, node_color='skyblue', edge_cmap=plt.cm.Blues, pos = pos)\n",
        "\n",
        "\n",
        "    plt.show()"
      ],
      "execution_count": 81,
      "outputs": []
    },
    {
      "cell_type": "markdown",
      "metadata": {
        "id": "Qj4I-nm51JdI"
      },
      "source": [
        "## Example and Experiment"
      ]
    },
    {
      "cell_type": "code",
      "metadata": {
        "id": "04VT_L4rxuQP"
      },
      "source": [
        "text = \"London is the capital and largest city of England and the United Kingdom. Standing on the River \" \\\n",
        "           \"Thames in the south-east of England, at the head of its 50-mile (80 km) estuary leading to \" \\\n",
        "           \"the North Sea, London has been a major settlement for two millennia. \" \\\n",
        "           \"Londinium was founded by the Romans. The City of London, \" \\\n",
        "           \"London's ancient core − an area of just 1.12 square miles (2.9 km2) and colloquially known as \" \\\n",
        "           \"the Square Mile − retains boundaries that follow closely its medieval limits.\" \\\n",
        "           \"The City of Westminster is also an Inner London borough holding city status. \" \\\n",
        "           \"Greater London is governed by the Mayor of London and the London Assembly.\" \\\n",
        "           \"London is located in the southeast of England.\" \\\n",
        "           \"Westminster is located in London.\" \\\n",
        "           \"London is the biggest city in Britain. London has a population of 7,172,036.\"\n"
      ],
      "execution_count": 7,
      "outputs": []
    },
    {
      "cell_type": "code",
      "metadata": {
        "id": "jmF74bLKz1xH"
      },
      "source": [
        "summary = \"\"\" The Chrysler Building, the famous art deco New York skyscraper, will be\n",
        " sold for a small fraction of its previous sales price. The building sold fairly \n",
        " quickly after being publicly placed on the market only two months ago. The incentive \n",
        " to sell the building at such a huge loss was due to the soaring rent the owners pay to \n",
        " Cooper Union, a New York college, for the land under the building.' Still the building is \n",
        "among the best known in the city, even to people who have never been to New York. \"\"\""
      ],
      "execution_count": 11,
      "outputs": []
    },
    {
      "cell_type": "code",
      "metadata": {
        "colab": {
          "base_uri": "https://localhost:8080/"
        },
        "id": "mc4gedTiz6Jw",
        "outputId": "1aa54f22-9efc-4625-ee99-0cf26e951d3a"
      },
      "source": [
        "body = summary\n",
        "sentences = getSentences(body)\n",
        "nlp_model = spacy.load('en_core_web_sm')\n",
        "\n",
        "triples = []\n",
        "#print (body)\n",
        "for sentence in sentences:\n",
        "  triples.append(processSentence(sentence))"
      ],
      "execution_count": 12,
      "outputs": [
        {
          "output_type": "stream",
          "text": [
            "The -> det\n",
            "Chrysler -> compound\n",
            "Building -> nsubj\n",
            ", -> punct\n",
            "the -> det\n",
            "famous -> amod\n",
            "art -> compound\n",
            "deco -> compound\n",
            "New -> compound\n",
            "York -> compound\n",
            "skyscraper -> appos\n",
            ", -> punct\n",
            "will -> aux\n",
            "be -> ROOT\n",
            "\n",
            "  -> \n",
            "sold -> advcl\n",
            "for -> prep\n",
            "a -> det\n",
            "small -> amod\n",
            "fraction -> pobj\n",
            "of -> prep\n",
            "its -> poss\n",
            "previous -> amod\n",
            "sales -> compound\n",
            "price -> pobj\n",
            ". -> punct\n",
            "Building , famous be small previous , fraction price\n",
            "The -> det\n",
            "building -> nsubj\n",
            "sold -> ROOT\n",
            "fairly -> advmod\n",
            "\n",
            "  -> \n",
            "quickly -> advmod\n",
            "after -> prep\n",
            "being -> auxpass\n",
            "publicly -> advmod\n",
            "placed -> pcomp\n",
            "on -> prep\n",
            "the -> det\n",
            "market -> pobj\n",
            "only -> advmod\n",
            "two -> nummod\n",
            "months -> npadvmod\n",
            "ago -> advmod\n",
            ". -> punct\n",
            "building , sell , market\n",
            "The -> det\n",
            "incentive -> nsubj\n",
            "\n",
            "  -> \n",
            "to -> aux\n",
            "sell -> relcl\n",
            "the -> det\n",
            "building -> dobj\n",
            "at -> prep\n",
            "such -> predet\n",
            "a -> det\n",
            "huge -> amod\n",
            "loss -> pobj\n",
            "was -> ROOT\n",
            "due -> acomp\n",
            "to -> prep\n",
            "the -> det\n",
            "soaring -> amod\n",
            "rent -> pobj\n",
            "the -> det\n",
            "owners -> nsubj\n",
            "pay -> relcl\n",
            "to -> prep\n",
            "\n",
            "  -> \n",
            "Cooper -> compound\n",
            "Union -> pobj\n",
            ", -> punct\n",
            "a -> det\n",
            "New -> compound\n",
            "York -> compound\n",
            "college -> appos\n",
            ", -> punct\n",
            "for -> prep\n",
            "the -> det\n",
            "land -> pobj\n",
            "under -> prep\n",
            "the -> det\n",
            "building -> pobj\n",
            ". -> punct\n",
            "' -> punct\n",
            "incentive owners , huge be soar , building loss rent Union land building\n",
            "Still -> advmod\n",
            "the -> det\n",
            "building -> nsubj\n",
            "is -> ROOT\n",
            "\n",
            " -> \n",
            "among -> prep\n",
            "the -> det\n",
            "best -> pobj\n",
            "known -> acl\n",
            "in -> prep\n",
            "the -> det\n",
            "city -> pobj\n",
            ", -> punct\n",
            "even -> advmod\n",
            "to -> prep\n",
            "people -> pobj\n",
            "who -> nsubj\n",
            "have -> aux\n",
            "never -> neg\n",
            "been -> relcl\n",
            "to -> prep\n",
            "New -> compound\n",
            "York -> pobj\n",
            ". -> punct\n",
            "building who , be , best city people York\n"
          ],
          "name": "stdout"
        }
      ]
    },
    {
      "cell_type": "code",
      "metadata": {
        "colab": {
          "base_uri": "https://localhost:8080/",
          "height": 512
        },
        "id": "bwkgAJpKyHdm",
        "outputId": "b24bb284-6df0-40b6-d1b6-11bdc65030a9"
      },
      "source": [
        "printGraph(triples)  "
      ],
      "execution_count": 13,
      "outputs": [
        {
          "output_type": "display_data",
          "data": {
            "image/png": "[encoded data removed]",
            "text/plain": [
              "<Figure size 640x480 with 1 Axes>"
            ]
          },
          "metadata": {
            "tags": []
          }
        }
      ]
    },
    {
      "cell_type": "markdown",
      "metadata": {
        "id": "t1xGdtsk1Nv_"
      },
      "source": [
        "## Knowledge graph FoxClaim"
      ]
    },
    {
      "cell_type": "code",
      "metadata": {
        "id": "Ap-YUwPL1R3X"
      },
      "source": [
        "data_fox_claim.head(1)"
      ],
      "execution_count": null,
      "outputs": []
    },
    {
      "cell_type": "code",
      "metadata": {
        "id": "y_WkBNud1rOX"
      },
      "source": [
        "data_fox_claim.columns"
      ],
      "execution_count": null,
      "outputs": []
    },
    {
      "cell_type": "code",
      "metadata": {
        "id": "MfRC4eRa1jHQ"
      },
      "source": [
        "body = data_fox_claim['title'][0]\n",
        "sentences = getSentences(body)\n",
        "nlp_model = spacy.load('en_core_web_sm')\n",
        "\n",
        "triples = []\n",
        "#print (body)\n",
        "for sentence in sentences:\n",
        "  triples.append(processSentence(sentence))"
      ],
      "execution_count": null,
      "outputs": []
    },
    {
      "cell_type": "code",
      "metadata": {
        "id": "Ldt4x9iH2xz_"
      },
      "source": [
        "printGraph(triples) "
      ],
      "execution_count": null,
      "outputs": []
    },
    {
      "cell_type": "markdown",
      "metadata": {
        "id": "K5P7pLXo13V5"
      },
      "source": [
        "## Knowledge graph Politifact"
      ]
    },
    {
      "cell_type": "code",
      "metadata": {
        "id": "B9ShGWHN13V6"
      },
      "source": [
        "data_polifact.head(1)"
      ],
      "execution_count": null,
      "outputs": []
    },
    {
      "cell_type": "code",
      "metadata": {
        "id": "KDEyml2J13V8"
      },
      "source": [
        "data_polifact.columns"
      ],
      "execution_count": null,
      "outputs": []
    },
    {
      "cell_type": "code",
      "metadata": {
        "id": "HpFn9jXI13V8"
      },
      "source": [
        "body = data_polifact['title'][0]\n",
        "sentences = getSentences(body)\n",
        "nlp_model = spacy.load('en_core_web_sm')\n",
        "\n",
        "triples = []\n",
        "#print (body)\n",
        "for sentence in sentences:\n",
        "  triples.append(processSentence(sentence))"
      ],
      "execution_count": null,
      "outputs": []
    },
    {
      "cell_type": "code",
      "metadata": {
        "id": "RSBFTHaA3Pxu"
      },
      "source": [
        "printGraph(triples) "
      ],
      "execution_count": null,
      "outputs": []
    },
    {
      "cell_type": "markdown",
      "metadata": {
        "id": "AV_E-Bqw7JWO"
      },
      "source": [
        "# Use Case: Political Donation Knowledge Graph for Trump\n",
        "\n",
        "* news: \n",
        "https://www.washingtonpost.com/politics/timothy-mellon-top-donor-to-trump-super-pac-used-racial-stereotypes-to-describe-african-americans-in-his-autobiography/2020/06/18/89206c5a-a742-11ea-b619-3f9133bbb482_story.html\n",
        "\n",
        "* ref: \n",
        "https://programmerbackpack.com/python-nlp-tutorial-information-extraction-and-knowledge-graphs/"
      ]
    },
    {
      "cell_type": "code",
      "metadata": {
        "colab": {
          "base_uri": "https://localhost:8080/"
        },
        "id": "zgjpebtD7O_9",
        "outputId": "be1a0056-344c-47fb-83cd-c18e07e58e56"
      },
      "source": [
        "!pip install newspaper3k"
      ],
      "execution_count": 14,
      "outputs": [
        {
          "output_type": "stream",
          "text": [
            "Collecting newspaper3k\n",
            "\u001b[?25l  Downloading https://files.pythonhosted.org/packages/d7/b9/51afecb35bb61b188a4b44868001de348a0e8134b4dfa00ffc191567c4b9/newspaper3k-0.2.8-py3-none-any.whl (211kB)\n",
            "\r\u001b[K     |█▌                              | 10kB 22.2MB/s eta 0:00:01\r\u001b[K     |███                             | 20kB 9.7MB/s eta 0:00:01\r\u001b[K     |████▋                           | 30kB 8.0MB/s eta 0:00:01\r\u001b[K     |██████▏                         | 40kB 7.4MB/s eta 0:00:01\r\u001b[K     |███████▊                        | 51kB 3.9MB/s eta 0:00:01\r\u001b[K     |█████████▎                      | 61kB 4.4MB/s eta 0:00:01\r\u001b[K     |██████████▉                     | 71kB 4.8MB/s eta 0:00:01\r\u001b[K     |████████████▍                   | 81kB 5.0MB/s eta 0:00:01\r\u001b[K     |██████████████                  | 92kB 5.1MB/s eta 0:00:01\r\u001b[K     |███████████████▌                | 102kB 5.6MB/s eta 0:00:01\r\u001b[K     |█████████████████               | 112kB 5.6MB/s eta 0:00:01\r\u001b[K     |██████████████████▋             | 122kB 5.6MB/s eta 0:00:01\r\u001b[K     |████████████████████▏           | 133kB 5.6MB/s eta 0:00:01\r\u001b[K     |█████████████████████▊          | 143kB 5.6MB/s eta 0:00:01\r\u001b[K     |███████████████████████▎        | 153kB 5.6MB/s eta 0:00:01\r\u001b[K     |████████████████████████▉       | 163kB 5.6MB/s eta 0:00:01\r\u001b[K     |██████████████████████████▍     | 174kB 5.6MB/s eta 0:00:01\r\u001b[K     |████████████████████████████    | 184kB 5.6MB/s eta 0:00:01\r\u001b[K     |█████████████████████████████▌  | 194kB 5.6MB/s eta 0:00:01\r\u001b[K     |███████████████████████████████ | 204kB 5.6MB/s eta 0:00:01\r\u001b[K     |████████████████████████████████| 215kB 5.6MB/s \n",
            "\u001b[?25hRequirement already satisfied: beautifulsoup4>=4.4.1 in /usr/local/lib/python3.7/dist-packages (from newspaper3k) (4.6.3)\n",
            "Requirement already satisfied: PyYAML>=3.11 in /usr/local/lib/python3.7/dist-packages (from newspaper3k) (3.13)\n",
            "Requirement already satisfied: lxml>=3.6.0 in /usr/local/lib/python3.7/dist-packages (from newspaper3k) (4.2.6)\n",
            "Collecting tldextract>=2.0.1\n",
            "\u001b[?25l  Downloading https://files.pythonhosted.org/packages/7e/62/b6acd3129c5615b9860e670df07fd55b76175b63e6b7f68282c7cad38e9e/tldextract-3.1.0-py2.py3-none-any.whl (87kB)\n",
            "\u001b[K     |████████████████████████████████| 92kB 7.4MB/s \n",
            "\u001b[?25hCollecting feedfinder2>=0.0.4\n",
            "  Downloading https://files.pythonhosted.org/packages/35/82/1251fefec3bb4b03fd966c7e7f7a41c9fc2bb00d823a34c13f847fd61406/feedfinder2-0.0.4.tar.gz\n",
            "Collecting jieba3k>=0.35.1\n",
            "\u001b[?25l  Downloading https://files.pythonhosted.org/packages/a9/cb/2c8332bcdc14d33b0bedd18ae0a4981a069c3513e445120da3c3f23a8aaa/jieba3k-0.35.1.zip (7.4MB)\n",
            "\u001b[K     |████████████████████████████████| 7.4MB 7.9MB/s \n",
            "\u001b[?25hCollecting cssselect>=0.9.2\n",
            "  Downloading https://files.pythonhosted.org/packages/3b/d4/3b5c17f00cce85b9a1e6f91096e1cc8e8ede2e1be8e96b87ce1ed09e92c5/cssselect-1.1.0-py2.py3-none-any.whl\n",
            "Collecting feedparser>=5.2.1\n",
            "\u001b[?25l  Downloading https://files.pythonhosted.org/packages/1c/21/faf1bac028662cc8adb2b5ef7a6f3999a765baa2835331df365289b0ca56/feedparser-6.0.2-py3-none-any.whl (80kB)\n",
            "\u001b[K     |████████████████████████████████| 81kB 12.4MB/s \n",
            "\u001b[?25hRequirement already satisfied: requests>=2.10.0 in /usr/local/lib/python3.7/dist-packages (from newspaper3k) (2.23.0)\n",
            "Collecting tinysegmenter==0.3\n",
            "  Downloading https://files.pythonhosted.org/packages/17/82/86982e4b6d16e4febc79c2a1d68ee3b707e8a020c5d2bc4af8052d0f136a/tinysegmenter-0.3.tar.gz\n",
            "Requirement already satisfied: nltk>=3.2.1 in /usr/local/lib/python3.7/dist-packages (from newspaper3k) (3.2.5)\n",
            "Requirement already satisfied: Pillow>=3.3.0 in /usr/local/lib/python3.7/dist-packages (from newspaper3k) (7.1.2)\n",
            "Requirement already satisfied: python-dateutil>=2.5.3 in /usr/local/lib/python3.7/dist-packages (from newspaper3k) (2.8.1)\n",
            "Requirement already satisfied: idna in /usr/local/lib/python3.7/dist-packages (from tldextract>=2.0.1->newspaper3k) (2.10)\n",
            "Requirement already satisfied: filelock>=3.0.8 in /usr/local/lib/python3.7/dist-packages (from tldextract>=2.0.1->newspaper3k) (3.0.12)\n",
            "Collecting requests-file>=1.4\n",
            "  Downloading https://files.pythonhosted.org/packages/77/86/cdb5e8eaed90796aa83a6d9f75cfbd37af553c47a291cd47bc410ef9bdb2/requests_file-1.5.1-py2.py3-none-any.whl\n",
            "Requirement already satisfied: six in /usr/local/lib/python3.7/dist-packages (from feedfinder2>=0.0.4->newspaper3k) (1.15.0)\n",
            "Collecting sgmllib3k\n",
            "  Downloading https://files.pythonhosted.org/packages/9e/bd/3704a8c3e0942d711c1299ebf7b9091930adae6675d7c8f476a7ce48653c/sgmllib3k-1.0.0.tar.gz\n",
            "Requirement already satisfied: chardet<4,>=3.0.2 in /usr/local/lib/python3.7/dist-packages (from requests>=2.10.0->newspaper3k) (3.0.4)\n",
            "Requirement already satisfied: urllib3!=1.25.0,!=1.25.1,<1.26,>=1.21.1 in /usr/local/lib/python3.7/dist-packages (from requests>=2.10.0->newspaper3k) (1.24.3)\n",
            "Requirement already satisfied: certifi>=2017.4.17 in /usr/local/lib/python3.7/dist-packages (from requests>=2.10.0->newspaper3k) (2020.12.5)\n",
            "Building wheels for collected packages: feedfinder2, jieba3k, tinysegmenter, sgmllib3k\n",
            "  Building wheel for feedfinder2 (setup.py) ... \u001b[?25l\u001b[?25hdone\n",
            "  Created wheel for feedfinder2: filename=feedfinder2-0.0.4-cp37-none-any.whl size=3358 sha256=794958ac0f49ea7c91f65a84fccdd48f8cc0baca217b4291a935f7f3237df7f0\n",
            "  Stored in directory: /root/.cache/pip/wheels/de/03/ca/778e3a7a627e3d98836cc890e7cb40c7575424cfd3340f40ed\n",
            "  Building wheel for jieba3k (setup.py) ... \u001b[?25l\u001b[?25hdone\n",
            "  Created wheel for jieba3k: filename=jieba3k-0.35.1-cp37-none-any.whl size=7398406 sha256=d1e14a8405153ee2d19a68e6bf92e004b6e70501e839bfa2853691a69eaab7df\n",
            "  Stored in directory: /root/.cache/pip/wheels/83/15/9c/a3f1f67e7f7181170ad37d32e503c35da20627c013f438ed34\n",
            "  Building wheel for tinysegmenter (setup.py) ... \u001b[?25l\u001b[?25hdone\n",
            "  Created wheel for tinysegmenter: filename=tinysegmenter-0.3-cp37-none-any.whl size=13538 sha256=3beeae7d4c4c17f4a4de353380e959e84078b1ab66a2776335a7f4d86d3a9b69\n",
            "  Stored in directory: /root/.cache/pip/wheels/81/2b/43/a02ede72324dd40cdd7ca53aad718c7710628e91b8b0dc0f02\n",
            "  Building wheel for sgmllib3k (setup.py) ... \u001b[?25l\u001b[?25hdone\n",
            "  Created wheel for sgmllib3k: filename=sgmllib3k-1.0.0-cp37-none-any.whl size=6067 sha256=afe1ec93081fb5ecf80a7f8dd7429ba8e26fc008d09224f5b7c2f0e8720215f3\n",
            "  Stored in directory: /root/.cache/pip/wheels/f1/80/5a/444ba08a550cdd241bd9baf8bae44be750efe370adb944506a\n",
            "Successfully built feedfinder2 jieba3k tinysegmenter sgmllib3k\n",
            "Installing collected packages: requests-file, tldextract, feedfinder2, jieba3k, cssselect, sgmllib3k, feedparser, tinysegmenter, newspaper3k\n",
            "Successfully installed cssselect-1.1.0 feedfinder2-0.0.4 feedparser-6.0.2 jieba3k-0.35.1 newspaper3k-0.2.8 requests-file-1.5.1 sgmllib3k-1.0.0 tinysegmenter-0.3 tldextract-3.1.0\n"
          ],
          "name": "stdout"
        }
      ]
    },
    {
      "cell_type": "markdown",
      "metadata": {
        "id": "vTU_5o64hGYa"
      },
      "source": [
        "## Get Text\n",
        "https://analyticsindiamag.com/hands-on-guide-to-extractive-text-summarization-with-bertsum/"
      ]
    },
    {
      "cell_type": "code",
      "metadata": {
        "colab": {
          "base_uri": "https://localhost:8080/"
        },
        "id": "o-UvRYDu7az_",
        "outputId": "a83f4178-d488-4579-f8eb-fa761844edd9"
      },
      "source": [
        "from newspaper import fulltext\n",
        "import requests\n",
        "article_url=\"https://www.washingtonpost.com/politics/timothy-mellon-top-donor-to-trump-super-pac-used-racial-stereotypes-to-describe-african-americans-in-his-autobiography/2020/06/18/89206c5a-a742-11ea-b619-3f9133bbb482_story.html \"\n",
        "article = fulltext(requests.get(article_url).text)\n",
        "print(article)"
      ],
      "execution_count": 15,
      "outputs": [
        {
          "output_type": "stream",
          "text": [
            "In a self-published 2015 autobiography, Mellon called social safety net programs “Slavery Redux,” adding: “For delivering their votes in the Federal Elections, they are awarded with yet more and more freebies: food stamps, cell phones, WIC payments, Obamacare, and on, and on, and on. The largess is funded by the hardworking folks, fewer and fewer in number, who are too honest or too proud to allow themselves to sink into this morass.”\n"
          ],
          "name": "stdout"
        }
      ]
    },
    {
      "cell_type": "markdown",
      "metadata": {
        "id": "Bf9ARm12hKa7"
      },
      "source": [
        "## Get Summary from Text"
      ]
    },
    {
      "cell_type": "code",
      "metadata": {
        "id": "6xesxQYG9M4N"
      },
      "source": [
        "## computed using my BERT Model Summarization\n",
        "summary = '''\n",
        "In a self-published 2015 autobiography, Mellon called social safety net programs “Slavery Redux,” adding: “For delivering their votes in the Federal Elections, they are awarded with yet more and more freebies: food stamps, cell phones, WIC payments, Obamacare, and on, and on, and on. Advertisement\n",
        "\n",
        "Story continues below advertisement\n",
        "\n",
        "Mellon declined to comment. Mellon, who is the great-grandson of Mellon family patriarch and banker Thomas Mellon, and grandson of Andrew W. Mellon, the former Treasury Department secretary, had given smaller amounts to state and federal GOP candidates for years, \n",
        "but ramped up his giving under Trump, campaign finance records show. Story continues below advertisement\n",
        "\n",
        "He now rivals other prominent donors who have increased their political giving under Trump, \n",
        "such as shipping supplies magnate Richard Uihlein and Stephen Schwarzman, the Blackstone chairman and chief executive. \n",
        "Black people, in spite of heroic efforts by the ‘Establishment’ to right the wrongs of the past, became even more belligerent and unwilling to pitch in to improve their own situations,” Mellon wrote, describing his view of America during Reagan’s 1984 reelection campaign. Advertisement\n",
        "\n",
        "Two decades later, too many Americans are still relying on the government for help, \n",
        "he wrote. In the 1980s, Mellon took over a rail company called Guilford Transportation Industries and rebranded it after purchasing Pan Am Airways from bankruptcy in the 1990s. Advertisement\n",
        "\n",
        "He gave another $10 million to the Congressional Leadership Fund in November 2019. The Congressional Leadership Fund did not respond to requests for comment.'''"
      ],
      "execution_count": 16,
      "outputs": []
    },
    {
      "cell_type": "markdown",
      "metadata": {
        "id": "coggI-nMgMla"
      },
      "source": [
        "## Create Graph"
      ]
    },
    {
      "cell_type": "code",
      "metadata": {
        "colab": {
          "base_uri": "https://localhost:8080/"
        },
        "id": "Xcjz1BO5gPXL",
        "outputId": "391cdfc3-8668-4cd6-f577-24ee73756a80"
      },
      "source": [
        "body = summary\n",
        "sentences = getSentences(body)\n",
        "nlp_model = spacy.load('en_core_web_sm')\n",
        "\n",
        "triples = []\n",
        "#print (body)\n",
        "for sentence in sentences:\n",
        "  triples.append(processSentence(sentence))"
      ],
      "execution_count": 17,
      "outputs": [
        {
          "output_type": "stream",
          "text": [
            "In -> prep\n",
            "a -> det\n",
            "self -> npadvmod\n",
            "- -> punct\n",
            "published -> amod\n",
            "2015 -> nummod\n",
            "autobiography -> pobj\n",
            ", -> punct\n",
            "Mellon -> nsubj\n",
            "called -> ROOT\n",
            "social -> amod\n",
            "safety -> nmod\n",
            "net -> amod\n",
            "programs -> dobj\n",
            "“ -> punct\n",
            "Slavery -> compound\n",
            "Redux -> appos\n",
            ", -> punct\n",
            "” -> punct\n",
            "adding -> advcl\n",
            ": -> punct\n",
            "“ -> punct\n",
            "For -> prep\n",
            "delivering -> pcomp\n",
            "their -> poss\n",
            "votes -> dobj\n",
            "in -> prep\n",
            "the -> det\n",
            "Federal -> compound\n",
            "Elections -> pobj\n",
            ", -> punct\n",
            "they -> nsubjpass\n",
            "are -> auxpass\n",
            "awarded -> ccomp\n",
            "with -> prep\n",
            "yet -> advmod\n",
            "more -> amod\n",
            "and -> cc\n",
            "more -> conj\n",
            "freebies -> pobj\n",
            ": -> punct\n",
            "food -> compound\n",
            "stamps -> appos\n",
            ", -> punct\n",
            "cell -> compound\n",
            "phones -> conj\n",
            ", -> punct\n",
            "WIC -> compound\n",
            "payments -> conj\n",
            ", -> punct\n",
            "Obamacare -> conj\n",
            ", -> punct\n",
            "and -> cc\n",
            "on -> conj\n",
            ", -> punct\n",
            "and -> cc\n",
            "on -> conj\n",
            ", -> punct\n",
            "and -> cc\n",
            "on -> conj\n",
            ". -> punct\n",
            "Mellon they , publish call social net more , autobiography programs votes Elections freebies\n",
            "Advertisement -> nmod\n",
            "\n",
            "\n",
            " -> \n",
            "Story -> nsubj\n",
            "continues -> ROOT\n",
            "below -> prep\n",
            "advertisement -> pobj\n",
            "\n",
            "\n",
            " -> \n",
            "Mellon -> nsubj\n",
            "declined -> ROOT\n",
            "to -> aux\n",
            "comment -> xcomp\n",
            ". -> punct\n",
            "Story Mellon , continue decline , advertisement\n",
            "Mellon -> nsubj\n",
            ", -> punct\n",
            "who -> nsubj\n",
            "is -> relcl\n",
            "the -> det\n",
            "great -> amod\n",
            "- -> punct\n",
            "grandson -> attr\n",
            "of -> prep\n",
            "Mellon -> compound\n",
            "family -> compound\n",
            "patriarch -> pobj\n",
            "and -> cc\n",
            "banker -> conj\n",
            "Thomas -> compound\n",
            "Mellon -> conj\n",
            ", -> punct\n",
            "and -> cc\n",
            "grandson -> conj\n",
            "of -> prep\n",
            "Andrew -> compound\n",
            "W. -> compound\n",
            "Mellon -> pobj\n",
            ", -> punct\n",
            "the -> det\n",
            "former -> amod\n",
            "Treasury -> compound\n",
            "Department -> compound\n",
            "secretary -> appos\n",
            ", -> punct\n",
            "had -> aux\n",
            "given -> ROOT\n",
            "smaller -> amod\n",
            "amounts -> dobj\n",
            "to -> prep\n",
            "state -> nmod\n",
            "and -> cc\n",
            "federal -> conj\n",
            "GOP -> compound\n",
            "candidates -> pobj\n",
            "for -> prep\n",
            "years -> pobj\n",
            ", -> punct\n",
            "\n",
            " -> \n",
            "but -> cc\n",
            "ramped -> conj\n",
            "up -> prt\n",
            "his -> poss\n",
            "giving -> dobj\n",
            "under -> prep\n",
            "Trump -> pobj\n",
            ", -> punct\n",
            "campaign -> compound\n",
            "finance -> compound\n",
            "records -> compound\n",
            "show -> appos\n",
            ". -> punct\n",
            "Mellon who , great grandson former give small , patriarch Mellon amounts candidates years giving Trump\n",
            "Story -> nsubj\n",
            "continues -> ROOT\n",
            "below -> prep\n",
            "advertisement -> pobj\n",
            "\n",
            "\n",
            " -> \n",
            "He -> nsubj\n",
            "now -> advmod\n",
            "rivals -> ROOT\n",
            "other -> amod\n",
            "prominent -> amod\n",
            "donors -> dobj\n",
            "who -> nsubj\n",
            "have -> aux\n",
            "increased -> relcl\n",
            "their -> poss\n",
            "political -> amod\n",
            "giving -> dobj\n",
            "under -> prep\n",
            "Trump -> pobj\n",
            ", -> punct\n",
            "\n",
            " -> \n",
            "such -> amod\n",
            "as -> prep\n",
            "shipping -> compound\n",
            "supplies -> compound\n",
            "magnate -> compound\n",
            "Richard -> compound\n",
            "Uihlein -> pobj\n",
            "and -> cc\n",
            "Stephen -> compound\n",
            "Schwarzman -> conj\n",
            ", -> punct\n",
            "the -> det\n",
            "Blackstone -> compound\n",
            "chairman -> appos\n",
            "and -> cc\n",
            "chief -> amod\n",
            "executive -> conj\n",
            ". -> punct\n",
            "Story He who , continue rival other prominent political such chief , advertisement donors giving Trump Uihlein\n",
            "Black -> amod\n",
            "people -> nsubj\n",
            ", -> punct\n",
            "in -> prep\n",
            "spite -> pobj\n",
            "of -> prep\n",
            "heroic -> amod\n",
            "efforts -> pobj\n",
            "by -> prep\n",
            "the -> det\n",
            "‘ -> punct\n",
            "Establishment -> pobj\n",
            "’ -> punct\n",
            "to -> aux\n",
            "right -> acl\n",
            "the -> det\n",
            "wrongs -> dobj\n",
            "of -> prep\n",
            "the -> det\n",
            "past -> pobj\n",
            ", -> punct\n",
            "became -> ccomp\n",
            "even -> advmod\n",
            "more -> amod\n",
            "belligerent -> attr\n",
            "and -> cc\n",
            "unwilling -> conj\n",
            "to -> aux\n",
            "pitch -> xcomp\n",
            "in -> prt\n",
            "to -> aux\n",
            "improve -> advcl\n",
            "their -> poss\n",
            "own -> amod\n",
            "situations -> dobj\n",
            ", -> punct\n",
            "” -> punct\n",
            "Mellon -> nsubj\n",
            "wrote -> ROOT\n",
            ", -> punct\n",
            "describing -> advcl\n",
            "his -> poss\n",
            "view -> dobj\n",
            "of -> prep\n",
            "America -> pobj\n",
            "during -> prep\n",
            "Reagan -> nmod\n",
            "’s -> punct\n",
            "1984 -> nummod\n",
            "reelection -> compound\n",
            "campaign -> pobj\n",
            ". -> punct\n",
            "people Mellon , black heroic more belligerent own write , spite efforts Establishment wrongs past situations view America campaign\n",
            "Advertisement -> ROOT\n",
            "\n",
            "\n",
            " -> \n",
            "Two -> nummod\n",
            "decades -> npadvmod\n",
            "later -> advmod\n",
            ", -> punct\n",
            "too -> advmod\n",
            "many -> amod\n",
            "Americans -> nsubj\n",
            "are -> aux\n",
            "still -> advmod\n",
            "relying -> ccomp\n",
            "on -> prep\n",
            "the -> det\n",
            "government -> pobj\n",
            "for -> prep\n",
            "help -> pobj\n",
            ", -> punct\n",
            "\n",
            " -> \n",
            "he -> nsubj\n",
            "wrote -> ROOT\n",
            ". -> punct\n",
            "Americans he , advertisement many write , government help\n",
            "In -> prep\n",
            "the -> det\n",
            "1980s -> pobj\n",
            ", -> punct\n",
            "Mellon -> nsubj\n",
            "took -> ROOT\n",
            "over -> prt\n",
            "a -> det\n",
            "rail -> compound\n",
            "company -> dobj\n",
            "called -> acl\n",
            "Guilford -> compound\n",
            "Transportation -> compound\n",
            "Industries -> oprd\n",
            "and -> cc\n",
            "rebranded -> conj\n",
            "it -> dobj\n",
            "after -> prep\n",
            "purchasing -> pcomp\n",
            "Pan -> compound\n",
            "Am -> compound\n",
            "Airways -> dobj\n",
            "from -> prep\n",
            "bankruptcy -> pobj\n",
            "in -> prep\n",
            "the -> det\n",
            "1990s -> pobj\n",
            ". -> punct\n",
            "Mellon , take , 1980s company it Airways bankruptcy 1990s\n",
            "Advertisement -> ROOT\n",
            "\n",
            "\n",
            " -> \n",
            "He -> nsubj\n",
            "gave -> ROOT\n",
            "another -> det\n",
            "$ -> quantmod\n",
            "10 -> compound\n",
            "million -> dobj\n",
            "to -> prep\n",
            "the -> det\n",
            "Congressional -> compound\n",
            "Leadership -> compound\n",
            "Fund -> pobj\n",
            "in -> prep\n",
            "November -> pobj\n",
            "2019 -> nummod\n",
            ". -> punct\n",
            "He , advertisement give , million Fund November\n",
            "The -> det\n",
            "Congressional -> compound\n",
            "Leadership -> compound\n",
            "Fund -> nsubj\n",
            "did -> aux\n",
            "not -> neg\n",
            "respond -> ROOT\n",
            "to -> prep\n",
            "requests -> pobj\n",
            "for -> prep\n",
            "comment -> pobj\n",
            ". -> punct\n",
            "Fund , respond , requests comment\n"
          ],
          "name": "stdout"
        }
      ]
    },
    {
      "cell_type": "code",
      "metadata": {
        "colab": {
          "base_uri": "https://localhost:8080/"
        },
        "id": "jpPnJ2oDSC3M",
        "outputId": "dd69adef-5f72-4508-efa8-0c5568cac41c"
      },
      "source": [
        "triples"
      ],
      "execution_count": 18,
      "outputs": [
        {
          "output_type": "execute_result",
          "data": {
            "text/plain": [
              "[('Mellon they',\n",
              "  'publish call social net more',\n",
              "  'autobiography programs votes Elections freebies'),\n",
              " ('Story Mellon', 'continue decline', 'advertisement'),\n",
              " ('Mellon who',\n",
              "  'great grandson former give small',\n",
              "  'patriarch Mellon amounts candidates years giving Trump'),\n",
              " ('Story He who',\n",
              "  'continue rival other prominent political such chief',\n",
              "  'advertisement donors giving Trump Uihlein'),\n",
              " ('people Mellon',\n",
              "  'black heroic more belligerent own write',\n",
              "  'spite efforts Establishment wrongs past situations view America campaign'),\n",
              " ('Americans he', 'advertisement many write', 'government help'),\n",
              " ('Mellon', 'take', '1980s company it Airways bankruptcy 1990s'),\n",
              " ('He', 'advertisement give', 'million Fund November'),\n",
              " ('Fund', 'respond', 'requests comment')]"
            ]
          },
          "metadata": {
            "tags": []
          },
          "execution_count": 18
        }
      ]
    },
    {
      "cell_type": "code",
      "metadata": {
        "colab": {
          "base_uri": "https://localhost:8080/",
          "height": 512
        },
        "id": "MuC9RLJAhBBG",
        "outputId": "09ab6ea2-3f01-49fb-9567-53799f867fef"
      },
      "source": [
        "printGraph(triples)  "
      ],
      "execution_count": 19,
      "outputs": [
        {
          "output_type": "display_data",
          "data": {
            "image/png": "[encoded data removed]",
            "text/plain": [
              "<Figure size 640x480 with 1 Axes>"
            ]
          },
          "metadata": {
            "tags": []
          }
        }
      ]
    },
    {
      "cell_type": "markdown",
      "metadata": {
        "id": "BXLOzV5tTJIK"
      },
      "source": [
        "# Semantic Relationships - Not working\n",
        "\n",
        "https://programmerbackpack.com/python-knowledge-graph-understanding-semantic-relationships/"
      ]
    },
    {
      "cell_type": "code",
      "metadata": {
        "id": "RtNFlac4UAxK"
      },
      "source": [
        "from nltk import Tree\n",
        "\n",
        "def buildTree(token):\n",
        "    if token.n_lefts + token.n_rights > 0:\n",
        "        return Tree(token, [buildTree(child) for child in token.children])\n",
        "    else:\n",
        "        return buildTree(token)"
      ],
      "execution_count": 17,
      "outputs": []
    },
    {
      "cell_type": "code",
      "metadata": {
        "id": "3MLtDVTSUIye"
      },
      "source": [
        "class Relation:\n",
        "\n",
        "    __hypernym: str\n",
        "    __hyponym: str\n",
        "\n",
        "    def __init__(self, hypernym, hyponym):\n",
        "        self.__hypernym = hypernym\n",
        "        self.__hyponym = hyponym\n",
        "\n",
        "    def getHypernym(self):\n",
        "        return self.__hypernym\n",
        "\n",
        "    def getHyponym(self):\n",
        "        return self.__hyponym"
      ],
      "execution_count": 18,
      "outputs": []
    },
    {
      "cell_type": "code",
      "metadata": {
        "colab": {
          "base_uri": "https://localhost:8080/"
        },
        "id": "xQKsdjkXUTnm",
        "outputId": "9adfff38-7cdb-491d-c76c-ada2503c311a"
      },
      "source": [
        "!pip install relation"
      ],
      "execution_count": 20,
      "outputs": [
        {
          "output_type": "stream",
          "text": [
            "\u001b[31mERROR: Could not find a version that satisfies the requirement relation (from versions: none)\u001b[0m\n",
            "\u001b[31mERROR: No matching distribution found for relation\u001b[0m\n"
          ],
          "name": "stdout"
        }
      ]
    },
    {
      "cell_type": "code",
      "metadata": {
        "id": "a7Rq_7fSUQez"
      },
      "source": [
        "#from relation import Relation\n",
        "\n",
        "class RelationProvider:\n",
        "\n",
        "    __relations: [Relation]\n",
        "\n",
        "    def __init__(self, relations=[Relation]):\n",
        "        self.__relations = relations\n",
        "\n",
        "    def getRelations(self):\n",
        "        return self.__relations"
      ],
      "execution_count": 21,
      "outputs": []
    },
    {
      "cell_type": "code",
      "metadata": {
        "id": "ajT_XeVpU7Uk"
      },
      "source": [
        "#import wikipedia\n",
        "\n",
        "\n",
        "class TextExtractor:\n",
        "\n",
        "    __pageTitle: str\n",
        "    __pageId: str\n",
        "\n",
        "    def __init__(self, pageTitle, pageId):\n",
        "        self.__pageTitle = pageTitle\n",
        "        self.__pageId = pageId\n",
        "\n",
        "    def extract(self):\n",
        "        page = wikipedia.page(title=self.__pageTitle, pageid=self.__pageId)\n",
        "        f = open(\"./text/\" + self.__pageTitle + \".txt\", \"w\")\n",
        "        f.write(page.content)\n",
        "        f.close()\n",
        "\n",
        "    def getText(self):\n",
        "        f = open(\"./text/\" + self.__pageTitle + \".txt\", \"r\")\n",
        "        return f.read()"
      ],
      "execution_count": 22,
      "outputs": []
    },
    {
      "cell_type": "code",
      "metadata": {
        "id": "3eUCBvqJVCZz"
      },
      "source": [
        "#from text_extractor import TextExtractor\n",
        "\n",
        "\n",
        "class TextExtractorPipe:\n",
        "\n",
        "    __textExtractors: [TextExtractor]\n",
        "\n",
        "    def __init__(self):\n",
        "        self.__textExtractors = []\n",
        "\n",
        "    def addTextExtractor(self, textExtractor: TextExtractor):\n",
        "        self.__textExtractors.append(textExtractor)\n",
        "\n",
        "    def extract(self) -> str:\n",
        "        result = ''\n",
        "        for textExtractor in self.__textExtractors:\n",
        "            result = result + textExtractor.getText()\n",
        "        return result"
      ],
      "execution_count": 23,
      "outputs": []
    },
    {
      "cell_type": "code",
      "metadata": {
        "id": "gMqMCj38Vb2q"
      },
      "source": [
        "from spacy.matcher import Matcher\n",
        "from abc import abstractmethod\n",
        "from spacy.tokens import Doc\n",
        "# from relation import Relation\n",
        "\n",
        "\n",
        "class PatternMatcher:\n",
        "\n",
        "\n",
        "    def __init__(self, pattern, nlp, matcherId):\n",
        "        self._nlp = nlp\n",
        "        self._matcher = Matcher(nlp.vocab)\n",
        "        self._matcher.add(matcherId, None, pattern)\n",
        "\n",
        "    @abstractmethod\n",
        "    def getRelations(self, doc: Doc) -> [Relation]:\n",
        "        ..."
      ],
      "execution_count": 24,
      "outputs": []
    },
    {
      "cell_type": "code",
      "metadata": {
        "id": "wNCs-sAMWxkw"
      },
      "source": [
        "# from pattern_matcher import PatternMatcher\n",
        "from spacy.tokens import Doc\n",
        "# from relation import Relation\n",
        "\n",
        "\n",
        "class AndOtherPatternMatcher(PatternMatcher):\n",
        "\n",
        "\n",
        "    def __init__(self, nlp):\n",
        "        pattern = [{'POS': 'NOUN'},\n",
        "                   {'LOWER': 'and'},\n",
        "                   {'LOWER': 'other'},\n",
        "                   {'POS': 'NOUN'}]\n",
        "        PatternMatcher.__init__(self, pattern, nlp, \"andOther\")\n",
        "\n",
        "    def getRelations(self, doc: Doc) -> [Relation]:\n",
        "        relations = []\n",
        "        matches = self._matcher(doc)\n",
        "        for match_id, start, end in matches:\n",
        "            span = doc[start:end]\n",
        "            firstToken = span.root.head\n",
        "            results = [firstToken]\n",
        "            while firstToken and firstToken.head.pos_ == \"NOUN\":\n",
        "                results.append(firstToken.head)\n",
        "                firstToken = firstToken.head\n",
        "            hypernym = span.text.split()[-1]\n",
        "            relations.append(Relation(hypernym, span.text.split()[0]))\n",
        "            if len(results) > 0:\n",
        "                for result in results:\n",
        "                    relations.append(Relation(hypernym, result.text))\n",
        "        return relations"
      ],
      "execution_count": 25,
      "outputs": []
    },
    {
      "cell_type": "markdown",
      "metadata": {
        "id": "ccaUlqZEXE_t"
      },
      "source": [
        "## Implementation"
      ]
    },
    {
      "cell_type": "code",
      "metadata": {
        "colab": {
          "base_uri": "https://localhost:8080/",
          "height": 161
        },
        "id": "gdsrpF89XG06",
        "outputId": "1ea4f46c-3f1a-4313-ae17-c4d31ea33eea"
      },
      "source": [
        "hypernym = span.text.split()[-1]"
      ],
      "execution_count": 26,
      "outputs": [
        {
          "output_type": "error",
          "ename": "NameError",
          "evalue": "ignored",
          "traceback": [
            "\u001b[0;31m---------------------------------------------------------------------------\u001b[0m",
            "\u001b[0;31mNameError\u001b[0m                                 Traceback (most recent call last)",
            "\u001b[0;32m<ipython-input-26-bf7b7a5a4649>\u001b[0m in \u001b[0;36m<module>\u001b[0;34m()\u001b[0m\n\u001b[0;32m----> 1\u001b[0;31m \u001b[0mhypernym\u001b[0m \u001b[0;34m=\u001b[0m \u001b[0mspan\u001b[0m\u001b[0;34m.\u001b[0m\u001b[0mtext\u001b[0m\u001b[0;34m.\u001b[0m\u001b[0msplit\u001b[0m\u001b[0;34m(\u001b[0m\u001b[0;34m)\u001b[0m\u001b[0;34m[\u001b[0m\u001b[0;34m-\u001b[0m\u001b[0;36m1\u001b[0m\u001b[0;34m]\u001b[0m\u001b[0;34m\u001b[0m\u001b[0;34m\u001b[0m\u001b[0m\n\u001b[0m",
            "\u001b[0;31mNameError\u001b[0m: name 'span' is not defined"
          ]
        }
      ]
    },
    {
      "cell_type": "code",
      "metadata": {
        "colab": {
          "base_uri": "https://localhost:8080/",
          "height": 161
        },
        "id": "tMsbmF5lZbk7",
        "outputId": "4dc22011-18e6-4f9b-f14c-fd13b03d1138"
      },
      "source": [
        "relations.append(Relation(hypernym, span.text.split()[0]))"
      ],
      "execution_count": 27,
      "outputs": [
        {
          "output_type": "error",
          "ename": "NameError",
          "evalue": "ignored",
          "traceback": [
            "\u001b[0;31m---------------------------------------------------------------------------\u001b[0m",
            "\u001b[0;31mNameError\u001b[0m                                 Traceback (most recent call last)",
            "\u001b[0;32m<ipython-input-27-a35e971376ac>\u001b[0m in \u001b[0;36m<module>\u001b[0;34m()\u001b[0m\n\u001b[0;32m----> 1\u001b[0;31m \u001b[0mrelations\u001b[0m\u001b[0;34m.\u001b[0m\u001b[0mappend\u001b[0m\u001b[0;34m(\u001b[0m\u001b[0mRelation\u001b[0m\u001b[0;34m(\u001b[0m\u001b[0mhypernym\u001b[0m\u001b[0;34m,\u001b[0m \u001b[0mspan\u001b[0m\u001b[0;34m.\u001b[0m\u001b[0mtext\u001b[0m\u001b[0;34m.\u001b[0m\u001b[0msplit\u001b[0m\u001b[0;34m(\u001b[0m\u001b[0;34m)\u001b[0m\u001b[0;34m[\u001b[0m\u001b[0;36m0\u001b[0m\u001b[0;34m]\u001b[0m\u001b[0;34m)\u001b[0m\u001b[0;34m)\u001b[0m\u001b[0;34m\u001b[0m\u001b[0;34m\u001b[0m\u001b[0m\n\u001b[0m",
            "\u001b[0;31mNameError\u001b[0m: name 'relations' is not defined"
          ]
        }
      ]
    },
    {
      "cell_type": "code",
      "metadata": {
        "id": "5crsMzswah_c"
      },
      "source": [
        "# from pattern_matcher import PatternMatcher\n",
        "from spacy.tokens import Doc\n",
        "# from relation import Relation\n",
        "\n",
        "\n",
        "class OrOtherPatternMatcher(PatternMatcher):\n",
        "\n",
        "    def __init__(self, nlp):\n",
        "        pattern = [{'POS': 'NOUN'},\n",
        "                   {'LOWER': 'or'},\n",
        "                   {'LOWER': 'other'},\n",
        "                   {'POS': 'NOUN'}]\n",
        "        PatternMatcher.__init__(self, pattern, nlp, \"orOther\")\n",
        "\n",
        "    def getRelations(self, doc: Doc) -> [Relation]:\n",
        "        relations = []\n",
        "        matches = self._matcher(doc)\n",
        "        for match_id, start, end in matches:\n",
        "            span = doc[start:end]\n",
        "            firstToken = span.root.head\n",
        "            results = [firstToken]\n",
        "            while firstToken and firstToken.head.pos_ == \"NOUN\":\n",
        "                results.append(firstToken.head)\n",
        "                firstToken = firstToken.head\n",
        "            hypernym = span.text.split()[-1]\n",
        "            relations.append(Relation(hypernym, span.text.split()[0]))\n",
        "            if len(results) > 0:\n",
        "                for result in results:\n",
        "                    relations.append(Relation(hypernym, result.text))\n",
        "        return relations"
      ],
      "execution_count": 28,
      "outputs": []
    },
    {
      "cell_type": "code",
      "metadata": {
        "id": "ijhcA9qbasIS"
      },
      "source": [
        "# from pattern_matcher import PatternMatcher\n",
        "from spacy.tokens import Doc\n",
        "# from relation import Relation\n",
        "\n",
        "\n",
        "class EspeciallyPatternMatcher(PatternMatcher):\n",
        "\n",
        "    def __init__(self, nlp):\n",
        "        pattern = [{'POS': 'NOUN'},\n",
        "                   {'IS_PUNCT': True, 'OP': '?'},\n",
        "                   {'LOWER': 'especially'},\n",
        "                   {'POS': 'NOUN'}]\n",
        "        PatternMatcher.__init__(self, pattern, nlp, \"especially\")\n",
        "\n",
        "    def getRelations(self, doc: Doc) -> [Relation]:\n",
        "        relations = []\n",
        "        matches = self._matcher(doc)\n",
        "        for match_id, start, end in matches:\n",
        "            span = doc[start:end]\n",
        "            candidates = set()\n",
        "            for sent in doc.sents:\n",
        "                for token in sent:\n",
        "                    # Find relation\n",
        "                    if token.i == span.root.i:\n",
        "                        for token2 in sent:\n",
        "                            # First hyponym\n",
        "                            if token2.head.i == token.i:\n",
        "                                for token3 in sent:\n",
        "                                    startToken = token3\n",
        "                                    while startToken and startToken.head.i != sent.root.i and startToken.i != token2.i:\n",
        "                                        if startToken.pos_ == \"NOUN\":\n",
        "                                            candidates.add(startToken)\n",
        "                                        startToken = startToken.head\n",
        "            if len(candidates) > 0:\n",
        "                hypernym = span.text.split()[0].replace(',', '')\n",
        "                for candidate in candidates:\n",
        "                    relations.append(Relation(hypernym, candidate.text))\n",
        "\n",
        "        return relations"
      ],
      "execution_count": 29,
      "outputs": []
    },
    {
      "cell_type": "code",
      "metadata": {
        "id": "wGOhrSNGbIsa"
      },
      "source": [
        "# from pattern_matcher import PatternMatcher\n",
        "from spacy.tokens import Doc\n",
        "# from relation import Relation\n",
        "\n",
        "\n",
        "class IncludingPatternMatcher(PatternMatcher):\n",
        "\n",
        "    def __init__(self, nlp):\n",
        "        pattern = [{'POS': 'NOUN'},\n",
        "                   {'IS_PUNCT': True, 'OP': '?'},\n",
        "                   {'LOWER': 'including'},\n",
        "                   {'POS': 'NOUN'}]\n",
        "        PatternMatcher.__init__(self, pattern, nlp, \"including\")\n",
        "\n",
        "    def getRelations(self, doc: Doc) -> [Relation]:\n",
        "        relations = []\n",
        "        matches = self._matcher(doc)\n",
        "        for match_id, start, end in matches:\n",
        "            span = doc[start:end]\n",
        "            for sent in doc.sents:\n",
        "                for token in sent:\n",
        "                    # Find the relation\n",
        "                    if token.text == \"including\" and token.head.i == span.root.i:\n",
        "                        for token2 in sent:\n",
        "                            # First hyponym\n",
        "                            if token2.head.i == token.i:\n",
        "                                results = set()\n",
        "                                results.add(span.text.split()[-1])\n",
        "                                # Other hyponyms\n",
        "                                for token3 in sent:\n",
        "                                    startToken = token3\n",
        "                                    while startToken and startToken.head.i != sent.root.i and startToken.i != token2.i:\n",
        "                                        if startToken.pos_ == \"NOUN\":\n",
        "                                            results.add(startToken.text)\n",
        "                                        startToken = startToken.head\n",
        "                                if len(results) > 0:\n",
        "                                    hypernym = span.text.split()[0].replace(',', '')\n",
        "                                    for result in results:\n",
        "                                        relations.append(Relation(hypernym, result))\n",
        "        return relations"
      ],
      "execution_count": 30,
      "outputs": []
    },
    {
      "cell_type": "code",
      "metadata": {
        "id": "ozddjOdLbUD8"
      },
      "source": [
        "# from pattern_matcher import PatternMatcher\n",
        "from spacy.tokens import Doc\n",
        "# from relation import Relation\n",
        "\n",
        "\n",
        "class SuchAsPatternMatcher(PatternMatcher):\n",
        "\n",
        "\n",
        "    def __init__(self, nlp):\n",
        "        pattern = [{'POS': 'NOUN'},\n",
        "                   {'IS_PUNCT': True, 'OP': '?'},\n",
        "                   {'LOWER': 'such'},\n",
        "                   {'LOWER': 'as'},\n",
        "                   {'POS': 'NOUN'}]\n",
        "        PatternMatcher.__init__(self, pattern, nlp, \"suchAs\")\n",
        "\n",
        "    def getRelations(self, doc: Doc) -> [Relation]:\n",
        "        relations = []\n",
        "        matches = self._matcher(doc)\n",
        "        for match_id, start, end in matches:\n",
        "            span = doc[start:end]\n",
        "            hypernym = span.root.text\n",
        "            hyponym = span.text.split()[-1]\n",
        "            relations.append(Relation(hypernym, hyponym))\n",
        "            for right in span.rights:\n",
        "                if right.pos_ == \"NOUN\":\n",
        "                    relations.append(Relation(hypernym, right.text))\n",
        "        return relations"
      ],
      "execution_count": 31,
      "outputs": []
    },
    {
      "cell_type": "code",
      "metadata": {
        "id": "_pmWllL0bpYe"
      },
      "source": [
        "# from pattern_matcher import PatternMatcher\n",
        "# from relation import Relation\n",
        "from spacy.tokens import Doc\n",
        "\n",
        "\n",
        "class MatcherPipe:\n",
        "\n",
        "    __matchers: [PatternMatcher]\n",
        "\n",
        "    def __init__(self):\n",
        "        self.__matchers = []\n",
        "\n",
        "    def addMatcher(self, matcher: PatternMatcher):\n",
        "        self.__matchers.append(matcher)\n",
        "\n",
        "    def extract(self, doc: Doc) -> [Relation]:\n",
        "        results = []\n",
        "        for matcher in self.__matchers:\n",
        "            results.extend(matcher.getRelations(doc))\n",
        "        return results"
      ],
      "execution_count": 33,
      "outputs": []
    },
    {
      "cell_type": "markdown",
      "metadata": {
        "id": "yr0Kkk12cBML"
      },
      "source": [
        "## knowledge_graph.py"
      ]
    },
    {
      "cell_type": "code",
      "metadata": {
        "id": "EiiNuAWVb5BT"
      },
      "source": [
        "# from relation import Relation\n",
        "import networkx as nx\n",
        "import matplotlib.pyplot as plt\n",
        "\n",
        "class KnowledgeGraph:\n",
        "\n",
        "    __relations: [Relation]\n",
        "    __graph: nx.Graph\n",
        "    __colors: {}\n",
        "\n",
        "    def __init__(self, relations):\n",
        "        self.__relations = relations\n",
        "        self.__graph = nx.Graph()\n",
        "        self.__colors = {}\n",
        "\n",
        "    def build(self):\n",
        "        for relation in self.__relations:\n",
        "            self.__graph.add_node(relation.getHypernym())\n",
        "            self.__colors[relation.getHypernym()] = '#e34234'\n",
        "            self.__graph.add_node(relation.getHyponym())\n",
        "            self.__colors[relation.getHyponym()] = '#009966'\n",
        "            self.__graph.add_edge(relation.getHypernym(), relation.getHyponym())\n",
        "\n",
        "    def show(self):\n",
        "        pos = nx.spring_layout(self.__graph)\n",
        "        plt.figure()\n",
        "        colorMap = []\n",
        "        for node in self.__graph.nodes:\n",
        "            colorMap.append(self.__colors[node])\n",
        "        nx.draw(self.__graph, pos, edge_color='black', width=1, linewidths=1,\n",
        "                node_size=500, node_color=colorMap, alpha=0.9,\n",
        "                labels={node: node for node in self.__graph.nodes()})\n",
        "        plt.axis('off')\n",
        "        plt.show()"
      ],
      "execution_count": 34,
      "outputs": []
    },
    {
      "cell_type": "markdown",
      "metadata": {
        "id": "Ahu1FkAMd6zs"
      },
      "source": [
        "## build_knowledge_graph.py"
      ]
    },
    {
      "cell_type": "code",
      "metadata": {
        "id": "XuXef_tyd0F9"
      },
      "source": [
        "from text_extractor import TextExtractor\n",
        "from and_other_pattern_matcher import AndOtherPatternMatcher\n",
        "from such_as_pattern_matcher import SuchAsPatternMatcher\n",
        "from or_other_pattern_matcher import OrOtherPatternMatcher\n",
        "from including_pattern_matcher import IncludingPatternMatcher\n",
        "from especially_pattern_matcher import EspeciallyPatternMatcher\n",
        "from text_extractor_pipe import TextExtractorPipe\n",
        "from knowledge_graph import KnowledgeGraph\n",
        "from matcher_pipe import MatcherPipe\n",
        "import spacy\n",
        "\n",
        "textExtractor1 = TextExtractor(\"WWII\", \"Q362\")\n",
        "textExtractor1.extract()\n",
        "textExtractor2 = TextExtractor(\"London\", \"Q84\")\n",
        "textExtractor2.extract()\n",
        "textExtractor3 = TextExtractor(\"Paris\", \"Q90\")\n",
        "textExtractor3.extract()\n",
        "textExtractor4 = TextExtractor(\"World War I\", \"Q361\")\n",
        "textExtractor4.extract()\n",
        "textExtractorPipe = TextExtractorPipe()\n",
        "textExtractorPipe.addTextExtractor(textExtractor1)\n",
        "textExtractorPipe.addTextExtractor(textExtractor2)\n",
        "textExtractorPipe.addTextExtractor(textExtractor3)\n",
        "textExtractorPipe.addTextExtractor(textExtractor4)\n",
        "\n",
        "\n",
        "nlp = spacy.load('en_core_web_sm')\n",
        "nlp.add_pipe(nlp.create_pipe('sentencizer')) # updated\n",
        "doc = nlp(textExtractorPipe.extract())\n",
        "\n",
        "andOtherPatternMatcher = AndOtherPatternMatcher(nlp)\n",
        "suchAsMatcher = SuchAsPatternMatcher(nlp)\n",
        "orOtherMatcher = OrOtherPatternMatcher(nlp)\n",
        "includingPatternMatcher = IncludingPatternMatcher(nlp)\n",
        "especiallyPatternMatcher = EspeciallyPatternMatcher(nlp)\n",
        "matcherPipe = MatcherPipe()\n",
        "matcherPipe.addMatcher(andOtherPatternMatcher)\n",
        "matcherPipe.addMatcher(suchAsMatcher)\n",
        "matcherPipe.addMatcher(orOtherMatcher)\n",
        "matcherPipe.addMatcher(includingPatternMatcher)\n",
        "matcherPipe.addMatcher(especiallyPatternMatcher)\n",
        "relations = matcherPipe.extract(doc)\n",
        "\n",
        "for relation in relations:\n",
        "    print (relation.getHypernym(), relation.getHyponym())\n",
        "\n",
        "knowledgeGraph = KnowledgeGraph(relations)\n",
        "knowledgeGraph.build()\n",
        "knowledgeGraph.show()"
      ],
      "execution_count": null,
      "outputs": []
    },
    {
      "cell_type": "markdown",
      "metadata": {
        "id": "IG1V3mmqkIwM"
      },
      "source": [
        "# Question Answering with Pretrained Transformers Using PyTorch\n",
        "\n",
        "https://towardsdatascience.com/question-answering-with-pretrained-transformers-using-pytorch-c3e7a44b4012"
      ]
    },
    {
      "cell_type": "markdown",
      "metadata": {
        "id": "O5BzxoVHlfpO"
      },
      "source": [
        "## Library Setup"
      ]
    },
    {
      "cell_type": "code",
      "metadata": {
        "colab": {
          "base_uri": "https://localhost:8080/"
        },
        "id": "0V6oQEu9lbIG",
        "outputId": "b3bf2431-823b-497c-bf99-6f3082c1e8cf"
      },
      "source": [
        "!pip install transformers"
      ],
      "execution_count": 95,
      "outputs": [
        {
          "output_type": "stream",
          "text": [
            "Requirement already satisfied: transformers in /usr/local/lib/python3.7/dist-packages (4.5.1)\n",
            "Requirement already satisfied: regex!=2019.12.17 in /usr/local/lib/python3.7/dist-packages (from transformers) (2019.12.20)\n",
            "Requirement already satisfied: tokenizers<0.11,>=0.10.1 in /usr/local/lib/python3.7/dist-packages (from transformers) (0.10.2)\n",
            "Requirement already satisfied: requests in /usr/local/lib/python3.7/dist-packages (from transformers) (2.23.0)\n",
            "Requirement already satisfied: importlib-metadata; python_version < \"3.8\" in /usr/local/lib/python3.7/dist-packages (from transformers) (3.10.1)\n",
            "Requirement already satisfied: sacremoses in /usr/local/lib/python3.7/dist-packages (from transformers) (0.0.45)\n",
            "Requirement already satisfied: numpy>=1.17 in /usr/local/lib/python3.7/dist-packages (from transformers) (1.19.5)\n",
            "Requirement already satisfied: filelock in /usr/local/lib/python3.7/dist-packages (from transformers) (3.0.12)\n",
            "Requirement already satisfied: tqdm>=4.27 in /usr/local/lib/python3.7/dist-packages (from transformers) (4.41.1)\n",
            "Requirement already satisfied: packaging in /usr/local/lib/python3.7/dist-packages (from transformers) (20.9)\n",
            "Requirement already satisfied: chardet<4,>=3.0.2 in /usr/local/lib/python3.7/dist-packages (from requests->transformers) (3.0.4)\n",
            "Requirement already satisfied: urllib3!=1.25.0,!=1.25.1,<1.26,>=1.21.1 in /usr/local/lib/python3.7/dist-packages (from requests->transformers) (1.24.3)\n",
            "Requirement already satisfied: idna<3,>=2.5 in /usr/local/lib/python3.7/dist-packages (from requests->transformers) (2.10)\n",
            "Requirement already satisfied: certifi>=2017.4.17 in /usr/local/lib/python3.7/dist-packages (from requests->transformers) (2020.12.5)\n",
            "Requirement already satisfied: zipp>=0.5 in /usr/local/lib/python3.7/dist-packages (from importlib-metadata; python_version < \"3.8\"->transformers) (3.4.1)\n",
            "Requirement already satisfied: typing-extensions>=3.6.4; python_version < \"3.8\" in /usr/local/lib/python3.7/dist-packages (from importlib-metadata; python_version < \"3.8\"->transformers) (3.7.4.3)\n",
            "Requirement already satisfied: joblib in /usr/local/lib/python3.7/dist-packages (from sacremoses->transformers) (1.0.1)\n",
            "Requirement already satisfied: six in /usr/local/lib/python3.7/dist-packages (from sacremoses->transformers) (1.15.0)\n",
            "Requirement already satisfied: click in /usr/local/lib/python3.7/dist-packages (from sacremoses->transformers) (7.1.2)\n",
            "Requirement already satisfied: pyparsing>=2.0.2 in /usr/local/lib/python3.7/dist-packages (from packaging->transformers) (2.4.7)\n"
          ],
          "name": "stdout"
        }
      ]
    },
    {
      "cell_type": "code",
      "metadata": {
        "id": "flitDhOclivk"
      },
      "source": [
        "from transformers import pipeline"
      ],
      "execution_count": 96,
      "outputs": []
    },
    {
      "cell_type": "markdown",
      "metadata": {
        "id": "YGJO9my7lnbH"
      },
      "source": [
        "## Build the QA Pipeline"
      ]
    },
    {
      "cell_type": "code",
      "metadata": {
        "colab": {
          "base_uri": "https://localhost:8080/",
          "height": 260,
          "referenced_widgets": [
            "6ee41d9d3b114aa5b8662373464856c1",
            "d50555ddb4174ad090a5e76226c1c48d",
            "bf3f2241b44d4576bc3e56a4d3faa794",
            "9e970f563bdc41e29be4a09c4ede352f",
            "21026d3ddbfb45e2a8382dd6dcb78385",
            "27029a6a200f4544b5d0f35aea55a353",
            "393d8d3679914035b8d7e885fff5c052",
            "371b58a10fb94743aea399c4edddbcdc",
            "83aee60a1e8c4e39b4df5eabacddce2c",
            "9afaa49e6fbc40199d03aba7f2ddc17e",
            "74687c1b842d48b0a2557f2778a336e3",
            "c60ea9cf65f941c59b8d048b0a8ca99d",
            "87ef04ad19784b85ada7d98bf7581ac9",
            "2fef3520ae8e40508c20ba8b2ecc7b5b",
            "2fbb7b31fe7d41f09b2ddbadb6bbd9de",
            "5bfaff0b9f6541a5864ae9fa3a229993",
            "3d500d4c77544a548f92ad6e66e2137d",
            "9030cb590c684e0a84b1220b5d8d338f",
            "6bbbcbd4788b44ba93de1b52a0d99a3d",
            "1b0d8818c75142c3a34b10dd7ce6c5b9",
            "6fe65fc6682c42daacb64721df493b86",
            "4418cb78f41a4c289598006022b9427d",
            "e0a5fef0dfc54ecbb4f73fcd41b2401d",
            "1334fa1a048c44f89c3a2fc4d61be58c",
            "045fef8ad8c14cabbf6e116d6f18d7ee",
            "48ccf2f32d444b1aa56a496d344520e2",
            "973e0fdc24f04e21980c80ea5bba50dc",
            "ca623568f9e74bbda90dd08b04648ba7",
            "e4ca4704a118422d9b764174c698ebbe",
            "21fd3e96ba684f2faece32afc05e7645",
            "2cc4e804d7f64915bdf56179900f43f2",
            "686d869a63a4476e85cad55dfb0d00cd",
            "f53558b1782449d3bc139570528e05a3",
            "9008ef184faf4ebc8e10cea942d1200d",
            "d6f09a61e65c46989b04e6d2b9425347",
            "91f265ff05354bffbe52236b9c0c871d",
            "1a966357bfc1410f88012d15d3d8b5eb",
            "07c899828be54a5890205cd1a3a29114",
            "c533ebdcf2fb47da8d4e0bf5f217ba1a",
            "6dcc0f30b59b43e9acf07bb7ca78b59f"
          ]
        },
        "id": "wciAogOAlrim",
        "outputId": "e6e28b8d-2b0b-46a6-fa25-e879c454c2bd"
      },
      "source": [
        "question_answering = pipeline(\"question-answering\")"
      ],
      "execution_count": 98,
      "outputs": [
        {
          "output_type": "display_data",
          "data": {
            "application/vnd.jupyter.widget-view+json": {
              "model_id": "6ee41d9d3b114aa5b8662373464856c1",
              "version_minor": 0,
              "version_major": 2
            },
            "text/plain": [
              "HBox(children=(FloatProgress(value=0.0, description='Downloading', max=473.0, style=ProgressStyle(description_…"
            ]
          },
          "metadata": {
            "tags": []
          }
        },
        {
          "output_type": "stream",
          "text": [
            "\n"
          ],
          "name": "stdout"
        },
        {
          "output_type": "display_data",
          "data": {
            "application/vnd.jupyter.widget-view+json": {
              "model_id": "83aee60a1e8c4e39b4df5eabacddce2c",
              "version_minor": 0,
              "version_major": 2
            },
            "text/plain": [
              "HBox(children=(FloatProgress(value=0.0, description='Downloading', max=260793700.0, style=ProgressStyle(descri…"
            ]
          },
          "metadata": {
            "tags": []
          }
        },
        {
          "output_type": "stream",
          "text": [
            "\n"
          ],
          "name": "stdout"
        },
        {
          "output_type": "display_data",
          "data": {
            "application/vnd.jupyter.widget-view+json": {
              "model_id": "3d500d4c77544a548f92ad6e66e2137d",
              "version_minor": 0,
              "version_major": 2
            },
            "text/plain": [
              "HBox(children=(FloatProgress(value=0.0, description='Downloading', max=213450.0, style=ProgressStyle(descripti…"
            ]
          },
          "metadata": {
            "tags": []
          }
        },
        {
          "output_type": "stream",
          "text": [
            "\n"
          ],
          "name": "stdout"
        },
        {
          "output_type": "display_data",
          "data": {
            "application/vnd.jupyter.widget-view+json": {
              "model_id": "045fef8ad8c14cabbf6e116d6f18d7ee",
              "version_minor": 0,
              "version_major": 2
            },
            "text/plain": [
              "HBox(children=(FloatProgress(value=0.0, description='Downloading', max=435797.0, style=ProgressStyle(descripti…"
            ]
          },
          "metadata": {
            "tags": []
          }
        },
        {
          "output_type": "stream",
          "text": [
            "\n"
          ],
          "name": "stdout"
        },
        {
          "output_type": "display_data",
          "data": {
            "application/vnd.jupyter.widget-view+json": {
              "model_id": "f53558b1782449d3bc139570528e05a3",
              "version_minor": 0,
              "version_major": 2
            },
            "text/plain": [
              "HBox(children=(FloatProgress(value=0.0, description='Downloading', max=29.0, style=ProgressStyle(description_w…"
            ]
          },
          "metadata": {
            "tags": []
          }
        },
        {
          "output_type": "stream",
          "text": [
            "\n"
          ],
          "name": "stdout"
        }
      ]
    },
    {
      "cell_type": "markdown",
      "metadata": {
        "id": "A8ejjOPfl54k"
      },
      "source": [
        "## Define the Context and Question to Ask"
      ]
    },
    {
      "cell_type": "code",
      "metadata": {
        "id": "HxfRZhWbknqc"
      },
      "source": [
        "text = '''Mellon from Pan Am Systems donated $10 million to Trump's campaign.\n",
        "An heir to the Mellon banking fortune and the grandson of former U.S. \n",
        "Treasury Secretary, Andrew Mellon, his is among the biggest donations this \n",
        "election cycle. He owns the largest regional railroad in North America,\n",
        " Pan Am Railways, which went up for sale in July. He's been notably reclusive and absent from politics. \n",
        "Republican operatives reportedly had to look his name up on Google when he came forward to help.'''"
      ],
      "execution_count": null,
      "outputs": []
    },
    {
      "cell_type": "code",
      "metadata": {
        "id": "okXEdEXHmzbj"
      },
      "source": [
        "text = '''Timothy Mellon, Pan Am Systems - $10 million\n",
        "An heir to the Mellon banking fortune and the grandson of former U.S. Treasury Secretary, \n",
        "Andrew Mellon, his is among the biggest donations this election cycle. He owns the largest \n",
        "regional railroad in North America, Pan Am Railways, which went up for sale in July. \n",
        "He's been notably reclusive and absent from politics. \n",
        "Republican operatives reportedly had to look his name up on Google when he came forward to help.'''"
      ],
      "execution_count": 102,
      "outputs": []
    },
    {
      "cell_type": "code",
      "metadata": {
        "id": "EHh2Gpc2oATq"
      },
      "source": [
        "text = summary = '''\n",
        "In a self-published 2015 autobiography, Mellon called social safety net programs “Slavery Redux,” adding: “For delivering their votes in the Federal Elections, they are awarded with yet more and more freebies: food stamps, cell phones, WIC payments, Obamacare, and on, and on, and on. Advertisement\n",
        "Story continues below advertisement\n",
        "Mellon declined to comment. Mellon, who is the great-grandson of Mellon family patriarch and banker Thomas Mellon, and grandson of Andrew W. Mellon, the former Treasury Department secretary, had given smaller amounts to state and federal GOP candidates for years, \n",
        "but ramped up his giving under Trump, campaign finance records show. Story continues below advertisement\n",
        "\n",
        "He now rivals other prominent donors who have increased their political giving under Trump, \n",
        "such as shipping supplies magnate Richard Uihlein and Stephen Schwarzman, the Blackstone chairman and chief executive. \n",
        "Black people, in spite of heroic efforts by the ‘Establishment’ to right the wrongs of the past, became even more belligerent and unwilling to pitch in to improve their own situations,” Mellon wrote, describing his view of America during Reagan’s 1984 reelection campaign. Advertisement\n",
        "\n",
        "Two decades later, too many Americans are still relying on the government for help, \n",
        "he wrote. In the 1980s, Mellon took over a rail company called Guilford Transportation Industries and rebranded it after purchasing Pan Am Airways from bankruptcy in the 1990s. Advertisement\n",
        "\n",
        "He gave another $10 million to the Congressional Leadership Fund in November 2019. The Congressional Leadership Fund did not respond to requests for comment.'''"
      ],
      "execution_count": 120,
      "outputs": []
    },
    {
      "cell_type": "code",
      "metadata": {
        "id": "7U5Gm01Gl_Hr"
      },
      "source": [
        "context = text"
      ],
      "execution_count": 124,
      "outputs": []
    },
    {
      "cell_type": "code",
      "metadata": {
        "id": "jwxQ2BI3mSu8"
      },
      "source": [
        "question = \"Who gave the election donation?\""
      ],
      "execution_count": 125,
      "outputs": []
    },
    {
      "cell_type": "markdown",
      "metadata": {
        "id": "XR_AX9HBmlOl"
      },
      "source": [
        "## Perform Q&A"
      ]
    },
    {
      "cell_type": "code",
      "metadata": {
        "colab": {
          "base_uri": "https://localhost:8080/"
        },
        "id": "sOE4ojlpmrIs",
        "outputId": "1fe7094e-7fc8-4101-8da9-ee0c107297be"
      },
      "source": [
        "result = question_answering(question=question, context=context)\n",
        "print(\"Answer:\", result['answer'])\n",
        "print(\"Score:\", result['score'])"
      ],
      "execution_count": 126,
      "outputs": [
        {
          "output_type": "stream",
          "text": [
            "Answer: Congressional Leadership Fund\n",
            "Score: 0.5438297390937805\n"
          ],
          "name": "stdout"
        }
      ]
    },
    {
      "cell_type": "markdown",
      "metadata": {
        "id": "JfCYXxL3hRMU"
      },
      "source": [
        "# Upgrade Mehtods"
      ]
    },
    {
      "cell_type": "code",
      "metadata": {
        "id": "PMQWL6MChT2E"
      },
      "source": [
        "import re\n",
        "import pandas as pd\n",
        "import bs4\n",
        "import requests\n",
        "import spacy\n",
        "from spacy import displacy\n",
        "nlp = spacy.load('en_core_web_sm')\n",
        "\n",
        "from spacy.matcher import Matcher \n",
        "from spacy.tokens import Span \n",
        "\n",
        "import networkx as nx\n",
        "\n",
        "import matplotlib.pyplot as plt\n",
        "from tqdm import tqdm\n",
        "\n",
        "pd.set_option('display.max_colwidth', 200)\n",
        "%matplotlib inline"
      ],
      "execution_count": 20,
      "outputs": []
    },
    {
      "cell_type": "markdown",
      "metadata": {
        "id": "jgwijOWfkdVu"
      },
      "source": [
        "## Input Test"
      ]
    },
    {
      "cell_type": "code",
      "metadata": {
        "id": "xMlE2qXHSi_7"
      },
      "source": [
        "text = '''Mellon from Pan Am Systems donated $10 million to Trump's campaign.\n",
        "An heir to the Mellon banking fortune and the grandson of former U.S. \n",
        "Treasury Secretary, Andrew Mellon, his is among the biggest donations this \n",
        "election cycle. He owns the largest regional railroad in North America,\n",
        " Pan Am Railways, which went up for sale in July. He's been notably reclusive and absent from politics. \n",
        "Republican operatives reportedly had to look his name up on Google when he came forward to help.\n",
        "The biggest industries represented among Trump donors this cycle overall were Health Services, \n",
        "Casinos/Gambling and Finance.\n",
        " Only $8,021 came out of the former president's pockets this time around, versus $66 million in 2016.'''"
      ],
      "execution_count": 87,
      "outputs": []
    },
    {
      "cell_type": "markdown",
      "metadata": {
        "id": "gHff51zZRMWR"
      },
      "source": [
        "## get_NER"
      ]
    },
    {
      "cell_type": "code",
      "metadata": {
        "colab": {
          "base_uri": "https://localhost:8080/"
        },
        "id": "i7Ud-rObiJVA",
        "outputId": "0c126373-e6e7-48ea-c102-8ce503e29d0e"
      },
      "source": [
        "doc = nlp(\"Mellon from Pan Am Systems donated $10 million to Trump's campaign.\")\n",
        "\n",
        "for tok in doc:\n",
        "  print(tok.text, \"...\", tok.dep_, \"....\", tok.ent_type_)"
      ],
      "execution_count": 88,
      "outputs": [
        {
          "output_type": "stream",
          "text": [
            "Mellon ... nsubj .... ORG\n",
            "from ... prep .... \n",
            "Pan ... compound .... ORG\n",
            "Am ... compound .... ORG\n",
            "Systems ... pobj .... ORG\n",
            "donated ... ROOT .... \n",
            "$ ... quantmod .... MONEY\n",
            "10 ... compound .... MONEY\n",
            "million ... dobj .... MONEY\n",
            "to ... prep .... \n",
            "Trump ... poss .... PERSON\n",
            "'s ... case .... \n",
            "campaign ... pobj .... \n",
            ". ... punct .... \n"
          ],
          "name": "stdout"
        }
      ]
    },
    {
      "cell_type": "code",
      "metadata": {
        "colab": {
          "base_uri": "https://localhost:8080/"
        },
        "id": "vaF_mdZOlBg1",
        "outputId": "fc0814c2-1558-4087-83fb-582a216c490f"
      },
      "source": [
        "doc = nlp(\"Mellon gave 100 million donation to Trump's campaign\")\n",
        "\n",
        "for tok in doc:\n",
        "  print(tok.text, \"...\", tok.dep_, \"....\", tok.ent_type_)"
      ],
      "execution_count": 89,
      "outputs": [
        {
          "output_type": "stream",
          "text": [
            "Mellon ... nsubj .... ORG\n",
            "gave ... ROOT .... \n",
            "100 ... compound .... CARDINAL\n",
            "million ... nummod .... CARDINAL\n",
            "donation ... dobj .... \n",
            "to ... prep .... \n",
            "Trump ... poss .... PERSON\n",
            "'s ... case .... \n",
            "campaign ... pobj .... \n"
          ],
          "name": "stdout"
        }
      ]
    },
    {
      "cell_type": "code",
      "metadata": {
        "id": "hrRd0XiunnTc"
      },
      "source": [
        "#summary = article\n",
        "summary = text"
      ],
      "execution_count": 90,
      "outputs": []
    },
    {
      "cell_type": "code",
      "metadata": {
        "colab": {
          "base_uri": "https://localhost:8080/"
        },
        "id": "LRyKfRzpiCLM",
        "outputId": "69abeeed-688a-4829-db8e-3678c0235a88"
      },
      "source": [
        "doc = nlp(summary)\n",
        "\n",
        "for tok in doc:\n",
        "  print(tok.text, \"...\", tok.dep_, \"--\", tok.ent_type_)\n",
        "  print(tok.text, '=>',tok.pos_,'=>',tok.tag_)\n",
        "  print(\"#########\")"
      ],
      "execution_count": 91,
      "outputs": [
        {
          "output_type": "stream",
          "text": [
            "Mellon ... nsubj -- ORG\n",
            "Mellon => PROPN => NNP\n",
            "#########\n",
            "from ... prep -- \n",
            "from => ADP => IN\n",
            "#########\n",
            "Pan ... compound -- ORG\n",
            "Pan => PROPN => NNP\n",
            "#########\n",
            "Am ... compound -- ORG\n",
            "Am => PROPN => NNP\n",
            "#########\n",
            "Systems ... pobj -- ORG\n",
            "Systems => PROPN => NNPS\n",
            "#########\n",
            "donated ... ROOT -- \n",
            "donated => VERB => VBD\n",
            "#########\n",
            "$ ... quantmod -- MONEY\n",
            "$ => SYM => $\n",
            "#########\n",
            "10 ... compound -- MONEY\n",
            "10 => NUM => CD\n",
            "#########\n",
            "million ... dobj -- MONEY\n",
            "million => NUM => CD\n",
            "#########\n",
            "to ... prep -- \n",
            "to => ADP => IN\n",
            "#########\n",
            "Trump ... poss -- PERSON\n",
            "Trump => PROPN => NNP\n",
            "#########\n",
            "'s ... case -- \n",
            "'s => PART => POS\n",
            "#########\n",
            "campaign ... pobj -- \n",
            "campaign => NOUN => NN\n",
            "#########\n",
            ". ... punct -- \n",
            ". => PUNCT => .\n",
            "#########\n",
            "\n",
            " ...  -- \n",
            "\n",
            " => SPACE => _SP\n",
            "#########\n",
            "An ... det -- \n",
            "An => DET => DT\n",
            "#########\n",
            "heir ... npadvmod -- \n",
            "heir => NOUN => NN\n",
            "#########\n",
            "to ... prep -- \n",
            "to => ADP => IN\n",
            "#########\n",
            "the ... det -- \n",
            "the => DET => DT\n",
            "#########\n",
            "Mellon ... compound -- ORG\n",
            "Mellon => PROPN => NNP\n",
            "#########\n",
            "banking ... compound -- \n",
            "banking => NOUN => NN\n",
            "#########\n",
            "fortune ... pobj -- \n",
            "fortune => NOUN => NN\n",
            "#########\n",
            "and ... cc -- \n",
            "and => CCONJ => CC\n",
            "#########\n",
            "the ... det -- \n",
            "the => DET => DT\n",
            "#########\n",
            "grandson ... conj -- \n",
            "grandson => NOUN => NN\n",
            "#########\n",
            "of ... prep -- \n",
            "of => ADP => IN\n",
            "#########\n",
            "former ... amod -- \n",
            "former => ADJ => JJ\n",
            "#########\n",
            "U.S. ... nmod -- GPE\n",
            "U.S. => PROPN => NNP\n",
            "#########\n",
            "\n",
            " ...  -- \n",
            "\n",
            " => SPACE => _SP\n",
            "#########\n",
            "Treasury ... compound -- ORG\n",
            "Treasury => PROPN => NNP\n",
            "#########\n",
            "Secretary ... pobj -- \n",
            "Secretary => PROPN => NNP\n",
            "#########\n",
            ", ... punct -- \n",
            ", => PUNCT => ,\n",
            "#########\n",
            "Andrew ... compound -- PERSON\n",
            "Andrew => PROPN => NNP\n",
            "#########\n",
            "Mellon ... appos -- PERSON\n",
            "Mellon => PROPN => NNP\n",
            "#########\n",
            ", ... punct -- \n",
            ", => PUNCT => ,\n",
            "#########\n",
            "his ... nsubj -- \n",
            "his => DET => PRP$\n",
            "#########\n",
            "is ... ROOT -- \n",
            "is => AUX => VBZ\n",
            "#########\n",
            "among ... prep -- \n",
            "among => ADP => IN\n",
            "#########\n",
            "the ... det -- \n",
            "the => DET => DT\n",
            "#########\n",
            "biggest ... amod -- \n",
            "biggest => ADJ => JJS\n",
            "#########\n",
            "donations ... pobj -- \n",
            "donations => NOUN => NNS\n",
            "#########\n",
            "this ... det -- \n",
            "this => DET => DT\n",
            "#########\n",
            "\n",
            " ...  -- \n",
            "\n",
            " => SPACE => _SP\n",
            "#########\n",
            "election ... compound -- \n",
            "election => NOUN => NN\n",
            "#########\n",
            "cycle ... attr -- \n",
            "cycle => NOUN => NN\n",
            "#########\n",
            ". ... punct -- \n",
            ". => PUNCT => .\n",
            "#########\n",
            "He ... nsubj -- \n",
            "He => PRON => PRP\n",
            "#########\n",
            "owns ... ROOT -- \n",
            "owns => VERB => VBZ\n",
            "#########\n",
            "the ... det -- \n",
            "the => DET => DT\n",
            "#########\n",
            "largest ... amod -- \n",
            "largest => ADJ => JJS\n",
            "#########\n",
            "regional ... amod -- \n",
            "regional => ADJ => JJ\n",
            "#########\n",
            "railroad ... dobj -- \n",
            "railroad => NOUN => NN\n",
            "#########\n",
            "in ... prep -- \n",
            "in => ADP => IN\n",
            "#########\n",
            "North ... compound -- LOC\n",
            "North => PROPN => NNP\n",
            "#########\n",
            "America ... pobj -- LOC\n",
            "America => PROPN => NNP\n",
            "#########\n",
            ", ... punct -- \n",
            ", => PUNCT => ,\n",
            "#########\n",
            "\n",
            "  ...  -- \n",
            "\n",
            "  => SPACE => _SP\n",
            "#########\n",
            "Pan ... compound -- ORG\n",
            "Pan => PROPN => NNP\n",
            "#########\n",
            "Am ... compound -- ORG\n",
            "Am => PROPN => NNP\n",
            "#########\n",
            "Railways ... appos -- ORG\n",
            "Railways => PROPN => NNPS\n",
            "#########\n",
            ", ... punct -- \n",
            ", => PUNCT => ,\n",
            "#########\n",
            "which ... nsubj -- \n",
            "which => DET => WDT\n",
            "#########\n",
            "went ... relcl -- \n",
            "went => VERB => VBD\n",
            "#########\n",
            "up ... prt -- \n",
            "up => ADP => RP\n",
            "#########\n",
            "for ... prep -- \n",
            "for => ADP => IN\n",
            "#########\n",
            "sale ... pobj -- \n",
            "sale => NOUN => NN\n",
            "#########\n",
            "in ... prep -- \n",
            "in => ADP => IN\n",
            "#########\n",
            "July ... pobj -- DATE\n",
            "July => PROPN => NNP\n",
            "#########\n",
            ". ... punct -- \n",
            ". => PUNCT => .\n",
            "#########\n",
            "He ... nsubjpass -- \n",
            "He => PRON => PRP\n",
            "#########\n",
            "'s ... auxpass -- \n",
            "'s => AUX => VBZ\n",
            "#########\n",
            "been ... ROOT -- \n",
            "been => AUX => VBN\n",
            "#########\n",
            "notably ... advmod -- \n",
            "notably => ADV => RB\n",
            "#########\n",
            "reclusive ... acomp -- \n",
            "reclusive => ADJ => JJ\n",
            "#########\n",
            "and ... cc -- \n",
            "and => CCONJ => CC\n",
            "#########\n",
            "absent ... conj -- \n",
            "absent => ADJ => JJ\n",
            "#########\n",
            "from ... prep -- \n",
            "from => ADP => IN\n",
            "#########\n",
            "politics ... pobj -- \n",
            "politics => NOUN => NNS\n",
            "#########\n",
            ". ... punct -- \n",
            ". => PUNCT => .\n",
            "#########\n",
            "\n",
            " ...  -- \n",
            "\n",
            " => SPACE => _SP\n",
            "#########\n",
            "Republican ... amod -- NORP\n",
            "Republican => ADJ => JJ\n",
            "#########\n",
            "operatives ... nsubj -- \n",
            "operatives => NOUN => NNS\n",
            "#########\n",
            "reportedly ... advmod -- \n",
            "reportedly => ADV => RB\n",
            "#########\n",
            "had ... ROOT -- \n",
            "had => AUX => VBD\n",
            "#########\n",
            "to ... aux -- \n",
            "to => PART => TO\n",
            "#########\n",
            "look ... xcomp -- \n",
            "look => VERB => VB\n",
            "#########\n",
            "his ... poss -- \n",
            "his => DET => PRP$\n",
            "#########\n",
            "name ... dobj -- \n",
            "name => NOUN => NN\n",
            "#########\n",
            "up ... prt -- \n",
            "up => ADP => RP\n",
            "#########\n",
            "on ... prep -- \n",
            "on => ADP => IN\n",
            "#########\n",
            "Google ... pobj -- ORG\n",
            "Google => PROPN => NNP\n",
            "#########\n",
            "when ... advmod -- \n",
            "when => ADV => WRB\n",
            "#########\n",
            "he ... nsubj -- \n",
            "he => PRON => PRP\n",
            "#########\n",
            "came ... advcl -- \n",
            "came => VERB => VBD\n",
            "#########\n",
            "forward ... advmod -- \n",
            "forward => ADV => RB\n",
            "#########\n",
            "to ... aux -- \n",
            "to => PART => TO\n",
            "#########\n",
            "help ... advcl -- \n",
            "help => VERB => VB\n",
            "#########\n",
            ". ... punct -- \n",
            ". => PUNCT => .\n",
            "#########\n",
            "\n",
            " ...  -- \n",
            "\n",
            " => SPACE => _SP\n",
            "#########\n",
            "The ... det -- \n",
            "The => DET => DT\n",
            "#########\n",
            "biggest ... amod -- \n",
            "biggest => ADJ => JJS\n",
            "#########\n",
            "industries ... nsubj -- \n",
            "industries => NOUN => NNS\n",
            "#########\n",
            "represented ... acl -- \n",
            "represented => VERB => VBN\n",
            "#########\n",
            "among ... prep -- \n",
            "among => ADP => IN\n",
            "#########\n",
            "Trump ... compound -- PRODUCT\n",
            "Trump => ADJ => JJ\n",
            "#########\n",
            "donors ... pobj -- \n",
            "donors => NOUN => NNS\n",
            "#########\n",
            "this ... det -- \n",
            "this => DET => DT\n",
            "#########\n",
            "cycle ... nsubj -- \n",
            "cycle => NOUN => NN\n",
            "#########\n",
            "overall ... advmod -- \n",
            "overall => ADV => RB\n",
            "#########\n",
            "were ... ROOT -- \n",
            "were => AUX => VBD\n",
            "#########\n",
            "Health ... compound -- ORG\n",
            "Health => PROPN => NNP\n",
            "#########\n",
            "Services ... attr -- ORG\n",
            "Services => PROPN => NNPS\n",
            "#########\n",
            ", ... punct -- \n",
            ", => PUNCT => ,\n",
            "#########\n",
            "\n",
            " ...  -- \n",
            "\n",
            " => SPACE => _SP\n",
            "#########\n",
            "Casinos ... nmod -- ORG\n",
            "Casinos => PROPN => NNP\n",
            "#########\n",
            "/ ... punct -- ORG\n",
            "/ => SYM => SYM\n",
            "#########\n",
            "Gambling ... appos -- ORG\n",
            "Gambling => PROPN => NNP\n",
            "#########\n",
            "and ... cc -- ORG\n",
            "and => CCONJ => CC\n",
            "#########\n",
            "Finance ... conj -- ORG\n",
            "Finance => PROPN => NNP\n",
            "#########\n",
            ". ... punct -- \n",
            ". => PUNCT => .\n",
            "#########\n",
            "\n",
            "  ...  -- \n",
            "\n",
            "  => SPACE => _SP\n",
            "#########\n",
            "Only ... advmod -- MONEY\n",
            "Only => ADV => RB\n",
            "#########\n",
            "$ ... quantmod -- MONEY\n",
            "$ => SYM => $\n",
            "#########\n",
            "8,021 ... nsubj -- MONEY\n",
            "8,021 => NUM => CD\n",
            "#########\n",
            "came ... ROOT -- \n",
            "came => VERB => VBD\n",
            "#########\n",
            "out ... prep -- \n",
            "out => SCONJ => IN\n",
            "#########\n",
            "of ... prep -- \n",
            "of => ADP => IN\n",
            "#########\n",
            "the ... det -- \n",
            "the => DET => DT\n",
            "#########\n",
            "former ... amod -- \n",
            "former => ADJ => JJ\n",
            "#########\n",
            "president ... poss -- \n",
            "president => NOUN => NN\n",
            "#########\n",
            "'s ... case -- \n",
            "'s => PART => POS\n",
            "#########\n",
            "pockets ... pobj -- \n",
            "pockets => NOUN => NNS\n",
            "#########\n",
            "this ... det -- \n",
            "this => DET => DT\n",
            "#########\n",
            "time ... npadvmod -- \n",
            "time => NOUN => NN\n",
            "#########\n",
            "around ... advmod -- \n",
            "around => ADV => RB\n",
            "#########\n",
            ", ... punct -- \n",
            ", => PUNCT => ,\n",
            "#########\n",
            "versus ... prep -- \n",
            "versus => ADP => IN\n",
            "#########\n",
            "$ ... quantmod -- MONEY\n",
            "$ => SYM => $\n",
            "#########\n",
            "66 ... compound -- MONEY\n",
            "66 => NUM => CD\n",
            "#########\n",
            "million ... pobj -- MONEY\n",
            "million => NUM => CD\n",
            "#########\n",
            "in ... prep -- \n",
            "in => ADP => IN\n",
            "#########\n",
            "2016 ... pobj -- DATE\n",
            "2016 => NUM => CD\n",
            "#########\n",
            ". ... punct -- \n",
            ". => PUNCT => .\n",
            "#########\n"
          ],
          "name": "stdout"
        }
      ]
    },
    {
      "cell_type": "markdown",
      "metadata": {
        "id": "jAV2RwCHRQQR"
      },
      "source": [
        "### Visualize NER"
      ]
    },
    {
      "cell_type": "code",
      "metadata": {
        "colab": {
          "base_uri": "https://localhost:8080/",
          "height": 331
        },
        "id": "B3SZCTx6RStw",
        "outputId": "02836d28-171e-4b45-f57c-ef3fde5bffbe"
      },
      "source": [
        "displacy.render(doc, style='ent', jupyter=True)"
      ],
      "execution_count": 92,
      "outputs": [
        {
          "output_type": "display_data",
          "data": {
            "text/html": [
              "<span class=\"tex2jax_ignore\"><div class=\"entities\" style=\"line-height: 2.5; direction: ltr\">\n",
              "<mark class=\"entity\" style=\"background: #7aecec; padding: 0.45em 0.6em; margin: 0 0.25em; line-height: 1; border-radius: 0.35em;\">\n",
              "    Mellon\n",
              "    <span style=\"font-size: 0.8em; font-weight: bold; line-height: 1; border-radius: 0.35em; text-transform: uppercase; vertical-align: middle; margin-left: 0.5rem\">ORG</span>\n",
              "</mark>\n",
              " from \n",
              "<mark class=\"entity\" style=\"background: #7aecec; padding: 0.45em 0.6em; margin: 0 0.25em; line-height: 1; border-radius: 0.35em;\">\n",
              "    Pan Am Systems\n",
              "    <span style=\"font-size: 0.8em; font-weight: bold; line-height: 1; border-radius: 0.35em; text-transform: uppercase; vertical-align: middle; margin-left: 0.5rem\">ORG</span>\n",
              "</mark>\n",
              " donated \n",
              "<mark class=\"entity\" style=\"background: #e4e7d2; padding: 0.45em 0.6em; margin: 0 0.25em; line-height: 1; border-radius: 0.35em;\">\n",
              "    $10 million\n",
              "    <span style=\"font-size: 0.8em; font-weight: bold; line-height: 1; border-radius: 0.35em; text-transform: uppercase; vertical-align: middle; margin-left: 0.5rem\">MONEY</span>\n",
              "</mark>\n",
              " to \n",
              "<mark class=\"entity\" style=\"background: #aa9cfc; padding: 0.45em 0.6em; margin: 0 0.25em; line-height: 1; border-radius: 0.35em;\">\n",
              "    Trump\n",
              "    <span style=\"font-size: 0.8em; font-weight: bold; line-height: 1; border-radius: 0.35em; text-transform: uppercase; vertical-align: middle; margin-left: 0.5rem\">PERSON</span>\n",
              "</mark>\n",
              "'s campaign.</br>An heir to the \n",
              "<mark class=\"entity\" style=\"background: #7aecec; padding: 0.45em 0.6em; margin: 0 0.25em; line-height: 1; border-radius: 0.35em;\">\n",
              "    Mellon\n",
              "    <span style=\"font-size: 0.8em; font-weight: bold; line-height: 1; border-radius: 0.35em; text-transform: uppercase; vertical-align: middle; margin-left: 0.5rem\">ORG</span>\n",
              "</mark>\n",
              " banking fortune and the grandson of former \n",
              "<mark class=\"entity\" style=\"background: #feca74; padding: 0.45em 0.6em; margin: 0 0.25em; line-height: 1; border-radius: 0.35em;\">\n",
              "    U.S.\n",
              "    <span style=\"font-size: 0.8em; font-weight: bold; line-height: 1; border-radius: 0.35em; text-transform: uppercase; vertical-align: middle; margin-left: 0.5rem\">GPE</span>\n",
              "</mark>\n",
              " </br>\n",
              "<mark class=\"entity\" style=\"background: #7aecec; padding: 0.45em 0.6em; margin: 0 0.25em; line-height: 1; border-radius: 0.35em;\">\n",
              "    Treasury\n",
              "    <span style=\"font-size: 0.8em; font-weight: bold; line-height: 1; border-radius: 0.35em; text-transform: uppercase; vertical-align: middle; margin-left: 0.5rem\">ORG</span>\n",
              "</mark>\n",
              " Secretary, \n",
              "<mark class=\"entity\" style=\"background: #aa9cfc; padding: 0.45em 0.6em; margin: 0 0.25em; line-height: 1; border-radius: 0.35em;\">\n",
              "    Andrew Mellon\n",
              "    <span style=\"font-size: 0.8em; font-weight: bold; line-height: 1; border-radius: 0.35em; text-transform: uppercase; vertical-align: middle; margin-left: 0.5rem\">PERSON</span>\n",
              "</mark>\n",
              ", his is among the biggest donations this </br>election cycle. He owns the largest regional railroad in \n",
              "<mark class=\"entity\" style=\"background: #ff9561; padding: 0.45em 0.6em; margin: 0 0.25em; line-height: 1; border-radius: 0.35em;\">\n",
              "    North America\n",
              "    <span style=\"font-size: 0.8em; font-weight: bold; line-height: 1; border-radius: 0.35em; text-transform: uppercase; vertical-align: middle; margin-left: 0.5rem\">LOC</span>\n",
              "</mark>\n",
              ",</br> \n",
              "<mark class=\"entity\" style=\"background: #7aecec; padding: 0.45em 0.6em; margin: 0 0.25em; line-height: 1; border-radius: 0.35em;\">\n",
              "    Pan Am Railways\n",
              "    <span style=\"font-size: 0.8em; font-weight: bold; line-height: 1; border-radius: 0.35em; text-transform: uppercase; vertical-align: middle; margin-left: 0.5rem\">ORG</span>\n",
              "</mark>\n",
              ", which went up for sale in \n",
              "<mark class=\"entity\" style=\"background: #bfe1d9; padding: 0.45em 0.6em; margin: 0 0.25em; line-height: 1; border-radius: 0.35em;\">\n",
              "    July\n",
              "    <span style=\"font-size: 0.8em; font-weight: bold; line-height: 1; border-radius: 0.35em; text-transform: uppercase; vertical-align: middle; margin-left: 0.5rem\">DATE</span>\n",
              "</mark>\n",
              ". He's been notably reclusive and absent from politics. </br>\n",
              "<mark class=\"entity\" style=\"background: #c887fb; padding: 0.45em 0.6em; margin: 0 0.25em; line-height: 1; border-radius: 0.35em;\">\n",
              "    Republican\n",
              "    <span style=\"font-size: 0.8em; font-weight: bold; line-height: 1; border-radius: 0.35em; text-transform: uppercase; vertical-align: middle; margin-left: 0.5rem\">NORP</span>\n",
              "</mark>\n",
              " operatives reportedly had to look his name up on \n",
              "<mark class=\"entity\" style=\"background: #7aecec; padding: 0.45em 0.6em; margin: 0 0.25em; line-height: 1; border-radius: 0.35em;\">\n",
              "    Google\n",
              "    <span style=\"font-size: 0.8em; font-weight: bold; line-height: 1; border-radius: 0.35em; text-transform: uppercase; vertical-align: middle; margin-left: 0.5rem\">ORG</span>\n",
              "</mark>\n",
              " when he came forward to help.</br>The biggest industries represented among \n",
              "<mark class=\"entity\" style=\"background: #bfeeb7; padding: 0.45em 0.6em; margin: 0 0.25em; line-height: 1; border-radius: 0.35em;\">\n",
              "    Trump\n",
              "    <span style=\"font-size: 0.8em; font-weight: bold; line-height: 1; border-radius: 0.35em; text-transform: uppercase; vertical-align: middle; margin-left: 0.5rem\">PRODUCT</span>\n",
              "</mark>\n",
              " donors this cycle overall were \n",
              "<mark class=\"entity\" style=\"background: #7aecec; padding: 0.45em 0.6em; margin: 0 0.25em; line-height: 1; border-radius: 0.35em;\">\n",
              "    Health Services\n",
              "    <span style=\"font-size: 0.8em; font-weight: bold; line-height: 1; border-radius: 0.35em; text-transform: uppercase; vertical-align: middle; margin-left: 0.5rem\">ORG</span>\n",
              "</mark>\n",
              ", </br>\n",
              "<mark class=\"entity\" style=\"background: #7aecec; padding: 0.45em 0.6em; margin: 0 0.25em; line-height: 1; border-radius: 0.35em;\">\n",
              "    Casinos/Gambling and Finance\n",
              "    <span style=\"font-size: 0.8em; font-weight: bold; line-height: 1; border-radius: 0.35em; text-transform: uppercase; vertical-align: middle; margin-left: 0.5rem\">ORG</span>\n",
              "</mark>\n",
              ".</br> \n",
              "<mark class=\"entity\" style=\"background: #e4e7d2; padding: 0.45em 0.6em; margin: 0 0.25em; line-height: 1; border-radius: 0.35em;\">\n",
              "    Only $8,021\n",
              "    <span style=\"font-size: 0.8em; font-weight: bold; line-height: 1; border-radius: 0.35em; text-transform: uppercase; vertical-align: middle; margin-left: 0.5rem\">MONEY</span>\n",
              "</mark>\n",
              " came out of the former president's pockets this time around, versus \n",
              "<mark class=\"entity\" style=\"background: #e4e7d2; padding: 0.45em 0.6em; margin: 0 0.25em; line-height: 1; border-radius: 0.35em;\">\n",
              "    $66 million\n",
              "    <span style=\"font-size: 0.8em; font-weight: bold; line-height: 1; border-radius: 0.35em; text-transform: uppercase; vertical-align: middle; margin-left: 0.5rem\">MONEY</span>\n",
              "</mark>\n",
              " in \n",
              "<mark class=\"entity\" style=\"background: #bfe1d9; padding: 0.45em 0.6em; margin: 0 0.25em; line-height: 1; border-radius: 0.35em;\">\n",
              "    2016\n",
              "    <span style=\"font-size: 0.8em; font-weight: bold; line-height: 1; border-radius: 0.35em; text-transform: uppercase; vertical-align: middle; margin-left: 0.5rem\">DATE</span>\n",
              "</mark>\n",
              ".</div></span>"
            ],
            "text/plain": [
              "<IPython.core.display.HTML object>"
            ]
          },
          "metadata": {
            "tags": []
          }
        }
      ]
    },
    {
      "cell_type": "markdown",
      "metadata": {
        "id": "XgZUEhWIddAZ"
      },
      "source": [
        "### Visualize POS\n",
        "\n",
        "https://stackabuse.com/python-for-nlp-parts-of-speech-tagging-and-named-entity-recognition/"
      ]
    },
    {
      "cell_type": "code",
      "metadata": {
        "colab": {
          "base_uri": "https://localhost:8080/",
          "height": 773
        },
        "id": "8PYHqlssdwTU",
        "outputId": "ff4c2362-3652-4abc-e557-8aa88d81fba3"
      },
      "source": [
        "displacy.render(doc, style='dep', jupyter=True, options={'distance': 85})"
      ],
      "execution_count": 93,
      "outputs": [
        {
          "output_type": "display_data",
          "data": {
            "text/html": [
              "<span class=\"tex2jax_ignore\"><svg xmlns=\"http://www.w3.org/2000/svg\" xmlns:xlink=\"http://www.w3.org/1999/xlink\" xml:lang=\"en\" id=\"e2bc7f60cbee447ab08a9864fce006cc-0\" class=\"displacy\" width=\"11015\" height=\"732.0\" direction=\"ltr\" style=\"max-width: none; height: 732.0px; color: #000000; background: #ffffff; font-family: Arial; direction: ltr\">\n",
              "<text class=\"displacy-token\" fill=\"currentColor\" text-anchor=\"middle\" y=\"642.0\">\n",
              "    <tspan class=\"displacy-word\" fill=\"currentColor\" x=\"50\">Mellon</tspan>\n",
              "    <tspan class=\"displacy-tag\" dy=\"2em\" fill=\"currentColor\" x=\"50\">PROPN</tspan>\n",
              "</text>\n",
              "\n",
              "<text class=\"displacy-token\" fill=\"currentColor\" text-anchor=\"middle\" y=\"642.0\">\n",
              "    <tspan class=\"displacy-word\" fill=\"currentColor\" x=\"135\">from</tspan>\n",
              "    <tspan class=\"displacy-tag\" dy=\"2em\" fill=\"currentColor\" x=\"135\">ADP</tspan>\n",
              "</text>\n",
              "\n",
              "<text class=\"displacy-token\" fill=\"currentColor\" text-anchor=\"middle\" y=\"642.0\">\n",
              "    <tspan class=\"displacy-word\" fill=\"currentColor\" x=\"220\">Pan</tspan>\n",
              "    <tspan class=\"displacy-tag\" dy=\"2em\" fill=\"currentColor\" x=\"220\">PROPN</tspan>\n",
              "</text>\n",
              "\n",
              "<text class=\"displacy-token\" fill=\"currentColor\" text-anchor=\"middle\" y=\"642.0\">\n",
              "    <tspan class=\"displacy-word\" fill=\"currentColor\" x=\"305\">Am</tspan>\n",
              "    <tspan class=\"displacy-tag\" dy=\"2em\" fill=\"currentColor\" x=\"305\">PROPN</tspan>\n",
              "</text>\n",
              "\n",
              "<text class=\"displacy-token\" fill=\"currentColor\" text-anchor=\"middle\" y=\"642.0\">\n",
              "    <tspan class=\"displacy-word\" fill=\"currentColor\" x=\"390\">Systems</tspan>\n",
              "    <tspan class=\"displacy-tag\" dy=\"2em\" fill=\"currentColor\" x=\"390\">PROPN</tspan>\n",
              "</text>\n",
              "\n",
              "<text class=\"displacy-token\" fill=\"currentColor\" text-anchor=\"middle\" y=\"642.0\">\n",
              "    <tspan class=\"displacy-word\" fill=\"currentColor\" x=\"475\">donated</tspan>\n",
              "    <tspan class=\"displacy-tag\" dy=\"2em\" fill=\"currentColor\" x=\"475\">VERB</tspan>\n",
              "</text>\n",
              "\n",
              "<text class=\"displacy-token\" fill=\"currentColor\" text-anchor=\"middle\" y=\"642.0\">\n",
              "    <tspan class=\"displacy-word\" fill=\"currentColor\" x=\"560\">$</tspan>\n",
              "    <tspan class=\"displacy-tag\" dy=\"2em\" fill=\"currentColor\" x=\"560\">SYM</tspan>\n",
              "</text>\n",
              "\n",
              "<text class=\"displacy-token\" fill=\"currentColor\" text-anchor=\"middle\" y=\"642.0\">\n",
              "    <tspan class=\"displacy-word\" fill=\"currentColor\" x=\"645\">10</tspan>\n",
              "    <tspan class=\"displacy-tag\" dy=\"2em\" fill=\"currentColor\" x=\"645\">NUM</tspan>\n",
              "</text>\n",
              "\n",
              "<text class=\"displacy-token\" fill=\"currentColor\" text-anchor=\"middle\" y=\"642.0\">\n",
              "    <tspan class=\"displacy-word\" fill=\"currentColor\" x=\"730\">million</tspan>\n",
              "    <tspan class=\"displacy-tag\" dy=\"2em\" fill=\"currentColor\" x=\"730\">NUM</tspan>\n",
              "</text>\n",
              "\n",
              "<text class=\"displacy-token\" fill=\"currentColor\" text-anchor=\"middle\" y=\"642.0\">\n",
              "    <tspan class=\"displacy-word\" fill=\"currentColor\" x=\"815\">to</tspan>\n",
              "    <tspan class=\"displacy-tag\" dy=\"2em\" fill=\"currentColor\" x=\"815\">ADP</tspan>\n",
              "</text>\n",
              "\n",
              "<text class=\"displacy-token\" fill=\"currentColor\" text-anchor=\"middle\" y=\"642.0\">\n",
              "    <tspan class=\"displacy-word\" fill=\"currentColor\" x=\"900\">Trump</tspan>\n",
              "    <tspan class=\"displacy-tag\" dy=\"2em\" fill=\"currentColor\" x=\"900\">PROPN</tspan>\n",
              "</text>\n",
              "\n",
              "<text class=\"displacy-token\" fill=\"currentColor\" text-anchor=\"middle\" y=\"642.0\">\n",
              "    <tspan class=\"displacy-word\" fill=\"currentColor\" x=\"985\">'s</tspan>\n",
              "    <tspan class=\"displacy-tag\" dy=\"2em\" fill=\"currentColor\" x=\"985\">PART</tspan>\n",
              "</text>\n",
              "\n",
              "<text class=\"displacy-token\" fill=\"currentColor\" text-anchor=\"middle\" y=\"642.0\">\n",
              "    <tspan class=\"displacy-word\" fill=\"currentColor\" x=\"1070\">campaign.</tspan>\n",
              "    <tspan class=\"displacy-tag\" dy=\"2em\" fill=\"currentColor\" x=\"1070\">NOUN</tspan>\n",
              "</text>\n",
              "\n",
              "<text class=\"displacy-token\" fill=\"currentColor\" text-anchor=\"middle\" y=\"642.0\">\n",
              "    <tspan class=\"displacy-word\" fill=\"currentColor\" x=\"1155\">\n",
              "</tspan>\n",
              "    <tspan class=\"displacy-tag\" dy=\"2em\" fill=\"currentColor\" x=\"1155\">SPACE</tspan>\n",
              "</text>\n",
              "\n",
              "<text class=\"displacy-token\" fill=\"currentColor\" text-anchor=\"middle\" y=\"642.0\">\n",
              "    <tspan class=\"displacy-word\" fill=\"currentColor\" x=\"1240\">An</tspan>\n",
              "    <tspan class=\"displacy-tag\" dy=\"2em\" fill=\"currentColor\" x=\"1240\">DET</tspan>\n",
              "</text>\n",
              "\n",
              "<text class=\"displacy-token\" fill=\"currentColor\" text-anchor=\"middle\" y=\"642.0\">\n",
              "    <tspan class=\"displacy-word\" fill=\"currentColor\" x=\"1325\">heir</tspan>\n",
              "    <tspan class=\"displacy-tag\" dy=\"2em\" fill=\"currentColor\" x=\"1325\">NOUN</tspan>\n",
              "</text>\n",
              "\n",
              "<text class=\"displacy-token\" fill=\"currentColor\" text-anchor=\"middle\" y=\"642.0\">\n",
              "    <tspan class=\"displacy-word\" fill=\"currentColor\" x=\"1410\">to</tspan>\n",
              "    <tspan class=\"displacy-tag\" dy=\"2em\" fill=\"currentColor\" x=\"1410\">ADP</tspan>\n",
              "</text>\n",
              "\n",
              "<text class=\"displacy-token\" fill=\"currentColor\" text-anchor=\"middle\" y=\"642.0\">\n",
              "    <tspan class=\"displacy-word\" fill=\"currentColor\" x=\"1495\">the</tspan>\n",
              "    <tspan class=\"displacy-tag\" dy=\"2em\" fill=\"currentColor\" x=\"1495\">DET</tspan>\n",
              "</text>\n",
              "\n",
              "<text class=\"displacy-token\" fill=\"currentColor\" text-anchor=\"middle\" y=\"642.0\">\n",
              "    <tspan class=\"displacy-word\" fill=\"currentColor\" x=\"1580\">Mellon</tspan>\n",
              "    <tspan class=\"displacy-tag\" dy=\"2em\" fill=\"currentColor\" x=\"1580\">PROPN</tspan>\n",
              "</text>\n",
              "\n",
              "<text class=\"displacy-token\" fill=\"currentColor\" text-anchor=\"middle\" y=\"642.0\">\n",
              "    <tspan class=\"displacy-word\" fill=\"currentColor\" x=\"1665\">banking</tspan>\n",
              "    <tspan class=\"displacy-tag\" dy=\"2em\" fill=\"currentColor\" x=\"1665\">NOUN</tspan>\n",
              "</text>\n",
              "\n",
              "<text class=\"displacy-token\" fill=\"currentColor\" text-anchor=\"middle\" y=\"642.0\">\n",
              "    <tspan class=\"displacy-word\" fill=\"currentColor\" x=\"1750\">fortune</tspan>\n",
              "    <tspan class=\"displacy-tag\" dy=\"2em\" fill=\"currentColor\" x=\"1750\">NOUN</tspan>\n",
              "</text>\n",
              "\n",
              "<text class=\"displacy-token\" fill=\"currentColor\" text-anchor=\"middle\" y=\"642.0\">\n",
              "    <tspan class=\"displacy-word\" fill=\"currentColor\" x=\"1835\">and</tspan>\n",
              "    <tspan class=\"displacy-tag\" dy=\"2em\" fill=\"currentColor\" x=\"1835\">CCONJ</tspan>\n",
              "</text>\n",
              "\n",
              "<text class=\"displacy-token\" fill=\"currentColor\" text-anchor=\"middle\" y=\"642.0\">\n",
              "    <tspan class=\"displacy-word\" fill=\"currentColor\" x=\"1920\">the</tspan>\n",
              "    <tspan class=\"displacy-tag\" dy=\"2em\" fill=\"currentColor\" x=\"1920\">DET</tspan>\n",
              "</text>\n",
              "\n",
              "<text class=\"displacy-token\" fill=\"currentColor\" text-anchor=\"middle\" y=\"642.0\">\n",
              "    <tspan class=\"displacy-word\" fill=\"currentColor\" x=\"2005\">grandson</tspan>\n",
              "    <tspan class=\"displacy-tag\" dy=\"2em\" fill=\"currentColor\" x=\"2005\">NOUN</tspan>\n",
              "</text>\n",
              "\n",
              "<text class=\"displacy-token\" fill=\"currentColor\" text-anchor=\"middle\" y=\"642.0\">\n",
              "    <tspan class=\"displacy-word\" fill=\"currentColor\" x=\"2090\">of</tspan>\n",
              "    <tspan class=\"displacy-tag\" dy=\"2em\" fill=\"currentColor\" x=\"2090\">ADP</tspan>\n",
              "</text>\n",
              "\n",
              "<text class=\"displacy-token\" fill=\"currentColor\" text-anchor=\"middle\" y=\"642.0\">\n",
              "    <tspan class=\"displacy-word\" fill=\"currentColor\" x=\"2175\">former</tspan>\n",
              "    <tspan class=\"displacy-tag\" dy=\"2em\" fill=\"currentColor\" x=\"2175\">ADJ</tspan>\n",
              "</text>\n",
              "\n",
              "<text class=\"displacy-token\" fill=\"currentColor\" text-anchor=\"middle\" y=\"642.0\">\n",
              "    <tspan class=\"displacy-word\" fill=\"currentColor\" x=\"2260\">U.S.</tspan>\n",
              "    <tspan class=\"displacy-tag\" dy=\"2em\" fill=\"currentColor\" x=\"2260\">PROPN</tspan>\n",
              "</text>\n",
              "\n",
              "<text class=\"displacy-token\" fill=\"currentColor\" text-anchor=\"middle\" y=\"642.0\">\n",
              "    <tspan class=\"displacy-word\" fill=\"currentColor\" x=\"2345\">\n",
              "</tspan>\n",
              "    <tspan class=\"displacy-tag\" dy=\"2em\" fill=\"currentColor\" x=\"2345\">SPACE</tspan>\n",
              "</text>\n",
              "\n",
              "<text class=\"displacy-token\" fill=\"currentColor\" text-anchor=\"middle\" y=\"642.0\">\n",
              "    <tspan class=\"displacy-word\" fill=\"currentColor\" x=\"2430\">Treasury</tspan>\n",
              "    <tspan class=\"displacy-tag\" dy=\"2em\" fill=\"currentColor\" x=\"2430\">PROPN</tspan>\n",
              "</text>\n",
              "\n",
              "<text class=\"displacy-token\" fill=\"currentColor\" text-anchor=\"middle\" y=\"642.0\">\n",
              "    <tspan class=\"displacy-word\" fill=\"currentColor\" x=\"2515\">Secretary,</tspan>\n",
              "    <tspan class=\"displacy-tag\" dy=\"2em\" fill=\"currentColor\" x=\"2515\">PROPN</tspan>\n",
              "</text>\n",
              "\n",
              "<text class=\"displacy-token\" fill=\"currentColor\" text-anchor=\"middle\" y=\"642.0\">\n",
              "    <tspan class=\"displacy-word\" fill=\"currentColor\" x=\"2600\">Andrew</tspan>\n",
              "    <tspan class=\"displacy-tag\" dy=\"2em\" fill=\"currentColor\" x=\"2600\">PROPN</tspan>\n",
              "</text>\n",
              "\n",
              "<text class=\"displacy-token\" fill=\"currentColor\" text-anchor=\"middle\" y=\"642.0\">\n",
              "    <tspan class=\"displacy-word\" fill=\"currentColor\" x=\"2685\">Mellon,</tspan>\n",
              "    <tspan class=\"displacy-tag\" dy=\"2em\" fill=\"currentColor\" x=\"2685\">PROPN</tspan>\n",
              "</text>\n",
              "\n",
              "<text class=\"displacy-token\" fill=\"currentColor\" text-anchor=\"middle\" y=\"642.0\">\n",
              "    <tspan class=\"displacy-word\" fill=\"currentColor\" x=\"2770\">his</tspan>\n",
              "    <tspan class=\"displacy-tag\" dy=\"2em\" fill=\"currentColor\" x=\"2770\">DET</tspan>\n",
              "</text>\n",
              "\n",
              "<text class=\"displacy-token\" fill=\"currentColor\" text-anchor=\"middle\" y=\"642.0\">\n",
              "    <tspan class=\"displacy-word\" fill=\"currentColor\" x=\"2855\">is</tspan>\n",
              "    <tspan class=\"displacy-tag\" dy=\"2em\" fill=\"currentColor\" x=\"2855\">AUX</tspan>\n",
              "</text>\n",
              "\n",
              "<text class=\"displacy-token\" fill=\"currentColor\" text-anchor=\"middle\" y=\"642.0\">\n",
              "    <tspan class=\"displacy-word\" fill=\"currentColor\" x=\"2940\">among</tspan>\n",
              "    <tspan class=\"displacy-tag\" dy=\"2em\" fill=\"currentColor\" x=\"2940\">ADP</tspan>\n",
              "</text>\n",
              "\n",
              "<text class=\"displacy-token\" fill=\"currentColor\" text-anchor=\"middle\" y=\"642.0\">\n",
              "    <tspan class=\"displacy-word\" fill=\"currentColor\" x=\"3025\">the</tspan>\n",
              "    <tspan class=\"displacy-tag\" dy=\"2em\" fill=\"currentColor\" x=\"3025\">DET</tspan>\n",
              "</text>\n",
              "\n",
              "<text class=\"displacy-token\" fill=\"currentColor\" text-anchor=\"middle\" y=\"642.0\">\n",
              "    <tspan class=\"displacy-word\" fill=\"currentColor\" x=\"3110\">biggest</tspan>\n",
              "    <tspan class=\"displacy-tag\" dy=\"2em\" fill=\"currentColor\" x=\"3110\">ADJ</tspan>\n",
              "</text>\n",
              "\n",
              "<text class=\"displacy-token\" fill=\"currentColor\" text-anchor=\"middle\" y=\"642.0\">\n",
              "    <tspan class=\"displacy-word\" fill=\"currentColor\" x=\"3195\">donations</tspan>\n",
              "    <tspan class=\"displacy-tag\" dy=\"2em\" fill=\"currentColor\" x=\"3195\">NOUN</tspan>\n",
              "</text>\n",
              "\n",
              "<text class=\"displacy-token\" fill=\"currentColor\" text-anchor=\"middle\" y=\"642.0\">\n",
              "    <tspan class=\"displacy-word\" fill=\"currentColor\" x=\"3280\">this</tspan>\n",
              "    <tspan class=\"displacy-tag\" dy=\"2em\" fill=\"currentColor\" x=\"3280\">DET</tspan>\n",
              "</text>\n",
              "\n",
              "<text class=\"displacy-token\" fill=\"currentColor\" text-anchor=\"middle\" y=\"642.0\">\n",
              "    <tspan class=\"displacy-word\" fill=\"currentColor\" x=\"3365\">\n",
              "</tspan>\n",
              "    <tspan class=\"displacy-tag\" dy=\"2em\" fill=\"currentColor\" x=\"3365\">SPACE</tspan>\n",
              "</text>\n",
              "\n",
              "<text class=\"displacy-token\" fill=\"currentColor\" text-anchor=\"middle\" y=\"642.0\">\n",
              "    <tspan class=\"displacy-word\" fill=\"currentColor\" x=\"3450\">election</tspan>\n",
              "    <tspan class=\"displacy-tag\" dy=\"2em\" fill=\"currentColor\" x=\"3450\">NOUN</tspan>\n",
              "</text>\n",
              "\n",
              "<text class=\"displacy-token\" fill=\"currentColor\" text-anchor=\"middle\" y=\"642.0\">\n",
              "    <tspan class=\"displacy-word\" fill=\"currentColor\" x=\"3535\">cycle.</tspan>\n",
              "    <tspan class=\"displacy-tag\" dy=\"2em\" fill=\"currentColor\" x=\"3535\">NOUN</tspan>\n",
              "</text>\n",
              "\n",
              "<text class=\"displacy-token\" fill=\"currentColor\" text-anchor=\"middle\" y=\"642.0\">\n",
              "    <tspan class=\"displacy-word\" fill=\"currentColor\" x=\"3620\">He</tspan>\n",
              "    <tspan class=\"displacy-tag\" dy=\"2em\" fill=\"currentColor\" x=\"3620\">PRON</tspan>\n",
              "</text>\n",
              "\n",
              "<text class=\"displacy-token\" fill=\"currentColor\" text-anchor=\"middle\" y=\"642.0\">\n",
              "    <tspan class=\"displacy-word\" fill=\"currentColor\" x=\"3705\">owns</tspan>\n",
              "    <tspan class=\"displacy-tag\" dy=\"2em\" fill=\"currentColor\" x=\"3705\">VERB</tspan>\n",
              "</text>\n",
              "\n",
              "<text class=\"displacy-token\" fill=\"currentColor\" text-anchor=\"middle\" y=\"642.0\">\n",
              "    <tspan class=\"displacy-word\" fill=\"currentColor\" x=\"3790\">the</tspan>\n",
              "    <tspan class=\"displacy-tag\" dy=\"2em\" fill=\"currentColor\" x=\"3790\">DET</tspan>\n",
              "</text>\n",
              "\n",
              "<text class=\"displacy-token\" fill=\"currentColor\" text-anchor=\"middle\" y=\"642.0\">\n",
              "    <tspan class=\"displacy-word\" fill=\"currentColor\" x=\"3875\">largest</tspan>\n",
              "    <tspan class=\"displacy-tag\" dy=\"2em\" fill=\"currentColor\" x=\"3875\">ADJ</tspan>\n",
              "</text>\n",
              "\n",
              "<text class=\"displacy-token\" fill=\"currentColor\" text-anchor=\"middle\" y=\"642.0\">\n",
              "    <tspan class=\"displacy-word\" fill=\"currentColor\" x=\"3960\">regional</tspan>\n",
              "    <tspan class=\"displacy-tag\" dy=\"2em\" fill=\"currentColor\" x=\"3960\">ADJ</tspan>\n",
              "</text>\n",
              "\n",
              "<text class=\"displacy-token\" fill=\"currentColor\" text-anchor=\"middle\" y=\"642.0\">\n",
              "    <tspan class=\"displacy-word\" fill=\"currentColor\" x=\"4045\">railroad</tspan>\n",
              "    <tspan class=\"displacy-tag\" dy=\"2em\" fill=\"currentColor\" x=\"4045\">NOUN</tspan>\n",
              "</text>\n",
              "\n",
              "<text class=\"displacy-token\" fill=\"currentColor\" text-anchor=\"middle\" y=\"642.0\">\n",
              "    <tspan class=\"displacy-word\" fill=\"currentColor\" x=\"4130\">in</tspan>\n",
              "    <tspan class=\"displacy-tag\" dy=\"2em\" fill=\"currentColor\" x=\"4130\">ADP</tspan>\n",
              "</text>\n",
              "\n",
              "<text class=\"displacy-token\" fill=\"currentColor\" text-anchor=\"middle\" y=\"642.0\">\n",
              "    <tspan class=\"displacy-word\" fill=\"currentColor\" x=\"4215\">North</tspan>\n",
              "    <tspan class=\"displacy-tag\" dy=\"2em\" fill=\"currentColor\" x=\"4215\">PROPN</tspan>\n",
              "</text>\n",
              "\n",
              "<text class=\"displacy-token\" fill=\"currentColor\" text-anchor=\"middle\" y=\"642.0\">\n",
              "    <tspan class=\"displacy-word\" fill=\"currentColor\" x=\"4300\">America,</tspan>\n",
              "    <tspan class=\"displacy-tag\" dy=\"2em\" fill=\"currentColor\" x=\"4300\">PROPN</tspan>\n",
              "</text>\n",
              "\n",
              "<text class=\"displacy-token\" fill=\"currentColor\" text-anchor=\"middle\" y=\"642.0\">\n",
              "    <tspan class=\"displacy-word\" fill=\"currentColor\" x=\"4385\">\n",
              " </tspan>\n",
              "    <tspan class=\"displacy-tag\" dy=\"2em\" fill=\"currentColor\" x=\"4385\">SPACE</tspan>\n",
              "</text>\n",
              "\n",
              "<text class=\"displacy-token\" fill=\"currentColor\" text-anchor=\"middle\" y=\"642.0\">\n",
              "    <tspan class=\"displacy-word\" fill=\"currentColor\" x=\"4470\">Pan</tspan>\n",
              "    <tspan class=\"displacy-tag\" dy=\"2em\" fill=\"currentColor\" x=\"4470\">PROPN</tspan>\n",
              "</text>\n",
              "\n",
              "<text class=\"displacy-token\" fill=\"currentColor\" text-anchor=\"middle\" y=\"642.0\">\n",
              "    <tspan class=\"displacy-word\" fill=\"currentColor\" x=\"4555\">Am</tspan>\n",
              "    <tspan class=\"displacy-tag\" dy=\"2em\" fill=\"currentColor\" x=\"4555\">PROPN</tspan>\n",
              "</text>\n",
              "\n",
              "<text class=\"displacy-token\" fill=\"currentColor\" text-anchor=\"middle\" y=\"642.0\">\n",
              "    <tspan class=\"displacy-word\" fill=\"currentColor\" x=\"4640\">Railways,</tspan>\n",
              "    <tspan class=\"displacy-tag\" dy=\"2em\" fill=\"currentColor\" x=\"4640\">PROPN</tspan>\n",
              "</text>\n",
              "\n",
              "<text class=\"displacy-token\" fill=\"currentColor\" text-anchor=\"middle\" y=\"642.0\">\n",
              "    <tspan class=\"displacy-word\" fill=\"currentColor\" x=\"4725\">which</tspan>\n",
              "    <tspan class=\"displacy-tag\" dy=\"2em\" fill=\"currentColor\" x=\"4725\">DET</tspan>\n",
              "</text>\n",
              "\n",
              "<text class=\"displacy-token\" fill=\"currentColor\" text-anchor=\"middle\" y=\"642.0\">\n",
              "    <tspan class=\"displacy-word\" fill=\"currentColor\" x=\"4810\">went</tspan>\n",
              "    <tspan class=\"displacy-tag\" dy=\"2em\" fill=\"currentColor\" x=\"4810\">VERB</tspan>\n",
              "</text>\n",
              "\n",
              "<text class=\"displacy-token\" fill=\"currentColor\" text-anchor=\"middle\" y=\"642.0\">\n",
              "    <tspan class=\"displacy-word\" fill=\"currentColor\" x=\"4895\">up</tspan>\n",
              "    <tspan class=\"displacy-tag\" dy=\"2em\" fill=\"currentColor\" x=\"4895\">ADP</tspan>\n",
              "</text>\n",
              "\n",
              "<text class=\"displacy-token\" fill=\"currentColor\" text-anchor=\"middle\" y=\"642.0\">\n",
              "    <tspan class=\"displacy-word\" fill=\"currentColor\" x=\"4980\">for</tspan>\n",
              "    <tspan class=\"displacy-tag\" dy=\"2em\" fill=\"currentColor\" x=\"4980\">ADP</tspan>\n",
              "</text>\n",
              "\n",
              "<text class=\"displacy-token\" fill=\"currentColor\" text-anchor=\"middle\" y=\"642.0\">\n",
              "    <tspan class=\"displacy-word\" fill=\"currentColor\" x=\"5065\">sale</tspan>\n",
              "    <tspan class=\"displacy-tag\" dy=\"2em\" fill=\"currentColor\" x=\"5065\">NOUN</tspan>\n",
              "</text>\n",
              "\n",
              "<text class=\"displacy-token\" fill=\"currentColor\" text-anchor=\"middle\" y=\"642.0\">\n",
              "    <tspan class=\"displacy-word\" fill=\"currentColor\" x=\"5150\">in</tspan>\n",
              "    <tspan class=\"displacy-tag\" dy=\"2em\" fill=\"currentColor\" x=\"5150\">ADP</tspan>\n",
              "</text>\n",
              "\n",
              "<text class=\"displacy-token\" fill=\"currentColor\" text-anchor=\"middle\" y=\"642.0\">\n",
              "    <tspan class=\"displacy-word\" fill=\"currentColor\" x=\"5235\">July.</tspan>\n",
              "    <tspan class=\"displacy-tag\" dy=\"2em\" fill=\"currentColor\" x=\"5235\">PROPN</tspan>\n",
              "</text>\n",
              "\n",
              "<text class=\"displacy-token\" fill=\"currentColor\" text-anchor=\"middle\" y=\"642.0\">\n",
              "    <tspan class=\"displacy-word\" fill=\"currentColor\" x=\"5320\">He</tspan>\n",
              "    <tspan class=\"displacy-tag\" dy=\"2em\" fill=\"currentColor\" x=\"5320\">PRON</tspan>\n",
              "</text>\n",
              "\n",
              "<text class=\"displacy-token\" fill=\"currentColor\" text-anchor=\"middle\" y=\"642.0\">\n",
              "    <tspan class=\"displacy-word\" fill=\"currentColor\" x=\"5405\">'s</tspan>\n",
              "    <tspan class=\"displacy-tag\" dy=\"2em\" fill=\"currentColor\" x=\"5405\">AUX</tspan>\n",
              "</text>\n",
              "\n",
              "<text class=\"displacy-token\" fill=\"currentColor\" text-anchor=\"middle\" y=\"642.0\">\n",
              "    <tspan class=\"displacy-word\" fill=\"currentColor\" x=\"5490\">been</tspan>\n",
              "    <tspan class=\"displacy-tag\" dy=\"2em\" fill=\"currentColor\" x=\"5490\">AUX</tspan>\n",
              "</text>\n",
              "\n",
              "<text class=\"displacy-token\" fill=\"currentColor\" text-anchor=\"middle\" y=\"642.0\">\n",
              "    <tspan class=\"displacy-word\" fill=\"currentColor\" x=\"5575\">notably</tspan>\n",
              "    <tspan class=\"displacy-tag\" dy=\"2em\" fill=\"currentColor\" x=\"5575\">ADV</tspan>\n",
              "</text>\n",
              "\n",
              "<text class=\"displacy-token\" fill=\"currentColor\" text-anchor=\"middle\" y=\"642.0\">\n",
              "    <tspan class=\"displacy-word\" fill=\"currentColor\" x=\"5660\">reclusive</tspan>\n",
              "    <tspan class=\"displacy-tag\" dy=\"2em\" fill=\"currentColor\" x=\"5660\">ADJ</tspan>\n",
              "</text>\n",
              "\n",
              "<text class=\"displacy-token\" fill=\"currentColor\" text-anchor=\"middle\" y=\"642.0\">\n",
              "    <tspan class=\"displacy-word\" fill=\"currentColor\" x=\"5745\">and</tspan>\n",
              "    <tspan class=\"displacy-tag\" dy=\"2em\" fill=\"currentColor\" x=\"5745\">CCONJ</tspan>\n",
              "</text>\n",
              "\n",
              "<text class=\"displacy-token\" fill=\"currentColor\" text-anchor=\"middle\" y=\"642.0\">\n",
              "    <tspan class=\"displacy-word\" fill=\"currentColor\" x=\"5830\">absent</tspan>\n",
              "    <tspan class=\"displacy-tag\" dy=\"2em\" fill=\"currentColor\" x=\"5830\">ADJ</tspan>\n",
              "</text>\n",
              "\n",
              "<text class=\"displacy-token\" fill=\"currentColor\" text-anchor=\"middle\" y=\"642.0\">\n",
              "    <tspan class=\"displacy-word\" fill=\"currentColor\" x=\"5915\">from</tspan>\n",
              "    <tspan class=\"displacy-tag\" dy=\"2em\" fill=\"currentColor\" x=\"5915\">ADP</tspan>\n",
              "</text>\n",
              "\n",
              "<text class=\"displacy-token\" fill=\"currentColor\" text-anchor=\"middle\" y=\"642.0\">\n",
              "    <tspan class=\"displacy-word\" fill=\"currentColor\" x=\"6000\">politics.</tspan>\n",
              "    <tspan class=\"displacy-tag\" dy=\"2em\" fill=\"currentColor\" x=\"6000\">NOUN</tspan>\n",
              "</text>\n",
              "\n",
              "<text class=\"displacy-token\" fill=\"currentColor\" text-anchor=\"middle\" y=\"642.0\">\n",
              "    <tspan class=\"displacy-word\" fill=\"currentColor\" x=\"6085\">\n",
              "</tspan>\n",
              "    <tspan class=\"displacy-tag\" dy=\"2em\" fill=\"currentColor\" x=\"6085\">SPACE</tspan>\n",
              "</text>\n",
              "\n",
              "<text class=\"displacy-token\" fill=\"currentColor\" text-anchor=\"middle\" y=\"642.0\">\n",
              "    <tspan class=\"displacy-word\" fill=\"currentColor\" x=\"6170\">Republican</tspan>\n",
              "    <tspan class=\"displacy-tag\" dy=\"2em\" fill=\"currentColor\" x=\"6170\">ADJ</tspan>\n",
              "</text>\n",
              "\n",
              "<text class=\"displacy-token\" fill=\"currentColor\" text-anchor=\"middle\" y=\"642.0\">\n",
              "    <tspan class=\"displacy-word\" fill=\"currentColor\" x=\"6255\">operatives</tspan>\n",
              "    <tspan class=\"displacy-tag\" dy=\"2em\" fill=\"currentColor\" x=\"6255\">NOUN</tspan>\n",
              "</text>\n",
              "\n",
              "<text class=\"displacy-token\" fill=\"currentColor\" text-anchor=\"middle\" y=\"642.0\">\n",
              "    <tspan class=\"displacy-word\" fill=\"currentColor\" x=\"6340\">reportedly</tspan>\n",
              "    <tspan class=\"displacy-tag\" dy=\"2em\" fill=\"currentColor\" x=\"6340\">ADV</tspan>\n",
              "</text>\n",
              "\n",
              "<text class=\"displacy-token\" fill=\"currentColor\" text-anchor=\"middle\" y=\"642.0\">\n",
              "    <tspan class=\"displacy-word\" fill=\"currentColor\" x=\"6425\">had</tspan>\n",
              "    <tspan class=\"displacy-tag\" dy=\"2em\" fill=\"currentColor\" x=\"6425\">AUX</tspan>\n",
              "</text>\n",
              "\n",
              "<text class=\"displacy-token\" fill=\"currentColor\" text-anchor=\"middle\" y=\"642.0\">\n",
              "    <tspan class=\"displacy-word\" fill=\"currentColor\" x=\"6510\">to</tspan>\n",
              "    <tspan class=\"displacy-tag\" dy=\"2em\" fill=\"currentColor\" x=\"6510\">PART</tspan>\n",
              "</text>\n",
              "\n",
              "<text class=\"displacy-token\" fill=\"currentColor\" text-anchor=\"middle\" y=\"642.0\">\n",
              "    <tspan class=\"displacy-word\" fill=\"currentColor\" x=\"6595\">look</tspan>\n",
              "    <tspan class=\"displacy-tag\" dy=\"2em\" fill=\"currentColor\" x=\"6595\">VERB</tspan>\n",
              "</text>\n",
              "\n",
              "<text class=\"displacy-token\" fill=\"currentColor\" text-anchor=\"middle\" y=\"642.0\">\n",
              "    <tspan class=\"displacy-word\" fill=\"currentColor\" x=\"6680\">his</tspan>\n",
              "    <tspan class=\"displacy-tag\" dy=\"2em\" fill=\"currentColor\" x=\"6680\">DET</tspan>\n",
              "</text>\n",
              "\n",
              "<text class=\"displacy-token\" fill=\"currentColor\" text-anchor=\"middle\" y=\"642.0\">\n",
              "    <tspan class=\"displacy-word\" fill=\"currentColor\" x=\"6765\">name</tspan>\n",
              "    <tspan class=\"displacy-tag\" dy=\"2em\" fill=\"currentColor\" x=\"6765\">NOUN</tspan>\n",
              "</text>\n",
              "\n",
              "<text class=\"displacy-token\" fill=\"currentColor\" text-anchor=\"middle\" y=\"642.0\">\n",
              "    <tspan class=\"displacy-word\" fill=\"currentColor\" x=\"6850\">up</tspan>\n",
              "    <tspan class=\"displacy-tag\" dy=\"2em\" fill=\"currentColor\" x=\"6850\">ADP</tspan>\n",
              "</text>\n",
              "\n",
              "<text class=\"displacy-token\" fill=\"currentColor\" text-anchor=\"middle\" y=\"642.0\">\n",
              "    <tspan class=\"displacy-word\" fill=\"currentColor\" x=\"6935\">on</tspan>\n",
              "    <tspan class=\"displacy-tag\" dy=\"2em\" fill=\"currentColor\" x=\"6935\">ADP</tspan>\n",
              "</text>\n",
              "\n",
              "<text class=\"displacy-token\" fill=\"currentColor\" text-anchor=\"middle\" y=\"642.0\">\n",
              "    <tspan class=\"displacy-word\" fill=\"currentColor\" x=\"7020\">Google</tspan>\n",
              "    <tspan class=\"displacy-tag\" dy=\"2em\" fill=\"currentColor\" x=\"7020\">PROPN</tspan>\n",
              "</text>\n",
              "\n",
              "<text class=\"displacy-token\" fill=\"currentColor\" text-anchor=\"middle\" y=\"642.0\">\n",
              "    <tspan class=\"displacy-word\" fill=\"currentColor\" x=\"7105\">when</tspan>\n",
              "    <tspan class=\"displacy-tag\" dy=\"2em\" fill=\"currentColor\" x=\"7105\">ADV</tspan>\n",
              "</text>\n",
              "\n",
              "<text class=\"displacy-token\" fill=\"currentColor\" text-anchor=\"middle\" y=\"642.0\">\n",
              "    <tspan class=\"displacy-word\" fill=\"currentColor\" x=\"7190\">he</tspan>\n",
              "    <tspan class=\"displacy-tag\" dy=\"2em\" fill=\"currentColor\" x=\"7190\">PRON</tspan>\n",
              "</text>\n",
              "\n",
              "<text class=\"displacy-token\" fill=\"currentColor\" text-anchor=\"middle\" y=\"642.0\">\n",
              "    <tspan class=\"displacy-word\" fill=\"currentColor\" x=\"7275\">came</tspan>\n",
              "    <tspan class=\"displacy-tag\" dy=\"2em\" fill=\"currentColor\" x=\"7275\">VERB</tspan>\n",
              "</text>\n",
              "\n",
              "<text class=\"displacy-token\" fill=\"currentColor\" text-anchor=\"middle\" y=\"642.0\">\n",
              "    <tspan class=\"displacy-word\" fill=\"currentColor\" x=\"7360\">forward</tspan>\n",
              "    <tspan class=\"displacy-tag\" dy=\"2em\" fill=\"currentColor\" x=\"7360\">ADV</tspan>\n",
              "</text>\n",
              "\n",
              "<text class=\"displacy-token\" fill=\"currentColor\" text-anchor=\"middle\" y=\"642.0\">\n",
              "    <tspan class=\"displacy-word\" fill=\"currentColor\" x=\"7445\">to</tspan>\n",
              "    <tspan class=\"displacy-tag\" dy=\"2em\" fill=\"currentColor\" x=\"7445\">PART</tspan>\n",
              "</text>\n",
              "\n",
              "<text class=\"displacy-token\" fill=\"currentColor\" text-anchor=\"middle\" y=\"642.0\">\n",
              "    <tspan class=\"displacy-word\" fill=\"currentColor\" x=\"7530\">help.</tspan>\n",
              "    <tspan class=\"displacy-tag\" dy=\"2em\" fill=\"currentColor\" x=\"7530\">VERB</tspan>\n",
              "</text>\n",
              "\n",
              "<text class=\"displacy-token\" fill=\"currentColor\" text-anchor=\"middle\" y=\"642.0\">\n",
              "    <tspan class=\"displacy-word\" fill=\"currentColor\" x=\"7615\">\n",
              "</tspan>\n",
              "    <tspan class=\"displacy-tag\" dy=\"2em\" fill=\"currentColor\" x=\"7615\">SPACE</tspan>\n",
              "</text>\n",
              "\n",
              "<text class=\"displacy-token\" fill=\"currentColor\" text-anchor=\"middle\" y=\"642.0\">\n",
              "    <tspan class=\"displacy-word\" fill=\"currentColor\" x=\"7700\">The</tspan>\n",
              "    <tspan class=\"displacy-tag\" dy=\"2em\" fill=\"currentColor\" x=\"7700\">DET</tspan>\n",
              "</text>\n",
              "\n",
              "<text class=\"displacy-token\" fill=\"currentColor\" text-anchor=\"middle\" y=\"642.0\">\n",
              "    <tspan class=\"displacy-word\" fill=\"currentColor\" x=\"7785\">biggest</tspan>\n",
              "    <tspan class=\"displacy-tag\" dy=\"2em\" fill=\"currentColor\" x=\"7785\">ADJ</tspan>\n",
              "</text>\n",
              "\n",
              "<text class=\"displacy-token\" fill=\"currentColor\" text-anchor=\"middle\" y=\"642.0\">\n",
              "    <tspan class=\"displacy-word\" fill=\"currentColor\" x=\"7870\">industries</tspan>\n",
              "    <tspan class=\"displacy-tag\" dy=\"2em\" fill=\"currentColor\" x=\"7870\">NOUN</tspan>\n",
              "</text>\n",
              "\n",
              "<text class=\"displacy-token\" fill=\"currentColor\" text-anchor=\"middle\" y=\"642.0\">\n",
              "    <tspan class=\"displacy-word\" fill=\"currentColor\" x=\"7955\">represented</tspan>\n",
              "    <tspan class=\"displacy-tag\" dy=\"2em\" fill=\"currentColor\" x=\"7955\">VERB</tspan>\n",
              "</text>\n",
              "\n",
              "<text class=\"displacy-token\" fill=\"currentColor\" text-anchor=\"middle\" y=\"642.0\">\n",
              "    <tspan class=\"displacy-word\" fill=\"currentColor\" x=\"8040\">among</tspan>\n",
              "    <tspan class=\"displacy-tag\" dy=\"2em\" fill=\"currentColor\" x=\"8040\">ADP</tspan>\n",
              "</text>\n",
              "\n",
              "<text class=\"displacy-token\" fill=\"currentColor\" text-anchor=\"middle\" y=\"642.0\">\n",
              "    <tspan class=\"displacy-word\" fill=\"currentColor\" x=\"8125\">Trump</tspan>\n",
              "    <tspan class=\"displacy-tag\" dy=\"2em\" fill=\"currentColor\" x=\"8125\">ADJ</tspan>\n",
              "</text>\n",
              "\n",
              "<text class=\"displacy-token\" fill=\"currentColor\" text-anchor=\"middle\" y=\"642.0\">\n",
              "    <tspan class=\"displacy-word\" fill=\"currentColor\" x=\"8210\">donors</tspan>\n",
              "    <tspan class=\"displacy-tag\" dy=\"2em\" fill=\"currentColor\" x=\"8210\">NOUN</tspan>\n",
              "</text>\n",
              "\n",
              "<text class=\"displacy-token\" fill=\"currentColor\" text-anchor=\"middle\" y=\"642.0\">\n",
              "    <tspan class=\"displacy-word\" fill=\"currentColor\" x=\"8295\">this</tspan>\n",
              "    <tspan class=\"displacy-tag\" dy=\"2em\" fill=\"currentColor\" x=\"8295\">DET</tspan>\n",
              "</text>\n",
              "\n",
              "<text class=\"displacy-token\" fill=\"currentColor\" text-anchor=\"middle\" y=\"642.0\">\n",
              "    <tspan class=\"displacy-word\" fill=\"currentColor\" x=\"8380\">cycle</tspan>\n",
              "    <tspan class=\"displacy-tag\" dy=\"2em\" fill=\"currentColor\" x=\"8380\">NOUN</tspan>\n",
              "</text>\n",
              "\n",
              "<text class=\"displacy-token\" fill=\"currentColor\" text-anchor=\"middle\" y=\"642.0\">\n",
              "    <tspan class=\"displacy-word\" fill=\"currentColor\" x=\"8465\">overall</tspan>\n",
              "    <tspan class=\"displacy-tag\" dy=\"2em\" fill=\"currentColor\" x=\"8465\">ADV</tspan>\n",
              "</text>\n",
              "\n",
              "<text class=\"displacy-token\" fill=\"currentColor\" text-anchor=\"middle\" y=\"642.0\">\n",
              "    <tspan class=\"displacy-word\" fill=\"currentColor\" x=\"8550\">were</tspan>\n",
              "    <tspan class=\"displacy-tag\" dy=\"2em\" fill=\"currentColor\" x=\"8550\">AUX</tspan>\n",
              "</text>\n",
              "\n",
              "<text class=\"displacy-token\" fill=\"currentColor\" text-anchor=\"middle\" y=\"642.0\">\n",
              "    <tspan class=\"displacy-word\" fill=\"currentColor\" x=\"8635\">Health</tspan>\n",
              "    <tspan class=\"displacy-tag\" dy=\"2em\" fill=\"currentColor\" x=\"8635\">PROPN</tspan>\n",
              "</text>\n",
              "\n",
              "<text class=\"displacy-token\" fill=\"currentColor\" text-anchor=\"middle\" y=\"642.0\">\n",
              "    <tspan class=\"displacy-word\" fill=\"currentColor\" x=\"8720\">Services,</tspan>\n",
              "    <tspan class=\"displacy-tag\" dy=\"2em\" fill=\"currentColor\" x=\"8720\">PROPN</tspan>\n",
              "</text>\n",
              "\n",
              "<text class=\"displacy-token\" fill=\"currentColor\" text-anchor=\"middle\" y=\"642.0\">\n",
              "    <tspan class=\"displacy-word\" fill=\"currentColor\" x=\"8805\">\n",
              "</tspan>\n",
              "    <tspan class=\"displacy-tag\" dy=\"2em\" fill=\"currentColor\" x=\"8805\">SPACE</tspan>\n",
              "</text>\n",
              "\n",
              "<text class=\"displacy-token\" fill=\"currentColor\" text-anchor=\"middle\" y=\"642.0\">\n",
              "    <tspan class=\"displacy-word\" fill=\"currentColor\" x=\"8890\">Casinos/</tspan>\n",
              "    <tspan class=\"displacy-tag\" dy=\"2em\" fill=\"currentColor\" x=\"8890\">PROPN</tspan>\n",
              "</text>\n",
              "\n",
              "<text class=\"displacy-token\" fill=\"currentColor\" text-anchor=\"middle\" y=\"642.0\">\n",
              "    <tspan class=\"displacy-word\" fill=\"currentColor\" x=\"8975\">Gambling</tspan>\n",
              "    <tspan class=\"displacy-tag\" dy=\"2em\" fill=\"currentColor\" x=\"8975\">PROPN</tspan>\n",
              "</text>\n",
              "\n",
              "<text class=\"displacy-token\" fill=\"currentColor\" text-anchor=\"middle\" y=\"642.0\">\n",
              "    <tspan class=\"displacy-word\" fill=\"currentColor\" x=\"9060\">and</tspan>\n",
              "    <tspan class=\"displacy-tag\" dy=\"2em\" fill=\"currentColor\" x=\"9060\">CCONJ</tspan>\n",
              "</text>\n",
              "\n",
              "<text class=\"displacy-token\" fill=\"currentColor\" text-anchor=\"middle\" y=\"642.0\">\n",
              "    <tspan class=\"displacy-word\" fill=\"currentColor\" x=\"9145\">Finance.</tspan>\n",
              "    <tspan class=\"displacy-tag\" dy=\"2em\" fill=\"currentColor\" x=\"9145\">PROPN</tspan>\n",
              "</text>\n",
              "\n",
              "<text class=\"displacy-token\" fill=\"currentColor\" text-anchor=\"middle\" y=\"642.0\">\n",
              "    <tspan class=\"displacy-word\" fill=\"currentColor\" x=\"9230\">\n",
              " </tspan>\n",
              "    <tspan class=\"displacy-tag\" dy=\"2em\" fill=\"currentColor\" x=\"9230\">SPACE</tspan>\n",
              "</text>\n",
              "\n",
              "<text class=\"displacy-token\" fill=\"currentColor\" text-anchor=\"middle\" y=\"642.0\">\n",
              "    <tspan class=\"displacy-word\" fill=\"currentColor\" x=\"9315\">Only</tspan>\n",
              "    <tspan class=\"displacy-tag\" dy=\"2em\" fill=\"currentColor\" x=\"9315\">ADV</tspan>\n",
              "</text>\n",
              "\n",
              "<text class=\"displacy-token\" fill=\"currentColor\" text-anchor=\"middle\" y=\"642.0\">\n",
              "    <tspan class=\"displacy-word\" fill=\"currentColor\" x=\"9400\">$</tspan>\n",
              "    <tspan class=\"displacy-tag\" dy=\"2em\" fill=\"currentColor\" x=\"9400\">SYM</tspan>\n",
              "</text>\n",
              "\n",
              "<text class=\"displacy-token\" fill=\"currentColor\" text-anchor=\"middle\" y=\"642.0\">\n",
              "    <tspan class=\"displacy-word\" fill=\"currentColor\" x=\"9485\">8,021</tspan>\n",
              "    <tspan class=\"displacy-tag\" dy=\"2em\" fill=\"currentColor\" x=\"9485\">NUM</tspan>\n",
              "</text>\n",
              "\n",
              "<text class=\"displacy-token\" fill=\"currentColor\" text-anchor=\"middle\" y=\"642.0\">\n",
              "    <tspan class=\"displacy-word\" fill=\"currentColor\" x=\"9570\">came</tspan>\n",
              "    <tspan class=\"displacy-tag\" dy=\"2em\" fill=\"currentColor\" x=\"9570\">VERB</tspan>\n",
              "</text>\n",
              "\n",
              "<text class=\"displacy-token\" fill=\"currentColor\" text-anchor=\"middle\" y=\"642.0\">\n",
              "    <tspan class=\"displacy-word\" fill=\"currentColor\" x=\"9655\">out</tspan>\n",
              "    <tspan class=\"displacy-tag\" dy=\"2em\" fill=\"currentColor\" x=\"9655\">SCONJ</tspan>\n",
              "</text>\n",
              "\n",
              "<text class=\"displacy-token\" fill=\"currentColor\" text-anchor=\"middle\" y=\"642.0\">\n",
              "    <tspan class=\"displacy-word\" fill=\"currentColor\" x=\"9740\">of</tspan>\n",
              "    <tspan class=\"displacy-tag\" dy=\"2em\" fill=\"currentColor\" x=\"9740\">ADP</tspan>\n",
              "</text>\n",
              "\n",
              "<text class=\"displacy-token\" fill=\"currentColor\" text-anchor=\"middle\" y=\"642.0\">\n",
              "    <tspan class=\"displacy-word\" fill=\"currentColor\" x=\"9825\">the</tspan>\n",
              "    <tspan class=\"displacy-tag\" dy=\"2em\" fill=\"currentColor\" x=\"9825\">DET</tspan>\n",
              "</text>\n",
              "\n",
              "<text class=\"displacy-token\" fill=\"currentColor\" text-anchor=\"middle\" y=\"642.0\">\n",
              "    <tspan class=\"displacy-word\" fill=\"currentColor\" x=\"9910\">former</tspan>\n",
              "    <tspan class=\"displacy-tag\" dy=\"2em\" fill=\"currentColor\" x=\"9910\">ADJ</tspan>\n",
              "</text>\n",
              "\n",
              "<text class=\"displacy-token\" fill=\"currentColor\" text-anchor=\"middle\" y=\"642.0\">\n",
              "    <tspan class=\"displacy-word\" fill=\"currentColor\" x=\"9995\">president</tspan>\n",
              "    <tspan class=\"displacy-tag\" dy=\"2em\" fill=\"currentColor\" x=\"9995\">NOUN</tspan>\n",
              "</text>\n",
              "\n",
              "<text class=\"displacy-token\" fill=\"currentColor\" text-anchor=\"middle\" y=\"642.0\">\n",
              "    <tspan class=\"displacy-word\" fill=\"currentColor\" x=\"10080\">'s</tspan>\n",
              "    <tspan class=\"displacy-tag\" dy=\"2em\" fill=\"currentColor\" x=\"10080\">PART</tspan>\n",
              "</text>\n",
              "\n",
              "<text class=\"displacy-token\" fill=\"currentColor\" text-anchor=\"middle\" y=\"642.0\">\n",
              "    <tspan class=\"displacy-word\" fill=\"currentColor\" x=\"10165\">pockets</tspan>\n",
              "    <tspan class=\"displacy-tag\" dy=\"2em\" fill=\"currentColor\" x=\"10165\">NOUN</tspan>\n",
              "</text>\n",
              "\n",
              "<text class=\"displacy-token\" fill=\"currentColor\" text-anchor=\"middle\" y=\"642.0\">\n",
              "    <tspan class=\"displacy-word\" fill=\"currentColor\" x=\"10250\">this</tspan>\n",
              "    <tspan class=\"displacy-tag\" dy=\"2em\" fill=\"currentColor\" x=\"10250\">DET</tspan>\n",
              "</text>\n",
              "\n",
              "<text class=\"displacy-token\" fill=\"currentColor\" text-anchor=\"middle\" y=\"642.0\">\n",
              "    <tspan class=\"displacy-word\" fill=\"currentColor\" x=\"10335\">time</tspan>\n",
              "    <tspan class=\"displacy-tag\" dy=\"2em\" fill=\"currentColor\" x=\"10335\">NOUN</tspan>\n",
              "</text>\n",
              "\n",
              "<text class=\"displacy-token\" fill=\"currentColor\" text-anchor=\"middle\" y=\"642.0\">\n",
              "    <tspan class=\"displacy-word\" fill=\"currentColor\" x=\"10420\">around,</tspan>\n",
              "    <tspan class=\"displacy-tag\" dy=\"2em\" fill=\"currentColor\" x=\"10420\">ADV</tspan>\n",
              "</text>\n",
              "\n",
              "<text class=\"displacy-token\" fill=\"currentColor\" text-anchor=\"middle\" y=\"642.0\">\n",
              "    <tspan class=\"displacy-word\" fill=\"currentColor\" x=\"10505\">versus</tspan>\n",
              "    <tspan class=\"displacy-tag\" dy=\"2em\" fill=\"currentColor\" x=\"10505\">ADP</tspan>\n",
              "</text>\n",
              "\n",
              "<text class=\"displacy-token\" fill=\"currentColor\" text-anchor=\"middle\" y=\"642.0\">\n",
              "    <tspan class=\"displacy-word\" fill=\"currentColor\" x=\"10590\">$</tspan>\n",
              "    <tspan class=\"displacy-tag\" dy=\"2em\" fill=\"currentColor\" x=\"10590\">SYM</tspan>\n",
              "</text>\n",
              "\n",
              "<text class=\"displacy-token\" fill=\"currentColor\" text-anchor=\"middle\" y=\"642.0\">\n",
              "    <tspan class=\"displacy-word\" fill=\"currentColor\" x=\"10675\">66</tspan>\n",
              "    <tspan class=\"displacy-tag\" dy=\"2em\" fill=\"currentColor\" x=\"10675\">NUM</tspan>\n",
              "</text>\n",
              "\n",
              "<text class=\"displacy-token\" fill=\"currentColor\" text-anchor=\"middle\" y=\"642.0\">\n",
              "    <tspan class=\"displacy-word\" fill=\"currentColor\" x=\"10760\">million</tspan>\n",
              "    <tspan class=\"displacy-tag\" dy=\"2em\" fill=\"currentColor\" x=\"10760\">NUM</tspan>\n",
              "</text>\n",
              "\n",
              "<text class=\"displacy-token\" fill=\"currentColor\" text-anchor=\"middle\" y=\"642.0\">\n",
              "    <tspan class=\"displacy-word\" fill=\"currentColor\" x=\"10845\">in</tspan>\n",
              "    <tspan class=\"displacy-tag\" dy=\"2em\" fill=\"currentColor\" x=\"10845\">ADP</tspan>\n",
              "</text>\n",
              "\n",
              "<text class=\"displacy-token\" fill=\"currentColor\" text-anchor=\"middle\" y=\"642.0\">\n",
              "    <tspan class=\"displacy-word\" fill=\"currentColor\" x=\"10930\">2016.</tspan>\n",
              "    <tspan class=\"displacy-tag\" dy=\"2em\" fill=\"currentColor\" x=\"10930\">NUM</tspan>\n",
              "</text>\n",
              "\n",
              "<g class=\"displacy-arrow\">\n",
              "    <path class=\"displacy-arc\" id=\"arrow-e2bc7f60cbee447ab08a9864fce006cc-0-0\" stroke-width=\"2px\" d=\"M70,597.0 C70,384.5 430.0,384.5 430.0,597.0\" fill=\"none\" stroke=\"currentColor\"/>\n",
              "    <text dy=\"1.25em\" style=\"font-size: 0.8em; letter-spacing: 1px\">\n",
              "        <textPath xlink:href=\"#arrow-e2bc7f60cbee447ab08a9864fce006cc-0-0\" class=\"displacy-label\" startOffset=\"50%\" side=\"left\" fill=\"currentColor\" text-anchor=\"middle\">nsubj</textPath>\n",
              "    </text>\n",
              "    <path class=\"displacy-arrowhead\" d=\"M70,599.0 L62,587.0 78,587.0\" fill=\"currentColor\"/>\n",
              "</g>\n",
              "\n",
              "<g class=\"displacy-arrow\">\n",
              "    <path class=\"displacy-arc\" id=\"arrow-e2bc7f60cbee447ab08a9864fce006cc-0-1\" stroke-width=\"2px\" d=\"M70,597.0 C70,554.5 70.0,554.5 70.0,597.0\" fill=\"none\" stroke=\"currentColor\"/>\n",
              "    <text dy=\"1.25em\" style=\"font-size: 0.8em; letter-spacing: 1px\">\n",
              "        <textPath xlink:href=\"#arrow-e2bc7f60cbee447ab08a9864fce006cc-0-1\" class=\"displacy-label\" startOffset=\"50%\" side=\"left\" fill=\"currentColor\" text-anchor=\"middle\">prep</textPath>\n",
              "    </text>\n",
              "    <path class=\"displacy-arrowhead\" d=\"M70.0,599.0 L78.0,587.0 62.0,587.0\" fill=\"currentColor\"/>\n",
              "</g>\n",
              "\n",
              "<g class=\"displacy-arrow\">\n",
              "    <path class=\"displacy-arc\" id=\"arrow-e2bc7f60cbee447ab08a9864fce006cc-0-2\" stroke-width=\"2px\" d=\"M240,597.0 C240,554.5 240.0,554.5 240.0,597.0\" fill=\"none\" stroke=\"currentColor\"/>\n",
              "    <text dy=\"1.25em\" style=\"font-size: 0.8em; letter-spacing: 1px\">\n",
              "        <textPath xlink:href=\"#arrow-e2bc7f60cbee447ab08a9864fce006cc-0-2\" class=\"displacy-label\" startOffset=\"50%\" side=\"left\" fill=\"currentColor\" text-anchor=\"middle\">compound</textPath>\n",
              "    </text>\n",
              "    <path class=\"displacy-arrowhead\" d=\"M240,599.0 L232,587.0 248,587.0\" fill=\"currentColor\"/>\n",
              "</g>\n",
              "\n",
              "<g class=\"displacy-arrow\">\n",
              "    <path class=\"displacy-arc\" id=\"arrow-e2bc7f60cbee447ab08a9864fce006cc-0-3\" stroke-width=\"2px\" d=\"M325,597.0 C325,554.5 325.0,554.5 325.0,597.0\" fill=\"none\" stroke=\"currentColor\"/>\n",
              "    <text dy=\"1.25em\" style=\"font-size: 0.8em; letter-spacing: 1px\">\n",
              "        <textPath xlink:href=\"#arrow-e2bc7f60cbee447ab08a9864fce006cc-0-3\" class=\"displacy-label\" startOffset=\"50%\" side=\"left\" fill=\"currentColor\" text-anchor=\"middle\">compound</textPath>\n",
              "    </text>\n",
              "    <path class=\"displacy-arrowhead\" d=\"M325,599.0 L317,587.0 333,587.0\" fill=\"currentColor\"/>\n",
              "</g>\n",
              "\n",
              "<g class=\"displacy-arrow\">\n",
              "    <path class=\"displacy-arc\" id=\"arrow-e2bc7f60cbee447ab08a9864fce006cc-0-4\" stroke-width=\"2px\" d=\"M155,597.0 C155,469.5 335.0,469.5 335.0,597.0\" fill=\"none\" stroke=\"currentColor\"/>\n",
              "    <text dy=\"1.25em\" style=\"font-size: 0.8em; letter-spacing: 1px\">\n",
              "        <textPath xlink:href=\"#arrow-e2bc7f60cbee447ab08a9864fce006cc-0-4\" class=\"displacy-label\" startOffset=\"50%\" side=\"left\" fill=\"currentColor\" text-anchor=\"middle\">pobj</textPath>\n",
              "    </text>\n",
              "    <path class=\"displacy-arrowhead\" d=\"M335.0,599.0 L343.0,587.0 327.0,587.0\" fill=\"currentColor\"/>\n",
              "</g>\n",
              "\n",
              "<g class=\"displacy-arrow\">\n",
              "    <path class=\"displacy-arc\" id=\"arrow-e2bc7f60cbee447ab08a9864fce006cc-0-5\" stroke-width=\"2px\" d=\"M580,597.0 C580,512.0 670.0,512.0 670.0,597.0\" fill=\"none\" stroke=\"currentColor\"/>\n",
              "    <text dy=\"1.25em\" style=\"font-size: 0.8em; letter-spacing: 1px\">\n",
              "        <textPath xlink:href=\"#arrow-e2bc7f60cbee447ab08a9864fce006cc-0-5\" class=\"displacy-label\" startOffset=\"50%\" side=\"left\" fill=\"currentColor\" text-anchor=\"middle\">quantmod</textPath>\n",
              "    </text>\n",
              "    <path class=\"displacy-arrowhead\" d=\"M580,599.0 L572,587.0 588,587.0\" fill=\"currentColor\"/>\n",
              "</g>\n",
              "\n",
              "<g class=\"displacy-arrow\">\n",
              "    <path class=\"displacy-arc\" id=\"arrow-e2bc7f60cbee447ab08a9864fce006cc-0-6\" stroke-width=\"2px\" d=\"M665,597.0 C665,554.5 665.0,554.5 665.0,597.0\" fill=\"none\" stroke=\"currentColor\"/>\n",
              "    <text dy=\"1.25em\" style=\"font-size: 0.8em; letter-spacing: 1px\">\n",
              "        <textPath xlink:href=\"#arrow-e2bc7f60cbee447ab08a9864fce006cc-0-6\" class=\"displacy-label\" startOffset=\"50%\" side=\"left\" fill=\"currentColor\" text-anchor=\"middle\">compound</textPath>\n",
              "    </text>\n",
              "    <path class=\"displacy-arrowhead\" d=\"M665,599.0 L657,587.0 673,587.0\" fill=\"currentColor\"/>\n",
              "</g>\n",
              "\n",
              "<g class=\"displacy-arrow\">\n",
              "    <path class=\"displacy-arc\" id=\"arrow-e2bc7f60cbee447ab08a9864fce006cc-0-7\" stroke-width=\"2px\" d=\"M495,597.0 C495,469.5 675.0,469.5 675.0,597.0\" fill=\"none\" stroke=\"currentColor\"/>\n",
              "    <text dy=\"1.25em\" style=\"font-size: 0.8em; letter-spacing: 1px\">\n",
              "        <textPath xlink:href=\"#arrow-e2bc7f60cbee447ab08a9864fce006cc-0-7\" class=\"displacy-label\" startOffset=\"50%\" side=\"left\" fill=\"currentColor\" text-anchor=\"middle\">dobj</textPath>\n",
              "    </text>\n",
              "    <path class=\"displacy-arrowhead\" d=\"M675.0,599.0 L683.0,587.0 667.0,587.0\" fill=\"currentColor\"/>\n",
              "</g>\n",
              "\n",
              "<g class=\"displacy-arrow\">\n",
              "    <path class=\"displacy-arc\" id=\"arrow-e2bc7f60cbee447ab08a9864fce006cc-0-8\" stroke-width=\"2px\" d=\"M495,597.0 C495,427.0 765.0,427.0 765.0,597.0\" fill=\"none\" stroke=\"currentColor\"/>\n",
              "    <text dy=\"1.25em\" style=\"font-size: 0.8em; letter-spacing: 1px\">\n",
              "        <textPath xlink:href=\"#arrow-e2bc7f60cbee447ab08a9864fce006cc-0-8\" class=\"displacy-label\" startOffset=\"50%\" side=\"left\" fill=\"currentColor\" text-anchor=\"middle\">prep</textPath>\n",
              "    </text>\n",
              "    <path class=\"displacy-arrowhead\" d=\"M765.0,599.0 L773.0,587.0 757.0,587.0\" fill=\"currentColor\"/>\n",
              "</g>\n",
              "\n",
              "<g class=\"displacy-arrow\">\n",
              "    <path class=\"displacy-arc\" id=\"arrow-e2bc7f60cbee447ab08a9864fce006cc-0-9\" stroke-width=\"2px\" d=\"M920,597.0 C920,512.0 1010.0,512.0 1010.0,597.0\" fill=\"none\" stroke=\"currentColor\"/>\n",
              "    <text dy=\"1.25em\" style=\"font-size: 0.8em; letter-spacing: 1px\">\n",
              "        <textPath xlink:href=\"#arrow-e2bc7f60cbee447ab08a9864fce006cc-0-9\" class=\"displacy-label\" startOffset=\"50%\" side=\"left\" fill=\"currentColor\" text-anchor=\"middle\">poss</textPath>\n",
              "    </text>\n",
              "    <path class=\"displacy-arrowhead\" d=\"M920,599.0 L912,587.0 928,587.0\" fill=\"currentColor\"/>\n",
              "</g>\n",
              "\n",
              "<g class=\"displacy-arrow\">\n",
              "    <path class=\"displacy-arc\" id=\"arrow-e2bc7f60cbee447ab08a9864fce006cc-0-10\" stroke-width=\"2px\" d=\"M920,597.0 C920,554.5 920.0,554.5 920.0,597.0\" fill=\"none\" stroke=\"currentColor\"/>\n",
              "    <text dy=\"1.25em\" style=\"font-size: 0.8em; letter-spacing: 1px\">\n",
              "        <textPath xlink:href=\"#arrow-e2bc7f60cbee447ab08a9864fce006cc-0-10\" class=\"displacy-label\" startOffset=\"50%\" side=\"left\" fill=\"currentColor\" text-anchor=\"middle\">case</textPath>\n",
              "    </text>\n",
              "    <path class=\"displacy-arrowhead\" d=\"M920.0,599.0 L928.0,587.0 912.0,587.0\" fill=\"currentColor\"/>\n",
              "</g>\n",
              "\n",
              "<g class=\"displacy-arrow\">\n",
              "    <path class=\"displacy-arc\" id=\"arrow-e2bc7f60cbee447ab08a9864fce006cc-0-11\" stroke-width=\"2px\" d=\"M495,597.0 C495,299.5 1035.0,299.5 1035.0,597.0\" fill=\"none\" stroke=\"currentColor\"/>\n",
              "    <text dy=\"1.25em\" style=\"font-size: 0.8em; letter-spacing: 1px\">\n",
              "        <textPath xlink:href=\"#arrow-e2bc7f60cbee447ab08a9864fce006cc-0-11\" class=\"displacy-label\" startOffset=\"50%\" side=\"left\" fill=\"currentColor\" text-anchor=\"middle\">punct</textPath>\n",
              "    </text>\n",
              "    <path class=\"displacy-arrowhead\" d=\"M1035.0,599.0 L1043.0,587.0 1027.0,587.0\" fill=\"currentColor\"/>\n",
              "</g>\n",
              "\n",
              "<g class=\"displacy-arrow\">\n",
              "    <path class=\"displacy-arc\" id=\"arrow-e2bc7f60cbee447ab08a9864fce006cc-0-12\" stroke-width=\"2px\" d=\"M1090,597.0 C1090,554.5 1090.0,554.5 1090.0,597.0\" fill=\"none\" stroke=\"currentColor\"/>\n",
              "    <text dy=\"1.25em\" style=\"font-size: 0.8em; letter-spacing: 1px\">\n",
              "        <textPath xlink:href=\"#arrow-e2bc7f60cbee447ab08a9864fce006cc-0-12\" class=\"displacy-label\" startOffset=\"50%\" side=\"left\" fill=\"currentColor\" text-anchor=\"middle\"></textPath>\n",
              "    </text>\n",
              "    <path class=\"displacy-arrowhead\" d=\"M1090.0,599.0 L1098.0,587.0 1082.0,587.0\" fill=\"currentColor\"/>\n",
              "</g>\n",
              "\n",
              "<g class=\"displacy-arrow\">\n",
              "    <path class=\"displacy-arc\" id=\"arrow-e2bc7f60cbee447ab08a9864fce006cc-0-13\" stroke-width=\"2px\" d=\"M1260,597.0 C1260,554.5 1260.0,554.5 1260.0,597.0\" fill=\"none\" stroke=\"currentColor\"/>\n",
              "    <text dy=\"1.25em\" style=\"font-size: 0.8em; letter-spacing: 1px\">\n",
              "        <textPath xlink:href=\"#arrow-e2bc7f60cbee447ab08a9864fce006cc-0-13\" class=\"displacy-label\" startOffset=\"50%\" side=\"left\" fill=\"currentColor\" text-anchor=\"middle\">det</textPath>\n",
              "    </text>\n",
              "    <path class=\"displacy-arrowhead\" d=\"M1260,599.0 L1252,587.0 1268,587.0\" fill=\"currentColor\"/>\n",
              "</g>\n",
              "\n",
              "<g class=\"displacy-arrow\">\n",
              "    <path class=\"displacy-arc\" id=\"arrow-e2bc7f60cbee447ab08a9864fce006cc-0-14\" stroke-width=\"2px\" d=\"M1345,597.0 C1345,2.0 2855.0,2.0 2855.0,597.0\" fill=\"none\" stroke=\"currentColor\"/>\n",
              "    <text dy=\"1.25em\" style=\"font-size: 0.8em; letter-spacing: 1px\">\n",
              "        <textPath xlink:href=\"#arrow-e2bc7f60cbee447ab08a9864fce006cc-0-14\" class=\"displacy-label\" startOffset=\"50%\" side=\"left\" fill=\"currentColor\" text-anchor=\"middle\">npadvmod</textPath>\n",
              "    </text>\n",
              "    <path class=\"displacy-arrowhead\" d=\"M1345,599.0 L1337,587.0 1353,587.0\" fill=\"currentColor\"/>\n",
              "</g>\n",
              "\n",
              "<g class=\"displacy-arrow\">\n",
              "    <path class=\"displacy-arc\" id=\"arrow-e2bc7f60cbee447ab08a9864fce006cc-0-15\" stroke-width=\"2px\" d=\"M1345,597.0 C1345,554.5 1345.0,554.5 1345.0,597.0\" fill=\"none\" stroke=\"currentColor\"/>\n",
              "    <text dy=\"1.25em\" style=\"font-size: 0.8em; letter-spacing: 1px\">\n",
              "        <textPath xlink:href=\"#arrow-e2bc7f60cbee447ab08a9864fce006cc-0-15\" class=\"displacy-label\" startOffset=\"50%\" side=\"left\" fill=\"currentColor\" text-anchor=\"middle\">prep</textPath>\n",
              "    </text>\n",
              "    <path class=\"displacy-arrowhead\" d=\"M1345.0,599.0 L1353.0,587.0 1337.0,587.0\" fill=\"currentColor\"/>\n",
              "</g>\n",
              "\n",
              "<g class=\"displacy-arrow\">\n",
              "    <path class=\"displacy-arc\" id=\"arrow-e2bc7f60cbee447ab08a9864fce006cc-0-16\" stroke-width=\"2px\" d=\"M1515,597.0 C1515,469.5 1695.0,469.5 1695.0,597.0\" fill=\"none\" stroke=\"currentColor\"/>\n",
              "    <text dy=\"1.25em\" style=\"font-size: 0.8em; letter-spacing: 1px\">\n",
              "        <textPath xlink:href=\"#arrow-e2bc7f60cbee447ab08a9864fce006cc-0-16\" class=\"displacy-label\" startOffset=\"50%\" side=\"left\" fill=\"currentColor\" text-anchor=\"middle\">det</textPath>\n",
              "    </text>\n",
              "    <path class=\"displacy-arrowhead\" d=\"M1515,599.0 L1507,587.0 1523,587.0\" fill=\"currentColor\"/>\n",
              "</g>\n",
              "\n",
              "<g class=\"displacy-arrow\">\n",
              "    <path class=\"displacy-arc\" id=\"arrow-e2bc7f60cbee447ab08a9864fce006cc-0-17\" stroke-width=\"2px\" d=\"M1600,597.0 C1600,512.0 1690.0,512.0 1690.0,597.0\" fill=\"none\" stroke=\"currentColor\"/>\n",
              "    <text dy=\"1.25em\" style=\"font-size: 0.8em; letter-spacing: 1px\">\n",
              "        <textPath xlink:href=\"#arrow-e2bc7f60cbee447ab08a9864fce006cc-0-17\" class=\"displacy-label\" startOffset=\"50%\" side=\"left\" fill=\"currentColor\" text-anchor=\"middle\">compound</textPath>\n",
              "    </text>\n",
              "    <path class=\"displacy-arrowhead\" d=\"M1600,599.0 L1592,587.0 1608,587.0\" fill=\"currentColor\"/>\n",
              "</g>\n",
              "\n",
              "<g class=\"displacy-arrow\">\n",
              "    <path class=\"displacy-arc\" id=\"arrow-e2bc7f60cbee447ab08a9864fce006cc-0-18\" stroke-width=\"2px\" d=\"M1685,597.0 C1685,554.5 1685.0,554.5 1685.0,597.0\" fill=\"none\" stroke=\"currentColor\"/>\n",
              "    <text dy=\"1.25em\" style=\"font-size: 0.8em; letter-spacing: 1px\">\n",
              "        <textPath xlink:href=\"#arrow-e2bc7f60cbee447ab08a9864fce006cc-0-18\" class=\"displacy-label\" startOffset=\"50%\" side=\"left\" fill=\"currentColor\" text-anchor=\"middle\">compound</textPath>\n",
              "    </text>\n",
              "    <path class=\"displacy-arrowhead\" d=\"M1685,599.0 L1677,587.0 1693,587.0\" fill=\"currentColor\"/>\n",
              "</g>\n",
              "\n",
              "<g class=\"displacy-arrow\">\n",
              "    <path class=\"displacy-arc\" id=\"arrow-e2bc7f60cbee447ab08a9864fce006cc-0-19\" stroke-width=\"2px\" d=\"M1430,597.0 C1430,427.0 1700.0,427.0 1700.0,597.0\" fill=\"none\" stroke=\"currentColor\"/>\n",
              "    <text dy=\"1.25em\" style=\"font-size: 0.8em; letter-spacing: 1px\">\n",
              "        <textPath xlink:href=\"#arrow-e2bc7f60cbee447ab08a9864fce006cc-0-19\" class=\"displacy-label\" startOffset=\"50%\" side=\"left\" fill=\"currentColor\" text-anchor=\"middle\">pobj</textPath>\n",
              "    </text>\n",
              "    <path class=\"displacy-arrowhead\" d=\"M1700.0,599.0 L1708.0,587.0 1692.0,587.0\" fill=\"currentColor\"/>\n",
              "</g>\n",
              "\n",
              "<g class=\"displacy-arrow\">\n",
              "    <path class=\"displacy-arc\" id=\"arrow-e2bc7f60cbee447ab08a9864fce006cc-0-20\" stroke-width=\"2px\" d=\"M1770,597.0 C1770,554.5 1770.0,554.5 1770.0,597.0\" fill=\"none\" stroke=\"currentColor\"/>\n",
              "    <text dy=\"1.25em\" style=\"font-size: 0.8em; letter-spacing: 1px\">\n",
              "        <textPath xlink:href=\"#arrow-e2bc7f60cbee447ab08a9864fce006cc-0-20\" class=\"displacy-label\" startOffset=\"50%\" side=\"left\" fill=\"currentColor\" text-anchor=\"middle\">cc</textPath>\n",
              "    </text>\n",
              "    <path class=\"displacy-arrowhead\" d=\"M1770.0,599.0 L1778.0,587.0 1762.0,587.0\" fill=\"currentColor\"/>\n",
              "</g>\n",
              "\n",
              "<g class=\"displacy-arrow\">\n",
              "    <path class=\"displacy-arc\" id=\"arrow-e2bc7f60cbee447ab08a9864fce006cc-0-21\" stroke-width=\"2px\" d=\"M1940,597.0 C1940,554.5 1940.0,554.5 1940.0,597.0\" fill=\"none\" stroke=\"currentColor\"/>\n",
              "    <text dy=\"1.25em\" style=\"font-size: 0.8em; letter-spacing: 1px\">\n",
              "        <textPath xlink:href=\"#arrow-e2bc7f60cbee447ab08a9864fce006cc-0-21\" class=\"displacy-label\" startOffset=\"50%\" side=\"left\" fill=\"currentColor\" text-anchor=\"middle\">det</textPath>\n",
              "    </text>\n",
              "    <path class=\"displacy-arrowhead\" d=\"M1940,599.0 L1932,587.0 1948,587.0\" fill=\"currentColor\"/>\n",
              "</g>\n",
              "\n",
              "<g class=\"displacy-arrow\">\n",
              "    <path class=\"displacy-arc\" id=\"arrow-e2bc7f60cbee447ab08a9864fce006cc-0-22\" stroke-width=\"2px\" d=\"M1770,597.0 C1770,469.5 1950.0,469.5 1950.0,597.0\" fill=\"none\" stroke=\"currentColor\"/>\n",
              "    <text dy=\"1.25em\" style=\"font-size: 0.8em; letter-spacing: 1px\">\n",
              "        <textPath xlink:href=\"#arrow-e2bc7f60cbee447ab08a9864fce006cc-0-22\" class=\"displacy-label\" startOffset=\"50%\" side=\"left\" fill=\"currentColor\" text-anchor=\"middle\">conj</textPath>\n",
              "    </text>\n",
              "    <path class=\"displacy-arrowhead\" d=\"M1950.0,599.0 L1958.0,587.0 1942.0,587.0\" fill=\"currentColor\"/>\n",
              "</g>\n",
              "\n",
              "<g class=\"displacy-arrow\">\n",
              "    <path class=\"displacy-arc\" id=\"arrow-e2bc7f60cbee447ab08a9864fce006cc-0-23\" stroke-width=\"2px\" d=\"M2025,597.0 C2025,554.5 2025.0,554.5 2025.0,597.0\" fill=\"none\" stroke=\"currentColor\"/>\n",
              "    <text dy=\"1.25em\" style=\"font-size: 0.8em; letter-spacing: 1px\">\n",
              "        <textPath xlink:href=\"#arrow-e2bc7f60cbee447ab08a9864fce006cc-0-23\" class=\"displacy-label\" startOffset=\"50%\" side=\"left\" fill=\"currentColor\" text-anchor=\"middle\">prep</textPath>\n",
              "    </text>\n",
              "    <path class=\"displacy-arrowhead\" d=\"M2025.0,599.0 L2033.0,587.0 2017.0,587.0\" fill=\"currentColor\"/>\n",
              "</g>\n",
              "\n",
              "<g class=\"displacy-arrow\">\n",
              "    <path class=\"displacy-arc\" id=\"arrow-e2bc7f60cbee447ab08a9864fce006cc-0-24\" stroke-width=\"2px\" d=\"M2195,597.0 C2195,427.0 2465.0,427.0 2465.0,597.0\" fill=\"none\" stroke=\"currentColor\"/>\n",
              "    <text dy=\"1.25em\" style=\"font-size: 0.8em; letter-spacing: 1px\">\n",
              "        <textPath xlink:href=\"#arrow-e2bc7f60cbee447ab08a9864fce006cc-0-24\" class=\"displacy-label\" startOffset=\"50%\" side=\"left\" fill=\"currentColor\" text-anchor=\"middle\">amod</textPath>\n",
              "    </text>\n",
              "    <path class=\"displacy-arrowhead\" d=\"M2195,599.0 L2187,587.0 2203,587.0\" fill=\"currentColor\"/>\n",
              "</g>\n",
              "\n",
              "<g class=\"displacy-arrow\">\n",
              "    <path class=\"displacy-arc\" id=\"arrow-e2bc7f60cbee447ab08a9864fce006cc-0-25\" stroke-width=\"2px\" d=\"M2280,597.0 C2280,469.5 2460.0,469.5 2460.0,597.0\" fill=\"none\" stroke=\"currentColor\"/>\n",
              "    <text dy=\"1.25em\" style=\"font-size: 0.8em; letter-spacing: 1px\">\n",
              "        <textPath xlink:href=\"#arrow-e2bc7f60cbee447ab08a9864fce006cc-0-25\" class=\"displacy-label\" startOffset=\"50%\" side=\"left\" fill=\"currentColor\" text-anchor=\"middle\">nmod</textPath>\n",
              "    </text>\n",
              "    <path class=\"displacy-arrowhead\" d=\"M2280,599.0 L2272,587.0 2288,587.0\" fill=\"currentColor\"/>\n",
              "</g>\n",
              "\n",
              "<g class=\"displacy-arrow\">\n",
              "    <path class=\"displacy-arc\" id=\"arrow-e2bc7f60cbee447ab08a9864fce006cc-0-26\" stroke-width=\"2px\" d=\"M2280,597.0 C2280,554.5 2280.0,554.5 2280.0,597.0\" fill=\"none\" stroke=\"currentColor\"/>\n",
              "    <text dy=\"1.25em\" style=\"font-size: 0.8em; letter-spacing: 1px\">\n",
              "        <textPath xlink:href=\"#arrow-e2bc7f60cbee447ab08a9864fce006cc-0-26\" class=\"displacy-label\" startOffset=\"50%\" side=\"left\" fill=\"currentColor\" text-anchor=\"middle\"></textPath>\n",
              "    </text>\n",
              "    <path class=\"displacy-arrowhead\" d=\"M2280.0,599.0 L2288.0,587.0 2272.0,587.0\" fill=\"currentColor\"/>\n",
              "</g>\n",
              "\n",
              "<g class=\"displacy-arrow\">\n",
              "    <path class=\"displacy-arc\" id=\"arrow-e2bc7f60cbee447ab08a9864fce006cc-0-27\" stroke-width=\"2px\" d=\"M2450,597.0 C2450,554.5 2450.0,554.5 2450.0,597.0\" fill=\"none\" stroke=\"currentColor\"/>\n",
              "    <text dy=\"1.25em\" style=\"font-size: 0.8em; letter-spacing: 1px\">\n",
              "        <textPath xlink:href=\"#arrow-e2bc7f60cbee447ab08a9864fce006cc-0-27\" class=\"displacy-label\" startOffset=\"50%\" side=\"left\" fill=\"currentColor\" text-anchor=\"middle\">compound</textPath>\n",
              "    </text>\n",
              "    <path class=\"displacy-arrowhead\" d=\"M2450,599.0 L2442,587.0 2458,587.0\" fill=\"currentColor\"/>\n",
              "</g>\n",
              "\n",
              "<g class=\"displacy-arrow\">\n",
              "    <path class=\"displacy-arc\" id=\"arrow-e2bc7f60cbee447ab08a9864fce006cc-0-28\" stroke-width=\"2px\" d=\"M2110,597.0 C2110,384.5 2470.0,384.5 2470.0,597.0\" fill=\"none\" stroke=\"currentColor\"/>\n",
              "    <text dy=\"1.25em\" style=\"font-size: 0.8em; letter-spacing: 1px\">\n",
              "        <textPath xlink:href=\"#arrow-e2bc7f60cbee447ab08a9864fce006cc-0-28\" class=\"displacy-label\" startOffset=\"50%\" side=\"left\" fill=\"currentColor\" text-anchor=\"middle\">pobj</textPath>\n",
              "    </text>\n",
              "    <path class=\"displacy-arrowhead\" d=\"M2470.0,599.0 L2478.0,587.0 2462.0,587.0\" fill=\"currentColor\"/>\n",
              "</g>\n",
              "\n",
              "<g class=\"displacy-arrow\">\n",
              "    <path class=\"displacy-arc\" id=\"arrow-e2bc7f60cbee447ab08a9864fce006cc-0-29\" stroke-width=\"2px\" d=\"M2620,597.0 C2620,554.5 2620.0,554.5 2620.0,597.0\" fill=\"none\" stroke=\"currentColor\"/>\n",
              "    <text dy=\"1.25em\" style=\"font-size: 0.8em; letter-spacing: 1px\">\n",
              "        <textPath xlink:href=\"#arrow-e2bc7f60cbee447ab08a9864fce006cc-0-29\" class=\"displacy-label\" startOffset=\"50%\" side=\"left\" fill=\"currentColor\" text-anchor=\"middle\">compound</textPath>\n",
              "    </text>\n",
              "    <path class=\"displacy-arrowhead\" d=\"M2620,599.0 L2612,587.0 2628,587.0\" fill=\"currentColor\"/>\n",
              "</g>\n",
              "\n",
              "<g class=\"displacy-arrow\">\n",
              "    <path class=\"displacy-arc\" id=\"arrow-e2bc7f60cbee447ab08a9864fce006cc-0-30\" stroke-width=\"2px\" d=\"M1345,597.0 C1345,44.5 2680.0,44.5 2680.0,597.0\" fill=\"none\" stroke=\"currentColor\"/>\n",
              "    <text dy=\"1.25em\" style=\"font-size: 0.8em; letter-spacing: 1px\">\n",
              "        <textPath xlink:href=\"#arrow-e2bc7f60cbee447ab08a9864fce006cc-0-30\" class=\"displacy-label\" startOffset=\"50%\" side=\"left\" fill=\"currentColor\" text-anchor=\"middle\">appos</textPath>\n",
              "    </text>\n",
              "    <path class=\"displacy-arrowhead\" d=\"M2680.0,599.0 L2688.0,587.0 2672.0,587.0\" fill=\"currentColor\"/>\n",
              "</g>\n",
              "\n",
              "<g class=\"displacy-arrow\">\n",
              "    <path class=\"displacy-arc\" id=\"arrow-e2bc7f60cbee447ab08a9864fce006cc-0-31\" stroke-width=\"2px\" d=\"M2790,597.0 C2790,554.5 2790.0,554.5 2790.0,597.0\" fill=\"none\" stroke=\"currentColor\"/>\n",
              "    <text dy=\"1.25em\" style=\"font-size: 0.8em; letter-spacing: 1px\">\n",
              "        <textPath xlink:href=\"#arrow-e2bc7f60cbee447ab08a9864fce006cc-0-31\" class=\"displacy-label\" startOffset=\"50%\" side=\"left\" fill=\"currentColor\" text-anchor=\"middle\">nsubj</textPath>\n",
              "    </text>\n",
              "    <path class=\"displacy-arrowhead\" d=\"M2790,599.0 L2782,587.0 2798,587.0\" fill=\"currentColor\"/>\n",
              "</g>\n",
              "\n",
              "<g class=\"displacy-arrow\">\n",
              "    <path class=\"displacy-arc\" id=\"arrow-e2bc7f60cbee447ab08a9864fce006cc-0-32\" stroke-width=\"2px\" d=\"M2875,597.0 C2875,554.5 2875.0,554.5 2875.0,597.0\" fill=\"none\" stroke=\"currentColor\"/>\n",
              "    <text dy=\"1.25em\" style=\"font-size: 0.8em; letter-spacing: 1px\">\n",
              "        <textPath xlink:href=\"#arrow-e2bc7f60cbee447ab08a9864fce006cc-0-32\" class=\"displacy-label\" startOffset=\"50%\" side=\"left\" fill=\"currentColor\" text-anchor=\"middle\">prep</textPath>\n",
              "    </text>\n",
              "    <path class=\"displacy-arrowhead\" d=\"M2875.0,599.0 L2883.0,587.0 2867.0,587.0\" fill=\"currentColor\"/>\n",
              "</g>\n",
              "\n",
              "<g class=\"displacy-arrow\">\n",
              "    <path class=\"displacy-arc\" id=\"arrow-e2bc7f60cbee447ab08a9864fce006cc-0-33\" stroke-width=\"2px\" d=\"M3045,597.0 C3045,512.0 3135.0,512.0 3135.0,597.0\" fill=\"none\" stroke=\"currentColor\"/>\n",
              "    <text dy=\"1.25em\" style=\"font-size: 0.8em; letter-spacing: 1px\">\n",
              "        <textPath xlink:href=\"#arrow-e2bc7f60cbee447ab08a9864fce006cc-0-33\" class=\"displacy-label\" startOffset=\"50%\" side=\"left\" fill=\"currentColor\" text-anchor=\"middle\">det</textPath>\n",
              "    </text>\n",
              "    <path class=\"displacy-arrowhead\" d=\"M3045,599.0 L3037,587.0 3053,587.0\" fill=\"currentColor\"/>\n",
              "</g>\n",
              "\n",
              "<g class=\"displacy-arrow\">\n",
              "    <path class=\"displacy-arc\" id=\"arrow-e2bc7f60cbee447ab08a9864fce006cc-0-34\" stroke-width=\"2px\" d=\"M3130,597.0 C3130,554.5 3130.0,554.5 3130.0,597.0\" fill=\"none\" stroke=\"currentColor\"/>\n",
              "    <text dy=\"1.25em\" style=\"font-size: 0.8em; letter-spacing: 1px\">\n",
              "        <textPath xlink:href=\"#arrow-e2bc7f60cbee447ab08a9864fce006cc-0-34\" class=\"displacy-label\" startOffset=\"50%\" side=\"left\" fill=\"currentColor\" text-anchor=\"middle\">amod</textPath>\n",
              "    </text>\n",
              "    <path class=\"displacy-arrowhead\" d=\"M3130,599.0 L3122,587.0 3138,587.0\" fill=\"currentColor\"/>\n",
              "</g>\n",
              "\n",
              "<g class=\"displacy-arrow\">\n",
              "    <path class=\"displacy-arc\" id=\"arrow-e2bc7f60cbee447ab08a9864fce006cc-0-35\" stroke-width=\"2px\" d=\"M2960,597.0 C2960,469.5 3140.0,469.5 3140.0,597.0\" fill=\"none\" stroke=\"currentColor\"/>\n",
              "    <text dy=\"1.25em\" style=\"font-size: 0.8em; letter-spacing: 1px\">\n",
              "        <textPath xlink:href=\"#arrow-e2bc7f60cbee447ab08a9864fce006cc-0-35\" class=\"displacy-label\" startOffset=\"50%\" side=\"left\" fill=\"currentColor\" text-anchor=\"middle\">pobj</textPath>\n",
              "    </text>\n",
              "    <path class=\"displacy-arrowhead\" d=\"M3140.0,599.0 L3148.0,587.0 3132.0,587.0\" fill=\"currentColor\"/>\n",
              "</g>\n",
              "\n",
              "<g class=\"displacy-arrow\">\n",
              "    <path class=\"displacy-arc\" id=\"arrow-e2bc7f60cbee447ab08a9864fce006cc-0-36\" stroke-width=\"2px\" d=\"M3300,597.0 C3300,469.5 3480.0,469.5 3480.0,597.0\" fill=\"none\" stroke=\"currentColor\"/>\n",
              "    <text dy=\"1.25em\" style=\"font-size: 0.8em; letter-spacing: 1px\">\n",
              "        <textPath xlink:href=\"#arrow-e2bc7f60cbee447ab08a9864fce006cc-0-36\" class=\"displacy-label\" startOffset=\"50%\" side=\"left\" fill=\"currentColor\" text-anchor=\"middle\">det</textPath>\n",
              "    </text>\n",
              "    <path class=\"displacy-arrowhead\" d=\"M3300,599.0 L3292,587.0 3308,587.0\" fill=\"currentColor\"/>\n",
              "</g>\n",
              "\n",
              "<g class=\"displacy-arrow\">\n",
              "    <path class=\"displacy-arc\" id=\"arrow-e2bc7f60cbee447ab08a9864fce006cc-0-37\" stroke-width=\"2px\" d=\"M3300,597.0 C3300,554.5 3300.0,554.5 3300.0,597.0\" fill=\"none\" stroke=\"currentColor\"/>\n",
              "    <text dy=\"1.25em\" style=\"font-size: 0.8em; letter-spacing: 1px\">\n",
              "        <textPath xlink:href=\"#arrow-e2bc7f60cbee447ab08a9864fce006cc-0-37\" class=\"displacy-label\" startOffset=\"50%\" side=\"left\" fill=\"currentColor\" text-anchor=\"middle\"></textPath>\n",
              "    </text>\n",
              "    <path class=\"displacy-arrowhead\" d=\"M3300.0,599.0 L3308.0,587.0 3292.0,587.0\" fill=\"currentColor\"/>\n",
              "</g>\n",
              "\n",
              "<g class=\"displacy-arrow\">\n",
              "    <path class=\"displacy-arc\" id=\"arrow-e2bc7f60cbee447ab08a9864fce006cc-0-38\" stroke-width=\"2px\" d=\"M3470,597.0 C3470,554.5 3470.0,554.5 3470.0,597.0\" fill=\"none\" stroke=\"currentColor\"/>\n",
              "    <text dy=\"1.25em\" style=\"font-size: 0.8em; letter-spacing: 1px\">\n",
              "        <textPath xlink:href=\"#arrow-e2bc7f60cbee447ab08a9864fce006cc-0-38\" class=\"displacy-label\" startOffset=\"50%\" side=\"left\" fill=\"currentColor\" text-anchor=\"middle\">compound</textPath>\n",
              "    </text>\n",
              "    <path class=\"displacy-arrowhead\" d=\"M3470,599.0 L3462,587.0 3478,587.0\" fill=\"currentColor\"/>\n",
              "</g>\n",
              "\n",
              "<g class=\"displacy-arrow\">\n",
              "    <path class=\"displacy-arc\" id=\"arrow-e2bc7f60cbee447ab08a9864fce006cc-0-39\" stroke-width=\"2px\" d=\"M2875,597.0 C2875,257.0 3505.0,257.0 3505.0,597.0\" fill=\"none\" stroke=\"currentColor\"/>\n",
              "    <text dy=\"1.25em\" style=\"font-size: 0.8em; letter-spacing: 1px\">\n",
              "        <textPath xlink:href=\"#arrow-e2bc7f60cbee447ab08a9864fce006cc-0-39\" class=\"displacy-label\" startOffset=\"50%\" side=\"left\" fill=\"currentColor\" text-anchor=\"middle\">attr</textPath>\n",
              "    </text>\n",
              "    <path class=\"displacy-arrowhead\" d=\"M3505.0,599.0 L3513.0,587.0 3497.0,587.0\" fill=\"currentColor\"/>\n",
              "</g>\n",
              "\n",
              "<g class=\"displacy-arrow\">\n",
              "    <path class=\"displacy-arc\" id=\"arrow-e2bc7f60cbee447ab08a9864fce006cc-0-40\" stroke-width=\"2px\" d=\"M3640,597.0 C3640,554.5 3640.0,554.5 3640.0,597.0\" fill=\"none\" stroke=\"currentColor\"/>\n",
              "    <text dy=\"1.25em\" style=\"font-size: 0.8em; letter-spacing: 1px\">\n",
              "        <textPath xlink:href=\"#arrow-e2bc7f60cbee447ab08a9864fce006cc-0-40\" class=\"displacy-label\" startOffset=\"50%\" side=\"left\" fill=\"currentColor\" text-anchor=\"middle\">nsubj</textPath>\n",
              "    </text>\n",
              "    <path class=\"displacy-arrowhead\" d=\"M3640,599.0 L3632,587.0 3648,587.0\" fill=\"currentColor\"/>\n",
              "</g>\n",
              "\n",
              "<g class=\"displacy-arrow\">\n",
              "    <path class=\"displacy-arc\" id=\"arrow-e2bc7f60cbee447ab08a9864fce006cc-0-41\" stroke-width=\"2px\" d=\"M3810,597.0 C3810,469.5 3990.0,469.5 3990.0,597.0\" fill=\"none\" stroke=\"currentColor\"/>\n",
              "    <text dy=\"1.25em\" style=\"font-size: 0.8em; letter-spacing: 1px\">\n",
              "        <textPath xlink:href=\"#arrow-e2bc7f60cbee447ab08a9864fce006cc-0-41\" class=\"displacy-label\" startOffset=\"50%\" side=\"left\" fill=\"currentColor\" text-anchor=\"middle\">det</textPath>\n",
              "    </text>\n",
              "    <path class=\"displacy-arrowhead\" d=\"M3810,599.0 L3802,587.0 3818,587.0\" fill=\"currentColor\"/>\n",
              "</g>\n",
              "\n",
              "<g class=\"displacy-arrow\">\n",
              "    <path class=\"displacy-arc\" id=\"arrow-e2bc7f60cbee447ab08a9864fce006cc-0-42\" stroke-width=\"2px\" d=\"M3895,597.0 C3895,512.0 3985.0,512.0 3985.0,597.0\" fill=\"none\" stroke=\"currentColor\"/>\n",
              "    <text dy=\"1.25em\" style=\"font-size: 0.8em; letter-spacing: 1px\">\n",
              "        <textPath xlink:href=\"#arrow-e2bc7f60cbee447ab08a9864fce006cc-0-42\" class=\"displacy-label\" startOffset=\"50%\" side=\"left\" fill=\"currentColor\" text-anchor=\"middle\">amod</textPath>\n",
              "    </text>\n",
              "    <path class=\"displacy-arrowhead\" d=\"M3895,599.0 L3887,587.0 3903,587.0\" fill=\"currentColor\"/>\n",
              "</g>\n",
              "\n",
              "<g class=\"displacy-arrow\">\n",
              "    <path class=\"displacy-arc\" id=\"arrow-e2bc7f60cbee447ab08a9864fce006cc-0-43\" stroke-width=\"2px\" d=\"M3980,597.0 C3980,554.5 3980.0,554.5 3980.0,597.0\" fill=\"none\" stroke=\"currentColor\"/>\n",
              "    <text dy=\"1.25em\" style=\"font-size: 0.8em; letter-spacing: 1px\">\n",
              "        <textPath xlink:href=\"#arrow-e2bc7f60cbee447ab08a9864fce006cc-0-43\" class=\"displacy-label\" startOffset=\"50%\" side=\"left\" fill=\"currentColor\" text-anchor=\"middle\">amod</textPath>\n",
              "    </text>\n",
              "    <path class=\"displacy-arrowhead\" d=\"M3980,599.0 L3972,587.0 3988,587.0\" fill=\"currentColor\"/>\n",
              "</g>\n",
              "\n",
              "<g class=\"displacy-arrow\">\n",
              "    <path class=\"displacy-arc\" id=\"arrow-e2bc7f60cbee447ab08a9864fce006cc-0-44\" stroke-width=\"2px\" d=\"M3725,597.0 C3725,427.0 3995.0,427.0 3995.0,597.0\" fill=\"none\" stroke=\"currentColor\"/>\n",
              "    <text dy=\"1.25em\" style=\"font-size: 0.8em; letter-spacing: 1px\">\n",
              "        <textPath xlink:href=\"#arrow-e2bc7f60cbee447ab08a9864fce006cc-0-44\" class=\"displacy-label\" startOffset=\"50%\" side=\"left\" fill=\"currentColor\" text-anchor=\"middle\">dobj</textPath>\n",
              "    </text>\n",
              "    <path class=\"displacy-arrowhead\" d=\"M3995.0,599.0 L4003.0,587.0 3987.0,587.0\" fill=\"currentColor\"/>\n",
              "</g>\n",
              "\n",
              "<g class=\"displacy-arrow\">\n",
              "    <path class=\"displacy-arc\" id=\"arrow-e2bc7f60cbee447ab08a9864fce006cc-0-45\" stroke-width=\"2px\" d=\"M4065,597.0 C4065,554.5 4065.0,554.5 4065.0,597.0\" fill=\"none\" stroke=\"currentColor\"/>\n",
              "    <text dy=\"1.25em\" style=\"font-size: 0.8em; letter-spacing: 1px\">\n",
              "        <textPath xlink:href=\"#arrow-e2bc7f60cbee447ab08a9864fce006cc-0-45\" class=\"displacy-label\" startOffset=\"50%\" side=\"left\" fill=\"currentColor\" text-anchor=\"middle\">prep</textPath>\n",
              "    </text>\n",
              "    <path class=\"displacy-arrowhead\" d=\"M4065.0,599.0 L4073.0,587.0 4057.0,587.0\" fill=\"currentColor\"/>\n",
              "</g>\n",
              "\n",
              "<g class=\"displacy-arrow\">\n",
              "    <path class=\"displacy-arc\" id=\"arrow-e2bc7f60cbee447ab08a9864fce006cc-0-46\" stroke-width=\"2px\" d=\"M4235,597.0 C4235,554.5 4235.0,554.5 4235.0,597.0\" fill=\"none\" stroke=\"currentColor\"/>\n",
              "    <text dy=\"1.25em\" style=\"font-size: 0.8em; letter-spacing: 1px\">\n",
              "        <textPath xlink:href=\"#arrow-e2bc7f60cbee447ab08a9864fce006cc-0-46\" class=\"displacy-label\" startOffset=\"50%\" side=\"left\" fill=\"currentColor\" text-anchor=\"middle\">compound</textPath>\n",
              "    </text>\n",
              "    <path class=\"displacy-arrowhead\" d=\"M4235,599.0 L4227,587.0 4243,587.0\" fill=\"currentColor\"/>\n",
              "</g>\n",
              "\n",
              "<g class=\"displacy-arrow\">\n",
              "    <path class=\"displacy-arc\" id=\"arrow-e2bc7f60cbee447ab08a9864fce006cc-0-47\" stroke-width=\"2px\" d=\"M4065,597.0 C4065,469.5 4245.0,469.5 4245.0,597.0\" fill=\"none\" stroke=\"currentColor\"/>\n",
              "    <text dy=\"1.25em\" style=\"font-size: 0.8em; letter-spacing: 1px\">\n",
              "        <textPath xlink:href=\"#arrow-e2bc7f60cbee447ab08a9864fce006cc-0-47\" class=\"displacy-label\" startOffset=\"50%\" side=\"left\" fill=\"currentColor\" text-anchor=\"middle\">punct</textPath>\n",
              "    </text>\n",
              "    <path class=\"displacy-arrowhead\" d=\"M4245.0,599.0 L4253.0,587.0 4237.0,587.0\" fill=\"currentColor\"/>\n",
              "</g>\n",
              "\n",
              "<g class=\"displacy-arrow\">\n",
              "    <path class=\"displacy-arc\" id=\"arrow-e2bc7f60cbee447ab08a9864fce006cc-0-48\" stroke-width=\"2px\" d=\"M4320,597.0 C4320,554.5 4320.0,554.5 4320.0,597.0\" fill=\"none\" stroke=\"currentColor\"/>\n",
              "    <text dy=\"1.25em\" style=\"font-size: 0.8em; letter-spacing: 1px\">\n",
              "        <textPath xlink:href=\"#arrow-e2bc7f60cbee447ab08a9864fce006cc-0-48\" class=\"displacy-label\" startOffset=\"50%\" side=\"left\" fill=\"currentColor\" text-anchor=\"middle\"></textPath>\n",
              "    </text>\n",
              "    <path class=\"displacy-arrowhead\" d=\"M4320.0,599.0 L4328.0,587.0 4312.0,587.0\" fill=\"currentColor\"/>\n",
              "</g>\n",
              "\n",
              "<g class=\"displacy-arrow\">\n",
              "    <path class=\"displacy-arc\" id=\"arrow-e2bc7f60cbee447ab08a9864fce006cc-0-49\" stroke-width=\"2px\" d=\"M4490,597.0 C4490,554.5 4490.0,554.5 4490.0,597.0\" fill=\"none\" stroke=\"currentColor\"/>\n",
              "    <text dy=\"1.25em\" style=\"font-size: 0.8em; letter-spacing: 1px\">\n",
              "        <textPath xlink:href=\"#arrow-e2bc7f60cbee447ab08a9864fce006cc-0-49\" class=\"displacy-label\" startOffset=\"50%\" side=\"left\" fill=\"currentColor\" text-anchor=\"middle\">compound</textPath>\n",
              "    </text>\n",
              "    <path class=\"displacy-arrowhead\" d=\"M4490,599.0 L4482,587.0 4498,587.0\" fill=\"currentColor\"/>\n",
              "</g>\n",
              "\n",
              "<g class=\"displacy-arrow\">\n",
              "    <path class=\"displacy-arc\" id=\"arrow-e2bc7f60cbee447ab08a9864fce006cc-0-50\" stroke-width=\"2px\" d=\"M4575,597.0 C4575,554.5 4575.0,554.5 4575.0,597.0\" fill=\"none\" stroke=\"currentColor\"/>\n",
              "    <text dy=\"1.25em\" style=\"font-size: 0.8em; letter-spacing: 1px\">\n",
              "        <textPath xlink:href=\"#arrow-e2bc7f60cbee447ab08a9864fce006cc-0-50\" class=\"displacy-label\" startOffset=\"50%\" side=\"left\" fill=\"currentColor\" text-anchor=\"middle\">compound</textPath>\n",
              "    </text>\n",
              "    <path class=\"displacy-arrowhead\" d=\"M4575,599.0 L4567,587.0 4583,587.0\" fill=\"currentColor\"/>\n",
              "</g>\n",
              "\n",
              "<g class=\"displacy-arrow\">\n",
              "    <path class=\"displacy-arc\" id=\"arrow-e2bc7f60cbee447ab08a9864fce006cc-0-51\" stroke-width=\"2px\" d=\"M4065,597.0 C4065,299.5 4605.0,299.5 4605.0,597.0\" fill=\"none\" stroke=\"currentColor\"/>\n",
              "    <text dy=\"1.25em\" style=\"font-size: 0.8em; letter-spacing: 1px\">\n",
              "        <textPath xlink:href=\"#arrow-e2bc7f60cbee447ab08a9864fce006cc-0-51\" class=\"displacy-label\" startOffset=\"50%\" side=\"left\" fill=\"currentColor\" text-anchor=\"middle\">appos</textPath>\n",
              "    </text>\n",
              "    <path class=\"displacy-arrowhead\" d=\"M4605.0,599.0 L4613.0,587.0 4597.0,587.0\" fill=\"currentColor\"/>\n",
              "</g>\n",
              "\n",
              "<g class=\"displacy-arrow\">\n",
              "    <path class=\"displacy-arc\" id=\"arrow-e2bc7f60cbee447ab08a9864fce006cc-0-52\" stroke-width=\"2px\" d=\"M4745,597.0 C4745,554.5 4745.0,554.5 4745.0,597.0\" fill=\"none\" stroke=\"currentColor\"/>\n",
              "    <text dy=\"1.25em\" style=\"font-size: 0.8em; letter-spacing: 1px\">\n",
              "        <textPath xlink:href=\"#arrow-e2bc7f60cbee447ab08a9864fce006cc-0-52\" class=\"displacy-label\" startOffset=\"50%\" side=\"left\" fill=\"currentColor\" text-anchor=\"middle\">nsubj</textPath>\n",
              "    </text>\n",
              "    <path class=\"displacy-arrowhead\" d=\"M4745,599.0 L4737,587.0 4753,587.0\" fill=\"currentColor\"/>\n",
              "</g>\n",
              "\n",
              "<g class=\"displacy-arrow\">\n",
              "    <path class=\"displacy-arc\" id=\"arrow-e2bc7f60cbee447ab08a9864fce006cc-0-53\" stroke-width=\"2px\" d=\"M4660,597.0 C4660,512.0 4750.0,512.0 4750.0,597.0\" fill=\"none\" stroke=\"currentColor\"/>\n",
              "    <text dy=\"1.25em\" style=\"font-size: 0.8em; letter-spacing: 1px\">\n",
              "        <textPath xlink:href=\"#arrow-e2bc7f60cbee447ab08a9864fce006cc-0-53\" class=\"displacy-label\" startOffset=\"50%\" side=\"left\" fill=\"currentColor\" text-anchor=\"middle\">relcl</textPath>\n",
              "    </text>\n",
              "    <path class=\"displacy-arrowhead\" d=\"M4750.0,599.0 L4758.0,587.0 4742.0,587.0\" fill=\"currentColor\"/>\n",
              "</g>\n",
              "\n",
              "<g class=\"displacy-arrow\">\n",
              "    <path class=\"displacy-arc\" id=\"arrow-e2bc7f60cbee447ab08a9864fce006cc-0-54\" stroke-width=\"2px\" d=\"M4830,597.0 C4830,554.5 4830.0,554.5 4830.0,597.0\" fill=\"none\" stroke=\"currentColor\"/>\n",
              "    <text dy=\"1.25em\" style=\"font-size: 0.8em; letter-spacing: 1px\">\n",
              "        <textPath xlink:href=\"#arrow-e2bc7f60cbee447ab08a9864fce006cc-0-54\" class=\"displacy-label\" startOffset=\"50%\" side=\"left\" fill=\"currentColor\" text-anchor=\"middle\">prt</textPath>\n",
              "    </text>\n",
              "    <path class=\"displacy-arrowhead\" d=\"M4830.0,599.0 L4838.0,587.0 4822.0,587.0\" fill=\"currentColor\"/>\n",
              "</g>\n",
              "\n",
              "<g class=\"displacy-arrow\">\n",
              "    <path class=\"displacy-arc\" id=\"arrow-e2bc7f60cbee447ab08a9864fce006cc-0-55\" stroke-width=\"2px\" d=\"M4830,597.0 C4830,512.0 4920.0,512.0 4920.0,597.0\" fill=\"none\" stroke=\"currentColor\"/>\n",
              "    <text dy=\"1.25em\" style=\"font-size: 0.8em; letter-spacing: 1px\">\n",
              "        <textPath xlink:href=\"#arrow-e2bc7f60cbee447ab08a9864fce006cc-0-55\" class=\"displacy-label\" startOffset=\"50%\" side=\"left\" fill=\"currentColor\" text-anchor=\"middle\">prep</textPath>\n",
              "    </text>\n",
              "    <path class=\"displacy-arrowhead\" d=\"M4920.0,599.0 L4928.0,587.0 4912.0,587.0\" fill=\"currentColor\"/>\n",
              "</g>\n",
              "\n",
              "<g class=\"displacy-arrow\">\n",
              "    <path class=\"displacy-arc\" id=\"arrow-e2bc7f60cbee447ab08a9864fce006cc-0-56\" stroke-width=\"2px\" d=\"M5000,597.0 C5000,554.5 5000.0,554.5 5000.0,597.0\" fill=\"none\" stroke=\"currentColor\"/>\n",
              "    <text dy=\"1.25em\" style=\"font-size: 0.8em; letter-spacing: 1px\">\n",
              "        <textPath xlink:href=\"#arrow-e2bc7f60cbee447ab08a9864fce006cc-0-56\" class=\"displacy-label\" startOffset=\"50%\" side=\"left\" fill=\"currentColor\" text-anchor=\"middle\">pobj</textPath>\n",
              "    </text>\n",
              "    <path class=\"displacy-arrowhead\" d=\"M5000.0,599.0 L5008.0,587.0 4992.0,587.0\" fill=\"currentColor\"/>\n",
              "</g>\n",
              "\n",
              "<g class=\"displacy-arrow\">\n",
              "    <path class=\"displacy-arc\" id=\"arrow-e2bc7f60cbee447ab08a9864fce006cc-0-57\" stroke-width=\"2px\" d=\"M4830,597.0 C4830,427.0 5100.0,427.0 5100.0,597.0\" fill=\"none\" stroke=\"currentColor\"/>\n",
              "    <text dy=\"1.25em\" style=\"font-size: 0.8em; letter-spacing: 1px\">\n",
              "        <textPath xlink:href=\"#arrow-e2bc7f60cbee447ab08a9864fce006cc-0-57\" class=\"displacy-label\" startOffset=\"50%\" side=\"left\" fill=\"currentColor\" text-anchor=\"middle\">prep</textPath>\n",
              "    </text>\n",
              "    <path class=\"displacy-arrowhead\" d=\"M5100.0,599.0 L5108.0,587.0 5092.0,587.0\" fill=\"currentColor\"/>\n",
              "</g>\n",
              "\n",
              "<g class=\"displacy-arrow\">\n",
              "    <path class=\"displacy-arc\" id=\"arrow-e2bc7f60cbee447ab08a9864fce006cc-0-58\" stroke-width=\"2px\" d=\"M5170,597.0 C5170,554.5 5170.0,554.5 5170.0,597.0\" fill=\"none\" stroke=\"currentColor\"/>\n",
              "    <text dy=\"1.25em\" style=\"font-size: 0.8em; letter-spacing: 1px\">\n",
              "        <textPath xlink:href=\"#arrow-e2bc7f60cbee447ab08a9864fce006cc-0-58\" class=\"displacy-label\" startOffset=\"50%\" side=\"left\" fill=\"currentColor\" text-anchor=\"middle\">pobj</textPath>\n",
              "    </text>\n",
              "    <path class=\"displacy-arrowhead\" d=\"M5170.0,599.0 L5178.0,587.0 5162.0,587.0\" fill=\"currentColor\"/>\n",
              "</g>\n",
              "\n",
              "<g class=\"displacy-arrow\">\n",
              "    <path class=\"displacy-arc\" id=\"arrow-e2bc7f60cbee447ab08a9864fce006cc-0-59\" stroke-width=\"2px\" d=\"M5340,597.0 C5340,512.0 5430.0,512.0 5430.0,597.0\" fill=\"none\" stroke=\"currentColor\"/>\n",
              "    <text dy=\"1.25em\" style=\"font-size: 0.8em; letter-spacing: 1px\">\n",
              "        <textPath xlink:href=\"#arrow-e2bc7f60cbee447ab08a9864fce006cc-0-59\" class=\"displacy-label\" startOffset=\"50%\" side=\"left\" fill=\"currentColor\" text-anchor=\"middle\">nsubjpass</textPath>\n",
              "    </text>\n",
              "    <path class=\"displacy-arrowhead\" d=\"M5340,599.0 L5332,587.0 5348,587.0\" fill=\"currentColor\"/>\n",
              "</g>\n",
              "\n",
              "<g class=\"displacy-arrow\">\n",
              "    <path class=\"displacy-arc\" id=\"arrow-e2bc7f60cbee447ab08a9864fce006cc-0-60\" stroke-width=\"2px\" d=\"M5425,597.0 C5425,554.5 5425.0,554.5 5425.0,597.0\" fill=\"none\" stroke=\"currentColor\"/>\n",
              "    <text dy=\"1.25em\" style=\"font-size: 0.8em; letter-spacing: 1px\">\n",
              "        <textPath xlink:href=\"#arrow-e2bc7f60cbee447ab08a9864fce006cc-0-60\" class=\"displacy-label\" startOffset=\"50%\" side=\"left\" fill=\"currentColor\" text-anchor=\"middle\">auxpass</textPath>\n",
              "    </text>\n",
              "    <path class=\"displacy-arrowhead\" d=\"M5425,599.0 L5417,587.0 5433,587.0\" fill=\"currentColor\"/>\n",
              "</g>\n",
              "\n",
              "<g class=\"displacy-arrow\">\n",
              "    <path class=\"displacy-arc\" id=\"arrow-e2bc7f60cbee447ab08a9864fce006cc-0-61\" stroke-width=\"2px\" d=\"M5595,597.0 C5595,554.5 5595.0,554.5 5595.0,597.0\" fill=\"none\" stroke=\"currentColor\"/>\n",
              "    <text dy=\"1.25em\" style=\"font-size: 0.8em; letter-spacing: 1px\">\n",
              "        <textPath xlink:href=\"#arrow-e2bc7f60cbee447ab08a9864fce006cc-0-61\" class=\"displacy-label\" startOffset=\"50%\" side=\"left\" fill=\"currentColor\" text-anchor=\"middle\">advmod</textPath>\n",
              "    </text>\n",
              "    <path class=\"displacy-arrowhead\" d=\"M5595,599.0 L5587,587.0 5603,587.0\" fill=\"currentColor\"/>\n",
              "</g>\n",
              "\n",
              "<g class=\"displacy-arrow\">\n",
              "    <path class=\"displacy-arc\" id=\"arrow-e2bc7f60cbee447ab08a9864fce006cc-0-62\" stroke-width=\"2px\" d=\"M5510,597.0 C5510,512.0 5600.0,512.0 5600.0,597.0\" fill=\"none\" stroke=\"currentColor\"/>\n",
              "    <text dy=\"1.25em\" style=\"font-size: 0.8em; letter-spacing: 1px\">\n",
              "        <textPath xlink:href=\"#arrow-e2bc7f60cbee447ab08a9864fce006cc-0-62\" class=\"displacy-label\" startOffset=\"50%\" side=\"left\" fill=\"currentColor\" text-anchor=\"middle\">acomp</textPath>\n",
              "    </text>\n",
              "    <path class=\"displacy-arrowhead\" d=\"M5600.0,599.0 L5608.0,587.0 5592.0,587.0\" fill=\"currentColor\"/>\n",
              "</g>\n",
              "\n",
              "<g class=\"displacy-arrow\">\n",
              "    <path class=\"displacy-arc\" id=\"arrow-e2bc7f60cbee447ab08a9864fce006cc-0-63\" stroke-width=\"2px\" d=\"M5680,597.0 C5680,554.5 5680.0,554.5 5680.0,597.0\" fill=\"none\" stroke=\"currentColor\"/>\n",
              "    <text dy=\"1.25em\" style=\"font-size: 0.8em; letter-spacing: 1px\">\n",
              "        <textPath xlink:href=\"#arrow-e2bc7f60cbee447ab08a9864fce006cc-0-63\" class=\"displacy-label\" startOffset=\"50%\" side=\"left\" fill=\"currentColor\" text-anchor=\"middle\">cc</textPath>\n",
              "    </text>\n",
              "    <path class=\"displacy-arrowhead\" d=\"M5680.0,599.0 L5688.0,587.0 5672.0,587.0\" fill=\"currentColor\"/>\n",
              "</g>\n",
              "\n",
              "<g class=\"displacy-arrow\">\n",
              "    <path class=\"displacy-arc\" id=\"arrow-e2bc7f60cbee447ab08a9864fce006cc-0-64\" stroke-width=\"2px\" d=\"M5680,597.0 C5680,512.0 5770.0,512.0 5770.0,597.0\" fill=\"none\" stroke=\"currentColor\"/>\n",
              "    <text dy=\"1.25em\" style=\"font-size: 0.8em; letter-spacing: 1px\">\n",
              "        <textPath xlink:href=\"#arrow-e2bc7f60cbee447ab08a9864fce006cc-0-64\" class=\"displacy-label\" startOffset=\"50%\" side=\"left\" fill=\"currentColor\" text-anchor=\"middle\">conj</textPath>\n",
              "    </text>\n",
              "    <path class=\"displacy-arrowhead\" d=\"M5770.0,599.0 L5778.0,587.0 5762.0,587.0\" fill=\"currentColor\"/>\n",
              "</g>\n",
              "\n",
              "<g class=\"displacy-arrow\">\n",
              "    <path class=\"displacy-arc\" id=\"arrow-e2bc7f60cbee447ab08a9864fce006cc-0-65\" stroke-width=\"2px\" d=\"M5850,597.0 C5850,554.5 5850.0,554.5 5850.0,597.0\" fill=\"none\" stroke=\"currentColor\"/>\n",
              "    <text dy=\"1.25em\" style=\"font-size: 0.8em; letter-spacing: 1px\">\n",
              "        <textPath xlink:href=\"#arrow-e2bc7f60cbee447ab08a9864fce006cc-0-65\" class=\"displacy-label\" startOffset=\"50%\" side=\"left\" fill=\"currentColor\" text-anchor=\"middle\">prep</textPath>\n",
              "    </text>\n",
              "    <path class=\"displacy-arrowhead\" d=\"M5850.0,599.0 L5858.0,587.0 5842.0,587.0\" fill=\"currentColor\"/>\n",
              "</g>\n",
              "\n",
              "<g class=\"displacy-arrow\">\n",
              "    <path class=\"displacy-arc\" id=\"arrow-e2bc7f60cbee447ab08a9864fce006cc-0-66\" stroke-width=\"2px\" d=\"M5510,597.0 C5510,342.0 5960.0,342.0 5960.0,597.0\" fill=\"none\" stroke=\"currentColor\"/>\n",
              "    <text dy=\"1.25em\" style=\"font-size: 0.8em; letter-spacing: 1px\">\n",
              "        <textPath xlink:href=\"#arrow-e2bc7f60cbee447ab08a9864fce006cc-0-66\" class=\"displacy-label\" startOffset=\"50%\" side=\"left\" fill=\"currentColor\" text-anchor=\"middle\">punct</textPath>\n",
              "    </text>\n",
              "    <path class=\"displacy-arrowhead\" d=\"M5960.0,599.0 L5968.0,587.0 5952.0,587.0\" fill=\"currentColor\"/>\n",
              "</g>\n",
              "\n",
              "<g class=\"displacy-arrow\">\n",
              "    <path class=\"displacy-arc\" id=\"arrow-e2bc7f60cbee447ab08a9864fce006cc-0-67\" stroke-width=\"2px\" d=\"M6020,597.0 C6020,554.5 6020.0,554.5 6020.0,597.0\" fill=\"none\" stroke=\"currentColor\"/>\n",
              "    <text dy=\"1.25em\" style=\"font-size: 0.8em; letter-spacing: 1px\">\n",
              "        <textPath xlink:href=\"#arrow-e2bc7f60cbee447ab08a9864fce006cc-0-67\" class=\"displacy-label\" startOffset=\"50%\" side=\"left\" fill=\"currentColor\" text-anchor=\"middle\"></textPath>\n",
              "    </text>\n",
              "    <path class=\"displacy-arrowhead\" d=\"M6020.0,599.0 L6028.0,587.0 6012.0,587.0\" fill=\"currentColor\"/>\n",
              "</g>\n",
              "\n",
              "<g class=\"displacy-arrow\">\n",
              "    <path class=\"displacy-arc\" id=\"arrow-e2bc7f60cbee447ab08a9864fce006cc-0-68\" stroke-width=\"2px\" d=\"M6190,597.0 C6190,554.5 6190.0,554.5 6190.0,597.0\" fill=\"none\" stroke=\"currentColor\"/>\n",
              "    <text dy=\"1.25em\" style=\"font-size: 0.8em; letter-spacing: 1px\">\n",
              "        <textPath xlink:href=\"#arrow-e2bc7f60cbee447ab08a9864fce006cc-0-68\" class=\"displacy-label\" startOffset=\"50%\" side=\"left\" fill=\"currentColor\" text-anchor=\"middle\">amod</textPath>\n",
              "    </text>\n",
              "    <path class=\"displacy-arrowhead\" d=\"M6190,599.0 L6182,587.0 6198,587.0\" fill=\"currentColor\"/>\n",
              "</g>\n",
              "\n",
              "<g class=\"displacy-arrow\">\n",
              "    <path class=\"displacy-arc\" id=\"arrow-e2bc7f60cbee447ab08a9864fce006cc-0-69\" stroke-width=\"2px\" d=\"M6275,597.0 C6275,512.0 6365.0,512.0 6365.0,597.0\" fill=\"none\" stroke=\"currentColor\"/>\n",
              "    <text dy=\"1.25em\" style=\"font-size: 0.8em; letter-spacing: 1px\">\n",
              "        <textPath xlink:href=\"#arrow-e2bc7f60cbee447ab08a9864fce006cc-0-69\" class=\"displacy-label\" startOffset=\"50%\" side=\"left\" fill=\"currentColor\" text-anchor=\"middle\">nsubj</textPath>\n",
              "    </text>\n",
              "    <path class=\"displacy-arrowhead\" d=\"M6275,599.0 L6267,587.0 6283,587.0\" fill=\"currentColor\"/>\n",
              "</g>\n",
              "\n",
              "<g class=\"displacy-arrow\">\n",
              "    <path class=\"displacy-arc\" id=\"arrow-e2bc7f60cbee447ab08a9864fce006cc-0-70\" stroke-width=\"2px\" d=\"M6360,597.0 C6360,554.5 6360.0,554.5 6360.0,597.0\" fill=\"none\" stroke=\"currentColor\"/>\n",
              "    <text dy=\"1.25em\" style=\"font-size: 0.8em; letter-spacing: 1px\">\n",
              "        <textPath xlink:href=\"#arrow-e2bc7f60cbee447ab08a9864fce006cc-0-70\" class=\"displacy-label\" startOffset=\"50%\" side=\"left\" fill=\"currentColor\" text-anchor=\"middle\">advmod</textPath>\n",
              "    </text>\n",
              "    <path class=\"displacy-arrowhead\" d=\"M6360,599.0 L6352,587.0 6368,587.0\" fill=\"currentColor\"/>\n",
              "</g>\n",
              "\n",
              "<g class=\"displacy-arrow\">\n",
              "    <path class=\"displacy-arc\" id=\"arrow-e2bc7f60cbee447ab08a9864fce006cc-0-71\" stroke-width=\"2px\" d=\"M6530,597.0 C6530,554.5 6530.0,554.5 6530.0,597.0\" fill=\"none\" stroke=\"currentColor\"/>\n",
              "    <text dy=\"1.25em\" style=\"font-size: 0.8em; letter-spacing: 1px\">\n",
              "        <textPath xlink:href=\"#arrow-e2bc7f60cbee447ab08a9864fce006cc-0-71\" class=\"displacy-label\" startOffset=\"50%\" side=\"left\" fill=\"currentColor\" text-anchor=\"middle\">aux</textPath>\n",
              "    </text>\n",
              "    <path class=\"displacy-arrowhead\" d=\"M6530,599.0 L6522,587.0 6538,587.0\" fill=\"currentColor\"/>\n",
              "</g>\n",
              "\n",
              "<g class=\"displacy-arrow\">\n",
              "    <path class=\"displacy-arc\" id=\"arrow-e2bc7f60cbee447ab08a9864fce006cc-0-72\" stroke-width=\"2px\" d=\"M6445,597.0 C6445,512.0 6535.0,512.0 6535.0,597.0\" fill=\"none\" stroke=\"currentColor\"/>\n",
              "    <text dy=\"1.25em\" style=\"font-size: 0.8em; letter-spacing: 1px\">\n",
              "        <textPath xlink:href=\"#arrow-e2bc7f60cbee447ab08a9864fce006cc-0-72\" class=\"displacy-label\" startOffset=\"50%\" side=\"left\" fill=\"currentColor\" text-anchor=\"middle\">xcomp</textPath>\n",
              "    </text>\n",
              "    <path class=\"displacy-arrowhead\" d=\"M6535.0,599.0 L6543.0,587.0 6527.0,587.0\" fill=\"currentColor\"/>\n",
              "</g>\n",
              "\n",
              "<g class=\"displacy-arrow\">\n",
              "    <path class=\"displacy-arc\" id=\"arrow-e2bc7f60cbee447ab08a9864fce006cc-0-73\" stroke-width=\"2px\" d=\"M6700,597.0 C6700,554.5 6700.0,554.5 6700.0,597.0\" fill=\"none\" stroke=\"currentColor\"/>\n",
              "    <text dy=\"1.25em\" style=\"font-size: 0.8em; letter-spacing: 1px\">\n",
              "        <textPath xlink:href=\"#arrow-e2bc7f60cbee447ab08a9864fce006cc-0-73\" class=\"displacy-label\" startOffset=\"50%\" side=\"left\" fill=\"currentColor\" text-anchor=\"middle\">poss</textPath>\n",
              "    </text>\n",
              "    <path class=\"displacy-arrowhead\" d=\"M6700,599.0 L6692,587.0 6708,587.0\" fill=\"currentColor\"/>\n",
              "</g>\n",
              "\n",
              "<g class=\"displacy-arrow\">\n",
              "    <path class=\"displacy-arc\" id=\"arrow-e2bc7f60cbee447ab08a9864fce006cc-0-74\" stroke-width=\"2px\" d=\"M6615,597.0 C6615,512.0 6705.0,512.0 6705.0,597.0\" fill=\"none\" stroke=\"currentColor\"/>\n",
              "    <text dy=\"1.25em\" style=\"font-size: 0.8em; letter-spacing: 1px\">\n",
              "        <textPath xlink:href=\"#arrow-e2bc7f60cbee447ab08a9864fce006cc-0-74\" class=\"displacy-label\" startOffset=\"50%\" side=\"left\" fill=\"currentColor\" text-anchor=\"middle\">dobj</textPath>\n",
              "    </text>\n",
              "    <path class=\"displacy-arrowhead\" d=\"M6705.0,599.0 L6713.0,587.0 6697.0,587.0\" fill=\"currentColor\"/>\n",
              "</g>\n",
              "\n",
              "<g class=\"displacy-arrow\">\n",
              "    <path class=\"displacy-arc\" id=\"arrow-e2bc7f60cbee447ab08a9864fce006cc-0-75\" stroke-width=\"2px\" d=\"M6615,597.0 C6615,469.5 6795.0,469.5 6795.0,597.0\" fill=\"none\" stroke=\"currentColor\"/>\n",
              "    <text dy=\"1.25em\" style=\"font-size: 0.8em; letter-spacing: 1px\">\n",
              "        <textPath xlink:href=\"#arrow-e2bc7f60cbee447ab08a9864fce006cc-0-75\" class=\"displacy-label\" startOffset=\"50%\" side=\"left\" fill=\"currentColor\" text-anchor=\"middle\">prt</textPath>\n",
              "    </text>\n",
              "    <path class=\"displacy-arrowhead\" d=\"M6795.0,599.0 L6803.0,587.0 6787.0,587.0\" fill=\"currentColor\"/>\n",
              "</g>\n",
              "\n",
              "<g class=\"displacy-arrow\">\n",
              "    <path class=\"displacy-arc\" id=\"arrow-e2bc7f60cbee447ab08a9864fce006cc-0-76\" stroke-width=\"2px\" d=\"M6615,597.0 C6615,427.0 6885.0,427.0 6885.0,597.0\" fill=\"none\" stroke=\"currentColor\"/>\n",
              "    <text dy=\"1.25em\" style=\"font-size: 0.8em; letter-spacing: 1px\">\n",
              "        <textPath xlink:href=\"#arrow-e2bc7f60cbee447ab08a9864fce006cc-0-76\" class=\"displacy-label\" startOffset=\"50%\" side=\"left\" fill=\"currentColor\" text-anchor=\"middle\">prep</textPath>\n",
              "    </text>\n",
              "    <path class=\"displacy-arrowhead\" d=\"M6885.0,599.0 L6893.0,587.0 6877.0,587.0\" fill=\"currentColor\"/>\n",
              "</g>\n",
              "\n",
              "<g class=\"displacy-arrow\">\n",
              "    <path class=\"displacy-arc\" id=\"arrow-e2bc7f60cbee447ab08a9864fce006cc-0-77\" stroke-width=\"2px\" d=\"M6955,597.0 C6955,554.5 6955.0,554.5 6955.0,597.0\" fill=\"none\" stroke=\"currentColor\"/>\n",
              "    <text dy=\"1.25em\" style=\"font-size: 0.8em; letter-spacing: 1px\">\n",
              "        <textPath xlink:href=\"#arrow-e2bc7f60cbee447ab08a9864fce006cc-0-77\" class=\"displacy-label\" startOffset=\"50%\" side=\"left\" fill=\"currentColor\" text-anchor=\"middle\">pobj</textPath>\n",
              "    </text>\n",
              "    <path class=\"displacy-arrowhead\" d=\"M6955.0,599.0 L6963.0,587.0 6947.0,587.0\" fill=\"currentColor\"/>\n",
              "</g>\n",
              "\n",
              "<g class=\"displacy-arrow\">\n",
              "    <path class=\"displacy-arc\" id=\"arrow-e2bc7f60cbee447ab08a9864fce006cc-0-78\" stroke-width=\"2px\" d=\"M7125,597.0 C7125,512.0 7215.0,512.0 7215.0,597.0\" fill=\"none\" stroke=\"currentColor\"/>\n",
              "    <text dy=\"1.25em\" style=\"font-size: 0.8em; letter-spacing: 1px\">\n",
              "        <textPath xlink:href=\"#arrow-e2bc7f60cbee447ab08a9864fce006cc-0-78\" class=\"displacy-label\" startOffset=\"50%\" side=\"left\" fill=\"currentColor\" text-anchor=\"middle\">advmod</textPath>\n",
              "    </text>\n",
              "    <path class=\"displacy-arrowhead\" d=\"M7125,599.0 L7117,587.0 7133,587.0\" fill=\"currentColor\"/>\n",
              "</g>\n",
              "\n",
              "<g class=\"displacy-arrow\">\n",
              "    <path class=\"displacy-arc\" id=\"arrow-e2bc7f60cbee447ab08a9864fce006cc-0-79\" stroke-width=\"2px\" d=\"M7210,597.0 C7210,554.5 7210.0,554.5 7210.0,597.0\" fill=\"none\" stroke=\"currentColor\"/>\n",
              "    <text dy=\"1.25em\" style=\"font-size: 0.8em; letter-spacing: 1px\">\n",
              "        <textPath xlink:href=\"#arrow-e2bc7f60cbee447ab08a9864fce006cc-0-79\" class=\"displacy-label\" startOffset=\"50%\" side=\"left\" fill=\"currentColor\" text-anchor=\"middle\">nsubj</textPath>\n",
              "    </text>\n",
              "    <path class=\"displacy-arrowhead\" d=\"M7210,599.0 L7202,587.0 7218,587.0\" fill=\"currentColor\"/>\n",
              "</g>\n",
              "\n",
              "<g class=\"displacy-arrow\">\n",
              "    <path class=\"displacy-arc\" id=\"arrow-e2bc7f60cbee447ab08a9864fce006cc-0-80\" stroke-width=\"2px\" d=\"M6445,597.0 C6445,172.0 7255.0,172.0 7255.0,597.0\" fill=\"none\" stroke=\"currentColor\"/>\n",
              "    <text dy=\"1.25em\" style=\"font-size: 0.8em; letter-spacing: 1px\">\n",
              "        <textPath xlink:href=\"#arrow-e2bc7f60cbee447ab08a9864fce006cc-0-80\" class=\"displacy-label\" startOffset=\"50%\" side=\"left\" fill=\"currentColor\" text-anchor=\"middle\">advcl</textPath>\n",
              "    </text>\n",
              "    <path class=\"displacy-arrowhead\" d=\"M7255.0,599.0 L7263.0,587.0 7247.0,587.0\" fill=\"currentColor\"/>\n",
              "</g>\n",
              "\n",
              "<g class=\"displacy-arrow\">\n",
              "    <path class=\"displacy-arc\" id=\"arrow-e2bc7f60cbee447ab08a9864fce006cc-0-81\" stroke-width=\"2px\" d=\"M7295,597.0 C7295,554.5 7295.0,554.5 7295.0,597.0\" fill=\"none\" stroke=\"currentColor\"/>\n",
              "    <text dy=\"1.25em\" style=\"font-size: 0.8em; letter-spacing: 1px\">\n",
              "        <textPath xlink:href=\"#arrow-e2bc7f60cbee447ab08a9864fce006cc-0-81\" class=\"displacy-label\" startOffset=\"50%\" side=\"left\" fill=\"currentColor\" text-anchor=\"middle\">advmod</textPath>\n",
              "    </text>\n",
              "    <path class=\"displacy-arrowhead\" d=\"M7295.0,599.0 L7303.0,587.0 7287.0,587.0\" fill=\"currentColor\"/>\n",
              "</g>\n",
              "\n",
              "<g class=\"displacy-arrow\">\n",
              "    <path class=\"displacy-arc\" id=\"arrow-e2bc7f60cbee447ab08a9864fce006cc-0-82\" stroke-width=\"2px\" d=\"M7465,597.0 C7465,554.5 7465.0,554.5 7465.0,597.0\" fill=\"none\" stroke=\"currentColor\"/>\n",
              "    <text dy=\"1.25em\" style=\"font-size: 0.8em; letter-spacing: 1px\">\n",
              "        <textPath xlink:href=\"#arrow-e2bc7f60cbee447ab08a9864fce006cc-0-82\" class=\"displacy-label\" startOffset=\"50%\" side=\"left\" fill=\"currentColor\" text-anchor=\"middle\">aux</textPath>\n",
              "    </text>\n",
              "    <path class=\"displacy-arrowhead\" d=\"M7465,599.0 L7457,587.0 7473,587.0\" fill=\"currentColor\"/>\n",
              "</g>\n",
              "\n",
              "<g class=\"displacy-arrow\">\n",
              "    <path class=\"displacy-arc\" id=\"arrow-e2bc7f60cbee447ab08a9864fce006cc-0-83\" stroke-width=\"2px\" d=\"M6445,597.0 C6445,87.0 7520.0,87.0 7520.0,597.0\" fill=\"none\" stroke=\"currentColor\"/>\n",
              "    <text dy=\"1.25em\" style=\"font-size: 0.8em; letter-spacing: 1px\">\n",
              "        <textPath xlink:href=\"#arrow-e2bc7f60cbee447ab08a9864fce006cc-0-83\" class=\"displacy-label\" startOffset=\"50%\" side=\"left\" fill=\"currentColor\" text-anchor=\"middle\">punct</textPath>\n",
              "    </text>\n",
              "    <path class=\"displacy-arrowhead\" d=\"M7520.0,599.0 L7528.0,587.0 7512.0,587.0\" fill=\"currentColor\"/>\n",
              "</g>\n",
              "\n",
              "<g class=\"displacy-arrow\">\n",
              "    <path class=\"displacy-arc\" id=\"arrow-e2bc7f60cbee447ab08a9864fce006cc-0-84\" stroke-width=\"2px\" d=\"M7550,597.0 C7550,554.5 7550.0,554.5 7550.0,597.0\" fill=\"none\" stroke=\"currentColor\"/>\n",
              "    <text dy=\"1.25em\" style=\"font-size: 0.8em; letter-spacing: 1px\">\n",
              "        <textPath xlink:href=\"#arrow-e2bc7f60cbee447ab08a9864fce006cc-0-84\" class=\"displacy-label\" startOffset=\"50%\" side=\"left\" fill=\"currentColor\" text-anchor=\"middle\"></textPath>\n",
              "    </text>\n",
              "    <path class=\"displacy-arrowhead\" d=\"M7550.0,599.0 L7558.0,587.0 7542.0,587.0\" fill=\"currentColor\"/>\n",
              "</g>\n",
              "\n",
              "<g class=\"displacy-arrow\">\n",
              "    <path class=\"displacy-arc\" id=\"arrow-e2bc7f60cbee447ab08a9864fce006cc-0-85\" stroke-width=\"2px\" d=\"M7720,597.0 C7720,512.0 7810.0,512.0 7810.0,597.0\" fill=\"none\" stroke=\"currentColor\"/>\n",
              "    <text dy=\"1.25em\" style=\"font-size: 0.8em; letter-spacing: 1px\">\n",
              "        <textPath xlink:href=\"#arrow-e2bc7f60cbee447ab08a9864fce006cc-0-85\" class=\"displacy-label\" startOffset=\"50%\" side=\"left\" fill=\"currentColor\" text-anchor=\"middle\">det</textPath>\n",
              "    </text>\n",
              "    <path class=\"displacy-arrowhead\" d=\"M7720,599.0 L7712,587.0 7728,587.0\" fill=\"currentColor\"/>\n",
              "</g>\n",
              "\n",
              "<g class=\"displacy-arrow\">\n",
              "    <path class=\"displacy-arc\" id=\"arrow-e2bc7f60cbee447ab08a9864fce006cc-0-86\" stroke-width=\"2px\" d=\"M7805,597.0 C7805,554.5 7805.0,554.5 7805.0,597.0\" fill=\"none\" stroke=\"currentColor\"/>\n",
              "    <text dy=\"1.25em\" style=\"font-size: 0.8em; letter-spacing: 1px\">\n",
              "        <textPath xlink:href=\"#arrow-e2bc7f60cbee447ab08a9864fce006cc-0-86\" class=\"displacy-label\" startOffset=\"50%\" side=\"left\" fill=\"currentColor\" text-anchor=\"middle\">amod</textPath>\n",
              "    </text>\n",
              "    <path class=\"displacy-arrowhead\" d=\"M7805,599.0 L7797,587.0 7813,587.0\" fill=\"currentColor\"/>\n",
              "</g>\n",
              "\n",
              "<g class=\"displacy-arrow\">\n",
              "    <path class=\"displacy-arc\" id=\"arrow-e2bc7f60cbee447ab08a9864fce006cc-0-87\" stroke-width=\"2px\" d=\"M7890,597.0 C7890,257.0 8520.0,257.0 8520.0,597.0\" fill=\"none\" stroke=\"currentColor\"/>\n",
              "    <text dy=\"1.25em\" style=\"font-size: 0.8em; letter-spacing: 1px\">\n",
              "        <textPath xlink:href=\"#arrow-e2bc7f60cbee447ab08a9864fce006cc-0-87\" class=\"displacy-label\" startOffset=\"50%\" side=\"left\" fill=\"currentColor\" text-anchor=\"middle\">nsubj</textPath>\n",
              "    </text>\n",
              "    <path class=\"displacy-arrowhead\" d=\"M7890,599.0 L7882,587.0 7898,587.0\" fill=\"currentColor\"/>\n",
              "</g>\n",
              "\n",
              "<g class=\"displacy-arrow\">\n",
              "    <path class=\"displacy-arc\" id=\"arrow-e2bc7f60cbee447ab08a9864fce006cc-0-88\" stroke-width=\"2px\" d=\"M7890,597.0 C7890,554.5 7890.0,554.5 7890.0,597.0\" fill=\"none\" stroke=\"currentColor\"/>\n",
              "    <text dy=\"1.25em\" style=\"font-size: 0.8em; letter-spacing: 1px\">\n",
              "        <textPath xlink:href=\"#arrow-e2bc7f60cbee447ab08a9864fce006cc-0-88\" class=\"displacy-label\" startOffset=\"50%\" side=\"left\" fill=\"currentColor\" text-anchor=\"middle\">acl</textPath>\n",
              "    </text>\n",
              "    <path class=\"displacy-arrowhead\" d=\"M7890.0,599.0 L7898.0,587.0 7882.0,587.0\" fill=\"currentColor\"/>\n",
              "</g>\n",
              "\n",
              "<g class=\"displacy-arrow\">\n",
              "    <path class=\"displacy-arc\" id=\"arrow-e2bc7f60cbee447ab08a9864fce006cc-0-89\" stroke-width=\"2px\" d=\"M7975,597.0 C7975,554.5 7975.0,554.5 7975.0,597.0\" fill=\"none\" stroke=\"currentColor\"/>\n",
              "    <text dy=\"1.25em\" style=\"font-size: 0.8em; letter-spacing: 1px\">\n",
              "        <textPath xlink:href=\"#arrow-e2bc7f60cbee447ab08a9864fce006cc-0-89\" class=\"displacy-label\" startOffset=\"50%\" side=\"left\" fill=\"currentColor\" text-anchor=\"middle\">prep</textPath>\n",
              "    </text>\n",
              "    <path class=\"displacy-arrowhead\" d=\"M7975.0,599.0 L7983.0,587.0 7967.0,587.0\" fill=\"currentColor\"/>\n",
              "</g>\n",
              "\n",
              "<g class=\"displacy-arrow\">\n",
              "    <path class=\"displacy-arc\" id=\"arrow-e2bc7f60cbee447ab08a9864fce006cc-0-90\" stroke-width=\"2px\" d=\"M8145,597.0 C8145,554.5 8145.0,554.5 8145.0,597.0\" fill=\"none\" stroke=\"currentColor\"/>\n",
              "    <text dy=\"1.25em\" style=\"font-size: 0.8em; letter-spacing: 1px\">\n",
              "        <textPath xlink:href=\"#arrow-e2bc7f60cbee447ab08a9864fce006cc-0-90\" class=\"displacy-label\" startOffset=\"50%\" side=\"left\" fill=\"currentColor\" text-anchor=\"middle\">compound</textPath>\n",
              "    </text>\n",
              "    <path class=\"displacy-arrowhead\" d=\"M8145,599.0 L8137,587.0 8153,587.0\" fill=\"currentColor\"/>\n",
              "</g>\n",
              "\n",
              "<g class=\"displacy-arrow\">\n",
              "    <path class=\"displacy-arc\" id=\"arrow-e2bc7f60cbee447ab08a9864fce006cc-0-91\" stroke-width=\"2px\" d=\"M8060,597.0 C8060,512.0 8150.0,512.0 8150.0,597.0\" fill=\"none\" stroke=\"currentColor\"/>\n",
              "    <text dy=\"1.25em\" style=\"font-size: 0.8em; letter-spacing: 1px\">\n",
              "        <textPath xlink:href=\"#arrow-e2bc7f60cbee447ab08a9864fce006cc-0-91\" class=\"displacy-label\" startOffset=\"50%\" side=\"left\" fill=\"currentColor\" text-anchor=\"middle\">pobj</textPath>\n",
              "    </text>\n",
              "    <path class=\"displacy-arrowhead\" d=\"M8150.0,599.0 L8158.0,587.0 8142.0,587.0\" fill=\"currentColor\"/>\n",
              "</g>\n",
              "\n",
              "<g class=\"displacy-arrow\">\n",
              "    <path class=\"displacy-arc\" id=\"arrow-e2bc7f60cbee447ab08a9864fce006cc-0-92\" stroke-width=\"2px\" d=\"M8315,597.0 C8315,554.5 8315.0,554.5 8315.0,597.0\" fill=\"none\" stroke=\"currentColor\"/>\n",
              "    <text dy=\"1.25em\" style=\"font-size: 0.8em; letter-spacing: 1px\">\n",
              "        <textPath xlink:href=\"#arrow-e2bc7f60cbee447ab08a9864fce006cc-0-92\" class=\"displacy-label\" startOffset=\"50%\" side=\"left\" fill=\"currentColor\" text-anchor=\"middle\">det</textPath>\n",
              "    </text>\n",
              "    <path class=\"displacy-arrowhead\" d=\"M8315,599.0 L8307,587.0 8323,587.0\" fill=\"currentColor\"/>\n",
              "</g>\n",
              "\n",
              "<g class=\"displacy-arrow\">\n",
              "    <path class=\"displacy-arc\" id=\"arrow-e2bc7f60cbee447ab08a9864fce006cc-0-93\" stroke-width=\"2px\" d=\"M8400,597.0 C8400,512.0 8490.0,512.0 8490.0,597.0\" fill=\"none\" stroke=\"currentColor\"/>\n",
              "    <text dy=\"1.25em\" style=\"font-size: 0.8em; letter-spacing: 1px\">\n",
              "        <textPath xlink:href=\"#arrow-e2bc7f60cbee447ab08a9864fce006cc-0-93\" class=\"displacy-label\" startOffset=\"50%\" side=\"left\" fill=\"currentColor\" text-anchor=\"middle\">nsubj</textPath>\n",
              "    </text>\n",
              "    <path class=\"displacy-arrowhead\" d=\"M8400,599.0 L8392,587.0 8408,587.0\" fill=\"currentColor\"/>\n",
              "</g>\n",
              "\n",
              "<g class=\"displacy-arrow\">\n",
              "    <path class=\"displacy-arc\" id=\"arrow-e2bc7f60cbee447ab08a9864fce006cc-0-94\" stroke-width=\"2px\" d=\"M8485,597.0 C8485,554.5 8485.0,554.5 8485.0,597.0\" fill=\"none\" stroke=\"currentColor\"/>\n",
              "    <text dy=\"1.25em\" style=\"font-size: 0.8em; letter-spacing: 1px\">\n",
              "        <textPath xlink:href=\"#arrow-e2bc7f60cbee447ab08a9864fce006cc-0-94\" class=\"displacy-label\" startOffset=\"50%\" side=\"left\" fill=\"currentColor\" text-anchor=\"middle\">advmod</textPath>\n",
              "    </text>\n",
              "    <path class=\"displacy-arrowhead\" d=\"M8485,599.0 L8477,587.0 8493,587.0\" fill=\"currentColor\"/>\n",
              "</g>\n",
              "\n",
              "<g class=\"displacy-arrow\">\n",
              "    <path class=\"displacy-arc\" id=\"arrow-e2bc7f60cbee447ab08a9864fce006cc-0-95\" stroke-width=\"2px\" d=\"M8655,597.0 C8655,554.5 8655.0,554.5 8655.0,597.0\" fill=\"none\" stroke=\"currentColor\"/>\n",
              "    <text dy=\"1.25em\" style=\"font-size: 0.8em; letter-spacing: 1px\">\n",
              "        <textPath xlink:href=\"#arrow-e2bc7f60cbee447ab08a9864fce006cc-0-95\" class=\"displacy-label\" startOffset=\"50%\" side=\"left\" fill=\"currentColor\" text-anchor=\"middle\">compound</textPath>\n",
              "    </text>\n",
              "    <path class=\"displacy-arrowhead\" d=\"M8655,599.0 L8647,587.0 8663,587.0\" fill=\"currentColor\"/>\n",
              "</g>\n",
              "\n",
              "<g class=\"displacy-arrow\">\n",
              "    <path class=\"displacy-arc\" id=\"arrow-e2bc7f60cbee447ab08a9864fce006cc-0-96\" stroke-width=\"2px\" d=\"M8570,597.0 C8570,512.0 8660.0,512.0 8660.0,597.0\" fill=\"none\" stroke=\"currentColor\"/>\n",
              "    <text dy=\"1.25em\" style=\"font-size: 0.8em; letter-spacing: 1px\">\n",
              "        <textPath xlink:href=\"#arrow-e2bc7f60cbee447ab08a9864fce006cc-0-96\" class=\"displacy-label\" startOffset=\"50%\" side=\"left\" fill=\"currentColor\" text-anchor=\"middle\">attr</textPath>\n",
              "    </text>\n",
              "    <path class=\"displacy-arrowhead\" d=\"M8660.0,599.0 L8668.0,587.0 8652.0,587.0\" fill=\"currentColor\"/>\n",
              "</g>\n",
              "\n",
              "<g class=\"displacy-arrow\">\n",
              "    <path class=\"displacy-arc\" id=\"arrow-e2bc7f60cbee447ab08a9864fce006cc-0-97\" stroke-width=\"2px\" d=\"M8740,597.0 C8740,554.5 8740.0,554.5 8740.0,597.0\" fill=\"none\" stroke=\"currentColor\"/>\n",
              "    <text dy=\"1.25em\" style=\"font-size: 0.8em; letter-spacing: 1px\">\n",
              "        <textPath xlink:href=\"#arrow-e2bc7f60cbee447ab08a9864fce006cc-0-97\" class=\"displacy-label\" startOffset=\"50%\" side=\"left\" fill=\"currentColor\" text-anchor=\"middle\"></textPath>\n",
              "    </text>\n",
              "    <path class=\"displacy-arrowhead\" d=\"M8740.0,599.0 L8748.0,587.0 8732.0,587.0\" fill=\"currentColor\"/>\n",
              "</g>\n",
              "\n",
              "<g class=\"displacy-arrow\">\n",
              "    <path class=\"displacy-arc\" id=\"arrow-e2bc7f60cbee447ab08a9864fce006cc-0-98\" stroke-width=\"2px\" d=\"M8910,597.0 C8910,554.5 8910.0,554.5 8910.0,597.0\" fill=\"none\" stroke=\"currentColor\"/>\n",
              "    <text dy=\"1.25em\" style=\"font-size: 0.8em; letter-spacing: 1px\">\n",
              "        <textPath xlink:href=\"#arrow-e2bc7f60cbee447ab08a9864fce006cc-0-98\" class=\"displacy-label\" startOffset=\"50%\" side=\"left\" fill=\"currentColor\" text-anchor=\"middle\">nmod</textPath>\n",
              "    </text>\n",
              "    <path class=\"displacy-arrowhead\" d=\"M8910,599.0 L8902,587.0 8918,587.0\" fill=\"currentColor\"/>\n",
              "</g>\n",
              "\n",
              "<g class=\"displacy-arrow\">\n",
              "    <path class=\"displacy-arc\" id=\"arrow-e2bc7f60cbee447ab08a9864fce006cc-0-99\" stroke-width=\"2px\" d=\"M8740,597.0 C8740,469.5 8920.0,469.5 8920.0,597.0\" fill=\"none\" stroke=\"currentColor\"/>\n",
              "    <text dy=\"1.25em\" style=\"font-size: 0.8em; letter-spacing: 1px\">\n",
              "        <textPath xlink:href=\"#arrow-e2bc7f60cbee447ab08a9864fce006cc-0-99\" class=\"displacy-label\" startOffset=\"50%\" side=\"left\" fill=\"currentColor\" text-anchor=\"middle\">appos</textPath>\n",
              "    </text>\n",
              "    <path class=\"displacy-arrowhead\" d=\"M8920.0,599.0 L8928.0,587.0 8912.0,587.0\" fill=\"currentColor\"/>\n",
              "</g>\n",
              "\n",
              "<g class=\"displacy-arrow\">\n",
              "    <path class=\"displacy-arc\" id=\"arrow-e2bc7f60cbee447ab08a9864fce006cc-0-100\" stroke-width=\"2px\" d=\"M8995,597.0 C8995,554.5 8995.0,554.5 8995.0,597.0\" fill=\"none\" stroke=\"currentColor\"/>\n",
              "    <text dy=\"1.25em\" style=\"font-size: 0.8em; letter-spacing: 1px\">\n",
              "        <textPath xlink:href=\"#arrow-e2bc7f60cbee447ab08a9864fce006cc-0-100\" class=\"displacy-label\" startOffset=\"50%\" side=\"left\" fill=\"currentColor\" text-anchor=\"middle\">cc</textPath>\n",
              "    </text>\n",
              "    <path class=\"displacy-arrowhead\" d=\"M8995.0,599.0 L9003.0,587.0 8987.0,587.0\" fill=\"currentColor\"/>\n",
              "</g>\n",
              "\n",
              "<g class=\"displacy-arrow\">\n",
              "    <path class=\"displacy-arc\" id=\"arrow-e2bc7f60cbee447ab08a9864fce006cc-0-101\" stroke-width=\"2px\" d=\"M8570,597.0 C8570,299.5 9110.0,299.5 9110.0,597.0\" fill=\"none\" stroke=\"currentColor\"/>\n",
              "    <text dy=\"1.25em\" style=\"font-size: 0.8em; letter-spacing: 1px\">\n",
              "        <textPath xlink:href=\"#arrow-e2bc7f60cbee447ab08a9864fce006cc-0-101\" class=\"displacy-label\" startOffset=\"50%\" side=\"left\" fill=\"currentColor\" text-anchor=\"middle\">punct</textPath>\n",
              "    </text>\n",
              "    <path class=\"displacy-arrowhead\" d=\"M9110.0,599.0 L9118.0,587.0 9102.0,587.0\" fill=\"currentColor\"/>\n",
              "</g>\n",
              "\n",
              "<g class=\"displacy-arrow\">\n",
              "    <path class=\"displacy-arc\" id=\"arrow-e2bc7f60cbee447ab08a9864fce006cc-0-102\" stroke-width=\"2px\" d=\"M9165,597.0 C9165,554.5 9165.0,554.5 9165.0,597.0\" fill=\"none\" stroke=\"currentColor\"/>\n",
              "    <text dy=\"1.25em\" style=\"font-size: 0.8em; letter-spacing: 1px\">\n",
              "        <textPath xlink:href=\"#arrow-e2bc7f60cbee447ab08a9864fce006cc-0-102\" class=\"displacy-label\" startOffset=\"50%\" side=\"left\" fill=\"currentColor\" text-anchor=\"middle\"></textPath>\n",
              "    </text>\n",
              "    <path class=\"displacy-arrowhead\" d=\"M9165.0,599.0 L9173.0,587.0 9157.0,587.0\" fill=\"currentColor\"/>\n",
              "</g>\n",
              "\n",
              "<g class=\"displacy-arrow\">\n",
              "    <path class=\"displacy-arc\" id=\"arrow-e2bc7f60cbee447ab08a9864fce006cc-0-103\" stroke-width=\"2px\" d=\"M9335,597.0 C9335,512.0 9425.0,512.0 9425.0,597.0\" fill=\"none\" stroke=\"currentColor\"/>\n",
              "    <text dy=\"1.25em\" style=\"font-size: 0.8em; letter-spacing: 1px\">\n",
              "        <textPath xlink:href=\"#arrow-e2bc7f60cbee447ab08a9864fce006cc-0-103\" class=\"displacy-label\" startOffset=\"50%\" side=\"left\" fill=\"currentColor\" text-anchor=\"middle\">advmod</textPath>\n",
              "    </text>\n",
              "    <path class=\"displacy-arrowhead\" d=\"M9335,599.0 L9327,587.0 9343,587.0\" fill=\"currentColor\"/>\n",
              "</g>\n",
              "\n",
              "<g class=\"displacy-arrow\">\n",
              "    <path class=\"displacy-arc\" id=\"arrow-e2bc7f60cbee447ab08a9864fce006cc-0-104\" stroke-width=\"2px\" d=\"M9420,597.0 C9420,554.5 9420.0,554.5 9420.0,597.0\" fill=\"none\" stroke=\"currentColor\"/>\n",
              "    <text dy=\"1.25em\" style=\"font-size: 0.8em; letter-spacing: 1px\">\n",
              "        <textPath xlink:href=\"#arrow-e2bc7f60cbee447ab08a9864fce006cc-0-104\" class=\"displacy-label\" startOffset=\"50%\" side=\"left\" fill=\"currentColor\" text-anchor=\"middle\">quantmod</textPath>\n",
              "    </text>\n",
              "    <path class=\"displacy-arrowhead\" d=\"M9420,599.0 L9412,587.0 9428,587.0\" fill=\"currentColor\"/>\n",
              "</g>\n",
              "\n",
              "<g class=\"displacy-arrow\">\n",
              "    <path class=\"displacy-arc\" id=\"arrow-e2bc7f60cbee447ab08a9864fce006cc-0-105\" stroke-width=\"2px\" d=\"M9505,597.0 C9505,554.5 9505.0,554.5 9505.0,597.0\" fill=\"none\" stroke=\"currentColor\"/>\n",
              "    <text dy=\"1.25em\" style=\"font-size: 0.8em; letter-spacing: 1px\">\n",
              "        <textPath xlink:href=\"#arrow-e2bc7f60cbee447ab08a9864fce006cc-0-105\" class=\"displacy-label\" startOffset=\"50%\" side=\"left\" fill=\"currentColor\" text-anchor=\"middle\">nsubj</textPath>\n",
              "    </text>\n",
              "    <path class=\"displacy-arrowhead\" d=\"M9505,599.0 L9497,587.0 9513,587.0\" fill=\"currentColor\"/>\n",
              "</g>\n",
              "\n",
              "<g class=\"displacy-arrow\">\n",
              "    <path class=\"displacy-arc\" id=\"arrow-e2bc7f60cbee447ab08a9864fce006cc-0-106\" stroke-width=\"2px\" d=\"M9590,597.0 C9590,554.5 9590.0,554.5 9590.0,597.0\" fill=\"none\" stroke=\"currentColor\"/>\n",
              "    <text dy=\"1.25em\" style=\"font-size: 0.8em; letter-spacing: 1px\">\n",
              "        <textPath xlink:href=\"#arrow-e2bc7f60cbee447ab08a9864fce006cc-0-106\" class=\"displacy-label\" startOffset=\"50%\" side=\"left\" fill=\"currentColor\" text-anchor=\"middle\">prep</textPath>\n",
              "    </text>\n",
              "    <path class=\"displacy-arrowhead\" d=\"M9590.0,599.0 L9598.0,587.0 9582.0,587.0\" fill=\"currentColor\"/>\n",
              "</g>\n",
              "\n",
              "<g class=\"displacy-arrow\">\n",
              "    <path class=\"displacy-arc\" id=\"arrow-e2bc7f60cbee447ab08a9864fce006cc-0-107\" stroke-width=\"2px\" d=\"M9675,597.0 C9675,554.5 9675.0,554.5 9675.0,597.0\" fill=\"none\" stroke=\"currentColor\"/>\n",
              "    <text dy=\"1.25em\" style=\"font-size: 0.8em; letter-spacing: 1px\">\n",
              "        <textPath xlink:href=\"#arrow-e2bc7f60cbee447ab08a9864fce006cc-0-107\" class=\"displacy-label\" startOffset=\"50%\" side=\"left\" fill=\"currentColor\" text-anchor=\"middle\">prep</textPath>\n",
              "    </text>\n",
              "    <path class=\"displacy-arrowhead\" d=\"M9675.0,599.0 L9683.0,587.0 9667.0,587.0\" fill=\"currentColor\"/>\n",
              "</g>\n",
              "\n",
              "<g class=\"displacy-arrow\">\n",
              "    <path class=\"displacy-arc\" id=\"arrow-e2bc7f60cbee447ab08a9864fce006cc-0-108\" stroke-width=\"2px\" d=\"M9845,597.0 C9845,512.0 9935.0,512.0 9935.0,597.0\" fill=\"none\" stroke=\"currentColor\"/>\n",
              "    <text dy=\"1.25em\" style=\"font-size: 0.8em; letter-spacing: 1px\">\n",
              "        <textPath xlink:href=\"#arrow-e2bc7f60cbee447ab08a9864fce006cc-0-108\" class=\"displacy-label\" startOffset=\"50%\" side=\"left\" fill=\"currentColor\" text-anchor=\"middle\">det</textPath>\n",
              "    </text>\n",
              "    <path class=\"displacy-arrowhead\" d=\"M9845,599.0 L9837,587.0 9853,587.0\" fill=\"currentColor\"/>\n",
              "</g>\n",
              "\n",
              "<g class=\"displacy-arrow\">\n",
              "    <path class=\"displacy-arc\" id=\"arrow-e2bc7f60cbee447ab08a9864fce006cc-0-109\" stroke-width=\"2px\" d=\"M9930,597.0 C9930,554.5 9930.0,554.5 9930.0,597.0\" fill=\"none\" stroke=\"currentColor\"/>\n",
              "    <text dy=\"1.25em\" style=\"font-size: 0.8em; letter-spacing: 1px\">\n",
              "        <textPath xlink:href=\"#arrow-e2bc7f60cbee447ab08a9864fce006cc-0-109\" class=\"displacy-label\" startOffset=\"50%\" side=\"left\" fill=\"currentColor\" text-anchor=\"middle\">amod</textPath>\n",
              "    </text>\n",
              "    <path class=\"displacy-arrowhead\" d=\"M9930,599.0 L9922,587.0 9938,587.0\" fill=\"currentColor\"/>\n",
              "</g>\n",
              "\n",
              "<g class=\"displacy-arrow\">\n",
              "    <path class=\"displacy-arc\" id=\"arrow-e2bc7f60cbee447ab08a9864fce006cc-0-110\" stroke-width=\"2px\" d=\"M10015,597.0 C10015,512.0 10105.0,512.0 10105.0,597.0\" fill=\"none\" stroke=\"currentColor\"/>\n",
              "    <text dy=\"1.25em\" style=\"font-size: 0.8em; letter-spacing: 1px\">\n",
              "        <textPath xlink:href=\"#arrow-e2bc7f60cbee447ab08a9864fce006cc-0-110\" class=\"displacy-label\" startOffset=\"50%\" side=\"left\" fill=\"currentColor\" text-anchor=\"middle\">poss</textPath>\n",
              "    </text>\n",
              "    <path class=\"displacy-arrowhead\" d=\"M10015,599.0 L10007,587.0 10023,587.0\" fill=\"currentColor\"/>\n",
              "</g>\n",
              "\n",
              "<g class=\"displacy-arrow\">\n",
              "    <path class=\"displacy-arc\" id=\"arrow-e2bc7f60cbee447ab08a9864fce006cc-0-111\" stroke-width=\"2px\" d=\"M10015,597.0 C10015,554.5 10015.0,554.5 10015.0,597.0\" fill=\"none\" stroke=\"currentColor\"/>\n",
              "    <text dy=\"1.25em\" style=\"font-size: 0.8em; letter-spacing: 1px\">\n",
              "        <textPath xlink:href=\"#arrow-e2bc7f60cbee447ab08a9864fce006cc-0-111\" class=\"displacy-label\" startOffset=\"50%\" side=\"left\" fill=\"currentColor\" text-anchor=\"middle\">case</textPath>\n",
              "    </text>\n",
              "    <path class=\"displacy-arrowhead\" d=\"M10015.0,599.0 L10023.0,587.0 10007.0,587.0\" fill=\"currentColor\"/>\n",
              "</g>\n",
              "\n",
              "<g class=\"displacy-arrow\">\n",
              "    <path class=\"displacy-arc\" id=\"arrow-e2bc7f60cbee447ab08a9864fce006cc-0-112\" stroke-width=\"2px\" d=\"M9760,597.0 C9760,384.5 10120.0,384.5 10120.0,597.0\" fill=\"none\" stroke=\"currentColor\"/>\n",
              "    <text dy=\"1.25em\" style=\"font-size: 0.8em; letter-spacing: 1px\">\n",
              "        <textPath xlink:href=\"#arrow-e2bc7f60cbee447ab08a9864fce006cc-0-112\" class=\"displacy-label\" startOffset=\"50%\" side=\"left\" fill=\"currentColor\" text-anchor=\"middle\">pobj</textPath>\n",
              "    </text>\n",
              "    <path class=\"displacy-arrowhead\" d=\"M10120.0,599.0 L10128.0,587.0 10112.0,587.0\" fill=\"currentColor\"/>\n",
              "</g>\n",
              "\n",
              "<g class=\"displacy-arrow\">\n",
              "    <path class=\"displacy-arc\" id=\"arrow-e2bc7f60cbee447ab08a9864fce006cc-0-113\" stroke-width=\"2px\" d=\"M10270,597.0 C10270,554.5 10270.0,554.5 10270.0,597.0\" fill=\"none\" stroke=\"currentColor\"/>\n",
              "    <text dy=\"1.25em\" style=\"font-size: 0.8em; letter-spacing: 1px\">\n",
              "        <textPath xlink:href=\"#arrow-e2bc7f60cbee447ab08a9864fce006cc-0-113\" class=\"displacy-label\" startOffset=\"50%\" side=\"left\" fill=\"currentColor\" text-anchor=\"middle\">det</textPath>\n",
              "    </text>\n",
              "    <path class=\"displacy-arrowhead\" d=\"M10270,599.0 L10262,587.0 10278,587.0\" fill=\"currentColor\"/>\n",
              "</g>\n",
              "\n",
              "<g class=\"displacy-arrow\">\n",
              "    <path class=\"displacy-arc\" id=\"arrow-e2bc7f60cbee447ab08a9864fce006cc-0-114\" stroke-width=\"2px\" d=\"M9590,597.0 C9590,214.5 10310.0,214.5 10310.0,597.0\" fill=\"none\" stroke=\"currentColor\"/>\n",
              "    <text dy=\"1.25em\" style=\"font-size: 0.8em; letter-spacing: 1px\">\n",
              "        <textPath xlink:href=\"#arrow-e2bc7f60cbee447ab08a9864fce006cc-0-114\" class=\"displacy-label\" startOffset=\"50%\" side=\"left\" fill=\"currentColor\" text-anchor=\"middle\">npadvmod</textPath>\n",
              "    </text>\n",
              "    <path class=\"displacy-arrowhead\" d=\"M10310.0,599.0 L10318.0,587.0 10302.0,587.0\" fill=\"currentColor\"/>\n",
              "</g>\n",
              "\n",
              "<g class=\"displacy-arrow\">\n",
              "    <path class=\"displacy-arc\" id=\"arrow-e2bc7f60cbee447ab08a9864fce006cc-0-115\" stroke-width=\"2px\" d=\"M10355,597.0 C10355,554.5 10355.0,554.5 10355.0,597.0\" fill=\"none\" stroke=\"currentColor\"/>\n",
              "    <text dy=\"1.25em\" style=\"font-size: 0.8em; letter-spacing: 1px\">\n",
              "        <textPath xlink:href=\"#arrow-e2bc7f60cbee447ab08a9864fce006cc-0-115\" class=\"displacy-label\" startOffset=\"50%\" side=\"left\" fill=\"currentColor\" text-anchor=\"middle\">advmod</textPath>\n",
              "    </text>\n",
              "    <path class=\"displacy-arrowhead\" d=\"M10355.0,599.0 L10363.0,587.0 10347.0,587.0\" fill=\"currentColor\"/>\n",
              "</g>\n",
              "\n",
              "<g class=\"displacy-arrow\">\n",
              "    <path class=\"displacy-arc\" id=\"arrow-e2bc7f60cbee447ab08a9864fce006cc-0-116\" stroke-width=\"2px\" d=\"M9590,597.0 C9590,129.5 10490.0,129.5 10490.0,597.0\" fill=\"none\" stroke=\"currentColor\"/>\n",
              "    <text dy=\"1.25em\" style=\"font-size: 0.8em; letter-spacing: 1px\">\n",
              "        <textPath xlink:href=\"#arrow-e2bc7f60cbee447ab08a9864fce006cc-0-116\" class=\"displacy-label\" startOffset=\"50%\" side=\"left\" fill=\"currentColor\" text-anchor=\"middle\">prep</textPath>\n",
              "    </text>\n",
              "    <path class=\"displacy-arrowhead\" d=\"M10490.0,599.0 L10498.0,587.0 10482.0,587.0\" fill=\"currentColor\"/>\n",
              "</g>\n",
              "\n",
              "<g class=\"displacy-arrow\">\n",
              "    <path class=\"displacy-arc\" id=\"arrow-e2bc7f60cbee447ab08a9864fce006cc-0-117\" stroke-width=\"2px\" d=\"M10610,597.0 C10610,512.0 10700.0,512.0 10700.0,597.0\" fill=\"none\" stroke=\"currentColor\"/>\n",
              "    <text dy=\"1.25em\" style=\"font-size: 0.8em; letter-spacing: 1px\">\n",
              "        <textPath xlink:href=\"#arrow-e2bc7f60cbee447ab08a9864fce006cc-0-117\" class=\"displacy-label\" startOffset=\"50%\" side=\"left\" fill=\"currentColor\" text-anchor=\"middle\">quantmod</textPath>\n",
              "    </text>\n",
              "    <path class=\"displacy-arrowhead\" d=\"M10610,599.0 L10602,587.0 10618,587.0\" fill=\"currentColor\"/>\n",
              "</g>\n",
              "\n",
              "<g class=\"displacy-arrow\">\n",
              "    <path class=\"displacy-arc\" id=\"arrow-e2bc7f60cbee447ab08a9864fce006cc-0-118\" stroke-width=\"2px\" d=\"M10695,597.0 C10695,554.5 10695.0,554.5 10695.0,597.0\" fill=\"none\" stroke=\"currentColor\"/>\n",
              "    <text dy=\"1.25em\" style=\"font-size: 0.8em; letter-spacing: 1px\">\n",
              "        <textPath xlink:href=\"#arrow-e2bc7f60cbee447ab08a9864fce006cc-0-118\" class=\"displacy-label\" startOffset=\"50%\" side=\"left\" fill=\"currentColor\" text-anchor=\"middle\">compound</textPath>\n",
              "    </text>\n",
              "    <path class=\"displacy-arrowhead\" d=\"M10695,599.0 L10687,587.0 10703,587.0\" fill=\"currentColor\"/>\n",
              "</g>\n",
              "\n",
              "<g class=\"displacy-arrow\">\n",
              "    <path class=\"displacy-arc\" id=\"arrow-e2bc7f60cbee447ab08a9864fce006cc-0-119\" stroke-width=\"2px\" d=\"M10525,597.0 C10525,469.5 10705.0,469.5 10705.0,597.0\" fill=\"none\" stroke=\"currentColor\"/>\n",
              "    <text dy=\"1.25em\" style=\"font-size: 0.8em; letter-spacing: 1px\">\n",
              "        <textPath xlink:href=\"#arrow-e2bc7f60cbee447ab08a9864fce006cc-0-119\" class=\"displacy-label\" startOffset=\"50%\" side=\"left\" fill=\"currentColor\" text-anchor=\"middle\">pobj</textPath>\n",
              "    </text>\n",
              "    <path class=\"displacy-arrowhead\" d=\"M10705.0,599.0 L10713.0,587.0 10697.0,587.0\" fill=\"currentColor\"/>\n",
              "</g>\n",
              "\n",
              "<g class=\"displacy-arrow\">\n",
              "    <path class=\"displacy-arc\" id=\"arrow-e2bc7f60cbee447ab08a9864fce006cc-0-120\" stroke-width=\"2px\" d=\"M10780,597.0 C10780,554.5 10780.0,554.5 10780.0,597.0\" fill=\"none\" stroke=\"currentColor\"/>\n",
              "    <text dy=\"1.25em\" style=\"font-size: 0.8em; letter-spacing: 1px\">\n",
              "        <textPath xlink:href=\"#arrow-e2bc7f60cbee447ab08a9864fce006cc-0-120\" class=\"displacy-label\" startOffset=\"50%\" side=\"left\" fill=\"currentColor\" text-anchor=\"middle\">prep</textPath>\n",
              "    </text>\n",
              "    <path class=\"displacy-arrowhead\" d=\"M10780.0,599.0 L10788.0,587.0 10772.0,587.0\" fill=\"currentColor\"/>\n",
              "</g>\n",
              "\n",
              "<g class=\"displacy-arrow\">\n",
              "    <path class=\"displacy-arc\" id=\"arrow-e2bc7f60cbee447ab08a9864fce006cc-0-121\" stroke-width=\"2px\" d=\"M10865,597.0 C10865,554.5 10865.0,554.5 10865.0,597.0\" fill=\"none\" stroke=\"currentColor\"/>\n",
              "    <text dy=\"1.25em\" style=\"font-size: 0.8em; letter-spacing: 1px\">\n",
              "        <textPath xlink:href=\"#arrow-e2bc7f60cbee447ab08a9864fce006cc-0-121\" class=\"displacy-label\" startOffset=\"50%\" side=\"left\" fill=\"currentColor\" text-anchor=\"middle\">pobj</textPath>\n",
              "    </text>\n",
              "    <path class=\"displacy-arrowhead\" d=\"M10865.0,599.0 L10873.0,587.0 10857.0,587.0\" fill=\"currentColor\"/>\n",
              "</g>\n",
              "</svg></span>"
            ],
            "text/plain": [
              "<IPython.core.display.HTML object>"
            ]
          },
          "metadata": {
            "tags": []
          }
        }
      ]
    },
    {
      "cell_type": "code",
      "metadata": {
        "colab": {
          "base_uri": "https://localhost:8080/"
        },
        "id": "o_GKPszidcMc",
        "outputId": "f9682e2e-7299-462e-d52b-15f586afe07b"
      },
      "source": [
        "for word in doc:\n",
        "    print(f'{word.text:{12}} {word.pos_:{10}} {word.tag_:{8}} {spacy.explain(word.tag_)}')"
      ],
      "execution_count": 94,
      "outputs": [
        {
          "output_type": "stream",
          "text": [
            "Mellon       PROPN      NNP      noun, proper singular\n",
            "from         ADP        IN       conjunction, subordinating or preposition\n",
            "Pan          PROPN      NNP      noun, proper singular\n",
            "Am           PROPN      NNP      noun, proper singular\n",
            "Systems      PROPN      NNPS     noun, proper plural\n",
            "donated      VERB       VBD      verb, past tense\n",
            "$            SYM        $        symbol, currency\n",
            "10           NUM        CD       cardinal number\n",
            "million      NUM        CD       cardinal number\n",
            "to           ADP        IN       conjunction, subordinating or preposition\n",
            "Trump        PROPN      NNP      noun, proper singular\n",
            "'s           PART       POS      possessive ending\n",
            "campaign     NOUN       NN       noun, singular or mass\n",
            ".            PUNCT      .        punctuation mark, sentence closer\n",
            "\n",
            "            SPACE      _SP      None\n",
            "An           DET        DT       determiner\n",
            "heir         NOUN       NN       noun, singular or mass\n",
            "to           ADP        IN       conjunction, subordinating or preposition\n",
            "the          DET        DT       determiner\n",
            "Mellon       PROPN      NNP      noun, proper singular\n",
            "banking      NOUN       NN       noun, singular or mass\n",
            "fortune      NOUN       NN       noun, singular or mass\n",
            "and          CCONJ      CC       conjunction, coordinating\n",
            "the          DET        DT       determiner\n",
            "grandson     NOUN       NN       noun, singular or mass\n",
            "of           ADP        IN       conjunction, subordinating or preposition\n",
            "former       ADJ        JJ       adjective\n",
            "U.S.         PROPN      NNP      noun, proper singular\n",
            "\n",
            "            SPACE      _SP      None\n",
            "Treasury     PROPN      NNP      noun, proper singular\n",
            "Secretary    PROPN      NNP      noun, proper singular\n",
            ",            PUNCT      ,        punctuation mark, comma\n",
            "Andrew       PROPN      NNP      noun, proper singular\n",
            "Mellon       PROPN      NNP      noun, proper singular\n",
            ",            PUNCT      ,        punctuation mark, comma\n",
            "his          DET        PRP$     pronoun, possessive\n",
            "is           AUX        VBZ      verb, 3rd person singular present\n",
            "among        ADP        IN       conjunction, subordinating or preposition\n",
            "the          DET        DT       determiner\n",
            "biggest      ADJ        JJS      adjective, superlative\n",
            "donations    NOUN       NNS      noun, plural\n",
            "this         DET        DT       determiner\n",
            "\n",
            "            SPACE      _SP      None\n",
            "election     NOUN       NN       noun, singular or mass\n",
            "cycle        NOUN       NN       noun, singular or mass\n",
            ".            PUNCT      .        punctuation mark, sentence closer\n",
            "He           PRON       PRP      pronoun, personal\n",
            "owns         VERB       VBZ      verb, 3rd person singular present\n",
            "the          DET        DT       determiner\n",
            "largest      ADJ        JJS      adjective, superlative\n",
            "regional     ADJ        JJ       adjective\n",
            "railroad     NOUN       NN       noun, singular or mass\n",
            "in           ADP        IN       conjunction, subordinating or preposition\n",
            "North        PROPN      NNP      noun, proper singular\n",
            "America      PROPN      NNP      noun, proper singular\n",
            ",            PUNCT      ,        punctuation mark, comma\n",
            "\n",
            "            SPACE      _SP      None\n",
            "Pan          PROPN      NNP      noun, proper singular\n",
            "Am           PROPN      NNP      noun, proper singular\n",
            "Railways     PROPN      NNPS     noun, proper plural\n",
            ",            PUNCT      ,        punctuation mark, comma\n",
            "which        DET        WDT      wh-determiner\n",
            "went         VERB       VBD      verb, past tense\n",
            "up           ADP        RP       adverb, particle\n",
            "for          ADP        IN       conjunction, subordinating or preposition\n",
            "sale         NOUN       NN       noun, singular or mass\n",
            "in           ADP        IN       conjunction, subordinating or preposition\n",
            "July         PROPN      NNP      noun, proper singular\n",
            ".            PUNCT      .        punctuation mark, sentence closer\n",
            "He           PRON       PRP      pronoun, personal\n",
            "'s           AUX        VBZ      verb, 3rd person singular present\n",
            "been         AUX        VBN      verb, past participle\n",
            "notably      ADV        RB       adverb\n",
            "reclusive    ADJ        JJ       adjective\n",
            "and          CCONJ      CC       conjunction, coordinating\n",
            "absent       ADJ        JJ       adjective\n",
            "from         ADP        IN       conjunction, subordinating or preposition\n",
            "politics     NOUN       NNS      noun, plural\n",
            ".            PUNCT      .        punctuation mark, sentence closer\n",
            "\n",
            "            SPACE      _SP      None\n",
            "Republican   ADJ        JJ       adjective\n",
            "operatives   NOUN       NNS      noun, plural\n",
            "reportedly   ADV        RB       adverb\n",
            "had          AUX        VBD      verb, past tense\n",
            "to           PART       TO       infinitival \"to\"\n",
            "look         VERB       VB       verb, base form\n",
            "his          DET        PRP$     pronoun, possessive\n",
            "name         NOUN       NN       noun, singular or mass\n",
            "up           ADP        RP       adverb, particle\n",
            "on           ADP        IN       conjunction, subordinating or preposition\n",
            "Google       PROPN      NNP      noun, proper singular\n",
            "when         ADV        WRB      wh-adverb\n",
            "he           PRON       PRP      pronoun, personal\n",
            "came         VERB       VBD      verb, past tense\n",
            "forward      ADV        RB       adverb\n",
            "to           PART       TO       infinitival \"to\"\n",
            "help         VERB       VB       verb, base form\n",
            ".            PUNCT      .        punctuation mark, sentence closer\n",
            "\n",
            "            SPACE      _SP      None\n",
            "The          DET        DT       determiner\n",
            "biggest      ADJ        JJS      adjective, superlative\n",
            "industries   NOUN       NNS      noun, plural\n",
            "represented  VERB       VBN      verb, past participle\n",
            "among        ADP        IN       conjunction, subordinating or preposition\n",
            "Trump        ADJ        JJ       adjective\n",
            "donors       NOUN       NNS      noun, plural\n",
            "this         DET        DT       determiner\n",
            "cycle        NOUN       NN       noun, singular or mass\n",
            "overall      ADV        RB       adverb\n",
            "were         AUX        VBD      verb, past tense\n",
            "Health       PROPN      NNP      noun, proper singular\n",
            "Services     PROPN      NNPS     noun, proper plural\n",
            ",            PUNCT      ,        punctuation mark, comma\n",
            "\n",
            "            SPACE      _SP      None\n",
            "Casinos      PROPN      NNP      noun, proper singular\n",
            "/            SYM        SYM      symbol\n",
            "Gambling     PROPN      NNP      noun, proper singular\n",
            "and          CCONJ      CC       conjunction, coordinating\n",
            "Finance      PROPN      NNP      noun, proper singular\n",
            ".            PUNCT      .        punctuation mark, sentence closer\n",
            "\n",
            "            SPACE      _SP      None\n",
            "Only         ADV        RB       adverb\n",
            "$            SYM        $        symbol, currency\n",
            "8,021        NUM        CD       cardinal number\n",
            "came         VERB       VBD      verb, past tense\n",
            "out          SCONJ      IN       conjunction, subordinating or preposition\n",
            "of           ADP        IN       conjunction, subordinating or preposition\n",
            "the          DET        DT       determiner\n",
            "former       ADJ        JJ       adjective\n",
            "president    NOUN       NN       noun, singular or mass\n",
            "'s           PART       POS      possessive ending\n",
            "pockets      NOUN       NNS      noun, plural\n",
            "this         DET        DT       determiner\n",
            "time         NOUN       NN       noun, singular or mass\n",
            "around       ADV        RB       adverb\n",
            ",            PUNCT      ,        punctuation mark, comma\n",
            "versus       ADP        IN       conjunction, subordinating or preposition\n",
            "$            SYM        $        symbol, currency\n",
            "66           NUM        CD       cardinal number\n",
            "million      NUM        CD       cardinal number\n",
            "in           ADP        IN       conjunction, subordinating or preposition\n",
            "2016         NUM        CD       cardinal number\n",
            ".            PUNCT      .        punctuation mark, sentence closer\n"
          ],
          "name": "stdout"
        }
      ]
    },
    {
      "cell_type": "markdown",
      "metadata": {
        "id": "xYzKBdHvf7XY"
      },
      "source": [
        "## get_entities"
      ]
    },
    {
      "cell_type": "code",
      "metadata": {
        "id": "J4SxQjMCe7po"
      },
      "source": [
        "# def get_entities(sent):\n",
        "#   ## chunk 1\n",
        "#   ent1 = \"\"\n",
        "#   ent2 = \"\"\n",
        "\n",
        "#   prv_tok_dep = \"\"    # dependency tag of previous token in the sentence\n",
        "#   prv_tok_text = \"\"   # previous token in the sentence\n",
        "\n",
        "#   prefix = \"\"\n",
        "#   modifier = \"\"\n",
        "\n",
        "#   #############################################################\n",
        "  \n",
        "#   for tok in nlp(sent):\n",
        "#     ## chunk 2\n",
        "#     # if token is a punctuation mark then move on to the next token\n",
        "#     if tok.dep_ != \"punct\" or tok.dep_ == \"punct\":\n",
        "#       # check: token is a compound word or not\n",
        "#       if tok.dep_ == \"compound\":\n",
        "#         prefix = tok.text\n",
        "#         # if the previous word was also a 'compound' then add the current word to it\n",
        "#         if prv_tok_dep == \"compound\":\n",
        "#           prefix = prv_tok_text + \" \"+ tok.text\n",
        "      \n",
        "#       # check: token is a modifier or not\n",
        "#       if tok.dep_.endswith(\"mod\") == True:\n",
        "#         modifier = tok.text\n",
        "#         # if the previous word was also a 'compound' then add the current word to it\n",
        "#         if prv_tok_dep == \"compound\":\n",
        "#           modifier = prv_tok_text + \" \"+ tok.text\n",
        "      \n",
        "#       ## chunk 3\n",
        "#       if tok.dep_.find(\"subj\") == True:\n",
        "#         ent1 = modifier +\" \"+ prefix + \" \"+ tok.text\n",
        "#         prefix = \"\"\n",
        "#         modifier = \"\"\n",
        "#         prv_tok_dep = \"\"\n",
        "#         prv_tok_text = \"\"      \n",
        "\n",
        "#       ## chunk 4\n",
        "#       if tok.dep_.find(\"obj\") == True:\n",
        "#         ent2 = modifier +\" \"+ prefix +\" \"+ tok.text\n",
        "        \n",
        "#       ## chunk 5  \n",
        "#       # update variables\n",
        "#       prv_tok_dep = tok.dep_\n",
        "#       prv_tok_text = tok.text\n",
        "#   #############################################################\n",
        "\n",
        "#   return [ent1.strip(), ent2.strip()]"
      ],
      "execution_count": null,
      "outputs": []
    },
    {
      "cell_type": "code",
      "metadata": {
        "id": "f6y0VrRLiPeB"
      },
      "source": [
        "def get_entities(sent):\n",
        "  ## chunk 1\n",
        "  ent1 = \"\"\n",
        "  ent2 = \"\"\n",
        "\n",
        "  prv_tok_dep = \"\"    # dependency tag of previous token in the sentence\n",
        "  prv_tok_text = \"\"   # previous token in the sentence\n",
        "\n",
        "  prefix = \"\"\n",
        "  modifier = \"\"\n",
        "\n",
        "  #############################################################\n",
        "  \n",
        "  for tok in nlp(sent):\n",
        "    ## chunk 2\n",
        "    # if token is a punctuation mark then move on to the next token\n",
        "    if tok.dep_ != \"punct\" or tok.dep_ == \"punct\":\n",
        "      # check: token is a compound word or not\n",
        "      if tok.dep_ == \"compound\":\n",
        "        prefix = tok.text\n",
        "        # if the previous word was also a 'compound' then add the current word to it\n",
        "        if prv_tok_dep == \"compound\":\n",
        "          prefix = prv_tok_text + \" \"+ tok.text\n",
        "      \n",
        "      # check: token is a modifier or not\n",
        "      if tok.dep_.endswith(\"mod\") == True:\n",
        "        modifier = tok.text\n",
        "        # if the previous word was also a 'compound' then add the current word to it\n",
        "        if prv_tok_dep == \"compound\":\n",
        "          modifier = prv_tok_text + \" \"+ tok.text\n",
        "      \n",
        "      ## chunk 3\n",
        "      if tok.dep_.find(\"subj\") == True:\n",
        "        ent1 = modifier +\" \"+ prefix + \" \"+ tok.text\n",
        "        prefix = \"\"\n",
        "        modifier = \"\"\n",
        "        prv_tok_dep = \"\"\n",
        "        prv_tok_text = \"\"      \n",
        "\n",
        "      ## chunk 4\n",
        "      if tok.dep_.find(\"obj\") == True:\n",
        "        ent2 = modifier +\" \"+ prefix +\" \"+ tok.text\n",
        "        \n",
        "      ## chunk 5  \n",
        "      # update variables\n",
        "      prv_tok_dep = tok.dep_\n",
        "      prv_tok_text = tok.text\n",
        "  #############################################################\n",
        "\n",
        "  return [ent1.strip(), ent2.strip()]"
      ],
      "execution_count": 95,
      "outputs": []
    },
    {
      "cell_type": "code",
      "metadata": {
        "colab": {
          "base_uri": "https://localhost:8080/"
        },
        "id": "mgwGqtnmiUkJ",
        "outputId": "1e8413b4-8055-41c3-d555-604ccb5337cf"
      },
      "source": [
        "get_entities(\"Mellon gave 100 million donation to Trump's campaign\")"
      ],
      "execution_count": 51,
      "outputs": [
        {
          "output_type": "execute_result",
          "data": {
            "text/plain": [
              "['Mellon', '100 million 100 campaign']"
            ]
          },
          "metadata": {
            "tags": []
          },
          "execution_count": 51
        }
      ]
    },
    {
      "cell_type": "code",
      "metadata": {
        "colab": {
          "base_uri": "https://localhost:8080/"
        },
        "id": "ipJyR8BPfozR",
        "outputId": "54267792-c4b8-45f2-d815-e9a6f5529878"
      },
      "source": [
        "get_entities(\"Mellon from Pan Am Systems donated $10 million to Trump's campaign.\")"
      ],
      "execution_count": 52,
      "outputs": [
        {
          "output_type": "execute_result",
          "data": {
            "text/plain": [
              "['Mellon', '$ 10 campaign']"
            ]
          },
          "metadata": {
            "tags": []
          },
          "execution_count": 52
        }
      ]
    },
    {
      "cell_type": "code",
      "metadata": {
        "colab": {
          "base_uri": "https://localhost:8080/"
        },
        "id": "ekDgsO35iV5z",
        "outputId": "7da4edda-146e-4b14-f4da-ec539c39c247"
      },
      "source": [
        "get_entities(summary)"
      ],
      "execution_count": 96,
      "outputs": [
        {
          "output_type": "execute_result",
          "data": {
            "text/plain": [
              "['$ Health 8,021', '$ 66 2016']"
            ]
          },
          "metadata": {
            "tags": []
          },
          "execution_count": 96
        }
      ]
    },
    {
      "cell_type": "code",
      "metadata": {
        "colab": {
          "base_uri": "https://localhost:8080/"
        },
        "id": "pC0lRAiDlc3o",
        "outputId": "ce9bd618-7be2-4af2-d632-a9ae8172c378"
      },
      "source": [
        "sentences = sent_tokenize(summary)\n",
        "sentences"
      ],
      "execution_count": 97,
      "outputs": [
        {
          "output_type": "execute_result",
          "data": {
            "text/plain": [
              "[\"Mellon from Pan Am Systems donated $10 million to Trump's campaign.\",\n",
              " 'An heir to the Mellon banking fortune and the grandson of former U.S. \\nTreasury Secretary, Andrew Mellon, his is among the biggest donations this \\nelection cycle.',\n",
              " 'He owns the largest regional railroad in North America,\\n Pan Am Railways, which went up for sale in July.',\n",
              " \"He's been notably reclusive and absent from politics.\",\n",
              " 'Republican operatives reportedly had to look his name up on Google when he came forward to help.',\n",
              " 'The biggest industries represented among Trump donors this cycle overall were Health Services, \\nCasinos/Gambling and Finance.',\n",
              " \"Only $8,021 came out of the former president's pockets this time around, versus $66 million in 2016.\"]"
            ]
          },
          "metadata": {
            "tags": []
          },
          "execution_count": 97
        }
      ]
    },
    {
      "cell_type": "markdown",
      "metadata": {
        "id": "rPxXrRJDgAPD"
      },
      "source": [
        "## entity_pairs"
      ]
    },
    {
      "cell_type": "code",
      "metadata": {
        "colab": {
          "base_uri": "https://localhost:8080/"
        },
        "id": "DB5U2OQWlTnm",
        "outputId": "29bdcdfd-a64e-41c2-e9fb-d323ed8b2a97"
      },
      "source": [
        "entity_pairs = []\n",
        "\n",
        "for i in tqdm(sentences):\n",
        "  entity_pairs.append(get_entities(i))"
      ],
      "execution_count": 98,
      "outputs": [
        {
          "output_type": "stream",
          "text": [
            "100%|██████████| 7/7 [00:00<00:00, 13.37it/s]\n"
          ],
          "name": "stderr"
        }
      ]
    },
    {
      "cell_type": "code",
      "metadata": {
        "colab": {
          "base_uri": "https://localhost:8080/"
        },
        "id": "Fri0daoFmNZu",
        "outputId": "f6be8905-ead9-4cbe-c4b3-d4efefecbef1"
      },
      "source": [
        "entity_pairs"
      ],
      "execution_count": 99,
      "outputs": [
        {
          "output_type": "execute_result",
          "data": {
            "text/plain": [
              "[['Mellon', '$ 10 campaign'],\n",
              " ['U.S. Andrew his', 'biggest  donations'],\n",
              " ['regional Pan Am which', 'July'],\n",
              " ['He', 'notably  politics'],\n",
              " ['when  he', 'reportedly  Google'],\n",
              " ['Trump cycle', 'Trump donors'],\n",
              " ['$  8,021', '$ 66 2016']]"
            ]
          },
          "metadata": {
            "tags": []
          },
          "execution_count": 99
        }
      ]
    },
    {
      "cell_type": "markdown",
      "metadata": {
        "id": "s5ZKkd4rgC5z"
      },
      "source": [
        "## get_relation"
      ]
    },
    {
      "cell_type": "code",
      "metadata": {
        "id": "aw42Uk_QmZxC"
      },
      "source": [
        "def get_relation(sent):\n",
        "\n",
        "  doc = nlp(sent)\n",
        "\n",
        "  # Matcher class object \n",
        "  matcher = Matcher(nlp.vocab)\n",
        "\n",
        "  #define the pattern ## update pattern using Hearst Patteren \n",
        "  pattern = [{'DEP':'ROOT'}, \n",
        "            {'DEP':'prep','OP':\"?\"},\n",
        "            {'DEP':'agent','OP':\"?\"},  \n",
        "            {'POS':'ADJ','OP':\"?\"}] \n",
        "\n",
        "  matcher.add(\"matching_1\", None, pattern) \n",
        "\n",
        "  matches = matcher(doc)\n",
        "  k = len(matches) - 1\n",
        "\n",
        "  span = doc[matches[k][1]:matches[k][2]] \n",
        "\n",
        "  return(span.text)"
      ],
      "execution_count": 100,
      "outputs": []
    },
    {
      "cell_type": "code",
      "metadata": {
        "colab": {
          "base_uri": "https://localhost:8080/",
          "height": 35
        },
        "id": "GPLcJaG3mfLm",
        "outputId": "df52d91e-88ef-4930-b4d7-aafa3fae11df"
      },
      "source": [
        "get_relation(\"Mellon donated 100 million dollar to Trump's campaign\")"
      ],
      "execution_count": 35,
      "outputs": [
        {
          "output_type": "execute_result",
          "data": {
            "application/vnd.google.colaboratory.intrinsic+json": {
              "type": "string"
            },
            "text/plain": [
              "'donated'"
            ]
          },
          "metadata": {
            "tags": []
          },
          "execution_count": 35
        }
      ]
    },
    {
      "cell_type": "code",
      "metadata": {
        "colab": {
          "base_uri": "https://localhost:8080/"
        },
        "id": "m6a3Ui6emos5",
        "outputId": "c875443c-234c-4d9e-aa8e-acf4485a067b"
      },
      "source": [
        "relations = [get_relation(i) for i in tqdm(sentences)]"
      ],
      "execution_count": 101,
      "outputs": [
        {
          "output_type": "stream",
          "text": [
            "100%|██████████| 7/7 [00:00<00:00, 11.14it/s]\n"
          ],
          "name": "stderr"
        }
      ]
    },
    {
      "cell_type": "code",
      "metadata": {
        "colab": {
          "base_uri": "https://localhost:8080/"
        },
        "id": "f2guPonYm1T8",
        "outputId": "f12635f9-5685-4732-e20b-b8fdd11f4403"
      },
      "source": [
        "pd.Series(relations).value_counts()[:50]"
      ],
      "execution_count": 102,
      "outputs": [
        {
          "output_type": "execute_result",
          "data": {
            "text/plain": [
              "owns        1\n",
              "is among    1\n",
              "were        1\n",
              "had         1\n",
              "been        1\n",
              "donated     1\n",
              "came out    1\n",
              "dtype: int64"
            ]
          },
          "metadata": {
            "tags": []
          },
          "execution_count": 102
        }
      ]
    },
    {
      "cell_type": "markdown",
      "metadata": {
        "id": "u1XG7JZvnBby"
      },
      "source": [
        "## Building Knowledge Graph: Method 1\n",
        "\n",
        "https://www.analyticsvidhya.com/blog/2019/10/how-to-build-knowledge-graph-text-using-spacy/\n",
        "\n",
        "https://www.kaggle.com/pavansanagapati/knowledge-graph-nlp-tutorial-bert-spacy-nltk"
      ]
    },
    {
      "cell_type": "code",
      "metadata": {
        "id": "wdAANGFBnDfd"
      },
      "source": [
        "# extract subject\n",
        "source = [i[0] for i in entity_pairs]\n",
        "\n",
        "# extract object\n",
        "target = [i[1] for i in entity_pairs]\n",
        "\n",
        "kg_df = pd.DataFrame({'source':source, 'target':target, 'edge':relations})"
      ],
      "execution_count": 103,
      "outputs": []
    },
    {
      "cell_type": "code",
      "metadata": {
        "colab": {
          "base_uri": "https://localhost:8080/",
          "height": 256
        },
        "id": "BSrtfGELg2oV",
        "outputId": "8f6bb38a-64c8-4e7b-dc7a-782d6c5cc7f4"
      },
      "source": [
        "kg_df"
      ],
      "execution_count": 104,
      "outputs": [
        {
          "output_type": "execute_result",
          "data": {
            "text/html": [
              "<div>\n",
              "<style scoped>\n",
              "    .dataframe tbody tr th:only-of-type {\n",
              "        vertical-align: middle;\n",
              "    }\n",
              "\n",
              "    .dataframe tbody tr th {\n",
              "        vertical-align: top;\n",
              "    }\n",
              "\n",
              "    .dataframe thead th {\n",
              "        text-align: right;\n",
              "    }\n",
              "</style>\n",
              "<table border=\"1\" class=\"dataframe\">\n",
              "  <thead>\n",
              "    <tr style=\"text-align: right;\">\n",
              "      <th></th>\n",
              "      <th>source</th>\n",
              "      <th>target</th>\n",
              "      <th>edge</th>\n",
              "    </tr>\n",
              "  </thead>\n",
              "  <tbody>\n",
              "    <tr>\n",
              "      <th>0</th>\n",
              "      <td>Mellon</td>\n",
              "      <td>$ 10 campaign</td>\n",
              "      <td>donated</td>\n",
              "    </tr>\n",
              "    <tr>\n",
              "      <th>1</th>\n",
              "      <td>U.S. Andrew his</td>\n",
              "      <td>biggest  donations</td>\n",
              "      <td>is among</td>\n",
              "    </tr>\n",
              "    <tr>\n",
              "      <th>2</th>\n",
              "      <td>regional Pan Am which</td>\n",
              "      <td>July</td>\n",
              "      <td>owns</td>\n",
              "    </tr>\n",
              "    <tr>\n",
              "      <th>3</th>\n",
              "      <td>He</td>\n",
              "      <td>notably  politics</td>\n",
              "      <td>been</td>\n",
              "    </tr>\n",
              "    <tr>\n",
              "      <th>4</th>\n",
              "      <td>when  he</td>\n",
              "      <td>reportedly  Google</td>\n",
              "      <td>had</td>\n",
              "    </tr>\n",
              "    <tr>\n",
              "      <th>5</th>\n",
              "      <td>Trump cycle</td>\n",
              "      <td>Trump donors</td>\n",
              "      <td>were</td>\n",
              "    </tr>\n",
              "    <tr>\n",
              "      <th>6</th>\n",
              "      <td>$  8,021</td>\n",
              "      <td>$ 66 2016</td>\n",
              "      <td>came out</td>\n",
              "    </tr>\n",
              "  </tbody>\n",
              "</table>\n",
              "</div>"
            ],
            "text/plain": [
              "                  source              target      edge\n",
              "0                 Mellon       $ 10 campaign   donated\n",
              "1        U.S. Andrew his  biggest  donations  is among\n",
              "2  regional Pan Am which                July      owns\n",
              "3                     He   notably  politics      been\n",
              "4               when  he  reportedly  Google       had\n",
              "5            Trump cycle        Trump donors      were\n",
              "6               $  8,021           $ 66 2016  came out"
            ]
          },
          "metadata": {
            "tags": []
          },
          "execution_count": 104
        }
      ]
    },
    {
      "cell_type": "code",
      "metadata": {
        "id": "nCtW6OjtnGxd"
      },
      "source": [
        "\n",
        "# create a directed-graph from a dataframe\n",
        "G=nx.from_pandas_edgelist(kg_df, \"source\", \"target\", \n",
        "                          edge_attr=True, create_using=nx.MultiDiGraph())"
      ],
      "execution_count": 105,
      "outputs": []
    },
    {
      "cell_type": "code",
      "metadata": {
        "colab": {
          "base_uri": "https://localhost:8080/",
          "height": 895
        },
        "id": "g6kSn63vnJqp",
        "outputId": "b3ee777a-17bd-4e4f-bdec-599f5f319c78"
      },
      "source": [
        "plt.figure(figsize=(12,12))\n",
        "\n",
        "pos = nx.spring_layout(G)\n",
        "nx.draw(G, with_labels=True, node_color='skyblue', edge_cmap=plt.cm.Blues, pos = pos)\n",
        "plt.show()"
      ],
      "execution_count": 106,
      "outputs": [
        {
          "output_type": "display_data",
          "data": {
            "image/png": "[encoded data removed]",
            "text/plain": [
              "<Figure size 864x864 with 1 Axes>"
            ]
          },
          "metadata": {
            "tags": []
          }
        }
      ]
    },
    {
      "cell_type": "code",
      "metadata": {
        "colab": {
          "base_uri": "https://localhost:8080/"
        },
        "id": "_1_q4dpPndM7",
        "outputId": "f26257b5-c8f0-41e3-a428-b00214b07361"
      },
      "source": [
        "kg_df['edge'].unique()"
      ],
      "execution_count": 41,
      "outputs": [
        {
          "output_type": "execute_result",
          "data": {
            "text/plain": [
              "array(['donated', 'is among', 'owns', 'been', 'had'], dtype=object)"
            ]
          },
          "metadata": {
            "tags": []
          },
          "execution_count": 41
        }
      ]
    },
    {
      "cell_type": "markdown",
      "metadata": {
        "id": "3RdtxpfpuYhA"
      },
      "source": [
        "### To CSV"
      ]
    },
    {
      "cell_type": "code",
      "metadata": {
        "id": "m3b4avnFs7wx"
      },
      "source": [
        "#file_path = '/content/drive/Shared drives/1DeepContextGraph/1DeepContextGraph/code/data/'"
      ],
      "execution_count": 42,
      "outputs": []
    },
    {
      "cell_type": "code",
      "metadata": {
        "colab": {
          "base_uri": "https://localhost:8080/",
          "height": 196
        },
        "id": "AktpiZ5yoIEY",
        "outputId": "52b94f2a-227f-447a-80d6-9aba9fa5f837"
      },
      "source": [
        "kg_df.head()\n",
        "#kg_df.to_csv(file_path+\"kg_path.csv\")"
      ],
      "execution_count": 43,
      "outputs": [
        {
          "output_type": "execute_result",
          "data": {
            "text/html": [
              "<div>\n",
              "<style scoped>\n",
              "    .dataframe tbody tr th:only-of-type {\n",
              "        vertical-align: middle;\n",
              "    }\n",
              "\n",
              "    .dataframe tbody tr th {\n",
              "        vertical-align: top;\n",
              "    }\n",
              "\n",
              "    .dataframe thead th {\n",
              "        text-align: right;\n",
              "    }\n",
              "</style>\n",
              "<table border=\"1\" class=\"dataframe\">\n",
              "  <thead>\n",
              "    <tr style=\"text-align: right;\">\n",
              "      <th></th>\n",
              "      <th>source</th>\n",
              "      <th>target</th>\n",
              "      <th>edge</th>\n",
              "    </tr>\n",
              "  </thead>\n",
              "  <tbody>\n",
              "    <tr>\n",
              "      <th>0</th>\n",
              "      <td>Mellon</td>\n",
              "      <td>$ 10 campaign</td>\n",
              "      <td>donated</td>\n",
              "    </tr>\n",
              "    <tr>\n",
              "      <th>1</th>\n",
              "      <td>U.S. Andrew his</td>\n",
              "      <td>biggest  donations</td>\n",
              "      <td>is among</td>\n",
              "    </tr>\n",
              "    <tr>\n",
              "      <th>2</th>\n",
              "      <td>regional Pan Am which</td>\n",
              "      <td>July</td>\n",
              "      <td>owns</td>\n",
              "    </tr>\n",
              "    <tr>\n",
              "      <th>3</th>\n",
              "      <td>He</td>\n",
              "      <td>notably  politics</td>\n",
              "      <td>been</td>\n",
              "    </tr>\n",
              "    <tr>\n",
              "      <th>4</th>\n",
              "      <td>when  he</td>\n",
              "      <td>reportedly  Google</td>\n",
              "      <td>had</td>\n",
              "    </tr>\n",
              "  </tbody>\n",
              "</table>\n",
              "</div>"
            ],
            "text/plain": [
              "                  source              target      edge\n",
              "0                 Mellon       $ 10 campaign   donated\n",
              "1        U.S. Andrew his  biggest  donations  is among\n",
              "2  regional Pan Am which                July      owns\n",
              "3                     He   notably  politics      been\n",
              "4               when  he  reportedly  Google       had"
            ]
          },
          "metadata": {
            "tags": []
          },
          "execution_count": 43
        }
      ]
    },
    {
      "cell_type": "code",
      "metadata": {
        "colab": {
          "base_uri": "https://localhost:8080/",
          "height": 895
        },
        "id": "l2mZGHqzn-B9",
        "outputId": "3fe4136b-2429-4f8d-9e20-5b75b46a35e2"
      },
      "source": [
        "G=nx.from_pandas_edgelist(kg_df[kg_df['edge']==\"donated\"], \"source\", \"target\", \n",
        "                          edge_attr=True, create_using=nx.MultiDiGraph())\n",
        "\n",
        "plt.figure(figsize=(12,12))\n",
        "pos = nx.spring_layout(G, k = 0.5) # k regulates the distance between nodes\n",
        "nx.draw(G, with_labels=True, node_color='skyblue', node_size=1500, edge_cmap=plt.cm.Blues, pos = pos)\n",
        "plt.show()"
      ],
      "execution_count": 44,
      "outputs": [
        {
          "output_type": "display_data",
          "data": {
            "image/png": "[encoded data removed]",
            "text/plain": [
              "<Figure size 864x864 with 1 Axes>"
            ]
          },
          "metadata": {
            "tags": []
          }
        }
      ]
    },
    {
      "cell_type": "code",
      "metadata": {
        "colab": {
          "base_uri": "https://localhost:8080/",
          "height": 77
        },
        "id": "Ej1EevKKow2O",
        "outputId": "d7f8f313-e622-4b6a-d431-9afa60b9a0d5"
      },
      "source": [
        "kg_df[kg_df['source']==\"Mellon\"]"
      ],
      "execution_count": 45,
      "outputs": [
        {
          "output_type": "execute_result",
          "data": {
            "text/html": [
              "<div>\n",
              "<style scoped>\n",
              "    .dataframe tbody tr th:only-of-type {\n",
              "        vertical-align: middle;\n",
              "    }\n",
              "\n",
              "    .dataframe tbody tr th {\n",
              "        vertical-align: top;\n",
              "    }\n",
              "\n",
              "    .dataframe thead th {\n",
              "        text-align: right;\n",
              "    }\n",
              "</style>\n",
              "<table border=\"1\" class=\"dataframe\">\n",
              "  <thead>\n",
              "    <tr style=\"text-align: right;\">\n",
              "      <th></th>\n",
              "      <th>source</th>\n",
              "      <th>target</th>\n",
              "      <th>edge</th>\n",
              "    </tr>\n",
              "  </thead>\n",
              "  <tbody>\n",
              "    <tr>\n",
              "      <th>0</th>\n",
              "      <td>Mellon</td>\n",
              "      <td>$ 10 campaign</td>\n",
              "      <td>donated</td>\n",
              "    </tr>\n",
              "  </tbody>\n",
              "</table>\n",
              "</div>"
            ],
            "text/plain": [
              "   source         target     edge\n",
              "0  Mellon  $ 10 campaign  donated"
            ]
          },
          "metadata": {
            "tags": []
          },
          "execution_count": 45
        }
      ]
    },
    {
      "cell_type": "code",
      "metadata": {
        "colab": {
          "base_uri": "https://localhost:8080/",
          "height": 895
        },
        "id": "F-D8Lbb1oWbV",
        "outputId": "1f42ad57-5da8-4350-a71a-38acf68a419a"
      },
      "source": [
        "\n",
        "G=nx.from_pandas_edgelist(kg_df[kg_df['source']==\"Mellon\"], \"edge\", \"target\", \n",
        "                          edge_attr=True, create_using=nx.MultiDiGraph())\n",
        "plt.figure(figsize=(12,12))\n",
        "pos = nx.spring_layout(G, k = 0.5) # k regulates the distance between nodes\n",
        "nx.draw(G, with_labels=True, node_color='skyblue', node_size=1500, edge_cmap=plt.cm.Blues, pos = pos)\n",
        "plt.show()"
      ],
      "execution_count": 46,
      "outputs": [
        {
          "output_type": "display_data",
          "data": {
            "image/png": "[encoded data removed]",
            "text/plain": [
              "<Figure size 864x864 with 1 Axes>"
            ]
          },
          "metadata": {
            "tags": []
          }
        }
      ]
    },
    {
      "cell_type": "code",
      "metadata": {
        "colab": {
          "base_uri": "https://localhost:8080/",
          "height": 895
        },
        "id": "9_eRKzHJpTkd",
        "outputId": "e0c64b1b-cf4f-4b03-a5d0-6a375e589b57"
      },
      "source": [
        "\n",
        "G=nx.from_pandas_edgelist(kg_df[kg_df['target']==\"advertisement\"], \"edge\", \"source\", \n",
        "                          edge_attr=True, create_using=nx.MultiDiGraph())\n",
        "plt.figure(figsize=(12,12))\n",
        "pos = nx.spring_layout(G, k = 0.5) # k regulates the distance between nodes\n",
        "nx.draw(G, with_labels=True, node_color='skyblue', node_size=1500, edge_cmap=plt.cm.Blues, pos = pos)\n",
        "plt.show()"
      ],
      "execution_count": 47,
      "outputs": [
        {
          "output_type": "display_data",
          "data": {
            "image/png": "[encoded data removed]",
            "text/plain": [
              "<Figure size 864x864 with 1 Axes>"
            ]
          },
          "metadata": {
            "tags": []
          }
        }
      ]
    },
    {
      "cell_type": "markdown",
      "metadata": {
        "id": "8GZOUJF2axLi"
      },
      "source": [
        "## Building Knowledge Graph: Method 2\n",
        "\n",
        "https://programmerbackpack.com/python-nlp-tutorial-information-extraction-and-knowledge-graphs/"
      ]
    },
    {
      "cell_type": "code",
      "metadata": {
        "id": "NnquU-takIP3"
      },
      "source": [
        "text = '''Mellon from Pan Am Systems donated $10 million to Trump's campaign.\n",
        "An heir to the Mellon banking fortune and the grandson of former U.S. \n",
        "Treasury Secretary, Andrew Mellon, his is among the biggest donations this \n",
        "election cycle. He owns the largest regional railroad in North America,\n",
        " Pan Am Railways, which went up for sale in July. He's been notably reclusive and absent from politics. \n",
        "Republican operatives reportedly had to look his name up on Google when he came forward to help.\n",
        "The biggest industries represented among Trump donors this cycle overall were Health Services, \n",
        "Casinos/Gambling and Finance.\n",
        " Only $8,021 came out of the former president's pockets this time around, versus $66 million in 2016.'''"
      ],
      "execution_count": 107,
      "outputs": []
    },
    {
      "cell_type": "code",
      "metadata": {
        "colab": {
          "base_uri": "https://localhost:8080/"
        },
        "id": "6CZwm8sna11J",
        "outputId": "1032ffc5-d773-4359-b634-b6ecff1e9591"
      },
      "source": [
        "body = text #summary\n",
        "sentences = getSentences(body)\n",
        "nlp_model = spacy.load('en_core_web_sm')\n",
        "\n",
        "triples = []\n",
        "#print (body)\n",
        "for sentence in sentences:\n",
        "  triples.append(processSentence(sentence))\n"
      ],
      "execution_count": 108,
      "outputs": [
        {
          "output_type": "stream",
          "text": [
            "Mellon -> nsubj\n",
            "from -> prep\n",
            "Pan -> compound\n",
            "Am -> compound\n",
            "Systems -> pobj\n",
            "donated -> ROOT\n",
            "$ -> quantmod\n",
            "10 -> compound\n",
            "million -> dobj\n",
            "to -> prep\n",
            "Trump -> poss\n",
            "'s -> case\n",
            "campaign -> pobj\n",
            ". -> punct\n",
            "Mellon , donate , Systems million campaign\n",
            "An -> det\n",
            "heir -> dep\n",
            "to -> prep\n",
            "the -> det\n",
            "Mellon -> compound\n",
            "banking -> compound\n",
            "fortune -> pobj\n",
            "and -> cc\n",
            "the -> det\n",
            "grandson -> conj\n",
            "of -> prep\n",
            "former -> amod\n",
            "U.S. -> nmod\n",
            "\n",
            " -> \n",
            "Treasury -> compound\n",
            "Secretary -> pobj\n",
            ", -> punct\n",
            "Andrew -> compound\n",
            "Mellon -> appos\n",
            ", -> punct\n",
            "his -> nsubj\n",
            "is -> ROOT\n",
            "among -> prep\n",
            "the -> det\n",
            "biggest -> amod\n",
            "donations -> pobj\n",
            "this -> det\n",
            "\n",
            " -> \n",
            "election -> compound\n",
            "cycle -> attr\n",
            ". -> punct\n",
            "his , former be big cycle , fortune Secretary donations\n",
            "He -> nsubj\n",
            "owns -> ROOT\n",
            "the -> det\n",
            "largest -> amod\n",
            "regional -> amod\n",
            "railroad -> dobj\n",
            "in -> prep\n",
            "North -> compound\n",
            "America -> pobj\n",
            ", -> punct\n",
            "\n",
            "  -> \n",
            "Pan -> compound\n",
            "Am -> compound\n",
            "Railways -> dobj\n",
            ", -> punct\n",
            "which -> nsubj\n",
            "went -> relcl\n",
            "up -> prt\n",
            "for -> prep\n",
            "sale -> pobj\n",
            "in -> prep\n",
            "July -> pobj\n",
            ". -> punct\n",
            "He which , own large regional , railroad America Railways sale July\n",
            "He -> nsubjpass\n",
            "'s -> auxpass\n",
            "been -> ROOT\n",
            "notably -> advmod\n",
            "reclusive -> acomp\n",
            "and -> cc\n",
            "absent -> conj\n",
            "from -> prep\n",
            "politics -> pobj\n",
            ". -> punct\n",
            "He , be , politics\n",
            "Republican -> amod\n",
            "operatives -> nsubj\n",
            "reportedly -> advmod\n",
            "had -> ROOT\n",
            "to -> aux\n",
            "look -> xcomp\n",
            "his -> poss\n",
            "name -> dobj\n",
            "up -> prt\n",
            "on -> prep\n",
            "Google -> pobj\n",
            "when -> advmod\n",
            "he -> nsubj\n",
            "came -> advcl\n",
            "forward -> advmod\n",
            "to -> aux\n",
            "help -> advcl\n",
            ". -> punct\n",
            "operatives he , republican have , name Google\n",
            "The -> det\n",
            "biggest -> amod\n",
            "industries -> nsubj\n",
            "represented -> acl\n",
            "among -> prep\n",
            "Trump -> compound\n",
            "donors -> pobj\n",
            "this -> det\n",
            "cycle -> nsubj\n",
            "overall -> advmod\n",
            "were -> ROOT\n",
            "Health -> compound\n",
            "Services -> attr\n",
            ", -> punct\n",
            "\n",
            " -> \n",
            "Casinos -> nmod\n",
            "/ -> punct\n",
            "Gambling -> appos\n",
            "and -> cc\n",
            "Finance -> conj\n",
            ". -> punct\n",
            "industries cycle , big be Services , donors\n",
            "Only -> advmod\n",
            "$ -> quantmod\n",
            "8,021 -> nsubj\n",
            "came -> ROOT\n",
            "out -> prep\n",
            "of -> prep\n",
            "the -> det\n",
            "former -> amod\n",
            "president -> poss\n",
            "'s -> case\n",
            "pockets -> pobj\n",
            "this -> det\n",
            "time -> npadvmod\n",
            "around -> advmod\n",
            ", -> punct\n",
            "versus -> prep\n",
            "$ -> quantmod\n",
            "66 -> compound\n",
            "million -> pobj\n",
            "in -> prep\n",
            "2016 -> pobj\n",
            ". -> punct\n",
            "8,021 , come former , pockets million 2016\n"
          ],
          "name": "stdout"
        }
      ]
    },
    {
      "cell_type": "code",
      "metadata": {
        "colab": {
          "base_uri": "https://localhost:8080/"
        },
        "id": "rqhazyGZu1SA",
        "outputId": "d6b69381-ace9-43e2-c319-1f83babf4796"
      },
      "source": [
        "triples"
      ],
      "execution_count": 109,
      "outputs": [
        {
          "output_type": "execute_result",
          "data": {
            "text/plain": [
              "[('Mellon', 'donate', 'Systems million campaign'),\n",
              " ('his', 'former be big cycle', 'fortune Secretary donations'),\n",
              " ('He which', 'own large regional', 'railroad America Railways sale July'),\n",
              " ('He', 'be', 'politics'),\n",
              " ('operatives he', 'republican have', 'name Google'),\n",
              " ('industries cycle', 'big be Services', 'donors'),\n",
              " ('8,021', 'come former', 'pockets million 2016')]"
            ]
          },
          "metadata": {
            "tags": []
          },
          "execution_count": 109
        }
      ]
    },
    {
      "cell_type": "code",
      "metadata": {
        "colab": {
          "base_uri": "https://localhost:8080/",
          "height": 895
        },
        "id": "d8gI94IAxYm-",
        "outputId": "768b8e69-29ec-43f0-d44d-0243314f9edd"
      },
      "source": [
        "#deps = [\"compound\", \"prep\", \"conj\", \"mod\", \"quantmod\", \"dobj\"]\n",
        "printGraph(triples) "
      ],
      "execution_count": 110,
      "outputs": [
        {
          "output_type": "display_data",
          "data": {
            "image/png": "[encoded data removed]",
            "text/plain": [
              "<Figure size 864x864 with 1 Axes>"
            ]
          },
          "metadata": {
            "tags": []
          }
        }
      ]
    },
    {
      "cell_type": "code",
      "metadata": {
        "colab": {
          "base_uri": "https://localhost:8080/",
          "height": 895
        },
        "id": "8jiw6Sekq3Ho",
        "outputId": "c99e5362-a88c-4c59-b5f8-113e496aa4a4"
      },
      "source": [
        "#deps = [\"compound\", \"prep\", \"conj\", \"mod\", \"quantmod\", \"dobj\"]\n",
        "printGraph(triples) "
      ],
      "execution_count": 85,
      "outputs": [
        {
          "output_type": "display_data",
          "data": {
            "image/png": "[encoded data removed]",
            "text/plain": [
              "<Figure size 864x864 with 1 Axes>"
            ]
          },
          "metadata": {
            "tags": []
          }
        }
      ]
    },
    {
      "cell_type": "code",
      "metadata": {
        "colab": {
          "base_uri": "https://localhost:8080/",
          "height": 895
        },
        "id": "I_MbtjPPa3xS",
        "outputId": "5b25c592-49d1-4d8c-d74e-476cfa35a31e"
      },
      "source": [
        " #deps = [\"compound\", \"prep\", \"conj\", \"mod\"]\n",
        " printGraph(triples) "
      ],
      "execution_count": 80,
      "outputs": [
        {
          "output_type": "display_data",
          "data": {
            "image/png": "[encoded data removed]",
            "text/plain": [
              "<Figure size 864x864 with 1 Axes>"
            ]
          },
          "metadata": {
            "tags": []
          }
        }
      ]
    },
    {
      "cell_type": "markdown",
      "metadata": {
        "id": "f7nFnGz5sjDV"
      },
      "source": [
        "order 2-4"
      ]
    },
    {
      "cell_type": "markdown",
      "metadata": {
        "id": "_jSfSrbytMwq"
      },
      "source": [
        "1. given url -> provide a df containing all the binary relationship\n",
        "2. Add \"mapping data structure\" to the df\n",
        "3. Visualize: Netwroks\n",
        "4. Visualize NER; POS; Relationships; => binary graph\n",
        "5. Transitive micro graph\n",
        "6. ** Disambiguation\n",
        "\n",
        "2,4,5"
      ]
    }
  ]
}