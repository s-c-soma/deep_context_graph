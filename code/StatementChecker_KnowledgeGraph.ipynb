{
  "nbformat": 4,
  "nbformat_minor": 0,
  "metadata": {
    "colab": {
      "name": "StatementChecker_KnowledgeGraph.ipynb",
      "provenance": [],
      "collapsed_sections": [],
      "toc_visible": true,
      "machine_shape": "hm",
      "include_colab_link": true
    },
    "kernelspec": {
      "name": "python3",
      "display_name": "Python 3"
    },
    "accelerator": "GPU"
  },
  "cells": [
    {
      "cell_type": "markdown",
      "metadata": {
        "id": "view-in-github",
        "colab_type": "text"
      },
      "source": [
        "<a href=\"https://colab.research.google.com/github/s-c-soma/deep_context_graph/blob/main/code/StatementChecker_KnowledgeGraph.ipynb\" target=\"_parent\"><img src=\"https://colab.research.google.com/assets/colab-badge.svg\" alt=\"Open In Colab\"/></a>"
      ]
    },
    {
      "cell_type": "markdown",
      "metadata": {
        "id": "Rx7gmnkznLmk"
      },
      "source": [
        "# Two variation: \n",
        "1. summarize ->graph :: .buildGraph(.summarize(text))\n",
        "2. distillation -> graph :: .buildGraph(.distill(text))\n"
      ]
    },
    {
      "cell_type": "markdown",
      "metadata": {
        "id": "qbLARzOqft-2"
      },
      "source": [
        "# **Env Setup**\n"
      ]
    },
    {
      "cell_type": "code",
      "metadata": {
        "id": "diQAzNIjGxqN",
        "colab": {
          "base_uri": "https://localhost:8080/"
        },
        "outputId": "0be1dd0d-243f-4b70-928d-5cd15245bb41"
      },
      "source": [
        "\n",
        "\n",
        "# Mount google drive\n",
        "from google.colab import drive\n",
        "drive.mount('/content/drive',force_remount=False)\n",
        "\n",
        "\n",
        "# create folder to write data to\n",
        "#CIS545_FOLDER=os.path.join(DRIVE_MOUNT, 'My Drive', 'CIS545_2020')\n",
        "#HOMEWORK_FOLDER=os.path.join(CIS545_FOLDER, 'Project')\n",
        "#os.makedirs(HOMEWORK_FOLDER, exist_ok=True)"
      ],
      "execution_count": 1,
      "outputs": [
        {
          "output_type": "stream",
          "text": [
            "Mounted at /content/drive\n"
          ],
          "name": "stdout"
        }
      ]
    },
    {
      "cell_type": "code",
      "metadata": {
        "id": "_BFPSZ4QWG5W",
        "colab": {
          "base_uri": "https://localhost:8080/"
        },
        "outputId": "6c2b7170-811e-4a14-8536-5b06426276db"
      },
      "source": [
        "!ls '/content/drive/Shared drives/1DeepContextGraph/1DeepContextGraph'"
      ],
      "execution_count": null,
      "outputs": [
        {
          "output_type": "stream",
          "text": [
            "code  documents\n"
          ],
          "name": "stdout"
        }
      ]
    },
    {
      "cell_type": "code",
      "metadata": {
        "id": "pYTBhUSrWxL-"
      },
      "source": [
        "file_path = '/content/drive/Shared drives/1DeepContextGraph/1DeepContextGraph/code/data/'"
      ],
      "execution_count": 2,
      "outputs": []
    },
    {
      "cell_type": "markdown",
      "metadata": {
        "id": "Rahs7nD9y1Yd"
      },
      "source": [
        "# Library"
      ]
    },
    {
      "cell_type": "code",
      "metadata": {
        "colab": {
          "base_uri": "https://localhost:8080/"
        },
        "id": "zKHChq0e8x8k",
        "outputId": "0f7d8bbf-d4e1-4cd3-dcd7-e95bbcb32040"
      },
      "source": [
        "!pip install sentence-transformers"
      ],
      "execution_count": 1,
      "outputs": [
        {
          "output_type": "stream",
          "text": [
            "Collecting sentence-transformers\n",
            "\u001b[?25l  Downloading https://files.pythonhosted.org/packages/c4/87/49dc49e13ac107ce912c2f3f3fd92252c6d4221e88d1e6c16747044a11d8/sentence-transformers-1.1.0.tar.gz (78kB)\n",
            "\u001b[K     |████████████████████████████████| 81kB 2.9MB/s \n",
            "\u001b[?25hCollecting transformers<5.0.0,>=3.1.0\n",
            "\u001b[?25l  Downloading https://files.pythonhosted.org/packages/d8/b2/57495b5309f09fa501866e225c84532d1fd89536ea62406b2181933fb418/transformers-4.5.1-py3-none-any.whl (2.1MB)\n",
            "\u001b[K     |████████████████████████████████| 2.1MB 6.2MB/s \n",
            "\u001b[?25hRequirement already satisfied: tqdm in /usr/local/lib/python3.7/dist-packages (from sentence-transformers) (4.41.1)\n",
            "Requirement already satisfied: torch>=1.6.0 in /usr/local/lib/python3.7/dist-packages (from sentence-transformers) (1.8.1+cu101)\n",
            "Requirement already satisfied: numpy in /usr/local/lib/python3.7/dist-packages (from sentence-transformers) (1.19.5)\n",
            "Requirement already satisfied: scikit-learn in /usr/local/lib/python3.7/dist-packages (from sentence-transformers) (0.22.2.post1)\n",
            "Requirement already satisfied: scipy in /usr/local/lib/python3.7/dist-packages (from sentence-transformers) (1.4.1)\n",
            "Requirement already satisfied: nltk in /usr/local/lib/python3.7/dist-packages (from sentence-transformers) (3.2.5)\n",
            "Collecting sentencepiece\n",
            "\u001b[?25l  Downloading https://files.pythonhosted.org/packages/f5/99/e0808cb947ba10f575839c43e8fafc9cc44e4a7a2c8f79c60db48220a577/sentencepiece-0.1.95-cp37-cp37m-manylinux2014_x86_64.whl (1.2MB)\n",
            "\u001b[K     |████████████████████████████████| 1.2MB 52.2MB/s \n",
            "\u001b[?25hRequirement already satisfied: importlib-metadata; python_version < \"3.8\" in /usr/local/lib/python3.7/dist-packages (from transformers<5.0.0,>=3.1.0->sentence-transformers) (3.10.1)\n",
            "Requirement already satisfied: packaging in /usr/local/lib/python3.7/dist-packages (from transformers<5.0.0,>=3.1.0->sentence-transformers) (20.9)\n",
            "Requirement already satisfied: filelock in /usr/local/lib/python3.7/dist-packages (from transformers<5.0.0,>=3.1.0->sentence-transformers) (3.0.12)\n",
            "Collecting sacremoses\n",
            "\u001b[?25l  Downloading https://files.pythonhosted.org/packages/75/ee/67241dc87f266093c533a2d4d3d69438e57d7a90abb216fa076e7d475d4a/sacremoses-0.0.45-py3-none-any.whl (895kB)\n",
            "\u001b[K     |████████████████████████████████| 901kB 41.6MB/s \n",
            "\u001b[?25hCollecting tokenizers<0.11,>=0.10.1\n",
            "\u001b[?25l  Downloading https://files.pythonhosted.org/packages/ae/04/5b870f26a858552025a62f1649c20d29d2672c02ff3c3fb4c688ca46467a/tokenizers-0.10.2-cp37-cp37m-manylinux2010_x86_64.whl (3.3MB)\n",
            "\u001b[K     |████████████████████████████████| 3.3MB 44.0MB/s \n",
            "\u001b[?25hRequirement already satisfied: regex!=2019.12.17 in /usr/local/lib/python3.7/dist-packages (from transformers<5.0.0,>=3.1.0->sentence-transformers) (2019.12.20)\n",
            "Requirement already satisfied: requests in /usr/local/lib/python3.7/dist-packages (from transformers<5.0.0,>=3.1.0->sentence-transformers) (2.23.0)\n",
            "Requirement already satisfied: typing-extensions in /usr/local/lib/python3.7/dist-packages (from torch>=1.6.0->sentence-transformers) (3.7.4.3)\n",
            "Requirement already satisfied: joblib>=0.11 in /usr/local/lib/python3.7/dist-packages (from scikit-learn->sentence-transformers) (1.0.1)\n",
            "Requirement already satisfied: six in /usr/local/lib/python3.7/dist-packages (from nltk->sentence-transformers) (1.15.0)\n",
            "Requirement already satisfied: zipp>=0.5 in /usr/local/lib/python3.7/dist-packages (from importlib-metadata; python_version < \"3.8\"->transformers<5.0.0,>=3.1.0->sentence-transformers) (3.4.1)\n",
            "Requirement already satisfied: pyparsing>=2.0.2 in /usr/local/lib/python3.7/dist-packages (from packaging->transformers<5.0.0,>=3.1.0->sentence-transformers) (2.4.7)\n",
            "Requirement already satisfied: click in /usr/local/lib/python3.7/dist-packages (from sacremoses->transformers<5.0.0,>=3.1.0->sentence-transformers) (7.1.2)\n",
            "Requirement already satisfied: chardet<4,>=3.0.2 in /usr/local/lib/python3.7/dist-packages (from requests->transformers<5.0.0,>=3.1.0->sentence-transformers) (3.0.4)\n",
            "Requirement already satisfied: certifi>=2017.4.17 in /usr/local/lib/python3.7/dist-packages (from requests->transformers<5.0.0,>=3.1.0->sentence-transformers) (2020.12.5)\n",
            "Requirement already satisfied: idna<3,>=2.5 in /usr/local/lib/python3.7/dist-packages (from requests->transformers<5.0.0,>=3.1.0->sentence-transformers) (2.10)\n",
            "Requirement already satisfied: urllib3!=1.25.0,!=1.25.1,<1.26,>=1.21.1 in /usr/local/lib/python3.7/dist-packages (from requests->transformers<5.0.0,>=3.1.0->sentence-transformers) (1.24.3)\n",
            "Building wheels for collected packages: sentence-transformers\n",
            "  Building wheel for sentence-transformers (setup.py) ... \u001b[?25l\u001b[?25hdone\n",
            "  Created wheel for sentence-transformers: filename=sentence_transformers-1.1.0-cp37-none-any.whl size=119615 sha256=616565f05d26f2de220cb7d5d1e940a40348a80590956069dbd65682d53bc462\n",
            "  Stored in directory: /root/.cache/pip/wheels/84/cb/21/1066bff3027215c760ca14a198f698bca8fccb92e33e2327eb\n",
            "Successfully built sentence-transformers\n",
            "Installing collected packages: sacremoses, tokenizers, transformers, sentencepiece, sentence-transformers\n",
            "Successfully installed sacremoses-0.0.45 sentence-transformers-1.1.0 sentencepiece-0.1.95 tokenizers-0.10.2 transformers-4.5.1\n"
          ],
          "name": "stdout"
        }
      ]
    },
    {
      "cell_type": "code",
      "metadata": {
        "colab": {
          "base_uri": "https://localhost:8080/"
        },
        "id": "WnpavPOi8-wJ",
        "outputId": "864fa2e9-76e7-48a7-e59f-a8d755f7b16e"
      },
      "source": [
        "!pip install LexRank"
      ],
      "execution_count": 2,
      "outputs": [
        {
          "output_type": "stream",
          "text": [
            "Collecting LexRank\n",
            "\u001b[?25l  Downloading https://files.pythonhosted.org/packages/e1/25/f139d8526e014b6bf6021305492cd7ccffbfa10999802fce4813808b04e4/lexrank-0.1.0-py3-none-any.whl (69kB)\n",
            "\u001b[K     |████████████████████████████████| 71kB 2.6MB/s \n",
            "\u001b[?25hRequirement already satisfied: numpy>=1.13.3 in /usr/local/lib/python3.7/dist-packages (from LexRank) (1.19.5)\n",
            "Collecting path.py>=10.5\n",
            "  Downloading https://files.pythonhosted.org/packages/8f/04/130b7a538c25693c85c4dee7e25d126ebf5511b1eb7320e64906687b159e/path.py-12.5.0-py3-none-any.whl\n",
            "Requirement already satisfied: pyrsistent>=0.14.0 in /usr/local/lib/python3.7/dist-packages (from LexRank) (0.17.3)\n",
            "Requirement already satisfied: scipy>=0.19.0 in /usr/local/lib/python3.7/dist-packages (from LexRank) (1.4.1)\n",
            "Requirement already satisfied: regex>=2017.11.9 in /usr/local/lib/python3.7/dist-packages (from LexRank) (2019.12.20)\n",
            "Collecting urlextract>=0.7\n",
            "  Downloading https://files.pythonhosted.org/packages/c3/24/0f5c690a4ef9b5d30845517ef14c35ce6a3d96e5b0ae0db6895bb194ab10/urlextract-1.2.0-py3-none-any.whl\n",
            "Collecting path\n",
            "  Downloading https://files.pythonhosted.org/packages/d3/2a/b0f97e1b736725f6ec48a8bd564ee1d1f3f945bb5d39cb44ef8bbe66bd14/path-15.1.2-py3-none-any.whl\n",
            "Requirement already satisfied: idna in /usr/local/lib/python3.7/dist-packages (from urlextract>=0.7->LexRank) (2.10)\n",
            "Collecting uritools\n",
            "  Downloading https://files.pythonhosted.org/packages/3d/cf/b081118f4505e3092bfaad94d14b78ec8344976cea142ed767b240cbf243/uritools-3.0.1-py3-none-any.whl\n",
            "Requirement already satisfied: filelock in /usr/local/lib/python3.7/dist-packages (from urlextract>=0.7->LexRank) (3.0.12)\n",
            "Requirement already satisfied: appdirs in /usr/local/lib/python3.7/dist-packages (from urlextract>=0.7->LexRank) (1.4.4)\n",
            "Installing collected packages: path, path.py, uritools, urlextract, LexRank\n",
            "Successfully installed LexRank-0.1.0 path-15.1.2 path.py-12.5.0 uritools-3.0.1 urlextract-1.2.0\n"
          ],
          "name": "stdout"
        }
      ]
    },
    {
      "cell_type": "code",
      "metadata": {
        "colab": {
          "base_uri": "https://localhost:8080/"
        },
        "id": "S2EgFlRXsVsA",
        "outputId": "34dd6023-42e8-4c28-f7c5-19c9a31e9a59"
      },
      "source": [
        "!python -m spacy download en_core_web_sm"
      ],
      "execution_count": 3,
      "outputs": [
        {
          "output_type": "stream",
          "text": [
            "Requirement already satisfied: en_core_web_sm==2.2.5 from https://github.com/explosion/spacy-models/releases/download/en_core_web_sm-2.2.5/en_core_web_sm-2.2.5.tar.gz#egg=en_core_web_sm==2.2.5 in /usr/local/lib/python3.7/dist-packages (2.2.5)\n",
            "Requirement already satisfied: spacy>=2.2.2 in /usr/local/lib/python3.7/dist-packages (from en_core_web_sm==2.2.5) (2.2.4)\n",
            "Requirement already satisfied: tqdm<5.0.0,>=4.38.0 in /usr/local/lib/python3.7/dist-packages (from spacy>=2.2.2->en_core_web_sm==2.2.5) (4.41.1)\n",
            "Requirement already satisfied: wasabi<1.1.0,>=0.4.0 in /usr/local/lib/python3.7/dist-packages (from spacy>=2.2.2->en_core_web_sm==2.2.5) (0.8.2)\n",
            "Requirement already satisfied: numpy>=1.15.0 in /usr/local/lib/python3.7/dist-packages (from spacy>=2.2.2->en_core_web_sm==2.2.5) (1.19.5)\n",
            "Requirement already satisfied: preshed<3.1.0,>=3.0.2 in /usr/local/lib/python3.7/dist-packages (from spacy>=2.2.2->en_core_web_sm==2.2.5) (3.0.5)\n",
            "Requirement already satisfied: requests<3.0.0,>=2.13.0 in /usr/local/lib/python3.7/dist-packages (from spacy>=2.2.2->en_core_web_sm==2.2.5) (2.23.0)\n",
            "Requirement already satisfied: srsly<1.1.0,>=1.0.2 in /usr/local/lib/python3.7/dist-packages (from spacy>=2.2.2->en_core_web_sm==2.2.5) (1.0.5)\n",
            "Requirement already satisfied: thinc==7.4.0 in /usr/local/lib/python3.7/dist-packages (from spacy>=2.2.2->en_core_web_sm==2.2.5) (7.4.0)\n",
            "Requirement already satisfied: catalogue<1.1.0,>=0.0.7 in /usr/local/lib/python3.7/dist-packages (from spacy>=2.2.2->en_core_web_sm==2.2.5) (1.0.0)\n",
            "Requirement already satisfied: murmurhash<1.1.0,>=0.28.0 in /usr/local/lib/python3.7/dist-packages (from spacy>=2.2.2->en_core_web_sm==2.2.5) (1.0.5)\n",
            "Requirement already satisfied: cymem<2.1.0,>=2.0.2 in /usr/local/lib/python3.7/dist-packages (from spacy>=2.2.2->en_core_web_sm==2.2.5) (2.0.5)\n",
            "Requirement already satisfied: blis<0.5.0,>=0.4.0 in /usr/local/lib/python3.7/dist-packages (from spacy>=2.2.2->en_core_web_sm==2.2.5) (0.4.1)\n",
            "Requirement already satisfied: plac<1.2.0,>=0.9.6 in /usr/local/lib/python3.7/dist-packages (from spacy>=2.2.2->en_core_web_sm==2.2.5) (1.1.3)\n",
            "Requirement already satisfied: setuptools in /usr/local/lib/python3.7/dist-packages (from spacy>=2.2.2->en_core_web_sm==2.2.5) (54.2.0)\n",
            "Requirement already satisfied: urllib3!=1.25.0,!=1.25.1,<1.26,>=1.21.1 in /usr/local/lib/python3.7/dist-packages (from requests<3.0.0,>=2.13.0->spacy>=2.2.2->en_core_web_sm==2.2.5) (1.24.3)\n",
            "Requirement already satisfied: idna<3,>=2.5 in /usr/local/lib/python3.7/dist-packages (from requests<3.0.0,>=2.13.0->spacy>=2.2.2->en_core_web_sm==2.2.5) (2.10)\n",
            "Requirement already satisfied: chardet<4,>=3.0.2 in /usr/local/lib/python3.7/dist-packages (from requests<3.0.0,>=2.13.0->spacy>=2.2.2->en_core_web_sm==2.2.5) (3.0.4)\n",
            "Requirement already satisfied: certifi>=2017.4.17 in /usr/local/lib/python3.7/dist-packages (from requests<3.0.0,>=2.13.0->spacy>=2.2.2->en_core_web_sm==2.2.5) (2020.12.5)\n",
            "Requirement already satisfied: importlib-metadata>=0.20; python_version < \"3.8\" in /usr/local/lib/python3.7/dist-packages (from catalogue<1.1.0,>=0.0.7->spacy>=2.2.2->en_core_web_sm==2.2.5) (3.10.1)\n",
            "Requirement already satisfied: typing-extensions>=3.6.4; python_version < \"3.8\" in /usr/local/lib/python3.7/dist-packages (from importlib-metadata>=0.20; python_version < \"3.8\"->catalogue<1.1.0,>=0.0.7->spacy>=2.2.2->en_core_web_sm==2.2.5) (3.7.4.3)\n",
            "Requirement already satisfied: zipp>=0.5 in /usr/local/lib/python3.7/dist-packages (from importlib-metadata>=0.20; python_version < \"3.8\"->catalogue<1.1.0,>=0.0.7->spacy>=2.2.2->en_core_web_sm==2.2.5) (3.4.1)\n",
            "\u001b[38;5;2m✔ Download and installation successful\u001b[0m\n",
            "You can now load the model via spacy.load('en_core_web_sm')\n"
          ],
          "name": "stdout"
        }
      ]
    },
    {
      "cell_type": "code",
      "metadata": {
        "id": "DeeYtkOS-MXU"
      },
      "source": [
        "#import lexrank.degree_centrality_scores\n",
        "\n",
        "from lexrank import STOPWORDS, LexRank\n",
        "from path import Path\n"
      ],
      "execution_count": 4,
      "outputs": []
    },
    {
      "cell_type": "code",
      "metadata": {
        "id": "wIpGURz6ZkHi",
        "colab": {
          "base_uri": "https://localhost:8080/"
        },
        "outputId": "76e1df72-1e6f-4f41-8cef-d958445bf87a"
      },
      "source": [
        "import json\n",
        "import os\n",
        "# For caculating approximate time to process notebook (IGNORE)\n",
        "import datetime\n",
        "datetime.datetime.now()\n",
        "import argparse\n",
        "import pandas as pd\n",
        "import numpy as np\n",
        "import operator\n",
        "import pickle as pkl \n",
        "import matplotlib.pyplot as plt\n",
        "import nltk as nl\n",
        "from nltk.sentiment.vader import SentimentIntensityAnalyzer\n",
        "from sklearn.model_selection import ParameterGrid\n",
        "import statistics\n",
        "import random\n",
        "import warnings\n",
        "from string import punctuation\n",
        "from matplotlib import pyplot\n",
        "from pandas import Series, datetime\n",
        "from pandas.plotting import scatter_matrix, autocorrelation_plot\n",
        "from sklearn.preprocessing import StandardScaler\n",
        "from sklearn.model_selection import train_test_split, KFold, cross_val_score, GridSearchCV, TimeSeriesSplit\n",
        "from sklearn.metrics import classification_report, confusion_matrix, accuracy_score, mean_squared_error\n",
        "from sklearn.pipeline import Pipeline\n",
        "from sklearn.linear_model import LogisticRegression\n",
        "from sklearn.tree import DecisionTreeClassifier\n",
        "from sklearn.neighbors import KNeighborsClassifier\n",
        "from sklearn.discriminant_analysis import LinearDiscriminantAnalysis\n",
        "from sklearn.naive_bayes import GaussianNB\n",
        "from sklearn.svm import SVC\n",
        "from sklearn.ensemble import AdaBoostClassifier, GradientBoostingClassifier, RandomForestClassifier, ExtraTreesClassifier\n",
        "from sklearn.metrics import roc_curve, auc\n",
        "from sklearn.feature_extraction.text import CountVectorizer\n",
        "from xgboost import XGBClassifier\n",
        "from sklearn.naive_bayes import MultinomialNB\n",
        "import nltk\n",
        "import re\n",
        "import io\n",
        "import requests\n",
        "import time\n",
        "import gensim\n",
        "from nltk.stem.wordnet import WordNetLemmatizer\n",
        "from nltk.corpus import stopwords\n",
        "from string import punctuation\n",
        "import nltk.sentiment\n",
        "from sentence_transformers import SentenceTransformer, util\n",
        "import numpy as np\n",
        "import spacy\n",
        "from spacy.lang.en import English\n",
        "import networkx as nx\n",
        "import matplotlib.pyplot as plt\n",
        "\n",
        "\n",
        "nltk.download('punkt')\n",
        "nltk.download('stopwords')\n",
        "nltk.download('averaged_perceptron_tagger')\n",
        "nltk.download('punkt')\n",
        "nltk.download('wordnet')\n",
        "nltk.download('vader_lexicon')"
      ],
      "execution_count": 5,
      "outputs": [
        {
          "output_type": "stream",
          "text": [
            "/usr/local/lib/python3.7/dist-packages/nltk/twitter/__init__.py:20: UserWarning: The twython library has not been installed. Some functionality from the twitter package will not be available.\n",
            "  warnings.warn(\"The twython library has not been installed. \"\n",
            "/usr/local/lib/python3.7/dist-packages/ipykernel_launcher.py:20: FutureWarning: The pandas.datetime class is deprecated and will be removed from pandas in a future version. Import from datetime module instead.\n"
          ],
          "name": "stderr"
        },
        {
          "output_type": "stream",
          "text": [
            "[nltk_data] Downloading package punkt to /root/nltk_data...\n",
            "[nltk_data]   Unzipping tokenizers/punkt.zip.\n",
            "[nltk_data] Downloading package stopwords to /root/nltk_data...\n",
            "[nltk_data]   Unzipping corpora/stopwords.zip.\n",
            "[nltk_data] Downloading package averaged_perceptron_tagger to\n",
            "[nltk_data]     /root/nltk_data...\n",
            "[nltk_data]   Unzipping taggers/averaged_perceptron_tagger.zip.\n",
            "[nltk_data] Downloading package punkt to /root/nltk_data...\n",
            "[nltk_data]   Package punkt is already up-to-date!\n",
            "[nltk_data] Downloading package wordnet to /root/nltk_data...\n",
            "[nltk_data]   Unzipping corpora/wordnet.zip.\n",
            "[nltk_data] Downloading package vader_lexicon to /root/nltk_data...\n"
          ],
          "name": "stdout"
        },
        {
          "output_type": "execute_result",
          "data": {
            "text/plain": [
              "True"
            ]
          },
          "metadata": {
            "tags": []
          },
          "execution_count": 5
        }
      ]
    },
    {
      "cell_type": "markdown",
      "metadata": {
        "id": "qla-L-vEyPe4"
      },
      "source": [
        "# Load Data"
      ]
    },
    {
      "cell_type": "code",
      "metadata": {
        "id": "zklda03cyYgP"
      },
      "source": [
        "data_fox_claim = pd.read_csv(file_path+'/fox_claim_news_processed.csv',low_memory=False)\n",
        "#data_all_news = pd.read_csv(file_path+'/statement_checker_all.csv',low_memory=False)\n",
        "data_polifact = pd.read_csv(file_path+'/political_fact_checker_processed.csv',low_memory=False)\n"
      ],
      "execution_count": 7,
      "outputs": []
    },
    {
      "cell_type": "code",
      "metadata": {
        "colab": {
          "base_uri": "https://localhost:8080/"
        },
        "id": "_cgt3SqP0hY9",
        "outputId": "ae33ddb3-f8ad-426c-f22a-8fd932f9a426"
      },
      "source": [
        "data_fox_claim.columns"
      ],
      "execution_count": 8,
      "outputs": [
        {
          "output_type": "execute_result",
          "data": {
            "text/plain": [
              "Index(['Unnamed: 0', 'Unnamed: 0.1', 'link', 'published', 'title', 'text',\n",
              "       'site', 'text_distilled', 'topics', 'named_entity_recognition',\n",
              "       'top_10_freq_word', 'pasts_of_speech'],\n",
              "      dtype='object')"
            ]
          },
          "metadata": {
            "tags": []
          },
          "execution_count": 8
        }
      ]
    },
    {
      "cell_type": "code",
      "metadata": {
        "colab": {
          "base_uri": "https://localhost:8080/"
        },
        "id": "75927YU6lUO2",
        "outputId": "560601e8-fa98-4e4d-ef76-30cd8a57990d"
      },
      "source": [
        "data_polifact.columns"
      ],
      "execution_count": 9,
      "outputs": [
        {
          "output_type": "execute_result",
          "data": {
            "text/plain": [
              "Index(['Unnamed: 0', 'Unnamed: 0.1', 'sources', 'urls', 'title', 'summaries',\n",
              "       'dates', 'ratings', 'text', 'authors', 'publishdate', 'relatedlinks',\n",
              "       'claims', 'text_distilled', 'topics', 'named_entity_recognition',\n",
              "       'top_10_freq_word', 'pasts_of_speech'],\n",
              "      dtype='object')"
            ]
          },
          "metadata": {
            "tags": []
          },
          "execution_count": 9
        }
      ]
    },
    {
      "cell_type": "code",
      "metadata": {
        "colab": {
          "base_uri": "https://localhost:8080/"
        },
        "id": "cJp0grVSkij1",
        "outputId": "87acd34a-76dd-44e8-a0b7-fa7e68e7b64b"
      },
      "source": [
        "data_fox_claim['Unnamed: 0'][1]"
      ],
      "execution_count": 10,
      "outputs": [
        {
          "output_type": "execute_result",
          "data": {
            "text/plain": [
              "1"
            ]
          },
          "metadata": {
            "tags": []
          },
          "execution_count": 10
        }
      ]
    },
    {
      "cell_type": "code",
      "metadata": {
        "id": "b97W8RmnlF-E"
      },
      "source": [
        "data_fox_claim = data_fox_claim.rename({'Unnamed: 0': 'documentId'}, axis='columns')\n",
        "data_polifact = data_polifact.rename({'Unnamed: 0': 'documentId'}, axis='columns')"
      ],
      "execution_count": 11,
      "outputs": []
    },
    {
      "cell_type": "markdown",
      "metadata": {
        "id": "f5BuIUfZ1X5g"
      },
      "source": [
        "# Methods"
      ]
    },
    {
      "cell_type": "markdown",
      "metadata": {
        "id": "K9zg6DzVyV1Q"
      },
      "source": [
        "## Lemmatization\n",
        "  \n",
        "First, the raw words must be converted to root forms.  "
      ]
    },
    {
      "cell_type": "code",
      "metadata": {
        "id": "Qs9YyZ8WygUo"
      },
      "source": [
        "def lemmatize(tokenized_words):\n",
        "  text = [nltk.WordNetLemmatizer().lemmatize(word) for word in tokenized_words]\n",
        "  return text\n"
      ],
      "execution_count": 12,
      "outputs": []
    },
    {
      "cell_type": "markdown",
      "metadata": {
        "id": "CRnq7Orw5sSW"
      },
      "source": [
        "## Removing Stop words\n",
        "\n"
      ]
    },
    {
      "cell_type": "code",
      "metadata": {
        "id": "7axUBcsp5yXD"
      },
      "source": [
        "english_stopwords = set(stopwords.words('english') + list(punctuation) + [''])\n",
        "\n",
        "def remove_stopwords(tokenized_words):\n",
        "  text = [word for word in tokenized_words if word not in english_stopwords]\n",
        "  return text\n"
      ],
      "execution_count": 13,
      "outputs": []
    },
    {
      "cell_type": "markdown",
      "metadata": {
        "id": "ejCglovYHwyb"
      },
      "source": [
        "## Custom Filtering\n",
        "\n",
        "Some of the one or two-letter words from the tokenized words are also removed to further cleanse the raw text. "
      ]
    },
    {
      "cell_type": "code",
      "metadata": {
        "id": "Z9ujoC42HwGM"
      },
      "source": [
        "whitelist = set(['ai', 'ax', 'ca', 'eu', 'go', 'io', 'la', 'ox', 'us', 'uk', \n",
        "                 'al', 'ak', 'az', 'ar', 'ca', 'co', 'ct', 'de', 'fl', 'ga', 'hi', \n",
        "                 'id', 'il', 'in', 'ia', 'ks', 'ky', 'la', 'me', 'md', 'ma', 'mi',\n",
        "                 'mn', 'ms', 'mo', 'mt', 'ne', 'nv', 'nh', 'nj', 'nm', 'ny',\n",
        "                 'nc', 'nd', 'oh', 'ok', 'or', 'pa', 'ri', 'sc', 'sd', 'tn',\n",
        "                 'tx', 'ut', 'vt', 'va', 'wa', 'wv', 'wi', 'wy' ])\n",
        "def remove_too_short(tokenized_words):\n",
        "  text = [word for word in tokenized_words if (len(word) >= 3 or word not in whitelist) ]\n",
        "  return text"
      ],
      "execution_count": 14,
      "outputs": []
    },
    {
      "cell_type": "markdown",
      "metadata": {
        "id": "DGmEhyrkC0e5"
      },
      "source": [
        "## LDA Analysis\n"
      ]
    },
    {
      "cell_type": "code",
      "metadata": {
        "id": "M7Fdvch1EjQ4"
      },
      "source": [
        "from gensim.models.ldamodel import LdaModel\n",
        "from gensim.corpora import Dictionary\n",
        "\n",
        "def topics(tokenized_words):\n",
        "    d = Dictionary([tokenized_words])\n",
        "    c = [d.doc2bow(tokenized_words)]\n",
        "    m = LdaModel(c, num_topics=1, id2word=d)\n",
        "    return list(m.print_topics(num_words=2))\n",
        "  \n"
      ],
      "execution_count": 15,
      "outputs": []
    },
    {
      "cell_type": "markdown",
      "metadata": {
        "id": "ze4YTpBLultl"
      },
      "source": [
        "## Topics as Simple List of Words\n",
        "\n",
        "A list of topic terms is compiled as show below. The coefficients in front of each word are dropped as part of simplification. The assumption is that the top two words comprising the topic, are both significant enough to be treated equally. It is important that the goal is to build a reliable prediction model. While there is a risk of oversimplification, if the final model results in a poor accuracy score, the coefficient can always be reintroduced here."
      ]
    },
    {
      "cell_type": "code",
      "metadata": {
        "id": "a1fxmdcyuqoB"
      },
      "source": [
        "def parseTopics(topics):\n",
        "   output = []\n",
        "   words = topics[0][1].split( '+' )\n",
        "   for word in words:\n",
        "       output.append( word.split('*')[1].replace( '\"', '' ) )\n",
        "   return output"
      ],
      "execution_count": 16,
      "outputs": []
    },
    {
      "cell_type": "markdown",
      "metadata": {
        "id": "WhDGJBUxpbMC"
      },
      "source": [
        "# Information extraction and knowledge graphs\n",
        "\n",
        "* https://programmerbackpack.com/python-nlp-tutorial-information-extraction-and-knowledge-graphs/\n",
        "* https://github.com/bdmarius/python-knowledge-graph"
      ]
    },
    {
      "cell_type": "markdown",
      "metadata": {
        "id": "fp3-5DIUxo-G"
      },
      "source": [
        "## Methods"
      ]
    },
    {
      "cell_type": "code",
      "metadata": {
        "id": "AGLiWdQHxbu3"
      },
      "source": [
        "def getSentences(text):\n",
        "    nlp = English()\n",
        "    nlp.add_pipe(nlp.create_pipe('sentencizer'))\n",
        "    document = nlp(text)\n",
        "    return [sent.string.strip() for sent in document.sents]\n",
        "\n",
        "def printToken(token):\n",
        "    print(token.text, \"->\", token.dep_)\n",
        "\n",
        "def appendChunk(original, chunk):\n",
        "    return original + ' ' + chunk\n",
        "\n",
        "def isRelationCandidate(token):\n",
        "    deps = [\"ROOT\", \"adj\", \"attr\", \"agent\", \"amod\"]\n",
        "    return any(subs in token.dep_ for subs in deps)\n",
        "\n",
        "def isConstructionCandidate(token):\n",
        "    deps = [\"compound\", \"prep\", \"conj\", \"mod\"]\n",
        "    return any(subs in token.dep_ for subs in deps)\n",
        "\n",
        "def processSubjectObjectPairs(tokens):\n",
        "    subject = ''\n",
        "    object = ''\n",
        "    relation = ''\n",
        "    subjectConstruction = ''\n",
        "    objectConstruction = ''\n",
        "    for token in tokens:\n",
        "        printToken(token)\n",
        "        if \"punct\" in token.dep_:\n",
        "            continue\n",
        "        if isRelationCandidate(token):\n",
        "            relation = appendChunk(relation, token.lemma_)\n",
        "        if isConstructionCandidate(token):\n",
        "            if subjectConstruction:\n",
        "                subjectConstruction = appendChunk(subjectConstruction, token.text)\n",
        "            if objectConstruction:\n",
        "                objectConstruction = appendChunk(objectConstruction, token.text)\n",
        "        if \"subj\" in token.dep_:\n",
        "            subject = appendChunk(subject, token.text)\n",
        "            subject = appendChunk(subjectConstruction, subject)\n",
        "            subjectConstruction = ''\n",
        "        if \"obj\" in token.dep_:\n",
        "            object = appendChunk(object, token.text)\n",
        "            object = appendChunk(objectConstruction, object)\n",
        "            objectConstruction = ''\n",
        "\n",
        "    print (subject.strip(), \",\", relation.strip(), \",\", object.strip())\n",
        "    return (subject.strip(), relation.strip(), object.strip())\n",
        "\n",
        "def processSentence(sentence):\n",
        "    tokens = nlp_model(sentence)\n",
        "    return processSubjectObjectPairs(tokens)\n",
        "\n",
        "def printGraph(triples):\n",
        "    G = nx.Graph()\n",
        "    for triple in triples:\n",
        "        G.add_node(triple[0])\n",
        "        G.add_node(triple[1])\n",
        "        G.add_node(triple[2])\n",
        "        G.add_edge(triple[0], triple[1])\n",
        "        G.add_edge(triple[1], triple[2])\n",
        "\n",
        "    pos = nx.spring_layout(G)\n",
        "    plt.figure(figsize=(8, 6), dpi=80)\n",
        "    nx.draw(G, pos, edge_color='black', width=1, linewidths=1,\n",
        "            node_size=500, node_color='seagreen', alpha=0.9,\n",
        "            labels={node: node for node in G.nodes()})\n",
        "    plt.axis('off')\n",
        "    plt.show()"
      ],
      "execution_count": 6,
      "outputs": []
    },
    {
      "cell_type": "markdown",
      "metadata": {
        "id": "Qj4I-nm51JdI"
      },
      "source": [
        "## Example and Experiment"
      ]
    },
    {
      "cell_type": "code",
      "metadata": {
        "id": "04VT_L4rxuQP"
      },
      "source": [
        "text = \"London is the capital and largest city of England and the United Kingdom. Standing on the River \" \\\n",
        "           \"Thames in the south-east of England, at the head of its 50-mile (80 km) estuary leading to \" \\\n",
        "           \"the North Sea, London has been a major settlement for two millennia. \" \\\n",
        "           \"Londinium was founded by the Romans. The City of London, \" \\\n",
        "           \"London's ancient core − an area of just 1.12 square miles (2.9 km2) and colloquially known as \" \\\n",
        "           \"the Square Mile − retains boundaries that follow closely its medieval limits.\" \\\n",
        "           \"The City of Westminster is also an Inner London borough holding city status. \" \\\n",
        "           \"Greater London is governed by the Mayor of London and the London Assembly.\" \\\n",
        "           \"London is located in the southeast of England.\" \\\n",
        "           \"Westminster is located in London.\" \\\n",
        "           \"London is the biggest city in Britain. London has a population of 7,172,036.\"\n"
      ],
      "execution_count": null,
      "outputs": []
    },
    {
      "cell_type": "code",
      "metadata": {
        "id": "jmF74bLKz1xH"
      },
      "source": [
        "body = \"\"\" The Chrysler Building, the famous art deco New York skyscraper, will be\n",
        " sold for a small fraction of its previous sales price. The building sold fairly \n",
        " quickly after being publicly placed on the market only two months ago. The incentive \n",
        " to sell the building at such a huge loss was due to the soaring rent the owners pay to \n",
        " Cooper Union, a New York college, for the land under the building.' Still the building is \n",
        "among the best known in the city, even to people who have never been to New York. \"\"\""
      ],
      "execution_count": 31,
      "outputs": []
    },
    {
      "cell_type": "code",
      "metadata": {
        "colab": {
          "base_uri": "https://localhost:8080/"
        },
        "id": "mc4gedTiz6Jw",
        "outputId": "7a6df4b8-fafc-4682-b3a1-10c3c9005028"
      },
      "source": [
        "body = summary\n",
        "sentences = getSentences(body)\n",
        "nlp_model = spacy.load('en_core_web_sm')\n",
        "\n",
        "triples = []\n",
        "#print (body)\n",
        "for sentence in sentences:\n",
        "  triples.append(processSentence(sentence))"
      ],
      "execution_count": 10,
      "outputs": [
        {
          "output_type": "stream",
          "text": [
            "In -> prep\n",
            "a -> det\n",
            "self -> npadvmod\n",
            "- -> punct\n",
            "published -> amod\n",
            "2015 -> nummod\n",
            "autobiography -> pobj\n",
            ", -> punct\n",
            "Mellon -> nsubj\n",
            "called -> ROOT\n",
            "social -> amod\n",
            "safety -> nmod\n",
            "net -> amod\n",
            "programs -> dobj\n",
            "“ -> punct\n",
            "Slavery -> compound\n",
            "Redux -> appos\n",
            ", -> punct\n",
            "” -> punct\n",
            "adding -> advcl\n",
            ": -> punct\n",
            "“ -> punct\n",
            "For -> prep\n",
            "delivering -> pcomp\n",
            "their -> poss\n",
            "votes -> dobj\n",
            "in -> prep\n",
            "the -> det\n",
            "Federal -> compound\n",
            "Elections -> pobj\n",
            ", -> punct\n",
            "they -> nsubjpass\n",
            "are -> auxpass\n",
            "awarded -> ccomp\n",
            "with -> prep\n",
            "yet -> advmod\n",
            "more -> amod\n",
            "and -> cc\n",
            "more -> conj\n",
            "freebies -> pobj\n",
            ": -> punct\n",
            "food -> compound\n",
            "stamps -> appos\n",
            ", -> punct\n",
            "cell -> compound\n",
            "phones -> conj\n",
            ", -> punct\n",
            "WIC -> compound\n",
            "payments -> conj\n",
            ", -> punct\n",
            "Obamacare -> conj\n",
            ", -> punct\n",
            "and -> cc\n",
            "on -> conj\n",
            ", -> punct\n",
            "and -> cc\n",
            "on -> conj\n",
            ", -> punct\n",
            "and -> cc\n",
            "on -> conj\n",
            ". -> punct\n",
            "Mellon they , publish call social net more , autobiography programs votes Elections freebies\n",
            "Advertisement -> nmod\n",
            "\n",
            "\n",
            " -> \n",
            "Story -> nsubj\n",
            "continues -> ROOT\n",
            "below -> prep\n",
            "advertisement -> pobj\n",
            "\n",
            "\n",
            " -> \n",
            "Mellon -> nsubj\n",
            "declined -> ROOT\n",
            "to -> aux\n",
            "comment -> xcomp\n",
            ". -> punct\n",
            "Story Mellon , continue decline , advertisement\n",
            "Mellon -> nsubj\n",
            ", -> punct\n",
            "who -> nsubj\n",
            "is -> relcl\n",
            "the -> det\n",
            "great -> amod\n",
            "- -> punct\n",
            "grandson -> attr\n",
            "of -> prep\n",
            "Mellon -> compound\n",
            "family -> compound\n",
            "patriarch -> pobj\n",
            "and -> cc\n",
            "banker -> conj\n",
            "Thomas -> compound\n",
            "Mellon -> conj\n",
            ", -> punct\n",
            "and -> cc\n",
            "grandson -> conj\n",
            "of -> prep\n",
            "Andrew -> compound\n",
            "W. -> compound\n",
            "Mellon -> pobj\n",
            ", -> punct\n",
            "the -> det\n",
            "former -> amod\n",
            "Treasury -> compound\n",
            "Department -> compound\n",
            "secretary -> appos\n",
            ", -> punct\n",
            "had -> aux\n",
            "given -> ROOT\n",
            "smaller -> amod\n",
            "amounts -> dobj\n",
            "to -> prep\n",
            "state -> nmod\n",
            "and -> cc\n",
            "federal -> conj\n",
            "GOP -> compound\n",
            "candidates -> pobj\n",
            "for -> prep\n",
            "years -> pobj\n",
            ", -> punct\n",
            "but -> cc\n",
            "ramped -> conj\n",
            "up -> prt\n",
            "his -> poss\n",
            "giving -> dobj\n",
            "under -> prep\n",
            "Trump -> pobj\n",
            ", -> punct\n",
            "campaign -> compound\n",
            "finance -> compound\n",
            "records -> compound\n",
            "show -> appos\n",
            ". -> punct\n",
            "Mellon who , great grandson former give small , patriarch Mellon amounts candidates years giving Trump\n",
            "Story -> nsubj\n",
            "continues -> ROOT\n",
            "below -> prep\n",
            "advertisement -> pobj\n",
            "\n",
            "\n",
            " -> \n",
            "He -> nsubj\n",
            "now -> advmod\n",
            "rivals -> ROOT\n",
            "other -> amod\n",
            "prominent -> amod\n",
            "donors -> dobj\n",
            "who -> nsubj\n",
            "have -> aux\n",
            "increased -> relcl\n",
            "their -> poss\n",
            "political -> amod\n",
            "giving -> dobj\n",
            "under -> prep\n",
            "Trump -> pobj\n",
            ", -> punct\n",
            "such -> amod\n",
            "as -> prep\n",
            "shipping -> compound\n",
            "supplies -> compound\n",
            "magnate -> compound\n",
            "Richard -> compound\n",
            "Uihlein -> pobj\n",
            "and -> cc\n",
            "Stephen -> compound\n",
            "Schwarzman -> conj\n",
            ", -> punct\n",
            "the -> det\n",
            "Blackstone -> compound\n",
            "chairman -> appos\n",
            "and -> cc\n",
            "chief -> amod\n",
            "executive -> conj\n",
            ". -> punct\n",
            "Story He who , continue rival other prominent political such chief , advertisement donors giving Trump Uihlein\n",
            "Black -> amod\n",
            "people -> nsubj\n",
            ", -> punct\n",
            "in -> prep\n",
            "spite -> pobj\n",
            "of -> prep\n",
            "heroic -> amod\n",
            "efforts -> pobj\n",
            "by -> prep\n",
            "the -> det\n",
            "‘ -> punct\n",
            "Establishment -> pobj\n",
            "’ -> punct\n",
            "to -> aux\n",
            "right -> acl\n",
            "the -> det\n",
            "wrongs -> dobj\n",
            "of -> prep\n",
            "the -> det\n",
            "past -> pobj\n",
            ", -> punct\n",
            "became -> ccomp\n",
            "even -> advmod\n",
            "more -> amod\n",
            "belligerent -> attr\n",
            "and -> cc\n",
            "unwilling -> conj\n",
            "to -> aux\n",
            "pitch -> xcomp\n",
            "in -> prt\n",
            "to -> aux\n",
            "improve -> advcl\n",
            "their -> poss\n",
            "own -> amod\n",
            "situations -> dobj\n",
            ", -> punct\n",
            "” -> punct\n",
            "Mellon -> nsubj\n",
            "wrote -> ROOT\n",
            ", -> punct\n",
            "describing -> advcl\n",
            "his -> poss\n",
            "view -> dobj\n",
            "of -> prep\n",
            "America -> pobj\n",
            "during -> prep\n",
            "Reagan -> nmod\n",
            "’s -> punct\n",
            "1984 -> nummod\n",
            "reelection -> compound\n",
            "campaign -> pobj\n",
            ". -> punct\n",
            "people Mellon , black heroic more belligerent own write , spite efforts Establishment wrongs past situations view America campaign\n",
            "Advertisement -> ROOT\n",
            "\n",
            "\n",
            " -> \n",
            "Two -> nummod\n",
            "decades -> npadvmod\n",
            "later -> advmod\n",
            ", -> punct\n",
            "too -> advmod\n",
            "many -> amod\n",
            "Americans -> nsubj\n",
            "are -> aux\n",
            "still -> advmod\n",
            "relying -> ccomp\n",
            "on -> prep\n",
            "the -> det\n",
            "government -> pobj\n",
            "for -> prep\n",
            "help -> pobj\n",
            ", -> punct\n",
            "he -> nsubj\n",
            "wrote -> ROOT\n",
            ". -> punct\n",
            "Americans he , advertisement many write , government help\n",
            "In -> prep\n",
            "the -> det\n",
            "1980s -> pobj\n",
            ", -> punct\n",
            "Mellon -> nsubj\n",
            "took -> ROOT\n",
            "over -> prt\n",
            "a -> det\n",
            "rail -> compound\n",
            "company -> dobj\n",
            "called -> acl\n",
            "Guilford -> compound\n",
            "Transportation -> compound\n",
            "Industries -> oprd\n",
            "and -> cc\n",
            "rebranded -> conj\n",
            "it -> dobj\n",
            "after -> prep\n",
            "purchasing -> pcomp\n",
            "Pan -> compound\n",
            "Am -> compound\n",
            "Airways -> dobj\n",
            "from -> prep\n",
            "bankruptcy -> pobj\n",
            "in -> prep\n",
            "the -> det\n",
            "1990s -> pobj\n",
            ". -> punct\n",
            "Mellon , take , 1980s company it Airways bankruptcy 1990s\n",
            "Advertisement -> ROOT\n",
            "\n",
            "\n",
            " -> \n",
            "He -> nsubj\n",
            "gave -> ROOT\n",
            "another -> det\n",
            "$ -> quantmod\n",
            "10 -> compound\n",
            "million -> dobj\n",
            "to -> prep\n",
            "the -> det\n",
            "Congressional -> compound\n",
            "Leadership -> compound\n",
            "Fund -> pobj\n",
            "in -> prep\n",
            "November -> pobj\n",
            "2019 -> nummod\n",
            ". -> punct\n",
            "He , advertisement give , million Fund November\n",
            "The -> det\n",
            "Congressional -> compound\n",
            "Leadership -> compound\n",
            "Fund -> nsubj\n",
            "did -> aux\n",
            "not -> neg\n",
            "respond -> ROOT\n",
            "to -> prep\n",
            "requests -> pobj\n",
            "for -> prep\n",
            "comment -> pobj\n",
            ". -> punct\n",
            "Fund , respond , requests comment\n"
          ],
          "name": "stdout"
        }
      ]
    },
    {
      "cell_type": "code",
      "metadata": {
        "colab": {
          "base_uri": "https://localhost:8080/",
          "height": 512
        },
        "id": "bwkgAJpKyHdm",
        "outputId": "9f063821-2329-4b3b-9ca1-d39c5e2991fd"
      },
      "source": [
        "printGraph(triples)  "
      ],
      "execution_count": 11,
      "outputs": [
        {
          "output_type": "display_data",
          "data": {
            "image/png": "[encoded data removed]",
            "text/plain": [
              "<Figure size 640x480 with 1 Axes>"
            ]
          },
          "metadata": {
            "tags": []
          }
        }
      ]
    },
    {
      "cell_type": "markdown",
      "metadata": {
        "id": "t1xGdtsk1Nv_"
      },
      "source": [
        "## Knowledge graph FoxClaim"
      ]
    },
    {
      "cell_type": "code",
      "metadata": {
        "colab": {
          "base_uri": "https://localhost:8080/",
          "height": 214
        },
        "id": "Ap-YUwPL1R3X",
        "outputId": "9343ea9d-3474-42be-dca9-4273369daa19"
      },
      "source": [
        "data_fox_claim.head(1)"
      ],
      "execution_count": 38,
      "outputs": [
        {
          "output_type": "execute_result",
          "data": {
            "text/html": [
              "<div>\n",
              "<style scoped>\n",
              "    .dataframe tbody tr th:only-of-type {\n",
              "        vertical-align: middle;\n",
              "    }\n",
              "\n",
              "    .dataframe tbody tr th {\n",
              "        vertical-align: top;\n",
              "    }\n",
              "\n",
              "    .dataframe thead th {\n",
              "        text-align: right;\n",
              "    }\n",
              "</style>\n",
              "<table border=\"1\" class=\"dataframe\">\n",
              "  <thead>\n",
              "    <tr style=\"text-align: right;\">\n",
              "      <th></th>\n",
              "      <th>documentId</th>\n",
              "      <th>Unnamed: 0.1</th>\n",
              "      <th>link</th>\n",
              "      <th>published</th>\n",
              "      <th>title</th>\n",
              "      <th>text</th>\n",
              "      <th>site</th>\n",
              "      <th>text_distilled</th>\n",
              "      <th>topics</th>\n",
              "      <th>named_entity_recognition</th>\n",
              "      <th>top_10_freq_word</th>\n",
              "      <th>pasts_of_speech</th>\n",
              "    </tr>\n",
              "  </thead>\n",
              "  <tbody>\n",
              "    <tr>\n",
              "      <th>0</th>\n",
              "      <td>0</td>\n",
              "      <td>0</td>\n",
              "      <td>https://www.foxnews.com/us/violent-crime-los-a...</td>\n",
              "      <td>2021-04-15T22:33:38</td>\n",
              "      <td>Murders in Los Angeles up nearly 200%, violent...</td>\n",
              "      <td>Murders in Los Angeles County have spiked near...</td>\n",
              "      <td>foxnews</td>\n",
              "      <td>['murder', 'los', 'angeles', 'nearly', '200', ...</td>\n",
              "      <td>['angeles ', 'crime']</td>\n",
              "      <td>[(Raphael, 'PERSON'), (Warnock, 'PERSON'), (re...</td>\n",
              "      <td>[('los', 5), ('angeles', 5), ('crime', 5), ('f...</td>\n",
              "      <td>[('Murders', 'NNS'), ('Los', 'NNP'), ('Angeles...</td>\n",
              "    </tr>\n",
              "  </tbody>\n",
              "</table>\n",
              "</div>"
            ],
            "text/plain": [
              "   documentId  ...                                    pasts_of_speech\n",
              "0           0  ...  [('Murders', 'NNS'), ('Los', 'NNP'), ('Angeles...\n",
              "\n",
              "[1 rows x 12 columns]"
            ]
          },
          "metadata": {
            "tags": []
          },
          "execution_count": 38
        }
      ]
    },
    {
      "cell_type": "code",
      "metadata": {
        "colab": {
          "base_uri": "https://localhost:8080/"
        },
        "id": "y_WkBNud1rOX",
        "outputId": "fd38618a-25ae-4aae-b76e-4576b520afac"
      },
      "source": [
        "data_fox_claim.columns"
      ],
      "execution_count": 39,
      "outputs": [
        {
          "output_type": "execute_result",
          "data": {
            "text/plain": [
              "Index(['documentId', 'Unnamed: 0.1', 'link', 'published', 'title', 'text',\n",
              "       'site', 'text_distilled', 'topics', 'named_entity_recognition',\n",
              "       'top_10_freq_word', 'pasts_of_speech'],\n",
              "      dtype='object')"
            ]
          },
          "metadata": {
            "tags": []
          },
          "execution_count": 39
        }
      ]
    },
    {
      "cell_type": "code",
      "metadata": {
        "id": "MfRC4eRa1jHQ"
      },
      "source": [
        "body = data_fox_claim['title'][0]\n",
        "sentences = getSentences(body)\n",
        "nlp_model = spacy.load('en_core_web_sm')\n",
        "\n",
        "triples = []\n",
        "#print (body)\n",
        "for sentence in sentences:\n",
        "  triples.append(processSentence(sentence))"
      ],
      "execution_count": null,
      "outputs": []
    },
    {
      "cell_type": "code",
      "metadata": {
        "colab": {
          "base_uri": "https://localhost:8080/",
          "height": 319
        },
        "id": "Ldt4x9iH2xz_",
        "outputId": "507ac21a-f1a6-42e5-9a7f-9aee1f892ecc"
      },
      "source": [
        "printGraph(triples) "
      ],
      "execution_count": 45,
      "outputs": [
        {
          "output_type": "display_data",
          "data": {
            "image/png": "[encoded data removed]",
            "text/plain": [
              "<Figure size 432x288 with 1 Axes>"
            ]
          },
          "metadata": {
            "tags": []
          }
        }
      ]
    },
    {
      "cell_type": "markdown",
      "metadata": {
        "id": "K5P7pLXo13V5"
      },
      "source": [
        "## Knowledge graph Politifact"
      ]
    },
    {
      "cell_type": "code",
      "metadata": {
        "colab": {
          "base_uri": "https://localhost:8080/",
          "height": 197
        },
        "id": "B9ShGWHN13V6",
        "outputId": "2ef07018-71ae-4510-bb03-e8cf8efb7872"
      },
      "source": [
        "data_polifact.head(1)"
      ],
      "execution_count": 41,
      "outputs": [
        {
          "output_type": "execute_result",
          "data": {
            "text/html": [
              "<div>\n",
              "<style scoped>\n",
              "    .dataframe tbody tr th:only-of-type {\n",
              "        vertical-align: middle;\n",
              "    }\n",
              "\n",
              "    .dataframe tbody tr th {\n",
              "        vertical-align: top;\n",
              "    }\n",
              "\n",
              "    .dataframe thead th {\n",
              "        text-align: right;\n",
              "    }\n",
              "</style>\n",
              "<table border=\"1\" class=\"dataframe\">\n",
              "  <thead>\n",
              "    <tr style=\"text-align: right;\">\n",
              "      <th></th>\n",
              "      <th>documentId</th>\n",
              "      <th>Unnamed: 0.1</th>\n",
              "      <th>sources</th>\n",
              "      <th>urls</th>\n",
              "      <th>title</th>\n",
              "      <th>summaries</th>\n",
              "      <th>dates</th>\n",
              "      <th>ratings</th>\n",
              "      <th>text</th>\n",
              "      <th>authors</th>\n",
              "      <th>publishdate</th>\n",
              "      <th>relatedlinks</th>\n",
              "      <th>claims</th>\n",
              "      <th>text_distilled</th>\n",
              "      <th>topics</th>\n",
              "      <th>named_entity_recognition</th>\n",
              "      <th>top_10_freq_word</th>\n",
              "      <th>pasts_of_speech</th>\n",
              "    </tr>\n",
              "  </thead>\n",
              "  <tbody>\n",
              "    <tr>\n",
              "      <th>0</th>\n",
              "      <td>0</td>\n",
              "      <td>0</td>\n",
              "      <td>politifact</td>\n",
              "      <td>http://www.politifact.com/factchecks/2021/mar/...</td>\n",
              "      <td>\\nSays Deborah Birx “traveled a great distance...</td>\n",
              "      <td>\\n\\n\\n\\n\\n\\n\\n\\n\\n\\n\\n\\n\\n\\n\\n\\n\\n\\n\\n\\n\\n\\n\\n...</td>\n",
              "      <td>2021-03-29</td>\n",
              "      <td>half-true</td>\n",
              "      <td>\\nFormer President Donald Trump didn’t appreci...</td>\n",
              "      <td>Jon Greenberg</td>\n",
              "      <td>2021-03-30</td>\n",
              "      <td>['https://www.cnn.com/2021/03/29/health/pandem...</td>\n",
              "      <td>National,Coronavirus,Donald Trump</td>\n",
              "      <td>['say', 'deborah', 'birx', 'traveled', 'great'...</td>\n",
              "      <td>['birx ', 'said']</td>\n",
              "      <td>[(Donald, 'PERSON'), (Trump, 'PERSON'), (Biden...</td>\n",
              "      <td>[('birx', 22), ('said', 12), ('family', 10), (...</td>\n",
              "      <td>[('Former', 'NNP'), ('President', 'NNP'), ('Do...</td>\n",
              "    </tr>\n",
              "  </tbody>\n",
              "</table>\n",
              "</div>"
            ],
            "text/plain": [
              "   documentId  ...                                    pasts_of_speech\n",
              "0           0  ...  [('Former', 'NNP'), ('President', 'NNP'), ('Do...\n",
              "\n",
              "[1 rows x 18 columns]"
            ]
          },
          "metadata": {
            "tags": []
          },
          "execution_count": 41
        }
      ]
    },
    {
      "cell_type": "code",
      "metadata": {
        "colab": {
          "base_uri": "https://localhost:8080/"
        },
        "id": "KDEyml2J13V8",
        "outputId": "a1bc861a-3b88-411c-d134-1a4ebf905804"
      },
      "source": [
        "data_polifact.columns"
      ],
      "execution_count": 37,
      "outputs": [
        {
          "output_type": "execute_result",
          "data": {
            "text/plain": [
              "Index(['documentId', 'Unnamed: 0.1', 'sources', 'urls', 'title', 'summaries',\n",
              "       'dates', 'ratings', 'text', 'authors', 'publishdate', 'relatedlinks',\n",
              "       'claims', 'text_distilled', 'topics', 'named_entity_recognition',\n",
              "       'top_10_freq_word', 'pasts_of_speech'],\n",
              "      dtype='object')"
            ]
          },
          "metadata": {
            "tags": []
          },
          "execution_count": 37
        }
      ]
    },
    {
      "cell_type": "code",
      "metadata": {
        "colab": {
          "base_uri": "https://localhost:8080/"
        },
        "id": "HpFn9jXI13V8",
        "outputId": "525eb5fa-f67d-4f3e-c41a-cc51d403f43f"
      },
      "source": [
        "body = data_polifact['title'][0]\n",
        "sentences = getSentences(body)\n",
        "nlp_model = spacy.load('en_core_web_sm')\n",
        "\n",
        "triples = []\n",
        "#print (body)\n",
        "for sentence in sentences:\n",
        "  triples.append(processSentence(sentence))"
      ],
      "execution_count": 54,
      "outputs": [
        {
          "output_type": "stream",
          "text": [
            "Says -> ROOT\n",
            "Deborah -> compound\n",
            "Birx -> nsubj\n",
            "“ -> punct\n",
            "traveled -> ccomp\n",
            "a -> det\n",
            "great -> amod\n",
            "distance -> dobj\n",
            "to -> aux\n",
            "see -> advcl\n",
            "her -> poss\n",
            "family -> dobj\n",
            "for -> prep\n",
            "Thanksgiving -> pobj\n",
            ", -> punct\n",
            "only -> advmod\n",
            "to -> aux\n",
            "have -> advcl\n",
            "them -> nsubj\n",
            "call -> ccomp\n",
            "the -> det\n",
            "police -> dobj\n",
            "and -> cc\n",
            "turn -> conj\n",
            "her -> dobj\n",
            "in -> prt\n",
            ". -> punct\n",
            "Birx them , say great , distance family Thanksgiving police her\n",
            "She -> nsubj\n",
            "then -> advmod\n",
            "... -> punct\n",
            "resigned -> ROOT\n",
            ". -> punct\n",
            "” -> punct\n",
            "She , resign , \n",
            " ,  , \n"
          ],
          "name": "stdout"
        }
      ]
    },
    {
      "cell_type": "code",
      "metadata": {
        "colab": {
          "base_uri": "https://localhost:8080/",
          "height": 319
        },
        "id": "RSBFTHaA3Pxu",
        "outputId": "cf689a51-42e6-40d7-8e99-504a95622bcb"
      },
      "source": [
        "printGraph(triples) "
      ],
      "execution_count": 55,
      "outputs": [
        {
          "output_type": "display_data",
          "data": {
            "image/png": "[encoded data removed]",
            "text/plain": [
              "<Figure size 432x288 with 1 Axes>"
            ]
          },
          "metadata": {
            "tags": []
          }
        }
      ]
    },
    {
      "cell_type": "markdown",
      "metadata": {
        "id": "AV_E-Bqw7JWO"
      },
      "source": [
        "# Use Case: Political Donation Knowledge Graph for Trump\n",
        "\n",
        "* news: \n",
        "https://www.washingtonpost.com/politics/timothy-mellon-top-donor-to-trump-super-pac-used-racial-stereotypes-to-describe-african-americans-in-his-autobiography/2020/06/18/89206c5a-a742-11ea-b619-3f9133bbb482_story.html\n",
        "\n",
        "* ref: \n",
        "https://programmerbackpack.com/python-nlp-tutorial-information-extraction-and-knowledge-graphs/"
      ]
    },
    {
      "cell_type": "code",
      "metadata": {
        "colab": {
          "base_uri": "https://localhost:8080/"
        },
        "id": "zgjpebtD7O_9",
        "outputId": "99c984e3-de1d-470e-f994-72ec5cf22e87"
      },
      "source": [
        "!pip install newspaper3k"
      ],
      "execution_count": 7,
      "outputs": [
        {
          "output_type": "stream",
          "text": [
            "Collecting newspaper3k\n",
            "\u001b[?25l  Downloading https://files.pythonhosted.org/packages/d7/b9/51afecb35bb61b188a4b44868001de348a0e8134b4dfa00ffc191567c4b9/newspaper3k-0.2.8-py3-none-any.whl (211kB)\n",
            "\u001b[K     |████████████████████████████████| 215kB 4.3MB/s \n",
            "\u001b[?25hCollecting tinysegmenter==0.3\n",
            "  Downloading https://files.pythonhosted.org/packages/17/82/86982e4b6d16e4febc79c2a1d68ee3b707e8a020c5d2bc4af8052d0f136a/tinysegmenter-0.3.tar.gz\n",
            "Requirement already satisfied: python-dateutil>=2.5.3 in /usr/local/lib/python3.7/dist-packages (from newspaper3k) (2.8.1)\n",
            "Collecting feedfinder2>=0.0.4\n",
            "  Downloading https://files.pythonhosted.org/packages/35/82/1251fefec3bb4b03fd966c7e7f7a41c9fc2bb00d823a34c13f847fd61406/feedfinder2-0.0.4.tar.gz\n",
            "Requirement already satisfied: requests>=2.10.0 in /usr/local/lib/python3.7/dist-packages (from newspaper3k) (2.23.0)\n",
            "Collecting cssselect>=0.9.2\n",
            "  Downloading https://files.pythonhosted.org/packages/3b/d4/3b5c17f00cce85b9a1e6f91096e1cc8e8ede2e1be8e96b87ce1ed09e92c5/cssselect-1.1.0-py2.py3-none-any.whl\n",
            "Requirement already satisfied: PyYAML>=3.11 in /usr/local/lib/python3.7/dist-packages (from newspaper3k) (3.13)\n",
            "Collecting jieba3k>=0.35.1\n",
            "\u001b[?25l  Downloading https://files.pythonhosted.org/packages/a9/cb/2c8332bcdc14d33b0bedd18ae0a4981a069c3513e445120da3c3f23a8aaa/jieba3k-0.35.1.zip (7.4MB)\n",
            "\u001b[K     |████████████████████████████████| 7.4MB 32.5MB/s \n",
            "\u001b[?25hRequirement already satisfied: beautifulsoup4>=4.4.1 in /usr/local/lib/python3.7/dist-packages (from newspaper3k) (4.6.3)\n",
            "Requirement already satisfied: nltk>=3.2.1 in /usr/local/lib/python3.7/dist-packages (from newspaper3k) (3.2.5)\n",
            "Collecting feedparser>=5.2.1\n",
            "\u001b[?25l  Downloading https://files.pythonhosted.org/packages/1c/21/faf1bac028662cc8adb2b5ef7a6f3999a765baa2835331df365289b0ca56/feedparser-6.0.2-py3-none-any.whl (80kB)\n",
            "\u001b[K     |████████████████████████████████| 81kB 9.0MB/s \n",
            "\u001b[?25hCollecting tldextract>=2.0.1\n",
            "\u001b[?25l  Downloading https://files.pythonhosted.org/packages/7e/62/b6acd3129c5615b9860e670df07fd55b76175b63e6b7f68282c7cad38e9e/tldextract-3.1.0-py2.py3-none-any.whl (87kB)\n",
            "\u001b[K     |████████████████████████████████| 92kB 9.9MB/s \n",
            "\u001b[?25hRequirement already satisfied: Pillow>=3.3.0 in /usr/local/lib/python3.7/dist-packages (from newspaper3k) (7.1.2)\n",
            "Requirement already satisfied: lxml>=3.6.0 in /usr/local/lib/python3.7/dist-packages (from newspaper3k) (4.2.6)\n",
            "Requirement already satisfied: six>=1.5 in /usr/local/lib/python3.7/dist-packages (from python-dateutil>=2.5.3->newspaper3k) (1.15.0)\n",
            "Requirement already satisfied: certifi>=2017.4.17 in /usr/local/lib/python3.7/dist-packages (from requests>=2.10.0->newspaper3k) (2020.12.5)\n",
            "Requirement already satisfied: idna<3,>=2.5 in /usr/local/lib/python3.7/dist-packages (from requests>=2.10.0->newspaper3k) (2.10)\n",
            "Requirement already satisfied: chardet<4,>=3.0.2 in /usr/local/lib/python3.7/dist-packages (from requests>=2.10.0->newspaper3k) (3.0.4)\n",
            "Requirement already satisfied: urllib3!=1.25.0,!=1.25.1,<1.26,>=1.21.1 in /usr/local/lib/python3.7/dist-packages (from requests>=2.10.0->newspaper3k) (1.24.3)\n",
            "Collecting sgmllib3k\n",
            "  Downloading https://files.pythonhosted.org/packages/9e/bd/3704a8c3e0942d711c1299ebf7b9091930adae6675d7c8f476a7ce48653c/sgmllib3k-1.0.0.tar.gz\n",
            "Requirement already satisfied: filelock>=3.0.8 in /usr/local/lib/python3.7/dist-packages (from tldextract>=2.0.1->newspaper3k) (3.0.12)\n",
            "Collecting requests-file>=1.4\n",
            "  Downloading https://files.pythonhosted.org/packages/77/86/cdb5e8eaed90796aa83a6d9f75cfbd37af553c47a291cd47bc410ef9bdb2/requests_file-1.5.1-py2.py3-none-any.whl\n",
            "Building wheels for collected packages: tinysegmenter, feedfinder2, jieba3k, sgmllib3k\n",
            "  Building wheel for tinysegmenter (setup.py) ... \u001b[?25l\u001b[?25hdone\n",
            "  Created wheel for tinysegmenter: filename=tinysegmenter-0.3-cp37-none-any.whl size=13538 sha256=cb5b839bc100195d1f48d3d77d24d18389cf799a10eb37d3f01276f0ea5b1f7f\n",
            "  Stored in directory: /root/.cache/pip/wheels/81/2b/43/a02ede72324dd40cdd7ca53aad718c7710628e91b8b0dc0f02\n",
            "  Building wheel for feedfinder2 (setup.py) ... \u001b[?25l\u001b[?25hdone\n",
            "  Created wheel for feedfinder2: filename=feedfinder2-0.0.4-cp37-none-any.whl size=3358 sha256=ed9e26d4af763b7196b733a793ce42c8a94468e59aea3a4a0c7ba22888fd33f3\n",
            "  Stored in directory: /root/.cache/pip/wheels/de/03/ca/778e3a7a627e3d98836cc890e7cb40c7575424cfd3340f40ed\n",
            "  Building wheel for jieba3k (setup.py) ... \u001b[?25l\u001b[?25hdone\n",
            "  Created wheel for jieba3k: filename=jieba3k-0.35.1-cp37-none-any.whl size=7398406 sha256=0cb3e9c17751cc9ae65f9d0381a1b6ea554d93f2836b12758d18599cd0b768ae\n",
            "  Stored in directory: /root/.cache/pip/wheels/83/15/9c/a3f1f67e7f7181170ad37d32e503c35da20627c013f438ed34\n",
            "  Building wheel for sgmllib3k (setup.py) ... \u001b[?25l\u001b[?25hdone\n",
            "  Created wheel for sgmllib3k: filename=sgmllib3k-1.0.0-cp37-none-any.whl size=6067 sha256=08d86652ffa34fce8b4138d26c361daf450d17f9b21c1318bf89f69e6dd9ab07\n",
            "  Stored in directory: /root/.cache/pip/wheels/f1/80/5a/444ba08a550cdd241bd9baf8bae44be750efe370adb944506a\n",
            "Successfully built tinysegmenter feedfinder2 jieba3k sgmllib3k\n",
            "Installing collected packages: tinysegmenter, feedfinder2, cssselect, jieba3k, sgmllib3k, feedparser, requests-file, tldextract, newspaper3k\n",
            "Successfully installed cssselect-1.1.0 feedfinder2-0.0.4 feedparser-6.0.2 jieba3k-0.35.1 newspaper3k-0.2.8 requests-file-1.5.1 sgmllib3k-1.0.0 tinysegmenter-0.3 tldextract-3.1.0\n"
          ],
          "name": "stdout"
        }
      ]
    },
    {
      "cell_type": "markdown",
      "metadata": {
        "id": "vTU_5o64hGYa"
      },
      "source": [
        "## Get Text\n",
        "https://analyticsindiamag.com/hands-on-guide-to-extractive-text-summarization-with-bertsum/"
      ]
    },
    {
      "cell_type": "code",
      "metadata": {
        "colab": {
          "base_uri": "https://localhost:8080/"
        },
        "id": "o-UvRYDu7az_",
        "outputId": "760433ed-a6f9-415c-e93f-c55614c19a5a"
      },
      "source": [
        "from newspaper import fulltext\n",
        "import requests\n",
        "article_url=\"https://www.washingtonpost.com/politics/timothy-mellon-top-donor-to-trump-super-pac-used-racial-stereotypes-to-describe-african-americans-in-his-autobiography/2020/06/18/89206c5a-a742-11ea-b619-3f9133bbb482_story.html \"\n",
        "article = fulltext(requests.get(article_url).text)\n",
        "print(article)"
      ],
      "execution_count": 8,
      "outputs": [
        {
          "output_type": "stream",
          "text": [
            "In a self-published 2015 autobiography, Mellon called social safety net programs “Slavery Redux,” adding: “For delivering their votes in the Federal Elections, they are awarded with yet more and more freebies: food stamps, cell phones, WIC payments, Obamacare, and on, and on, and on. The largess is funded by the hardworking folks, fewer and fewer in number, who are too honest or too proud to allow themselves to sink into this morass.”\n",
            "\n",
            "Advertisement\n",
            "\n",
            "Story continues below advertisement\n",
            "\n",
            "Mellon declined to comment.\n",
            "\n",
            "The Wyoming-based donor, whose family fortune dates to the Gilded Age, gave his first major pro-Trump donation in April, with a $10 million check to America First Action, the main super PAC supporting the president’s reelection. His donations are the biggest known contributions to the group by far, and he is also a top donor to GOP congressional super PACs, according to campaign finance records.\n",
            "\n",
            "America First Action, a super PAC chaired by Linda McMahon, former head of the Small Business Administration, declined to comment on Mellon’s contribution.\n",
            "\n",
            "Mellon’s company, Pan Am Systems, declined to comment on Mellon’s donation or support for Trump. The company did not respond to multiple requests for comment on the views expressed in his autobiography, which it described on its website as “a refreshingly candid look into his family life as well as his business successes.”\n",
            "\n",
            "Advertisement\n",
            "\n",
            "Story continues below advertisement\n",
            "\n",
            "The book was available for free download on the company’s website until this week, when it was removed after inquiries by The Washington Post. Copies were still available through a separate website.\n",
            "\n",
            "Mellon, who is the great-grandson of Mellon family patriarch and banker Thomas Mellon, and grandson of Andrew W. Mellon, the former Treasury Department secretary, had given smaller amounts to state and federal GOP candidates for years, but ramped up his giving under Trump, campaign finance records show. His first major federal donation came in May 2018, when he gave $10 million in support of the super PAC that supports the House GOP.\n",
            "\n",
            "Since February 2018, he has given $40 million to three super PACs, and tens of thousands of dollars more to an array of GOP candidates, records show.\n",
            "\n",
            "Story continues below advertisement\n",
            "\n",
            "He now rivals other prominent donors who have increased their political giving under Trump, such as shipping supplies magnate Richard Uihlein and Stephen Schwarzman, the Blackstone chairman and chief executive.\n",
            "\n",
            "Advertisement\n",
            "\n",
            "In his autobiography, Mellon wrote that while his family had been Republicans for generations before him, it wasn’t until the presidency of Ronald Reagan that he fully considered himself a Republican. He said Reagan “understood that people did best for themselves when shackled with the least amount of governmental constraints.”\n",
            "\n",
            "“Something had obviously gone dreadfully wrong with the Great Society and the Liberal onslaught. Poor people had become no less poor. Black people, in spite of heroic efforts by the ‘Establishment’ to right the wrongs of the past, became even more belligerent and unwilling to pitch in to improve their own situations,” Mellon wrote, describing his view of America during Reagan’s 1984 reelection campaign.\n",
            "\n",
            "Story continues below advertisement\n",
            "\n",
            "He continued: “Drugs rose to the level of epidemic. Single parent families became more and more prevalent. The likes of Jesse Jackson and Al Sharpton pandered endlessly to fan the flames.”\n",
            "\n",
            "Advertisement\n",
            "\n",
            "Two decades later, too many Americans are still relying on the government for help, he wrote.\n",
            "\n",
            "Mellon slammed the educational system for becoming beholden to teachers unions, and wrote that “Black Studies, Women’s Studies, LGBT Studies, they have all cluttered Higher Education with a mishmash of meaningless tripe designed to brainwash gullible young adults into going along with the Dependency Syndrome.”\n",
            "\n",
            "And he blasted media outlets, blaming journalists, particularly at MSNBC, for perpetuating the federal government’s “Dependency Message.”\n",
            "\n",
            "Story continues below advertisement\n",
            "\n",
            "“It took Abraham Lincoln and the Republican Party to deal with the first scourge of slavery. And now it appears that it is again up to the Republican Party to deal with the contemporary counterpart,” he wrote. “The question is: Is the Republican Party up to it this time?”\n",
            "\n",
            "Advertisement\n",
            "\n",
            "Mellon is the chairman of New Hampshire-based Pan Am Systems Inc., a privately held transportation and freight holding company whose subsidiaries include Pan Am Railways, a New England rail system, and a wood products manufacturer.\n",
            "\n",
            "In the 1980s, Mellon took over a rail company called Guilford Transportation Industries and rebranded it after purchasing Pan Am Airways from bankruptcy in the 1990s.\n",
            "\n",
            "Story continues below advertisement\n",
            "\n",
            "Mellon’s company has publicly praised the GOP-backed 2017 tax overhaul bill, which represented the largest one-time reduction in the corporate tax rate in U.S. history and lowered taxes for the vast majority of Americans.\n",
            "\n",
            "In May 2018 — the month he made his first donation to the Congressional Leadership Fund, the House GOP super PAC — his company announced it would issue a bonus of $1,100 to each employee because of the tax law.\n",
            "\n",
            "Advertisement\n",
            "\n",
            "He gave another $10 million to the Congressional Leadership Fund in November 2019. This year, he gave an additional $10 million to the Senate Leadership Fund, the Senate GOP super PAC.\n",
            "\n",
            "Even as his political giving has increased, Mellon has maintained a low profile. When officials with the Congressional Leadership Fund invited Mellon to attend a donor retreat in Jackson Hole, Wyo., to express thanks for his 2018 donation and meet with then-House Speaker Paul D. Ryan, Mellon declined, according to someone familiar with the invitation who spoke on the condition of anonymity to describe private conversations.\n",
            "\n",
            "Story continues below advertisement\n",
            "\n",
            "“It was all over email, and he didn’t want to meet, and said no to meetings,” said the person familiar with Mellon’s donations, which came in response to an email to major GOP donors, the person said. “He’s very off-the-grid.”\n",
            "\n",
            "Advertisement\n",
            "\n",
            "Officials with the Senate Leadership Fund declined to comment. The Congressional Leadership Fund did not respond to requests for comment.\n",
            "\n",
            "In an unusual move, Mellon has also given donations to two Democrats: $2,700 to Rep. Alexandria Ocasio-Cortez of New York for her 2018 campaign and $2,800 to Rep. Tulsi Gabbard of Hawaii for her long-shot bid for the 2020 Democratic presidential nomination.\n",
            "\n",
            "Gabbard’s office did not ­respond to a request for comment. Ocasio-Cortez’s campaign spokeswoman, Lauren Hitt, said the campaign did not solicit the donation in 2018 and would return it after an inquiry by The Post.\n",
            "\n",
            "Story continues below advertisement\n",
            "\n",
            "In the 2016 GOP primaries, Mellon made donations in support of business executive Carly Fiorina and now-Secretary of Housing and Urban Development Ben Carson, before giving $2,700 in total to Trump and the Republican National Committee in the general election, records show.\n",
            "\n",
            "Advertisement\n",
            "\n",
            "In 2010, Mellon made headlines as the biggest donor to a legal fund set up by then-Arizona Gov. Jan Brewer (R) to defend Senate Bill 1070, a controversial immigration law that required police to determine the immigration status of people suspected of being in the country illegally, which critics had said would lead to rampant racial profiling. He gave an unsolicited $1.5 million to the fund, according to a person familiar with fundraising who spoke on the condition of anonymity to describe donor support.\n",
            "\n",
            "“We were told by a representative that he was very closely watching current events and was inspired by [Brewer] and her leadership, and engaged on it,” the person said.\n",
            "\n",
            "Alice Crites contributed to this report.\n"
          ],
          "name": "stdout"
        }
      ]
    },
    {
      "cell_type": "markdown",
      "metadata": {
        "id": "Bf9ARm12hKa7"
      },
      "source": [
        "## Get Summary from Text"
      ]
    },
    {
      "cell_type": "code",
      "metadata": {
        "id": "6xesxQYG9M4N"
      },
      "source": [
        "## computed using my BERT Model Summarization\n",
        "summary = '''\n",
        "In a self-published 2015 autobiography, Mellon called social safety net programs “Slavery Redux,” adding: “For delivering their votes in the Federal Elections, they are awarded with yet more and more freebies: food stamps, cell phones, WIC payments, Obamacare, and on, and on, and on. Advertisement\n",
        "\n",
        "Story continues below advertisement\n",
        "\n",
        "Mellon declined to comment. Mellon, who is the great-grandson of Mellon family patriarch and banker Thomas Mellon, and grandson of Andrew W. Mellon, the former Treasury Department secretary, had given smaller amounts to state and federal GOP candidates for years, but ramped up his giving under Trump, campaign finance records show. Story continues below advertisement\n",
        "\n",
        "He now rivals other prominent donors who have increased their political giving under Trump, such as shipping supplies magnate Richard Uihlein and Stephen Schwarzman, the Blackstone chairman and chief executive. Black people, in spite of heroic efforts by the ‘Establishment’ to right the wrongs of the past, became even more belligerent and unwilling to pitch in to improve their own situations,” Mellon wrote, describing his view of America during Reagan’s 1984 reelection campaign. Advertisement\n",
        "\n",
        "Two decades later, too many Americans are still relying on the government for help, he wrote. In the 1980s, Mellon took over a rail company called Guilford Transportation Industries and rebranded it after purchasing Pan Am Airways from bankruptcy in the 1990s. Advertisement\n",
        "\n",
        "He gave another $10 million to the Congressional Leadership Fund in November 2019. The Congressional Leadership Fund did not respond to requests for comment.'''"
      ],
      "execution_count": 9,
      "outputs": []
    },
    {
      "cell_type": "markdown",
      "metadata": {
        "id": "coggI-nMgMla"
      },
      "source": [
        "## Create Graph"
      ]
    },
    {
      "cell_type": "code",
      "metadata": {
        "id": "Xcjz1BO5gPXL"
      },
      "source": [
        "body = summary\n",
        "sentences = getSentences(body)\n",
        "nlp_model = spacy.load('en_core_web_sm')\n",
        "\n",
        "triples = []\n",
        "#print (body)\n",
        "for sentence in sentences:\n",
        "  triples.append(processSentence(sentence))"
      ],
      "execution_count": null,
      "outputs": []
    },
    {
      "cell_type": "code",
      "metadata": {
        "colab": {
          "base_uri": "https://localhost:8080/",
          "height": 512
        },
        "id": "MuC9RLJAhBBG",
        "outputId": "9f063821-2329-4b3b-9ca1-d39c5e2991fd"
      },
      "source": [
        "printGraph(triples)  "
      ],
      "execution_count": null,
      "outputs": [
        {
          "output_type": "display_data",
          "data": {
            "image/png": "[encoded data removed]",
            "text/plain": [
              "<Figure size 640x480 with 1 Axes>"
            ]
          },
          "metadata": {
            "tags": []
          }
        }
      ]
    }
  ]
}