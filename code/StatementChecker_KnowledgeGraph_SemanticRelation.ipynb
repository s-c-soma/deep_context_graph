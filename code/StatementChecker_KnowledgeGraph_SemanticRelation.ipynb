{
  "nbformat": 4,
  "nbformat_minor": 0,
  "metadata": {
    "colab": {
      "name": "StatementChecker_KnowledgeGraph_SemanticRelation.ipynb",
      "provenance": [],
      "collapsed_sections": [
        "Rahs7nD9y1Yd",
        "qla-L-vEyPe4",
        "f5BuIUfZ1X5g",
        "K9zg6DzVyV1Q",
        "CRnq7Orw5sSW",
        "fp3-5DIUxo-G",
        "t1xGdtsk1Nv_"
      ],
      "toc_visible": true,
      "machine_shape": "hm",
      "include_colab_link": true
    },
    "kernelspec": {
      "name": "python3",
      "display_name": "Python 3"
    },
    "accelerator": "GPU"
  },
  "cells": [
    {
      "cell_type": "markdown",
      "metadata": {
        "id": "view-in-github",
        "colab_type": "text"
      },
      "source": [
        "<a href=\"https://colab.research.google.com/github/s-c-soma/deep_context_graph/blob/main/code/StatementChecker_KnowledgeGraph_SemanticRelation.ipynb\" target=\"_parent\"><img src=\"https://colab.research.google.com/assets/colab-badge.svg\" alt=\"Open In Colab\"/></a>"
      ]
    },
    {
      "cell_type": "markdown",
      "metadata": {
        "id": "Rx7gmnkznLmk"
      },
      "source": [
        "# Two variation: \n",
        "1. summarize ->graph :: .buildGraph(.summarize(text))\n",
        "2. distillation -> graph :: .buildGraph(.distill(text))\n"
      ]
    },
    {
      "cell_type": "markdown",
      "metadata": {
        "id": "qbLARzOqft-2"
      },
      "source": [
        "# **Env Setup**\n"
      ]
    },
    {
      "cell_type": "code",
      "metadata": {
        "id": "diQAzNIjGxqN",
        "colab": {
          "base_uri": "https://localhost:8080/",
          "height": 520
        },
        "outputId": "69b56d6b-571e-4db3-cde2-efe909eb0a27"
      },
      "source": [
        "\n",
        "\n",
        "# Mount google drive\n",
        "from google.colab import drive\n",
        "drive.mount('/content/drive',force_remount=False)\n",
        "\n",
        "\n",
        "# create folder to write data to\n",
        "#CIS545_FOLDER=os.path.join(DRIVE_MOUNT, 'My Drive', 'CIS545_2020')\n",
        "#HOMEWORK_FOLDER=os.path.join(CIS545_FOLDER, 'Project')\n",
        "#os.makedirs(HOMEWORK_FOLDER, exist_ok=True)"
      ],
      "execution_count": 1,
      "outputs": [
        {
          "output_type": "error",
          "ename": "KeyboardInterrupt",
          "evalue": "ignored",
          "traceback": [
            "\u001b[0;31m---------------------------------------------------------------------------\u001b[0m",
            "\u001b[0;31mKeyboardInterrupt\u001b[0m                         Traceback (most recent call last)",
            "\u001b[0;32m/usr/local/lib/python3.7/dist-packages/ipykernel/kernelbase.py\u001b[0m in \u001b[0;36m_input_request\u001b[0;34m(self, prompt, ident, parent, password)\u001b[0m\n\u001b[1;32m    728\u001b[0m             \u001b[0;32mtry\u001b[0m\u001b[0;34m:\u001b[0m\u001b[0;34m\u001b[0m\u001b[0;34m\u001b[0m\u001b[0m\n\u001b[0;32m--> 729\u001b[0;31m                 \u001b[0mident\u001b[0m\u001b[0;34m,\u001b[0m \u001b[0mreply\u001b[0m \u001b[0;34m=\u001b[0m \u001b[0mself\u001b[0m\u001b[0;34m.\u001b[0m\u001b[0msession\u001b[0m\u001b[0;34m.\u001b[0m\u001b[0mrecv\u001b[0m\u001b[0;34m(\u001b[0m\u001b[0mself\u001b[0m\u001b[0;34m.\u001b[0m\u001b[0mstdin_socket\u001b[0m\u001b[0;34m,\u001b[0m \u001b[0;36m0\u001b[0m\u001b[0;34m)\u001b[0m\u001b[0;34m\u001b[0m\u001b[0;34m\u001b[0m\u001b[0m\n\u001b[0m\u001b[1;32m    730\u001b[0m             \u001b[0;32mexcept\u001b[0m \u001b[0mException\u001b[0m\u001b[0;34m:\u001b[0m\u001b[0;34m\u001b[0m\u001b[0;34m\u001b[0m\u001b[0m\n",
            "\u001b[0;32m/usr/local/lib/python3.7/dist-packages/jupyter_client/session.py\u001b[0m in \u001b[0;36mrecv\u001b[0;34m(self, socket, mode, content, copy)\u001b[0m\n\u001b[1;32m    802\u001b[0m         \u001b[0;32mtry\u001b[0m\u001b[0;34m:\u001b[0m\u001b[0;34m\u001b[0m\u001b[0;34m\u001b[0m\u001b[0m\n\u001b[0;32m--> 803\u001b[0;31m             \u001b[0mmsg_list\u001b[0m \u001b[0;34m=\u001b[0m \u001b[0msocket\u001b[0m\u001b[0;34m.\u001b[0m\u001b[0mrecv_multipart\u001b[0m\u001b[0;34m(\u001b[0m\u001b[0mmode\u001b[0m\u001b[0;34m,\u001b[0m \u001b[0mcopy\u001b[0m\u001b[0;34m=\u001b[0m\u001b[0mcopy\u001b[0m\u001b[0;34m)\u001b[0m\u001b[0;34m\u001b[0m\u001b[0;34m\u001b[0m\u001b[0m\n\u001b[0m\u001b[1;32m    804\u001b[0m         \u001b[0;32mexcept\u001b[0m \u001b[0mzmq\u001b[0m\u001b[0;34m.\u001b[0m\u001b[0mZMQError\u001b[0m \u001b[0;32mas\u001b[0m \u001b[0me\u001b[0m\u001b[0;34m:\u001b[0m\u001b[0;34m\u001b[0m\u001b[0;34m\u001b[0m\u001b[0m\n",
            "\u001b[0;32m/usr/local/lib/python3.7/dist-packages/zmq/sugar/socket.py\u001b[0m in \u001b[0;36mrecv_multipart\u001b[0;34m(self, flags, copy, track)\u001b[0m\n\u001b[1;32m    582\u001b[0m         \"\"\"\n\u001b[0;32m--> 583\u001b[0;31m         \u001b[0mparts\u001b[0m \u001b[0;34m=\u001b[0m \u001b[0;34m[\u001b[0m\u001b[0mself\u001b[0m\u001b[0;34m.\u001b[0m\u001b[0mrecv\u001b[0m\u001b[0;34m(\u001b[0m\u001b[0mflags\u001b[0m\u001b[0;34m,\u001b[0m \u001b[0mcopy\u001b[0m\u001b[0;34m=\u001b[0m\u001b[0mcopy\u001b[0m\u001b[0;34m,\u001b[0m \u001b[0mtrack\u001b[0m\u001b[0;34m=\u001b[0m\u001b[0mtrack\u001b[0m\u001b[0;34m)\u001b[0m\u001b[0;34m]\u001b[0m\u001b[0;34m\u001b[0m\u001b[0;34m\u001b[0m\u001b[0m\n\u001b[0m\u001b[1;32m    584\u001b[0m         \u001b[0;31m# have first part already, only loop while more to receive\u001b[0m\u001b[0;34m\u001b[0m\u001b[0;34m\u001b[0m\u001b[0;34m\u001b[0m\u001b[0m\n",
            "\u001b[0;32mzmq/backend/cython/socket.pyx\u001b[0m in \u001b[0;36mzmq.backend.cython.socket.Socket.recv\u001b[0;34m()\u001b[0m\n",
            "\u001b[0;32mzmq/backend/cython/socket.pyx\u001b[0m in \u001b[0;36mzmq.backend.cython.socket.Socket.recv\u001b[0;34m()\u001b[0m\n",
            "\u001b[0;32mzmq/backend/cython/socket.pyx\u001b[0m in \u001b[0;36mzmq.backend.cython.socket._recv_copy\u001b[0;34m()\u001b[0m\n",
            "\u001b[0;32m/usr/local/lib/python3.7/dist-packages/zmq/backend/cython/checkrc.pxd\u001b[0m in \u001b[0;36mzmq.backend.cython.checkrc._check_rc\u001b[0;34m()\u001b[0m\n",
            "\u001b[0;31mKeyboardInterrupt\u001b[0m: ",
            "\nDuring handling of the above exception, another exception occurred:\n",
            "\u001b[0;31mKeyboardInterrupt\u001b[0m                         Traceback (most recent call last)",
            "\u001b[0;32m<ipython-input-1-29f45847674b>\u001b[0m in \u001b[0;36m<module>\u001b[0;34m()\u001b[0m\n\u001b[1;32m      3\u001b[0m \u001b[0;31m# Mount google drive\u001b[0m\u001b[0;34m\u001b[0m\u001b[0;34m\u001b[0m\u001b[0;34m\u001b[0m\u001b[0m\n\u001b[1;32m      4\u001b[0m \u001b[0;32mfrom\u001b[0m \u001b[0mgoogle\u001b[0m\u001b[0;34m.\u001b[0m\u001b[0mcolab\u001b[0m \u001b[0;32mimport\u001b[0m \u001b[0mdrive\u001b[0m\u001b[0;34m\u001b[0m\u001b[0;34m\u001b[0m\u001b[0m\n\u001b[0;32m----> 5\u001b[0;31m \u001b[0mdrive\u001b[0m\u001b[0;34m.\u001b[0m\u001b[0mmount\u001b[0m\u001b[0;34m(\u001b[0m\u001b[0;34m'/content/drive'\u001b[0m\u001b[0;34m,\u001b[0m\u001b[0mforce_remount\u001b[0m\u001b[0;34m=\u001b[0m\u001b[0;32mFalse\u001b[0m\u001b[0;34m)\u001b[0m\u001b[0;34m\u001b[0m\u001b[0;34m\u001b[0m\u001b[0m\n\u001b[0m\u001b[1;32m      6\u001b[0m \u001b[0;34m\u001b[0m\u001b[0m\n\u001b[1;32m      7\u001b[0m \u001b[0;34m\u001b[0m\u001b[0m\n",
            "\u001b[0;32m/usr/local/lib/python3.7/dist-packages/google/colab/drive.py\u001b[0m in \u001b[0;36mmount\u001b[0;34m(mountpoint, force_remount, timeout_ms, use_metadata_server)\u001b[0m\n\u001b[1;32m    258\u001b[0m       \u001b[0;32mwith\u001b[0m \u001b[0m_output\u001b[0m\u001b[0;34m.\u001b[0m\u001b[0muse_tags\u001b[0m\u001b[0;34m(\u001b[0m\u001b[0;34m'dfs-auth-dance'\u001b[0m\u001b[0;34m)\u001b[0m\u001b[0;34m:\u001b[0m\u001b[0;34m\u001b[0m\u001b[0;34m\u001b[0m\u001b[0m\n\u001b[1;32m    259\u001b[0m         \u001b[0;32mwith\u001b[0m \u001b[0mopen\u001b[0m\u001b[0;34m(\u001b[0m\u001b[0mfifo\u001b[0m\u001b[0;34m,\u001b[0m \u001b[0;34m'w'\u001b[0m\u001b[0;34m)\u001b[0m \u001b[0;32mas\u001b[0m \u001b[0mfifo_file\u001b[0m\u001b[0;34m:\u001b[0m\u001b[0;34m\u001b[0m\u001b[0;34m\u001b[0m\u001b[0m\n\u001b[0;32m--> 260\u001b[0;31m           \u001b[0mfifo_file\u001b[0m\u001b[0;34m.\u001b[0m\u001b[0mwrite\u001b[0m\u001b[0;34m(\u001b[0m\u001b[0mget_code\u001b[0m\u001b[0;34m(\u001b[0m\u001b[0mauth_prompt\u001b[0m\u001b[0;34m)\u001b[0m \u001b[0;34m+\u001b[0m \u001b[0;34m'\\n'\u001b[0m\u001b[0;34m)\u001b[0m\u001b[0;34m\u001b[0m\u001b[0;34m\u001b[0m\u001b[0m\n\u001b[0m\u001b[1;32m    261\u001b[0m       \u001b[0mwrote_to_fifo\u001b[0m \u001b[0;34m=\u001b[0m \u001b[0;32mTrue\u001b[0m\u001b[0;34m\u001b[0m\u001b[0;34m\u001b[0m\u001b[0m\n\u001b[1;32m    262\u001b[0m     \u001b[0;32melif\u001b[0m \u001b[0mcase\u001b[0m \u001b[0;34m==\u001b[0m \u001b[0;36m5\u001b[0m\u001b[0;34m:\u001b[0m\u001b[0;34m\u001b[0m\u001b[0;34m\u001b[0m\u001b[0m\n",
            "\u001b[0;32m/usr/local/lib/python3.7/dist-packages/ipykernel/kernelbase.py\u001b[0m in \u001b[0;36mraw_input\u001b[0;34m(self, prompt)\u001b[0m\n\u001b[1;32m    702\u001b[0m             \u001b[0mself\u001b[0m\u001b[0;34m.\u001b[0m\u001b[0m_parent_ident\u001b[0m\u001b[0;34m,\u001b[0m\u001b[0;34m\u001b[0m\u001b[0;34m\u001b[0m\u001b[0m\n\u001b[1;32m    703\u001b[0m             \u001b[0mself\u001b[0m\u001b[0;34m.\u001b[0m\u001b[0m_parent_header\u001b[0m\u001b[0;34m,\u001b[0m\u001b[0;34m\u001b[0m\u001b[0;34m\u001b[0m\u001b[0m\n\u001b[0;32m--> 704\u001b[0;31m             \u001b[0mpassword\u001b[0m\u001b[0;34m=\u001b[0m\u001b[0;32mFalse\u001b[0m\u001b[0;34m,\u001b[0m\u001b[0;34m\u001b[0m\u001b[0;34m\u001b[0m\u001b[0m\n\u001b[0m\u001b[1;32m    705\u001b[0m         )\n\u001b[1;32m    706\u001b[0m \u001b[0;34m\u001b[0m\u001b[0m\n",
            "\u001b[0;32m/usr/local/lib/python3.7/dist-packages/ipykernel/kernelbase.py\u001b[0m in \u001b[0;36m_input_request\u001b[0;34m(self, prompt, ident, parent, password)\u001b[0m\n\u001b[1;32m    732\u001b[0m             \u001b[0;32mexcept\u001b[0m \u001b[0mKeyboardInterrupt\u001b[0m\u001b[0;34m:\u001b[0m\u001b[0;34m\u001b[0m\u001b[0;34m\u001b[0m\u001b[0m\n\u001b[1;32m    733\u001b[0m                 \u001b[0;31m# re-raise KeyboardInterrupt, to truncate traceback\u001b[0m\u001b[0;34m\u001b[0m\u001b[0;34m\u001b[0m\u001b[0;34m\u001b[0m\u001b[0m\n\u001b[0;32m--> 734\u001b[0;31m                 \u001b[0;32mraise\u001b[0m \u001b[0mKeyboardInterrupt\u001b[0m\u001b[0;34m\u001b[0m\u001b[0;34m\u001b[0m\u001b[0m\n\u001b[0m\u001b[1;32m    735\u001b[0m             \u001b[0;32melse\u001b[0m\u001b[0;34m:\u001b[0m\u001b[0;34m\u001b[0m\u001b[0;34m\u001b[0m\u001b[0m\n\u001b[1;32m    736\u001b[0m                 \u001b[0;32mbreak\u001b[0m\u001b[0;34m\u001b[0m\u001b[0;34m\u001b[0m\u001b[0m\n",
            "\u001b[0;31mKeyboardInterrupt\u001b[0m: "
          ]
        }
      ]
    },
    {
      "cell_type": "code",
      "metadata": {
        "id": "_BFPSZ4QWG5W",
        "colab": {
          "base_uri": "https://localhost:8080/"
        },
        "outputId": "6c2b7170-811e-4a14-8536-5b06426276db"
      },
      "source": [
        "!ls '/content/drive/Shared drives/1DeepContextGraph/1DeepContextGraph'"
      ],
      "execution_count": null,
      "outputs": [
        {
          "output_type": "stream",
          "text": [
            "code  documents\n"
          ],
          "name": "stdout"
        }
      ]
    },
    {
      "cell_type": "code",
      "metadata": {
        "id": "pYTBhUSrWxL-"
      },
      "source": [
        "file_path = '/content/drive/Shared drives/1DeepContextGraph/1DeepContextGraph/code/data/'"
      ],
      "execution_count": 49,
      "outputs": []
    },
    {
      "cell_type": "markdown",
      "metadata": {
        "id": "Rahs7nD9y1Yd"
      },
      "source": [
        "# Library"
      ]
    },
    {
      "cell_type": "code",
      "metadata": {
        "colab": {
          "base_uri": "https://localhost:8080/"
        },
        "id": "zKHChq0e8x8k",
        "outputId": "6006f705-da0f-4a50-bf54-57370469dc3f"
      },
      "source": [
        "!pip install sentence-transformers"
      ],
      "execution_count": 1,
      "outputs": [
        {
          "output_type": "stream",
          "text": [
            "Collecting sentence-transformers\n",
            "\u001b[?25l  Downloading https://files.pythonhosted.org/packages/c4/87/49dc49e13ac107ce912c2f3f3fd92252c6d4221e88d1e6c16747044a11d8/sentence-transformers-1.1.0.tar.gz (78kB)\n",
            "\u001b[K     |████████████████████████████████| 81kB 6.2MB/s \n",
            "\u001b[?25hCollecting transformers<5.0.0,>=3.1.0\n",
            "\u001b[?25l  Downloading https://files.pythonhosted.org/packages/d8/b2/57495b5309f09fa501866e225c84532d1fd89536ea62406b2181933fb418/transformers-4.5.1-py3-none-any.whl (2.1MB)\n",
            "\u001b[K     |████████████████████████████████| 2.1MB 21.0MB/s \n",
            "\u001b[?25hRequirement already satisfied: tqdm in /usr/local/lib/python3.7/dist-packages (from sentence-transformers) (4.41.1)\n",
            "Requirement already satisfied: torch>=1.6.0 in /usr/local/lib/python3.7/dist-packages (from sentence-transformers) (1.8.1+cu101)\n",
            "Requirement already satisfied: numpy in /usr/local/lib/python3.7/dist-packages (from sentence-transformers) (1.19.5)\n",
            "Requirement already satisfied: scikit-learn in /usr/local/lib/python3.7/dist-packages (from sentence-transformers) (0.22.2.post1)\n",
            "Requirement already satisfied: scipy in /usr/local/lib/python3.7/dist-packages (from sentence-transformers) (1.4.1)\n",
            "Requirement already satisfied: nltk in /usr/local/lib/python3.7/dist-packages (from sentence-transformers) (3.2.5)\n",
            "Collecting sentencepiece\n",
            "\u001b[?25l  Downloading https://files.pythonhosted.org/packages/f5/99/e0808cb947ba10f575839c43e8fafc9cc44e4a7a2c8f79c60db48220a577/sentencepiece-0.1.95-cp37-cp37m-manylinux2014_x86_64.whl (1.2MB)\n",
            "\u001b[K     |████████████████████████████████| 1.2MB 60.1MB/s \n",
            "\u001b[?25hRequirement already satisfied: importlib-metadata; python_version < \"3.8\" in /usr/local/lib/python3.7/dist-packages (from transformers<5.0.0,>=3.1.0->sentence-transformers) (3.10.1)\n",
            "Requirement already satisfied: packaging in /usr/local/lib/python3.7/dist-packages (from transformers<5.0.0,>=3.1.0->sentence-transformers) (20.9)\n",
            "Collecting sacremoses\n",
            "\u001b[?25l  Downloading https://files.pythonhosted.org/packages/75/ee/67241dc87f266093c533a2d4d3d69438e57d7a90abb216fa076e7d475d4a/sacremoses-0.0.45-py3-none-any.whl (895kB)\n",
            "\u001b[K     |████████████████████████████████| 901kB 38.8MB/s \n",
            "\u001b[?25hRequirement already satisfied: requests in /usr/local/lib/python3.7/dist-packages (from transformers<5.0.0,>=3.1.0->sentence-transformers) (2.23.0)\n",
            "Requirement already satisfied: regex!=2019.12.17 in /usr/local/lib/python3.7/dist-packages (from transformers<5.0.0,>=3.1.0->sentence-transformers) (2019.12.20)\n",
            "Requirement already satisfied: filelock in /usr/local/lib/python3.7/dist-packages (from transformers<5.0.0,>=3.1.0->sentence-transformers) (3.0.12)\n",
            "Collecting tokenizers<0.11,>=0.10.1\n",
            "\u001b[?25l  Downloading https://files.pythonhosted.org/packages/ae/04/5b870f26a858552025a62f1649c20d29d2672c02ff3c3fb4c688ca46467a/tokenizers-0.10.2-cp37-cp37m-manylinux2010_x86_64.whl (3.3MB)\n",
            "\u001b[K     |████████████████████████████████| 3.3MB 50.1MB/s \n",
            "\u001b[?25hRequirement already satisfied: typing-extensions in /usr/local/lib/python3.7/dist-packages (from torch>=1.6.0->sentence-transformers) (3.7.4.3)\n",
            "Requirement already satisfied: joblib>=0.11 in /usr/local/lib/python3.7/dist-packages (from scikit-learn->sentence-transformers) (1.0.1)\n",
            "Requirement already satisfied: six in /usr/local/lib/python3.7/dist-packages (from nltk->sentence-transformers) (1.15.0)\n",
            "Requirement already satisfied: zipp>=0.5 in /usr/local/lib/python3.7/dist-packages (from importlib-metadata; python_version < \"3.8\"->transformers<5.0.0,>=3.1.0->sentence-transformers) (3.4.1)\n",
            "Requirement already satisfied: pyparsing>=2.0.2 in /usr/local/lib/python3.7/dist-packages (from packaging->transformers<5.0.0,>=3.1.0->sentence-transformers) (2.4.7)\n",
            "Requirement already satisfied: click in /usr/local/lib/python3.7/dist-packages (from sacremoses->transformers<5.0.0,>=3.1.0->sentence-transformers) (7.1.2)\n",
            "Requirement already satisfied: urllib3!=1.25.0,!=1.25.1,<1.26,>=1.21.1 in /usr/local/lib/python3.7/dist-packages (from requests->transformers<5.0.0,>=3.1.0->sentence-transformers) (1.24.3)\n",
            "Requirement already satisfied: certifi>=2017.4.17 in /usr/local/lib/python3.7/dist-packages (from requests->transformers<5.0.0,>=3.1.0->sentence-transformers) (2020.12.5)\n",
            "Requirement already satisfied: idna<3,>=2.5 in /usr/local/lib/python3.7/dist-packages (from requests->transformers<5.0.0,>=3.1.0->sentence-transformers) (2.10)\n",
            "Requirement already satisfied: chardet<4,>=3.0.2 in /usr/local/lib/python3.7/dist-packages (from requests->transformers<5.0.0,>=3.1.0->sentence-transformers) (3.0.4)\n",
            "Building wheels for collected packages: sentence-transformers\n",
            "  Building wheel for sentence-transformers (setup.py) ... \u001b[?25l\u001b[?25hdone\n",
            "  Created wheel for sentence-transformers: filename=sentence_transformers-1.1.0-cp37-none-any.whl size=119615 sha256=ceae6d3d2c6c1cac34cf6bfd1e01da0cca7fda41f710f22562427757b615e450\n",
            "  Stored in directory: /root/.cache/pip/wheels/84/cb/21/1066bff3027215c760ca14a198f698bca8fccb92e33e2327eb\n",
            "Successfully built sentence-transformers\n",
            "Installing collected packages: sacremoses, tokenizers, transformers, sentencepiece, sentence-transformers\n",
            "Successfully installed sacremoses-0.0.45 sentence-transformers-1.1.0 sentencepiece-0.1.95 tokenizers-0.10.2 transformers-4.5.1\n"
          ],
          "name": "stdout"
        }
      ]
    },
    {
      "cell_type": "code",
      "metadata": {
        "colab": {
          "base_uri": "https://localhost:8080/"
        },
        "id": "WnpavPOi8-wJ",
        "outputId": "24803d85-54a9-421f-a7dc-7abdc5550902"
      },
      "source": [
        "!pip install LexRank"
      ],
      "execution_count": 2,
      "outputs": [
        {
          "output_type": "stream",
          "text": [
            "Collecting LexRank\n",
            "\u001b[?25l  Downloading https://files.pythonhosted.org/packages/e1/25/f139d8526e014b6bf6021305492cd7ccffbfa10999802fce4813808b04e4/lexrank-0.1.0-py3-none-any.whl (69kB)\n",
            "\r\u001b[K     |████▊                           | 10kB 19.0MB/s eta 0:00:01\r\u001b[K     |█████████▍                      | 20kB 25.5MB/s eta 0:00:01\r\u001b[K     |██████████████                  | 30kB 28.3MB/s eta 0:00:01\r\u001b[K     |██████████████████▊             | 40kB 20.9MB/s eta 0:00:01\r\u001b[K     |███████████████████████▌        | 51kB 12.2MB/s eta 0:00:01\r\u001b[K     |████████████████████████████▏   | 61kB 14.0MB/s eta 0:00:01\r\u001b[K     |████████████████████████████████| 71kB 6.5MB/s \n",
            "\u001b[?25hRequirement already satisfied: regex>=2017.11.9 in /usr/local/lib/python3.7/dist-packages (from LexRank) (2019.12.20)\n",
            "Requirement already satisfied: numpy>=1.13.3 in /usr/local/lib/python3.7/dist-packages (from LexRank) (1.19.5)\n",
            "Collecting path.py>=10.5\n",
            "  Downloading https://files.pythonhosted.org/packages/8f/04/130b7a538c25693c85c4dee7e25d126ebf5511b1eb7320e64906687b159e/path.py-12.5.0-py3-none-any.whl\n",
            "Requirement already satisfied: scipy>=0.19.0 in /usr/local/lib/python3.7/dist-packages (from LexRank) (1.4.1)\n",
            "Requirement already satisfied: pyrsistent>=0.14.0 in /usr/local/lib/python3.7/dist-packages (from LexRank) (0.17.3)\n",
            "Collecting urlextract>=0.7\n",
            "  Downloading https://files.pythonhosted.org/packages/c3/24/0f5c690a4ef9b5d30845517ef14c35ce6a3d96e5b0ae0db6895bb194ab10/urlextract-1.2.0-py3-none-any.whl\n",
            "Collecting path\n",
            "  Downloading https://files.pythonhosted.org/packages/d3/2a/b0f97e1b736725f6ec48a8bd564ee1d1f3f945bb5d39cb44ef8bbe66bd14/path-15.1.2-py3-none-any.whl\n",
            "Requirement already satisfied: filelock in /usr/local/lib/python3.7/dist-packages (from urlextract>=0.7->LexRank) (3.0.12)\n",
            "Requirement already satisfied: appdirs in /usr/local/lib/python3.7/dist-packages (from urlextract>=0.7->LexRank) (1.4.4)\n",
            "Requirement already satisfied: idna in /usr/local/lib/python3.7/dist-packages (from urlextract>=0.7->LexRank) (2.10)\n",
            "Collecting uritools\n",
            "  Downloading https://files.pythonhosted.org/packages/5f/fe/44e4381e7fcf89cc32af9f2d83a778e63dbc1e3f80e9625ad00ec0214a0b/uritools-3.0.2-py3-none-any.whl\n",
            "Installing collected packages: path, path.py, uritools, urlextract, LexRank\n",
            "Successfully installed LexRank-0.1.0 path-15.1.2 path.py-12.5.0 uritools-3.0.2 urlextract-1.2.0\n"
          ],
          "name": "stdout"
        }
      ]
    },
    {
      "cell_type": "code",
      "metadata": {
        "colab": {
          "base_uri": "https://localhost:8080/"
        },
        "id": "S2EgFlRXsVsA",
        "outputId": "e624092e-763d-4fec-af9b-b4d006b6d3ab"
      },
      "source": [
        "!python -m spacy download en_core_web_sm"
      ],
      "execution_count": 3,
      "outputs": [
        {
          "output_type": "stream",
          "text": [
            "Requirement already satisfied: en_core_web_sm==2.2.5 from https://github.com/explosion/spacy-models/releases/download/en_core_web_sm-2.2.5/en_core_web_sm-2.2.5.tar.gz#egg=en_core_web_sm==2.2.5 in /usr/local/lib/python3.7/dist-packages (2.2.5)\n",
            "Requirement already satisfied: spacy>=2.2.2 in /usr/local/lib/python3.7/dist-packages (from en_core_web_sm==2.2.5) (2.2.4)\n",
            "Requirement already satisfied: requests<3.0.0,>=2.13.0 in /usr/local/lib/python3.7/dist-packages (from spacy>=2.2.2->en_core_web_sm==2.2.5) (2.23.0)\n",
            "Requirement already satisfied: preshed<3.1.0,>=3.0.2 in /usr/local/lib/python3.7/dist-packages (from spacy>=2.2.2->en_core_web_sm==2.2.5) (3.0.5)\n",
            "Requirement already satisfied: cymem<2.1.0,>=2.0.2 in /usr/local/lib/python3.7/dist-packages (from spacy>=2.2.2->en_core_web_sm==2.2.5) (2.0.5)\n",
            "Requirement already satisfied: murmurhash<1.1.0,>=0.28.0 in /usr/local/lib/python3.7/dist-packages (from spacy>=2.2.2->en_core_web_sm==2.2.5) (1.0.5)\n",
            "Requirement already satisfied: thinc==7.4.0 in /usr/local/lib/python3.7/dist-packages (from spacy>=2.2.2->en_core_web_sm==2.2.5) (7.4.0)\n",
            "Requirement already satisfied: tqdm<5.0.0,>=4.38.0 in /usr/local/lib/python3.7/dist-packages (from spacy>=2.2.2->en_core_web_sm==2.2.5) (4.41.1)\n",
            "Requirement already satisfied: blis<0.5.0,>=0.4.0 in /usr/local/lib/python3.7/dist-packages (from spacy>=2.2.2->en_core_web_sm==2.2.5) (0.4.1)\n",
            "Requirement already satisfied: srsly<1.1.0,>=1.0.2 in /usr/local/lib/python3.7/dist-packages (from spacy>=2.2.2->en_core_web_sm==2.2.5) (1.0.5)\n",
            "Requirement already satisfied: numpy>=1.15.0 in /usr/local/lib/python3.7/dist-packages (from spacy>=2.2.2->en_core_web_sm==2.2.5) (1.19.5)\n",
            "Requirement already satisfied: wasabi<1.1.0,>=0.4.0 in /usr/local/lib/python3.7/dist-packages (from spacy>=2.2.2->en_core_web_sm==2.2.5) (0.8.2)\n",
            "Requirement already satisfied: catalogue<1.1.0,>=0.0.7 in /usr/local/lib/python3.7/dist-packages (from spacy>=2.2.2->en_core_web_sm==2.2.5) (1.0.0)\n",
            "Requirement already satisfied: setuptools in /usr/local/lib/python3.7/dist-packages (from spacy>=2.2.2->en_core_web_sm==2.2.5) (56.1.0)\n",
            "Requirement already satisfied: plac<1.2.0,>=0.9.6 in /usr/local/lib/python3.7/dist-packages (from spacy>=2.2.2->en_core_web_sm==2.2.5) (1.1.3)\n",
            "Requirement already satisfied: certifi>=2017.4.17 in /usr/local/lib/python3.7/dist-packages (from requests<3.0.0,>=2.13.0->spacy>=2.2.2->en_core_web_sm==2.2.5) (2020.12.5)\n",
            "Requirement already satisfied: urllib3!=1.25.0,!=1.25.1,<1.26,>=1.21.1 in /usr/local/lib/python3.7/dist-packages (from requests<3.0.0,>=2.13.0->spacy>=2.2.2->en_core_web_sm==2.2.5) (1.24.3)\n",
            "Requirement already satisfied: idna<3,>=2.5 in /usr/local/lib/python3.7/dist-packages (from requests<3.0.0,>=2.13.0->spacy>=2.2.2->en_core_web_sm==2.2.5) (2.10)\n",
            "Requirement already satisfied: chardet<4,>=3.0.2 in /usr/local/lib/python3.7/dist-packages (from requests<3.0.0,>=2.13.0->spacy>=2.2.2->en_core_web_sm==2.2.5) (3.0.4)\n",
            "Requirement already satisfied: importlib-metadata>=0.20; python_version < \"3.8\" in /usr/local/lib/python3.7/dist-packages (from catalogue<1.1.0,>=0.0.7->spacy>=2.2.2->en_core_web_sm==2.2.5) (3.10.1)\n",
            "Requirement already satisfied: zipp>=0.5 in /usr/local/lib/python3.7/dist-packages (from importlib-metadata>=0.20; python_version < \"3.8\"->catalogue<1.1.0,>=0.0.7->spacy>=2.2.2->en_core_web_sm==2.2.5) (3.4.1)\n",
            "Requirement already satisfied: typing-extensions>=3.6.4; python_version < \"3.8\" in /usr/local/lib/python3.7/dist-packages (from importlib-metadata>=0.20; python_version < \"3.8\"->catalogue<1.1.0,>=0.0.7->spacy>=2.2.2->en_core_web_sm==2.2.5) (3.7.4.3)\n",
            "\u001b[38;5;2m✔ Download and installation successful\u001b[0m\n",
            "You can now load the model via spacy.load('en_core_web_sm')\n"
          ],
          "name": "stdout"
        }
      ]
    },
    {
      "cell_type": "code",
      "metadata": {
        "id": "DeeYtkOS-MXU"
      },
      "source": [
        "#import lexrank.degree_centrality_scores\n",
        "\n",
        "from lexrank import STOPWORDS, LexRank\n",
        "from path import Path\n"
      ],
      "execution_count": 4,
      "outputs": []
    },
    {
      "cell_type": "code",
      "metadata": {
        "id": "wIpGURz6ZkHi",
        "colab": {
          "base_uri": "https://localhost:8080/"
        },
        "outputId": "b996b7ea-e292-4171-d743-2c83b7e6a68c"
      },
      "source": [
        "import json\n",
        "import os\n",
        "# For caculating approximate time to process notebook (IGNORE)\n",
        "import datetime\n",
        "datetime.datetime.now()\n",
        "import argparse\n",
        "import pandas as pd\n",
        "import numpy as np\n",
        "import operator\n",
        "import pickle as pkl \n",
        "import matplotlib.pyplot as plt\n",
        "import nltk as nl\n",
        "from nltk.sentiment.vader import SentimentIntensityAnalyzer\n",
        "from sklearn.model_selection import ParameterGrid\n",
        "import statistics\n",
        "import random\n",
        "import warnings\n",
        "from string import punctuation\n",
        "from matplotlib import pyplot\n",
        "from pandas import Series, datetime\n",
        "from pandas.plotting import scatter_matrix, autocorrelation_plot\n",
        "from sklearn.preprocessing import StandardScaler\n",
        "from sklearn.model_selection import train_test_split, KFold, cross_val_score, GridSearchCV, TimeSeriesSplit\n",
        "from sklearn.metrics import classification_report, confusion_matrix, accuracy_score, mean_squared_error\n",
        "from sklearn.pipeline import Pipeline\n",
        "from sklearn.linear_model import LogisticRegression\n",
        "from sklearn.tree import DecisionTreeClassifier\n",
        "from sklearn.neighbors import KNeighborsClassifier\n",
        "from sklearn.discriminant_analysis import LinearDiscriminantAnalysis\n",
        "from sklearn.naive_bayes import GaussianNB\n",
        "from sklearn.svm import SVC\n",
        "from sklearn.ensemble import AdaBoostClassifier, GradientBoostingClassifier, RandomForestClassifier, ExtraTreesClassifier\n",
        "from sklearn.metrics import roc_curve, auc\n",
        "from sklearn.feature_extraction.text import CountVectorizer\n",
        "from xgboost import XGBClassifier\n",
        "from sklearn.naive_bayes import MultinomialNB\n",
        "from spacy import displacy \n",
        "import nltk\n",
        "import re\n",
        "import io\n",
        "import requests\n",
        "import time\n",
        "import gensim\n",
        "from nltk.stem.wordnet import WordNetLemmatizer\n",
        "from nltk.corpus import stopwords\n",
        "from string import punctuation\n",
        "import nltk.sentiment\n",
        "from sentence_transformers import SentenceTransformer, util\n",
        "import numpy as np\n",
        "import spacy\n",
        "from spacy.lang.en import English\n",
        "import networkx as nx\n",
        "import matplotlib.pyplot as plt\n",
        "from nltk.tokenize import word_tokenize, sent_tokenize\n",
        "\n",
        "nltk.download('punkt')\n",
        "nltk.download('stopwords')\n",
        "nltk.download('averaged_perceptron_tagger')\n",
        "nltk.download('punkt')\n",
        "nltk.download('wordnet')\n",
        "nltk.download('vader_lexicon')\n",
        "nltk.download('brown')"
      ],
      "execution_count": 5,
      "outputs": [
        {
          "output_type": "stream",
          "text": [
            "/usr/local/lib/python3.7/dist-packages/nltk/twitter/__init__.py:20: UserWarning: The twython library has not been installed. Some functionality from the twitter package will not be available.\n",
            "  warnings.warn(\"The twython library has not been installed. \"\n",
            "/usr/local/lib/python3.7/dist-packages/ipykernel_launcher.py:20: FutureWarning: The pandas.datetime class is deprecated and will be removed from pandas in a future version. Import from datetime module instead.\n"
          ],
          "name": "stderr"
        },
        {
          "output_type": "stream",
          "text": [
            "[nltk_data] Downloading package punkt to /root/nltk_data...\n",
            "[nltk_data]   Unzipping tokenizers/punkt.zip.\n",
            "[nltk_data] Downloading package stopwords to /root/nltk_data...\n",
            "[nltk_data]   Unzipping corpora/stopwords.zip.\n",
            "[nltk_data] Downloading package averaged_perceptron_tagger to\n",
            "[nltk_data]     /root/nltk_data...\n",
            "[nltk_data]   Unzipping taggers/averaged_perceptron_tagger.zip.\n",
            "[nltk_data] Downloading package punkt to /root/nltk_data...\n",
            "[nltk_data]   Package punkt is already up-to-date!\n",
            "[nltk_data] Downloading package wordnet to /root/nltk_data...\n",
            "[nltk_data]   Unzipping corpora/wordnet.zip.\n",
            "[nltk_data] Downloading package vader_lexicon to /root/nltk_data...\n",
            "[nltk_data] Downloading package brown to /root/nltk_data...\n",
            "[nltk_data]   Unzipping corpora/brown.zip.\n"
          ],
          "name": "stdout"
        },
        {
          "output_type": "execute_result",
          "data": {
            "text/plain": [
              "True"
            ]
          },
          "metadata": {
            "tags": []
          },
          "execution_count": 5
        }
      ]
    },
    {
      "cell_type": "markdown",
      "metadata": {
        "id": "qla-L-vEyPe4"
      },
      "source": [
        "# Load Data"
      ]
    },
    {
      "cell_type": "code",
      "metadata": {
        "id": "zklda03cyYgP"
      },
      "source": [
        "data_fox_claim = pd.read_csv(file_path+'/fox_claim_news_processed.csv',low_memory=False)\n",
        "#data_all_news = pd.read_csv(file_path+'/statement_checker_all.csv',low_memory=False)\n",
        "data_polifact = pd.read_csv(file_path+'/political_fact_checker_processed.csv',low_memory=False)\n"
      ],
      "execution_count": 7,
      "outputs": []
    },
    {
      "cell_type": "code",
      "metadata": {
        "colab": {
          "base_uri": "https://localhost:8080/"
        },
        "id": "_cgt3SqP0hY9",
        "outputId": "ae33ddb3-f8ad-426c-f22a-8fd932f9a426"
      },
      "source": [
        "data_fox_claim.columns"
      ],
      "execution_count": 8,
      "outputs": [
        {
          "output_type": "execute_result",
          "data": {
            "text/plain": [
              "Index(['Unnamed: 0', 'Unnamed: 0.1', 'link', 'published', 'title', 'text',\n",
              "       'site', 'text_distilled', 'topics', 'named_entity_recognition',\n",
              "       'top_10_freq_word', 'pasts_of_speech'],\n",
              "      dtype='object')"
            ]
          },
          "metadata": {
            "tags": []
          },
          "execution_count": 8
        }
      ]
    },
    {
      "cell_type": "code",
      "metadata": {
        "colab": {
          "base_uri": "https://localhost:8080/"
        },
        "id": "75927YU6lUO2",
        "outputId": "560601e8-fa98-4e4d-ef76-30cd8a57990d"
      },
      "source": [
        "data_polifact.columns"
      ],
      "execution_count": 9,
      "outputs": [
        {
          "output_type": "execute_result",
          "data": {
            "text/plain": [
              "Index(['Unnamed: 0', 'Unnamed: 0.1', 'sources', 'urls', 'title', 'summaries',\n",
              "       'dates', 'ratings', 'text', 'authors', 'publishdate', 'relatedlinks',\n",
              "       'claims', 'text_distilled', 'topics', 'named_entity_recognition',\n",
              "       'top_10_freq_word', 'pasts_of_speech'],\n",
              "      dtype='object')"
            ]
          },
          "metadata": {
            "tags": []
          },
          "execution_count": 9
        }
      ]
    },
    {
      "cell_type": "code",
      "metadata": {
        "colab": {
          "base_uri": "https://localhost:8080/"
        },
        "id": "cJp0grVSkij1",
        "outputId": "87acd34a-76dd-44e8-a0b7-fa7e68e7b64b"
      },
      "source": [
        "data_fox_claim['Unnamed: 0'][1]"
      ],
      "execution_count": 10,
      "outputs": [
        {
          "output_type": "execute_result",
          "data": {
            "text/plain": [
              "1"
            ]
          },
          "metadata": {
            "tags": []
          },
          "execution_count": 10
        }
      ]
    },
    {
      "cell_type": "code",
      "metadata": {
        "id": "b97W8RmnlF-E"
      },
      "source": [
        "data_fox_claim = data_fox_claim.rename({'Unnamed: 0': 'documentId'}, axis='columns')\n",
        "data_polifact = data_polifact.rename({'Unnamed: 0': 'documentId'}, axis='columns')"
      ],
      "execution_count": 11,
      "outputs": []
    },
    {
      "cell_type": "markdown",
      "metadata": {
        "id": "f5BuIUfZ1X5g"
      },
      "source": [
        "# Methods"
      ]
    },
    {
      "cell_type": "markdown",
      "metadata": {
        "id": "K9zg6DzVyV1Q"
      },
      "source": [
        "## Lemmatization\n",
        "  \n",
        "First, the raw words must be converted to root forms.  "
      ]
    },
    {
      "cell_type": "code",
      "metadata": {
        "id": "Qs9YyZ8WygUo"
      },
      "source": [
        "def lemmatize(tokenized_words):\n",
        "  text = [nltk.WordNetLemmatizer().lemmatize(word) for word in tokenized_words]\n",
        "  return text\n"
      ],
      "execution_count": 6,
      "outputs": []
    },
    {
      "cell_type": "markdown",
      "metadata": {
        "id": "CRnq7Orw5sSW"
      },
      "source": [
        "## Removing Stop words\n",
        "\n"
      ]
    },
    {
      "cell_type": "code",
      "metadata": {
        "id": "7axUBcsp5yXD"
      },
      "source": [
        "english_stopwords = set(stopwords.words('english') + list(punctuation) + [''])\n",
        "\n",
        "def remove_stopwords(tokenized_words):\n",
        "  text = [word for word in tokenized_words if word not in english_stopwords]\n",
        "  return text\n"
      ],
      "execution_count": 7,
      "outputs": []
    },
    {
      "cell_type": "markdown",
      "metadata": {
        "id": "ejCglovYHwyb"
      },
      "source": [
        "## Custom Filtering\n",
        "\n",
        "Some of the one or two-letter words from the tokenized words are also removed to further cleanse the raw text. "
      ]
    },
    {
      "cell_type": "code",
      "metadata": {
        "id": "Z9ujoC42HwGM"
      },
      "source": [
        "whitelist = set(['ai', 'ax', 'ca', 'eu', 'go', 'io', 'la', 'ox', 'us', 'uk', \n",
        "                 'al', 'ak', 'az', 'ar', 'ca', 'co', 'ct', 'de', 'fl', 'ga', 'hi', \n",
        "                 'id', 'il', 'in', 'ia', 'ks', 'ky', 'la', 'me', 'md', 'ma', 'mi',\n",
        "                 'mn', 'ms', 'mo', 'mt', 'ne', 'nv', 'nh', 'nj', 'nm', 'ny',\n",
        "                 'nc', 'nd', 'oh', 'ok', 'or', 'pa', 'ri', 'sc', 'sd', 'tn',\n",
        "                 'tx', 'ut', 'vt', 'va', 'wa', 'wv', 'wi', 'wy' ])\n",
        "def remove_too_short(tokenized_words):\n",
        "  text = [word for word in tokenized_words if (len(word) >= 3 or word not in whitelist) ]\n",
        "  return text"
      ],
      "execution_count": 8,
      "outputs": []
    },
    {
      "cell_type": "markdown",
      "metadata": {
        "id": "DGmEhyrkC0e5"
      },
      "source": [
        "## LDA Analysis\n"
      ]
    },
    {
      "cell_type": "code",
      "metadata": {
        "id": "M7Fdvch1EjQ4"
      },
      "source": [
        "from gensim.models.ldamodel import LdaModel\n",
        "from gensim.corpora import Dictionary\n",
        "\n",
        "def topics(tokenized_words):\n",
        "    d = Dictionary([tokenized_words])\n",
        "    c = [d.doc2bow(tokenized_words)]\n",
        "    m = LdaModel(c, num_topics=1, id2word=d)\n",
        "    return list(m.print_topics(num_words=2))\n",
        "  \n"
      ],
      "execution_count": 9,
      "outputs": []
    },
    {
      "cell_type": "markdown",
      "metadata": {
        "id": "ze4YTpBLultl"
      },
      "source": [
        "## Topics as Simple List of Words\n",
        "\n",
        "A list of topic terms is compiled as show below. The coefficients in front of each word are dropped as part of simplification. The assumption is that the top two words comprising the topic, are both significant enough to be treated equally. It is important that the goal is to build a reliable prediction model. While there is a risk of oversimplification, if the final model results in a poor accuracy score, the coefficient can always be reintroduced here."
      ]
    },
    {
      "cell_type": "code",
      "metadata": {
        "id": "a1fxmdcyuqoB"
      },
      "source": [
        "def parseTopics(topics):\n",
        "   output = []\n",
        "   words = topics[0][1].split( '+' )\n",
        "   for word in words:\n",
        "       output.append( word.split('*')[1].replace( '\"', '' ) )\n",
        "   return output"
      ],
      "execution_count": 10,
      "outputs": []
    },
    {
      "cell_type": "markdown",
      "metadata": {
        "id": "WhDGJBUxpbMC"
      },
      "source": [
        "# Information extraction and knowledge graphs\n",
        "\n",
        "* https://programmerbackpack.com/python-nlp-tutorial-information-extraction-and-knowledge-graphs/\n",
        "* https://github.com/bdmarius/python-knowledge-graph"
      ]
    },
    {
      "cell_type": "markdown",
      "metadata": {
        "id": "fp3-5DIUxo-G"
      },
      "source": [
        "## Methods"
      ]
    },
    {
      "cell_type": "code",
      "metadata": {
        "id": "AGLiWdQHxbu3"
      },
      "source": [
        "def getSentences(text):\n",
        "    nlp = English()\n",
        "    nlp.add_pipe(nlp.create_pipe('sentencizer'))\n",
        "    document = nlp(text)\n",
        "    return [sent.string.strip() for sent in document.sents]\n",
        "\n",
        "def printToken(token):\n",
        "    print(token.text, \"->\", token.dep_)\n",
        "\n",
        "def appendChunk(original, chunk):\n",
        "    return original + ' ' + chunk\n",
        "\n",
        "def isRelationCandidate(token):\n",
        "    deps = [\"ROOT\", \"adj\", \"attr\", \"agent\", \"amod\"]\n",
        "    return any(subs in token.dep_ for subs in deps)\n",
        "\n",
        "def isConstructionCandidate(token):\n",
        "    #deps = [\"compound\", \"prep\", \"conj\", \"mod\",\"nsubj\",\"quantmod\",\"dobj\",\"poss\",\"pobj\"] #\n",
        "    #deps = [\"compound\", \"prep\", \"conj\", \"mod\", \"quantmod\", \"dobj\"] #,\"poss\"\n",
        "    deps = [\"compound\", \"prep\", \"conj\", \"mod\",\"nsubj\"]\n",
        "    return any(subs in token.dep_ for subs in deps)\n",
        "'''\n",
        "Mellon ... nsubj .... ORG\n",
        "from ... prep .... \n",
        "Pan ... compound .... ORG\n",
        "Am ... compound .... ORG\n",
        "Systems ... pobj .... ORG\n",
        "donated ... ROOT .... \n",
        "$ ... quantmod .... MONEY\n",
        "10 ... compound .... MONEY\n",
        "million ... dobj .... MONEY\n",
        "to ... prep .... \n",
        "Trump ... poss .... PERSON\n",
        "'s ... case .... \n",
        "campaign ... pobj .... \n",
        ". ... punct .... \n",
        "'''\n",
        "def processSubjectObjectPairs(tokens):\n",
        "    subject = ''\n",
        "    object = ''\n",
        "    relation = ''\n",
        "    subjectConstruction = ''\n",
        "    objectConstruction = ''\n",
        "    for token in tokens:\n",
        "        printToken(token)\n",
        "        if \"punct\" in token.dep_:\n",
        "            continue\n",
        "        if isRelationCandidate(token):\n",
        "            relation = appendChunk(relation, token.lemma_)\n",
        "        if isConstructionCandidate(token):\n",
        "            if subjectConstruction:\n",
        "                subjectConstruction = appendChunk(subjectConstruction, token.text)\n",
        "            if objectConstruction:\n",
        "                objectConstruction = appendChunk(objectConstruction, token.text)\n",
        "        if \"subj\" in token.dep_:\n",
        "            subject = appendChunk(subject, token.text)\n",
        "            subject = appendChunk(subjectConstruction, subject)\n",
        "            subjectConstruction = ''\n",
        "        if \"obj\" in token.dep_:\n",
        "            object = appendChunk(object, token.text)\n",
        "            object = appendChunk(objectConstruction, object)\n",
        "            objectConstruction = ''\n",
        "\n",
        "    print (subject.strip(), \",\", relation.strip(), \",\", object.strip())\n",
        "    return (subject.strip(), relation.strip(), object.strip())\n",
        "\n",
        "def processSentence(sentence):\n",
        "    tokens = nlp_model(sentence)\n",
        "    return processSubjectObjectPairs(tokens)\n",
        "\n",
        "def printGraph(triples):\n",
        "    G = nx.Graph()\n",
        "    for triple in triples:\n",
        "        G.add_node(triple[0])\n",
        "        G.add_node(triple[1])\n",
        "        G.add_node(triple[2])\n",
        "        G.add_edge(triple[0], triple[1])\n",
        "        G.add_edge(triple[1], triple[2])\n",
        "\n",
        "    pos = nx.spring_layout(G)\n",
        "    # plt.figure(figsize=(8, 6), dpi=80)\n",
        "    # nx.draw(G, pos, edge_color='black', width=1, linewidths=1,\n",
        "    #         node_size=500, node_color='seagreen', alpha=0.9,\n",
        "    #         labels={node: node for node in G.nodes()})\n",
        "    # plt.axis('off')\n",
        "\n",
        "    plt.figure(figsize=(12,12))\n",
        "    pos = nx.spring_layout(G)\n",
        "    nx.draw(G, with_labels=True, node_color='skyblue', edge_cmap=plt.cm.Blues, pos = pos)\n",
        "\n",
        "\n",
        "    plt.show()"
      ],
      "execution_count": 11,
      "outputs": []
    },
    {
      "cell_type": "markdown",
      "metadata": {
        "id": "Qj4I-nm51JdI"
      },
      "source": [
        "## Example and Experiment"
      ]
    },
    {
      "cell_type": "code",
      "metadata": {
        "id": "04VT_L4rxuQP"
      },
      "source": [
        "text = \"London is the capital and largest city of England and the United Kingdom. Standing on the River \" \\\n",
        "           \"Thames in the south-east of England, at the head of its 50-mile (80 km) estuary leading to \" \\\n",
        "           \"the North Sea, London has been a major settlement for two millennia. \" \\\n",
        "           \"Londinium was founded by the Romans. The City of London, \" \\\n",
        "           \"London's ancient core − an area of just 1.12 square miles (2.9 km2) and colloquially known as \" \\\n",
        "           \"the Square Mile − retains boundaries that follow closely its medieval limits.\" \\\n",
        "           \"The City of Westminster is also an Inner London borough holding city status. \" \\\n",
        "           \"Greater London is governed by the Mayor of London and the London Assembly.\" \\\n",
        "           \"London is located in the southeast of England.\" \\\n",
        "           \"Westminster is located in London.\" \\\n",
        "           \"London is the biggest city in Britain. London has a population of 7,172,036.\"\n"
      ],
      "execution_count": null,
      "outputs": []
    },
    {
      "cell_type": "code",
      "metadata": {
        "id": "jmF74bLKz1xH"
      },
      "source": [
        "summary = \"\"\" The Chrysler Building, the famous art deco New York skyscraper, will be\n",
        " sold for a small fraction of its previous sales price. The building sold fairly \n",
        " quickly after being publicly placed on the market only two months ago. The incentive \n",
        " to sell the building at such a huge loss was due to the soaring rent the owners pay to \n",
        " Cooper Union, a New York college, for the land under the building.' Still the building is \n",
        "among the best known in the city, even to people who have never been to New York. \"\"\""
      ],
      "execution_count": null,
      "outputs": []
    },
    {
      "cell_type": "code",
      "metadata": {
        "colab": {
          "base_uri": "https://localhost:8080/"
        },
        "id": "mc4gedTiz6Jw",
        "outputId": "1aa54f22-9efc-4625-ee99-0cf26e951d3a"
      },
      "source": [
        "body = summary\n",
        "sentences = getSentences(body)\n",
        "nlp_model = spacy.load('en_core_web_sm')\n",
        "\n",
        "triples = []\n",
        "#print (body)\n",
        "for sentence in sentences:\n",
        "  triples.append(processSentence(sentence))"
      ],
      "execution_count": null,
      "outputs": [
        {
          "output_type": "stream",
          "text": [
            "The -> det\n",
            "Chrysler -> compound\n",
            "Building -> nsubj\n",
            ", -> punct\n",
            "the -> det\n",
            "famous -> amod\n",
            "art -> compound\n",
            "deco -> compound\n",
            "New -> compound\n",
            "York -> compound\n",
            "skyscraper -> appos\n",
            ", -> punct\n",
            "will -> aux\n",
            "be -> ROOT\n",
            "\n",
            "  -> \n",
            "sold -> advcl\n",
            "for -> prep\n",
            "a -> det\n",
            "small -> amod\n",
            "fraction -> pobj\n",
            "of -> prep\n",
            "its -> poss\n",
            "previous -> amod\n",
            "sales -> compound\n",
            "price -> pobj\n",
            ". -> punct\n",
            "Building , famous be small previous , fraction price\n",
            "The -> det\n",
            "building -> nsubj\n",
            "sold -> ROOT\n",
            "fairly -> advmod\n",
            "\n",
            "  -> \n",
            "quickly -> advmod\n",
            "after -> prep\n",
            "being -> auxpass\n",
            "publicly -> advmod\n",
            "placed -> pcomp\n",
            "on -> prep\n",
            "the -> det\n",
            "market -> pobj\n",
            "only -> advmod\n",
            "two -> nummod\n",
            "months -> npadvmod\n",
            "ago -> advmod\n",
            ". -> punct\n",
            "building , sell , market\n",
            "The -> det\n",
            "incentive -> nsubj\n",
            "\n",
            "  -> \n",
            "to -> aux\n",
            "sell -> relcl\n",
            "the -> det\n",
            "building -> dobj\n",
            "at -> prep\n",
            "such -> predet\n",
            "a -> det\n",
            "huge -> amod\n",
            "loss -> pobj\n",
            "was -> ROOT\n",
            "due -> acomp\n",
            "to -> prep\n",
            "the -> det\n",
            "soaring -> amod\n",
            "rent -> pobj\n",
            "the -> det\n",
            "owners -> nsubj\n",
            "pay -> relcl\n",
            "to -> prep\n",
            "\n",
            "  -> \n",
            "Cooper -> compound\n",
            "Union -> pobj\n",
            ", -> punct\n",
            "a -> det\n",
            "New -> compound\n",
            "York -> compound\n",
            "college -> appos\n",
            ", -> punct\n",
            "for -> prep\n",
            "the -> det\n",
            "land -> pobj\n",
            "under -> prep\n",
            "the -> det\n",
            "building -> pobj\n",
            ". -> punct\n",
            "' -> punct\n",
            "incentive owners , huge be soar , building loss rent Union land building\n",
            "Still -> advmod\n",
            "the -> det\n",
            "building -> nsubj\n",
            "is -> ROOT\n",
            "\n",
            " -> \n",
            "among -> prep\n",
            "the -> det\n",
            "best -> pobj\n",
            "known -> acl\n",
            "in -> prep\n",
            "the -> det\n",
            "city -> pobj\n",
            ", -> punct\n",
            "even -> advmod\n",
            "to -> prep\n",
            "people -> pobj\n",
            "who -> nsubj\n",
            "have -> aux\n",
            "never -> neg\n",
            "been -> relcl\n",
            "to -> prep\n",
            "New -> compound\n",
            "York -> pobj\n",
            ". -> punct\n",
            "building who , be , best city people York\n"
          ],
          "name": "stdout"
        }
      ]
    },
    {
      "cell_type": "code",
      "metadata": {
        "colab": {
          "base_uri": "https://localhost:8080/",
          "height": 512
        },
        "id": "bwkgAJpKyHdm",
        "outputId": "b24bb284-6df0-40b6-d1b6-11bdc65030a9"
      },
      "source": [
        "printGraph(triples)  "
      ],
      "execution_count": null,
      "outputs": [
        {
          "output_type": "display_data",
          "data": {
            "image/png": "[encoded data removed]",
            "text/plain": [
              "<Figure size 640x480 with 1 Axes>"
            ]
          },
          "metadata": {
            "tags": []
          }
        }
      ]
    },
    {
      "cell_type": "markdown",
      "metadata": {
        "id": "t1xGdtsk1Nv_"
      },
      "source": [
        "## Knowledge graph FoxClaim"
      ]
    },
    {
      "cell_type": "code",
      "metadata": {
        "id": "Ap-YUwPL1R3X"
      },
      "source": [
        "data_fox_claim.head(1)"
      ],
      "execution_count": null,
      "outputs": []
    },
    {
      "cell_type": "code",
      "metadata": {
        "id": "y_WkBNud1rOX"
      },
      "source": [
        "data_fox_claim.columns"
      ],
      "execution_count": null,
      "outputs": []
    },
    {
      "cell_type": "code",
      "metadata": {
        "id": "MfRC4eRa1jHQ"
      },
      "source": [
        "body = data_fox_claim['title'][0]\n",
        "sentences = getSentences(body)\n",
        "nlp_model = spacy.load('en_core_web_sm')\n",
        "\n",
        "triples = []\n",
        "#print (body)\n",
        "for sentence in sentences:\n",
        "  triples.append(processSentence(sentence))"
      ],
      "execution_count": null,
      "outputs": []
    },
    {
      "cell_type": "code",
      "metadata": {
        "id": "Ldt4x9iH2xz_"
      },
      "source": [
        "printGraph(triples) "
      ],
      "execution_count": null,
      "outputs": []
    },
    {
      "cell_type": "markdown",
      "metadata": {
        "id": "K5P7pLXo13V5"
      },
      "source": [
        "## Knowledge graph Politifact"
      ]
    },
    {
      "cell_type": "code",
      "metadata": {
        "id": "B9ShGWHN13V6"
      },
      "source": [
        "data_polifact.head(1)"
      ],
      "execution_count": null,
      "outputs": []
    },
    {
      "cell_type": "code",
      "metadata": {
        "id": "KDEyml2J13V8"
      },
      "source": [
        "data_polifact.columns"
      ],
      "execution_count": null,
      "outputs": []
    },
    {
      "cell_type": "code",
      "metadata": {
        "id": "HpFn9jXI13V8"
      },
      "source": [
        "body = data_polifact['title'][0]\n",
        "sentences = getSentences(body)\n",
        "nlp_model = spacy.load('en_core_web_sm')\n",
        "\n",
        "triples = []\n",
        "#print (body)\n",
        "for sentence in sentences:\n",
        "  triples.append(processSentence(sentence))"
      ],
      "execution_count": null,
      "outputs": []
    },
    {
      "cell_type": "code",
      "metadata": {
        "id": "RSBFTHaA3Pxu"
      },
      "source": [
        "printGraph(triples) "
      ],
      "execution_count": null,
      "outputs": []
    },
    {
      "cell_type": "markdown",
      "metadata": {
        "id": "AV_E-Bqw7JWO"
      },
      "source": [
        "# Use Case: Political Donation Knowledge Graph for Trump\n",
        "\n",
        "* news: \n",
        "https://www.washingtonpost.com/politics/timothy-mellon-top-donor-to-trump-super-pac-used-racial-stereotypes-to-describe-african-americans-in-his-autobiography/2020/06/18/89206c5a-a742-11ea-b619-3f9133bbb482_story.html\n",
        "\n",
        "* ref: \n",
        "https://programmerbackpack.com/python-nlp-tutorial-information-extraction-and-knowledge-graphs/"
      ]
    },
    {
      "cell_type": "code",
      "metadata": {
        "colab": {
          "base_uri": "https://localhost:8080/"
        },
        "id": "zgjpebtD7O_9",
        "outputId": "2ff6fe3d-a7a0-46ac-e334-a55a36ab6469"
      },
      "source": [
        "!pip install newspaper3k"
      ],
      "execution_count": 37,
      "outputs": [
        {
          "output_type": "stream",
          "text": [
            "Collecting newspaper3k\n",
            "\u001b[?25l  Downloading https://files.pythonhosted.org/packages/d7/b9/51afecb35bb61b188a4b44868001de348a0e8134b4dfa00ffc191567c4b9/newspaper3k-0.2.8-py3-none-any.whl (211kB)\n",
            "\r\u001b[K     |█▌                              | 10kB 17.5MB/s eta 0:00:01\r\u001b[K     |███                             | 20kB 21.4MB/s eta 0:00:01\r\u001b[K     |████▋                           | 30kB 26.6MB/s eta 0:00:01\r\u001b[K     |██████▏                         | 40kB 21.9MB/s eta 0:00:01\r\u001b[K     |███████▊                        | 51kB 15.8MB/s eta 0:00:01\r\u001b[K     |█████████▎                      | 61kB 13.6MB/s eta 0:00:01\r\u001b[K     |██████████▉                     | 71kB 14.8MB/s eta 0:00:01\r\u001b[K     |████████████▍                   | 81kB 13.9MB/s eta 0:00:01\r\u001b[K     |██████████████                  | 92kB 14.5MB/s eta 0:00:01\r\u001b[K     |███████████████▌                | 102kB 13.0MB/s eta 0:00:01\r\u001b[K     |█████████████████               | 112kB 13.0MB/s eta 0:00:01\r\u001b[K     |██████████████████▋             | 122kB 13.0MB/s eta 0:00:01\r\u001b[K     |████████████████████▏           | 133kB 13.0MB/s eta 0:00:01\r\u001b[K     |█████████████████████▊          | 143kB 13.0MB/s eta 0:00:01\r\u001b[K     |███████████████████████▎        | 153kB 13.0MB/s eta 0:00:01\r\u001b[K     |████████████████████████▉       | 163kB 13.0MB/s eta 0:00:01\r\u001b[K     |██████████████████████████▍     | 174kB 13.0MB/s eta 0:00:01\r\u001b[K     |████████████████████████████    | 184kB 13.0MB/s eta 0:00:01\r\u001b[K     |█████████████████████████████▌  | 194kB 13.0MB/s eta 0:00:01\r\u001b[K     |███████████████████████████████ | 204kB 13.0MB/s eta 0:00:01\r\u001b[K     |████████████████████████████████| 215kB 13.0MB/s \n",
            "\u001b[?25hRequirement already satisfied: beautifulsoup4>=4.4.1 in /usr/local/lib/python3.7/dist-packages (from newspaper3k) (4.6.3)\n",
            "Requirement already satisfied: Pillow>=3.3.0 in /usr/local/lib/python3.7/dist-packages (from newspaper3k) (7.1.2)\n",
            "Requirement already satisfied: PyYAML>=3.11 in /usr/local/lib/python3.7/dist-packages (from newspaper3k) (3.13)\n",
            "Collecting feedparser>=5.2.1\n",
            "\u001b[?25l  Downloading https://files.pythonhosted.org/packages/1c/21/faf1bac028662cc8adb2b5ef7a6f3999a765baa2835331df365289b0ca56/feedparser-6.0.2-py3-none-any.whl (80kB)\n",
            "\r\u001b[K     |████                            | 10kB 24.2MB/s eta 0:00:01\r\u001b[K     |████████                        | 20kB 32.9MB/s eta 0:00:01\r\u001b[K     |████████████▏                   | 30kB 39.3MB/s eta 0:00:01\r\u001b[K     |████████████████▏               | 40kB 43.0MB/s eta 0:00:01\r\u001b[K     |████████████████████▎           | 51kB 31.7MB/s eta 0:00:01\r\u001b[K     |████████████████████████▎       | 61kB 34.9MB/s eta 0:00:01\r\u001b[K     |████████████████████████████▍   | 71kB 21.8MB/s eta 0:00:01\r\u001b[K     |████████████████████████████████| 81kB 8.8MB/s \n",
            "\u001b[?25hRequirement already satisfied: python-dateutil>=2.5.3 in /usr/local/lib/python3.7/dist-packages (from newspaper3k) (2.8.1)\n",
            "Collecting tinysegmenter==0.3\n",
            "  Downloading https://files.pythonhosted.org/packages/17/82/86982e4b6d16e4febc79c2a1d68ee3b707e8a020c5d2bc4af8052d0f136a/tinysegmenter-0.3.tar.gz\n",
            "Collecting cssselect>=0.9.2\n",
            "  Downloading https://files.pythonhosted.org/packages/3b/d4/3b5c17f00cce85b9a1e6f91096e1cc8e8ede2e1be8e96b87ce1ed09e92c5/cssselect-1.1.0-py2.py3-none-any.whl\n",
            "Collecting feedfinder2>=0.0.4\n",
            "  Downloading https://files.pythonhosted.org/packages/35/82/1251fefec3bb4b03fd966c7e7f7a41c9fc2bb00d823a34c13f847fd61406/feedfinder2-0.0.4.tar.gz\n",
            "Collecting tldextract>=2.0.1\n",
            "\u001b[?25l  Downloading https://files.pythonhosted.org/packages/7e/62/b6acd3129c5615b9860e670df07fd55b76175b63e6b7f68282c7cad38e9e/tldextract-3.1.0-py2.py3-none-any.whl (87kB)\n",
            "\u001b[K     |████████████████████████████████| 92kB 9.0MB/s \n",
            "\u001b[?25hRequirement already satisfied: requests>=2.10.0 in /usr/local/lib/python3.7/dist-packages (from newspaper3k) (2.23.0)\n",
            "Collecting jieba3k>=0.35.1\n",
            "\u001b[?25l  Downloading https://files.pythonhosted.org/packages/a9/cb/2c8332bcdc14d33b0bedd18ae0a4981a069c3513e445120da3c3f23a8aaa/jieba3k-0.35.1.zip (7.4MB)\n",
            "\u001b[K     |████████████████████████████████| 7.4MB 13.6MB/s \n",
            "\u001b[?25hRequirement already satisfied: nltk>=3.2.1 in /usr/local/lib/python3.7/dist-packages (from newspaper3k) (3.2.5)\n",
            "Requirement already satisfied: lxml>=3.6.0 in /usr/local/lib/python3.7/dist-packages (from newspaper3k) (4.2.6)\n",
            "Collecting sgmllib3k\n",
            "  Downloading https://files.pythonhosted.org/packages/9e/bd/3704a8c3e0942d711c1299ebf7b9091930adae6675d7c8f476a7ce48653c/sgmllib3k-1.0.0.tar.gz\n",
            "Requirement already satisfied: six>=1.5 in /usr/local/lib/python3.7/dist-packages (from python-dateutil>=2.5.3->newspaper3k) (1.15.0)\n",
            "Requirement already satisfied: idna in /usr/local/lib/python3.7/dist-packages (from tldextract>=2.0.1->newspaper3k) (2.10)\n",
            "Collecting requests-file>=1.4\n",
            "  Downloading https://files.pythonhosted.org/packages/77/86/cdb5e8eaed90796aa83a6d9f75cfbd37af553c47a291cd47bc410ef9bdb2/requests_file-1.5.1-py2.py3-none-any.whl\n",
            "Requirement already satisfied: filelock>=3.0.8 in /usr/local/lib/python3.7/dist-packages (from tldextract>=2.0.1->newspaper3k) (3.0.12)\n",
            "Requirement already satisfied: certifi>=2017.4.17 in /usr/local/lib/python3.7/dist-packages (from requests>=2.10.0->newspaper3k) (2020.12.5)\n",
            "Requirement already satisfied: urllib3!=1.25.0,!=1.25.1,<1.26,>=1.21.1 in /usr/local/lib/python3.7/dist-packages (from requests>=2.10.0->newspaper3k) (1.24.3)\n",
            "Requirement already satisfied: chardet<4,>=3.0.2 in /usr/local/lib/python3.7/dist-packages (from requests>=2.10.0->newspaper3k) (3.0.4)\n",
            "Building wheels for collected packages: tinysegmenter, feedfinder2, jieba3k, sgmllib3k\n",
            "  Building wheel for tinysegmenter (setup.py) ... \u001b[?25l\u001b[?25hdone\n",
            "  Created wheel for tinysegmenter: filename=tinysegmenter-0.3-cp37-none-any.whl size=13538 sha256=90b5f0245a6a0d642901258bacc9238a0185a099e34b54c9cbef4dac8b88b691\n",
            "  Stored in directory: /root/.cache/pip/wheels/81/2b/43/a02ede72324dd40cdd7ca53aad718c7710628e91b8b0dc0f02\n",
            "  Building wheel for feedfinder2 (setup.py) ... \u001b[?25l\u001b[?25hdone\n",
            "  Created wheel for feedfinder2: filename=feedfinder2-0.0.4-cp37-none-any.whl size=3358 sha256=8bddbcb86757c34328f5ae27271dab250b2b1c5f5daa2c2b9ec21d0fde2cdb7e\n",
            "  Stored in directory: /root/.cache/pip/wheels/de/03/ca/778e3a7a627e3d98836cc890e7cb40c7575424cfd3340f40ed\n",
            "  Building wheel for jieba3k (setup.py) ... \u001b[?25l\u001b[?25hdone\n",
            "  Created wheel for jieba3k: filename=jieba3k-0.35.1-cp37-none-any.whl size=7398406 sha256=4867caaaf24a3325e729fdbed61eefcca6202f14f7692bcfbc16f86c41fb1957\n",
            "  Stored in directory: /root/.cache/pip/wheels/83/15/9c/a3f1f67e7f7181170ad37d32e503c35da20627c013f438ed34\n",
            "  Building wheel for sgmllib3k (setup.py) ... \u001b[?25l\u001b[?25hdone\n",
            "  Created wheel for sgmllib3k: filename=sgmllib3k-1.0.0-cp37-none-any.whl size=6067 sha256=3dd61725b83e60063d5b6a8918129f7a13e1a22672304de1a6597e496338259e\n",
            "  Stored in directory: /root/.cache/pip/wheels/f1/80/5a/444ba08a550cdd241bd9baf8bae44be750efe370adb944506a\n",
            "Successfully built tinysegmenter feedfinder2 jieba3k sgmllib3k\n",
            "Installing collected packages: sgmllib3k, feedparser, tinysegmenter, cssselect, feedfinder2, requests-file, tldextract, jieba3k, newspaper3k\n",
            "Successfully installed cssselect-1.1.0 feedfinder2-0.0.4 feedparser-6.0.2 jieba3k-0.35.1 newspaper3k-0.2.8 requests-file-1.5.1 sgmllib3k-1.0.0 tinysegmenter-0.3 tldextract-3.1.0\n"
          ],
          "name": "stdout"
        }
      ]
    },
    {
      "cell_type": "markdown",
      "metadata": {
        "id": "vTU_5o64hGYa"
      },
      "source": [
        "## Get Text\n",
        "https://analyticsindiamag.com/hands-on-guide-to-extractive-text-summarization-with-bertsum/"
      ]
    },
    {
      "cell_type": "code",
      "metadata": {
        "colab": {
          "base_uri": "https://localhost:8080/"
        },
        "id": "o-UvRYDu7az_",
        "outputId": "86455bef-0b19-4eaf-88a9-d84087a23b3d"
      },
      "source": [
        "from newspaper import fulltext\n",
        "import requests\n",
        "#article_url=\"https://www.washingtonpost.com/politics/timothy-mellon-top-donor-to-trump-super-pac-used-racial-stereotypes-to-describe-african-americans-in-his-autobiography/2020/06/18/89206c5a-a742-11ea-b619-3f9133bbb482_story.html \"\n",
        "article_url = \"https://www.investopedia.com/articles/investing/033116/top-10-corporate-contributors-trump-campaign.asp\"\n",
        "article_url = \"https://www.nytimes.com/2020/08/16/us/politics/trumps-campaign-big-donors.html\"\n",
        "article = fulltext(requests.get(article_url).text)\n",
        "print(article)"
      ],
      "execution_count": 38,
      "outputs": [
        {
          "output_type": "stream",
          "text": [
            "A self-described former liberal, he had little history of multi-million-dollar political contributions before pouring more than $40 million into Republican groups since 2018.\n",
            "\n",
            "Seeking fewer people and lower taxes, he moved to Wyoming from Connecticut 15 years ago, as he detailed in a self-published autobiography in 2015. He made a splash in 2010 by giving $1.5 million to the legal defense of Arizona’s strict immigration law, which was later partly struck down by the Supreme Court.\n",
            "\n",
            "With that donation, he took up the mantle of his family’s long fight for conservative causes: One relative, Cordelia Scaife May, was an ardent nativist who helped sow the seeds of Mr. Trump’s anti-immigration agenda; another, Richard Mellon Scaife, was a major backer of President Richard M. Nixon who later poured money into efforts to bring down President Bill Clinton.\n",
            "\n",
            "During a brief phone interview last month, Mr. Mellon repeatedly criticized the credibility of this newspaper and declined to answer questions about his political giving or his support of Mr. Trump.\n",
            "\n",
            "“I’ll contribute to him or Biden or whoever I want to,” he said. “I don’t have to say why.”\n",
            "\n",
            "Mr. Mellon, the grandson of Andrew Mellon, Treasury secretary in the 1920s and early 1930s who made a fortune in banking, has shown an interest in reviving embattled legacy brands, having attempted to pull Pan American World Airways out of bankruptcy in the 1990s.\n",
            "\n",
            "His book also revealed his views on race. In it, he wrote that in the mid-1980s “Black people” had become “even more belligerent and unwilling to pitch in to improve their own situations.”\n",
            "\n",
            "He wrote that, decades later, he considered some Americans “slaves of a new master, Uncle Sam,” for their reliance on federal aid. And his 2010 donation to Arizona’s legal defense, unmentioned in the memoir, signaled his support of the restrictive immigration policies for which the future President Trump would go on to fight.\n"
          ],
          "name": "stdout"
        }
      ]
    },
    {
      "cell_type": "code",
      "metadata": {
        "colab": {
          "base_uri": "https://localhost:8080/",
          "height": 153
        },
        "id": "KHlMTWrKFj3I",
        "outputId": "891c5e85-6ba8-420f-aa41-95e7e6810d36"
      },
      "source": [
        "article"
      ],
      "execution_count": 39,
      "outputs": [
        {
          "output_type": "execute_result",
          "data": {
            "application/vnd.google.colaboratory.intrinsic+json": {
              "type": "string"
            },
            "text/plain": [
              "'A self-described former liberal, he had little history of multi-million-dollar political contributions before pouring more than $40 million into Republican groups since 2018.\\n\\nSeeking fewer people and lower taxes, he moved to Wyoming from Connecticut 15 years ago, as he detailed in a self-published autobiography in 2015. He made a splash in 2010 by giving $1.5 million to the legal defense of Arizona’s strict immigration law, which was later partly struck down by the Supreme Court.\\n\\nWith that donation, he took up the mantle of his family’s long fight for conservative causes: One relative, Cordelia Scaife May, was an ardent nativist who helped sow the seeds of Mr. Trump’s anti-immigration agenda; another, Richard Mellon Scaife, was a major backer of President Richard M. Nixon who later poured money into efforts to bring down President Bill Clinton.\\n\\nDuring a brief phone interview last month, Mr. Mellon repeatedly criticized the credibility of this newspaper and declined to answer questions about his political giving or his support of Mr. Trump.\\n\\n“I’ll contribute to him or Biden or whoever I want to,” he said. “I don’t have to say why.”\\n\\nMr. Mellon, the grandson of Andrew Mellon, Treasury secretary in the 1920s and early 1930s who made a fortune in banking, has shown an interest in reviving embattled legacy brands, having attempted to pull Pan American World Airways out of bankruptcy in the 1990s.\\n\\nHis book also revealed his views on race. In it, he wrote that in the mid-1980s “Black people” had become “even more belligerent and unwilling to pitch in to improve their own situations.”\\n\\nHe wrote that, decades later, he considered some Americans “slaves of a new master, Uncle Sam,” for their reliance on federal aid. And his 2010 donation to Arizona’s legal defense, unmentioned in the memoir, signaled his support of the restrictive immigration policies for which the future President Trump would go on to fight.'"
            ]
          },
          "metadata": {
            "tags": []
          },
          "execution_count": 39
        }
      ]
    },
    {
      "cell_type": "markdown",
      "metadata": {
        "id": "Bf9ARm12hKa7"
      },
      "source": [
        "## Get Summary from Text"
      ]
    },
    {
      "cell_type": "code",
      "metadata": {
        "id": "6xesxQYG9M4N"
      },
      "source": [
        "## computed using my BERT Model Summarization\n",
        "summary = '''\n",
        "In a self-published 2015 autobiography, Mellon called social safety net programs “Slavery Redux,” adding: “For delivering their votes in the Federal Elections, they are awarded with yet more and more freebies: food stamps, cell phones, WIC payments, Obamacare, and on, and on, and on. Advertisement\n",
        "\n",
        "Story continues below advertisement\n",
        "\n",
        "Mellon declined to comment. Mellon, who is the great-grandson of Mellon family patriarch and banker Thomas Mellon, and grandson of Andrew W. Mellon, the former Treasury Department secretary, had given smaller amounts to state and federal GOP candidates for years, \n",
        "but ramped up his giving under Trump, campaign finance records show. Story continues below advertisement\n",
        "\n",
        "He now rivals other prominent donors who have increased their political giving under Trump, \n",
        "such as shipping supplies magnate Richard Uihlein and Stephen Schwarzman, the Blackstone chairman and chief executive. \n",
        "Black people, in spite of heroic efforts by the ‘Establishment’ to right the wrongs of the past, became even more belligerent and unwilling to pitch in to improve their own situations,” Mellon wrote, describing his view of America during Reagan’s 1984 reelection campaign. Advertisement\n",
        "\n",
        "Two decades later, too many Americans are still relying on the government for help, \n",
        "he wrote. In the 1980s, Mellon took over a rail company called Guilford Transportation Industries and rebranded it after purchasing Pan Am Airways from bankruptcy in the 1990s. Advertisement\n",
        "\n",
        "He gave another $10 million to the Congressional Leadership Fund in November 2019. The Congressional Leadership Fund did not respond to requests for comment.'''"
      ],
      "execution_count": 13,
      "outputs": []
    },
    {
      "cell_type": "markdown",
      "metadata": {
        "id": "coggI-nMgMla"
      },
      "source": [
        "## Create Graph"
      ]
    },
    {
      "cell_type": "code",
      "metadata": {
        "colab": {
          "base_uri": "https://localhost:8080/"
        },
        "id": "Xcjz1BO5gPXL",
        "outputId": "57ef0bfa-a9ec-4b08-ef43-3f948b465e6c"
      },
      "source": [
        "body = article#summary\n",
        "sentences = getSentences(body)\n",
        "nlp_model = spacy.load('en_core_web_sm')\n",
        "\n",
        "triples = []\n",
        "#print (body)\n",
        "for sentence in sentences:\n",
        "  triples.append(processSentence(sentence))"
      ],
      "execution_count": 16,
      "outputs": [
        {
          "output_type": "stream",
          "text": [
            "Donald -> compound\n",
            "Trump -> nsubj\n",
            "announced -> ROOT\n",
            "his -> poss\n",
            "reelection -> compound\n",
            "bid -> dobj\n",
            "as -> advmod\n",
            "soon -> advmod\n",
            "as -> mark\n",
            "he -> nsubj\n",
            "took -> advcl\n",
            "office -> dobj\n",
            "four -> nummod\n",
            "years -> npadvmod\n",
            "ago -> advmod\n",
            "and -> cc\n",
            "raised -> conj\n",
            "over -> quantmod\n",
            "$ -> quantmod\n",
            "1 -> compound\n",
            "billion -> dobj\n",
            "in -> prep\n",
            "the -> det\n",
            "2020 -> nummod\n",
            "cycle -> pobj\n",
            ", -> punct\n",
            "according -> prep\n",
            "to -> prep\n",
            "OpenSecrets -> pobj\n",
            ". -> punct\n",
            "Trump he , announce , bid office billion cycle OpenSecrets\n",
            "This -> det\n",
            "amount -> nsubj\n",
            "includes -> ROOT\n",
            "donations -> dobj\n",
            "to -> prep\n",
            "his -> poss\n",
            "official -> amod\n",
            "campaign -> compound\n",
            "committee -> pobj\n",
            "and -> cc\n",
            "outside -> amod\n",
            "groups -> conj\n",
            "like -> prep\n",
            "single -> amod\n",
            "- -> punct\n",
            "candidate -> nmod\n",
            "super -> amod\n",
            "PACs -> pobj\n",
            "and -> cc\n",
            "hybrid -> amod\n",
            "PACs -> conj\n",
            "or -> cc\n",
            "Carey -> compound\n",
            "Committees -> conj\n",
            ". -> punct\n",
            "amount , include official outside single super hybrid , donations committee PACs\n",
            "Where -> advmod\n",
            "Did -> aux\n",
            "the -> det\n",
            "Big -> compound\n",
            "Money -> nsubj\n",
            "Go -> ROOT\n",
            "? -> punct\n",
            "Money , go , \n",
            "Very -> advmod\n",
            "large -> amod\n",
            "donations -> nsubjpass\n",
            "in -> prep\n",
            "U.S. -> nmod\n",
            "presidential -> amod\n",
            "elections -> pobj\n",
            "are -> auxpass\n",
            "directed -> ROOT\n",
            "toward -> prep\n",
            "super -> amod\n",
            "PACs -> pobj\n",
            "( -> punct\n",
            "Political -> compound\n",
            "Action -> compound\n",
            "Committees -> appos\n",
            ") -> punct\n",
            ", -> punct\n",
            "or -> cc\n",
            "hybrid -> amod\n",
            "PACs -> conj\n",
            "because -> prep\n",
            "of -> pcomp\n",
            "the -> det\n",
            "$ -> nmod\n",
            "5,600 -> nummod\n",
            "limit -> pobj\n",
            "on -> prep\n",
            "how -> advmod\n",
            "much -> dobj\n",
            "an -> det\n",
            "individual -> nsubj\n",
            "can -> aux\n",
            "give -> pcomp\n",
            "to -> prep\n",
            "a -> det\n",
            "candidate -> poss\n",
            "'s -> case\n",
            "official -> amod\n",
            "campaign -> compound\n",
            "committee -> pobj\n",
            "per -> prep\n",
            "election -> compound\n",
            "cycle -> pobj\n",
            ". -> punct\n",
            "donations individual , large presidential direct super hybrid official , elections PACs limit much committee cycle\n",
            "America -> compound\n",
            "First -> compound\n",
            "Action -> nsubj\n",
            ", -> punct\n",
            "a -> det\n",
            "single -> amod\n",
            "- -> punct\n",
            "candidate -> nmod\n",
            ", -> punct\n",
            "pro -> dep\n",
            "- -> dep\n",
            "Trump -> amod\n",
            "super -> amod\n",
            "PAC -> appos\n",
            "founded -> acl\n",
            "in -> prep\n",
            "April -> pobj\n",
            "2017 -> nummod\n",
            "to -> aux\n",
            "support -> advcl\n",
            "his -> poss\n",
            "agenda -> dobj\n",
            "and -> cc\n",
            "deliver -> conj\n",
            "him -> dative\n",
            "a -> det\n",
            "victory -> dobj\n",
            ", -> punct\n",
            "was -> ROOT\n",
            "the -> det\n",
            "primary -> amod\n",
            "recipient -> attr\n",
            "of -> prep\n",
            "funds -> pobj\n",
            "from -> prep\n",
            "his -> poss\n",
            "wealthy -> amod\n",
            "backers -> pobj\n",
            ". -> punct\n",
            "Action , single trump super be primary recipient wealthy , April agenda victory funds backers\n",
            "Millions -> nsubj\n",
            "of -> prep\n",
            "dollars -> pobj\n",
            "have -> aux\n",
            "come -> ROOT\n",
            "into -> prep\n",
            "the -> det\n",
            "super -> amod\n",
            "PAC -> pobj\n",
            "from -> prep\n",
            "the -> det\n",
            "affiliated -> amod\n",
            "America -> compound\n",
            "First -> compound\n",
            "Policies -> compound\n",
            "Inc. -> compound\n",
            "nonprofit -> pobj\n",
            ", -> punct\n",
            "but -> cc\n",
            "since -> mark\n",
            "it -> nsubj\n",
            "does -> aux\n",
            "n't -> neg\n",
            "disclose -> advcl\n",
            "donors -> dobj\n",
            ", -> punct\n",
            "it -> nsubjpass\n",
            "'s -> auxpass\n",
            "known -> conj\n",
            "as -> prep\n",
            "a -> det\n",
            "\" -> punct\n",
            "dark -> amod\n",
            "money -> nmod\n",
            "\" -> punct\n",
            "group -> pobj\n",
            "and -> cc\n",
            "we -> nsubj\n",
            "ca -> aux\n",
            "n't -> neg\n",
            "be -> conj\n",
            "certain -> acomp\n",
            "who -> nsubj\n",
            "contributed -> ccomp\n",
            "to -> prep\n",
            "it -> pobj\n",
            ". -> punct\n",
            "Millions it it we who , come super affiliate dark , dollars PAC nonprofit donors group it\n",
            "Trump -> compound\n",
            "supporters -> nsubj\n",
            "may -> aux\n",
            "also -> advmod\n",
            "have -> aux\n",
            "given -> ROOT\n",
            "to -> dative\n",
            "joint -> amod\n",
            "fundraising -> compound\n",
            "committees -> pobj\n",
            "set -> acl\n",
            "up -> prt\n",
            "for -> prep\n",
            "the -> det\n",
            "presidential -> amod\n",
            "campaign -> pobj\n",
            "and -> cc\n",
            "the -> det\n",
            "Republican -> compound\n",
            "National -> compound\n",
            "Committee -> conj\n",
            ", -> punct\n",
            "for -> prep\n",
            "example -> pobj\n",
            ", -> punct\n",
            "Trump -> compound\n",
            "Victory -> dobj\n",
            "or -> cc\n",
            "Trump -> compound\n",
            "Make -> conj\n",
            "America -> compound\n",
            "Great -> compound\n",
            "Again -> compound\n",
            "Committee -> ROOT\n",
            ". -> punct\n",
            "supporters , give joint presidential Committee , committees campaign example Victory\n",
            "Demographics -> ROOT\n",
            "\n",
            "\n",
            " -> \n",
            "The -> det\n",
            "biggest -> amod\n",
            "industries -> nsubj\n",
            "represented -> acl\n",
            "among -> prep\n",
            "Trump -> compound\n",
            "donors -> pobj\n",
            "this -> det\n",
            "cycle -> nsubj\n",
            "overall -> advmod\n",
            "were -> ROOT\n",
            "Health -> compound\n",
            "Services -> attr\n",
            ", -> punct\n",
            "Casinos -> nmod\n",
            "/ -> punct\n",
            "Gambling -> conj\n",
            "and -> cc\n",
            "Finance -> conj\n",
            ". -> punct\n",
            "industries cycle , demographic big be Services , donors\n",
            "Only -> advmod\n",
            "$ -> quantmod\n",
            "8,021 -> nsubj\n",
            "came -> ROOT\n",
            "out -> prep\n",
            "of -> prep\n",
            "the -> det\n",
            "former -> amod\n",
            "president -> poss\n",
            "'s -> case\n",
            "pockets -> pobj\n",
            "this -> det\n",
            "time -> npadvmod\n",
            "around -> advmod\n",
            ", -> punct\n",
            "versus -> prep\n",
            "$ -> quantmod\n",
            "66 -> compound\n",
            "million -> pobj\n",
            "in -> prep\n",
            "2016 -> pobj\n",
            ". -> punct\n",
            "8,021 , come former , pockets million 2016\n",
            "The -> det\n",
            "following -> nsubj\n",
            "are -> ROOT\n",
            "the -> det\n",
            "top -> amod\n",
            "donors -> attr\n",
            "to -> prep\n",
            "the -> det\n",
            "Trump -> nmod\n",
            "2020 -> nummod\n",
            "campaign -> pobj\n",
            "( -> punct\n",
            "2020 -> nummod\n",
            "election -> compound\n",
            "cycle -> appos\n",
            ") -> punct\n",
            "according -> prep\n",
            "to -> prep\n",
            "processed -> amod\n",
            "Federal -> compound\n",
            "Election -> compound\n",
            "Commission -> compound\n",
            "data -> pobj\n",
            ". -> punct\n",
            "* -> ROOT\n",
            "* -> ROOT\n",
            "* -> ROOT\n",
            "following , be top donor process * * * , campaign data\n",
            "They -> nsubj\n",
            "all -> appos\n",
            "gave -> ROOT\n",
            "to -> dative\n",
            "the -> det\n",
            "America -> nmod\n",
            "First -> compound\n",
            "Action -> compound\n",
            "super -> compound\n",
            "PAC -> pobj\n",
            ". -> punct\n",
            "They , give , PAC\n",
            "1.Timothy -> punct\n",
            "Mellon -> ROOT\n",
            ", -> punct\n",
            "Pan -> compound\n",
            "Am -> compound\n",
            "Systems -> appos\n",
            "- -> punct\n",
            "$ -> quantmod\n",
            "10 -> compound\n",
            "million -> appos\n",
            "\n",
            "\n",
            " -> \n",
            "An -> det\n",
            "heir -> npadvmod\n",
            "to -> prep\n",
            "the -> det\n",
            "Mellon -> compound\n",
            "banking -> compound\n",
            "fortune -> pobj\n",
            "and -> cc\n",
            "the -> det\n",
            "grandson -> conj\n",
            "of -> prep\n",
            "former -> amod\n",
            "U.S. -> compound\n",
            "Treasury -> compound\n",
            "Secretary -> pobj\n",
            ", -> punct\n",
            "Andrew -> compound\n",
            "Mellon -> appos\n",
            ", -> punct\n",
            "his -> nsubj\n",
            "is -> ROOT\n",
            "among -> prep\n",
            "the -> det\n",
            "biggest -> amod\n",
            "donations -> pobj\n",
            "this -> det\n",
            "election -> compound\n",
            "cycle -> attr\n",
            ". -> punct\n",
            "his , Mellon former be big cycle , fortune Secretary donations\n",
            "He -> nsubj\n",
            "owns -> ROOT\n",
            "the -> det\n",
            "largest -> amod\n",
            "regional -> amod\n",
            "railroad -> dobj\n",
            "in -> prep\n",
            "North -> compound\n",
            "America -> pobj\n",
            ", -> punct\n",
            "Pan -> compound\n",
            "Am -> compound\n",
            "Railways -> appos\n",
            ", -> punct\n",
            "which -> nsubj\n",
            "went -> relcl\n",
            "up -> prt\n",
            "for -> prep\n",
            "sale -> pobj\n",
            "in -> prep\n",
            "July -> pobj\n",
            ". -> punct\n",
            "He which , own large regional , railroad America sale July\n",
            "He -> nsubjpass\n",
            "'s -> auxpass\n",
            "been -> ROOT\n",
            "notably -> advmod\n",
            "reclusive -> acomp\n",
            "and -> cc\n",
            "absent -> conj\n",
            "from -> prep\n",
            "politics -> pobj\n",
            ". -> punct\n",
            "He , be , politics\n",
            "Republican -> amod\n",
            "operatives -> nsubj\n",
            "reportedly -> advmod\n",
            "had -> ROOT\n",
            "to -> aux\n",
            "look -> xcomp\n",
            "his -> poss\n",
            "name -> dobj\n",
            "up -> prt\n",
            "on -> prep\n",
            "Google -> pobj\n",
            "when -> advmod\n",
            "he -> nsubj\n",
            "came -> advcl\n",
            "forward -> advmod\n",
            "to -> aux\n",
            "help -> advcl\n",
            ". -> punct\n",
            "operatives he , republican have , name Google\n",
            "2.Kelcy -> nummod\n",
            "Warren -> ROOT\n",
            ", -> punct\n",
            "Energy -> compound\n",
            "Transfers -> appos\n",
            "- -> punct\n",
            "$ -> quantmod\n",
            "10 -> compound\n",
            "million -> appos\n",
            "\n",
            "\n",
            " -> \n",
            "Warren -> nsubj\n",
            "is -> ROOT\n",
            "the -> det\n",
            "co -> dep\n",
            "- -> dep\n",
            "founder -> attr\n",
            ", -> punct\n",
            "chairman -> appos\n",
            "and -> cc\n",
            "CEO -> conj\n",
            "of -> prep\n",
            "Energy -> compound\n",
            "Transfers -> pobj\n",
            ". -> punct\n",
            "Warren , Warren be founder , Transfers\n",
            "The -> det\n",
            "Texas -> npadvmod\n",
            "- -> punct\n",
            "based -> amod\n",
            "company -> nsubj\n",
            "owns -> ROOT\n",
            "and -> cc\n",
            "operates -> conj\n",
            "the -> det\n",
            "controversial -> amod\n",
            "Dakota -> compound\n",
            "Access -> compound\n",
            "Pipeline -> dobj\n",
            ", -> punct\n",
            "which -> dobj\n",
            "Democratic -> amod\n",
            "President -> compound\n",
            "Joe -> compound\n",
            "Biden -> nsubj\n",
            "may -> aux\n",
            "shut -> relcl\n",
            "down -> prt\n",
            "or -> cc\n",
            "slow -> conj\n",
            "the -> det\n",
            "review -> compound\n",
            "process -> dobj\n",
            "of -> prep\n",
            ". -> punct\n",
            "company Biden , base own controversial democratic , Pipeline which process\n",
            "3.Geoffrey -> nummod\n",
            "Palmer -> ROOT\n",
            ", -> punct\n",
            "G.H. -> compound\n",
            "Palmer -> compound\n",
            "Associates -> appos\n",
            "- -> punct\n",
            "$ -> quantmod\n",
            "6 -> compound\n",
            "million -> appos\n",
            "\n",
            "\n",
            " -> \n",
            "Palmer -> nsubj\n",
            "is -> ROOT\n",
            "a -> det\n",
            "real -> amod\n",
            "estate -> compound\n",
            "magnate -> attr\n",
            "whose -> poss\n",
            "buildings -> nsubjpass\n",
            "in -> prep\n",
            "Los -> compound\n",
            "Angeles -> pobj\n",
            "are -> auxpass\n",
            "known -> relcl\n",
            "for -> prep\n",
            "their -> poss\n",
            "characteristic -> amod\n",
            "\" -> punct\n",
            "fauxtalian -> amod\n",
            "\" -> punct\n",
            "style -> pobj\n",
            ". -> punct\n",
            "Palmer buildings , Palmer be real magnate characteristic fauxtalian , Angeles style\n",
            "He -> nsubjpass\n",
            "was -> auxpass\n",
            "chosen -> ROOT\n",
            "to -> aux\n",
            "be -> xcomp\n",
            "part -> attr\n",
            "of -> prep\n",
            "Trump -> poss\n",
            "'s -> case\n",
            "Great -> amod\n",
            "American -> amod\n",
            "Economic -> compound\n",
            "Revival -> compound\n",
            "Industry -> compound\n",
            "Groups -> pobj\n",
            "( -> punct\n",
            "Construction -> nmod\n",
            "/ -> punct\n",
            "Labor -> nmod\n",
            "/ -> punct\n",
            "Workforce -> appos\n",
            ") -> punct\n",
            "in -> prep\n",
            "April -> pobj\n",
            "2020 -> nummod\n",
            ". -> punct\n",
            "He , choose part Great American , Groups April\n",
            "4.Linda -> nummod\n",
            "McMahon -> ROOT\n",
            ", -> punct\n",
            "America -> appos\n",
            "First -> compound\n",
            "Action -> appos\n",
            "- -> punct\n",
            "$ -> quantmod\n",
            "4.5 -> compound\n",
            "million -> appos\n",
            "\n",
            "\n",
            " -> \n",
            "McMahon -> nsubj\n",
            "is -> ROOT\n",
            "famous -> acomp\n",
            "for -> prep\n",
            "co -> dep\n",
            "- -> dep\n",
            "founding -> pcomp\n",
            "the -> det\n",
            "WWE -> compound\n",
            "franchise -> dobj\n",
            "with -> prep\n",
            "her -> poss\n",
            "husband -> pobj\n",
            "Vince -> appos\n",
            ". -> punct\n",
            "McMahon , McMahon be , franchise husband\n",
            "She -> nsubj\n",
            "ran -> ROOT\n",
            "the -> det\n",
            "Small -> compound\n",
            "Business -> compound\n",
            "Administration -> dobj\n",
            "from -> prep\n",
            "2017 -> pobj\n",
            "- -> punct\n",
            "2019 -> prep\n",
            "and -> cc\n",
            "is -> conj\n",
            "currently -> advmod\n",
            "the -> det\n",
            "chair -> attr\n",
            "of -> prep\n",
            "the -> det\n",
            "America -> nmod\n",
            "First -> nmod\n",
            "Action -> compound\n",
            "super -> compound\n",
            "PAC -> pobj\n",
            ", -> punct\n",
            "to -> prep\n",
            "which -> pobj\n",
            "she -> nsubj\n",
            "gave -> relcl\n",
            "millions -> dobj\n",
            "herself -> npadvmod\n",
            ". -> punct\n",
            "She she , run chair , Administration 2017 PAC which millions\n",
            "5.Patricia -> nummod\n",
            "Duggan -> ROOT\n",
            ", -> punct\n",
            "Philanthropist -> nmod\n",
            "/ -> punct\n",
            "Entrepreneur -> appos\n",
            "- -> punct\n",
            "$ -> quantmod\n",
            "3 -> compound\n",
            "million -> appos\n",
            "\n",
            "\n",
            " -> \n",
            "Duggan -> nsubj\n",
            "is -> ROOT\n",
            "a -> det\n",
            "top -> amod\n",
            "Scientology -> compound\n",
            "donor -> attr\n",
            ". -> punct\n",
            "Duggan , Duggan be top donor , \n",
            "An -> det\n",
            "organization -> nsubj\n",
            "in -> prep\n",
            "her -> poss\n",
            "name -> pobj\n",
            "has -> aux\n",
            "also -> advmod\n",
            "separately -> advmod\n",
            "donated -> ROOT\n",
            "$ -> quantmod\n",
            "3 -> compound\n",
            "million -> dobj\n",
            "to -> prep\n",
            "the -> det\n",
            "America -> nmod\n",
            "First -> nmod\n",
            "Action -> nmod\n",
            "super -> amod\n",
            "PAC -> pobj\n",
            "this -> det\n",
            "cycle -> npadvmod\n",
            ". -> punct\n",
            "organization , donate super , name million PAC\n",
            "6.Stephen -> nummod\n",
            "Schwarzman -> ROOT\n",
            ", -> punct\n",
            "The -> det\n",
            "Blackstone -> compound\n",
            "Group -> appos\n",
            "- -> punct\n",
            "$ -> quantmod\n",
            "3 -> compound\n",
            "million -> appos\n",
            "\n",
            "\n",
            " -> \n",
            "The -> det\n",
            "billionaire -> compound\n",
            "investor -> nsubj\n",
            "and -> cc\n",
            "close -> amod\n",
            "friend -> conj\n",
            "of -> prep\n",
            "the -> det\n",
            "president -> pobj\n",
            "is -> ROOT\n",
            "the -> det\n",
            "chairman -> attr\n",
            ", -> punct\n",
            "CEO -> conj\n",
            "and -> cc\n",
            "co -> dep\n",
            "- -> dep\n",
            "founder -> conj\n",
            "of -> prep\n",
            "publicly -> advmod\n",
            "- -> punct\n",
            "traded -> amod\n",
            "investment -> compound\n",
            "firm -> compound\n",
            "Blackstone -> compound\n",
            "Group -> pobj\n",
            ". -> punct\n",
            "investor , Schwarzman close be chairman trade , president Group\n",
            "He -> nsubjpass\n",
            "was -> auxpass\n",
            "chosen -> ROOT\n",
            "to -> aux\n",
            "be -> xcomp\n",
            "part -> attr\n",
            "of -> prep\n",
            "Trump -> poss\n",
            "'s -> case\n",
            "Great -> amod\n",
            "American -> amod\n",
            "Economic -> compound\n",
            "Revival -> compound\n",
            "Industry -> compound\n",
            "Groups -> pobj\n",
            "( -> punct\n",
            "Financial -> compound\n",
            "Services -> appos\n",
            ") -> punct\n",
            "in -> prep\n",
            "April -> pobj\n",
            "2020 -> nummod\n",
            ". -> punct\n",
            "He , choose part Great American , Groups April\n",
            "7.Elizabeth -> punct\n",
            "Uihlein -> ROOT\n",
            ", -> punct\n",
            "Uline -> npadvmod\n",
            "- -> punct\n",
            "$ -> quantmod\n",
            "2 -> compound\n",
            "million -> appos\n",
            "\n",
            "\n",
            " -> \n",
            "She -> nsubj\n",
            "started -> ROOT\n",
            "the -> det\n",
            "shipping -> compound\n",
            "giant -> amod\n",
            "Uline -> dobj\n",
            "with -> prep\n",
            "her -> poss\n",
            "husband -> pobj\n",
            ", -> punct\n",
            "Richard -> appos\n",
            ", -> punct\n",
            "in -> prep\n",
            "their -> poss\n",
            "basement -> pobj\n",
            "in -> prep\n",
            "1980 -> pobj\n",
            ". -> punct\n",
            "She , Uihlein start giant , Uline husband basement 1980\n",
            "Liz -> nsubj\n",
            "was -> ROOT\n",
            "part -> attr\n",
            "of -> prep\n",
            "Trump -> poss\n",
            "'s -> case\n",
            "economic -> amod\n",
            "advisory -> amod\n",
            "team -> pobj\n",
            "in -> prep\n",
            "2016 -> pobj\n",
            "and -> cc\n",
            "was -> conj\n",
            "present -> acomp\n",
            "on -> prep\n",
            "his -> poss\n",
            "call -> pobj\n",
            "with -> prep\n",
            "business -> compound\n",
            "leaders -> pobj\n",
            "about -> prep\n",
            "the -> det\n",
            "nation -> poss\n",
            "'s -> case\n",
            "COVID-19 -> amod\n",
            "response -> pobj\n",
            "in -> prep\n",
            "March -> pobj\n",
            ". -> punct\n",
            "Liz , be part economic advisory covid-19 , team 2016 call leaders response March\n",
            "Richard -> compound\n",
            "Uihlein -> nsubj\n",
            "donated -> ROOT\n",
            "$ -> nmod\n",
            "750,000 -> dobj\n",
            ". -> punct\n",
            "Uihlein , donate , 750,000\n",
            "8.Diane -> nummod\n",
            "Hendricks -> ROOT\n",
            ", -> punct\n",
            "ABC -> compound\n",
            "Supply -> appos\n",
            "- -> punct\n",
            "$ -> quantmod\n",
            "2 -> compound\n",
            "million -> appos\n",
            "\n",
            "\n",
            " -> \n",
            "She -> nsubj\n",
            "is -> ROOT\n",
            "at -> prep\n",
            "the -> det\n",
            "top -> pobj\n",
            "of -> prep\n",
            "Forbes -> poss\n",
            "' -> case\n",
            "America -> poss\n",
            "'s -> case\n",
            "Richest -> amod\n",
            "Self -> npadvmod\n",
            "- -> punct\n",
            "Made -> amod\n",
            "Women -> pobj\n",
            "ranking -> acl\n",
            "with -> prep\n",
            "a -> det\n",
            "net -> amod\n",
            "worth -> pobj\n",
            "of -> prep\n",
            "$ -> quantmod\n",
            "7 -> compound\n",
            "billion -> pobj\n",
            ". -> punct\n",
            "She , Hendricks be Richest make net , top Women worth billion\n",
            "She -> nsubj\n",
            "co -> dep\n",
            "- -> dep\n",
            "founded -> ROOT\n",
            "ABC -> compound\n",
            "Supply -> dobj\n",
            ", -> punct\n",
            "the -> det\n",
            "largest -> amod\n",
            "wholesale -> amod\n",
            "distributor -> appos\n",
            "of -> prep\n",
            "roofing -> pcomp\n",
            "products -> dobj\n",
            "in -> prep\n",
            "the -> det\n",
            "country -> pobj\n",
            ", -> punct\n",
            "with -> prep\n",
            "her -> poss\n",
            "late -> amod\n",
            "husband -> pobj\n",
            "in -> prep\n",
            "1982 -> pobj\n",
            ". -> punct\n",
            "She , founded large wholesale late , Supply products country husband 1982\n",
            "9.Warren -> ROOT\n",
            "Stephens -> ROOT\n",
            ", -> punct\n",
            "Stephens -> compound\n",
            "Inc. -> npadvmod\n",
            "- -> punct\n",
            "$ -> quantmod\n",
            "1.5 -> compound\n",
            "million -> appos\n",
            "\n",
            "\n",
            " -> \n",
            "He -> nsubj\n",
            "is -> ROOT\n",
            "the -> det\n",
            "chairman -> attr\n",
            ", -> punct\n",
            "president -> appos\n",
            ", -> punct\n",
            "and -> cc\n",
            "CEO -> conj\n",
            "of -> prep\n",
            "the -> det\n",
            "privately -> advmod\n",
            "held -> amod\n",
            "financial -> amod\n",
            "services -> compound\n",
            "firm -> pobj\n",
            ", -> punct\n",
            "which -> nsubjpass\n",
            "was -> auxpass\n",
            "started -> relcl\n",
            "in -> prep\n",
            "1933 -> pobj\n",
            "by -> agent\n",
            "his -> poss\n",
            "uncle -> pobj\n",
            ". -> punct\n",
            "He which , 9.warren Stephens be chairman hold financial by , firm 1933 uncle\n",
            "He -> nsubjpass\n",
            "was -> auxpass\n",
            "chosen -> ROOT\n",
            "to -> aux\n",
            "be -> xcomp\n",
            "part -> attr\n",
            "of -> prep\n",
            "Trump -> poss\n",
            "'s -> case\n",
            "Great -> amod\n",
            "American -> amod\n",
            "Economic -> compound\n",
            "Revival -> compound\n",
            "Industry -> compound\n",
            "Groups -> pobj\n",
            "( -> punct\n",
            "Financial -> compound\n",
            "Services -> appos\n",
            ") -> punct\n",
            "in -> prep\n",
            "April -> pobj\n",
            "2020 -> nummod\n",
            ". -> punct\n",
            "He , choose part Great American , Groups April\n",
            "10.Cherna -> compound\n",
            "Moskowitz -> ROOT\n",
            ", -> punct\n",
            "Hawaiian -> compound\n",
            "Gardens -> compound\n",
            "Casino -> appos\n",
            "- -> punct\n",
            "$ -> quantmod\n",
            "1.3 -> compound\n",
            "million -> appos\n",
            "\n",
            "\n",
            " -> \n",
            "Cherna -> compound\n",
            "Moskowitz -> nsubj\n",
            "is -> ROOT\n",
            "the -> det\n",
            "president -> attr\n",
            "of -> prep\n",
            "Hawaiian -> compound\n",
            "Gardens -> compound\n",
            "Casino -> pobj\n",
            "in -> prep\n",
            "California -> pobj\n",
            "and -> cc\n",
            "the -> det\n",
            "Irving -> compound\n",
            "Moskowitz -> compound\n",
            "Fundation -> conj\n",
            ". -> punct\n",
            "Moskowitz , Moskowitz be president , Casino California\n",
            "She -> nsubj\n",
            "is -> ROOT\n",
            "the -> det\n",
            "widow -> attr\n",
            "of -> prep\n",
            "Dr. -> compound\n",
            "Irving -> compound\n",
            "Moskowitz -> pobj\n",
            ", -> punct\n",
            "a -> det\n",
            "prominent -> amod\n",
            "physician -> appos\n",
            "and -> cc\n",
            "philanthropist -> conj\n",
            ", -> punct\n",
            "who -> nsubj\n",
            "died -> relcl\n",
            "in -> prep\n",
            "2016 -> pobj\n",
            ". -> punct\n",
            "She who , be widow prominent , Moskowitz 2016\n",
            "Other -> amod\n",
            "notables -> nsubj\n",
            "\n",
            "\n",
            " -> \n",
            "Several -> amod\n",
            "individuals -> appos\n",
            "of -> prep\n",
            "the -> det\n",
            "DeVos -> compound\n",
            "Family -> pobj\n",
            "have -> aux\n",
            "together -> advmod\n",
            "given -> ROOT\n",
            "$ -> quantmod\n",
            "1 -> compound\n",
            "million -> dobj\n",
            ", -> punct\n",
            "including -> prep\n",
            "former -> amod\n",
            "United -> compound\n",
            "States -> nmod\n",
            "Secretary -> pobj\n",
            "of -> prep\n",
            "Education -> pobj\n",
            "Betsy -> compound\n",
            "Devos -> poss\n",
            "' -> case\n",
            "husband -> ROOT\n",
            "and -> cc\n",
            "Amway -> compound\n",
            "President -> compound\n",
            "Richard -> compound\n",
            "Jr. -> conj\n",
            ", -> punct\n",
            "Daniel -> compound\n",
            "DeVos -> conj\n",
            ", -> punct\n",
            "Suzanne -> compound\n",
            "DeVos -> conj\n",
            ", -> punct\n",
            "Doug -> compound\n",
            "DeVos -> conj\n",
            "and -> cc\n",
            "Maria -> compound\n",
            "DeVos -> conj\n",
            ". -> punct\n",
            "notables , other several give former husband , Family million Secretary Education\n",
            "Walter -> compound\n",
            "Buckley -> nsubj\n",
            ", -> punct\n",
            "the -> det\n",
            "co -> dep\n",
            "- -> dep\n",
            "founder -> appos\n",
            "and -> cc\n",
            "CEO -> conj\n",
            "of -> prep\n",
            "Actua -> compound\n",
            "Corporation -> pobj\n",
            ", -> punct\n",
            "a -> det\n",
            "publicly -> advmod\n",
            "traded -> amod\n",
            "venture -> compound\n",
            "capital -> compound\n",
            "firm -> appos\n",
            "that -> nsubj\n",
            "underwent -> relcl\n",
            "liquidation -> dobj\n",
            "in -> prep\n",
            "2018 -> pobj\n",
            ", -> punct\n",
            "donated -> ROOT\n",
            "$ -> quantmod\n",
            "1.1 -> compound\n",
            "million -> dobj\n",
            ". -> punct\n",
            "Buckley that , trade donate , Corporation liquidation 2018 million\n",
            "Individuals -> nsubj\n",
            "donating -> ccomp\n",
            "$ -> quantmod\n",
            "1 -> compound\n",
            "million -> dobj\n",
            "each -> npadvmod\n",
            "include -> ROOT\n",
            "Ronald -> compound\n",
            "Cameron -> dobj\n",
            "( -> punct\n",
            "Chairman -> appos\n",
            "of -> prep\n",
            "Arkansas -> npadvmod\n",
            "- -> punct\n",
            "based -> amod\n",
            "poultry -> compound\n",
            "company -> compound\n",
            "Mountaire -> pobj\n",
            ") -> punct\n",
            ", -> punct\n",
            "Robert -> compound\n",
            "Wood -> compound\n",
            "Johnson -> compound\n",
            "IV -> conj\n",
            "( -> punct\n",
            "U.S. -> compound\n",
            "ambassador -> ROOT\n",
            "to -> prep\n",
            "Britain -> pobj\n",
            "and -> cc\n",
            "pharmaceutical -> compound\n",
            "heir -> conj\n",
            ") -> punct\n",
            ", -> punct\n",
            "Jeffrey -> compound\n",
            "Sprecher -> appos\n",
            "( -> punct\n",
            "founder -> appos\n",
            ", -> punct\n",
            "chairman -> conj\n",
            ", -> punct\n",
            "and -> cc\n",
            "CEO -> conj\n",
            "of -> prep\n",
            "Intercontinental -> compound\n",
            "Exchange -> pobj\n",
            ", -> punct\n",
            "and -> cc\n",
            "chairman -> conj\n",
            "of -> prep\n",
            "the -> det\n",
            "New -> compound\n",
            "York -> compound\n",
            "Stock -> compound\n",
            "Exchange -> pobj\n",
            ") -> punct\n",
            ", -> punct\n",
            "Rex -> compound\n",
            "Sinquefield -> conj\n",
            "( -> punct\n",
            "the -> det\n",
            "index -> compound\n",
            "funds -> nsubj\n",
            "pioneer -> parataxis\n",
            ") -> punct\n",
            "and -> cc\n",
            "Dana -> compound\n",
            "White -> conj\n",
            "( -> punct\n",
            "President -> appos\n",
            "of -> prep\n",
            "the -> det\n",
            "Ultimate -> compound\n",
            "Fighting -> compound\n",
            "Championship -> pobj\n",
            "or -> cc\n",
            "UFC -> conj\n",
            ") -> punct\n",
            ". -> punct\n",
            "Individuals funds , include base ambassador , million Cameron Mountaire Britain Exchange Exchange Championship\n",
            "* -> ROOT\n",
            "* -> ROOT\n",
            "* -> punct\n",
            "Note -> dep\n",
            ": -> punct\n",
            "We -> nsubj\n",
            "will -> aux\n",
            "continue -> ROOT\n",
            "to -> aux\n",
            "update -> xcomp\n",
            "this -> det\n",
            "ranking -> dobj\n",
            "as -> mark\n",
            "more -> amod\n",
            "FEC -> compound\n",
            "data -> nsubjpass\n",
            "is -> auxpass\n",
            "processed -> advcl\n",
            ". -> punct\n",
            "* -> ROOT\n",
            "* -> ROOT\n",
            "* -> ROOT\n",
            "We data , * * continue more * * * , ranking\n"
          ],
          "name": "stdout"
        }
      ]
    },
    {
      "cell_type": "code",
      "metadata": {
        "colab": {
          "base_uri": "https://localhost:8080/"
        },
        "id": "jpPnJ2oDSC3M",
        "outputId": "cc7a39fd-3ec0-4a29-a6f6-ef9f665eaecc"
      },
      "source": [
        "triples"
      ],
      "execution_count": 17,
      "outputs": [
        {
          "output_type": "execute_result",
          "data": {
            "text/plain": [
              "[('Trump he', 'announce', 'bid office billion cycle OpenSecrets'),\n",
              " ('amount',\n",
              "  'include official outside single super hybrid',\n",
              "  'donations committee PACs'),\n",
              " ('Money', 'go', ''),\n",
              " ('donations individual',\n",
              "  'large presidential direct super hybrid official',\n",
              "  'elections PACs limit much committee cycle'),\n",
              " ('Action',\n",
              "  'single trump super be primary recipient wealthy',\n",
              "  'April agenda victory funds backers'),\n",
              " ('Millions it it we who',\n",
              "  'come super affiliate dark',\n",
              "  'dollars PAC nonprofit donors group it'),\n",
              " ('supporters',\n",
              "  'give joint presidential Committee',\n",
              "  'committees campaign example Victory'),\n",
              " ('industries cycle', 'demographic big be Services', 'donors'),\n",
              " ('8,021', 'come former', 'pockets million 2016'),\n",
              " ('following', 'be top donor process * * *', 'campaign data'),\n",
              " ('They', 'give', 'PAC'),\n",
              " ('his', 'Mellon former be big cycle', 'fortune Secretary donations'),\n",
              " ('He which', 'own large regional', 'railroad America sale July'),\n",
              " ('He', 'be', 'politics'),\n",
              " ('operatives he', 'republican have', 'name Google'),\n",
              " ('Warren', 'Warren be founder', 'Transfers'),\n",
              " ('company Biden',\n",
              "  'base own controversial democratic',\n",
              "  'Pipeline which process'),\n",
              " ('Palmer buildings',\n",
              "  'Palmer be real magnate characteristic fauxtalian',\n",
              "  'Angeles style'),\n",
              " ('He', 'choose part Great American', 'Groups April'),\n",
              " ('McMahon', 'McMahon be', 'franchise husband'),\n",
              " ('She she', 'run chair', 'Administration 2017 PAC which millions'),\n",
              " ('Duggan', 'Duggan be top donor', ''),\n",
              " ('organization', 'donate super', 'name million PAC'),\n",
              " ('investor', 'Schwarzman close be chairman trade', 'president Group'),\n",
              " ('He', 'choose part Great American', 'Groups April'),\n",
              " ('She', 'Uihlein start giant', 'Uline husband basement 1980'),\n",
              " ('Liz',\n",
              "  'be part economic advisory covid-19',\n",
              "  'team 2016 call leaders response March'),\n",
              " ('Uihlein', 'donate', '750,000'),\n",
              " ('She', 'Hendricks be Richest make net', 'top Women worth billion'),\n",
              " ('She',\n",
              "  'founded large wholesale late',\n",
              "  'Supply products country husband 1982'),\n",
              " ('He which',\n",
              "  '9.warren Stephens be chairman hold financial by',\n",
              "  'firm 1933 uncle'),\n",
              " ('He', 'choose part Great American', 'Groups April'),\n",
              " ('Moskowitz', 'Moskowitz be president', 'Casino California'),\n",
              " ('She who', 'be widow prominent', 'Moskowitz 2016'),\n",
              " ('notables',\n",
              "  'other several give former husband',\n",
              "  'Family million Secretary Education'),\n",
              " ('Buckley that', 'trade donate', 'Corporation liquidation 2018 million'),\n",
              " ('Individuals funds',\n",
              "  'include base ambassador',\n",
              "  'million Cameron Mountaire Britain Exchange Exchange Championship'),\n",
              " ('We data', '* * continue more * * *', 'ranking')]"
            ]
          },
          "metadata": {
            "tags": []
          },
          "execution_count": 17
        }
      ]
    },
    {
      "cell_type": "code",
      "metadata": {
        "colab": {
          "base_uri": "https://localhost:8080/",
          "height": 895
        },
        "id": "MuC9RLJAhBBG",
        "outputId": "bd31022d-f11d-4974-8856-38e9f40a1d51"
      },
      "source": [
        "printGraph(triples)  "
      ],
      "execution_count": 18,
      "outputs": [
        {
          "output_type": "display_data",
          "data": {
            "image/png": "[encoded data removed]",
            "text/plain": [
              "<Figure size 864x864 with 1 Axes>"
            ]
          },
          "metadata": {
            "tags": []
          }
        }
      ]
    },
    {
      "cell_type": "markdown",
      "metadata": {
        "id": "BXLOzV5tTJIK"
      },
      "source": [
        "# Semantic Relationships - Not working\n",
        "\n",
        "https://programmerbackpack.com/python-knowledge-graph-understanding-semantic-relationships/"
      ]
    },
    {
      "cell_type": "code",
      "metadata": {
        "id": "RtNFlac4UAxK"
      },
      "source": [
        "from nltk import Tree\n",
        "\n",
        "def buildTree(token):\n",
        "    if token.n_lefts + token.n_rights > 0:\n",
        "        return Tree(token, [buildTree(child) for child in token.children])\n",
        "    else:\n",
        "        return buildTree(token)"
      ],
      "execution_count": 17,
      "outputs": []
    },
    {
      "cell_type": "code",
      "metadata": {
        "id": "3MLtDVTSUIye"
      },
      "source": [
        "class Relation:\n",
        "\n",
        "    __hypernym: str\n",
        "    __hyponym: str\n",
        "\n",
        "    def __init__(self, hypernym, hyponym):\n",
        "        self.__hypernym = hypernym\n",
        "        self.__hyponym = hyponym\n",
        "\n",
        "    def getHypernym(self):\n",
        "        return self.__hypernym\n",
        "\n",
        "    def getHyponym(self):\n",
        "        return self.__hyponym"
      ],
      "execution_count": 18,
      "outputs": []
    },
    {
      "cell_type": "code",
      "metadata": {
        "colab": {
          "base_uri": "https://localhost:8080/"
        },
        "id": "xQKsdjkXUTnm",
        "outputId": "9adfff38-7cdb-491d-c76c-ada2503c311a"
      },
      "source": [
        "!pip install relation"
      ],
      "execution_count": 20,
      "outputs": [
        {
          "output_type": "stream",
          "text": [
            "\u001b[31mERROR: Could not find a version that satisfies the requirement relation (from versions: none)\u001b[0m\n",
            "\u001b[31mERROR: No matching distribution found for relation\u001b[0m\n"
          ],
          "name": "stdout"
        }
      ]
    },
    {
      "cell_type": "code",
      "metadata": {
        "id": "a7Rq_7fSUQez"
      },
      "source": [
        "#from relation import Relation\n",
        "\n",
        "class RelationProvider:\n",
        "\n",
        "    __relations: [Relation]\n",
        "\n",
        "    def __init__(self, relations=[Relation]):\n",
        "        self.__relations = relations\n",
        "\n",
        "    def getRelations(self):\n",
        "        return self.__relations"
      ],
      "execution_count": 21,
      "outputs": []
    },
    {
      "cell_type": "code",
      "metadata": {
        "id": "ajT_XeVpU7Uk"
      },
      "source": [
        "#import wikipedia\n",
        "\n",
        "\n",
        "class TextExtractor:\n",
        "\n",
        "    __pageTitle: str\n",
        "    __pageId: str\n",
        "\n",
        "    def __init__(self, pageTitle, pageId):\n",
        "        self.__pageTitle = pageTitle\n",
        "        self.__pageId = pageId\n",
        "\n",
        "    def extract(self):\n",
        "        page = wikipedia.page(title=self.__pageTitle, pageid=self.__pageId)\n",
        "        f = open(\"./text/\" + self.__pageTitle + \".txt\", \"w\")\n",
        "        f.write(page.content)\n",
        "        f.close()\n",
        "\n",
        "    def getText(self):\n",
        "        f = open(\"./text/\" + self.__pageTitle + \".txt\", \"r\")\n",
        "        return f.read()"
      ],
      "execution_count": 22,
      "outputs": []
    },
    {
      "cell_type": "code",
      "metadata": {
        "id": "3eUCBvqJVCZz"
      },
      "source": [
        "#from text_extractor import TextExtractor\n",
        "\n",
        "\n",
        "class TextExtractorPipe:\n",
        "\n",
        "    __textExtractors: [TextExtractor]\n",
        "\n",
        "    def __init__(self):\n",
        "        self.__textExtractors = []\n",
        "\n",
        "    def addTextExtractor(self, textExtractor: TextExtractor):\n",
        "        self.__textExtractors.append(textExtractor)\n",
        "\n",
        "    def extract(self) -> str:\n",
        "        result = ''\n",
        "        for textExtractor in self.__textExtractors:\n",
        "            result = result + textExtractor.getText()\n",
        "        return result"
      ],
      "execution_count": 23,
      "outputs": []
    },
    {
      "cell_type": "code",
      "metadata": {
        "id": "gMqMCj38Vb2q"
      },
      "source": [
        "from spacy.matcher import Matcher\n",
        "from abc import abstractmethod\n",
        "from spacy.tokens import Doc\n",
        "# from relation import Relation\n",
        "\n",
        "\n",
        "class PatternMatcher:\n",
        "\n",
        "\n",
        "    def __init__(self, pattern, nlp, matcherId):\n",
        "        self._nlp = nlp\n",
        "        self._matcher = Matcher(nlp.vocab)\n",
        "        self._matcher.add(matcherId, None, pattern)\n",
        "\n",
        "    @abstractmethod\n",
        "    def getRelations(self, doc: Doc) -> [Relation]:\n",
        "        ..."
      ],
      "execution_count": 24,
      "outputs": []
    },
    {
      "cell_type": "code",
      "metadata": {
        "id": "wNCs-sAMWxkw"
      },
      "source": [
        "# from pattern_matcher import PatternMatcher\n",
        "from spacy.tokens import Doc\n",
        "# from relation import Relation\n",
        "\n",
        "\n",
        "class AndOtherPatternMatcher(PatternMatcher):\n",
        "\n",
        "\n",
        "    def __init__(self, nlp):\n",
        "        pattern = [{'POS': 'NOUN'},\n",
        "                   {'LOWER': 'and'},\n",
        "                   {'LOWER': 'other'},\n",
        "                   {'POS': 'NOUN'}]\n",
        "        PatternMatcher.__init__(self, pattern, nlp, \"andOther\")\n",
        "\n",
        "    def getRelations(self, doc: Doc) -> [Relation]:\n",
        "        relations = []\n",
        "        matches = self._matcher(doc)\n",
        "        for match_id, start, end in matches:\n",
        "            span = doc[start:end]\n",
        "            firstToken = span.root.head\n",
        "            results = [firstToken]\n",
        "            while firstToken and firstToken.head.pos_ == \"NOUN\":\n",
        "                results.append(firstToken.head)\n",
        "                firstToken = firstToken.head\n",
        "            hypernym = span.text.split()[-1]\n",
        "            relations.append(Relation(hypernym, span.text.split()[0]))\n",
        "            if len(results) > 0:\n",
        "                for result in results:\n",
        "                    relations.append(Relation(hypernym, result.text))\n",
        "        return relations"
      ],
      "execution_count": 25,
      "outputs": []
    },
    {
      "cell_type": "markdown",
      "metadata": {
        "id": "ccaUlqZEXE_t"
      },
      "source": [
        "## Implementation"
      ]
    },
    {
      "cell_type": "code",
      "metadata": {
        "colab": {
          "base_uri": "https://localhost:8080/",
          "height": 161
        },
        "id": "gdsrpF89XG06",
        "outputId": "1ea4f46c-3f1a-4313-ae17-c4d31ea33eea"
      },
      "source": [
        "hypernym = span.text.split()[-1]"
      ],
      "execution_count": 26,
      "outputs": [
        {
          "output_type": "error",
          "ename": "NameError",
          "evalue": "ignored",
          "traceback": [
            "\u001b[0;31m---------------------------------------------------------------------------\u001b[0m",
            "\u001b[0;31mNameError\u001b[0m                                 Traceback (most recent call last)",
            "\u001b[0;32m<ipython-input-26-bf7b7a5a4649>\u001b[0m in \u001b[0;36m<module>\u001b[0;34m()\u001b[0m\n\u001b[0;32m----> 1\u001b[0;31m \u001b[0mhypernym\u001b[0m \u001b[0;34m=\u001b[0m \u001b[0mspan\u001b[0m\u001b[0;34m.\u001b[0m\u001b[0mtext\u001b[0m\u001b[0;34m.\u001b[0m\u001b[0msplit\u001b[0m\u001b[0;34m(\u001b[0m\u001b[0;34m)\u001b[0m\u001b[0;34m[\u001b[0m\u001b[0;34m-\u001b[0m\u001b[0;36m1\u001b[0m\u001b[0;34m]\u001b[0m\u001b[0;34m\u001b[0m\u001b[0;34m\u001b[0m\u001b[0m\n\u001b[0m",
            "\u001b[0;31mNameError\u001b[0m: name 'span' is not defined"
          ]
        }
      ]
    },
    {
      "cell_type": "code",
      "metadata": {
        "colab": {
          "base_uri": "https://localhost:8080/",
          "height": 161
        },
        "id": "tMsbmF5lZbk7",
        "outputId": "4dc22011-18e6-4f9b-f14c-fd13b03d1138"
      },
      "source": [
        "relations.append(Relation(hypernym, span.text.split()[0]))"
      ],
      "execution_count": 27,
      "outputs": [
        {
          "output_type": "error",
          "ename": "NameError",
          "evalue": "ignored",
          "traceback": [
            "\u001b[0;31m---------------------------------------------------------------------------\u001b[0m",
            "\u001b[0;31mNameError\u001b[0m                                 Traceback (most recent call last)",
            "\u001b[0;32m<ipython-input-27-a35e971376ac>\u001b[0m in \u001b[0;36m<module>\u001b[0;34m()\u001b[0m\n\u001b[0;32m----> 1\u001b[0;31m \u001b[0mrelations\u001b[0m\u001b[0;34m.\u001b[0m\u001b[0mappend\u001b[0m\u001b[0;34m(\u001b[0m\u001b[0mRelation\u001b[0m\u001b[0;34m(\u001b[0m\u001b[0mhypernym\u001b[0m\u001b[0;34m,\u001b[0m \u001b[0mspan\u001b[0m\u001b[0;34m.\u001b[0m\u001b[0mtext\u001b[0m\u001b[0;34m.\u001b[0m\u001b[0msplit\u001b[0m\u001b[0;34m(\u001b[0m\u001b[0;34m)\u001b[0m\u001b[0;34m[\u001b[0m\u001b[0;36m0\u001b[0m\u001b[0;34m]\u001b[0m\u001b[0;34m)\u001b[0m\u001b[0;34m)\u001b[0m\u001b[0;34m\u001b[0m\u001b[0;34m\u001b[0m\u001b[0m\n\u001b[0m",
            "\u001b[0;31mNameError\u001b[0m: name 'relations' is not defined"
          ]
        }
      ]
    },
    {
      "cell_type": "code",
      "metadata": {
        "id": "5crsMzswah_c"
      },
      "source": [
        "# from pattern_matcher import PatternMatcher\n",
        "from spacy.tokens import Doc\n",
        "# from relation import Relation\n",
        "\n",
        "\n",
        "class OrOtherPatternMatcher(PatternMatcher):\n",
        "\n",
        "    def __init__(self, nlp):\n",
        "        pattern = [{'POS': 'NOUN'},\n",
        "                   {'LOWER': 'or'},\n",
        "                   {'LOWER': 'other'},\n",
        "                   {'POS': 'NOUN'}]\n",
        "        PatternMatcher.__init__(self, pattern, nlp, \"orOther\")\n",
        "\n",
        "    def getRelations(self, doc: Doc) -> [Relation]:\n",
        "        relations = []\n",
        "        matches = self._matcher(doc)\n",
        "        for match_id, start, end in matches:\n",
        "            span = doc[start:end]\n",
        "            firstToken = span.root.head\n",
        "            results = [firstToken]\n",
        "            while firstToken and firstToken.head.pos_ == \"NOUN\":\n",
        "                results.append(firstToken.head)\n",
        "                firstToken = firstToken.head\n",
        "            hypernym = span.text.split()[-1]\n",
        "            relations.append(Relation(hypernym, span.text.split()[0]))\n",
        "            if len(results) > 0:\n",
        "                for result in results:\n",
        "                    relations.append(Relation(hypernym, result.text))\n",
        "        return relations"
      ],
      "execution_count": 28,
      "outputs": []
    },
    {
      "cell_type": "code",
      "metadata": {
        "id": "ijhcA9qbasIS"
      },
      "source": [
        "# from pattern_matcher import PatternMatcher\n",
        "from spacy.tokens import Doc\n",
        "# from relation import Relation\n",
        "\n",
        "\n",
        "class EspeciallyPatternMatcher(PatternMatcher):\n",
        "\n",
        "    def __init__(self, nlp):\n",
        "        pattern = [{'POS': 'NOUN'},\n",
        "                   {'IS_PUNCT': True, 'OP': '?'},\n",
        "                   {'LOWER': 'especially'},\n",
        "                   {'POS': 'NOUN'}]\n",
        "        PatternMatcher.__init__(self, pattern, nlp, \"especially\")\n",
        "\n",
        "    def getRelations(self, doc: Doc) -> [Relation]:\n",
        "        relations = []\n",
        "        matches = self._matcher(doc)\n",
        "        for match_id, start, end in matches:\n",
        "            span = doc[start:end]\n",
        "            candidates = set()\n",
        "            for sent in doc.sents:\n",
        "                for token in sent:\n",
        "                    # Find relation\n",
        "                    if token.i == span.root.i:\n",
        "                        for token2 in sent:\n",
        "                            # First hyponym\n",
        "                            if token2.head.i == token.i:\n",
        "                                for token3 in sent:\n",
        "                                    startToken = token3\n",
        "                                    while startToken and startToken.head.i != sent.root.i and startToken.i != token2.i:\n",
        "                                        if startToken.pos_ == \"NOUN\":\n",
        "                                            candidates.add(startToken)\n",
        "                                        startToken = startToken.head\n",
        "            if len(candidates) > 0:\n",
        "                hypernym = span.text.split()[0].replace(',', '')\n",
        "                for candidate in candidates:\n",
        "                    relations.append(Relation(hypernym, candidate.text))\n",
        "\n",
        "        return relations"
      ],
      "execution_count": 29,
      "outputs": []
    },
    {
      "cell_type": "code",
      "metadata": {
        "id": "wGOhrSNGbIsa"
      },
      "source": [
        "# from pattern_matcher import PatternMatcher\n",
        "from spacy.tokens import Doc\n",
        "# from relation import Relation\n",
        "\n",
        "\n",
        "class IncludingPatternMatcher(PatternMatcher):\n",
        "\n",
        "    def __init__(self, nlp):\n",
        "        pattern = [{'POS': 'NOUN'},\n",
        "                   {'IS_PUNCT': True, 'OP': '?'},\n",
        "                   {'LOWER': 'including'},\n",
        "                   {'POS': 'NOUN'}]\n",
        "        PatternMatcher.__init__(self, pattern, nlp, \"including\")\n",
        "\n",
        "    def getRelations(self, doc: Doc) -> [Relation]:\n",
        "        relations = []\n",
        "        matches = self._matcher(doc)\n",
        "        for match_id, start, end in matches:\n",
        "            span = doc[start:end]\n",
        "            for sent in doc.sents:\n",
        "                for token in sent:\n",
        "                    # Find the relation\n",
        "                    if token.text == \"including\" and token.head.i == span.root.i:\n",
        "                        for token2 in sent:\n",
        "                            # First hyponym\n",
        "                            if token2.head.i == token.i:\n",
        "                                results = set()\n",
        "                                results.add(span.text.split()[-1])\n",
        "                                # Other hyponyms\n",
        "                                for token3 in sent:\n",
        "                                    startToken = token3\n",
        "                                    while startToken and startToken.head.i != sent.root.i and startToken.i != token2.i:\n",
        "                                        if startToken.pos_ == \"NOUN\":\n",
        "                                            results.add(startToken.text)\n",
        "                                        startToken = startToken.head\n",
        "                                if len(results) > 0:\n",
        "                                    hypernym = span.text.split()[0].replace(',', '')\n",
        "                                    for result in results:\n",
        "                                        relations.append(Relation(hypernym, result))\n",
        "        return relations"
      ],
      "execution_count": 30,
      "outputs": []
    },
    {
      "cell_type": "code",
      "metadata": {
        "id": "ozddjOdLbUD8"
      },
      "source": [
        "# from pattern_matcher import PatternMatcher\n",
        "from spacy.tokens import Doc\n",
        "# from relation import Relation\n",
        "\n",
        "\n",
        "class SuchAsPatternMatcher(PatternMatcher):\n",
        "\n",
        "\n",
        "    def __init__(self, nlp):\n",
        "        pattern = [{'POS': 'NOUN'},\n",
        "                   {'IS_PUNCT': True, 'OP': '?'},\n",
        "                   {'LOWER': 'such'},\n",
        "                   {'LOWER': 'as'},\n",
        "                   {'POS': 'NOUN'}]\n",
        "        PatternMatcher.__init__(self, pattern, nlp, \"suchAs\")\n",
        "\n",
        "    def getRelations(self, doc: Doc) -> [Relation]:\n",
        "        relations = []\n",
        "        matches = self._matcher(doc)\n",
        "        for match_id, start, end in matches:\n",
        "            span = doc[start:end]\n",
        "            hypernym = span.root.text\n",
        "            hyponym = span.text.split()[-1]\n",
        "            relations.append(Relation(hypernym, hyponym))\n",
        "            for right in span.rights:\n",
        "                if right.pos_ == \"NOUN\":\n",
        "                    relations.append(Relation(hypernym, right.text))\n",
        "        return relations"
      ],
      "execution_count": 31,
      "outputs": []
    },
    {
      "cell_type": "code",
      "metadata": {
        "id": "_pmWllL0bpYe"
      },
      "source": [
        "# from pattern_matcher import PatternMatcher\n",
        "# from relation import Relation\n",
        "from spacy.tokens import Doc\n",
        "\n",
        "\n",
        "class MatcherPipe:\n",
        "\n",
        "    __matchers: [PatternMatcher]\n",
        "\n",
        "    def __init__(self):\n",
        "        self.__matchers = []\n",
        "\n",
        "    def addMatcher(self, matcher: PatternMatcher):\n",
        "        self.__matchers.append(matcher)\n",
        "\n",
        "    def extract(self, doc: Doc) -> [Relation]:\n",
        "        results = []\n",
        "        for matcher in self.__matchers:\n",
        "            results.extend(matcher.getRelations(doc))\n",
        "        return results"
      ],
      "execution_count": 33,
      "outputs": []
    },
    {
      "cell_type": "markdown",
      "metadata": {
        "id": "yr0Kkk12cBML"
      },
      "source": [
        "## knowledge_graph.py"
      ]
    },
    {
      "cell_type": "code",
      "metadata": {
        "id": "EiiNuAWVb5BT"
      },
      "source": [
        "# from relation import Relation\n",
        "import networkx as nx\n",
        "import matplotlib.pyplot as plt\n",
        "\n",
        "class KnowledgeGraph:\n",
        "\n",
        "    __relations: [Relation]\n",
        "    __graph: nx.Graph\n",
        "    __colors: {}\n",
        "\n",
        "    def __init__(self, relations):\n",
        "        self.__relations = relations\n",
        "        self.__graph = nx.Graph()\n",
        "        self.__colors = {}\n",
        "\n",
        "    def build(self):\n",
        "        for relation in self.__relations:\n",
        "            self.__graph.add_node(relation.getHypernym())\n",
        "            self.__colors[relation.getHypernym()] = '#e34234'\n",
        "            self.__graph.add_node(relation.getHyponym())\n",
        "            self.__colors[relation.getHyponym()] = '#009966'\n",
        "            self.__graph.add_edge(relation.getHypernym(), relation.getHyponym())\n",
        "\n",
        "    def show(self):\n",
        "        pos = nx.spring_layout(self.__graph)\n",
        "        plt.figure()\n",
        "        colorMap = []\n",
        "        for node in self.__graph.nodes:\n",
        "            colorMap.append(self.__colors[node])\n",
        "        nx.draw(self.__graph, pos, edge_color='black', width=1, linewidths=1,\n",
        "                node_size=500, node_color=colorMap, alpha=0.9,\n",
        "                labels={node: node for node in self.__graph.nodes()})\n",
        "        plt.axis('off')\n",
        "        plt.show()"
      ],
      "execution_count": 34,
      "outputs": []
    },
    {
      "cell_type": "markdown",
      "metadata": {
        "id": "Ahu1FkAMd6zs"
      },
      "source": [
        "## build_knowledge_graph.py"
      ]
    },
    {
      "cell_type": "code",
      "metadata": {
        "id": "XuXef_tyd0F9"
      },
      "source": [
        "from text_extractor import TextExtractor\n",
        "from and_other_pattern_matcher import AndOtherPatternMatcher\n",
        "from such_as_pattern_matcher import SuchAsPatternMatcher\n",
        "from or_other_pattern_matcher import OrOtherPatternMatcher\n",
        "from including_pattern_matcher import IncludingPatternMatcher\n",
        "from especially_pattern_matcher import EspeciallyPatternMatcher\n",
        "from text_extractor_pipe import TextExtractorPipe\n",
        "from knowledge_graph import KnowledgeGraph\n",
        "from matcher_pipe import MatcherPipe\n",
        "import spacy\n",
        "\n",
        "textExtractor1 = TextExtractor(\"WWII\", \"Q362\")\n",
        "textExtractor1.extract()\n",
        "textExtractor2 = TextExtractor(\"London\", \"Q84\")\n",
        "textExtractor2.extract()\n",
        "textExtractor3 = TextExtractor(\"Paris\", \"Q90\")\n",
        "textExtractor3.extract()\n",
        "textExtractor4 = TextExtractor(\"World War I\", \"Q361\")\n",
        "textExtractor4.extract()\n",
        "textExtractorPipe = TextExtractorPipe()\n",
        "textExtractorPipe.addTextExtractor(textExtractor1)\n",
        "textExtractorPipe.addTextExtractor(textExtractor2)\n",
        "textExtractorPipe.addTextExtractor(textExtractor3)\n",
        "textExtractorPipe.addTextExtractor(textExtractor4)\n",
        "\n",
        "\n",
        "nlp = spacy.load('en_core_web_sm')\n",
        "nlp.add_pipe(nlp.create_pipe('sentencizer')) # updated\n",
        "doc = nlp(textExtractorPipe.extract())\n",
        "\n",
        "andOtherPatternMatcher = AndOtherPatternMatcher(nlp)\n",
        "suchAsMatcher = SuchAsPatternMatcher(nlp)\n",
        "orOtherMatcher = OrOtherPatternMatcher(nlp)\n",
        "includingPatternMatcher = IncludingPatternMatcher(nlp)\n",
        "especiallyPatternMatcher = EspeciallyPatternMatcher(nlp)\n",
        "matcherPipe = MatcherPipe()\n",
        "matcherPipe.addMatcher(andOtherPatternMatcher)\n",
        "matcherPipe.addMatcher(suchAsMatcher)\n",
        "matcherPipe.addMatcher(orOtherMatcher)\n",
        "matcherPipe.addMatcher(includingPatternMatcher)\n",
        "matcherPipe.addMatcher(especiallyPatternMatcher)\n",
        "relations = matcherPipe.extract(doc)\n",
        "\n",
        "for relation in relations:\n",
        "    print (relation.getHypernym(), relation.getHyponym())\n",
        "\n",
        "knowledgeGraph = KnowledgeGraph(relations)\n",
        "knowledgeGraph.build()\n",
        "knowledgeGraph.show()"
      ],
      "execution_count": null,
      "outputs": []
    },
    {
      "cell_type": "markdown",
      "metadata": {
        "id": "JfCYXxL3hRMU"
      },
      "source": [
        "# Upgrade Mehtods"
      ]
    },
    {
      "cell_type": "code",
      "metadata": {
        "id": "PMQWL6MChT2E"
      },
      "source": [
        "import re\n",
        "import pandas as pd\n",
        "import bs4\n",
        "import requests\n",
        "import spacy\n",
        "from spacy import displacy\n",
        "nlp = spacy.load('en_core_web_sm')\n",
        "\n",
        "from spacy.matcher import Matcher \n",
        "from spacy.tokens import Span \n",
        "\n",
        "import networkx as nx\n",
        "\n",
        "import matplotlib.pyplot as plt\n",
        "from tqdm import tqdm\n",
        "\n",
        "pd.set_option('display.max_colwidth', 200)\n",
        "%matplotlib inline"
      ],
      "execution_count": 12,
      "outputs": []
    },
    {
      "cell_type": "markdown",
      "metadata": {
        "id": "jgwijOWfkdVu"
      },
      "source": [
        "## Input Test"
      ]
    },
    {
      "cell_type": "code",
      "metadata": {
        "id": "xMlE2qXHSi_7"
      },
      "source": [
        "text = '''This April, Mr. Mellon gave another $10 million, this time to President Trump’s super PAC,\n",
        " America First Action, the only Trump-endorsed fund-raising group permitted to collect unlimited \n",
        " contributions. The fact that an outsider like Mr. Mellon has emerged as one of the few \n",
        " supporters willing to be so generous illustrates a surprising problem for the president: \n",
        " his struggle to attract and retain a reliable stable of millionaires and billionaires willing \n",
        " to write seven-figure checks, despite his takeover of the Republican \n",
        "Party and a policy agenda that largely serves the interests of America’s ultrawealthy. '''"
      ],
      "execution_count": 13,
      "outputs": []
    },
    {
      "cell_type": "code",
      "metadata": {
        "id": "zkff6mO2FeKR"
      },
      "source": [
        "article = text"
      ],
      "execution_count": 14,
      "outputs": []
    },
    {
      "cell_type": "code",
      "metadata": {
        "colab": {
          "base_uri": "https://localhost:8080/",
          "height": 118
        },
        "id": "2d7m8znDtRPL",
        "outputId": "f04d4984-4c6c-47c3-ed5a-632be68cea4f"
      },
      "source": [
        "text"
      ],
      "execution_count": 19,
      "outputs": [
        {
          "output_type": "execute_result",
          "data": {
            "application/vnd.google.colaboratory.intrinsic+json": {
              "type": "string"
            },
            "text/plain": [
              "'This April, Mr. Mellon gave another $10 million, this time to President Trump’s super PAC,\\n America First Action, the only Trump-endorsed fund-raising group permitted to collect unlimited \\n contributions. The fact that an outsider like Mr. Mellon has emerged as one of the few \\n supporters willing to be so generous illustrates a surprising problem for the president: \\n his struggle to attract and retain a reliable stable of millionaires and billionaires willing \\n to write seven-figure checks, despite his takeover of the Republican \\nParty and a policy agenda that largely serves the interests of America’s ultrawealthy. '"
            ]
          },
          "metadata": {
            "tags": []
          },
          "execution_count": 19
        }
      ]
    },
    {
      "cell_type": "code",
      "metadata": {
        "id": "EljsdQlmBj9n"
      },
      "source": [
        "text = article\n",
        "summary = article"
      ],
      "execution_count": 15,
      "outputs": []
    },
    {
      "cell_type": "markdown",
      "metadata": {
        "id": "gHff51zZRMWR"
      },
      "source": [
        "## get_NER"
      ]
    },
    {
      "cell_type": "code",
      "metadata": {
        "colab": {
          "base_uri": "https://localhost:8080/"
        },
        "id": "i7Ud-rObiJVA",
        "outputId": "8ae1ccb1-639c-42c2-f9d2-4201c7ac1314"
      },
      "source": [
        "doc = nlp(\"Mellon from Pan Am Systems donated $10 million to Trump's campaign.\")\n",
        "\n",
        "for tok in doc:\n",
        "  print(tok.text, \"...\", tok.dep_, \"....\", tok.ent_type_)"
      ],
      "execution_count": 13,
      "outputs": [
        {
          "output_type": "stream",
          "text": [
            "Mellon ... nsubj .... ORG\n",
            "from ... prep .... \n",
            "Pan ... compound .... ORG\n",
            "Am ... compound .... ORG\n",
            "Systems ... pobj .... ORG\n",
            "donated ... ROOT .... \n",
            "$ ... quantmod .... MONEY\n",
            "10 ... compound .... MONEY\n",
            "million ... dobj .... MONEY\n",
            "to ... prep .... \n",
            "Trump ... poss .... PERSON\n",
            "'s ... case .... \n",
            "campaign ... pobj .... \n",
            ". ... punct .... \n"
          ],
          "name": "stdout"
        }
      ]
    },
    {
      "cell_type": "code",
      "metadata": {
        "colab": {
          "base_uri": "https://localhost:8080/"
        },
        "id": "vaF_mdZOlBg1",
        "outputId": "f3f7b2d1-3124-4d79-f97a-bb54a63fec6a"
      },
      "source": [
        "doc = nlp(\"Mellon gave 100 million donation to Trump's campaign\")\n",
        "\n",
        "for tok in doc:\n",
        "  print(tok.text, \"...\", tok.dep_, \"....\", tok.ent_type_)"
      ],
      "execution_count": 14,
      "outputs": [
        {
          "output_type": "stream",
          "text": [
            "Mellon ... nsubj .... ORG\n",
            "gave ... ROOT .... \n",
            "100 ... compound .... CARDINAL\n",
            "million ... nummod .... CARDINAL\n",
            "donation ... dobj .... \n",
            "to ... prep .... \n",
            "Trump ... poss .... PERSON\n",
            "'s ... case .... \n",
            "campaign ... pobj .... \n"
          ],
          "name": "stdout"
        }
      ]
    },
    {
      "cell_type": "code",
      "metadata": {
        "colab": {
          "base_uri": "https://localhost:8080/"
        },
        "id": "LRyKfRzpiCLM",
        "outputId": "317ab3eb-dbe9-4cea-c0b9-beb784467967"
      },
      "source": [
        "doc = nlp(summary)\n",
        "\n",
        "for tok in doc:\n",
        "  #print(tok.text, \"...\", tok.dep_, \"--\", tok.ent_type_)\n",
        "  print(tok.text, \"-->\",tok.dep_,\"-->\", tok.pos_)\n",
        "  #print(tok.text, '=>',tok.pos_,'=>',tok.tag_)\n",
        "  #print(\"#########\")"
      ],
      "execution_count": 16,
      "outputs": [
        {
          "output_type": "stream",
          "text": [
            "This --> det --> DET\n",
            "April --> npadvmod --> PROPN\n",
            ", --> punct --> PUNCT\n",
            "Mr. --> compound --> PROPN\n",
            "Mellon --> nsubj --> PROPN\n",
            "gave --> ROOT --> VERB\n",
            "another --> det --> DET\n",
            "$ --> quantmod --> SYM\n",
            "10 --> compound --> NUM\n",
            "million --> dobj --> NUM\n",
            ", --> punct --> PUNCT\n",
            "this --> det --> DET\n",
            "time --> npadvmod --> NOUN\n",
            "to --> prep --> ADP\n",
            "President --> compound --> PROPN\n",
            "Trump --> nmod --> PROPN\n",
            "’s --> punct --> PART\n",
            "super --> amod --> ADJ\n",
            "PAC --> pobj --> NOUN\n",
            ", --> punct --> PUNCT\n",
            "\n",
            "  -->  --> SPACE\n",
            "America --> compound --> PROPN\n",
            "First --> compound --> PROPN\n",
            "Action --> appos --> PROPN\n",
            ", --> punct --> PUNCT\n",
            "the --> det --> DET\n",
            "only --> amod --> ADJ\n",
            "Trump --> npadvmod --> PROPN\n",
            "- --> punct --> PUNCT\n",
            "endorsed --> amod --> VERB\n",
            "fund --> npadvmod --> NOUN\n",
            "- --> punct --> PUNCT\n",
            "raising --> amod --> VERB\n",
            "group --> nsubj --> NOUN\n",
            "permitted --> acl --> VERB\n",
            "to --> aux --> PART\n",
            "collect --> xcomp --> VERB\n",
            "unlimited --> amod --> ADJ\n",
            "\n",
            "  -->  --> SPACE\n",
            "contributions --> dobj --> NOUN\n",
            ". --> punct --> PUNCT\n",
            "The --> det --> DET\n",
            "fact --> nsubj --> NOUN\n",
            "that --> mark --> SCONJ\n",
            "an --> det --> DET\n",
            "outsider --> nsubj --> NOUN\n",
            "like --> prep --> SCONJ\n",
            "Mr. --> compound --> PROPN\n",
            "Mellon --> pobj --> PROPN\n",
            "has --> aux --> AUX\n",
            "emerged --> acl --> VERB\n",
            "as --> prep --> SCONJ\n",
            "one --> pobj --> NUM\n",
            "of --> prep --> ADP\n",
            "the --> det --> DET\n",
            "few --> amod --> ADJ\n",
            "\n",
            "  -->  --> SPACE\n",
            "supporters --> pobj --> NOUN\n",
            "willing --> amod --> ADJ\n",
            "to --> aux --> PART\n",
            "be --> xcomp --> AUX\n",
            "so --> advmod --> ADV\n",
            "generous --> acomp --> ADJ\n",
            "illustrates --> ROOT --> NOUN\n",
            "a --> det --> DET\n",
            "surprising --> amod --> ADJ\n",
            "problem --> dobj --> NOUN\n",
            "for --> prep --> ADP\n",
            "the --> det --> DET\n",
            "president --> pobj --> NOUN\n",
            ": --> punct --> PUNCT\n",
            "\n",
            "  -->  --> SPACE\n",
            "his --> poss --> DET\n",
            "struggle --> dobj --> NOUN\n",
            "to --> aux --> PART\n",
            "attract --> acl --> VERB\n",
            "and --> cc --> CCONJ\n",
            "retain --> conj --> VERB\n",
            "a --> det --> DET\n",
            "reliable --> amod --> ADJ\n",
            "stable --> dobj --> NOUN\n",
            "of --> prep --> ADP\n",
            "millionaires --> pobj --> NOUN\n",
            "and --> cc --> CCONJ\n",
            "billionaires --> conj --> VERB\n",
            "willing --> dobj --> ADJ\n",
            "\n",
            "  -->  --> SPACE\n",
            "to --> aux --> PART\n",
            "write --> advcl --> VERB\n",
            "seven --> nummod --> NUM\n",
            "- --> punct --> PUNCT\n",
            "figure --> compound --> NOUN\n",
            "checks --> dobj --> NOUN\n",
            ", --> punct --> PUNCT\n",
            "despite --> prep --> SCONJ\n",
            "his --> poss --> DET\n",
            "takeover --> pobj --> NOUN\n",
            "of --> prep --> ADP\n",
            "the --> det --> DET\n",
            "Republican --> nmod --> PROPN\n",
            "\n",
            " -->  --> SPACE\n",
            "Party --> pobj --> PROPN\n",
            "and --> cc --> CCONJ\n",
            "a --> det --> DET\n",
            "policy --> compound --> NOUN\n",
            "agenda --> conj --> NOUN\n",
            "that --> nsubj --> DET\n",
            "largely --> advmod --> ADV\n",
            "serves --> relcl --> VERB\n",
            "the --> det --> DET\n",
            "interests --> dobj --> NOUN\n",
            "of --> prep --> ADP\n",
            "America --> pobj --> PROPN\n",
            "’s --> punct --> PART\n",
            "ultrawealthy --> advcl --> ADJ\n",
            ". --> punct --> PUNCT\n"
          ],
          "name": "stdout"
        }
      ]
    },
    {
      "cell_type": "markdown",
      "metadata": {
        "id": "jAV2RwCHRQQR"
      },
      "source": [
        "### Visualize NER"
      ]
    },
    {
      "cell_type": "code",
      "metadata": {
        "colab": {
          "base_uri": "https://localhost:8080/",
          "height": 261
        },
        "id": "B3SZCTx6RStw",
        "outputId": "6d82c905-faae-4730-c535-74ed3a426485"
      },
      "source": [
        "displacy.render(doc, style='ent', jupyter=True)"
      ],
      "execution_count": 22,
      "outputs": [
        {
          "output_type": "display_data",
          "data": {
            "text/html": [
              "<span class=\"tex2jax_ignore\"><div class=\"entities\" style=\"line-height: 2.5; direction: ltr\">\n",
              "<mark class=\"entity\" style=\"background: #bfe1d9; padding: 0.45em 0.6em; margin: 0 0.25em; line-height: 1; border-radius: 0.35em;\">\n",
              "    This April\n",
              "    <span style=\"font-size: 0.8em; font-weight: bold; line-height: 1; border-radius: 0.35em; text-transform: uppercase; vertical-align: middle; margin-left: 0.5rem\">DATE</span>\n",
              "</mark>\n",
              ", Mr. \n",
              "<mark class=\"entity\" style=\"background: #aa9cfc; padding: 0.45em 0.6em; margin: 0 0.25em; line-height: 1; border-radius: 0.35em;\">\n",
              "    Mellon\n",
              "    <span style=\"font-size: 0.8em; font-weight: bold; line-height: 1; border-radius: 0.35em; text-transform: uppercase; vertical-align: middle; margin-left: 0.5rem\">PERSON</span>\n",
              "</mark>\n",
              " gave another \n",
              "<mark class=\"entity\" style=\"background: #e4e7d2; padding: 0.45em 0.6em; margin: 0 0.25em; line-height: 1; border-radius: 0.35em;\">\n",
              "    $10 million\n",
              "    <span style=\"font-size: 0.8em; font-weight: bold; line-height: 1; border-radius: 0.35em; text-transform: uppercase; vertical-align: middle; margin-left: 0.5rem\">MONEY</span>\n",
              "</mark>\n",
              ", this time to President \n",
              "<mark class=\"entity\" style=\"background: #aa9cfc; padding: 0.45em 0.6em; margin: 0 0.25em; line-height: 1; border-radius: 0.35em;\">\n",
              "    Trump\n",
              "    <span style=\"font-size: 0.8em; font-weight: bold; line-height: 1; border-radius: 0.35em; text-transform: uppercase; vertical-align: middle; margin-left: 0.5rem\">PERSON</span>\n",
              "</mark>\n",
              "’s super \n",
              "<mark class=\"entity\" style=\"background: #7aecec; padding: 0.45em 0.6em; margin: 0 0.25em; line-height: 1; border-radius: 0.35em;\">\n",
              "    PAC\n",
              "    <span style=\"font-size: 0.8em; font-weight: bold; line-height: 1; border-radius: 0.35em; text-transform: uppercase; vertical-align: middle; margin-left: 0.5rem\">ORG</span>\n",
              "</mark>\n",
              ",</br> \n",
              "<mark class=\"entity\" style=\"background: #7aecec; padding: 0.45em 0.6em; margin: 0 0.25em; line-height: 1; border-radius: 0.35em;\">\n",
              "    America First Action\n",
              "    <span style=\"font-size: 0.8em; font-weight: bold; line-height: 1; border-radius: 0.35em; text-transform: uppercase; vertical-align: middle; margin-left: 0.5rem\">ORG</span>\n",
              "</mark>\n",
              ", the only \n",
              "<mark class=\"entity\" style=\"background: #bfeeb7; padding: 0.45em 0.6em; margin: 0 0.25em; line-height: 1; border-radius: 0.35em;\">\n",
              "    Trump\n",
              "    <span style=\"font-size: 0.8em; font-weight: bold; line-height: 1; border-radius: 0.35em; text-transform: uppercase; vertical-align: middle; margin-left: 0.5rem\">PRODUCT</span>\n",
              "</mark>\n",
              "-endorsed fund-raising group permitted to collect unlimited </br> contributions. The fact that an outsider like Mr. \n",
              "<mark class=\"entity\" style=\"background: #aa9cfc; padding: 0.45em 0.6em; margin: 0 0.25em; line-height: 1; border-radius: 0.35em;\">\n",
              "    Mellon\n",
              "    <span style=\"font-size: 0.8em; font-weight: bold; line-height: 1; border-radius: 0.35em; text-transform: uppercase; vertical-align: middle; margin-left: 0.5rem\">PERSON</span>\n",
              "</mark>\n",
              " has emerged as one of the few </br> supporters willing to be so generous illustrates a surprising problem for the president: </br> his struggle to attract and retain a reliable stable of millionaires and billionaires willing </br> to write \n",
              "<mark class=\"entity\" style=\"background: #e4e7d2; padding: 0.45em 0.6em; margin: 0 0.25em; line-height: 1; border-radius: 0.35em;\">\n",
              "    seven\n",
              "    <span style=\"font-size: 0.8em; font-weight: bold; line-height: 1; border-radius: 0.35em; text-transform: uppercase; vertical-align: middle; margin-left: 0.5rem\">CARDINAL</span>\n",
              "</mark>\n",
              "-figure checks, despite his takeover of \n",
              "<mark class=\"entity\" style=\"background: #7aecec; padding: 0.45em 0.6em; margin: 0 0.25em; line-height: 1; border-radius: 0.35em;\">\n",
              "    the Republican \n",
              "Party\n",
              "    <span style=\"font-size: 0.8em; font-weight: bold; line-height: 1; border-radius: 0.35em; text-transform: uppercase; vertical-align: middle; margin-left: 0.5rem\">ORG</span>\n",
              "</mark>\n",
              " and a policy agenda that largely serves the interests of \n",
              "<mark class=\"entity\" style=\"background: #feca74; padding: 0.45em 0.6em; margin: 0 0.25em; line-height: 1; border-radius: 0.35em;\">\n",
              "    America\n",
              "    <span style=\"font-size: 0.8em; font-weight: bold; line-height: 1; border-radius: 0.35em; text-transform: uppercase; vertical-align: middle; margin-left: 0.5rem\">GPE</span>\n",
              "</mark>\n",
              "’s ultrawealthy. </div></span>"
            ],
            "text/plain": [
              "<IPython.core.display.HTML object>"
            ]
          },
          "metadata": {
            "tags": []
          }
        }
      ]
    },
    {
      "cell_type": "markdown",
      "metadata": {
        "id": "XgZUEhWIddAZ"
      },
      "source": [
        "### Visualize POS\n",
        "\n",
        "https://stackabuse.com/python-for-nlp-parts-of-speech-tagging-and-named-entity-recognition/"
      ]
    },
    {
      "cell_type": "code",
      "metadata": {
        "colab": {
          "base_uri": "https://localhost:8080/",
          "height": 730
        },
        "id": "8PYHqlssdwTU",
        "outputId": "361bd64b-3619-4dfc-c25a-4e32889315a9"
      },
      "source": [
        "displacy.render(doc, style='dep', jupyter=True, options={'distance': 85})"
      ],
      "execution_count": 23,
      "outputs": [
        {
          "output_type": "display_data",
          "data": {
            "text/html": [
              "<span class=\"tex2jax_ignore\"><svg xmlns=\"http://www.w3.org/2000/svg\" xmlns:xlink=\"http://www.w3.org/1999/xlink\" xml:lang=\"en\" id=\"c7634d58284a486cb066feb420412e73-0\" class=\"displacy\" width=\"8975\" height=\"689.5\" direction=\"ltr\" style=\"max-width: none; height: 689.5px; color: #000000; background: #ffffff; font-family: Arial; direction: ltr\">\n",
              "<text class=\"displacy-token\" fill=\"currentColor\" text-anchor=\"middle\" y=\"599.5\">\n",
              "    <tspan class=\"displacy-word\" fill=\"currentColor\" x=\"50\">This</tspan>\n",
              "    <tspan class=\"displacy-tag\" dy=\"2em\" fill=\"currentColor\" x=\"50\">DET</tspan>\n",
              "</text>\n",
              "\n",
              "<text class=\"displacy-token\" fill=\"currentColor\" text-anchor=\"middle\" y=\"599.5\">\n",
              "    <tspan class=\"displacy-word\" fill=\"currentColor\" x=\"135\">April,</tspan>\n",
              "    <tspan class=\"displacy-tag\" dy=\"2em\" fill=\"currentColor\" x=\"135\">PROPN</tspan>\n",
              "</text>\n",
              "\n",
              "<text class=\"displacy-token\" fill=\"currentColor\" text-anchor=\"middle\" y=\"599.5\">\n",
              "    <tspan class=\"displacy-word\" fill=\"currentColor\" x=\"220\">Mr.</tspan>\n",
              "    <tspan class=\"displacy-tag\" dy=\"2em\" fill=\"currentColor\" x=\"220\">PROPN</tspan>\n",
              "</text>\n",
              "\n",
              "<text class=\"displacy-token\" fill=\"currentColor\" text-anchor=\"middle\" y=\"599.5\">\n",
              "    <tspan class=\"displacy-word\" fill=\"currentColor\" x=\"305\">Mellon</tspan>\n",
              "    <tspan class=\"displacy-tag\" dy=\"2em\" fill=\"currentColor\" x=\"305\">PROPN</tspan>\n",
              "</text>\n",
              "\n",
              "<text class=\"displacy-token\" fill=\"currentColor\" text-anchor=\"middle\" y=\"599.5\">\n",
              "    <tspan class=\"displacy-word\" fill=\"currentColor\" x=\"390\">gave</tspan>\n",
              "    <tspan class=\"displacy-tag\" dy=\"2em\" fill=\"currentColor\" x=\"390\">VERB</tspan>\n",
              "</text>\n",
              "\n",
              "<text class=\"displacy-token\" fill=\"currentColor\" text-anchor=\"middle\" y=\"599.5\">\n",
              "    <tspan class=\"displacy-word\" fill=\"currentColor\" x=\"475\">another</tspan>\n",
              "    <tspan class=\"displacy-tag\" dy=\"2em\" fill=\"currentColor\" x=\"475\">DET</tspan>\n",
              "</text>\n",
              "\n",
              "<text class=\"displacy-token\" fill=\"currentColor\" text-anchor=\"middle\" y=\"599.5\">\n",
              "    <tspan class=\"displacy-word\" fill=\"currentColor\" x=\"560\">$</tspan>\n",
              "    <tspan class=\"displacy-tag\" dy=\"2em\" fill=\"currentColor\" x=\"560\">SYM</tspan>\n",
              "</text>\n",
              "\n",
              "<text class=\"displacy-token\" fill=\"currentColor\" text-anchor=\"middle\" y=\"599.5\">\n",
              "    <tspan class=\"displacy-word\" fill=\"currentColor\" x=\"645\">10</tspan>\n",
              "    <tspan class=\"displacy-tag\" dy=\"2em\" fill=\"currentColor\" x=\"645\">NUM</tspan>\n",
              "</text>\n",
              "\n",
              "<text class=\"displacy-token\" fill=\"currentColor\" text-anchor=\"middle\" y=\"599.5\">\n",
              "    <tspan class=\"displacy-word\" fill=\"currentColor\" x=\"730\">million,</tspan>\n",
              "    <tspan class=\"displacy-tag\" dy=\"2em\" fill=\"currentColor\" x=\"730\">NUM</tspan>\n",
              "</text>\n",
              "\n",
              "<text class=\"displacy-token\" fill=\"currentColor\" text-anchor=\"middle\" y=\"599.5\">\n",
              "    <tspan class=\"displacy-word\" fill=\"currentColor\" x=\"815\">this</tspan>\n",
              "    <tspan class=\"displacy-tag\" dy=\"2em\" fill=\"currentColor\" x=\"815\">DET</tspan>\n",
              "</text>\n",
              "\n",
              "<text class=\"displacy-token\" fill=\"currentColor\" text-anchor=\"middle\" y=\"599.5\">\n",
              "    <tspan class=\"displacy-word\" fill=\"currentColor\" x=\"900\">time</tspan>\n",
              "    <tspan class=\"displacy-tag\" dy=\"2em\" fill=\"currentColor\" x=\"900\">NOUN</tspan>\n",
              "</text>\n",
              "\n",
              "<text class=\"displacy-token\" fill=\"currentColor\" text-anchor=\"middle\" y=\"599.5\">\n",
              "    <tspan class=\"displacy-word\" fill=\"currentColor\" x=\"985\">to</tspan>\n",
              "    <tspan class=\"displacy-tag\" dy=\"2em\" fill=\"currentColor\" x=\"985\">ADP</tspan>\n",
              "</text>\n",
              "\n",
              "<text class=\"displacy-token\" fill=\"currentColor\" text-anchor=\"middle\" y=\"599.5\">\n",
              "    <tspan class=\"displacy-word\" fill=\"currentColor\" x=\"1070\">President</tspan>\n",
              "    <tspan class=\"displacy-tag\" dy=\"2em\" fill=\"currentColor\" x=\"1070\">PROPN</tspan>\n",
              "</text>\n",
              "\n",
              "<text class=\"displacy-token\" fill=\"currentColor\" text-anchor=\"middle\" y=\"599.5\">\n",
              "    <tspan class=\"displacy-word\" fill=\"currentColor\" x=\"1155\">Trump</tspan>\n",
              "    <tspan class=\"displacy-tag\" dy=\"2em\" fill=\"currentColor\" x=\"1155\">PROPN</tspan>\n",
              "</text>\n",
              "\n",
              "<text class=\"displacy-token\" fill=\"currentColor\" text-anchor=\"middle\" y=\"599.5\">\n",
              "    <tspan class=\"displacy-word\" fill=\"currentColor\" x=\"1240\">’s</tspan>\n",
              "    <tspan class=\"displacy-tag\" dy=\"2em\" fill=\"currentColor\" x=\"1240\">PART</tspan>\n",
              "</text>\n",
              "\n",
              "<text class=\"displacy-token\" fill=\"currentColor\" text-anchor=\"middle\" y=\"599.5\">\n",
              "    <tspan class=\"displacy-word\" fill=\"currentColor\" x=\"1325\">super</tspan>\n",
              "    <tspan class=\"displacy-tag\" dy=\"2em\" fill=\"currentColor\" x=\"1325\">ADJ</tspan>\n",
              "</text>\n",
              "\n",
              "<text class=\"displacy-token\" fill=\"currentColor\" text-anchor=\"middle\" y=\"599.5\">\n",
              "    <tspan class=\"displacy-word\" fill=\"currentColor\" x=\"1410\">PAC,</tspan>\n",
              "    <tspan class=\"displacy-tag\" dy=\"2em\" fill=\"currentColor\" x=\"1410\">NOUN</tspan>\n",
              "</text>\n",
              "\n",
              "<text class=\"displacy-token\" fill=\"currentColor\" text-anchor=\"middle\" y=\"599.5\">\n",
              "    <tspan class=\"displacy-word\" fill=\"currentColor\" x=\"1495\">\n",
              " </tspan>\n",
              "    <tspan class=\"displacy-tag\" dy=\"2em\" fill=\"currentColor\" x=\"1495\">SPACE</tspan>\n",
              "</text>\n",
              "\n",
              "<text class=\"displacy-token\" fill=\"currentColor\" text-anchor=\"middle\" y=\"599.5\">\n",
              "    <tspan class=\"displacy-word\" fill=\"currentColor\" x=\"1580\">America</tspan>\n",
              "    <tspan class=\"displacy-tag\" dy=\"2em\" fill=\"currentColor\" x=\"1580\">PROPN</tspan>\n",
              "</text>\n",
              "\n",
              "<text class=\"displacy-token\" fill=\"currentColor\" text-anchor=\"middle\" y=\"599.5\">\n",
              "    <tspan class=\"displacy-word\" fill=\"currentColor\" x=\"1665\">First</tspan>\n",
              "    <tspan class=\"displacy-tag\" dy=\"2em\" fill=\"currentColor\" x=\"1665\">PROPN</tspan>\n",
              "</text>\n",
              "\n",
              "<text class=\"displacy-token\" fill=\"currentColor\" text-anchor=\"middle\" y=\"599.5\">\n",
              "    <tspan class=\"displacy-word\" fill=\"currentColor\" x=\"1750\">Action,</tspan>\n",
              "    <tspan class=\"displacy-tag\" dy=\"2em\" fill=\"currentColor\" x=\"1750\">PROPN</tspan>\n",
              "</text>\n",
              "\n",
              "<text class=\"displacy-token\" fill=\"currentColor\" text-anchor=\"middle\" y=\"599.5\">\n",
              "    <tspan class=\"displacy-word\" fill=\"currentColor\" x=\"1835\">the</tspan>\n",
              "    <tspan class=\"displacy-tag\" dy=\"2em\" fill=\"currentColor\" x=\"1835\">DET</tspan>\n",
              "</text>\n",
              "\n",
              "<text class=\"displacy-token\" fill=\"currentColor\" text-anchor=\"middle\" y=\"599.5\">\n",
              "    <tspan class=\"displacy-word\" fill=\"currentColor\" x=\"1920\">only</tspan>\n",
              "    <tspan class=\"displacy-tag\" dy=\"2em\" fill=\"currentColor\" x=\"1920\">ADJ</tspan>\n",
              "</text>\n",
              "\n",
              "<text class=\"displacy-token\" fill=\"currentColor\" text-anchor=\"middle\" y=\"599.5\">\n",
              "    <tspan class=\"displacy-word\" fill=\"currentColor\" x=\"2005\">Trump-</tspan>\n",
              "    <tspan class=\"displacy-tag\" dy=\"2em\" fill=\"currentColor\" x=\"2005\">PROPN</tspan>\n",
              "</text>\n",
              "\n",
              "<text class=\"displacy-token\" fill=\"currentColor\" text-anchor=\"middle\" y=\"599.5\">\n",
              "    <tspan class=\"displacy-word\" fill=\"currentColor\" x=\"2090\">endorsed</tspan>\n",
              "    <tspan class=\"displacy-tag\" dy=\"2em\" fill=\"currentColor\" x=\"2090\">VERB</tspan>\n",
              "</text>\n",
              "\n",
              "<text class=\"displacy-token\" fill=\"currentColor\" text-anchor=\"middle\" y=\"599.5\">\n",
              "    <tspan class=\"displacy-word\" fill=\"currentColor\" x=\"2175\">fund-</tspan>\n",
              "    <tspan class=\"displacy-tag\" dy=\"2em\" fill=\"currentColor\" x=\"2175\">NOUN</tspan>\n",
              "</text>\n",
              "\n",
              "<text class=\"displacy-token\" fill=\"currentColor\" text-anchor=\"middle\" y=\"599.5\">\n",
              "    <tspan class=\"displacy-word\" fill=\"currentColor\" x=\"2260\">raising</tspan>\n",
              "    <tspan class=\"displacy-tag\" dy=\"2em\" fill=\"currentColor\" x=\"2260\">VERB</tspan>\n",
              "</text>\n",
              "\n",
              "<text class=\"displacy-token\" fill=\"currentColor\" text-anchor=\"middle\" y=\"599.5\">\n",
              "    <tspan class=\"displacy-word\" fill=\"currentColor\" x=\"2345\">group</tspan>\n",
              "    <tspan class=\"displacy-tag\" dy=\"2em\" fill=\"currentColor\" x=\"2345\">NOUN</tspan>\n",
              "</text>\n",
              "\n",
              "<text class=\"displacy-token\" fill=\"currentColor\" text-anchor=\"middle\" y=\"599.5\">\n",
              "    <tspan class=\"displacy-word\" fill=\"currentColor\" x=\"2430\">permitted</tspan>\n",
              "    <tspan class=\"displacy-tag\" dy=\"2em\" fill=\"currentColor\" x=\"2430\">VERB</tspan>\n",
              "</text>\n",
              "\n",
              "<text class=\"displacy-token\" fill=\"currentColor\" text-anchor=\"middle\" y=\"599.5\">\n",
              "    <tspan class=\"displacy-word\" fill=\"currentColor\" x=\"2515\">to</tspan>\n",
              "    <tspan class=\"displacy-tag\" dy=\"2em\" fill=\"currentColor\" x=\"2515\">PART</tspan>\n",
              "</text>\n",
              "\n",
              "<text class=\"displacy-token\" fill=\"currentColor\" text-anchor=\"middle\" y=\"599.5\">\n",
              "    <tspan class=\"displacy-word\" fill=\"currentColor\" x=\"2600\">collect</tspan>\n",
              "    <tspan class=\"displacy-tag\" dy=\"2em\" fill=\"currentColor\" x=\"2600\">VERB</tspan>\n",
              "</text>\n",
              "\n",
              "<text class=\"displacy-token\" fill=\"currentColor\" text-anchor=\"middle\" y=\"599.5\">\n",
              "    <tspan class=\"displacy-word\" fill=\"currentColor\" x=\"2685\">unlimited</tspan>\n",
              "    <tspan class=\"displacy-tag\" dy=\"2em\" fill=\"currentColor\" x=\"2685\">ADJ</tspan>\n",
              "</text>\n",
              "\n",
              "<text class=\"displacy-token\" fill=\"currentColor\" text-anchor=\"middle\" y=\"599.5\">\n",
              "    <tspan class=\"displacy-word\" fill=\"currentColor\" x=\"2770\">\n",
              " </tspan>\n",
              "    <tspan class=\"displacy-tag\" dy=\"2em\" fill=\"currentColor\" x=\"2770\">SPACE</tspan>\n",
              "</text>\n",
              "\n",
              "<text class=\"displacy-token\" fill=\"currentColor\" text-anchor=\"middle\" y=\"599.5\">\n",
              "    <tspan class=\"displacy-word\" fill=\"currentColor\" x=\"2855\">contributions.</tspan>\n",
              "    <tspan class=\"displacy-tag\" dy=\"2em\" fill=\"currentColor\" x=\"2855\">NOUN</tspan>\n",
              "</text>\n",
              "\n",
              "<text class=\"displacy-token\" fill=\"currentColor\" text-anchor=\"middle\" y=\"599.5\">\n",
              "    <tspan class=\"displacy-word\" fill=\"currentColor\" x=\"2940\">The</tspan>\n",
              "    <tspan class=\"displacy-tag\" dy=\"2em\" fill=\"currentColor\" x=\"2940\">DET</tspan>\n",
              "</text>\n",
              "\n",
              "<text class=\"displacy-token\" fill=\"currentColor\" text-anchor=\"middle\" y=\"599.5\">\n",
              "    <tspan class=\"displacy-word\" fill=\"currentColor\" x=\"3025\">fact</tspan>\n",
              "    <tspan class=\"displacy-tag\" dy=\"2em\" fill=\"currentColor\" x=\"3025\">NOUN</tspan>\n",
              "</text>\n",
              "\n",
              "<text class=\"displacy-token\" fill=\"currentColor\" text-anchor=\"middle\" y=\"599.5\">\n",
              "    <tspan class=\"displacy-word\" fill=\"currentColor\" x=\"3110\">that</tspan>\n",
              "    <tspan class=\"displacy-tag\" dy=\"2em\" fill=\"currentColor\" x=\"3110\">SCONJ</tspan>\n",
              "</text>\n",
              "\n",
              "<text class=\"displacy-token\" fill=\"currentColor\" text-anchor=\"middle\" y=\"599.5\">\n",
              "    <tspan class=\"displacy-word\" fill=\"currentColor\" x=\"3195\">an</tspan>\n",
              "    <tspan class=\"displacy-tag\" dy=\"2em\" fill=\"currentColor\" x=\"3195\">DET</tspan>\n",
              "</text>\n",
              "\n",
              "<text class=\"displacy-token\" fill=\"currentColor\" text-anchor=\"middle\" y=\"599.5\">\n",
              "    <tspan class=\"displacy-word\" fill=\"currentColor\" x=\"3280\">outsider</tspan>\n",
              "    <tspan class=\"displacy-tag\" dy=\"2em\" fill=\"currentColor\" x=\"3280\">NOUN</tspan>\n",
              "</text>\n",
              "\n",
              "<text class=\"displacy-token\" fill=\"currentColor\" text-anchor=\"middle\" y=\"599.5\">\n",
              "    <tspan class=\"displacy-word\" fill=\"currentColor\" x=\"3365\">like</tspan>\n",
              "    <tspan class=\"displacy-tag\" dy=\"2em\" fill=\"currentColor\" x=\"3365\">SCONJ</tspan>\n",
              "</text>\n",
              "\n",
              "<text class=\"displacy-token\" fill=\"currentColor\" text-anchor=\"middle\" y=\"599.5\">\n",
              "    <tspan class=\"displacy-word\" fill=\"currentColor\" x=\"3450\">Mr.</tspan>\n",
              "    <tspan class=\"displacy-tag\" dy=\"2em\" fill=\"currentColor\" x=\"3450\">PROPN</tspan>\n",
              "</text>\n",
              "\n",
              "<text class=\"displacy-token\" fill=\"currentColor\" text-anchor=\"middle\" y=\"599.5\">\n",
              "    <tspan class=\"displacy-word\" fill=\"currentColor\" x=\"3535\">Mellon</tspan>\n",
              "    <tspan class=\"displacy-tag\" dy=\"2em\" fill=\"currentColor\" x=\"3535\">PROPN</tspan>\n",
              "</text>\n",
              "\n",
              "<text class=\"displacy-token\" fill=\"currentColor\" text-anchor=\"middle\" y=\"599.5\">\n",
              "    <tspan class=\"displacy-word\" fill=\"currentColor\" x=\"3620\">has</tspan>\n",
              "    <tspan class=\"displacy-tag\" dy=\"2em\" fill=\"currentColor\" x=\"3620\">AUX</tspan>\n",
              "</text>\n",
              "\n",
              "<text class=\"displacy-token\" fill=\"currentColor\" text-anchor=\"middle\" y=\"599.5\">\n",
              "    <tspan class=\"displacy-word\" fill=\"currentColor\" x=\"3705\">emerged</tspan>\n",
              "    <tspan class=\"displacy-tag\" dy=\"2em\" fill=\"currentColor\" x=\"3705\">VERB</tspan>\n",
              "</text>\n",
              "\n",
              "<text class=\"displacy-token\" fill=\"currentColor\" text-anchor=\"middle\" y=\"599.5\">\n",
              "    <tspan class=\"displacy-word\" fill=\"currentColor\" x=\"3790\">as</tspan>\n",
              "    <tspan class=\"displacy-tag\" dy=\"2em\" fill=\"currentColor\" x=\"3790\">SCONJ</tspan>\n",
              "</text>\n",
              "\n",
              "<text class=\"displacy-token\" fill=\"currentColor\" text-anchor=\"middle\" y=\"599.5\">\n",
              "    <tspan class=\"displacy-word\" fill=\"currentColor\" x=\"3875\">one</tspan>\n",
              "    <tspan class=\"displacy-tag\" dy=\"2em\" fill=\"currentColor\" x=\"3875\">NUM</tspan>\n",
              "</text>\n",
              "\n",
              "<text class=\"displacy-token\" fill=\"currentColor\" text-anchor=\"middle\" y=\"599.5\">\n",
              "    <tspan class=\"displacy-word\" fill=\"currentColor\" x=\"3960\">of</tspan>\n",
              "    <tspan class=\"displacy-tag\" dy=\"2em\" fill=\"currentColor\" x=\"3960\">ADP</tspan>\n",
              "</text>\n",
              "\n",
              "<text class=\"displacy-token\" fill=\"currentColor\" text-anchor=\"middle\" y=\"599.5\">\n",
              "    <tspan class=\"displacy-word\" fill=\"currentColor\" x=\"4045\">the</tspan>\n",
              "    <tspan class=\"displacy-tag\" dy=\"2em\" fill=\"currentColor\" x=\"4045\">DET</tspan>\n",
              "</text>\n",
              "\n",
              "<text class=\"displacy-token\" fill=\"currentColor\" text-anchor=\"middle\" y=\"599.5\">\n",
              "    <tspan class=\"displacy-word\" fill=\"currentColor\" x=\"4130\">few</tspan>\n",
              "    <tspan class=\"displacy-tag\" dy=\"2em\" fill=\"currentColor\" x=\"4130\">ADJ</tspan>\n",
              "</text>\n",
              "\n",
              "<text class=\"displacy-token\" fill=\"currentColor\" text-anchor=\"middle\" y=\"599.5\">\n",
              "    <tspan class=\"displacy-word\" fill=\"currentColor\" x=\"4215\">\n",
              " </tspan>\n",
              "    <tspan class=\"displacy-tag\" dy=\"2em\" fill=\"currentColor\" x=\"4215\">SPACE</tspan>\n",
              "</text>\n",
              "\n",
              "<text class=\"displacy-token\" fill=\"currentColor\" text-anchor=\"middle\" y=\"599.5\">\n",
              "    <tspan class=\"displacy-word\" fill=\"currentColor\" x=\"4300\">supporters</tspan>\n",
              "    <tspan class=\"displacy-tag\" dy=\"2em\" fill=\"currentColor\" x=\"4300\">NOUN</tspan>\n",
              "</text>\n",
              "\n",
              "<text class=\"displacy-token\" fill=\"currentColor\" text-anchor=\"middle\" y=\"599.5\">\n",
              "    <tspan class=\"displacy-word\" fill=\"currentColor\" x=\"4385\">willing</tspan>\n",
              "    <tspan class=\"displacy-tag\" dy=\"2em\" fill=\"currentColor\" x=\"4385\">ADJ</tspan>\n",
              "</text>\n",
              "\n",
              "<text class=\"displacy-token\" fill=\"currentColor\" text-anchor=\"middle\" y=\"599.5\">\n",
              "    <tspan class=\"displacy-word\" fill=\"currentColor\" x=\"4470\">to</tspan>\n",
              "    <tspan class=\"displacy-tag\" dy=\"2em\" fill=\"currentColor\" x=\"4470\">PART</tspan>\n",
              "</text>\n",
              "\n",
              "<text class=\"displacy-token\" fill=\"currentColor\" text-anchor=\"middle\" y=\"599.5\">\n",
              "    <tspan class=\"displacy-word\" fill=\"currentColor\" x=\"4555\">be</tspan>\n",
              "    <tspan class=\"displacy-tag\" dy=\"2em\" fill=\"currentColor\" x=\"4555\">AUX</tspan>\n",
              "</text>\n",
              "\n",
              "<text class=\"displacy-token\" fill=\"currentColor\" text-anchor=\"middle\" y=\"599.5\">\n",
              "    <tspan class=\"displacy-word\" fill=\"currentColor\" x=\"4640\">so</tspan>\n",
              "    <tspan class=\"displacy-tag\" dy=\"2em\" fill=\"currentColor\" x=\"4640\">ADV</tspan>\n",
              "</text>\n",
              "\n",
              "<text class=\"displacy-token\" fill=\"currentColor\" text-anchor=\"middle\" y=\"599.5\">\n",
              "    <tspan class=\"displacy-word\" fill=\"currentColor\" x=\"4725\">generous</tspan>\n",
              "    <tspan class=\"displacy-tag\" dy=\"2em\" fill=\"currentColor\" x=\"4725\">ADJ</tspan>\n",
              "</text>\n",
              "\n",
              "<text class=\"displacy-token\" fill=\"currentColor\" text-anchor=\"middle\" y=\"599.5\">\n",
              "    <tspan class=\"displacy-word\" fill=\"currentColor\" x=\"4810\">illustrates</tspan>\n",
              "    <tspan class=\"displacy-tag\" dy=\"2em\" fill=\"currentColor\" x=\"4810\">NOUN</tspan>\n",
              "</text>\n",
              "\n",
              "<text class=\"displacy-token\" fill=\"currentColor\" text-anchor=\"middle\" y=\"599.5\">\n",
              "    <tspan class=\"displacy-word\" fill=\"currentColor\" x=\"4895\">a</tspan>\n",
              "    <tspan class=\"displacy-tag\" dy=\"2em\" fill=\"currentColor\" x=\"4895\">DET</tspan>\n",
              "</text>\n",
              "\n",
              "<text class=\"displacy-token\" fill=\"currentColor\" text-anchor=\"middle\" y=\"599.5\">\n",
              "    <tspan class=\"displacy-word\" fill=\"currentColor\" x=\"4980\">surprising</tspan>\n",
              "    <tspan class=\"displacy-tag\" dy=\"2em\" fill=\"currentColor\" x=\"4980\">ADJ</tspan>\n",
              "</text>\n",
              "\n",
              "<text class=\"displacy-token\" fill=\"currentColor\" text-anchor=\"middle\" y=\"599.5\">\n",
              "    <tspan class=\"displacy-word\" fill=\"currentColor\" x=\"5065\">problem</tspan>\n",
              "    <tspan class=\"displacy-tag\" dy=\"2em\" fill=\"currentColor\" x=\"5065\">NOUN</tspan>\n",
              "</text>\n",
              "\n",
              "<text class=\"displacy-token\" fill=\"currentColor\" text-anchor=\"middle\" y=\"599.5\">\n",
              "    <tspan class=\"displacy-word\" fill=\"currentColor\" x=\"5150\">for</tspan>\n",
              "    <tspan class=\"displacy-tag\" dy=\"2em\" fill=\"currentColor\" x=\"5150\">ADP</tspan>\n",
              "</text>\n",
              "\n",
              "<text class=\"displacy-token\" fill=\"currentColor\" text-anchor=\"middle\" y=\"599.5\">\n",
              "    <tspan class=\"displacy-word\" fill=\"currentColor\" x=\"5235\">the</tspan>\n",
              "    <tspan class=\"displacy-tag\" dy=\"2em\" fill=\"currentColor\" x=\"5235\">DET</tspan>\n",
              "</text>\n",
              "\n",
              "<text class=\"displacy-token\" fill=\"currentColor\" text-anchor=\"middle\" y=\"599.5\">\n",
              "    <tspan class=\"displacy-word\" fill=\"currentColor\" x=\"5320\">president:</tspan>\n",
              "    <tspan class=\"displacy-tag\" dy=\"2em\" fill=\"currentColor\" x=\"5320\">NOUN</tspan>\n",
              "</text>\n",
              "\n",
              "<text class=\"displacy-token\" fill=\"currentColor\" text-anchor=\"middle\" y=\"599.5\">\n",
              "    <tspan class=\"displacy-word\" fill=\"currentColor\" x=\"5405\">\n",
              " </tspan>\n",
              "    <tspan class=\"displacy-tag\" dy=\"2em\" fill=\"currentColor\" x=\"5405\">SPACE</tspan>\n",
              "</text>\n",
              "\n",
              "<text class=\"displacy-token\" fill=\"currentColor\" text-anchor=\"middle\" y=\"599.5\">\n",
              "    <tspan class=\"displacy-word\" fill=\"currentColor\" x=\"5490\">his</tspan>\n",
              "    <tspan class=\"displacy-tag\" dy=\"2em\" fill=\"currentColor\" x=\"5490\">DET</tspan>\n",
              "</text>\n",
              "\n",
              "<text class=\"displacy-token\" fill=\"currentColor\" text-anchor=\"middle\" y=\"599.5\">\n",
              "    <tspan class=\"displacy-word\" fill=\"currentColor\" x=\"5575\">struggle</tspan>\n",
              "    <tspan class=\"displacy-tag\" dy=\"2em\" fill=\"currentColor\" x=\"5575\">NOUN</tspan>\n",
              "</text>\n",
              "\n",
              "<text class=\"displacy-token\" fill=\"currentColor\" text-anchor=\"middle\" y=\"599.5\">\n",
              "    <tspan class=\"displacy-word\" fill=\"currentColor\" x=\"5660\">to</tspan>\n",
              "    <tspan class=\"displacy-tag\" dy=\"2em\" fill=\"currentColor\" x=\"5660\">PART</tspan>\n",
              "</text>\n",
              "\n",
              "<text class=\"displacy-token\" fill=\"currentColor\" text-anchor=\"middle\" y=\"599.5\">\n",
              "    <tspan class=\"displacy-word\" fill=\"currentColor\" x=\"5745\">attract</tspan>\n",
              "    <tspan class=\"displacy-tag\" dy=\"2em\" fill=\"currentColor\" x=\"5745\">VERB</tspan>\n",
              "</text>\n",
              "\n",
              "<text class=\"displacy-token\" fill=\"currentColor\" text-anchor=\"middle\" y=\"599.5\">\n",
              "    <tspan class=\"displacy-word\" fill=\"currentColor\" x=\"5830\">and</tspan>\n",
              "    <tspan class=\"displacy-tag\" dy=\"2em\" fill=\"currentColor\" x=\"5830\">CCONJ</tspan>\n",
              "</text>\n",
              "\n",
              "<text class=\"displacy-token\" fill=\"currentColor\" text-anchor=\"middle\" y=\"599.5\">\n",
              "    <tspan class=\"displacy-word\" fill=\"currentColor\" x=\"5915\">retain</tspan>\n",
              "    <tspan class=\"displacy-tag\" dy=\"2em\" fill=\"currentColor\" x=\"5915\">VERB</tspan>\n",
              "</text>\n",
              "\n",
              "<text class=\"displacy-token\" fill=\"currentColor\" text-anchor=\"middle\" y=\"599.5\">\n",
              "    <tspan class=\"displacy-word\" fill=\"currentColor\" x=\"6000\">a</tspan>\n",
              "    <tspan class=\"displacy-tag\" dy=\"2em\" fill=\"currentColor\" x=\"6000\">DET</tspan>\n",
              "</text>\n",
              "\n",
              "<text class=\"displacy-token\" fill=\"currentColor\" text-anchor=\"middle\" y=\"599.5\">\n",
              "    <tspan class=\"displacy-word\" fill=\"currentColor\" x=\"6085\">reliable</tspan>\n",
              "    <tspan class=\"displacy-tag\" dy=\"2em\" fill=\"currentColor\" x=\"6085\">ADJ</tspan>\n",
              "</text>\n",
              "\n",
              "<text class=\"displacy-token\" fill=\"currentColor\" text-anchor=\"middle\" y=\"599.5\">\n",
              "    <tspan class=\"displacy-word\" fill=\"currentColor\" x=\"6170\">stable</tspan>\n",
              "    <tspan class=\"displacy-tag\" dy=\"2em\" fill=\"currentColor\" x=\"6170\">NOUN</tspan>\n",
              "</text>\n",
              "\n",
              "<text class=\"displacy-token\" fill=\"currentColor\" text-anchor=\"middle\" y=\"599.5\">\n",
              "    <tspan class=\"displacy-word\" fill=\"currentColor\" x=\"6255\">of</tspan>\n",
              "    <tspan class=\"displacy-tag\" dy=\"2em\" fill=\"currentColor\" x=\"6255\">ADP</tspan>\n",
              "</text>\n",
              "\n",
              "<text class=\"displacy-token\" fill=\"currentColor\" text-anchor=\"middle\" y=\"599.5\">\n",
              "    <tspan class=\"displacy-word\" fill=\"currentColor\" x=\"6340\">millionaires</tspan>\n",
              "    <tspan class=\"displacy-tag\" dy=\"2em\" fill=\"currentColor\" x=\"6340\">NOUN</tspan>\n",
              "</text>\n",
              "\n",
              "<text class=\"displacy-token\" fill=\"currentColor\" text-anchor=\"middle\" y=\"599.5\">\n",
              "    <tspan class=\"displacy-word\" fill=\"currentColor\" x=\"6425\">and</tspan>\n",
              "    <tspan class=\"displacy-tag\" dy=\"2em\" fill=\"currentColor\" x=\"6425\">CCONJ</tspan>\n",
              "</text>\n",
              "\n",
              "<text class=\"displacy-token\" fill=\"currentColor\" text-anchor=\"middle\" y=\"599.5\">\n",
              "    <tspan class=\"displacy-word\" fill=\"currentColor\" x=\"6510\">billionaires</tspan>\n",
              "    <tspan class=\"displacy-tag\" dy=\"2em\" fill=\"currentColor\" x=\"6510\">VERB</tspan>\n",
              "</text>\n",
              "\n",
              "<text class=\"displacy-token\" fill=\"currentColor\" text-anchor=\"middle\" y=\"599.5\">\n",
              "    <tspan class=\"displacy-word\" fill=\"currentColor\" x=\"6595\">willing</tspan>\n",
              "    <tspan class=\"displacy-tag\" dy=\"2em\" fill=\"currentColor\" x=\"6595\">ADJ</tspan>\n",
              "</text>\n",
              "\n",
              "<text class=\"displacy-token\" fill=\"currentColor\" text-anchor=\"middle\" y=\"599.5\">\n",
              "    <tspan class=\"displacy-word\" fill=\"currentColor\" x=\"6680\">\n",
              " </tspan>\n",
              "    <tspan class=\"displacy-tag\" dy=\"2em\" fill=\"currentColor\" x=\"6680\">SPACE</tspan>\n",
              "</text>\n",
              "\n",
              "<text class=\"displacy-token\" fill=\"currentColor\" text-anchor=\"middle\" y=\"599.5\">\n",
              "    <tspan class=\"displacy-word\" fill=\"currentColor\" x=\"6765\">to</tspan>\n",
              "    <tspan class=\"displacy-tag\" dy=\"2em\" fill=\"currentColor\" x=\"6765\">PART</tspan>\n",
              "</text>\n",
              "\n",
              "<text class=\"displacy-token\" fill=\"currentColor\" text-anchor=\"middle\" y=\"599.5\">\n",
              "    <tspan class=\"displacy-word\" fill=\"currentColor\" x=\"6850\">write</tspan>\n",
              "    <tspan class=\"displacy-tag\" dy=\"2em\" fill=\"currentColor\" x=\"6850\">VERB</tspan>\n",
              "</text>\n",
              "\n",
              "<text class=\"displacy-token\" fill=\"currentColor\" text-anchor=\"middle\" y=\"599.5\">\n",
              "    <tspan class=\"displacy-word\" fill=\"currentColor\" x=\"6935\">seven-</tspan>\n",
              "    <tspan class=\"displacy-tag\" dy=\"2em\" fill=\"currentColor\" x=\"6935\">NUM</tspan>\n",
              "</text>\n",
              "\n",
              "<text class=\"displacy-token\" fill=\"currentColor\" text-anchor=\"middle\" y=\"599.5\">\n",
              "    <tspan class=\"displacy-word\" fill=\"currentColor\" x=\"7020\">figure</tspan>\n",
              "    <tspan class=\"displacy-tag\" dy=\"2em\" fill=\"currentColor\" x=\"7020\">NOUN</tspan>\n",
              "</text>\n",
              "\n",
              "<text class=\"displacy-token\" fill=\"currentColor\" text-anchor=\"middle\" y=\"599.5\">\n",
              "    <tspan class=\"displacy-word\" fill=\"currentColor\" x=\"7105\">checks,</tspan>\n",
              "    <tspan class=\"displacy-tag\" dy=\"2em\" fill=\"currentColor\" x=\"7105\">NOUN</tspan>\n",
              "</text>\n",
              "\n",
              "<text class=\"displacy-token\" fill=\"currentColor\" text-anchor=\"middle\" y=\"599.5\">\n",
              "    <tspan class=\"displacy-word\" fill=\"currentColor\" x=\"7190\">despite</tspan>\n",
              "    <tspan class=\"displacy-tag\" dy=\"2em\" fill=\"currentColor\" x=\"7190\">SCONJ</tspan>\n",
              "</text>\n",
              "\n",
              "<text class=\"displacy-token\" fill=\"currentColor\" text-anchor=\"middle\" y=\"599.5\">\n",
              "    <tspan class=\"displacy-word\" fill=\"currentColor\" x=\"7275\">his</tspan>\n",
              "    <tspan class=\"displacy-tag\" dy=\"2em\" fill=\"currentColor\" x=\"7275\">DET</tspan>\n",
              "</text>\n",
              "\n",
              "<text class=\"displacy-token\" fill=\"currentColor\" text-anchor=\"middle\" y=\"599.5\">\n",
              "    <tspan class=\"displacy-word\" fill=\"currentColor\" x=\"7360\">takeover</tspan>\n",
              "    <tspan class=\"displacy-tag\" dy=\"2em\" fill=\"currentColor\" x=\"7360\">NOUN</tspan>\n",
              "</text>\n",
              "\n",
              "<text class=\"displacy-token\" fill=\"currentColor\" text-anchor=\"middle\" y=\"599.5\">\n",
              "    <tspan class=\"displacy-word\" fill=\"currentColor\" x=\"7445\">of</tspan>\n",
              "    <tspan class=\"displacy-tag\" dy=\"2em\" fill=\"currentColor\" x=\"7445\">ADP</tspan>\n",
              "</text>\n",
              "\n",
              "<text class=\"displacy-token\" fill=\"currentColor\" text-anchor=\"middle\" y=\"599.5\">\n",
              "    <tspan class=\"displacy-word\" fill=\"currentColor\" x=\"7530\">the</tspan>\n",
              "    <tspan class=\"displacy-tag\" dy=\"2em\" fill=\"currentColor\" x=\"7530\">DET</tspan>\n",
              "</text>\n",
              "\n",
              "<text class=\"displacy-token\" fill=\"currentColor\" text-anchor=\"middle\" y=\"599.5\">\n",
              "    <tspan class=\"displacy-word\" fill=\"currentColor\" x=\"7615\">Republican</tspan>\n",
              "    <tspan class=\"displacy-tag\" dy=\"2em\" fill=\"currentColor\" x=\"7615\">PROPN</tspan>\n",
              "</text>\n",
              "\n",
              "<text class=\"displacy-token\" fill=\"currentColor\" text-anchor=\"middle\" y=\"599.5\">\n",
              "    <tspan class=\"displacy-word\" fill=\"currentColor\" x=\"7700\">\n",
              "</tspan>\n",
              "    <tspan class=\"displacy-tag\" dy=\"2em\" fill=\"currentColor\" x=\"7700\">SPACE</tspan>\n",
              "</text>\n",
              "\n",
              "<text class=\"displacy-token\" fill=\"currentColor\" text-anchor=\"middle\" y=\"599.5\">\n",
              "    <tspan class=\"displacy-word\" fill=\"currentColor\" x=\"7785\">Party</tspan>\n",
              "    <tspan class=\"displacy-tag\" dy=\"2em\" fill=\"currentColor\" x=\"7785\">PROPN</tspan>\n",
              "</text>\n",
              "\n",
              "<text class=\"displacy-token\" fill=\"currentColor\" text-anchor=\"middle\" y=\"599.5\">\n",
              "    <tspan class=\"displacy-word\" fill=\"currentColor\" x=\"7870\">and</tspan>\n",
              "    <tspan class=\"displacy-tag\" dy=\"2em\" fill=\"currentColor\" x=\"7870\">CCONJ</tspan>\n",
              "</text>\n",
              "\n",
              "<text class=\"displacy-token\" fill=\"currentColor\" text-anchor=\"middle\" y=\"599.5\">\n",
              "    <tspan class=\"displacy-word\" fill=\"currentColor\" x=\"7955\">a</tspan>\n",
              "    <tspan class=\"displacy-tag\" dy=\"2em\" fill=\"currentColor\" x=\"7955\">DET</tspan>\n",
              "</text>\n",
              "\n",
              "<text class=\"displacy-token\" fill=\"currentColor\" text-anchor=\"middle\" y=\"599.5\">\n",
              "    <tspan class=\"displacy-word\" fill=\"currentColor\" x=\"8040\">policy</tspan>\n",
              "    <tspan class=\"displacy-tag\" dy=\"2em\" fill=\"currentColor\" x=\"8040\">NOUN</tspan>\n",
              "</text>\n",
              "\n",
              "<text class=\"displacy-token\" fill=\"currentColor\" text-anchor=\"middle\" y=\"599.5\">\n",
              "    <tspan class=\"displacy-word\" fill=\"currentColor\" x=\"8125\">agenda</tspan>\n",
              "    <tspan class=\"displacy-tag\" dy=\"2em\" fill=\"currentColor\" x=\"8125\">NOUN</tspan>\n",
              "</text>\n",
              "\n",
              "<text class=\"displacy-token\" fill=\"currentColor\" text-anchor=\"middle\" y=\"599.5\">\n",
              "    <tspan class=\"displacy-word\" fill=\"currentColor\" x=\"8210\">that</tspan>\n",
              "    <tspan class=\"displacy-tag\" dy=\"2em\" fill=\"currentColor\" x=\"8210\">DET</tspan>\n",
              "</text>\n",
              "\n",
              "<text class=\"displacy-token\" fill=\"currentColor\" text-anchor=\"middle\" y=\"599.5\">\n",
              "    <tspan class=\"displacy-word\" fill=\"currentColor\" x=\"8295\">largely</tspan>\n",
              "    <tspan class=\"displacy-tag\" dy=\"2em\" fill=\"currentColor\" x=\"8295\">ADV</tspan>\n",
              "</text>\n",
              "\n",
              "<text class=\"displacy-token\" fill=\"currentColor\" text-anchor=\"middle\" y=\"599.5\">\n",
              "    <tspan class=\"displacy-word\" fill=\"currentColor\" x=\"8380\">serves</tspan>\n",
              "    <tspan class=\"displacy-tag\" dy=\"2em\" fill=\"currentColor\" x=\"8380\">VERB</tspan>\n",
              "</text>\n",
              "\n",
              "<text class=\"displacy-token\" fill=\"currentColor\" text-anchor=\"middle\" y=\"599.5\">\n",
              "    <tspan class=\"displacy-word\" fill=\"currentColor\" x=\"8465\">the</tspan>\n",
              "    <tspan class=\"displacy-tag\" dy=\"2em\" fill=\"currentColor\" x=\"8465\">DET</tspan>\n",
              "</text>\n",
              "\n",
              "<text class=\"displacy-token\" fill=\"currentColor\" text-anchor=\"middle\" y=\"599.5\">\n",
              "    <tspan class=\"displacy-word\" fill=\"currentColor\" x=\"8550\">interests</tspan>\n",
              "    <tspan class=\"displacy-tag\" dy=\"2em\" fill=\"currentColor\" x=\"8550\">NOUN</tspan>\n",
              "</text>\n",
              "\n",
              "<text class=\"displacy-token\" fill=\"currentColor\" text-anchor=\"middle\" y=\"599.5\">\n",
              "    <tspan class=\"displacy-word\" fill=\"currentColor\" x=\"8635\">of</tspan>\n",
              "    <tspan class=\"displacy-tag\" dy=\"2em\" fill=\"currentColor\" x=\"8635\">ADP</tspan>\n",
              "</text>\n",
              "\n",
              "<text class=\"displacy-token\" fill=\"currentColor\" text-anchor=\"middle\" y=\"599.5\">\n",
              "    <tspan class=\"displacy-word\" fill=\"currentColor\" x=\"8720\">America</tspan>\n",
              "    <tspan class=\"displacy-tag\" dy=\"2em\" fill=\"currentColor\" x=\"8720\">PROPN</tspan>\n",
              "</text>\n",
              "\n",
              "<text class=\"displacy-token\" fill=\"currentColor\" text-anchor=\"middle\" y=\"599.5\">\n",
              "    <tspan class=\"displacy-word\" fill=\"currentColor\" x=\"8805\">’s</tspan>\n",
              "    <tspan class=\"displacy-tag\" dy=\"2em\" fill=\"currentColor\" x=\"8805\">PART</tspan>\n",
              "</text>\n",
              "\n",
              "<text class=\"displacy-token\" fill=\"currentColor\" text-anchor=\"middle\" y=\"599.5\">\n",
              "    <tspan class=\"displacy-word\" fill=\"currentColor\" x=\"8890\">ultrawealthy.</tspan>\n",
              "    <tspan class=\"displacy-tag\" dy=\"2em\" fill=\"currentColor\" x=\"8890\">ADJ</tspan>\n",
              "</text>\n",
              "\n",
              "<g class=\"displacy-arrow\">\n",
              "    <path class=\"displacy-arc\" id=\"arrow-c7634d58284a486cb066feb420412e73-0-0\" stroke-width=\"2px\" d=\"M70,554.5 C70,512.0 75.0,512.0 75.0,554.5\" fill=\"none\" stroke=\"currentColor\"/>\n",
              "    <text dy=\"1.25em\" style=\"font-size: 0.8em; letter-spacing: 1px\">\n",
              "        <textPath xlink:href=\"#arrow-c7634d58284a486cb066feb420412e73-0-0\" class=\"displacy-label\" startOffset=\"50%\" side=\"left\" fill=\"currentColor\" text-anchor=\"middle\">det</textPath>\n",
              "    </text>\n",
              "    <path class=\"displacy-arrowhead\" d=\"M70,556.5 L62,544.5 78,544.5\" fill=\"currentColor\"/>\n",
              "</g>\n",
              "\n",
              "<g class=\"displacy-arrow\">\n",
              "    <path class=\"displacy-arc\" id=\"arrow-c7634d58284a486cb066feb420412e73-0-1\" stroke-width=\"2px\" d=\"M155,554.5 C155,427.0 340.0,427.0 340.0,554.5\" fill=\"none\" stroke=\"currentColor\"/>\n",
              "    <text dy=\"1.25em\" style=\"font-size: 0.8em; letter-spacing: 1px\">\n",
              "        <textPath xlink:href=\"#arrow-c7634d58284a486cb066feb420412e73-0-1\" class=\"displacy-label\" startOffset=\"50%\" side=\"left\" fill=\"currentColor\" text-anchor=\"middle\">npadvmod</textPath>\n",
              "    </text>\n",
              "    <path class=\"displacy-arrowhead\" d=\"M155,556.5 L147,544.5 163,544.5\" fill=\"currentColor\"/>\n",
              "</g>\n",
              "\n",
              "<g class=\"displacy-arrow\">\n",
              "    <path class=\"displacy-arc\" id=\"arrow-c7634d58284a486cb066feb420412e73-0-2\" stroke-width=\"2px\" d=\"M240,554.5 C240,512.0 245.0,512.0 245.0,554.5\" fill=\"none\" stroke=\"currentColor\"/>\n",
              "    <text dy=\"1.25em\" style=\"font-size: 0.8em; letter-spacing: 1px\">\n",
              "        <textPath xlink:href=\"#arrow-c7634d58284a486cb066feb420412e73-0-2\" class=\"displacy-label\" startOffset=\"50%\" side=\"left\" fill=\"currentColor\" text-anchor=\"middle\">compound</textPath>\n",
              "    </text>\n",
              "    <path class=\"displacy-arrowhead\" d=\"M240,556.5 L232,544.5 248,544.5\" fill=\"currentColor\"/>\n",
              "</g>\n",
              "\n",
              "<g class=\"displacy-arrow\">\n",
              "    <path class=\"displacy-arc\" id=\"arrow-c7634d58284a486cb066feb420412e73-0-3\" stroke-width=\"2px\" d=\"M325,554.5 C325,512.0 330.0,512.0 330.0,554.5\" fill=\"none\" stroke=\"currentColor\"/>\n",
              "    <text dy=\"1.25em\" style=\"font-size: 0.8em; letter-spacing: 1px\">\n",
              "        <textPath xlink:href=\"#arrow-c7634d58284a486cb066feb420412e73-0-3\" class=\"displacy-label\" startOffset=\"50%\" side=\"left\" fill=\"currentColor\" text-anchor=\"middle\">nsubj</textPath>\n",
              "    </text>\n",
              "    <path class=\"displacy-arrowhead\" d=\"M325,556.5 L317,544.5 333,544.5\" fill=\"currentColor\"/>\n",
              "</g>\n",
              "\n",
              "<g class=\"displacy-arrow\">\n",
              "    <path class=\"displacy-arc\" id=\"arrow-c7634d58284a486cb066feb420412e73-0-4\" stroke-width=\"2px\" d=\"M495,554.5 C495,427.0 680.0,427.0 680.0,554.5\" fill=\"none\" stroke=\"currentColor\"/>\n",
              "    <text dy=\"1.25em\" style=\"font-size: 0.8em; letter-spacing: 1px\">\n",
              "        <textPath xlink:href=\"#arrow-c7634d58284a486cb066feb420412e73-0-4\" class=\"displacy-label\" startOffset=\"50%\" side=\"left\" fill=\"currentColor\" text-anchor=\"middle\">det</textPath>\n",
              "    </text>\n",
              "    <path class=\"displacy-arrowhead\" d=\"M495,556.5 L487,544.5 503,544.5\" fill=\"currentColor\"/>\n",
              "</g>\n",
              "\n",
              "<g class=\"displacy-arrow\">\n",
              "    <path class=\"displacy-arc\" id=\"arrow-c7634d58284a486cb066feb420412e73-0-5\" stroke-width=\"2px\" d=\"M580,554.5 C580,469.5 675.0,469.5 675.0,554.5\" fill=\"none\" stroke=\"currentColor\"/>\n",
              "    <text dy=\"1.25em\" style=\"font-size: 0.8em; letter-spacing: 1px\">\n",
              "        <textPath xlink:href=\"#arrow-c7634d58284a486cb066feb420412e73-0-5\" class=\"displacy-label\" startOffset=\"50%\" side=\"left\" fill=\"currentColor\" text-anchor=\"middle\">quantmod</textPath>\n",
              "    </text>\n",
              "    <path class=\"displacy-arrowhead\" d=\"M580,556.5 L572,544.5 588,544.5\" fill=\"currentColor\"/>\n",
              "</g>\n",
              "\n",
              "<g class=\"displacy-arrow\">\n",
              "    <path class=\"displacy-arc\" id=\"arrow-c7634d58284a486cb066feb420412e73-0-6\" stroke-width=\"2px\" d=\"M665,554.5 C665,512.0 670.0,512.0 670.0,554.5\" fill=\"none\" stroke=\"currentColor\"/>\n",
              "    <text dy=\"1.25em\" style=\"font-size: 0.8em; letter-spacing: 1px\">\n",
              "        <textPath xlink:href=\"#arrow-c7634d58284a486cb066feb420412e73-0-6\" class=\"displacy-label\" startOffset=\"50%\" side=\"left\" fill=\"currentColor\" text-anchor=\"middle\">compound</textPath>\n",
              "    </text>\n",
              "    <path class=\"displacy-arrowhead\" d=\"M665,556.5 L657,544.5 673,544.5\" fill=\"currentColor\"/>\n",
              "</g>\n",
              "\n",
              "<g class=\"displacy-arrow\">\n",
              "    <path class=\"displacy-arc\" id=\"arrow-c7634d58284a486cb066feb420412e73-0-7\" stroke-width=\"2px\" d=\"M410,554.5 C410,384.5 685.0,384.5 685.0,554.5\" fill=\"none\" stroke=\"currentColor\"/>\n",
              "    <text dy=\"1.25em\" style=\"font-size: 0.8em; letter-spacing: 1px\">\n",
              "        <textPath xlink:href=\"#arrow-c7634d58284a486cb066feb420412e73-0-7\" class=\"displacy-label\" startOffset=\"50%\" side=\"left\" fill=\"currentColor\" text-anchor=\"middle\">dobj</textPath>\n",
              "    </text>\n",
              "    <path class=\"displacy-arrowhead\" d=\"M685.0,556.5 L693.0,544.5 677.0,544.5\" fill=\"currentColor\"/>\n",
              "</g>\n",
              "\n",
              "<g class=\"displacy-arrow\">\n",
              "    <path class=\"displacy-arc\" id=\"arrow-c7634d58284a486cb066feb420412e73-0-8\" stroke-width=\"2px\" d=\"M835,554.5 C835,512.0 840.0,512.0 840.0,554.5\" fill=\"none\" stroke=\"currentColor\"/>\n",
              "    <text dy=\"1.25em\" style=\"font-size: 0.8em; letter-spacing: 1px\">\n",
              "        <textPath xlink:href=\"#arrow-c7634d58284a486cb066feb420412e73-0-8\" class=\"displacy-label\" startOffset=\"50%\" side=\"left\" fill=\"currentColor\" text-anchor=\"middle\">det</textPath>\n",
              "    </text>\n",
              "    <path class=\"displacy-arrowhead\" d=\"M835,556.5 L827,544.5 843,544.5\" fill=\"currentColor\"/>\n",
              "</g>\n",
              "\n",
              "<g class=\"displacy-arrow\">\n",
              "    <path class=\"displacy-arc\" id=\"arrow-c7634d58284a486cb066feb420412e73-0-9\" stroke-width=\"2px\" d=\"M410,554.5 C410,299.5 865.0,299.5 865.0,554.5\" fill=\"none\" stroke=\"currentColor\"/>\n",
              "    <text dy=\"1.25em\" style=\"font-size: 0.8em; letter-spacing: 1px\">\n",
              "        <textPath xlink:href=\"#arrow-c7634d58284a486cb066feb420412e73-0-9\" class=\"displacy-label\" startOffset=\"50%\" side=\"left\" fill=\"currentColor\" text-anchor=\"middle\">npadvmod</textPath>\n",
              "    </text>\n",
              "    <path class=\"displacy-arrowhead\" d=\"M865.0,556.5 L873.0,544.5 857.0,544.5\" fill=\"currentColor\"/>\n",
              "</g>\n",
              "\n",
              "<g class=\"displacy-arrow\">\n",
              "    <path class=\"displacy-arc\" id=\"arrow-c7634d58284a486cb066feb420412e73-0-10\" stroke-width=\"2px\" d=\"M410,554.5 C410,257.0 955.0,257.0 955.0,554.5\" fill=\"none\" stroke=\"currentColor\"/>\n",
              "    <text dy=\"1.25em\" style=\"font-size: 0.8em; letter-spacing: 1px\">\n",
              "        <textPath xlink:href=\"#arrow-c7634d58284a486cb066feb420412e73-0-10\" class=\"displacy-label\" startOffset=\"50%\" side=\"left\" fill=\"currentColor\" text-anchor=\"middle\">prep</textPath>\n",
              "    </text>\n",
              "    <path class=\"displacy-arrowhead\" d=\"M955.0,556.5 L963.0,544.5 947.0,544.5\" fill=\"currentColor\"/>\n",
              "</g>\n",
              "\n",
              "<g class=\"displacy-arrow\">\n",
              "    <path class=\"displacy-arc\" id=\"arrow-c7634d58284a486cb066feb420412e73-0-11\" stroke-width=\"2px\" d=\"M1090,554.5 C1090,384.5 1365.0,384.5 1365.0,554.5\" fill=\"none\" stroke=\"currentColor\"/>\n",
              "    <text dy=\"1.25em\" style=\"font-size: 0.8em; letter-spacing: 1px\">\n",
              "        <textPath xlink:href=\"#arrow-c7634d58284a486cb066feb420412e73-0-11\" class=\"displacy-label\" startOffset=\"50%\" side=\"left\" fill=\"currentColor\" text-anchor=\"middle\">compound</textPath>\n",
              "    </text>\n",
              "    <path class=\"displacy-arrowhead\" d=\"M1090,556.5 L1082,544.5 1098,544.5\" fill=\"currentColor\"/>\n",
              "</g>\n",
              "\n",
              "<g class=\"displacy-arrow\">\n",
              "    <path class=\"displacy-arc\" id=\"arrow-c7634d58284a486cb066feb420412e73-0-12\" stroke-width=\"2px\" d=\"M1175,554.5 C1175,427.0 1360.0,427.0 1360.0,554.5\" fill=\"none\" stroke=\"currentColor\"/>\n",
              "    <text dy=\"1.25em\" style=\"font-size: 0.8em; letter-spacing: 1px\">\n",
              "        <textPath xlink:href=\"#arrow-c7634d58284a486cb066feb420412e73-0-12\" class=\"displacy-label\" startOffset=\"50%\" side=\"left\" fill=\"currentColor\" text-anchor=\"middle\">nmod</textPath>\n",
              "    </text>\n",
              "    <path class=\"displacy-arrowhead\" d=\"M1175,556.5 L1167,544.5 1183,544.5\" fill=\"currentColor\"/>\n",
              "</g>\n",
              "\n",
              "<g class=\"displacy-arrow\">\n",
              "    <path class=\"displacy-arc\" id=\"arrow-c7634d58284a486cb066feb420412e73-0-13\" stroke-width=\"2px\" d=\"M1260,554.5 C1260,469.5 1355.0,469.5 1355.0,554.5\" fill=\"none\" stroke=\"currentColor\"/>\n",
              "    <text dy=\"1.25em\" style=\"font-size: 0.8em; letter-spacing: 1px\">\n",
              "        <textPath xlink:href=\"#arrow-c7634d58284a486cb066feb420412e73-0-13\" class=\"displacy-label\" startOffset=\"50%\" side=\"left\" fill=\"currentColor\" text-anchor=\"middle\">punct</textPath>\n",
              "    </text>\n",
              "    <path class=\"displacy-arrowhead\" d=\"M1260,556.5 L1252,544.5 1268,544.5\" fill=\"currentColor\"/>\n",
              "</g>\n",
              "\n",
              "<g class=\"displacy-arrow\">\n",
              "    <path class=\"displacy-arc\" id=\"arrow-c7634d58284a486cb066feb420412e73-0-14\" stroke-width=\"2px\" d=\"M1345,554.5 C1345,512.0 1350.0,512.0 1350.0,554.5\" fill=\"none\" stroke=\"currentColor\"/>\n",
              "    <text dy=\"1.25em\" style=\"font-size: 0.8em; letter-spacing: 1px\">\n",
              "        <textPath xlink:href=\"#arrow-c7634d58284a486cb066feb420412e73-0-14\" class=\"displacy-label\" startOffset=\"50%\" side=\"left\" fill=\"currentColor\" text-anchor=\"middle\">amod</textPath>\n",
              "    </text>\n",
              "    <path class=\"displacy-arrowhead\" d=\"M1345,556.5 L1337,544.5 1353,544.5\" fill=\"currentColor\"/>\n",
              "</g>\n",
              "\n",
              "<g class=\"displacy-arrow\">\n",
              "    <path class=\"displacy-arc\" id=\"arrow-c7634d58284a486cb066feb420412e73-0-15\" stroke-width=\"2px\" d=\"M1005,554.5 C1005,342.0 1370.0,342.0 1370.0,554.5\" fill=\"none\" stroke=\"currentColor\"/>\n",
              "    <text dy=\"1.25em\" style=\"font-size: 0.8em; letter-spacing: 1px\">\n",
              "        <textPath xlink:href=\"#arrow-c7634d58284a486cb066feb420412e73-0-15\" class=\"displacy-label\" startOffset=\"50%\" side=\"left\" fill=\"currentColor\" text-anchor=\"middle\">pobj</textPath>\n",
              "    </text>\n",
              "    <path class=\"displacy-arrowhead\" d=\"M1370.0,556.5 L1378.0,544.5 1362.0,544.5\" fill=\"currentColor\"/>\n",
              "</g>\n",
              "\n",
              "<g class=\"displacy-arrow\">\n",
              "    <path class=\"displacy-arc\" id=\"arrow-c7634d58284a486cb066feb420412e73-0-16\" stroke-width=\"2px\" d=\"M1430,554.5 C1430,512.0 1435.0,512.0 1435.0,554.5\" fill=\"none\" stroke=\"currentColor\"/>\n",
              "    <text dy=\"1.25em\" style=\"font-size: 0.8em; letter-spacing: 1px\">\n",
              "        <textPath xlink:href=\"#arrow-c7634d58284a486cb066feb420412e73-0-16\" class=\"displacy-label\" startOffset=\"50%\" side=\"left\" fill=\"currentColor\" text-anchor=\"middle\"></textPath>\n",
              "    </text>\n",
              "    <path class=\"displacy-arrowhead\" d=\"M1435.0,556.5 L1443.0,544.5 1427.0,544.5\" fill=\"currentColor\"/>\n",
              "</g>\n",
              "\n",
              "<g class=\"displacy-arrow\">\n",
              "    <path class=\"displacy-arc\" id=\"arrow-c7634d58284a486cb066feb420412e73-0-17\" stroke-width=\"2px\" d=\"M1600,554.5 C1600,469.5 1695.0,469.5 1695.0,554.5\" fill=\"none\" stroke=\"currentColor\"/>\n",
              "    <text dy=\"1.25em\" style=\"font-size: 0.8em; letter-spacing: 1px\">\n",
              "        <textPath xlink:href=\"#arrow-c7634d58284a486cb066feb420412e73-0-17\" class=\"displacy-label\" startOffset=\"50%\" side=\"left\" fill=\"currentColor\" text-anchor=\"middle\">compound</textPath>\n",
              "    </text>\n",
              "    <path class=\"displacy-arrowhead\" d=\"M1600,556.5 L1592,544.5 1608,544.5\" fill=\"currentColor\"/>\n",
              "</g>\n",
              "\n",
              "<g class=\"displacy-arrow\">\n",
              "    <path class=\"displacy-arc\" id=\"arrow-c7634d58284a486cb066feb420412e73-0-18\" stroke-width=\"2px\" d=\"M1685,554.5 C1685,512.0 1690.0,512.0 1690.0,554.5\" fill=\"none\" stroke=\"currentColor\"/>\n",
              "    <text dy=\"1.25em\" style=\"font-size: 0.8em; letter-spacing: 1px\">\n",
              "        <textPath xlink:href=\"#arrow-c7634d58284a486cb066feb420412e73-0-18\" class=\"displacy-label\" startOffset=\"50%\" side=\"left\" fill=\"currentColor\" text-anchor=\"middle\">compound</textPath>\n",
              "    </text>\n",
              "    <path class=\"displacy-arrowhead\" d=\"M1685,556.5 L1677,544.5 1693,544.5\" fill=\"currentColor\"/>\n",
              "</g>\n",
              "\n",
              "<g class=\"displacy-arrow\">\n",
              "    <path class=\"displacy-arc\" id=\"arrow-c7634d58284a486cb066feb420412e73-0-19\" stroke-width=\"2px\" d=\"M1430,554.5 C1430,384.5 1705.0,384.5 1705.0,554.5\" fill=\"none\" stroke=\"currentColor\"/>\n",
              "    <text dy=\"1.25em\" style=\"font-size: 0.8em; letter-spacing: 1px\">\n",
              "        <textPath xlink:href=\"#arrow-c7634d58284a486cb066feb420412e73-0-19\" class=\"displacy-label\" startOffset=\"50%\" side=\"left\" fill=\"currentColor\" text-anchor=\"middle\">appos</textPath>\n",
              "    </text>\n",
              "    <path class=\"displacy-arrowhead\" d=\"M1705.0,556.5 L1713.0,544.5 1697.0,544.5\" fill=\"currentColor\"/>\n",
              "</g>\n",
              "\n",
              "<g class=\"displacy-arrow\">\n",
              "    <path class=\"displacy-arc\" id=\"arrow-c7634d58284a486cb066feb420412e73-0-20\" stroke-width=\"2px\" d=\"M1855,554.5 C1855,299.5 2310.0,299.5 2310.0,554.5\" fill=\"none\" stroke=\"currentColor\"/>\n",
              "    <text dy=\"1.25em\" style=\"font-size: 0.8em; letter-spacing: 1px\">\n",
              "        <textPath xlink:href=\"#arrow-c7634d58284a486cb066feb420412e73-0-20\" class=\"displacy-label\" startOffset=\"50%\" side=\"left\" fill=\"currentColor\" text-anchor=\"middle\">det</textPath>\n",
              "    </text>\n",
              "    <path class=\"displacy-arrowhead\" d=\"M1855,556.5 L1847,544.5 1863,544.5\" fill=\"currentColor\"/>\n",
              "</g>\n",
              "\n",
              "<g class=\"displacy-arrow\">\n",
              "    <path class=\"displacy-arc\" id=\"arrow-c7634d58284a486cb066feb420412e73-0-21\" stroke-width=\"2px\" d=\"M1940,554.5 C1940,342.0 2305.0,342.0 2305.0,554.5\" fill=\"none\" stroke=\"currentColor\"/>\n",
              "    <text dy=\"1.25em\" style=\"font-size: 0.8em; letter-spacing: 1px\">\n",
              "        <textPath xlink:href=\"#arrow-c7634d58284a486cb066feb420412e73-0-21\" class=\"displacy-label\" startOffset=\"50%\" side=\"left\" fill=\"currentColor\" text-anchor=\"middle\">amod</textPath>\n",
              "    </text>\n",
              "    <path class=\"displacy-arrowhead\" d=\"M1940,556.5 L1932,544.5 1948,544.5\" fill=\"currentColor\"/>\n",
              "</g>\n",
              "\n",
              "<g class=\"displacy-arrow\">\n",
              "    <path class=\"displacy-arc\" id=\"arrow-c7634d58284a486cb066feb420412e73-0-22\" stroke-width=\"2px\" d=\"M2025,554.5 C2025,512.0 2030.0,512.0 2030.0,554.5\" fill=\"none\" stroke=\"currentColor\"/>\n",
              "    <text dy=\"1.25em\" style=\"font-size: 0.8em; letter-spacing: 1px\">\n",
              "        <textPath xlink:href=\"#arrow-c7634d58284a486cb066feb420412e73-0-22\" class=\"displacy-label\" startOffset=\"50%\" side=\"left\" fill=\"currentColor\" text-anchor=\"middle\">npadvmod</textPath>\n",
              "    </text>\n",
              "    <path class=\"displacy-arrowhead\" d=\"M2025,556.5 L2017,544.5 2033,544.5\" fill=\"currentColor\"/>\n",
              "</g>\n",
              "\n",
              "<g class=\"displacy-arrow\">\n",
              "    <path class=\"displacy-arc\" id=\"arrow-c7634d58284a486cb066feb420412e73-0-23\" stroke-width=\"2px\" d=\"M2110,554.5 C2110,427.0 2295.0,427.0 2295.0,554.5\" fill=\"none\" stroke=\"currentColor\"/>\n",
              "    <text dy=\"1.25em\" style=\"font-size: 0.8em; letter-spacing: 1px\">\n",
              "        <textPath xlink:href=\"#arrow-c7634d58284a486cb066feb420412e73-0-23\" class=\"displacy-label\" startOffset=\"50%\" side=\"left\" fill=\"currentColor\" text-anchor=\"middle\">amod</textPath>\n",
              "    </text>\n",
              "    <path class=\"displacy-arrowhead\" d=\"M2110,556.5 L2102,544.5 2118,544.5\" fill=\"currentColor\"/>\n",
              "</g>\n",
              "\n",
              "<g class=\"displacy-arrow\">\n",
              "    <path class=\"displacy-arc\" id=\"arrow-c7634d58284a486cb066feb420412e73-0-24\" stroke-width=\"2px\" d=\"M2195,554.5 C2195,512.0 2200.0,512.0 2200.0,554.5\" fill=\"none\" stroke=\"currentColor\"/>\n",
              "    <text dy=\"1.25em\" style=\"font-size: 0.8em; letter-spacing: 1px\">\n",
              "        <textPath xlink:href=\"#arrow-c7634d58284a486cb066feb420412e73-0-24\" class=\"displacy-label\" startOffset=\"50%\" side=\"left\" fill=\"currentColor\" text-anchor=\"middle\">npadvmod</textPath>\n",
              "    </text>\n",
              "    <path class=\"displacy-arrowhead\" d=\"M2195,556.5 L2187,544.5 2203,544.5\" fill=\"currentColor\"/>\n",
              "</g>\n",
              "\n",
              "<g class=\"displacy-arrow\">\n",
              "    <path class=\"displacy-arc\" id=\"arrow-c7634d58284a486cb066feb420412e73-0-25\" stroke-width=\"2px\" d=\"M2280,554.5 C2280,512.0 2285.0,512.0 2285.0,554.5\" fill=\"none\" stroke=\"currentColor\"/>\n",
              "    <text dy=\"1.25em\" style=\"font-size: 0.8em; letter-spacing: 1px\">\n",
              "        <textPath xlink:href=\"#arrow-c7634d58284a486cb066feb420412e73-0-25\" class=\"displacy-label\" startOffset=\"50%\" side=\"left\" fill=\"currentColor\" text-anchor=\"middle\">amod</textPath>\n",
              "    </text>\n",
              "    <path class=\"displacy-arrowhead\" d=\"M2280,556.5 L2272,544.5 2288,544.5\" fill=\"currentColor\"/>\n",
              "</g>\n",
              "\n",
              "<g class=\"displacy-arrow\">\n",
              "    <path class=\"displacy-arc\" id=\"arrow-c7634d58284a486cb066feb420412e73-0-26\" stroke-width=\"2px\" d=\"M2365,554.5 C2365,512.0 2370.0,512.0 2370.0,554.5\" fill=\"none\" stroke=\"currentColor\"/>\n",
              "    <text dy=\"1.25em\" style=\"font-size: 0.8em; letter-spacing: 1px\">\n",
              "        <textPath xlink:href=\"#arrow-c7634d58284a486cb066feb420412e73-0-26\" class=\"displacy-label\" startOffset=\"50%\" side=\"left\" fill=\"currentColor\" text-anchor=\"middle\">nsubj</textPath>\n",
              "    </text>\n",
              "    <path class=\"displacy-arrowhead\" d=\"M2365,556.5 L2357,544.5 2373,544.5\" fill=\"currentColor\"/>\n",
              "</g>\n",
              "\n",
              "<g class=\"displacy-arrow\">\n",
              "    <path class=\"displacy-arc\" id=\"arrow-c7634d58284a486cb066feb420412e73-0-27\" stroke-width=\"2px\" d=\"M750,554.5 C750,129.5 2415.0,129.5 2415.0,554.5\" fill=\"none\" stroke=\"currentColor\"/>\n",
              "    <text dy=\"1.25em\" style=\"font-size: 0.8em; letter-spacing: 1px\">\n",
              "        <textPath xlink:href=\"#arrow-c7634d58284a486cb066feb420412e73-0-27\" class=\"displacy-label\" startOffset=\"50%\" side=\"left\" fill=\"currentColor\" text-anchor=\"middle\">acl</textPath>\n",
              "    </text>\n",
              "    <path class=\"displacy-arrowhead\" d=\"M2415.0,556.5 L2423.0,544.5 2407.0,544.5\" fill=\"currentColor\"/>\n",
              "</g>\n",
              "\n",
              "<g class=\"displacy-arrow\">\n",
              "    <path class=\"displacy-arc\" id=\"arrow-c7634d58284a486cb066feb420412e73-0-28\" stroke-width=\"2px\" d=\"M2535,554.5 C2535,512.0 2540.0,512.0 2540.0,554.5\" fill=\"none\" stroke=\"currentColor\"/>\n",
              "    <text dy=\"1.25em\" style=\"font-size: 0.8em; letter-spacing: 1px\">\n",
              "        <textPath xlink:href=\"#arrow-c7634d58284a486cb066feb420412e73-0-28\" class=\"displacy-label\" startOffset=\"50%\" side=\"left\" fill=\"currentColor\" text-anchor=\"middle\">aux</textPath>\n",
              "    </text>\n",
              "    <path class=\"displacy-arrowhead\" d=\"M2535,556.5 L2527,544.5 2543,544.5\" fill=\"currentColor\"/>\n",
              "</g>\n",
              "\n",
              "<g class=\"displacy-arrow\">\n",
              "    <path class=\"displacy-arc\" id=\"arrow-c7634d58284a486cb066feb420412e73-0-29\" stroke-width=\"2px\" d=\"M2450,554.5 C2450,469.5 2545.0,469.5 2545.0,554.5\" fill=\"none\" stroke=\"currentColor\"/>\n",
              "    <text dy=\"1.25em\" style=\"font-size: 0.8em; letter-spacing: 1px\">\n",
              "        <textPath xlink:href=\"#arrow-c7634d58284a486cb066feb420412e73-0-29\" class=\"displacy-label\" startOffset=\"50%\" side=\"left\" fill=\"currentColor\" text-anchor=\"middle\">xcomp</textPath>\n",
              "    </text>\n",
              "    <path class=\"displacy-arrowhead\" d=\"M2545.0,556.5 L2553.0,544.5 2537.0,544.5\" fill=\"currentColor\"/>\n",
              "</g>\n",
              "\n",
              "<g class=\"displacy-arrow\">\n",
              "    <path class=\"displacy-arc\" id=\"arrow-c7634d58284a486cb066feb420412e73-0-30\" stroke-width=\"2px\" d=\"M2705,554.5 C2705,469.5 2800.0,469.5 2800.0,554.5\" fill=\"none\" stroke=\"currentColor\"/>\n",
              "    <text dy=\"1.25em\" style=\"font-size: 0.8em; letter-spacing: 1px\">\n",
              "        <textPath xlink:href=\"#arrow-c7634d58284a486cb066feb420412e73-0-30\" class=\"displacy-label\" startOffset=\"50%\" side=\"left\" fill=\"currentColor\" text-anchor=\"middle\">amod</textPath>\n",
              "    </text>\n",
              "    <path class=\"displacy-arrowhead\" d=\"M2705,556.5 L2697,544.5 2713,544.5\" fill=\"currentColor\"/>\n",
              "</g>\n",
              "\n",
              "<g class=\"displacy-arrow\">\n",
              "    <path class=\"displacy-arc\" id=\"arrow-c7634d58284a486cb066feb420412e73-0-31\" stroke-width=\"2px\" d=\"M2705,554.5 C2705,512.0 2710.0,512.0 2710.0,554.5\" fill=\"none\" stroke=\"currentColor\"/>\n",
              "    <text dy=\"1.25em\" style=\"font-size: 0.8em; letter-spacing: 1px\">\n",
              "        <textPath xlink:href=\"#arrow-c7634d58284a486cb066feb420412e73-0-31\" class=\"displacy-label\" startOffset=\"50%\" side=\"left\" fill=\"currentColor\" text-anchor=\"middle\"></textPath>\n",
              "    </text>\n",
              "    <path class=\"displacy-arrowhead\" d=\"M2710.0,556.5 L2718.0,544.5 2702.0,544.5\" fill=\"currentColor\"/>\n",
              "</g>\n",
              "\n",
              "<g class=\"displacy-arrow\">\n",
              "    <path class=\"displacy-arc\" id=\"arrow-c7634d58284a486cb066feb420412e73-0-32\" stroke-width=\"2px\" d=\"M2620,554.5 C2620,427.0 2805.0,427.0 2805.0,554.5\" fill=\"none\" stroke=\"currentColor\"/>\n",
              "    <text dy=\"1.25em\" style=\"font-size: 0.8em; letter-spacing: 1px\">\n",
              "        <textPath xlink:href=\"#arrow-c7634d58284a486cb066feb420412e73-0-32\" class=\"displacy-label\" startOffset=\"50%\" side=\"left\" fill=\"currentColor\" text-anchor=\"middle\">dobj</textPath>\n",
              "    </text>\n",
              "    <path class=\"displacy-arrowhead\" d=\"M2805.0,556.5 L2813.0,544.5 2797.0,544.5\" fill=\"currentColor\"/>\n",
              "</g>\n",
              "\n",
              "<g class=\"displacy-arrow\">\n",
              "    <path class=\"displacy-arc\" id=\"arrow-c7634d58284a486cb066feb420412e73-0-33\" stroke-width=\"2px\" d=\"M2960,554.5 C2960,512.0 2965.0,512.0 2965.0,554.5\" fill=\"none\" stroke=\"currentColor\"/>\n",
              "    <text dy=\"1.25em\" style=\"font-size: 0.8em; letter-spacing: 1px\">\n",
              "        <textPath xlink:href=\"#arrow-c7634d58284a486cb066feb420412e73-0-33\" class=\"displacy-label\" startOffset=\"50%\" side=\"left\" fill=\"currentColor\" text-anchor=\"middle\">det</textPath>\n",
              "    </text>\n",
              "    <path class=\"displacy-arrowhead\" d=\"M2960,556.5 L2952,544.5 2968,544.5\" fill=\"currentColor\"/>\n",
              "</g>\n",
              "\n",
              "<g class=\"displacy-arrow\">\n",
              "    <path class=\"displacy-arc\" id=\"arrow-c7634d58284a486cb066feb420412e73-0-34\" stroke-width=\"2px\" d=\"M3045,554.5 C3045,87.0 4800.0,87.0 4800.0,554.5\" fill=\"none\" stroke=\"currentColor\"/>\n",
              "    <text dy=\"1.25em\" style=\"font-size: 0.8em; letter-spacing: 1px\">\n",
              "        <textPath xlink:href=\"#arrow-c7634d58284a486cb066feb420412e73-0-34\" class=\"displacy-label\" startOffset=\"50%\" side=\"left\" fill=\"currentColor\" text-anchor=\"middle\">nsubj</textPath>\n",
              "    </text>\n",
              "    <path class=\"displacy-arrowhead\" d=\"M3045,556.5 L3037,544.5 3053,544.5\" fill=\"currentColor\"/>\n",
              "</g>\n",
              "\n",
              "<g class=\"displacy-arrow\">\n",
              "    <path class=\"displacy-arc\" id=\"arrow-c7634d58284a486cb066feb420412e73-0-35\" stroke-width=\"2px\" d=\"M3130,554.5 C3130,257.0 3675.0,257.0 3675.0,554.5\" fill=\"none\" stroke=\"currentColor\"/>\n",
              "    <text dy=\"1.25em\" style=\"font-size: 0.8em; letter-spacing: 1px\">\n",
              "        <textPath xlink:href=\"#arrow-c7634d58284a486cb066feb420412e73-0-35\" class=\"displacy-label\" startOffset=\"50%\" side=\"left\" fill=\"currentColor\" text-anchor=\"middle\">mark</textPath>\n",
              "    </text>\n",
              "    <path class=\"displacy-arrowhead\" d=\"M3130,556.5 L3122,544.5 3138,544.5\" fill=\"currentColor\"/>\n",
              "</g>\n",
              "\n",
              "<g class=\"displacy-arrow\">\n",
              "    <path class=\"displacy-arc\" id=\"arrow-c7634d58284a486cb066feb420412e73-0-36\" stroke-width=\"2px\" d=\"M3215,554.5 C3215,512.0 3220.0,512.0 3220.0,554.5\" fill=\"none\" stroke=\"currentColor\"/>\n",
              "    <text dy=\"1.25em\" style=\"font-size: 0.8em; letter-spacing: 1px\">\n",
              "        <textPath xlink:href=\"#arrow-c7634d58284a486cb066feb420412e73-0-36\" class=\"displacy-label\" startOffset=\"50%\" side=\"left\" fill=\"currentColor\" text-anchor=\"middle\">det</textPath>\n",
              "    </text>\n",
              "    <path class=\"displacy-arrowhead\" d=\"M3215,556.5 L3207,544.5 3223,544.5\" fill=\"currentColor\"/>\n",
              "</g>\n",
              "\n",
              "<g class=\"displacy-arrow\">\n",
              "    <path class=\"displacy-arc\" id=\"arrow-c7634d58284a486cb066feb420412e73-0-37\" stroke-width=\"2px\" d=\"M3300,554.5 C3300,342.0 3665.0,342.0 3665.0,554.5\" fill=\"none\" stroke=\"currentColor\"/>\n",
              "    <text dy=\"1.25em\" style=\"font-size: 0.8em; letter-spacing: 1px\">\n",
              "        <textPath xlink:href=\"#arrow-c7634d58284a486cb066feb420412e73-0-37\" class=\"displacy-label\" startOffset=\"50%\" side=\"left\" fill=\"currentColor\" text-anchor=\"middle\">nsubj</textPath>\n",
              "    </text>\n",
              "    <path class=\"displacy-arrowhead\" d=\"M3300,556.5 L3292,544.5 3308,544.5\" fill=\"currentColor\"/>\n",
              "</g>\n",
              "\n",
              "<g class=\"displacy-arrow\">\n",
              "    <path class=\"displacy-arc\" id=\"arrow-c7634d58284a486cb066feb420412e73-0-38\" stroke-width=\"2px\" d=\"M3300,554.5 C3300,512.0 3305.0,512.0 3305.0,554.5\" fill=\"none\" stroke=\"currentColor\"/>\n",
              "    <text dy=\"1.25em\" style=\"font-size: 0.8em; letter-spacing: 1px\">\n",
              "        <textPath xlink:href=\"#arrow-c7634d58284a486cb066feb420412e73-0-38\" class=\"displacy-label\" startOffset=\"50%\" side=\"left\" fill=\"currentColor\" text-anchor=\"middle\">prep</textPath>\n",
              "    </text>\n",
              "    <path class=\"displacy-arrowhead\" d=\"M3305.0,556.5 L3313.0,544.5 3297.0,544.5\" fill=\"currentColor\"/>\n",
              "</g>\n",
              "\n",
              "<g class=\"displacy-arrow\">\n",
              "    <path class=\"displacy-arc\" id=\"arrow-c7634d58284a486cb066feb420412e73-0-39\" stroke-width=\"2px\" d=\"M3470,554.5 C3470,512.0 3475.0,512.0 3475.0,554.5\" fill=\"none\" stroke=\"currentColor\"/>\n",
              "    <text dy=\"1.25em\" style=\"font-size: 0.8em; letter-spacing: 1px\">\n",
              "        <textPath xlink:href=\"#arrow-c7634d58284a486cb066feb420412e73-0-39\" class=\"displacy-label\" startOffset=\"50%\" side=\"left\" fill=\"currentColor\" text-anchor=\"middle\">compound</textPath>\n",
              "    </text>\n",
              "    <path class=\"displacy-arrowhead\" d=\"M3470,556.5 L3462,544.5 3478,544.5\" fill=\"currentColor\"/>\n",
              "</g>\n",
              "\n",
              "<g class=\"displacy-arrow\">\n",
              "    <path class=\"displacy-arc\" id=\"arrow-c7634d58284a486cb066feb420412e73-0-40\" stroke-width=\"2px\" d=\"M3385,554.5 C3385,469.5 3480.0,469.5 3480.0,554.5\" fill=\"none\" stroke=\"currentColor\"/>\n",
              "    <text dy=\"1.25em\" style=\"font-size: 0.8em; letter-spacing: 1px\">\n",
              "        <textPath xlink:href=\"#arrow-c7634d58284a486cb066feb420412e73-0-40\" class=\"displacy-label\" startOffset=\"50%\" side=\"left\" fill=\"currentColor\" text-anchor=\"middle\">pobj</textPath>\n",
              "    </text>\n",
              "    <path class=\"displacy-arrowhead\" d=\"M3480.0,556.5 L3488.0,544.5 3472.0,544.5\" fill=\"currentColor\"/>\n",
              "</g>\n",
              "\n",
              "<g class=\"displacy-arrow\">\n",
              "    <path class=\"displacy-arc\" id=\"arrow-c7634d58284a486cb066feb420412e73-0-41\" stroke-width=\"2px\" d=\"M3640,554.5 C3640,512.0 3645.0,512.0 3645.0,554.5\" fill=\"none\" stroke=\"currentColor\"/>\n",
              "    <text dy=\"1.25em\" style=\"font-size: 0.8em; letter-spacing: 1px\">\n",
              "        <textPath xlink:href=\"#arrow-c7634d58284a486cb066feb420412e73-0-41\" class=\"displacy-label\" startOffset=\"50%\" side=\"left\" fill=\"currentColor\" text-anchor=\"middle\">aux</textPath>\n",
              "    </text>\n",
              "    <path class=\"displacy-arrowhead\" d=\"M3640,556.5 L3632,544.5 3648,544.5\" fill=\"currentColor\"/>\n",
              "</g>\n",
              "\n",
              "<g class=\"displacy-arrow\">\n",
              "    <path class=\"displacy-arc\" id=\"arrow-c7634d58284a486cb066feb420412e73-0-42\" stroke-width=\"2px\" d=\"M3045,554.5 C3045,214.5 3680.0,214.5 3680.0,554.5\" fill=\"none\" stroke=\"currentColor\"/>\n",
              "    <text dy=\"1.25em\" style=\"font-size: 0.8em; letter-spacing: 1px\">\n",
              "        <textPath xlink:href=\"#arrow-c7634d58284a486cb066feb420412e73-0-42\" class=\"displacy-label\" startOffset=\"50%\" side=\"left\" fill=\"currentColor\" text-anchor=\"middle\">acl</textPath>\n",
              "    </text>\n",
              "    <path class=\"displacy-arrowhead\" d=\"M3680.0,556.5 L3688.0,544.5 3672.0,544.5\" fill=\"currentColor\"/>\n",
              "</g>\n",
              "\n",
              "<g class=\"displacy-arrow\">\n",
              "    <path class=\"displacy-arc\" id=\"arrow-c7634d58284a486cb066feb420412e73-0-43\" stroke-width=\"2px\" d=\"M3725,554.5 C3725,512.0 3730.0,512.0 3730.0,554.5\" fill=\"none\" stroke=\"currentColor\"/>\n",
              "    <text dy=\"1.25em\" style=\"font-size: 0.8em; letter-spacing: 1px\">\n",
              "        <textPath xlink:href=\"#arrow-c7634d58284a486cb066feb420412e73-0-43\" class=\"displacy-label\" startOffset=\"50%\" side=\"left\" fill=\"currentColor\" text-anchor=\"middle\">prep</textPath>\n",
              "    </text>\n",
              "    <path class=\"displacy-arrowhead\" d=\"M3730.0,556.5 L3738.0,544.5 3722.0,544.5\" fill=\"currentColor\"/>\n",
              "</g>\n",
              "\n",
              "<g class=\"displacy-arrow\">\n",
              "    <path class=\"displacy-arc\" id=\"arrow-c7634d58284a486cb066feb420412e73-0-44\" stroke-width=\"2px\" d=\"M3810,554.5 C3810,512.0 3815.0,512.0 3815.0,554.5\" fill=\"none\" stroke=\"currentColor\"/>\n",
              "    <text dy=\"1.25em\" style=\"font-size: 0.8em; letter-spacing: 1px\">\n",
              "        <textPath xlink:href=\"#arrow-c7634d58284a486cb066feb420412e73-0-44\" class=\"displacy-label\" startOffset=\"50%\" side=\"left\" fill=\"currentColor\" text-anchor=\"middle\">pobj</textPath>\n",
              "    </text>\n",
              "    <path class=\"displacy-arrowhead\" d=\"M3815.0,556.5 L3823.0,544.5 3807.0,544.5\" fill=\"currentColor\"/>\n",
              "</g>\n",
              "\n",
              "<g class=\"displacy-arrow\">\n",
              "    <path class=\"displacy-arc\" id=\"arrow-c7634d58284a486cb066feb420412e73-0-45\" stroke-width=\"2px\" d=\"M3895,554.5 C3895,512.0 3900.0,512.0 3900.0,554.5\" fill=\"none\" stroke=\"currentColor\"/>\n",
              "    <text dy=\"1.25em\" style=\"font-size: 0.8em; letter-spacing: 1px\">\n",
              "        <textPath xlink:href=\"#arrow-c7634d58284a486cb066feb420412e73-0-45\" class=\"displacy-label\" startOffset=\"50%\" side=\"left\" fill=\"currentColor\" text-anchor=\"middle\">prep</textPath>\n",
              "    </text>\n",
              "    <path class=\"displacy-arrowhead\" d=\"M3900.0,556.5 L3908.0,544.5 3892.0,544.5\" fill=\"currentColor\"/>\n",
              "</g>\n",
              "\n",
              "<g class=\"displacy-arrow\">\n",
              "    <path class=\"displacy-arc\" id=\"arrow-c7634d58284a486cb066feb420412e73-0-46\" stroke-width=\"2px\" d=\"M4065,554.5 C4065,427.0 4250.0,427.0 4250.0,554.5\" fill=\"none\" stroke=\"currentColor\"/>\n",
              "    <text dy=\"1.25em\" style=\"font-size: 0.8em; letter-spacing: 1px\">\n",
              "        <textPath xlink:href=\"#arrow-c7634d58284a486cb066feb420412e73-0-46\" class=\"displacy-label\" startOffset=\"50%\" side=\"left\" fill=\"currentColor\" text-anchor=\"middle\">det</textPath>\n",
              "    </text>\n",
              "    <path class=\"displacy-arrowhead\" d=\"M4065,556.5 L4057,544.5 4073,544.5\" fill=\"currentColor\"/>\n",
              "</g>\n",
              "\n",
              "<g class=\"displacy-arrow\">\n",
              "    <path class=\"displacy-arc\" id=\"arrow-c7634d58284a486cb066feb420412e73-0-47\" stroke-width=\"2px\" d=\"M4150,554.5 C4150,469.5 4245.0,469.5 4245.0,554.5\" fill=\"none\" stroke=\"currentColor\"/>\n",
              "    <text dy=\"1.25em\" style=\"font-size: 0.8em; letter-spacing: 1px\">\n",
              "        <textPath xlink:href=\"#arrow-c7634d58284a486cb066feb420412e73-0-47\" class=\"displacy-label\" startOffset=\"50%\" side=\"left\" fill=\"currentColor\" text-anchor=\"middle\">amod</textPath>\n",
              "    </text>\n",
              "    <path class=\"displacy-arrowhead\" d=\"M4150,556.5 L4142,544.5 4158,544.5\" fill=\"currentColor\"/>\n",
              "</g>\n",
              "\n",
              "<g class=\"displacy-arrow\">\n",
              "    <path class=\"displacy-arc\" id=\"arrow-c7634d58284a486cb066feb420412e73-0-48\" stroke-width=\"2px\" d=\"M4150,554.5 C4150,512.0 4155.0,512.0 4155.0,554.5\" fill=\"none\" stroke=\"currentColor\"/>\n",
              "    <text dy=\"1.25em\" style=\"font-size: 0.8em; letter-spacing: 1px\">\n",
              "        <textPath xlink:href=\"#arrow-c7634d58284a486cb066feb420412e73-0-48\" class=\"displacy-label\" startOffset=\"50%\" side=\"left\" fill=\"currentColor\" text-anchor=\"middle\"></textPath>\n",
              "    </text>\n",
              "    <path class=\"displacy-arrowhead\" d=\"M4155.0,556.5 L4163.0,544.5 4147.0,544.5\" fill=\"currentColor\"/>\n",
              "</g>\n",
              "\n",
              "<g class=\"displacy-arrow\">\n",
              "    <path class=\"displacy-arc\" id=\"arrow-c7634d58284a486cb066feb420412e73-0-49\" stroke-width=\"2px\" d=\"M3980,554.5 C3980,384.5 4255.0,384.5 4255.0,554.5\" fill=\"none\" stroke=\"currentColor\"/>\n",
              "    <text dy=\"1.25em\" style=\"font-size: 0.8em; letter-spacing: 1px\">\n",
              "        <textPath xlink:href=\"#arrow-c7634d58284a486cb066feb420412e73-0-49\" class=\"displacy-label\" startOffset=\"50%\" side=\"left\" fill=\"currentColor\" text-anchor=\"middle\">pobj</textPath>\n",
              "    </text>\n",
              "    <path class=\"displacy-arrowhead\" d=\"M4255.0,556.5 L4263.0,544.5 4247.0,544.5\" fill=\"currentColor\"/>\n",
              "</g>\n",
              "\n",
              "<g class=\"displacy-arrow\">\n",
              "    <path class=\"displacy-arc\" id=\"arrow-c7634d58284a486cb066feb420412e73-0-50\" stroke-width=\"2px\" d=\"M4320,554.5 C4320,512.0 4325.0,512.0 4325.0,554.5\" fill=\"none\" stroke=\"currentColor\"/>\n",
              "    <text dy=\"1.25em\" style=\"font-size: 0.8em; letter-spacing: 1px\">\n",
              "        <textPath xlink:href=\"#arrow-c7634d58284a486cb066feb420412e73-0-50\" class=\"displacy-label\" startOffset=\"50%\" side=\"left\" fill=\"currentColor\" text-anchor=\"middle\">amod</textPath>\n",
              "    </text>\n",
              "    <path class=\"displacy-arrowhead\" d=\"M4325.0,556.5 L4333.0,544.5 4317.0,544.5\" fill=\"currentColor\"/>\n",
              "</g>\n",
              "\n",
              "<g class=\"displacy-arrow\">\n",
              "    <path class=\"displacy-arc\" id=\"arrow-c7634d58284a486cb066feb420412e73-0-51\" stroke-width=\"2px\" d=\"M4490,554.5 C4490,512.0 4495.0,512.0 4495.0,554.5\" fill=\"none\" stroke=\"currentColor\"/>\n",
              "    <text dy=\"1.25em\" style=\"font-size: 0.8em; letter-spacing: 1px\">\n",
              "        <textPath xlink:href=\"#arrow-c7634d58284a486cb066feb420412e73-0-51\" class=\"displacy-label\" startOffset=\"50%\" side=\"left\" fill=\"currentColor\" text-anchor=\"middle\">aux</textPath>\n",
              "    </text>\n",
              "    <path class=\"displacy-arrowhead\" d=\"M4490,556.5 L4482,544.5 4498,544.5\" fill=\"currentColor\"/>\n",
              "</g>\n",
              "\n",
              "<g class=\"displacy-arrow\">\n",
              "    <path class=\"displacy-arc\" id=\"arrow-c7634d58284a486cb066feb420412e73-0-52\" stroke-width=\"2px\" d=\"M4405,554.5 C4405,469.5 4500.0,469.5 4500.0,554.5\" fill=\"none\" stroke=\"currentColor\"/>\n",
              "    <text dy=\"1.25em\" style=\"font-size: 0.8em; letter-spacing: 1px\">\n",
              "        <textPath xlink:href=\"#arrow-c7634d58284a486cb066feb420412e73-0-52\" class=\"displacy-label\" startOffset=\"50%\" side=\"left\" fill=\"currentColor\" text-anchor=\"middle\">xcomp</textPath>\n",
              "    </text>\n",
              "    <path class=\"displacy-arrowhead\" d=\"M4500.0,556.5 L4508.0,544.5 4492.0,544.5\" fill=\"currentColor\"/>\n",
              "</g>\n",
              "\n",
              "<g class=\"displacy-arrow\">\n",
              "    <path class=\"displacy-arc\" id=\"arrow-c7634d58284a486cb066feb420412e73-0-53\" stroke-width=\"2px\" d=\"M4660,554.5 C4660,512.0 4665.0,512.0 4665.0,554.5\" fill=\"none\" stroke=\"currentColor\"/>\n",
              "    <text dy=\"1.25em\" style=\"font-size: 0.8em; letter-spacing: 1px\">\n",
              "        <textPath xlink:href=\"#arrow-c7634d58284a486cb066feb420412e73-0-53\" class=\"displacy-label\" startOffset=\"50%\" side=\"left\" fill=\"currentColor\" text-anchor=\"middle\">advmod</textPath>\n",
              "    </text>\n",
              "    <path class=\"displacy-arrowhead\" d=\"M4660,556.5 L4652,544.5 4668,544.5\" fill=\"currentColor\"/>\n",
              "</g>\n",
              "\n",
              "<g class=\"displacy-arrow\">\n",
              "    <path class=\"displacy-arc\" id=\"arrow-c7634d58284a486cb066feb420412e73-0-54\" stroke-width=\"2px\" d=\"M4575,554.5 C4575,469.5 4670.0,469.5 4670.0,554.5\" fill=\"none\" stroke=\"currentColor\"/>\n",
              "    <text dy=\"1.25em\" style=\"font-size: 0.8em; letter-spacing: 1px\">\n",
              "        <textPath xlink:href=\"#arrow-c7634d58284a486cb066feb420412e73-0-54\" class=\"displacy-label\" startOffset=\"50%\" side=\"left\" fill=\"currentColor\" text-anchor=\"middle\">acomp</textPath>\n",
              "    </text>\n",
              "    <path class=\"displacy-arrowhead\" d=\"M4670.0,556.5 L4678.0,544.5 4662.0,544.5\" fill=\"currentColor\"/>\n",
              "</g>\n",
              "\n",
              "<g class=\"displacy-arrow\">\n",
              "    <path class=\"displacy-arc\" id=\"arrow-c7634d58284a486cb066feb420412e73-0-55\" stroke-width=\"2px\" d=\"M4915,554.5 C4915,469.5 5010.0,469.5 5010.0,554.5\" fill=\"none\" stroke=\"currentColor\"/>\n",
              "    <text dy=\"1.25em\" style=\"font-size: 0.8em; letter-spacing: 1px\">\n",
              "        <textPath xlink:href=\"#arrow-c7634d58284a486cb066feb420412e73-0-55\" class=\"displacy-label\" startOffset=\"50%\" side=\"left\" fill=\"currentColor\" text-anchor=\"middle\">det</textPath>\n",
              "    </text>\n",
              "    <path class=\"displacy-arrowhead\" d=\"M4915,556.5 L4907,544.5 4923,544.5\" fill=\"currentColor\"/>\n",
              "</g>\n",
              "\n",
              "<g class=\"displacy-arrow\">\n",
              "    <path class=\"displacy-arc\" id=\"arrow-c7634d58284a486cb066feb420412e73-0-56\" stroke-width=\"2px\" d=\"M5000,554.5 C5000,512.0 5005.0,512.0 5005.0,554.5\" fill=\"none\" stroke=\"currentColor\"/>\n",
              "    <text dy=\"1.25em\" style=\"font-size: 0.8em; letter-spacing: 1px\">\n",
              "        <textPath xlink:href=\"#arrow-c7634d58284a486cb066feb420412e73-0-56\" class=\"displacy-label\" startOffset=\"50%\" side=\"left\" fill=\"currentColor\" text-anchor=\"middle\">amod</textPath>\n",
              "    </text>\n",
              "    <path class=\"displacy-arrowhead\" d=\"M5000,556.5 L4992,544.5 5008,544.5\" fill=\"currentColor\"/>\n",
              "</g>\n",
              "\n",
              "<g class=\"displacy-arrow\">\n",
              "    <path class=\"displacy-arc\" id=\"arrow-c7634d58284a486cb066feb420412e73-0-57\" stroke-width=\"2px\" d=\"M4830,554.5 C4830,427.0 5015.0,427.0 5015.0,554.5\" fill=\"none\" stroke=\"currentColor\"/>\n",
              "    <text dy=\"1.25em\" style=\"font-size: 0.8em; letter-spacing: 1px\">\n",
              "        <textPath xlink:href=\"#arrow-c7634d58284a486cb066feb420412e73-0-57\" class=\"displacy-label\" startOffset=\"50%\" side=\"left\" fill=\"currentColor\" text-anchor=\"middle\">dobj</textPath>\n",
              "    </text>\n",
              "    <path class=\"displacy-arrowhead\" d=\"M5015.0,556.5 L5023.0,544.5 5007.0,544.5\" fill=\"currentColor\"/>\n",
              "</g>\n",
              "\n",
              "<g class=\"displacy-arrow\">\n",
              "    <path class=\"displacy-arc\" id=\"arrow-c7634d58284a486cb066feb420412e73-0-58\" stroke-width=\"2px\" d=\"M5085,554.5 C5085,512.0 5090.0,512.0 5090.0,554.5\" fill=\"none\" stroke=\"currentColor\"/>\n",
              "    <text dy=\"1.25em\" style=\"font-size: 0.8em; letter-spacing: 1px\">\n",
              "        <textPath xlink:href=\"#arrow-c7634d58284a486cb066feb420412e73-0-58\" class=\"displacy-label\" startOffset=\"50%\" side=\"left\" fill=\"currentColor\" text-anchor=\"middle\">prep</textPath>\n",
              "    </text>\n",
              "    <path class=\"displacy-arrowhead\" d=\"M5090.0,556.5 L5098.0,544.5 5082.0,544.5\" fill=\"currentColor\"/>\n",
              "</g>\n",
              "\n",
              "<g class=\"displacy-arrow\">\n",
              "    <path class=\"displacy-arc\" id=\"arrow-c7634d58284a486cb066feb420412e73-0-59\" stroke-width=\"2px\" d=\"M5255,554.5 C5255,512.0 5260.0,512.0 5260.0,554.5\" fill=\"none\" stroke=\"currentColor\"/>\n",
              "    <text dy=\"1.25em\" style=\"font-size: 0.8em; letter-spacing: 1px\">\n",
              "        <textPath xlink:href=\"#arrow-c7634d58284a486cb066feb420412e73-0-59\" class=\"displacy-label\" startOffset=\"50%\" side=\"left\" fill=\"currentColor\" text-anchor=\"middle\">det</textPath>\n",
              "    </text>\n",
              "    <path class=\"displacy-arrowhead\" d=\"M5255,556.5 L5247,544.5 5263,544.5\" fill=\"currentColor\"/>\n",
              "</g>\n",
              "\n",
              "<g class=\"displacy-arrow\">\n",
              "    <path class=\"displacy-arc\" id=\"arrow-c7634d58284a486cb066feb420412e73-0-60\" stroke-width=\"2px\" d=\"M4830,554.5 C4830,299.5 5285.0,299.5 5285.0,554.5\" fill=\"none\" stroke=\"currentColor\"/>\n",
              "    <text dy=\"1.25em\" style=\"font-size: 0.8em; letter-spacing: 1px\">\n",
              "        <textPath xlink:href=\"#arrow-c7634d58284a486cb066feb420412e73-0-60\" class=\"displacy-label\" startOffset=\"50%\" side=\"left\" fill=\"currentColor\" text-anchor=\"middle\">punct</textPath>\n",
              "    </text>\n",
              "    <path class=\"displacy-arrowhead\" d=\"M5285.0,556.5 L5293.0,544.5 5277.0,544.5\" fill=\"currentColor\"/>\n",
              "</g>\n",
              "\n",
              "<g class=\"displacy-arrow\">\n",
              "    <path class=\"displacy-arc\" id=\"arrow-c7634d58284a486cb066feb420412e73-0-61\" stroke-width=\"2px\" d=\"M5340,554.5 C5340,512.0 5345.0,512.0 5345.0,554.5\" fill=\"none\" stroke=\"currentColor\"/>\n",
              "    <text dy=\"1.25em\" style=\"font-size: 0.8em; letter-spacing: 1px\">\n",
              "        <textPath xlink:href=\"#arrow-c7634d58284a486cb066feb420412e73-0-61\" class=\"displacy-label\" startOffset=\"50%\" side=\"left\" fill=\"currentColor\" text-anchor=\"middle\"></textPath>\n",
              "    </text>\n",
              "    <path class=\"displacy-arrowhead\" d=\"M5345.0,556.5 L5353.0,544.5 5337.0,544.5\" fill=\"currentColor\"/>\n",
              "</g>\n",
              "\n",
              "<g class=\"displacy-arrow\">\n",
              "    <path class=\"displacy-arc\" id=\"arrow-c7634d58284a486cb066feb420412e73-0-62\" stroke-width=\"2px\" d=\"M5510,554.5 C5510,512.0 5515.0,512.0 5515.0,554.5\" fill=\"none\" stroke=\"currentColor\"/>\n",
              "    <text dy=\"1.25em\" style=\"font-size: 0.8em; letter-spacing: 1px\">\n",
              "        <textPath xlink:href=\"#arrow-c7634d58284a486cb066feb420412e73-0-62\" class=\"displacy-label\" startOffset=\"50%\" side=\"left\" fill=\"currentColor\" text-anchor=\"middle\">poss</textPath>\n",
              "    </text>\n",
              "    <path class=\"displacy-arrowhead\" d=\"M5510,556.5 L5502,544.5 5518,544.5\" fill=\"currentColor\"/>\n",
              "</g>\n",
              "\n",
              "<g class=\"displacy-arrow\">\n",
              "    <path class=\"displacy-arc\" id=\"arrow-c7634d58284a486cb066feb420412e73-0-63\" stroke-width=\"2px\" d=\"M4830,554.5 C4830,172.0 5555.0,172.0 5555.0,554.5\" fill=\"none\" stroke=\"currentColor\"/>\n",
              "    <text dy=\"1.25em\" style=\"font-size: 0.8em; letter-spacing: 1px\">\n",
              "        <textPath xlink:href=\"#arrow-c7634d58284a486cb066feb420412e73-0-63\" class=\"displacy-label\" startOffset=\"50%\" side=\"left\" fill=\"currentColor\" text-anchor=\"middle\">dobj</textPath>\n",
              "    </text>\n",
              "    <path class=\"displacy-arrowhead\" d=\"M5555.0,556.5 L5563.0,544.5 5547.0,544.5\" fill=\"currentColor\"/>\n",
              "</g>\n",
              "\n",
              "<g class=\"displacy-arrow\">\n",
              "    <path class=\"displacy-arc\" id=\"arrow-c7634d58284a486cb066feb420412e73-0-64\" stroke-width=\"2px\" d=\"M5680,554.5 C5680,512.0 5685.0,512.0 5685.0,554.5\" fill=\"none\" stroke=\"currentColor\"/>\n",
              "    <text dy=\"1.25em\" style=\"font-size: 0.8em; letter-spacing: 1px\">\n",
              "        <textPath xlink:href=\"#arrow-c7634d58284a486cb066feb420412e73-0-64\" class=\"displacy-label\" startOffset=\"50%\" side=\"left\" fill=\"currentColor\" text-anchor=\"middle\">aux</textPath>\n",
              "    </text>\n",
              "    <path class=\"displacy-arrowhead\" d=\"M5680,556.5 L5672,544.5 5688,544.5\" fill=\"currentColor\"/>\n",
              "</g>\n",
              "\n",
              "<g class=\"displacy-arrow\">\n",
              "    <path class=\"displacy-arc\" id=\"arrow-c7634d58284a486cb066feb420412e73-0-65\" stroke-width=\"2px\" d=\"M5595,554.5 C5595,469.5 5690.0,469.5 5690.0,554.5\" fill=\"none\" stroke=\"currentColor\"/>\n",
              "    <text dy=\"1.25em\" style=\"font-size: 0.8em; letter-spacing: 1px\">\n",
              "        <textPath xlink:href=\"#arrow-c7634d58284a486cb066feb420412e73-0-65\" class=\"displacy-label\" startOffset=\"50%\" side=\"left\" fill=\"currentColor\" text-anchor=\"middle\">acl</textPath>\n",
              "    </text>\n",
              "    <path class=\"displacy-arrowhead\" d=\"M5690.0,556.5 L5698.0,544.5 5682.0,544.5\" fill=\"currentColor\"/>\n",
              "</g>\n",
              "\n",
              "<g class=\"displacy-arrow\">\n",
              "    <path class=\"displacy-arc\" id=\"arrow-c7634d58284a486cb066feb420412e73-0-66\" stroke-width=\"2px\" d=\"M5765,554.5 C5765,512.0 5770.0,512.0 5770.0,554.5\" fill=\"none\" stroke=\"currentColor\"/>\n",
              "    <text dy=\"1.25em\" style=\"font-size: 0.8em; letter-spacing: 1px\">\n",
              "        <textPath xlink:href=\"#arrow-c7634d58284a486cb066feb420412e73-0-66\" class=\"displacy-label\" startOffset=\"50%\" side=\"left\" fill=\"currentColor\" text-anchor=\"middle\">cc</textPath>\n",
              "    </text>\n",
              "    <path class=\"displacy-arrowhead\" d=\"M5770.0,556.5 L5778.0,544.5 5762.0,544.5\" fill=\"currentColor\"/>\n",
              "</g>\n",
              "\n",
              "<g class=\"displacy-arrow\">\n",
              "    <path class=\"displacy-arc\" id=\"arrow-c7634d58284a486cb066feb420412e73-0-67\" stroke-width=\"2px\" d=\"M5765,554.5 C5765,469.5 5860.0,469.5 5860.0,554.5\" fill=\"none\" stroke=\"currentColor\"/>\n",
              "    <text dy=\"1.25em\" style=\"font-size: 0.8em; letter-spacing: 1px\">\n",
              "        <textPath xlink:href=\"#arrow-c7634d58284a486cb066feb420412e73-0-67\" class=\"displacy-label\" startOffset=\"50%\" side=\"left\" fill=\"currentColor\" text-anchor=\"middle\">conj</textPath>\n",
              "    </text>\n",
              "    <path class=\"displacy-arrowhead\" d=\"M5860.0,556.5 L5868.0,544.5 5852.0,544.5\" fill=\"currentColor\"/>\n",
              "</g>\n",
              "\n",
              "<g class=\"displacy-arrow\">\n",
              "    <path class=\"displacy-arc\" id=\"arrow-c7634d58284a486cb066feb420412e73-0-68\" stroke-width=\"2px\" d=\"M6020,554.5 C6020,469.5 6115.0,469.5 6115.0,554.5\" fill=\"none\" stroke=\"currentColor\"/>\n",
              "    <text dy=\"1.25em\" style=\"font-size: 0.8em; letter-spacing: 1px\">\n",
              "        <textPath xlink:href=\"#arrow-c7634d58284a486cb066feb420412e73-0-68\" class=\"displacy-label\" startOffset=\"50%\" side=\"left\" fill=\"currentColor\" text-anchor=\"middle\">det</textPath>\n",
              "    </text>\n",
              "    <path class=\"displacy-arrowhead\" d=\"M6020,556.5 L6012,544.5 6028,544.5\" fill=\"currentColor\"/>\n",
              "</g>\n",
              "\n",
              "<g class=\"displacy-arrow\">\n",
              "    <path class=\"displacy-arc\" id=\"arrow-c7634d58284a486cb066feb420412e73-0-69\" stroke-width=\"2px\" d=\"M6105,554.5 C6105,512.0 6110.0,512.0 6110.0,554.5\" fill=\"none\" stroke=\"currentColor\"/>\n",
              "    <text dy=\"1.25em\" style=\"font-size: 0.8em; letter-spacing: 1px\">\n",
              "        <textPath xlink:href=\"#arrow-c7634d58284a486cb066feb420412e73-0-69\" class=\"displacy-label\" startOffset=\"50%\" side=\"left\" fill=\"currentColor\" text-anchor=\"middle\">amod</textPath>\n",
              "    </text>\n",
              "    <path class=\"displacy-arrowhead\" d=\"M6105,556.5 L6097,544.5 6113,544.5\" fill=\"currentColor\"/>\n",
              "</g>\n",
              "\n",
              "<g class=\"displacy-arrow\">\n",
              "    <path class=\"displacy-arc\" id=\"arrow-c7634d58284a486cb066feb420412e73-0-70\" stroke-width=\"2px\" d=\"M5935,554.5 C5935,427.0 6120.0,427.0 6120.0,554.5\" fill=\"none\" stroke=\"currentColor\"/>\n",
              "    <text dy=\"1.25em\" style=\"font-size: 0.8em; letter-spacing: 1px\">\n",
              "        <textPath xlink:href=\"#arrow-c7634d58284a486cb066feb420412e73-0-70\" class=\"displacy-label\" startOffset=\"50%\" side=\"left\" fill=\"currentColor\" text-anchor=\"middle\">dobj</textPath>\n",
              "    </text>\n",
              "    <path class=\"displacy-arrowhead\" d=\"M6120.0,556.5 L6128.0,544.5 6112.0,544.5\" fill=\"currentColor\"/>\n",
              "</g>\n",
              "\n",
              "<g class=\"displacy-arrow\">\n",
              "    <path class=\"displacy-arc\" id=\"arrow-c7634d58284a486cb066feb420412e73-0-71\" stroke-width=\"2px\" d=\"M6190,554.5 C6190,512.0 6195.0,512.0 6195.0,554.5\" fill=\"none\" stroke=\"currentColor\"/>\n",
              "    <text dy=\"1.25em\" style=\"font-size: 0.8em; letter-spacing: 1px\">\n",
              "        <textPath xlink:href=\"#arrow-c7634d58284a486cb066feb420412e73-0-71\" class=\"displacy-label\" startOffset=\"50%\" side=\"left\" fill=\"currentColor\" text-anchor=\"middle\">prep</textPath>\n",
              "    </text>\n",
              "    <path class=\"displacy-arrowhead\" d=\"M6195.0,556.5 L6203.0,544.5 6187.0,544.5\" fill=\"currentColor\"/>\n",
              "</g>\n",
              "\n",
              "<g class=\"displacy-arrow\">\n",
              "    <path class=\"displacy-arc\" id=\"arrow-c7634d58284a486cb066feb420412e73-0-72\" stroke-width=\"2px\" d=\"M6275,554.5 C6275,512.0 6280.0,512.0 6280.0,554.5\" fill=\"none\" stroke=\"currentColor\"/>\n",
              "    <text dy=\"1.25em\" style=\"font-size: 0.8em; letter-spacing: 1px\">\n",
              "        <textPath xlink:href=\"#arrow-c7634d58284a486cb066feb420412e73-0-72\" class=\"displacy-label\" startOffset=\"50%\" side=\"left\" fill=\"currentColor\" text-anchor=\"middle\">pobj</textPath>\n",
              "    </text>\n",
              "    <path class=\"displacy-arrowhead\" d=\"M6280.0,556.5 L6288.0,544.5 6272.0,544.5\" fill=\"currentColor\"/>\n",
              "</g>\n",
              "\n",
              "<g class=\"displacy-arrow\">\n",
              "    <path class=\"displacy-arc\" id=\"arrow-c7634d58284a486cb066feb420412e73-0-73\" stroke-width=\"2px\" d=\"M5935,554.5 C5935,299.5 6390.0,299.5 6390.0,554.5\" fill=\"none\" stroke=\"currentColor\"/>\n",
              "    <text dy=\"1.25em\" style=\"font-size: 0.8em; letter-spacing: 1px\">\n",
              "        <textPath xlink:href=\"#arrow-c7634d58284a486cb066feb420412e73-0-73\" class=\"displacy-label\" startOffset=\"50%\" side=\"left\" fill=\"currentColor\" text-anchor=\"middle\">cc</textPath>\n",
              "    </text>\n",
              "    <path class=\"displacy-arrowhead\" d=\"M6390.0,556.5 L6398.0,544.5 6382.0,544.5\" fill=\"currentColor\"/>\n",
              "</g>\n",
              "\n",
              "<g class=\"displacy-arrow\">\n",
              "    <path class=\"displacy-arc\" id=\"arrow-c7634d58284a486cb066feb420412e73-0-74\" stroke-width=\"2px\" d=\"M5935,554.5 C5935,257.0 6480.0,257.0 6480.0,554.5\" fill=\"none\" stroke=\"currentColor\"/>\n",
              "    <text dy=\"1.25em\" style=\"font-size: 0.8em; letter-spacing: 1px\">\n",
              "        <textPath xlink:href=\"#arrow-c7634d58284a486cb066feb420412e73-0-74\" class=\"displacy-label\" startOffset=\"50%\" side=\"left\" fill=\"currentColor\" text-anchor=\"middle\">conj</textPath>\n",
              "    </text>\n",
              "    <path class=\"displacy-arrowhead\" d=\"M6480.0,556.5 L6488.0,544.5 6472.0,544.5\" fill=\"currentColor\"/>\n",
              "</g>\n",
              "\n",
              "<g class=\"displacy-arrow\">\n",
              "    <path class=\"displacy-arc\" id=\"arrow-c7634d58284a486cb066feb420412e73-0-75\" stroke-width=\"2px\" d=\"M6530,554.5 C6530,512.0 6535.0,512.0 6535.0,554.5\" fill=\"none\" stroke=\"currentColor\"/>\n",
              "    <text dy=\"1.25em\" style=\"font-size: 0.8em; letter-spacing: 1px\">\n",
              "        <textPath xlink:href=\"#arrow-c7634d58284a486cb066feb420412e73-0-75\" class=\"displacy-label\" startOffset=\"50%\" side=\"left\" fill=\"currentColor\" text-anchor=\"middle\">dobj</textPath>\n",
              "    </text>\n",
              "    <path class=\"displacy-arrowhead\" d=\"M6535.0,556.5 L6543.0,544.5 6527.0,544.5\" fill=\"currentColor\"/>\n",
              "</g>\n",
              "\n",
              "<g class=\"displacy-arrow\">\n",
              "    <path class=\"displacy-arc\" id=\"arrow-c7634d58284a486cb066feb420412e73-0-76\" stroke-width=\"2px\" d=\"M6615,554.5 C6615,512.0 6620.0,512.0 6620.0,554.5\" fill=\"none\" stroke=\"currentColor\"/>\n",
              "    <text dy=\"1.25em\" style=\"font-size: 0.8em; letter-spacing: 1px\">\n",
              "        <textPath xlink:href=\"#arrow-c7634d58284a486cb066feb420412e73-0-76\" class=\"displacy-label\" startOffset=\"50%\" side=\"left\" fill=\"currentColor\" text-anchor=\"middle\"></textPath>\n",
              "    </text>\n",
              "    <path class=\"displacy-arrowhead\" d=\"M6620.0,556.5 L6628.0,544.5 6612.0,544.5\" fill=\"currentColor\"/>\n",
              "</g>\n",
              "\n",
              "<g class=\"displacy-arrow\">\n",
              "    <path class=\"displacy-arc\" id=\"arrow-c7634d58284a486cb066feb420412e73-0-77\" stroke-width=\"2px\" d=\"M6785,554.5 C6785,512.0 6790.0,512.0 6790.0,554.5\" fill=\"none\" stroke=\"currentColor\"/>\n",
              "    <text dy=\"1.25em\" style=\"font-size: 0.8em; letter-spacing: 1px\">\n",
              "        <textPath xlink:href=\"#arrow-c7634d58284a486cb066feb420412e73-0-77\" class=\"displacy-label\" startOffset=\"50%\" side=\"left\" fill=\"currentColor\" text-anchor=\"middle\">aux</textPath>\n",
              "    </text>\n",
              "    <path class=\"displacy-arrowhead\" d=\"M6785,556.5 L6777,544.5 6793,544.5\" fill=\"currentColor\"/>\n",
              "</g>\n",
              "\n",
              "<g class=\"displacy-arrow\">\n",
              "    <path class=\"displacy-arc\" id=\"arrow-c7634d58284a486cb066feb420412e73-0-78\" stroke-width=\"2px\" d=\"M6530,554.5 C6530,384.5 6805.0,384.5 6805.0,554.5\" fill=\"none\" stroke=\"currentColor\"/>\n",
              "    <text dy=\"1.25em\" style=\"font-size: 0.8em; letter-spacing: 1px\">\n",
              "        <textPath xlink:href=\"#arrow-c7634d58284a486cb066feb420412e73-0-78\" class=\"displacy-label\" startOffset=\"50%\" side=\"left\" fill=\"currentColor\" text-anchor=\"middle\">advcl</textPath>\n",
              "    </text>\n",
              "    <path class=\"displacy-arrowhead\" d=\"M6805.0,556.5 L6813.0,544.5 6797.0,544.5\" fill=\"currentColor\"/>\n",
              "</g>\n",
              "\n",
              "<g class=\"displacy-arrow\">\n",
              "    <path class=\"displacy-arc\" id=\"arrow-c7634d58284a486cb066feb420412e73-0-79\" stroke-width=\"2px\" d=\"M6955,554.5 C6955,512.0 6960.0,512.0 6960.0,554.5\" fill=\"none\" stroke=\"currentColor\"/>\n",
              "    <text dy=\"1.25em\" style=\"font-size: 0.8em; letter-spacing: 1px\">\n",
              "        <textPath xlink:href=\"#arrow-c7634d58284a486cb066feb420412e73-0-79\" class=\"displacy-label\" startOffset=\"50%\" side=\"left\" fill=\"currentColor\" text-anchor=\"middle\">nummod</textPath>\n",
              "    </text>\n",
              "    <path class=\"displacy-arrowhead\" d=\"M6955,556.5 L6947,544.5 6963,544.5\" fill=\"currentColor\"/>\n",
              "</g>\n",
              "\n",
              "<g class=\"displacy-arrow\">\n",
              "    <path class=\"displacy-arc\" id=\"arrow-c7634d58284a486cb066feb420412e73-0-80\" stroke-width=\"2px\" d=\"M7040,554.5 C7040,512.0 7045.0,512.0 7045.0,554.5\" fill=\"none\" stroke=\"currentColor\"/>\n",
              "    <text dy=\"1.25em\" style=\"font-size: 0.8em; letter-spacing: 1px\">\n",
              "        <textPath xlink:href=\"#arrow-c7634d58284a486cb066feb420412e73-0-80\" class=\"displacy-label\" startOffset=\"50%\" side=\"left\" fill=\"currentColor\" text-anchor=\"middle\">compound</textPath>\n",
              "    </text>\n",
              "    <path class=\"displacy-arrowhead\" d=\"M7040,556.5 L7032,544.5 7048,544.5\" fill=\"currentColor\"/>\n",
              "</g>\n",
              "\n",
              "<g class=\"displacy-arrow\">\n",
              "    <path class=\"displacy-arc\" id=\"arrow-c7634d58284a486cb066feb420412e73-0-81\" stroke-width=\"2px\" d=\"M6870,554.5 C6870,427.0 7055.0,427.0 7055.0,554.5\" fill=\"none\" stroke=\"currentColor\"/>\n",
              "    <text dy=\"1.25em\" style=\"font-size: 0.8em; letter-spacing: 1px\">\n",
              "        <textPath xlink:href=\"#arrow-c7634d58284a486cb066feb420412e73-0-81\" class=\"displacy-label\" startOffset=\"50%\" side=\"left\" fill=\"currentColor\" text-anchor=\"middle\">dobj</textPath>\n",
              "    </text>\n",
              "    <path class=\"displacy-arrowhead\" d=\"M7055.0,556.5 L7063.0,544.5 7047.0,544.5\" fill=\"currentColor\"/>\n",
              "</g>\n",
              "\n",
              "<g class=\"displacy-arrow\">\n",
              "    <path class=\"displacy-arc\" id=\"arrow-c7634d58284a486cb066feb420412e73-0-82\" stroke-width=\"2px\" d=\"M4830,554.5 C4830,44.5 7185.0,44.5 7185.0,554.5\" fill=\"none\" stroke=\"currentColor\"/>\n",
              "    <text dy=\"1.25em\" style=\"font-size: 0.8em; letter-spacing: 1px\">\n",
              "        <textPath xlink:href=\"#arrow-c7634d58284a486cb066feb420412e73-0-82\" class=\"displacy-label\" startOffset=\"50%\" side=\"left\" fill=\"currentColor\" text-anchor=\"middle\">prep</textPath>\n",
              "    </text>\n",
              "    <path class=\"displacy-arrowhead\" d=\"M7185.0,556.5 L7193.0,544.5 7177.0,544.5\" fill=\"currentColor\"/>\n",
              "</g>\n",
              "\n",
              "<g class=\"displacy-arrow\">\n",
              "    <path class=\"displacy-arc\" id=\"arrow-c7634d58284a486cb066feb420412e73-0-83\" stroke-width=\"2px\" d=\"M7295,554.5 C7295,512.0 7300.0,512.0 7300.0,554.5\" fill=\"none\" stroke=\"currentColor\"/>\n",
              "    <text dy=\"1.25em\" style=\"font-size: 0.8em; letter-spacing: 1px\">\n",
              "        <textPath xlink:href=\"#arrow-c7634d58284a486cb066feb420412e73-0-83\" class=\"displacy-label\" startOffset=\"50%\" side=\"left\" fill=\"currentColor\" text-anchor=\"middle\">poss</textPath>\n",
              "    </text>\n",
              "    <path class=\"displacy-arrowhead\" d=\"M7295,556.5 L7287,544.5 7303,544.5\" fill=\"currentColor\"/>\n",
              "</g>\n",
              "\n",
              "<g class=\"displacy-arrow\">\n",
              "    <path class=\"displacy-arc\" id=\"arrow-c7634d58284a486cb066feb420412e73-0-84\" stroke-width=\"2px\" d=\"M7210,554.5 C7210,469.5 7305.0,469.5 7305.0,554.5\" fill=\"none\" stroke=\"currentColor\"/>\n",
              "    <text dy=\"1.25em\" style=\"font-size: 0.8em; letter-spacing: 1px\">\n",
              "        <textPath xlink:href=\"#arrow-c7634d58284a486cb066feb420412e73-0-84\" class=\"displacy-label\" startOffset=\"50%\" side=\"left\" fill=\"currentColor\" text-anchor=\"middle\">pobj</textPath>\n",
              "    </text>\n",
              "    <path class=\"displacy-arrowhead\" d=\"M7305.0,556.5 L7313.0,544.5 7297.0,544.5\" fill=\"currentColor\"/>\n",
              "</g>\n",
              "\n",
              "<g class=\"displacy-arrow\">\n",
              "    <path class=\"displacy-arc\" id=\"arrow-c7634d58284a486cb066feb420412e73-0-85\" stroke-width=\"2px\" d=\"M7380,554.5 C7380,512.0 7385.0,512.0 7385.0,554.5\" fill=\"none\" stroke=\"currentColor\"/>\n",
              "    <text dy=\"1.25em\" style=\"font-size: 0.8em; letter-spacing: 1px\">\n",
              "        <textPath xlink:href=\"#arrow-c7634d58284a486cb066feb420412e73-0-85\" class=\"displacy-label\" startOffset=\"50%\" side=\"left\" fill=\"currentColor\" text-anchor=\"middle\">prep</textPath>\n",
              "    </text>\n",
              "    <path class=\"displacy-arrowhead\" d=\"M7385.0,556.5 L7393.0,544.5 7377.0,544.5\" fill=\"currentColor\"/>\n",
              "</g>\n",
              "\n",
              "<g class=\"displacy-arrow\">\n",
              "    <path class=\"displacy-arc\" id=\"arrow-c7634d58284a486cb066feb420412e73-0-86\" stroke-width=\"2px\" d=\"M7550,554.5 C7550,427.0 7735.0,427.0 7735.0,554.5\" fill=\"none\" stroke=\"currentColor\"/>\n",
              "    <text dy=\"1.25em\" style=\"font-size: 0.8em; letter-spacing: 1px\">\n",
              "        <textPath xlink:href=\"#arrow-c7634d58284a486cb066feb420412e73-0-86\" class=\"displacy-label\" startOffset=\"50%\" side=\"left\" fill=\"currentColor\" text-anchor=\"middle\">det</textPath>\n",
              "    </text>\n",
              "    <path class=\"displacy-arrowhead\" d=\"M7550,556.5 L7542,544.5 7558,544.5\" fill=\"currentColor\"/>\n",
              "</g>\n",
              "\n",
              "<g class=\"displacy-arrow\">\n",
              "    <path class=\"displacy-arc\" id=\"arrow-c7634d58284a486cb066feb420412e73-0-87\" stroke-width=\"2px\" d=\"M7635,554.5 C7635,469.5 7730.0,469.5 7730.0,554.5\" fill=\"none\" stroke=\"currentColor\"/>\n",
              "    <text dy=\"1.25em\" style=\"font-size: 0.8em; letter-spacing: 1px\">\n",
              "        <textPath xlink:href=\"#arrow-c7634d58284a486cb066feb420412e73-0-87\" class=\"displacy-label\" startOffset=\"50%\" side=\"left\" fill=\"currentColor\" text-anchor=\"middle\">nmod</textPath>\n",
              "    </text>\n",
              "    <path class=\"displacy-arrowhead\" d=\"M7635,556.5 L7627,544.5 7643,544.5\" fill=\"currentColor\"/>\n",
              "</g>\n",
              "\n",
              "<g class=\"displacy-arrow\">\n",
              "    <path class=\"displacy-arc\" id=\"arrow-c7634d58284a486cb066feb420412e73-0-88\" stroke-width=\"2px\" d=\"M7635,554.5 C7635,512.0 7640.0,512.0 7640.0,554.5\" fill=\"none\" stroke=\"currentColor\"/>\n",
              "    <text dy=\"1.25em\" style=\"font-size: 0.8em; letter-spacing: 1px\">\n",
              "        <textPath xlink:href=\"#arrow-c7634d58284a486cb066feb420412e73-0-88\" class=\"displacy-label\" startOffset=\"50%\" side=\"left\" fill=\"currentColor\" text-anchor=\"middle\"></textPath>\n",
              "    </text>\n",
              "    <path class=\"displacy-arrowhead\" d=\"M7640.0,556.5 L7648.0,544.5 7632.0,544.5\" fill=\"currentColor\"/>\n",
              "</g>\n",
              "\n",
              "<g class=\"displacy-arrow\">\n",
              "    <path class=\"displacy-arc\" id=\"arrow-c7634d58284a486cb066feb420412e73-0-89\" stroke-width=\"2px\" d=\"M7465,554.5 C7465,384.5 7740.0,384.5 7740.0,554.5\" fill=\"none\" stroke=\"currentColor\"/>\n",
              "    <text dy=\"1.25em\" style=\"font-size: 0.8em; letter-spacing: 1px\">\n",
              "        <textPath xlink:href=\"#arrow-c7634d58284a486cb066feb420412e73-0-89\" class=\"displacy-label\" startOffset=\"50%\" side=\"left\" fill=\"currentColor\" text-anchor=\"middle\">pobj</textPath>\n",
              "    </text>\n",
              "    <path class=\"displacy-arrowhead\" d=\"M7740.0,556.5 L7748.0,544.5 7732.0,544.5\" fill=\"currentColor\"/>\n",
              "</g>\n",
              "\n",
              "<g class=\"displacy-arrow\">\n",
              "    <path class=\"displacy-arc\" id=\"arrow-c7634d58284a486cb066feb420412e73-0-90\" stroke-width=\"2px\" d=\"M7380,554.5 C7380,299.5 7835.0,299.5 7835.0,554.5\" fill=\"none\" stroke=\"currentColor\"/>\n",
              "    <text dy=\"1.25em\" style=\"font-size: 0.8em; letter-spacing: 1px\">\n",
              "        <textPath xlink:href=\"#arrow-c7634d58284a486cb066feb420412e73-0-90\" class=\"displacy-label\" startOffset=\"50%\" side=\"left\" fill=\"currentColor\" text-anchor=\"middle\">cc</textPath>\n",
              "    </text>\n",
              "    <path class=\"displacy-arrowhead\" d=\"M7835.0,556.5 L7843.0,544.5 7827.0,544.5\" fill=\"currentColor\"/>\n",
              "</g>\n",
              "\n",
              "<g class=\"displacy-arrow\">\n",
              "    <path class=\"displacy-arc\" id=\"arrow-c7634d58284a486cb066feb420412e73-0-91\" stroke-width=\"2px\" d=\"M7975,554.5 C7975,469.5 8070.0,469.5 8070.0,554.5\" fill=\"none\" stroke=\"currentColor\"/>\n",
              "    <text dy=\"1.25em\" style=\"font-size: 0.8em; letter-spacing: 1px\">\n",
              "        <textPath xlink:href=\"#arrow-c7634d58284a486cb066feb420412e73-0-91\" class=\"displacy-label\" startOffset=\"50%\" side=\"left\" fill=\"currentColor\" text-anchor=\"middle\">det</textPath>\n",
              "    </text>\n",
              "    <path class=\"displacy-arrowhead\" d=\"M7975,556.5 L7967,544.5 7983,544.5\" fill=\"currentColor\"/>\n",
              "</g>\n",
              "\n",
              "<g class=\"displacy-arrow\">\n",
              "    <path class=\"displacy-arc\" id=\"arrow-c7634d58284a486cb066feb420412e73-0-92\" stroke-width=\"2px\" d=\"M8060,554.5 C8060,512.0 8065.0,512.0 8065.0,554.5\" fill=\"none\" stroke=\"currentColor\"/>\n",
              "    <text dy=\"1.25em\" style=\"font-size: 0.8em; letter-spacing: 1px\">\n",
              "        <textPath xlink:href=\"#arrow-c7634d58284a486cb066feb420412e73-0-92\" class=\"displacy-label\" startOffset=\"50%\" side=\"left\" fill=\"currentColor\" text-anchor=\"middle\">compound</textPath>\n",
              "    </text>\n",
              "    <path class=\"displacy-arrowhead\" d=\"M8060,556.5 L8052,544.5 8068,544.5\" fill=\"currentColor\"/>\n",
              "</g>\n",
              "\n",
              "<g class=\"displacy-arrow\">\n",
              "    <path class=\"displacy-arc\" id=\"arrow-c7634d58284a486cb066feb420412e73-0-93\" stroke-width=\"2px\" d=\"M7380,554.5 C7380,172.0 8105.0,172.0 8105.0,554.5\" fill=\"none\" stroke=\"currentColor\"/>\n",
              "    <text dy=\"1.25em\" style=\"font-size: 0.8em; letter-spacing: 1px\">\n",
              "        <textPath xlink:href=\"#arrow-c7634d58284a486cb066feb420412e73-0-93\" class=\"displacy-label\" startOffset=\"50%\" side=\"left\" fill=\"currentColor\" text-anchor=\"middle\">conj</textPath>\n",
              "    </text>\n",
              "    <path class=\"displacy-arrowhead\" d=\"M8105.0,556.5 L8113.0,544.5 8097.0,544.5\" fill=\"currentColor\"/>\n",
              "</g>\n",
              "\n",
              "<g class=\"displacy-arrow\">\n",
              "    <path class=\"displacy-arc\" id=\"arrow-c7634d58284a486cb066feb420412e73-0-94\" stroke-width=\"2px\" d=\"M8230,554.5 C8230,469.5 8325.0,469.5 8325.0,554.5\" fill=\"none\" stroke=\"currentColor\"/>\n",
              "    <text dy=\"1.25em\" style=\"font-size: 0.8em; letter-spacing: 1px\">\n",
              "        <textPath xlink:href=\"#arrow-c7634d58284a486cb066feb420412e73-0-94\" class=\"displacy-label\" startOffset=\"50%\" side=\"left\" fill=\"currentColor\" text-anchor=\"middle\">nsubj</textPath>\n",
              "    </text>\n",
              "    <path class=\"displacy-arrowhead\" d=\"M8230,556.5 L8222,544.5 8238,544.5\" fill=\"currentColor\"/>\n",
              "</g>\n",
              "\n",
              "<g class=\"displacy-arrow\">\n",
              "    <path class=\"displacy-arc\" id=\"arrow-c7634d58284a486cb066feb420412e73-0-95\" stroke-width=\"2px\" d=\"M8315,554.5 C8315,512.0 8320.0,512.0 8320.0,554.5\" fill=\"none\" stroke=\"currentColor\"/>\n",
              "    <text dy=\"1.25em\" style=\"font-size: 0.8em; letter-spacing: 1px\">\n",
              "        <textPath xlink:href=\"#arrow-c7634d58284a486cb066feb420412e73-0-95\" class=\"displacy-label\" startOffset=\"50%\" side=\"left\" fill=\"currentColor\" text-anchor=\"middle\">advmod</textPath>\n",
              "    </text>\n",
              "    <path class=\"displacy-arrowhead\" d=\"M8315,556.5 L8307,544.5 8323,544.5\" fill=\"currentColor\"/>\n",
              "</g>\n",
              "\n",
              "<g class=\"displacy-arrow\">\n",
              "    <path class=\"displacy-arc\" id=\"arrow-c7634d58284a486cb066feb420412e73-0-96\" stroke-width=\"2px\" d=\"M8145,554.5 C8145,427.0 8330.0,427.0 8330.0,554.5\" fill=\"none\" stroke=\"currentColor\"/>\n",
              "    <text dy=\"1.25em\" style=\"font-size: 0.8em; letter-spacing: 1px\">\n",
              "        <textPath xlink:href=\"#arrow-c7634d58284a486cb066feb420412e73-0-96\" class=\"displacy-label\" startOffset=\"50%\" side=\"left\" fill=\"currentColor\" text-anchor=\"middle\">relcl</textPath>\n",
              "    </text>\n",
              "    <path class=\"displacy-arrowhead\" d=\"M8330.0,556.5 L8338.0,544.5 8322.0,544.5\" fill=\"currentColor\"/>\n",
              "</g>\n",
              "\n",
              "<g class=\"displacy-arrow\">\n",
              "    <path class=\"displacy-arc\" id=\"arrow-c7634d58284a486cb066feb420412e73-0-97\" stroke-width=\"2px\" d=\"M8485,554.5 C8485,512.0 8490.0,512.0 8490.0,554.5\" fill=\"none\" stroke=\"currentColor\"/>\n",
              "    <text dy=\"1.25em\" style=\"font-size: 0.8em; letter-spacing: 1px\">\n",
              "        <textPath xlink:href=\"#arrow-c7634d58284a486cb066feb420412e73-0-97\" class=\"displacy-label\" startOffset=\"50%\" side=\"left\" fill=\"currentColor\" text-anchor=\"middle\">det</textPath>\n",
              "    </text>\n",
              "    <path class=\"displacy-arrowhead\" d=\"M8485,556.5 L8477,544.5 8493,544.5\" fill=\"currentColor\"/>\n",
              "</g>\n",
              "\n",
              "<g class=\"displacy-arrow\">\n",
              "    <path class=\"displacy-arc\" id=\"arrow-c7634d58284a486cb066feb420412e73-0-98\" stroke-width=\"2px\" d=\"M8400,554.5 C8400,469.5 8495.0,469.5 8495.0,554.5\" fill=\"none\" stroke=\"currentColor\"/>\n",
              "    <text dy=\"1.25em\" style=\"font-size: 0.8em; letter-spacing: 1px\">\n",
              "        <textPath xlink:href=\"#arrow-c7634d58284a486cb066feb420412e73-0-98\" class=\"displacy-label\" startOffset=\"50%\" side=\"left\" fill=\"currentColor\" text-anchor=\"middle\">dobj</textPath>\n",
              "    </text>\n",
              "    <path class=\"displacy-arrowhead\" d=\"M8495.0,556.5 L8503.0,544.5 8487.0,544.5\" fill=\"currentColor\"/>\n",
              "</g>\n",
              "\n",
              "<g class=\"displacy-arrow\">\n",
              "    <path class=\"displacy-arc\" id=\"arrow-c7634d58284a486cb066feb420412e73-0-99\" stroke-width=\"2px\" d=\"M8570,554.5 C8570,512.0 8575.0,512.0 8575.0,554.5\" fill=\"none\" stroke=\"currentColor\"/>\n",
              "    <text dy=\"1.25em\" style=\"font-size: 0.8em; letter-spacing: 1px\">\n",
              "        <textPath xlink:href=\"#arrow-c7634d58284a486cb066feb420412e73-0-99\" class=\"displacy-label\" startOffset=\"50%\" side=\"left\" fill=\"currentColor\" text-anchor=\"middle\">prep</textPath>\n",
              "    </text>\n",
              "    <path class=\"displacy-arrowhead\" d=\"M8575.0,556.5 L8583.0,544.5 8567.0,544.5\" fill=\"currentColor\"/>\n",
              "</g>\n",
              "\n",
              "<g class=\"displacy-arrow\">\n",
              "    <path class=\"displacy-arc\" id=\"arrow-c7634d58284a486cb066feb420412e73-0-100\" stroke-width=\"2px\" d=\"M8655,554.5 C8655,512.0 8660.0,512.0 8660.0,554.5\" fill=\"none\" stroke=\"currentColor\"/>\n",
              "    <text dy=\"1.25em\" style=\"font-size: 0.8em; letter-spacing: 1px\">\n",
              "        <textPath xlink:href=\"#arrow-c7634d58284a486cb066feb420412e73-0-100\" class=\"displacy-label\" startOffset=\"50%\" side=\"left\" fill=\"currentColor\" text-anchor=\"middle\">pobj</textPath>\n",
              "    </text>\n",
              "    <path class=\"displacy-arrowhead\" d=\"M8660.0,556.5 L8668.0,544.5 8652.0,544.5\" fill=\"currentColor\"/>\n",
              "</g>\n",
              "\n",
              "<g class=\"displacy-arrow\">\n",
              "    <path class=\"displacy-arc\" id=\"arrow-c7634d58284a486cb066feb420412e73-0-101\" stroke-width=\"2px\" d=\"M8825,554.5 C8825,512.0 8830.0,512.0 8830.0,554.5\" fill=\"none\" stroke=\"currentColor\"/>\n",
              "    <text dy=\"1.25em\" style=\"font-size: 0.8em; letter-spacing: 1px\">\n",
              "        <textPath xlink:href=\"#arrow-c7634d58284a486cb066feb420412e73-0-101\" class=\"displacy-label\" startOffset=\"50%\" side=\"left\" fill=\"currentColor\" text-anchor=\"middle\">punct</textPath>\n",
              "    </text>\n",
              "    <path class=\"displacy-arrowhead\" d=\"M8825,556.5 L8817,544.5 8833,544.5\" fill=\"currentColor\"/>\n",
              "</g>\n",
              "\n",
              "<g class=\"displacy-arrow\">\n",
              "    <path class=\"displacy-arc\" id=\"arrow-c7634d58284a486cb066feb420412e73-0-102\" stroke-width=\"2px\" d=\"M4830,554.5 C4830,2.0 8890.0,2.0 8890.0,554.5\" fill=\"none\" stroke=\"currentColor\"/>\n",
              "    <text dy=\"1.25em\" style=\"font-size: 0.8em; letter-spacing: 1px\">\n",
              "        <textPath xlink:href=\"#arrow-c7634d58284a486cb066feb420412e73-0-102\" class=\"displacy-label\" startOffset=\"50%\" side=\"left\" fill=\"currentColor\" text-anchor=\"middle\">advcl</textPath>\n",
              "    </text>\n",
              "    <path class=\"displacy-arrowhead\" d=\"M8890.0,556.5 L8898.0,544.5 8882.0,544.5\" fill=\"currentColor\"/>\n",
              "</g>\n",
              "</svg></span>"
            ],
            "text/plain": [
              "<IPython.core.display.HTML object>"
            ]
          },
          "metadata": {
            "tags": []
          }
        }
      ]
    },
    {
      "cell_type": "code",
      "metadata": {
        "colab": {
          "base_uri": "https://localhost:8080/"
        },
        "id": "o_GKPszidcMc",
        "outputId": "f4a095ec-c1f5-44f8-a9de-2d7d171496b7"
      },
      "source": [
        "for word in doc:\n",
        "    print(f'{word.text:{12}} {word.pos_:{10}} {word.tag_:{8}} {spacy.explain(word.tag_)}')"
      ],
      "execution_count": 24,
      "outputs": [
        {
          "output_type": "stream",
          "text": [
            "This         DET        DT       determiner\n",
            "April        PROPN      NNP      noun, proper singular\n",
            ",            PUNCT      ,        punctuation mark, comma\n",
            "Mr.          PROPN      NNP      noun, proper singular\n",
            "Mellon       PROPN      NNP      noun, proper singular\n",
            "gave         VERB       VBD      verb, past tense\n",
            "another      DET        DT       determiner\n",
            "$            SYM        $        symbol, currency\n",
            "10           NUM        CD       cardinal number\n",
            "million      NUM        CD       cardinal number\n",
            ",            PUNCT      ,        punctuation mark, comma\n",
            "this         DET        DT       determiner\n",
            "time         NOUN       NN       noun, singular or mass\n",
            "to           ADP        IN       conjunction, subordinating or preposition\n",
            "President    PROPN      NNP      noun, proper singular\n",
            "Trump        PROPN      NNP      noun, proper singular\n",
            "’s           PART       POS      possessive ending\n",
            "super        ADJ        JJ       adjective\n",
            "PAC          NOUN       NN       noun, singular or mass\n",
            ",            PUNCT      ,        punctuation mark, comma\n",
            "\n",
            "            SPACE      _SP      None\n",
            "America      PROPN      NNP      noun, proper singular\n",
            "First        PROPN      NNP      noun, proper singular\n",
            "Action       PROPN      NNP      noun, proper singular\n",
            ",            PUNCT      ,        punctuation mark, comma\n",
            "the          DET        DT       determiner\n",
            "only         ADJ        JJ       adjective\n",
            "Trump        PROPN      NNP      noun, proper singular\n",
            "-            PUNCT      HYPH     punctuation mark, hyphen\n",
            "endorsed     VERB       VBN      verb, past participle\n",
            "fund         NOUN       NN       noun, singular or mass\n",
            "-            PUNCT      HYPH     punctuation mark, hyphen\n",
            "raising      VERB       VBG      verb, gerund or present participle\n",
            "group        NOUN       NN       noun, singular or mass\n",
            "permitted    VERB       VBD      verb, past tense\n",
            "to           PART       TO       infinitival \"to\"\n",
            "collect      VERB       VB       verb, base form\n",
            "unlimited    ADJ        JJ       adjective\n",
            "\n",
            "            SPACE      _SP      None\n",
            "contributions NOUN       NNS      noun, plural\n",
            ".            PUNCT      .        punctuation mark, sentence closer\n",
            "The          DET        DT       determiner\n",
            "fact         NOUN       NN       noun, singular or mass\n",
            "that         SCONJ      IN       conjunction, subordinating or preposition\n",
            "an           DET        DT       determiner\n",
            "outsider     NOUN       NN       noun, singular or mass\n",
            "like         SCONJ      IN       conjunction, subordinating or preposition\n",
            "Mr.          PROPN      NNP      noun, proper singular\n",
            "Mellon       PROPN      NNP      noun, proper singular\n",
            "has          AUX        VBZ      verb, 3rd person singular present\n",
            "emerged      VERB       VBN      verb, past participle\n",
            "as           SCONJ      IN       conjunction, subordinating or preposition\n",
            "one          NUM        CD       cardinal number\n",
            "of           ADP        IN       conjunction, subordinating or preposition\n",
            "the          DET        DT       determiner\n",
            "few          ADJ        JJ       adjective\n",
            "\n",
            "            SPACE      _SP      None\n",
            "supporters   NOUN       NNS      noun, plural\n",
            "willing      ADJ        JJ       adjective\n",
            "to           PART       TO       infinitival \"to\"\n",
            "be           AUX        VB       verb, base form\n",
            "so           ADV        RB       adverb\n",
            "generous     ADJ        JJ       adjective\n",
            "illustrates  NOUN       NNS      noun, plural\n",
            "a            DET        DT       determiner\n",
            "surprising   ADJ        JJ       adjective\n",
            "problem      NOUN       NN       noun, singular or mass\n",
            "for          ADP        IN       conjunction, subordinating or preposition\n",
            "the          DET        DT       determiner\n",
            "president    NOUN       NN       noun, singular or mass\n",
            ":            PUNCT      :        punctuation mark, colon or ellipsis\n",
            "\n",
            "            SPACE      _SP      None\n",
            "his          DET        PRP$     pronoun, possessive\n",
            "struggle     NOUN       NN       noun, singular or mass\n",
            "to           PART       TO       infinitival \"to\"\n",
            "attract      VERB       VB       verb, base form\n",
            "and          CCONJ      CC       conjunction, coordinating\n",
            "retain       VERB       VB       verb, base form\n",
            "a            DET        DT       determiner\n",
            "reliable     ADJ        JJ       adjective\n",
            "stable       NOUN       NN       noun, singular or mass\n",
            "of           ADP        IN       conjunction, subordinating or preposition\n",
            "millionaires NOUN       NNS      noun, plural\n",
            "and          CCONJ      CC       conjunction, coordinating\n",
            "billionaires VERB       VBZ      verb, 3rd person singular present\n",
            "willing      ADJ        JJ       adjective\n",
            "\n",
            "            SPACE      _SP      None\n",
            "to           PART       TO       infinitival \"to\"\n",
            "write        VERB       VB       verb, base form\n",
            "seven        NUM        CD       cardinal number\n",
            "-            PUNCT      HYPH     punctuation mark, hyphen\n",
            "figure       NOUN       NN       noun, singular or mass\n",
            "checks       NOUN       NNS      noun, plural\n",
            ",            PUNCT      ,        punctuation mark, comma\n",
            "despite      SCONJ      IN       conjunction, subordinating or preposition\n",
            "his          DET        PRP$     pronoun, possessive\n",
            "takeover     NOUN       NN       noun, singular or mass\n",
            "of           ADP        IN       conjunction, subordinating or preposition\n",
            "the          DET        DT       determiner\n",
            "Republican   PROPN      NNP      noun, proper singular\n",
            "\n",
            "            SPACE      _SP      None\n",
            "Party        PROPN      NNP      noun, proper singular\n",
            "and          CCONJ      CC       conjunction, coordinating\n",
            "a            DET        DT       determiner\n",
            "policy       NOUN       NN       noun, singular or mass\n",
            "agenda       NOUN       NN       noun, singular or mass\n",
            "that         DET        WDT      wh-determiner\n",
            "largely      ADV        RB       adverb\n",
            "serves       VERB       VBZ      verb, 3rd person singular present\n",
            "the          DET        DT       determiner\n",
            "interests    NOUN       NNS      noun, plural\n",
            "of           ADP        IN       conjunction, subordinating or preposition\n",
            "America      PROPN      NNP      noun, proper singular\n",
            "’s           PART       POS      possessive ending\n",
            "ultrawealthy ADJ        JJ       adjective\n",
            ".            PUNCT      .        punctuation mark, sentence closer\n"
          ],
          "name": "stdout"
        }
      ]
    },
    {
      "cell_type": "markdown",
      "metadata": {
        "id": "xYzKBdHvf7XY"
      },
      "source": [
        "## get_entities"
      ]
    },
    {
      "cell_type": "code",
      "metadata": {
        "colab": {
          "base_uri": "https://localhost:8080/",
          "height": 118
        },
        "id": "MRcbbYJ3CF51",
        "outputId": "b5ee8f7d-5c30-4fc9-a14c-c4aabb04e6b5"
      },
      "source": [
        "article"
      ],
      "execution_count": 25,
      "outputs": [
        {
          "output_type": "execute_result",
          "data": {
            "application/vnd.google.colaboratory.intrinsic+json": {
              "type": "string"
            },
            "text/plain": [
              "'This April, Mr. Mellon gave another $10 million, this time to President Trump’s super PAC,\\n America First Action, the only Trump-endorsed fund-raising group permitted to collect unlimited \\n contributions. The fact that an outsider like Mr. Mellon has emerged as one of the few \\n supporters willing to be so generous illustrates a surprising problem for the president: \\n his struggle to attract and retain a reliable stable of millionaires and billionaires willing \\n to write seven-figure checks, despite his takeover of the Republican \\nParty and a policy agenda that largely serves the interests of America’s ultrawealthy. '"
            ]
          },
          "metadata": {
            "tags": []
          },
          "execution_count": 25
        }
      ]
    },
    {
      "cell_type": "code",
      "metadata": {
        "id": "f6y0VrRLiPeB"
      },
      "source": [
        "def get_entities(sent):\n",
        "  ## chunk 1\n",
        "  ent1 = \"\"\n",
        "  ent2 = \"\"\n",
        "  ent2_priority = \" \" #[]\n",
        "\n",
        "  prv_tok_dep = \"\"    # dependency tag of previous token in the sentence\n",
        "  prv_tok_text = \"\"   # previous token in the sentence\n",
        "\n",
        "  prefix = \"\"\n",
        "  modifier = \"\"\n",
        "\n",
        "  #############################################################\n",
        "  \n",
        "  for tok in nlp(sent):\n",
        "    #print(\"tok===\", tok)\n",
        "    ## check -special\n",
        "    if tok.text == 'Trump':\n",
        "      ent2_priority = tok.text\n",
        "\n",
        "    ## chunk 2\n",
        "    # if token is a punctuation mark then move on to the next token\n",
        "    if tok.dep_ != \"punct\" or tok.dep_ == \"punct\":\n",
        "      # check: token is a compound word or not\n",
        "      if tok.dep_ == \"compound\":\n",
        "        prefix = tok.text\n",
        "        # if the previous word was also a 'compound' then add the current word to it\n",
        "        if prv_tok_dep == \"compound\":\n",
        "          prefix = prv_tok_text + \" \"+ tok.text\n",
        "      \n",
        "      # check: token is a modifier or not\n",
        "      if tok.dep_.endswith(\"mod\") == True:\n",
        "        modifier = tok.text\n",
        "        # if the previous word was also a 'compound' then add the current word to it\n",
        "        if prv_tok_dep == \"compound\":\n",
        "          modifier = prv_tok_text + \" \"+ tok.text\n",
        "      \n",
        "      ## chunk 3\n",
        "      if tok.dep_.find(\"subj\") == True:\n",
        "        ent1 = modifier +\" \"+ prefix + \" \"+ tok.text\n",
        "        print(\"ent1=\", ent1)\n",
        "        prefix = \"\"\n",
        "        modifier = \"\"\n",
        "        prv_tok_dep = \"\"\n",
        "        prv_tok_text = \"\"      \n",
        "\n",
        "      ## chunk 4\n",
        "      if tok.dep_.find(\"obj\") == True:\n",
        "        ent2 = modifier +\" \"+ prefix +\" \"+ tok.text\n",
        "        print(\"ent2=\", ent2)\n",
        "\n",
        "        \n",
        "      ## chunk 5  \n",
        "      # update variables\n",
        "      prv_tok_dep = tok.dep_\n",
        "      prv_tok_text = tok.text\n",
        "  #############################################################\n",
        "  if ent2_priority not in ent2:\n",
        "    ent2 = ent2_priority + ' ' +ent2\n",
        "  return [ent1.strip(), ent2.strip()]"
      ],
      "execution_count": 17,
      "outputs": []
    },
    {
      "cell_type": "code",
      "metadata": {
        "colab": {
          "base_uri": "https://localhost:8080/"
        },
        "id": "mgwGqtnmiUkJ",
        "outputId": "32a5fb28-afa6-461d-cfd1-aeda2ddbb019"
      },
      "source": [
        "get_entities(\"Mellon gave 100 million donation to Trump's campaign\")"
      ],
      "execution_count": 33,
      "outputs": [
        {
          "output_type": "stream",
          "text": [
            "ent1=   Mellon\n",
            "ent2= 100 million 100 donation\n",
            "ent2= 100 million 100 campaign\n"
          ],
          "name": "stdout"
        },
        {
          "output_type": "execute_result",
          "data": {
            "text/plain": [
              "['Mellon', 'Trump 100 million 100 campaign']"
            ]
          },
          "metadata": {
            "tags": []
          },
          "execution_count": 33
        }
      ]
    },
    {
      "cell_type": "code",
      "metadata": {
        "colab": {
          "base_uri": "https://localhost:8080/"
        },
        "id": "ipJyR8BPfozR",
        "outputId": "b795965e-9fb6-447f-adc1-91da8c4ae47d"
      },
      "source": [
        "get_entities(\"This April, Mr. Mellon gave another $10 million, this time to President Trump’s super PAC, America First Action, the only Trump-endorsed fund-raising group permitted to collect unlimited contributions.\")"
      ],
      "execution_count": 101,
      "outputs": [
        {
          "output_type": "stream",
          "text": [
            "ent1= April Mr. Mellon\n",
            "ent2= $ 10 million\n",
            "ent2= super President PAC\n",
            "ent2= unlimited America First contributions\n"
          ],
          "name": "stdout"
        },
        {
          "output_type": "execute_result",
          "data": {
            "text/plain": [
              "['April Mr. Mellon', 'unlimited America First contributions']"
            ]
          },
          "metadata": {
            "tags": []
          },
          "execution_count": 101
        }
      ]
    },
    {
      "cell_type": "code",
      "metadata": {
        "colab": {
          "base_uri": "https://localhost:8080/"
        },
        "id": "181HH4bNPNiQ",
        "outputId": "c44d7ed5-c886-4dc2-b94a-0a912f3acb95"
      },
      "source": [
        "text = \"Mr. Mellon gave $10 million to President Trump’s super PAC.\"\n",
        "get_entities(text)"
      ],
      "execution_count": 34,
      "outputs": [
        {
          "output_type": "stream",
          "text": [
            "ent1=  Mr. Mellon\n",
            "ent2= $ 10 million\n",
            "ent2= super President PAC\n"
          ],
          "name": "stdout"
        },
        {
          "output_type": "execute_result",
          "data": {
            "text/plain": [
              "['Mr. Mellon', 'Trump super President PAC']"
            ]
          },
          "metadata": {
            "tags": []
          },
          "execution_count": 34
        }
      ]
    },
    {
      "cell_type": "code",
      "metadata": {
        "colab": {
          "base_uri": "https://localhost:8080/"
        },
        "id": "ekDgsO35iV5z",
        "outputId": "a6672857-f82e-45e7-a4a7-901df0972224"
      },
      "source": [
        "get_entities(summary)"
      ],
      "execution_count": 18,
      "outputs": [
        {
          "output_type": "stream",
          "text": [
            "ent1= April Mr. Mellon\n",
            "ent2= $ 10 million\n",
            "ent2= super President PAC\n",
            "ent1= raising America First group\n",
            "ent2= unlimited  contributions\n",
            "ent1= unlimited  fact\n",
            "ent1=   outsider\n",
            "ent2=  Mr. Mellon\n",
            "ent2=  Mr. one\n",
            "ent2= few Mr. supporters\n",
            "ent2= surprising Mr. problem\n",
            "ent2= surprising Mr. president\n",
            "ent2= surprising Mr. struggle\n",
            "ent2= reliable Mr. stable\n",
            "ent2= reliable Mr. millionaires\n",
            "ent2= reliable Mr. willing\n",
            "ent2= seven figure checks\n",
            "ent2= seven figure takeover\n",
            "ent2= Republican figure Party\n",
            "ent1= Republican policy that\n",
            "ent2= largely  interests\n",
            "ent2= largely  America\n"
          ],
          "name": "stdout"
        },
        {
          "output_type": "execute_result",
          "data": {
            "text/plain": [
              "['Republican policy that', 'Trump largely  America']"
            ]
          },
          "metadata": {
            "tags": []
          },
          "execution_count": 18
        }
      ]
    },
    {
      "cell_type": "code",
      "metadata": {
        "colab": {
          "base_uri": "https://localhost:8080/"
        },
        "id": "pC0lRAiDlc3o",
        "outputId": "a5a15cc6-d9df-41b7-aa7a-f969bd139f71"
      },
      "source": [
        "sentences = sent_tokenize(summary)\n",
        "sentences"
      ],
      "execution_count": 19,
      "outputs": [
        {
          "output_type": "execute_result",
          "data": {
            "text/plain": [
              "['This April, Mr. Mellon gave another $10 million, this time to President Trump’s super PAC,\\n America First Action, the only Trump-endorsed fund-raising group permitted to collect unlimited \\n contributions.',\n",
              " 'The fact that an outsider like Mr. Mellon has emerged as one of the few \\n supporters willing to be so generous illustrates a surprising problem for the president: \\n his struggle to attract and retain a reliable stable of millionaires and billionaires willing \\n to write seven-figure checks, despite his takeover of the Republican \\nParty and a policy agenda that largely serves the interests of America’s ultrawealthy.']"
            ]
          },
          "metadata": {
            "tags": []
          },
          "execution_count": 19
        }
      ]
    },
    {
      "cell_type": "markdown",
      "metadata": {
        "id": "rPxXrRJDgAPD"
      },
      "source": [
        "## entity_pairs"
      ]
    },
    {
      "cell_type": "code",
      "metadata": {
        "colab": {
          "base_uri": "https://localhost:8080/"
        },
        "id": "DB5U2OQWlTnm",
        "outputId": "efb14d45-d5f6-4f19-c6e0-5c42ebc640b3"
      },
      "source": [
        "entity_pairs = []\n",
        "\n",
        "for i in tqdm(sentences):\n",
        "  entity_pairs.append(get_entities(i))"
      ],
      "execution_count": 20,
      "outputs": [
        {
          "output_type": "stream",
          "text": [
            "100%|██████████| 2/2 [00:00<00:00, 10.87it/s]"
          ],
          "name": "stderr"
        },
        {
          "output_type": "stream",
          "text": [
            "ent1= April Mr. Mellon\n",
            "ent2= $ 10 million\n",
            "ent2= super President PAC\n",
            "ent1= raising America First group\n",
            "ent2= unlimited  contributions\n",
            "ent1=   fact\n",
            "ent1=   outsider\n",
            "ent2=  Mr. Mellon\n",
            "ent2=  Mr. one\n",
            "ent2= few Mr. supporters\n",
            "ent2= surprising Mr. problem\n",
            "ent2= surprising Mr. president\n",
            "ent2= surprising Mr. struggle\n",
            "ent2= reliable Mr. stable\n",
            "ent2= reliable Mr. millionaires\n",
            "ent2= reliable Mr. willing\n",
            "ent2= seven figure checks\n",
            "ent2= seven figure takeover\n",
            "ent2= Republican figure Party\n",
            "ent1= Republican policy that\n",
            "ent2= largely  interests\n",
            "ent2= largely  America\n"
          ],
          "name": "stdout"
        },
        {
          "output_type": "stream",
          "text": [
            "\n"
          ],
          "name": "stderr"
        }
      ]
    },
    {
      "cell_type": "code",
      "metadata": {
        "colab": {
          "base_uri": "https://localhost:8080/"
        },
        "id": "Fri0daoFmNZu",
        "outputId": "3bad0ef9-6be6-4be8-f31e-43c631d09761"
      },
      "source": [
        "entity_pairs"
      ],
      "execution_count": 30,
      "outputs": [
        {
          "output_type": "execute_result",
          "data": {
            "text/plain": [
              "[['raising America First group', 'Trump unlimited  contributions'],\n",
              " ['Republican policy that', 'largely  America']]"
            ]
          },
          "metadata": {
            "tags": []
          },
          "execution_count": 30
        }
      ]
    },
    {
      "cell_type": "markdown",
      "metadata": {
        "id": "s5ZKkd4rgC5z"
      },
      "source": [
        "## get_relation"
      ]
    },
    {
      "cell_type": "code",
      "metadata": {
        "id": "aw42Uk_QmZxC"
      },
      "source": [
        "def get_relation(sent):\n",
        "\n",
        "  doc = nlp(sent)\n",
        "\n",
        "  # Matcher class object \n",
        "  matcher = Matcher(nlp.vocab)\n",
        "\n",
        "  #define the pattern ## update pattern using Hearst Patteren \n",
        "  pattern = [{'DEP':'ROOT'}, \n",
        "            {'DEP':'prep','OP':\"?\"},\n",
        "            {'DEP':'agent','OP':\"?\"},  \n",
        "            {'POS':'ADJ','OP':\"?\"}] \n",
        "\n",
        "  # X -> VERB(Gave/) -> Y\n",
        "  # pattern = [{'POS':'PROPN'}, \n",
        "  #          {'POS': 'VERB'}, \n",
        "  #          #{'LOWER': 'as'}, \n",
        "  #          {'POS': 'PROPN'} #proper noun\n",
        "  #          ]\n",
        "\n",
        "  matcher.add(\"matching_1\", None, pattern) \n",
        "\n",
        "  matches = matcher(doc)\n",
        "  print(\"matches=\", matches)\n",
        "  k = len(matches) - 1\n",
        "\n",
        "  span = doc[matches[k][1]:matches[k][2]] \n",
        "  #span = doc[matches[0][1]:matches[0][2]]\n",
        "  print(span.text)\n",
        "  return(span.text)\n",
        "\n",
        "  "
      ],
      "execution_count": 21,
      "outputs": []
    },
    {
      "cell_type": "code",
      "metadata": {
        "colab": {
          "base_uri": "https://localhost:8080/",
          "height": 68
        },
        "id": "GPLcJaG3mfLm",
        "outputId": "7c9b2808-ea05-4692-c783-01f6f7f3a86e"
      },
      "source": [
        "get_relation(\"This April, Mr. Mellon gave another $10 million, this time to President Trump’s super PAC, America First Action, the only Trump-endorsed fund-raising group permitted to collect unlimited contributions.\")"
      ],
      "execution_count": 83,
      "outputs": [
        {
          "output_type": "stream",
          "text": [
            "matches= [(11840699188806025751, 5, 6)]\n",
            "gave\n"
          ],
          "name": "stdout"
        },
        {
          "output_type": "execute_result",
          "data": {
            "application/vnd.google.colaboratory.intrinsic+json": {
              "type": "string"
            },
            "text/plain": [
              "'gave'"
            ]
          },
          "metadata": {
            "tags": []
          },
          "execution_count": 83
        }
      ]
    },
    {
      "cell_type": "code",
      "metadata": {
        "colab": {
          "base_uri": "https://localhost:8080/",
          "height": 68
        },
        "id": "za1wQChfO3Lq",
        "outputId": "b4c782e6-64ea-48d9-a03c-13defb27c238"
      },
      "source": [
        "text = \"Mr. Mellon gave $10 million to President Trump’s super PAC.\"\n",
        "get_relation(text)"
      ],
      "execution_count": 88,
      "outputs": [
        {
          "output_type": "stream",
          "text": [
            "matches= [(11840699188806025751, 2, 3)]\n",
            "gave\n"
          ],
          "name": "stdout"
        },
        {
          "output_type": "execute_result",
          "data": {
            "application/vnd.google.colaboratory.intrinsic+json": {
              "type": "string"
            },
            "text/plain": [
              "'gave'"
            ]
          },
          "metadata": {
            "tags": []
          },
          "execution_count": 88
        }
      ]
    },
    {
      "cell_type": "code",
      "metadata": {
        "colab": {
          "base_uri": "https://localhost:8080/"
        },
        "id": "m6a3Ui6emos5",
        "outputId": "384d2b47-4bb1-4857-bb08-e953bc09b42f"
      },
      "source": [
        "relations = [get_relation(i) for i in tqdm(sentences)]"
      ],
      "execution_count": 22,
      "outputs": [
        {
          "output_type": "stream",
          "text": [
            "100%|██████████| 2/2 [00:00<00:00,  9.19it/s]"
          ],
          "name": "stderr"
        },
        {
          "output_type": "stream",
          "text": [
            "matches= [(11840699188806025751, 5, 6)]\n",
            "gave\n",
            "matches= [(11840699188806025751, 22, 23)]\n",
            "illustrates\n"
          ],
          "name": "stdout"
        },
        {
          "output_type": "stream",
          "text": [
            "\n"
          ],
          "name": "stderr"
        }
      ]
    },
    {
      "cell_type": "code",
      "metadata": {
        "colab": {
          "base_uri": "https://localhost:8080/"
        },
        "id": "f2guPonYm1T8",
        "outputId": "bacc4ffa-1766-413b-8cc0-9e815894402d"
      },
      "source": [
        "pd.Series(relations).value_counts()[:50]"
      ],
      "execution_count": 33,
      "outputs": [
        {
          "output_type": "execute_result",
          "data": {
            "text/plain": [
              "gave           1\n",
              "illustrates    1\n",
              "dtype: int64"
            ]
          },
          "metadata": {
            "tags": []
          },
          "execution_count": 33
        }
      ]
    },
    {
      "cell_type": "markdown",
      "metadata": {
        "id": "u1XG7JZvnBby"
      },
      "source": [
        "## Building Knowledge Graph: Method 1\n",
        "\n",
        "https://www.analyticsvidhya.com/blog/2019/10/how-to-build-knowledge-graph-text-using-spacy/\n",
        "\n",
        "https://www.kaggle.com/pavansanagapati/knowledge-graph-nlp-tutorial-bert-spacy-nltk"
      ]
    },
    {
      "cell_type": "code",
      "metadata": {
        "id": "wdAANGFBnDfd"
      },
      "source": [
        "# extract subject\n",
        "source = [i[0] for i in entity_pairs]\n",
        "\n",
        "# extract object\n",
        "target = [i[1] for i in entity_pairs]\n",
        "\n",
        "kg_df = pd.DataFrame({'source':source, 'target':target, 'edge':relations})"
      ],
      "execution_count": 23,
      "outputs": []
    },
    {
      "cell_type": "code",
      "metadata": {
        "colab": {
          "base_uri": "https://localhost:8080/",
          "height": 107
        },
        "id": "BSrtfGELg2oV",
        "outputId": "96cde505-105d-47f7-c6f1-bed6c9eb2c6a"
      },
      "source": [
        "kg_df"
      ],
      "execution_count": 24,
      "outputs": [
        {
          "output_type": "execute_result",
          "data": {
            "text/html": [
              "<div>\n",
              "<style scoped>\n",
              "    .dataframe tbody tr th:only-of-type {\n",
              "        vertical-align: middle;\n",
              "    }\n",
              "\n",
              "    .dataframe tbody tr th {\n",
              "        vertical-align: top;\n",
              "    }\n",
              "\n",
              "    .dataframe thead th {\n",
              "        text-align: right;\n",
              "    }\n",
              "</style>\n",
              "<table border=\"1\" class=\"dataframe\">\n",
              "  <thead>\n",
              "    <tr style=\"text-align: right;\">\n",
              "      <th></th>\n",
              "      <th>source</th>\n",
              "      <th>target</th>\n",
              "      <th>edge</th>\n",
              "    </tr>\n",
              "  </thead>\n",
              "  <tbody>\n",
              "    <tr>\n",
              "      <th>0</th>\n",
              "      <td>raising America First group</td>\n",
              "      <td>Trump unlimited  contributions</td>\n",
              "      <td>gave</td>\n",
              "    </tr>\n",
              "    <tr>\n",
              "      <th>1</th>\n",
              "      <td>Republican policy that</td>\n",
              "      <td>largely  America</td>\n",
              "      <td>illustrates</td>\n",
              "    </tr>\n",
              "  </tbody>\n",
              "</table>\n",
              "</div>"
            ],
            "text/plain": [
              "                        source                          target         edge\n",
              "0  raising America First group  Trump unlimited  contributions         gave\n",
              "1       Republican policy that                largely  America  illustrates"
            ]
          },
          "metadata": {
            "tags": []
          },
          "execution_count": 24
        }
      ]
    },
    {
      "cell_type": "code",
      "metadata": {
        "id": "nCtW6OjtnGxd"
      },
      "source": [
        "\n",
        "# create a directed-graph from a dataframe\n",
        "G=nx.from_pandas_edgelist(kg_df, \"source\", \"target\", \n",
        "                          edge_attr=True, create_using=nx.MultiDiGraph())"
      ],
      "execution_count": 25,
      "outputs": []
    },
    {
      "cell_type": "code",
      "metadata": {
        "colab": {
          "base_uri": "https://localhost:8080/",
          "height": 895
        },
        "id": "g6kSn63vnJqp",
        "outputId": "3f743eeb-de19-4c4b-d614-a41d2f28799f"
      },
      "source": [
        "plt.figure(figsize=(12,12))\n",
        "\n",
        "pos = nx.spring_layout(G)\n",
        "nx.draw(G, with_labels=True, node_color='skyblue', edge_cmap=plt.cm.Blues, pos = pos)\n",
        "plt.show()"
      ],
      "execution_count": 26,
      "outputs": [
        {
          "output_type": "display_data",
          "data": {
            "image/png": "[encoded data removed]",
            "text/plain": [
              "<Figure size 864x864 with 1 Axes>"
            ]
          },
          "metadata": {
            "tags": []
          }
        }
      ]
    },
    {
      "cell_type": "code",
      "metadata": {
        "colab": {
          "base_uri": "https://localhost:8080/"
        },
        "id": "_1_q4dpPndM7",
        "outputId": "b3106cac-97ad-4a37-84b1-e56c85de06c3"
      },
      "source": [
        "kg_df['edge'].unique()"
      ],
      "execution_count": 39,
      "outputs": [
        {
          "output_type": "execute_result",
          "data": {
            "text/plain": [
              "array(['gave', 'illustrates'], dtype=object)"
            ]
          },
          "metadata": {
            "tags": []
          },
          "execution_count": 39
        }
      ]
    },
    {
      "cell_type": "markdown",
      "metadata": {
        "id": "3RdtxpfpuYhA"
      },
      "source": [
        "### To CSV"
      ]
    },
    {
      "cell_type": "code",
      "metadata": {
        "id": "m3b4avnFs7wx"
      },
      "source": [
        "#file_path = '/content/drive/Shared drives/1DeepContextGraph/1DeepContextGraph/code/data/'"
      ],
      "execution_count": 42,
      "outputs": []
    },
    {
      "cell_type": "code",
      "metadata": {
        "colab": {
          "base_uri": "https://localhost:8080/",
          "height": 107
        },
        "id": "AktpiZ5yoIEY",
        "outputId": "d55291a3-7939-49c7-c3a1-c794e5f9b5cd"
      },
      "source": [
        "kg_df.head()\n",
        "#kg_df.to_csv(file_path+\"kg_path.csv\")"
      ],
      "execution_count": 40,
      "outputs": [
        {
          "output_type": "execute_result",
          "data": {
            "text/html": [
              "<div>\n",
              "<style scoped>\n",
              "    .dataframe tbody tr th:only-of-type {\n",
              "        vertical-align: middle;\n",
              "    }\n",
              "\n",
              "    .dataframe tbody tr th {\n",
              "        vertical-align: top;\n",
              "    }\n",
              "\n",
              "    .dataframe thead th {\n",
              "        text-align: right;\n",
              "    }\n",
              "</style>\n",
              "<table border=\"1\" class=\"dataframe\">\n",
              "  <thead>\n",
              "    <tr style=\"text-align: right;\">\n",
              "      <th></th>\n",
              "      <th>source</th>\n",
              "      <th>target</th>\n",
              "      <th>edge</th>\n",
              "    </tr>\n",
              "  </thead>\n",
              "  <tbody>\n",
              "    <tr>\n",
              "      <th>0</th>\n",
              "      <td>raising America First group</td>\n",
              "      <td>Trump unlimited  contributions</td>\n",
              "      <td>gave</td>\n",
              "    </tr>\n",
              "    <tr>\n",
              "      <th>1</th>\n",
              "      <td>Republican policy that</td>\n",
              "      <td>largely  America</td>\n",
              "      <td>illustrates</td>\n",
              "    </tr>\n",
              "  </tbody>\n",
              "</table>\n",
              "</div>"
            ],
            "text/plain": [
              "                        source                          target         edge\n",
              "0  raising America First group  Trump unlimited  contributions         gave\n",
              "1       Republican policy that                largely  America  illustrates"
            ]
          },
          "metadata": {
            "tags": []
          },
          "execution_count": 40
        }
      ]
    },
    {
      "cell_type": "code",
      "metadata": {
        "colab": {
          "base_uri": "https://localhost:8080/",
          "height": 895
        },
        "id": "l2mZGHqzn-B9",
        "outputId": "a01c35d5-9d02-4528-bd92-63ed461791ba"
      },
      "source": [
        "G=nx.from_pandas_edgelist(kg_df[kg_df['edge']==\"donated\"], \"source\", \"target\", \n",
        "                          edge_attr=True, create_using=nx.MultiDiGraph())\n",
        "\n",
        "plt.figure(figsize=(12,12))\n",
        "pos = nx.spring_layout(G, k = 0.5) # k regulates the distance between nodes\n",
        "nx.draw(G, with_labels=True, node_color='skyblue', node_size=1500, edge_cmap=plt.cm.Blues, pos = pos)\n",
        "plt.show()"
      ],
      "execution_count": 42,
      "outputs": [
        {
          "output_type": "display_data",
          "data": {
            "image/png": "[encoded data removed]",
            "text/plain": [
              "<Figure size 864x864 with 1 Axes>"
            ]
          },
          "metadata": {
            "tags": []
          }
        }
      ]
    },
    {
      "cell_type": "code",
      "metadata": {
        "colab": {
          "base_uri": "https://localhost:8080/",
          "height": 47
        },
        "id": "Ej1EevKKow2O",
        "outputId": "d93f357c-f27a-4529-bad4-7d5d6737781d"
      },
      "source": [
        "kg_df[kg_df['source']==\"Mellon\"]"
      ],
      "execution_count": 43,
      "outputs": [
        {
          "output_type": "execute_result",
          "data": {
            "text/html": [
              "<div>\n",
              "<style scoped>\n",
              "    .dataframe tbody tr th:only-of-type {\n",
              "        vertical-align: middle;\n",
              "    }\n",
              "\n",
              "    .dataframe tbody tr th {\n",
              "        vertical-align: top;\n",
              "    }\n",
              "\n",
              "    .dataframe thead th {\n",
              "        text-align: right;\n",
              "    }\n",
              "</style>\n",
              "<table border=\"1\" class=\"dataframe\">\n",
              "  <thead>\n",
              "    <tr style=\"text-align: right;\">\n",
              "      <th></th>\n",
              "      <th>source</th>\n",
              "      <th>target</th>\n",
              "      <th>edge</th>\n",
              "    </tr>\n",
              "  </thead>\n",
              "  <tbody>\n",
              "  </tbody>\n",
              "</table>\n",
              "</div>"
            ],
            "text/plain": [
              "Empty DataFrame\n",
              "Columns: [source, target, edge]\n",
              "Index: []"
            ]
          },
          "metadata": {
            "tags": []
          },
          "execution_count": 43
        }
      ]
    },
    {
      "cell_type": "code",
      "metadata": {
        "colab": {
          "base_uri": "https://localhost:8080/",
          "height": 895
        },
        "id": "F-D8Lbb1oWbV",
        "outputId": "1f42ad57-5da8-4350-a71a-38acf68a419a"
      },
      "source": [
        "\n",
        "G=nx.from_pandas_edgelist(kg_df[kg_df['source']==\"Mellon\"], \"edge\", \"target\", \n",
        "                          edge_attr=True, create_using=nx.MultiDiGraph())\n",
        "plt.figure(figsize=(12,12))\n",
        "pos = nx.spring_layout(G, k = 0.5) # k regulates the distance between nodes\n",
        "nx.draw(G, with_labels=True, node_color='skyblue', node_size=1500, edge_cmap=plt.cm.Blues, pos = pos)\n",
        "plt.show()"
      ],
      "execution_count": 46,
      "outputs": [
        {
          "output_type": "display_data",
          "data": {
            "image/png": "[encoded data removed]",
            "text/plain": [
              "<Figure size 864x864 with 1 Axes>"
            ]
          },
          "metadata": {
            "tags": []
          }
        }
      ]
    },
    {
      "cell_type": "code",
      "metadata": {
        "colab": {
          "base_uri": "https://localhost:8080/",
          "height": 895
        },
        "id": "9_eRKzHJpTkd",
        "outputId": "e0c64b1b-cf4f-4b03-a5d0-6a375e589b57"
      },
      "source": [
        "\n",
        "G=nx.from_pandas_edgelist(kg_df[kg_df['target']==\"advertisement\"], \"edge\", \"source\", \n",
        "                          edge_attr=True, create_using=nx.MultiDiGraph())\n",
        "plt.figure(figsize=(12,12))\n",
        "pos = nx.spring_layout(G, k = 0.5) # k regulates the distance between nodes\n",
        "nx.draw(G, with_labels=True, node_color='skyblue', node_size=1500, edge_cmap=plt.cm.Blues, pos = pos)\n",
        "plt.show()"
      ],
      "execution_count": 47,
      "outputs": [
        {
          "output_type": "display_data",
          "data": {
            "image/png": "[encoded data removed]",
            "text/plain": [
              "<Figure size 864x864 with 1 Axes>"
            ]
          },
          "metadata": {
            "tags": []
          }
        }
      ]
    },
    {
      "cell_type": "markdown",
      "metadata": {
        "id": "8GZOUJF2axLi"
      },
      "source": [
        "## Building Knowledge Graph: Method 2\n",
        "\n",
        "https://programmerbackpack.com/python-nlp-tutorial-information-extraction-and-knowledge-graphs/"
      ]
    },
    {
      "cell_type": "code",
      "metadata": {
        "id": "NnquU-takIP3"
      },
      "source": [
        "text = '''In a self-published 2015 autobiography, Mellon called social safety net \n",
        "programs “Slavery Redux,” adding: “For delivering their votes in the Federal Elections, \n",
        "they are awarded with yet more and more freebies: food stamps, cell phones, WIC payments, \n",
        "Obamacare, and on, and on, and on. The largess is funded by the hardworking folks, fewer and fewer in number,\n",
        " who are too honest or too proud to allow themselves to sink into this morass.\n",
        "'''"
      ],
      "execution_count": 124,
      "outputs": []
    },
    {
      "cell_type": "code",
      "metadata": {
        "id": "JFhWBmi3HlIk"
      },
      "source": [
        "text = article"
      ],
      "execution_count": 27,
      "outputs": []
    },
    {
      "cell_type": "code",
      "metadata": {
        "colab": {
          "base_uri": "https://localhost:8080/"
        },
        "id": "6CZwm8sna11J",
        "outputId": "81c965ae-7ab7-477a-875a-18918f4579e1"
      },
      "source": [
        "body = text #summary\n",
        "sentences = getSentences(body)\n",
        "nlp_model = spacy.load('en_core_web_sm')\n",
        "\n",
        "triples = []\n",
        "#print (body)\n",
        "for sentence in sentences:\n",
        "  triples.append(processSentence(sentence))\n"
      ],
      "execution_count": 28,
      "outputs": [
        {
          "output_type": "stream",
          "text": [
            "This -> det\n",
            "April -> npadvmod\n",
            ", -> punct\n",
            "Mr. -> compound\n",
            "Mellon -> nsubj\n",
            "gave -> ROOT\n",
            "another -> det\n",
            "$ -> quantmod\n",
            "10 -> compound\n",
            "million -> dobj\n",
            ", -> punct\n",
            "this -> det\n",
            "time -> npadvmod\n",
            "to -> prep\n",
            "President -> compound\n",
            "Trump -> nmod\n",
            "’s -> punct\n",
            "super -> amod\n",
            "PAC -> pobj\n",
            ", -> punct\n",
            "\n",
            "  -> \n",
            "America -> compound\n",
            "First -> compound\n",
            "Action -> appos\n",
            ", -> punct\n",
            "the -> det\n",
            "only -> amod\n",
            "Trump -> npadvmod\n",
            "- -> punct\n",
            "endorsed -> amod\n",
            "fund -> npadvmod\n",
            "- -> punct\n",
            "raising -> amod\n",
            "group -> nsubj\n",
            "permitted -> acl\n",
            "to -> aux\n",
            "collect -> xcomp\n",
            "unlimited -> amod\n",
            "\n",
            "  -> \n",
            "contributions -> dobj\n",
            ". -> punct\n",
            "Mellon group , give super only endorse raise unlimited , million PAC contributions\n",
            "The -> det\n",
            "fact -> nsubj\n",
            "that -> mark\n",
            "an -> det\n",
            "outsider -> nsubj\n",
            "like -> prep\n",
            "Mr. -> compound\n",
            "Mellon -> pobj\n",
            "has -> aux\n",
            "emerged -> acl\n",
            "as -> prep\n",
            "one -> pobj\n",
            "of -> prep\n",
            "the -> det\n",
            "few -> amod\n",
            "\n",
            "  -> \n",
            "supporters -> pobj\n",
            "willing -> amod\n",
            "to -> aux\n",
            "be -> xcomp\n",
            "so -> advmod\n",
            "generous -> acomp\n",
            "illustrates -> ROOT\n",
            "a -> det\n",
            "surprising -> amod\n",
            "problem -> dobj\n",
            "for -> prep\n",
            "the -> det\n",
            "president -> pobj\n",
            ": -> punct\n",
            "\n",
            "  -> \n",
            "his -> poss\n",
            "struggle -> dobj\n",
            "to -> aux\n",
            "attract -> acl\n",
            "and -> cc\n",
            "retain -> conj\n",
            "a -> det\n",
            "reliable -> amod\n",
            "stable -> dobj\n",
            "of -> prep\n",
            "millionaires -> pobj\n",
            "and -> cc\n",
            "billionaires -> conj\n",
            "willing -> dobj\n",
            "\n",
            "  -> \n",
            "to -> aux\n",
            "write -> advcl\n",
            "seven -> nummod\n",
            "- -> punct\n",
            "figure -> compound\n",
            "checks -> dobj\n",
            ", -> punct\n",
            "despite -> prep\n",
            "his -> poss\n",
            "takeover -> pobj\n",
            "of -> prep\n",
            "the -> det\n",
            "Republican -> nmod\n",
            "\n",
            " -> \n",
            "Party -> pobj\n",
            "and -> cc\n",
            "a -> det\n",
            "policy -> compound\n",
            "agenda -> conj\n",
            "that -> nsubj\n",
            "largely -> advmod\n",
            "serves -> relcl\n",
            "the -> det\n",
            "interests -> dobj\n",
            "of -> prep\n",
            "America -> pobj\n",
            "’s -> punct\n",
            "ultrawealthy -> advcl\n",
            ". -> punct\n",
            "fact outsider that , few willing illustrate surprising reliable , Mellon one supporters problem president struggle stable millionaires willing checks takeover Party interests America\n"
          ],
          "name": "stdout"
        }
      ]
    },
    {
      "cell_type": "code",
      "metadata": {
        "colab": {
          "base_uri": "https://localhost:8080/"
        },
        "id": "rqhazyGZu1SA",
        "outputId": "ab913227-2c47-46bc-ce74-beb7a18702b9"
      },
      "source": [
        "triples"
      ],
      "execution_count": 29,
      "outputs": [
        {
          "output_type": "execute_result",
          "data": {
            "text/plain": [
              "[('Mellon group',\n",
              "  'give super only endorse raise unlimited',\n",
              "  'million PAC contributions'),\n",
              " ('fact outsider that',\n",
              "  'few willing illustrate surprising reliable',\n",
              "  'Mellon one supporters problem president struggle stable millionaires willing checks takeover Party interests America')]"
            ]
          },
          "metadata": {
            "tags": []
          },
          "execution_count": 29
        }
      ]
    },
    {
      "cell_type": "code",
      "metadata": {
        "id": "dQ0wEUNeh325"
      },
      "source": [
        "triples.append(('Mellon',\n",
        "  'gave',\n",
        "  'Trump super PAC'))"
      ],
      "execution_count": 101,
      "outputs": []
    },
    {
      "cell_type": "code",
      "metadata": {
        "colab": {
          "base_uri": "https://localhost:8080/",
          "height": 895
        },
        "id": "d8gI94IAxYm-",
        "outputId": "dd58bf65-1c1a-4658-b7de-9a847063e298"
      },
      "source": [
        "#deps = [\"compound\", \"prep\", \"conj\", \"mod\"]\n",
        "printGraph(triples) "
      ],
      "execution_count": 50,
      "outputs": [
        {
          "output_type": "display_data",
          "data": {
            "image/png": "[encoded data removed]",
            "text/plain": [
              "<Figure size 864x864 with 1 Axes>"
            ]
          },
          "metadata": {
            "tags": []
          }
        }
      ]
    },
    {
      "cell_type": "code",
      "metadata": {
        "colab": {
          "base_uri": "https://localhost:8080/",
          "height": 895
        },
        "id": "8jiw6Sekq3Ho",
        "outputId": "c99e5362-a88c-4c59-b5f8-113e496aa4a4"
      },
      "source": [
        "#deps = [\"compound\", \"prep\", \"conj\", \"mod\", \"quantmod\", \"dobj\"]\n",
        "printGraph(triples) "
      ],
      "execution_count": 85,
      "outputs": [
        {
          "output_type": "display_data",
          "data": {
            "image/png": "[encoded data removed]",
            "text/plain": [
              "<Figure size 864x864 with 1 Axes>"
            ]
          },
          "metadata": {
            "tags": []
          }
        }
      ]
    },
    {
      "cell_type": "code",
      "metadata": {
        "colab": {
          "base_uri": "https://localhost:8080/",
          "height": 895
        },
        "id": "I_MbtjPPa3xS",
        "outputId": "5b25c592-49d1-4d8c-d74e-476cfa35a31e"
      },
      "source": [
        " #deps = [\"compound\", \"prep\", \"conj\", \"mod\"]\n",
        " printGraph(triples) "
      ],
      "execution_count": 80,
      "outputs": [
        {
          "output_type": "display_data",
          "data": {
            "image/png": "[encoded data removed]",
            "text/plain": [
              "<Figure size 864x864 with 1 Axes>"
            ]
          },
          "metadata": {
            "tags": []
          }
        }
      ]
    },
    {
      "cell_type": "markdown",
      "metadata": {
        "id": "f7nFnGz5sjDV"
      },
      "source": [
        "order 2-4"
      ]
    },
    {
      "cell_type": "markdown",
      "metadata": {
        "id": "_jSfSrbytMwq"
      },
      "source": [
        "1. given url -> provide a df containing all the binary relationship\n",
        "2. Add \"mapping data structure\" to the df\n",
        "3. Visualize: Netwroks\n",
        "4. Visualize NER; POS; Relationships; => binary graph\n",
        "5. Transitive micro graph\n",
        "6. ** Disambiguation\n",
        "\n",
        "2,4,5"
      ]
    },
    {
      "cell_type": "markdown",
      "metadata": {
        "id": "Y67lr2It1vXR"
      },
      "source": [
        "# Identify: Direct Semantic Pattern"
      ]
    },
    {
      "cell_type": "markdown",
      "metadata": {
        "id": "odvc1LjU1-nG"
      },
      "source": [
        "# 1.X -> VERB(Gave/) -> Y"
      ]
    },
    {
      "cell_type": "code",
      "metadata": {
        "colab": {
          "base_uri": "https://localhost:8080/"
        },
        "id": "wKs_kLVw19_f",
        "outputId": "63992cab-bcce-4458-f116-4d496a927cdd"
      },
      "source": [
        "# sample text \n",
        "#text = \"Mr. Mellon gave another $10 million, this time to President Trump’s super PAC, America First Action, the only Trump-endorsed fund-raising group permitted to collect unlimited contributions.\" \n",
        "text = \"Mr. Mellon gave $10 million to President Trump’s super PAC.\" \n",
        "\n",
        "# create a spaCy object \n",
        "doc = nlp(text)\n",
        "# print token, dependency, POS tag \n",
        "for tok in doc: \n",
        "  print(tok.text, \"-->\",tok.dep_,\"-->\", tok.pos_)"
      ],
      "execution_count": 34,
      "outputs": [
        {
          "output_type": "stream",
          "text": [
            "Mr. --> compound --> PROPN\n",
            "Mellon --> nsubj --> PROPN\n",
            "gave --> ROOT --> VERB\n",
            "$ --> quantmod --> SYM\n",
            "10 --> compound --> NUM\n",
            "million --> dobj --> NUM\n",
            "to --> prep --> ADP\n",
            "President --> compound --> PROPN\n",
            "Trump --> nmod --> PROPN\n",
            "’s --> punct --> PART\n",
            "super --> amod --> ADJ\n",
            "PAC --> pobj --> PROPN\n",
            ". --> punct --> PUNCT\n"
          ],
          "name": "stdout"
        }
      ]
    },
    {
      "cell_type": "code",
      "metadata": {
        "colab": {
          "base_uri": "https://localhost:8080/"
        },
        "id": "YgC9v1z1623m",
        "outputId": "3ea22ba5-68ed-46d7-a8de-a048a67da7df"
      },
      "source": [
        "# Matcher class object\n",
        "matcher = Matcher(nlp.vocab)\n",
        "\n",
        "#define the pattern\n",
        "pattern = [\n",
        "           {'POS': 'PROPN' }\n",
        "           #{'DEP': 'nsubj'},\n",
        "           #{'DEP': 'nmod'}\n",
        "           #{'DEP': 'ROOT'},\n",
        "           #{'POS': 'NUM' , 'OP':\"?\"},\n",
        "           #{'DEP': 'nmod' , 'OP':\"?\"}#,\n",
        "           #{'POS': 'PROPN' , 'OP':\"?\"}\n",
        "           ]\n",
        "\n",
        "matcher.add(\"matching_1\", None, pattern)\n",
        "matches = matcher(doc)\n",
        "\n",
        "span = doc[matches[0][1]:matches[0][2]]\n",
        "print(span.text)"
      ],
      "execution_count": 50,
      "outputs": [
        {
          "output_type": "stream",
          "text": [
            "Mr.\n"
          ],
          "name": "stdout"
        }
      ]
    },
    {
      "cell_type": "code",
      "metadata": {
        "id": "vKjt1-zwvBR_"
      },
      "source": [
        "patterns = [\n",
        "  (r'.*ing$', 'VBG'),                # gerunds\n",
        "  (r'.*ed$', 'VBD'),                 # simple past\n",
        "  (r'.*es$', 'VBZ'),                 # 3rd singular present\n",
        "  (r'.*ould$', 'MD'),                # modals\n",
        "  (r'.*\\'s$', 'NN$'),                # possessive nouns\n",
        "  (r'.*s$', 'NNS'),                  # plural nouns\n",
        "  (r'^-?[0-9]+(\\.[0-9]+)?$', 'CD'),  # cardinal numbers\n",
        "  (r'.*', 'NN')                      # nouns (default)\n",
        "]"
      ],
      "execution_count": 42,
      "outputs": []
    },
    {
      "cell_type": "code",
      "metadata": {
        "id": "3dZcR1VFrQ1Q"
      },
      "source": [
        "text1 = word_tokenize(text)\n",
        "patterns = nltk.pos_tag(text1)"
      ],
      "execution_count": 39,
      "outputs": []
    },
    {
      "cell_type": "code",
      "metadata": {
        "id": "aJiCNfvsxH-X"
      },
      "source": [
        "from nltk.corpus import brown\n",
        "brown_tagged_sents = brown.tagged_sents(categories='news')\n",
        "brown_sents = brown.sents(categories='news')"
      ],
      "execution_count": 47,
      "outputs": []
    },
    {
      "cell_type": "code",
      "metadata": {
        "colab": {
          "base_uri": "https://localhost:8080/"
        },
        "id": "V5A-6mhoup_W",
        "outputId": "dcd2a6cb-6715-4fef-a750-27ad9f049080"
      },
      "source": [
        "regexp_tagger = nltk.RegexpTagger(patterns)\n",
        "regexp_tagger.tag(text1)"
      ],
      "execution_count": 49,
      "outputs": [
        {
          "output_type": "execute_result",
          "data": {
            "text/plain": [
              "[('Mr.', 'NN'),\n",
              " ('Mellon', 'NN'),\n",
              " ('gave', 'NN'),\n",
              " ('$', 'NN'),\n",
              " ('10', 'CD'),\n",
              " ('million', 'NN'),\n",
              " ('to', 'NN'),\n",
              " ('President', 'NN'),\n",
              " ('Trump', 'NN'),\n",
              " ('’', 'NN'),\n",
              " ('s', 'NNS'),\n",
              " ('super', 'NN'),\n",
              " ('PAC', 'NN'),\n",
              " ('.', 'NN')]"
            ]
          },
          "metadata": {
            "tags": []
          },
          "execution_count": 49
        }
      ]
    },
    {
      "cell_type": "code",
      "metadata": {
        "id": "reF6dEemBoFI"
      },
      "source": [
        "def get_relation(sent):\n",
        "\n",
        "  doc = nlp(sent)\n",
        "\n",
        "  # Matcher class object \n",
        "  matcher = Matcher(nlp.vocab)\n",
        "\n",
        "  #define the pattern ## update pattern using Hearst Patteren \n",
        "  pattern = [\n",
        "           {'POS': 'PROPN' },\n",
        "           {'DEP': 'nsubj'},\n",
        "           {'DEP': 'ROOT'},\n",
        "           {'POS': 'NUM' , 'OP':\"?\"},\n",
        "           {'DEP': 'nmod' , 'OP':\"?\"},\n",
        "           {'POS': 'PROPN' , 'OP':\"?\"}\n",
        "           ]\n",
        "\n",
        "  # X -> VERB(Gave/) -> Y\n",
        "  # pattern = [{'POS':'PROPN'}, \n",
        "  #          {'POS': 'VERB'}, \n",
        "  #          #{'LOWER': 'as'}, \n",
        "  #          {'POS': 'PROPN'} #proper noun\n",
        "  #          ]\n",
        "\n",
        "  matcher.add(\"matching_1\", None, pattern) \n",
        "\n",
        "  matches = matcher(doc)\n",
        "  print(\"matches=\", matches)\n",
        "  k = len(matches) - 1\n",
        "\n",
        "  span = doc[matches[k][1]:matches[k][2]] \n",
        "  #span = doc[matches[0][1]:matches[0][2]]\n",
        "  print(span.text)\n",
        "  return(span.text)"
      ],
      "execution_count": 108,
      "outputs": []
    },
    {
      "cell_type": "code",
      "metadata": {
        "colab": {
          "base_uri": "https://localhost:8080/",
          "height": 68
        },
        "id": "FFjy4j9-B3CZ",
        "outputId": "3fbb2006-fc97-4cbc-fe53-9a37b793161a"
      },
      "source": [
        "get_relation(text)"
      ],
      "execution_count": 109,
      "outputs": [
        {
          "output_type": "stream",
          "text": [
            "matches= [(11840699188806025751, 0, 3)]\n",
            "Mr. Mellon gave\n"
          ],
          "name": "stdout"
        },
        {
          "output_type": "execute_result",
          "data": {
            "application/vnd.google.colaboratory.intrinsic+json": {
              "type": "string"
            },
            "text/plain": [
              "'Mr. Mellon gave'"
            ]
          },
          "metadata": {
            "tags": []
          },
          "execution_count": 109
        }
      ]
    },
    {
      "cell_type": "markdown",
      "metadata": {
        "id": "nYSVwOdOzjUX"
      },
      "source": [
        "## Practice"
      ]
    },
    {
      "cell_type": "code",
      "metadata": {
        "colab": {
          "base_uri": "https://localhost:8080/"
        },
        "id": "VbpfniPEzlNU",
        "outputId": "c9410e61-7aae-4c9f-aae3-708aed233797"
      },
      "source": [
        "doc = nlp(\"A healthy eating pattern includes fruits, especially whole fruits.\") \n",
        "\n",
        "for tok in doc: \n",
        "  #print(tok.text, tok.dep_, tok.pos_)\n",
        "  print(tok.text, \"-->\",tok.dep_,\"-->\", tok.pos_)"
      ],
      "execution_count": 53,
      "outputs": [
        {
          "output_type": "stream",
          "text": [
            "A --> det --> DET\n",
            "healthy --> amod --> ADJ\n",
            "eating --> amod --> VERB\n",
            "pattern --> nsubj --> NOUN\n",
            "includes --> ROOT --> VERB\n",
            "fruits --> dobj --> NOUN\n",
            ", --> punct --> PUNCT\n",
            "especially --> advmod --> ADV\n",
            "whole --> amod --> ADJ\n",
            "fruits --> appos --> NOUN\n",
            ". --> punct --> PUNCT\n"
          ],
          "name": "stdout"
        }
      ]
    },
    {
      "cell_type": "code",
      "metadata": {
        "colab": {
          "base_uri": "https://localhost:8080/"
        },
        "id": "G8nXJ0LJ0RHn",
        "outputId": "95ac20fc-63e9-426e-f392-8af9f24be665"
      },
      "source": [
        "# Matcher class object \n",
        "matcher = Matcher(nlp.vocab)\n",
        "\n",
        "#define the pattern \n",
        "pattern = [\n",
        "          #  {'DEP':'nummod','OP':\"?\"}, \n",
        "          #  {'DEP':'amod','OP':\"?\"}, \n",
        "           {'POS':'NOUN'}, \n",
        "           {'IS_PUNCT':True}, \n",
        "           {'LOWER': 'especially'}, \n",
        "          #  {'DEP':'nummod','OP':\"?\"}, \n",
        "           {'DEP':'amod','OP':\"?\"}, \n",
        "           {'POS':'NOUN'}\n",
        "           ] \n",
        "           \n",
        "matcher.add(\"matching_1\", None, pattern) \n",
        "\n",
        "matches = matcher(doc) \n",
        "span = doc[matches[0][1]:matches[0][2]] \n",
        "print(span.text)"
      ],
      "execution_count": 55,
      "outputs": [
        {
          "output_type": "stream",
          "text": [
            "fruits, especially whole fruits\n"
          ],
          "name": "stdout"
        }
      ]
    },
    {
      "cell_type": "code",
      "metadata": {
        "colab": {
          "base_uri": "https://localhost:8080/"
        },
        "id": "ch9gXY6tC7Bh",
        "outputId": "a4bdeaa4-7c23-4a94-c771-05062d39d998"
      },
      "source": [
        "text = \"Mr. Mellon gave $10 million to President Trump’s super PAC.\"\n",
        "text = \"Mr. Mellon gave 10 to President Trump’s super PAC.\"\n",
        "text = \"This April, Mr. Mellon gave another $10 million, this time to President Trump’s super PAC, America First Action, the only Trump-endorsed fund-raising group permitted to collect unlimited contributions.\"\n",
        "# create a spaCy object \n",
        "doc = nlp(text)\n",
        "# print token, dependency, POS tag \n",
        "for tok in doc: \n",
        "  print(tok.text, \"-->\",tok.dep_,\"-->\", tok.pos_) "
      ],
      "execution_count": 83,
      "outputs": [
        {
          "output_type": "stream",
          "text": [
            "Mr. --> compound --> PROPN\n",
            "Mellon --> nsubj --> PROPN\n",
            "gave --> ROOT --> VERB\n",
            "10 --> dobj --> NUM\n",
            "to --> prep --> ADP\n",
            "President --> compound --> PROPN\n",
            "Trump --> nmod --> PROPN\n",
            "’s --> punct --> PART\n",
            "super --> amod --> ADJ\n",
            "PAC --> pobj --> PROPN\n",
            ". --> punct --> PUNCT\n"
          ],
          "name": "stdout"
        }
      ]
    },
    {
      "cell_type": "code",
      "metadata": {
        "colab": {
          "base_uri": "https://localhost:8080/"
        },
        "id": "qzgSoWh-DZkR",
        "outputId": "698cd4f6-ffd6-4240-85a6-5e327ac42784"
      },
      "source": [
        "# Matcher class object \n",
        "matcher = Matcher(nlp.vocab)\n",
        "\n",
        "#define the pattern \n",
        "pattern = [\n",
        "          #  {'DEP':'nummod','OP':\"?\"}, \n",
        "           {'DEP':'compound','OP':\"?\"}, \n",
        "           {'POS':'PROPN'}, \n",
        "           {'POS': 'VERB'},\n",
        "           {'POS': 'NUM' , 'OP':\"?\"},\n",
        "          #  {'POS': 'NUM' , 'OP':\"?\"},\n",
        "          #  {'DEP':'nmod','OP':\"?\"}, \n",
        "           {'POS': 'ADP' , 'OP':\"?\"},\n",
        "           {'POS':'PROPN'},\n",
        "           {'DEP': 'punct' , 'OP':\"?\"},\n",
        "           {'POS':'ADJ' , 'OP':\"?\"},\n",
        "           {'POS':'PROPN'} \n",
        "           ] \n",
        "           \n",
        "matcher.add(\"matching_1\", None, pattern) \n",
        "\n",
        "matches = matcher(doc) \n",
        "span = doc[matches[0][1]:matches[0][2]] \n",
        "print(span.text)\n",
        "\n",
        "# matches = matcher(doc)\n",
        "# print(\"matches=\", matches)\n",
        "# k = len(matches) - 1\n",
        "# span = doc[matches[k][1]:matches[k][2]] \n",
        "# print(span.text)\n",
        "  "
      ],
      "execution_count": 90,
      "outputs": [
        {
          "output_type": "stream",
          "text": [
            "Mr. Mellon gave 10 to President Trump\n"
          ],
          "name": "stdout"
        }
      ]
    }
  ]
}