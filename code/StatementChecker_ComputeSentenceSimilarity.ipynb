{
  "nbformat": 4,
  "nbformat_minor": 0,
  "metadata": {
    "colab": {
      "name": "StatementChecker_ComputeSentenceSimilarity.ipynb",
      "provenance": [],
      "collapsed_sections": [],
      "toc_visible": true,
      "machine_shape": "hm",
      "include_colab_link": true
    },
    "kernelspec": {
      "name": "python3",
      "display_name": "Python 3"
    },
    "widgets": {
      "application/vnd.jupyter.widget-state+json": {
        "35b3a52be5f5459d89bba1c6dc8c6167": {
          "model_module": "@jupyter-widgets/controls",
          "model_name": "HBoxModel",
          "state": {
            "_view_name": "HBoxView",
            "_dom_classes": [],
            "_model_name": "HBoxModel",
            "_view_module": "@jupyter-widgets/controls",
            "_model_module_version": "1.5.0",
            "_view_count": null,
            "_view_module_version": "1.5.0",
            "box_style": "",
            "layout": "IPY_MODEL_2bfcaf1d5a21470e97c5167f09817966",
            "_model_module": "@jupyter-widgets/controls",
            "children": [
              "IPY_MODEL_e7e255dcbda8483692a3bf3babadfe1b",
              "IPY_MODEL_57bfc0a9758f4d3798f67f86b54f4afe"
            ]
          }
        },
        "2bfcaf1d5a21470e97c5167f09817966": {
          "model_module": "@jupyter-widgets/base",
          "model_name": "LayoutModel",
          "state": {
            "_view_name": "LayoutView",
            "grid_template_rows": null,
            "right": null,
            "justify_content": null,
            "_view_module": "@jupyter-widgets/base",
            "overflow": null,
            "_model_module_version": "1.2.0",
            "_view_count": null,
            "flex_flow": null,
            "width": null,
            "min_width": null,
            "border": null,
            "align_items": null,
            "bottom": null,
            "_model_module": "@jupyter-widgets/base",
            "top": null,
            "grid_column": null,
            "overflow_y": null,
            "overflow_x": null,
            "grid_auto_flow": null,
            "grid_area": null,
            "grid_template_columns": null,
            "flex": null,
            "_model_name": "LayoutModel",
            "justify_items": null,
            "grid_row": null,
            "max_height": null,
            "align_content": null,
            "visibility": null,
            "align_self": null,
            "height": null,
            "min_height": null,
            "padding": null,
            "grid_auto_rows": null,
            "grid_gap": null,
            "max_width": null,
            "order": null,
            "_view_module_version": "1.2.0",
            "grid_template_areas": null,
            "object_position": null,
            "object_fit": null,
            "grid_auto_columns": null,
            "margin": null,
            "display": null,
            "left": null
          }
        },
        "e7e255dcbda8483692a3bf3babadfe1b": {
          "model_module": "@jupyter-widgets/controls",
          "model_name": "FloatProgressModel",
          "state": {
            "_view_name": "ProgressView",
            "style": "IPY_MODEL_4bd0b9a488b44ea6b58ee81b837091b2",
            "_dom_classes": [],
            "description": "Downloading: 100%",
            "_model_name": "FloatProgressModel",
            "bar_style": "success",
            "max": 231508,
            "_view_module": "@jupyter-widgets/controls",
            "_model_module_version": "1.5.0",
            "value": 231508,
            "_view_count": null,
            "_view_module_version": "1.5.0",
            "orientation": "horizontal",
            "min": 0,
            "description_tooltip": null,
            "_model_module": "@jupyter-widgets/controls",
            "layout": "IPY_MODEL_9a4fbfa460d9436b857f826509357e02"
          }
        },
        "57bfc0a9758f4d3798f67f86b54f4afe": {
          "model_module": "@jupyter-widgets/controls",
          "model_name": "HTMLModel",
          "state": {
            "_view_name": "HTMLView",
            "style": "IPY_MODEL_c02095168a434f64b1c7083ebb454a45",
            "_dom_classes": [],
            "description": "",
            "_model_name": "HTMLModel",
            "placeholder": "​",
            "_view_module": "@jupyter-widgets/controls",
            "_model_module_version": "1.5.0",
            "value": " 232k/232k [00:00&lt;00:00, 421kB/s]",
            "_view_count": null,
            "_view_module_version": "1.5.0",
            "description_tooltip": null,
            "_model_module": "@jupyter-widgets/controls",
            "layout": "IPY_MODEL_d64d2fe2f88f4ee89a7b3f65bfc098c8"
          }
        },
        "4bd0b9a488b44ea6b58ee81b837091b2": {
          "model_module": "@jupyter-widgets/controls",
          "model_name": "ProgressStyleModel",
          "state": {
            "_view_name": "StyleView",
            "_model_name": "ProgressStyleModel",
            "description_width": "initial",
            "_view_module": "@jupyter-widgets/base",
            "_model_module_version": "1.5.0",
            "_view_count": null,
            "_view_module_version": "1.2.0",
            "bar_color": null,
            "_model_module": "@jupyter-widgets/controls"
          }
        },
        "9a4fbfa460d9436b857f826509357e02": {
          "model_module": "@jupyter-widgets/base",
          "model_name": "LayoutModel",
          "state": {
            "_view_name": "LayoutView",
            "grid_template_rows": null,
            "right": null,
            "justify_content": null,
            "_view_module": "@jupyter-widgets/base",
            "overflow": null,
            "_model_module_version": "1.2.0",
            "_view_count": null,
            "flex_flow": null,
            "width": null,
            "min_width": null,
            "border": null,
            "align_items": null,
            "bottom": null,
            "_model_module": "@jupyter-widgets/base",
            "top": null,
            "grid_column": null,
            "overflow_y": null,
            "overflow_x": null,
            "grid_auto_flow": null,
            "grid_area": null,
            "grid_template_columns": null,
            "flex": null,
            "_model_name": "LayoutModel",
            "justify_items": null,
            "grid_row": null,
            "max_height": null,
            "align_content": null,
            "visibility": null,
            "align_self": null,
            "height": null,
            "min_height": null,
            "padding": null,
            "grid_auto_rows": null,
            "grid_gap": null,
            "max_width": null,
            "order": null,
            "_view_module_version": "1.2.0",
            "grid_template_areas": null,
            "object_position": null,
            "object_fit": null,
            "grid_auto_columns": null,
            "margin": null,
            "display": null,
            "left": null
          }
        },
        "c02095168a434f64b1c7083ebb454a45": {
          "model_module": "@jupyter-widgets/controls",
          "model_name": "DescriptionStyleModel",
          "state": {
            "_view_name": "StyleView",
            "_model_name": "DescriptionStyleModel",
            "description_width": "",
            "_view_module": "@jupyter-widgets/base",
            "_model_module_version": "1.5.0",
            "_view_count": null,
            "_view_module_version": "1.2.0",
            "_model_module": "@jupyter-widgets/controls"
          }
        },
        "d64d2fe2f88f4ee89a7b3f65bfc098c8": {
          "model_module": "@jupyter-widgets/base",
          "model_name": "LayoutModel",
          "state": {
            "_view_name": "LayoutView",
            "grid_template_rows": null,
            "right": null,
            "justify_content": null,
            "_view_module": "@jupyter-widgets/base",
            "overflow": null,
            "_model_module_version": "1.2.0",
            "_view_count": null,
            "flex_flow": null,
            "width": null,
            "min_width": null,
            "border": null,
            "align_items": null,
            "bottom": null,
            "_model_module": "@jupyter-widgets/base",
            "top": null,
            "grid_column": null,
            "overflow_y": null,
            "overflow_x": null,
            "grid_auto_flow": null,
            "grid_area": null,
            "grid_template_columns": null,
            "flex": null,
            "_model_name": "LayoutModel",
            "justify_items": null,
            "grid_row": null,
            "max_height": null,
            "align_content": null,
            "visibility": null,
            "align_self": null,
            "height": null,
            "min_height": null,
            "padding": null,
            "grid_auto_rows": null,
            "grid_gap": null,
            "max_width": null,
            "order": null,
            "_view_module_version": "1.2.0",
            "grid_template_areas": null,
            "object_position": null,
            "object_fit": null,
            "grid_auto_columns": null,
            "margin": null,
            "display": null,
            "left": null
          }
        },
        "960fd9e3dec24e14a92405631180caf4": {
          "model_module": "@jupyter-widgets/controls",
          "model_name": "HBoxModel",
          "state": {
            "_view_name": "HBoxView",
            "_dom_classes": [],
            "_model_name": "HBoxModel",
            "_view_module": "@jupyter-widgets/controls",
            "_model_module_version": "1.5.0",
            "_view_count": null,
            "_view_module_version": "1.5.0",
            "box_style": "",
            "layout": "IPY_MODEL_51085a927b374b48bba632dee2129733",
            "_model_module": "@jupyter-widgets/controls",
            "children": [
              "IPY_MODEL_0ff15390526c4d8ba60463a9f33ae8b4",
              "IPY_MODEL_3e8bac43126742c2934ce54dc4d902e0"
            ]
          }
        },
        "51085a927b374b48bba632dee2129733": {
          "model_module": "@jupyter-widgets/base",
          "model_name": "LayoutModel",
          "state": {
            "_view_name": "LayoutView",
            "grid_template_rows": null,
            "right": null,
            "justify_content": null,
            "_view_module": "@jupyter-widgets/base",
            "overflow": null,
            "_model_module_version": "1.2.0",
            "_view_count": null,
            "flex_flow": null,
            "width": null,
            "min_width": null,
            "border": null,
            "align_items": null,
            "bottom": null,
            "_model_module": "@jupyter-widgets/base",
            "top": null,
            "grid_column": null,
            "overflow_y": null,
            "overflow_x": null,
            "grid_auto_flow": null,
            "grid_area": null,
            "grid_template_columns": null,
            "flex": null,
            "_model_name": "LayoutModel",
            "justify_items": null,
            "grid_row": null,
            "max_height": null,
            "align_content": null,
            "visibility": null,
            "align_self": null,
            "height": null,
            "min_height": null,
            "padding": null,
            "grid_auto_rows": null,
            "grid_gap": null,
            "max_width": null,
            "order": null,
            "_view_module_version": "1.2.0",
            "grid_template_areas": null,
            "object_position": null,
            "object_fit": null,
            "grid_auto_columns": null,
            "margin": null,
            "display": null,
            "left": null
          }
        },
        "0ff15390526c4d8ba60463a9f33ae8b4": {
          "model_module": "@jupyter-widgets/controls",
          "model_name": "FloatProgressModel",
          "state": {
            "_view_name": "ProgressView",
            "style": "IPY_MODEL_07e85428e6454256a05439eabd5dcb7a",
            "_dom_classes": [],
            "description": "Downloading: 100%",
            "_model_name": "FloatProgressModel",
            "bar_style": "success",
            "max": 28,
            "_view_module": "@jupyter-widgets/controls",
            "_model_module_version": "1.5.0",
            "value": 28,
            "_view_count": null,
            "_view_module_version": "1.5.0",
            "orientation": "horizontal",
            "min": 0,
            "description_tooltip": null,
            "_model_module": "@jupyter-widgets/controls",
            "layout": "IPY_MODEL_caeec9ad17524b10992eabc0caf774e2"
          }
        },
        "3e8bac43126742c2934ce54dc4d902e0": {
          "model_module": "@jupyter-widgets/controls",
          "model_name": "HTMLModel",
          "state": {
            "_view_name": "HTMLView",
            "style": "IPY_MODEL_b2dc7d7b422e469cb1db44b45ca0c318",
            "_dom_classes": [],
            "description": "",
            "_model_name": "HTMLModel",
            "placeholder": "​",
            "_view_module": "@jupyter-widgets/controls",
            "_model_module_version": "1.5.0",
            "value": " 28.0/28.0 [00:00&lt;00:00, 161B/s]",
            "_view_count": null,
            "_view_module_version": "1.5.0",
            "description_tooltip": null,
            "_model_module": "@jupyter-widgets/controls",
            "layout": "IPY_MODEL_2a985cce7c264b4882c54e5b693c9a38"
          }
        },
        "07e85428e6454256a05439eabd5dcb7a": {
          "model_module": "@jupyter-widgets/controls",
          "model_name": "ProgressStyleModel",
          "state": {
            "_view_name": "StyleView",
            "_model_name": "ProgressStyleModel",
            "description_width": "initial",
            "_view_module": "@jupyter-widgets/base",
            "_model_module_version": "1.5.0",
            "_view_count": null,
            "_view_module_version": "1.2.0",
            "bar_color": null,
            "_model_module": "@jupyter-widgets/controls"
          }
        },
        "caeec9ad17524b10992eabc0caf774e2": {
          "model_module": "@jupyter-widgets/base",
          "model_name": "LayoutModel",
          "state": {
            "_view_name": "LayoutView",
            "grid_template_rows": null,
            "right": null,
            "justify_content": null,
            "_view_module": "@jupyter-widgets/base",
            "overflow": null,
            "_model_module_version": "1.2.0",
            "_view_count": null,
            "flex_flow": null,
            "width": null,
            "min_width": null,
            "border": null,
            "align_items": null,
            "bottom": null,
            "_model_module": "@jupyter-widgets/base",
            "top": null,
            "grid_column": null,
            "overflow_y": null,
            "overflow_x": null,
            "grid_auto_flow": null,
            "grid_area": null,
            "grid_template_columns": null,
            "flex": null,
            "_model_name": "LayoutModel",
            "justify_items": null,
            "grid_row": null,
            "max_height": null,
            "align_content": null,
            "visibility": null,
            "align_self": null,
            "height": null,
            "min_height": null,
            "padding": null,
            "grid_auto_rows": null,
            "grid_gap": null,
            "max_width": null,
            "order": null,
            "_view_module_version": "1.2.0",
            "grid_template_areas": null,
            "object_position": null,
            "object_fit": null,
            "grid_auto_columns": null,
            "margin": null,
            "display": null,
            "left": null
          }
        },
        "b2dc7d7b422e469cb1db44b45ca0c318": {
          "model_module": "@jupyter-widgets/controls",
          "model_name": "DescriptionStyleModel",
          "state": {
            "_view_name": "StyleView",
            "_model_name": "DescriptionStyleModel",
            "description_width": "",
            "_view_module": "@jupyter-widgets/base",
            "_model_module_version": "1.5.0",
            "_view_count": null,
            "_view_module_version": "1.2.0",
            "_model_module": "@jupyter-widgets/controls"
          }
        },
        "2a985cce7c264b4882c54e5b693c9a38": {
          "model_module": "@jupyter-widgets/base",
          "model_name": "LayoutModel",
          "state": {
            "_view_name": "LayoutView",
            "grid_template_rows": null,
            "right": null,
            "justify_content": null,
            "_view_module": "@jupyter-widgets/base",
            "overflow": null,
            "_model_module_version": "1.2.0",
            "_view_count": null,
            "flex_flow": null,
            "width": null,
            "min_width": null,
            "border": null,
            "align_items": null,
            "bottom": null,
            "_model_module": "@jupyter-widgets/base",
            "top": null,
            "grid_column": null,
            "overflow_y": null,
            "overflow_x": null,
            "grid_auto_flow": null,
            "grid_area": null,
            "grid_template_columns": null,
            "flex": null,
            "_model_name": "LayoutModel",
            "justify_items": null,
            "grid_row": null,
            "max_height": null,
            "align_content": null,
            "visibility": null,
            "align_self": null,
            "height": null,
            "min_height": null,
            "padding": null,
            "grid_auto_rows": null,
            "grid_gap": null,
            "max_width": null,
            "order": null,
            "_view_module_version": "1.2.0",
            "grid_template_areas": null,
            "object_position": null,
            "object_fit": null,
            "grid_auto_columns": null,
            "margin": null,
            "display": null,
            "left": null
          }
        },
        "ee83eb7987904e7e8b0ee47e9033c2ad": {
          "model_module": "@jupyter-widgets/controls",
          "model_name": "HBoxModel",
          "state": {
            "_view_name": "HBoxView",
            "_dom_classes": [],
            "_model_name": "HBoxModel",
            "_view_module": "@jupyter-widgets/controls",
            "_model_module_version": "1.5.0",
            "_view_count": null,
            "_view_module_version": "1.5.0",
            "box_style": "",
            "layout": "IPY_MODEL_eabc9fca8ed14060b99601cfe6afd4ba",
            "_model_module": "@jupyter-widgets/controls",
            "children": [
              "IPY_MODEL_13c4b9a539ce4c368809c592b07fe0cf",
              "IPY_MODEL_99f7c413abdb4919aefd44b952227d8f"
            ]
          }
        },
        "eabc9fca8ed14060b99601cfe6afd4ba": {
          "model_module": "@jupyter-widgets/base",
          "model_name": "LayoutModel",
          "state": {
            "_view_name": "LayoutView",
            "grid_template_rows": null,
            "right": null,
            "justify_content": null,
            "_view_module": "@jupyter-widgets/base",
            "overflow": null,
            "_model_module_version": "1.2.0",
            "_view_count": null,
            "flex_flow": null,
            "width": null,
            "min_width": null,
            "border": null,
            "align_items": null,
            "bottom": null,
            "_model_module": "@jupyter-widgets/base",
            "top": null,
            "grid_column": null,
            "overflow_y": null,
            "overflow_x": null,
            "grid_auto_flow": null,
            "grid_area": null,
            "grid_template_columns": null,
            "flex": null,
            "_model_name": "LayoutModel",
            "justify_items": null,
            "grid_row": null,
            "max_height": null,
            "align_content": null,
            "visibility": null,
            "align_self": null,
            "height": null,
            "min_height": null,
            "padding": null,
            "grid_auto_rows": null,
            "grid_gap": null,
            "max_width": null,
            "order": null,
            "_view_module_version": "1.2.0",
            "grid_template_areas": null,
            "object_position": null,
            "object_fit": null,
            "grid_auto_columns": null,
            "margin": null,
            "display": null,
            "left": null
          }
        },
        "13c4b9a539ce4c368809c592b07fe0cf": {
          "model_module": "@jupyter-widgets/controls",
          "model_name": "FloatProgressModel",
          "state": {
            "_view_name": "ProgressView",
            "style": "IPY_MODEL_726f915e0aa5474aab960276b3544805",
            "_dom_classes": [],
            "description": "Downloading: 100%",
            "_model_name": "FloatProgressModel",
            "bar_style": "success",
            "max": 466062,
            "_view_module": "@jupyter-widgets/controls",
            "_model_module_version": "1.5.0",
            "value": 466062,
            "_view_count": null,
            "_view_module_version": "1.5.0",
            "orientation": "horizontal",
            "min": 0,
            "description_tooltip": null,
            "_model_module": "@jupyter-widgets/controls",
            "layout": "IPY_MODEL_fccf861e39e24593b8ccccb2a87bc275"
          }
        },
        "99f7c413abdb4919aefd44b952227d8f": {
          "model_module": "@jupyter-widgets/controls",
          "model_name": "HTMLModel",
          "state": {
            "_view_name": "HTMLView",
            "style": "IPY_MODEL_5608df9ed87040068521ce8ebd89d146",
            "_dom_classes": [],
            "description": "",
            "_model_name": "HTMLModel",
            "placeholder": "​",
            "_view_module": "@jupyter-widgets/controls",
            "_model_module_version": "1.5.0",
            "value": " 466k/466k [00:00&lt;00:00, 4.23MB/s]",
            "_view_count": null,
            "_view_module_version": "1.5.0",
            "description_tooltip": null,
            "_model_module": "@jupyter-widgets/controls",
            "layout": "IPY_MODEL_13104f8572c34a0b848306216ab17989"
          }
        },
        "726f915e0aa5474aab960276b3544805": {
          "model_module": "@jupyter-widgets/controls",
          "model_name": "ProgressStyleModel",
          "state": {
            "_view_name": "StyleView",
            "_model_name": "ProgressStyleModel",
            "description_width": "initial",
            "_view_module": "@jupyter-widgets/base",
            "_model_module_version": "1.5.0",
            "_view_count": null,
            "_view_module_version": "1.2.0",
            "bar_color": null,
            "_model_module": "@jupyter-widgets/controls"
          }
        },
        "fccf861e39e24593b8ccccb2a87bc275": {
          "model_module": "@jupyter-widgets/base",
          "model_name": "LayoutModel",
          "state": {
            "_view_name": "LayoutView",
            "grid_template_rows": null,
            "right": null,
            "justify_content": null,
            "_view_module": "@jupyter-widgets/base",
            "overflow": null,
            "_model_module_version": "1.2.0",
            "_view_count": null,
            "flex_flow": null,
            "width": null,
            "min_width": null,
            "border": null,
            "align_items": null,
            "bottom": null,
            "_model_module": "@jupyter-widgets/base",
            "top": null,
            "grid_column": null,
            "overflow_y": null,
            "overflow_x": null,
            "grid_auto_flow": null,
            "grid_area": null,
            "grid_template_columns": null,
            "flex": null,
            "_model_name": "LayoutModel",
            "justify_items": null,
            "grid_row": null,
            "max_height": null,
            "align_content": null,
            "visibility": null,
            "align_self": null,
            "height": null,
            "min_height": null,
            "padding": null,
            "grid_auto_rows": null,
            "grid_gap": null,
            "max_width": null,
            "order": null,
            "_view_module_version": "1.2.0",
            "grid_template_areas": null,
            "object_position": null,
            "object_fit": null,
            "grid_auto_columns": null,
            "margin": null,
            "display": null,
            "left": null
          }
        },
        "5608df9ed87040068521ce8ebd89d146": {
          "model_module": "@jupyter-widgets/controls",
          "model_name": "DescriptionStyleModel",
          "state": {
            "_view_name": "StyleView",
            "_model_name": "DescriptionStyleModel",
            "description_width": "",
            "_view_module": "@jupyter-widgets/base",
            "_model_module_version": "1.5.0",
            "_view_count": null,
            "_view_module_version": "1.2.0",
            "_model_module": "@jupyter-widgets/controls"
          }
        },
        "13104f8572c34a0b848306216ab17989": {
          "model_module": "@jupyter-widgets/base",
          "model_name": "LayoutModel",
          "state": {
            "_view_name": "LayoutView",
            "grid_template_rows": null,
            "right": null,
            "justify_content": null,
            "_view_module": "@jupyter-widgets/base",
            "overflow": null,
            "_model_module_version": "1.2.0",
            "_view_count": null,
            "flex_flow": null,
            "width": null,
            "min_width": null,
            "border": null,
            "align_items": null,
            "bottom": null,
            "_model_module": "@jupyter-widgets/base",
            "top": null,
            "grid_column": null,
            "overflow_y": null,
            "overflow_x": null,
            "grid_auto_flow": null,
            "grid_area": null,
            "grid_template_columns": null,
            "flex": null,
            "_model_name": "LayoutModel",
            "justify_items": null,
            "grid_row": null,
            "max_height": null,
            "align_content": null,
            "visibility": null,
            "align_self": null,
            "height": null,
            "min_height": null,
            "padding": null,
            "grid_auto_rows": null,
            "grid_gap": null,
            "max_width": null,
            "order": null,
            "_view_module_version": "1.2.0",
            "grid_template_areas": null,
            "object_position": null,
            "object_fit": null,
            "grid_auto_columns": null,
            "margin": null,
            "display": null,
            "left": null
          }
        },
        "902bad7599ca4515962557c06b6d62da": {
          "model_module": "@jupyter-widgets/controls",
          "model_name": "HBoxModel",
          "state": {
            "_view_name": "HBoxView",
            "_dom_classes": [],
            "_model_name": "HBoxModel",
            "_view_module": "@jupyter-widgets/controls",
            "_model_module_version": "1.5.0",
            "_view_count": null,
            "_view_module_version": "1.5.0",
            "box_style": "",
            "layout": "IPY_MODEL_c9f5ac4c5ff547bcb01f26b328f2a471",
            "_model_module": "@jupyter-widgets/controls",
            "children": [
              "IPY_MODEL_90a34110a38241369913ae676f0c61ca",
              "IPY_MODEL_e9dee29d5d474a51ab2c7521d246f46c"
            ]
          }
        },
        "c9f5ac4c5ff547bcb01f26b328f2a471": {
          "model_module": "@jupyter-widgets/base",
          "model_name": "LayoutModel",
          "state": {
            "_view_name": "LayoutView",
            "grid_template_rows": null,
            "right": null,
            "justify_content": null,
            "_view_module": "@jupyter-widgets/base",
            "overflow": null,
            "_model_module_version": "1.2.0",
            "_view_count": null,
            "flex_flow": null,
            "width": null,
            "min_width": null,
            "border": null,
            "align_items": null,
            "bottom": null,
            "_model_module": "@jupyter-widgets/base",
            "top": null,
            "grid_column": null,
            "overflow_y": null,
            "overflow_x": null,
            "grid_auto_flow": null,
            "grid_area": null,
            "grid_template_columns": null,
            "flex": null,
            "_model_name": "LayoutModel",
            "justify_items": null,
            "grid_row": null,
            "max_height": null,
            "align_content": null,
            "visibility": null,
            "align_self": null,
            "height": null,
            "min_height": null,
            "padding": null,
            "grid_auto_rows": null,
            "grid_gap": null,
            "max_width": null,
            "order": null,
            "_view_module_version": "1.2.0",
            "grid_template_areas": null,
            "object_position": null,
            "object_fit": null,
            "grid_auto_columns": null,
            "margin": null,
            "display": null,
            "left": null
          }
        },
        "90a34110a38241369913ae676f0c61ca": {
          "model_module": "@jupyter-widgets/controls",
          "model_name": "FloatProgressModel",
          "state": {
            "_view_name": "ProgressView",
            "style": "IPY_MODEL_b0326d7abcf64bbe98af18c35f4f742a",
            "_dom_classes": [],
            "description": "Downloading: 100%",
            "_model_name": "FloatProgressModel",
            "bar_style": "success",
            "max": 442,
            "_view_module": "@jupyter-widgets/controls",
            "_model_module_version": "1.5.0",
            "value": 442,
            "_view_count": null,
            "_view_module_version": "1.5.0",
            "orientation": "horizontal",
            "min": 0,
            "description_tooltip": null,
            "_model_module": "@jupyter-widgets/controls",
            "layout": "IPY_MODEL_3f7c102c613745958fe031318a8c9b76"
          }
        },
        "e9dee29d5d474a51ab2c7521d246f46c": {
          "model_module": "@jupyter-widgets/controls",
          "model_name": "HTMLModel",
          "state": {
            "_view_name": "HTMLView",
            "style": "IPY_MODEL_f360033eefaa4123a7eb7dd7c73d0718",
            "_dom_classes": [],
            "description": "",
            "_model_name": "HTMLModel",
            "placeholder": "​",
            "_view_module": "@jupyter-widgets/controls",
            "_model_module_version": "1.5.0",
            "value": " 442/442 [00:00&lt;00:00, 900B/s]",
            "_view_count": null,
            "_view_module_version": "1.5.0",
            "description_tooltip": null,
            "_model_module": "@jupyter-widgets/controls",
            "layout": "IPY_MODEL_91a75ad1f03b46928e3f6b8964d22e2d"
          }
        },
        "b0326d7abcf64bbe98af18c35f4f742a": {
          "model_module": "@jupyter-widgets/controls",
          "model_name": "ProgressStyleModel",
          "state": {
            "_view_name": "StyleView",
            "_model_name": "ProgressStyleModel",
            "description_width": "initial",
            "_view_module": "@jupyter-widgets/base",
            "_model_module_version": "1.5.0",
            "_view_count": null,
            "_view_module_version": "1.2.0",
            "bar_color": null,
            "_model_module": "@jupyter-widgets/controls"
          }
        },
        "3f7c102c613745958fe031318a8c9b76": {
          "model_module": "@jupyter-widgets/base",
          "model_name": "LayoutModel",
          "state": {
            "_view_name": "LayoutView",
            "grid_template_rows": null,
            "right": null,
            "justify_content": null,
            "_view_module": "@jupyter-widgets/base",
            "overflow": null,
            "_model_module_version": "1.2.0",
            "_view_count": null,
            "flex_flow": null,
            "width": null,
            "min_width": null,
            "border": null,
            "align_items": null,
            "bottom": null,
            "_model_module": "@jupyter-widgets/base",
            "top": null,
            "grid_column": null,
            "overflow_y": null,
            "overflow_x": null,
            "grid_auto_flow": null,
            "grid_area": null,
            "grid_template_columns": null,
            "flex": null,
            "_model_name": "LayoutModel",
            "justify_items": null,
            "grid_row": null,
            "max_height": null,
            "align_content": null,
            "visibility": null,
            "align_self": null,
            "height": null,
            "min_height": null,
            "padding": null,
            "grid_auto_rows": null,
            "grid_gap": null,
            "max_width": null,
            "order": null,
            "_view_module_version": "1.2.0",
            "grid_template_areas": null,
            "object_position": null,
            "object_fit": null,
            "grid_auto_columns": null,
            "margin": null,
            "display": null,
            "left": null
          }
        },
        "f360033eefaa4123a7eb7dd7c73d0718": {
          "model_module": "@jupyter-widgets/controls",
          "model_name": "DescriptionStyleModel",
          "state": {
            "_view_name": "StyleView",
            "_model_name": "DescriptionStyleModel",
            "description_width": "",
            "_view_module": "@jupyter-widgets/base",
            "_model_module_version": "1.5.0",
            "_view_count": null,
            "_view_module_version": "1.2.0",
            "_model_module": "@jupyter-widgets/controls"
          }
        },
        "91a75ad1f03b46928e3f6b8964d22e2d": {
          "model_module": "@jupyter-widgets/base",
          "model_name": "LayoutModel",
          "state": {
            "_view_name": "LayoutView",
            "grid_template_rows": null,
            "right": null,
            "justify_content": null,
            "_view_module": "@jupyter-widgets/base",
            "overflow": null,
            "_model_module_version": "1.2.0",
            "_view_count": null,
            "flex_flow": null,
            "width": null,
            "min_width": null,
            "border": null,
            "align_items": null,
            "bottom": null,
            "_model_module": "@jupyter-widgets/base",
            "top": null,
            "grid_column": null,
            "overflow_y": null,
            "overflow_x": null,
            "grid_auto_flow": null,
            "grid_area": null,
            "grid_template_columns": null,
            "flex": null,
            "_model_name": "LayoutModel",
            "justify_items": null,
            "grid_row": null,
            "max_height": null,
            "align_content": null,
            "visibility": null,
            "align_self": null,
            "height": null,
            "min_height": null,
            "padding": null,
            "grid_auto_rows": null,
            "grid_gap": null,
            "max_width": null,
            "order": null,
            "_view_module_version": "1.2.0",
            "grid_template_areas": null,
            "object_position": null,
            "object_fit": null,
            "grid_auto_columns": null,
            "margin": null,
            "display": null,
            "left": null
          }
        },
        "16016ffaab134edaa4d1406f9ab07f21": {
          "model_module": "@jupyter-widgets/controls",
          "model_name": "HBoxModel",
          "state": {
            "_view_name": "HBoxView",
            "_dom_classes": [],
            "_model_name": "HBoxModel",
            "_view_module": "@jupyter-widgets/controls",
            "_model_module_version": "1.5.0",
            "_view_count": null,
            "_view_module_version": "1.5.0",
            "box_style": "",
            "layout": "IPY_MODEL_5de23c52b7ae40139c611b20d4d6a2ab",
            "_model_module": "@jupyter-widgets/controls",
            "children": [
              "IPY_MODEL_7555d040f8704ebf8f1360c975b9906d",
              "IPY_MODEL_78a9a1fd34684c3eab8f579a20d08297"
            ]
          }
        },
        "5de23c52b7ae40139c611b20d4d6a2ab": {
          "model_module": "@jupyter-widgets/base",
          "model_name": "LayoutModel",
          "state": {
            "_view_name": "LayoutView",
            "grid_template_rows": null,
            "right": null,
            "justify_content": null,
            "_view_module": "@jupyter-widgets/base",
            "overflow": null,
            "_model_module_version": "1.2.0",
            "_view_count": null,
            "flex_flow": null,
            "width": null,
            "min_width": null,
            "border": null,
            "align_items": null,
            "bottom": null,
            "_model_module": "@jupyter-widgets/base",
            "top": null,
            "grid_column": null,
            "overflow_y": null,
            "overflow_x": null,
            "grid_auto_flow": null,
            "grid_area": null,
            "grid_template_columns": null,
            "flex": null,
            "_model_name": "LayoutModel",
            "justify_items": null,
            "grid_row": null,
            "max_height": null,
            "align_content": null,
            "visibility": null,
            "align_self": null,
            "height": null,
            "min_height": null,
            "padding": null,
            "grid_auto_rows": null,
            "grid_gap": null,
            "max_width": null,
            "order": null,
            "_view_module_version": "1.2.0",
            "grid_template_areas": null,
            "object_position": null,
            "object_fit": null,
            "grid_auto_columns": null,
            "margin": null,
            "display": null,
            "left": null
          }
        },
        "7555d040f8704ebf8f1360c975b9906d": {
          "model_module": "@jupyter-widgets/controls",
          "model_name": "FloatProgressModel",
          "state": {
            "_view_name": "ProgressView",
            "style": "IPY_MODEL_7c6a9b8e60884f77822eafd638a7f9ed",
            "_dom_classes": [],
            "description": "Downloading: 100%",
            "_model_name": "FloatProgressModel",
            "bar_style": "success",
            "max": 267967963,
            "_view_module": "@jupyter-widgets/controls",
            "_model_module_version": "1.5.0",
            "value": 267967963,
            "_view_count": null,
            "_view_module_version": "1.5.0",
            "orientation": "horizontal",
            "min": 0,
            "description_tooltip": null,
            "_model_module": "@jupyter-widgets/controls",
            "layout": "IPY_MODEL_a2f01de030704a5288d869b0f2dbfbac"
          }
        },
        "78a9a1fd34684c3eab8f579a20d08297": {
          "model_module": "@jupyter-widgets/controls",
          "model_name": "HTMLModel",
          "state": {
            "_view_name": "HTMLView",
            "style": "IPY_MODEL_f60f6eda36d74e86a99b55b2061a41b8",
            "_dom_classes": [],
            "description": "",
            "_model_name": "HTMLModel",
            "placeholder": "​",
            "_view_module": "@jupyter-widgets/controls",
            "_model_module_version": "1.5.0",
            "value": " 268M/268M [07:22&lt;00:00, 606kB/s]",
            "_view_count": null,
            "_view_module_version": "1.5.0",
            "description_tooltip": null,
            "_model_module": "@jupyter-widgets/controls",
            "layout": "IPY_MODEL_cd0fdd2008eb4e53b29abbd7a346af14"
          }
        },
        "7c6a9b8e60884f77822eafd638a7f9ed": {
          "model_module": "@jupyter-widgets/controls",
          "model_name": "ProgressStyleModel",
          "state": {
            "_view_name": "StyleView",
            "_model_name": "ProgressStyleModel",
            "description_width": "initial",
            "_view_module": "@jupyter-widgets/base",
            "_model_module_version": "1.5.0",
            "_view_count": null,
            "_view_module_version": "1.2.0",
            "bar_color": null,
            "_model_module": "@jupyter-widgets/controls"
          }
        },
        "a2f01de030704a5288d869b0f2dbfbac": {
          "model_module": "@jupyter-widgets/base",
          "model_name": "LayoutModel",
          "state": {
            "_view_name": "LayoutView",
            "grid_template_rows": null,
            "right": null,
            "justify_content": null,
            "_view_module": "@jupyter-widgets/base",
            "overflow": null,
            "_model_module_version": "1.2.0",
            "_view_count": null,
            "flex_flow": null,
            "width": null,
            "min_width": null,
            "border": null,
            "align_items": null,
            "bottom": null,
            "_model_module": "@jupyter-widgets/base",
            "top": null,
            "grid_column": null,
            "overflow_y": null,
            "overflow_x": null,
            "grid_auto_flow": null,
            "grid_area": null,
            "grid_template_columns": null,
            "flex": null,
            "_model_name": "LayoutModel",
            "justify_items": null,
            "grid_row": null,
            "max_height": null,
            "align_content": null,
            "visibility": null,
            "align_self": null,
            "height": null,
            "min_height": null,
            "padding": null,
            "grid_auto_rows": null,
            "grid_gap": null,
            "max_width": null,
            "order": null,
            "_view_module_version": "1.2.0",
            "grid_template_areas": null,
            "object_position": null,
            "object_fit": null,
            "grid_auto_columns": null,
            "margin": null,
            "display": null,
            "left": null
          }
        },
        "f60f6eda36d74e86a99b55b2061a41b8": {
          "model_module": "@jupyter-widgets/controls",
          "model_name": "DescriptionStyleModel",
          "state": {
            "_view_name": "StyleView",
            "_model_name": "DescriptionStyleModel",
            "description_width": "",
            "_view_module": "@jupyter-widgets/base",
            "_model_module_version": "1.5.0",
            "_view_count": null,
            "_view_module_version": "1.2.0",
            "_model_module": "@jupyter-widgets/controls"
          }
        },
        "cd0fdd2008eb4e53b29abbd7a346af14": {
          "model_module": "@jupyter-widgets/base",
          "model_name": "LayoutModel",
          "state": {
            "_view_name": "LayoutView",
            "grid_template_rows": null,
            "right": null,
            "justify_content": null,
            "_view_module": "@jupyter-widgets/base",
            "overflow": null,
            "_model_module_version": "1.2.0",
            "_view_count": null,
            "flex_flow": null,
            "width": null,
            "min_width": null,
            "border": null,
            "align_items": null,
            "bottom": null,
            "_model_module": "@jupyter-widgets/base",
            "top": null,
            "grid_column": null,
            "overflow_y": null,
            "overflow_x": null,
            "grid_auto_flow": null,
            "grid_area": null,
            "grid_template_columns": null,
            "flex": null,
            "_model_name": "LayoutModel",
            "justify_items": null,
            "grid_row": null,
            "max_height": null,
            "align_content": null,
            "visibility": null,
            "align_self": null,
            "height": null,
            "min_height": null,
            "padding": null,
            "grid_auto_rows": null,
            "grid_gap": null,
            "max_width": null,
            "order": null,
            "_view_module_version": "1.2.0",
            "grid_template_areas": null,
            "object_position": null,
            "object_fit": null,
            "grid_auto_columns": null,
            "margin": null,
            "display": null,
            "left": null
          }
        }
      }
    },
    "accelerator": "GPU"
  },
  "cells": [
    {
      "cell_type": "markdown",
      "metadata": {
        "id": "view-in-github",
        "colab_type": "text"
      },
      "source": [
        "<a href=\"https://colab.research.google.com/github/s-c-soma/deep_context_graph/blob/main/code/StatementChecker_ComputeSentenceSimilarity.ipynb\" target=\"_parent\"><img src=\"https://colab.research.google.com/assets/colab-badge.svg\" alt=\"Open In Colab\"/></a>"
      ]
    },
    {
      "cell_type": "markdown",
      "metadata": {
        "id": "qbLARzOqft-2"
      },
      "source": [
        "# **Env Setup**\n"
      ]
    },
    {
      "cell_type": "code",
      "metadata": {
        "id": "diQAzNIjGxqN",
        "colab": {
          "base_uri": "https://localhost:8080/"
        },
        "outputId": "87ea9e46-c6e7-461e-b0f8-08273890375d"
      },
      "source": [
        "\n",
        "\n",
        "# Mount google drive\n",
        "from google.colab import drive\n",
        "drive.mount('/content/drive',force_remount=False)\n",
        "\n",
        "\n",
        "# create folder to write data to\n",
        "#CIS545_FOLDER=os.path.join(DRIVE_MOUNT, 'My Drive', 'CIS545_2020')\n",
        "#HOMEWORK_FOLDER=os.path.join(CIS545_FOLDER, 'Project')\n",
        "#os.makedirs(HOMEWORK_FOLDER, exist_ok=True)"
      ],
      "execution_count": 34,
      "outputs": [
        {
          "output_type": "stream",
          "text": [
            "Mounted at /content/drive\n"
          ],
          "name": "stdout"
        }
      ]
    },
    {
      "cell_type": "code",
      "metadata": {
        "id": "_BFPSZ4QWG5W",
        "colab": {
          "base_uri": "https://localhost:8080/"
        },
        "outputId": "d7836146-96a6-41f6-d397-52c017561ed4"
      },
      "source": [
        "!ls '/content/drive/Shared drives/1DeepContextGraph/1DeepContextGraph'"
      ],
      "execution_count": null,
      "outputs": [
        {
          "output_type": "stream",
          "text": [
            "code  documents\n"
          ],
          "name": "stdout"
        }
      ]
    },
    {
      "cell_type": "code",
      "metadata": {
        "id": "pYTBhUSrWxL-"
      },
      "source": [
        "file_path = '/content/drive/Shared drives/1DeepContextGraph/1DeepContextGraph/code/data/'"
      ],
      "execution_count": 35,
      "outputs": []
    },
    {
      "cell_type": "markdown",
      "metadata": {
        "id": "Rahs7nD9y1Yd"
      },
      "source": [
        "# Library"
      ]
    },
    {
      "cell_type": "code",
      "metadata": {
        "id": "wIpGURz6ZkHi",
        "colab": {
          "base_uri": "https://localhost:8080/"
        },
        "outputId": "68d967b2-5e3e-4f26-c338-0451e2a07144"
      },
      "source": [
        "import json\n",
        "import os\n",
        "# For caculating approximate time to process notebook (IGNORE)\n",
        "import datetime\n",
        "datetime.datetime.now()\n",
        "import argparse\n",
        "import pandas as pd\n",
        "import numpy as np\n",
        "from sklearn.metrics.pairwise import cosine_similarity\n",
        "from sklearn.metrics.pairwise import euclidean_distances\n",
        "import operator\n",
        "import pickle as pkl \n",
        "import matplotlib.pyplot as plt\n",
        "import nltk as nl\n",
        "from nltk.sentiment.vader import SentimentIntensityAnalyzer\n",
        "from sklearn.model_selection import ParameterGrid\n",
        "import statistics\n",
        "import random\n",
        "import warnings\n",
        "from string import punctuation\n",
        "from matplotlib import pyplot\n",
        "from pandas import Series, datetime\n",
        "from pandas.plotting import scatter_matrix, autocorrelation_plot\n",
        "from sklearn.preprocessing import StandardScaler\n",
        "from sklearn.model_selection import train_test_split, KFold, cross_val_score, GridSearchCV, TimeSeriesSplit\n",
        "from sklearn.metrics import classification_report, confusion_matrix, accuracy_score, mean_squared_error\n",
        "from sklearn.pipeline import Pipeline\n",
        "from sklearn.linear_model import LogisticRegression\n",
        "from sklearn.tree import DecisionTreeClassifier\n",
        "from sklearn.neighbors import KNeighborsClassifier\n",
        "from sklearn.discriminant_analysis import LinearDiscriminantAnalysis\n",
        "from sklearn.naive_bayes import GaussianNB\n",
        "from sklearn.svm import SVC\n",
        "from sklearn.ensemble import AdaBoostClassifier, GradientBoostingClassifier, RandomForestClassifier, ExtraTreesClassifier\n",
        "from sklearn.metrics import roc_curve, auc\n",
        "from sklearn.feature_extraction.text import CountVectorizer\n",
        "from xgboost import XGBClassifier\n",
        "from sklearn.naive_bayes import MultinomialNB\n",
        "import nltk\n",
        "import re\n",
        "import io\n",
        "import requests\n",
        "import time\n",
        "import gensim\n",
        "from nltk.stem.wordnet import WordNetLemmatizer\n",
        "from nltk.corpus import stopwords\n",
        "from string import punctuation\n",
        "import nltk.sentiment\n",
        "from nltk.stem import PorterStemmer\n",
        "from nltk.tokenize import word_tokenize, sent_tokenize\n",
        "\n",
        "nltk.download('punkt')\n",
        "nltk.download('stopwords')\n",
        "nltk.download('averaged_perceptron_tagger')\n",
        "nltk.download('punkt')\n",
        "nltk.download('wordnet')\n",
        "nltk.download('vader_lexicon')"
      ],
      "execution_count": 43,
      "outputs": [
        {
          "output_type": "stream",
          "text": [
            "[nltk_data] Downloading package punkt to /root/nltk_data...\n",
            "[nltk_data]   Package punkt is already up-to-date!\n",
            "[nltk_data] Downloading package stopwords to /root/nltk_data...\n",
            "[nltk_data]   Package stopwords is already up-to-date!\n",
            "[nltk_data] Downloading package averaged_perceptron_tagger to\n",
            "[nltk_data]     /root/nltk_data...\n",
            "[nltk_data]   Package averaged_perceptron_tagger is already up-to-\n",
            "[nltk_data]       date!\n",
            "[nltk_data] Downloading package punkt to /root/nltk_data...\n",
            "[nltk_data]   Package punkt is already up-to-date!\n",
            "[nltk_data] Downloading package wordnet to /root/nltk_data...\n",
            "[nltk_data]   Package wordnet is already up-to-date!\n",
            "[nltk_data] Downloading package vader_lexicon to /root/nltk_data...\n",
            "[nltk_data]   Package vader_lexicon is already up-to-date!\n"
          ],
          "name": "stdout"
        },
        {
          "output_type": "stream",
          "text": [
            "/usr/local/lib/python3.7/dist-packages/ipykernel_launcher.py:22: FutureWarning: The pandas.datetime class is deprecated and will be removed from pandas in a future version. Import from datetime module instead.\n"
          ],
          "name": "stderr"
        },
        {
          "output_type": "execute_result",
          "data": {
            "text/plain": [
              "True"
            ]
          },
          "metadata": {
            "tags": []
          },
          "execution_count": 43
        }
      ]
    },
    {
      "cell_type": "markdown",
      "metadata": {
        "id": "qla-L-vEyPe4"
      },
      "source": [
        "# Load Data"
      ]
    },
    {
      "cell_type": "code",
      "metadata": {
        "id": "zklda03cyYgP"
      },
      "source": [
        "data_fox_claim = pd.read_csv(file_path+'/fox_claim_news_processed.csv',low_memory=False)\n",
        "#data_all_news = pd.read_csv(file_path+'/statement_checker_all.csv',low_memory=False)\n",
        "data_polifact = pd.read_csv(file_path+'/political_fact_checker_processed.csv',low_memory=False)\n"
      ],
      "execution_count": 37,
      "outputs": []
    },
    {
      "cell_type": "code",
      "metadata": {
        "colab": {
          "base_uri": "https://localhost:8080/"
        },
        "id": "_cgt3SqP0hY9",
        "outputId": "48172bc5-ab83-48c4-df01-7d85cb3d4d92"
      },
      "source": [
        "data_fox_claim.columns"
      ],
      "execution_count": null,
      "outputs": [
        {
          "output_type": "execute_result",
          "data": {
            "text/plain": [
              "Index(['documentId', 'Unnamed: 0.1', 'link', 'published', 'title', 'text',\n",
              "       'site', 'text_distilled', 'topics', 'named_entity_recognition',\n",
              "       'top_10_freq_word', 'pasts_of_speech', 'most_similar', 'similar_claims',\n",
              "       'similar_ratings', 'similar_topics', 'similar_text',\n",
              "       'similar_text_distilled'],\n",
              "      dtype='object')"
            ]
          },
          "metadata": {
            "tags": []
          },
          "execution_count": 57
        }
      ]
    },
    {
      "cell_type": "code",
      "metadata": {
        "colab": {
          "base_uri": "https://localhost:8080/"
        },
        "id": "75927YU6lUO2",
        "outputId": "df47f8fd-39a6-4bb5-d3c1-60a06af47f03"
      },
      "source": [
        "data_polifact.columns"
      ],
      "execution_count": null,
      "outputs": [
        {
          "output_type": "execute_result",
          "data": {
            "text/plain": [
              "Index(['Unnamed: 0', 'Unnamed: 0.1', 'sources', 'urls', 'title', 'summaries',\n",
              "       'dates', 'ratings', 'text', 'authors', 'publishdate', 'relatedlinks',\n",
              "       'claims', 'text_distilled', 'topics', 'named_entity_recognition',\n",
              "       'top_10_freq_word', 'pasts_of_speech'],\n",
              "      dtype='object')"
            ]
          },
          "metadata": {
            "tags": []
          },
          "execution_count": 5
        }
      ]
    },
    {
      "cell_type": "code",
      "metadata": {
        "colab": {
          "base_uri": "https://localhost:8080/"
        },
        "id": "cJp0grVSkij1",
        "outputId": "e0c10aa4-f4d7-4b50-d48c-d50b29b4a2a7"
      },
      "source": [
        "data_fox_claim['Unnamed: 0'][1]"
      ],
      "execution_count": 38,
      "outputs": [
        {
          "output_type": "execute_result",
          "data": {
            "text/plain": [
              "1"
            ]
          },
          "metadata": {
            "tags": []
          },
          "execution_count": 38
        }
      ]
    },
    {
      "cell_type": "code",
      "metadata": {
        "id": "b97W8RmnlF-E"
      },
      "source": [
        "data_fox_claim = data_fox_claim.rename({'Unnamed: 0': 'documentId'}, axis='columns')\n",
        "data_polifact = data_polifact.rename({'Unnamed: 0': 'documentId'}, axis='columns')"
      ],
      "execution_count": 39,
      "outputs": []
    },
    {
      "cell_type": "markdown",
      "metadata": {
        "id": "f5BuIUfZ1X5g"
      },
      "source": [
        "# Methods"
      ]
    },
    {
      "cell_type": "markdown",
      "metadata": {
        "id": "K9zg6DzVyV1Q"
      },
      "source": [
        "## Lemmatization\n",
        "  \n",
        "First, the raw words must be converted to root forms.  "
      ]
    },
    {
      "cell_type": "code",
      "metadata": {
        "id": "Qs9YyZ8WygUo"
      },
      "source": [
        "def lemmatize(tokenized_words):\n",
        "  text = [nltk.WordNetLemmatizer().lemmatize(word) for word in tokenized_words]\n",
        "  return text\n"
      ],
      "execution_count": null,
      "outputs": []
    },
    {
      "cell_type": "markdown",
      "metadata": {
        "id": "CRnq7Orw5sSW"
      },
      "source": [
        "## Removing Stop words\n",
        "\n"
      ]
    },
    {
      "cell_type": "code",
      "metadata": {
        "id": "7axUBcsp5yXD"
      },
      "source": [
        "english_stopwords = set(stopwords.words('english') + list(punctuation) + [''])\n",
        "\n",
        "def remove_stopwords(tokenized_words):\n",
        "  text = [word for word in tokenized_words if word not in english_stopwords]\n",
        "  return text\n"
      ],
      "execution_count": null,
      "outputs": []
    },
    {
      "cell_type": "markdown",
      "metadata": {
        "id": "ejCglovYHwyb"
      },
      "source": [
        "## Custom Filtering\n",
        "\n",
        "Some of the one or two-letter words from the tokenized words are also removed to further cleanse the raw text. "
      ]
    },
    {
      "cell_type": "code",
      "metadata": {
        "id": "Z9ujoC42HwGM"
      },
      "source": [
        "whitelist = set(['ai', 'ax', 'ca', 'eu', 'go', 'io', 'la', 'ox', 'us', 'uk', \n",
        "                 'al', 'ak', 'az', 'ar', 'ca', 'co', 'ct', 'de', 'fl', 'ga', 'hi', \n",
        "                 'id', 'il', 'in', 'ia', 'ks', 'ky', 'la', 'me', 'md', 'ma', 'mi',\n",
        "                 'mn', 'ms', 'mo', 'mt', 'ne', 'nv', 'nh', 'nj', 'nm', 'ny',\n",
        "                 'nc', 'nd', 'oh', 'ok', 'or', 'pa', 'ri', 'sc', 'sd', 'tn',\n",
        "                 'tx', 'ut', 'vt', 'va', 'wa', 'wv', 'wi', 'wy' ])\n",
        "def remove_too_short(tokenized_words):\n",
        "  text = [word for word in tokenized_words if (len(word) >= 3 or word not in whitelist) ]\n",
        "  return text"
      ],
      "execution_count": null,
      "outputs": []
    },
    {
      "cell_type": "markdown",
      "metadata": {
        "id": "DGmEhyrkC0e5"
      },
      "source": [
        "## LDA Analysis\n"
      ]
    },
    {
      "cell_type": "code",
      "metadata": {
        "id": "M7Fdvch1EjQ4"
      },
      "source": [
        "from gensim.models.ldamodel import LdaModel\n",
        "from gensim.corpora import Dictionary\n",
        "\n",
        "def topics(tokenized_words):\n",
        "    d = Dictionary([tokenized_words])\n",
        "    c = [d.doc2bow(tokenized_words)]\n",
        "    m = LdaModel(c, num_topics=1, id2word=d)\n",
        "    return list(m.print_topics(num_words=2))\n",
        "  \n"
      ],
      "execution_count": null,
      "outputs": []
    },
    {
      "cell_type": "markdown",
      "metadata": {
        "id": "ze4YTpBLultl"
      },
      "source": [
        "## Topics as Simple List of Words\n",
        "\n",
        "A list of topic terms is compiled as show below. The coefficients in front of each word are dropped as part of simplification. The assumption is that the top two words comprising the topic, are both significant enough to be treated equally. It is important that the goal is to build a reliable prediction model. While there is a risk of oversimplification, if the final model results in a poor accuracy score, the coefficient can always be reintroduced here."
      ]
    },
    {
      "cell_type": "code",
      "metadata": {
        "id": "a1fxmdcyuqoB"
      },
      "source": [
        "def parseTopics(topics):\n",
        "   output = []\n",
        "   words = topics[0][1].split( '+' )\n",
        "   for word in words:\n",
        "       output.append( word.split('*')[1].replace( '\"', '' ) )\n",
        "   return output"
      ],
      "execution_count": null,
      "outputs": []
    },
    {
      "cell_type": "markdown",
      "metadata": {
        "id": "Hca_eGd3A9Az"
      },
      "source": [
        "# 1.Training a Doc2Vec and Word2Vec Model with Gensim\n",
        "\n",
        "* http://yaronvazana.com/2018/01/20/training-doc2vec-model-with-gensim/\n",
        "* https://medium.com/@mishra.thedeepak/doc2vec-simple-implementation-example-df2afbbfbad5"
      ]
    },
    {
      "cell_type": "markdown",
      "metadata": {
        "id": "zBdOMy04sfc5"
      },
      "source": [
        "## Methods"
      ]
    },
    {
      "cell_type": "code",
      "metadata": {
        "id": "tizb8rnVkcJ0"
      },
      "source": [
        "from gensim.parsing.porter import PorterStemmer\n",
        "from gensim.parsing.preprocessing import remove_stopwords\n",
        "from gensim.utils import simple_preprocess\n",
        "from gensim.models import Word2Vec\n",
        "\n",
        "class MyCorpus():\n",
        "    def __init__(self, train_data):\n",
        "        self.train_data = train_data\n",
        "        \n",
        "    def __iter__(self):\n",
        "        p = PorterStemmer()\n",
        "        for i in range(len(self.train_data)):\n",
        "            doc = self.train_data['text'][i]\n",
        "            doc = re.sub(r'\\S*@\\S*\\s?', '', doc, flags=re.MULTILINE) # remove email\n",
        "            doc = re.sub(r'http\\S+', '', doc, flags=re.MULTILINE) # remove web addresses\n",
        "            doc = re.sub(\"\\'\", \"\", doc) # remove single quotes\n",
        "            doc = remove_stopwords(doc)\n",
        "            doc = p.stem_sentence(doc)\n",
        "            words = simple_preprocess(doc, deacc=True)\n",
        "            yield TaggedDocument(words=words, tags=[self.train_data['documentId'][i]])"
      ],
      "execution_count": null,
      "outputs": []
    },
    {
      "cell_type": "code",
      "metadata": {
        "id": "VDjeosWOlp4t"
      },
      "source": [
        "class Doc2VecTrainer(object):\n",
        "    def __init__(self, train_corpus):\n",
        "        self.train_corpus = train_corpus\n",
        "\n",
        "    def run(self):\n",
        "        print('app started')\n",
        "        model_dimensions = 100\n",
        "        #cores = multiprocessing.cpu_count()\n",
        "        #print('num of cores is %s' % cores)\n",
        "        #gc.collect()\n",
        "        # if load_existing:\n",
        "        #     print('loading an exiting model')\n",
        "        #     model = Doc2Vec.load(PATH_TO_EXISTING_MODEL)\n",
        "        # else:\n",
        "        print('reading training corpus from %s' % self.train_corpus)\n",
        "        corpus_data = MyCorpus(self.train_corpus)\n",
        "            \n",
        "        model = Doc2Vec(size=model_dimensions, window=10, min_count=3, sample=1e-4, negative=5,  dm=1) #workers=cores,\n",
        "        print('building vocabulary...')\n",
        "        model.build_vocab(corpus_data)\n",
        "\n",
        "        model.train(corpus_data, total_examples=model.corpus_count, epochs=100)\n",
        "            \n",
        "        model.save(file_path+\"polifact_doc2vec_model.model\")\n",
        "        model.save_word2vec_format(file_path+\"polifact_word2vec_model.model\")\n",
        "\n",
        "        #word2vect\n",
        "        #model_word2vec = Word2Vec(corpus_data,size=150, window=10,min_count=2,workers=10,iter=10)\n",
        "        #model.save_word2vec_format(file_path+\"polifact_word2vec_model.model\")\n",
        "        #model_word2vec.save(file_path+\"polifact_word2vec_model.model\")\n",
        "\n",
        "        print('total docs learned %s' % (len(model.docvecs)))"
      ],
      "execution_count": null,
      "outputs": []
    },
    {
      "cell_type": "markdown",
      "metadata": {
        "id": "9zuLeh8Bsigy"
      },
      "source": [
        "## Training-Doc2Vec and Word2Vec"
      ]
    },
    {
      "cell_type": "code",
      "metadata": {
        "colab": {
          "base_uri": "https://localhost:8080/"
        },
        "id": "4lCKXml7py1F",
        "outputId": "a18154fb-b971-4600-cef1-d273c55b6048"
      },
      "source": [
        "obj = Doc2VecTrainer(data_polifact)\n",
        "obj.run()"
      ],
      "execution_count": null,
      "outputs": [
        {
          "output_type": "stream",
          "text": [
            "app started\n",
            "reading training corpus from     documentId  ...                                    pasts_of_speech\n",
            "0            0  ...  [('Former', 'NNP'), ('President', 'NNP'), ('Do...\n",
            "1            1  ...  [('Former', 'NNP'), ('President', 'NNP'), ('Do...\n",
            "2            2  ...  [('Asked', 'VBN'), ('interview', 'NN'), ('Jan....\n",
            "3            3  ...  [('Former', 'NNP'), ('President', 'NNP'), ('Do...\n",
            "4            4  ...  [('Former', 'NNP'), ('President', 'NNP'), ('Do...\n",
            "5            5  ...  [('Throughout', 'IN'), ('president-elect', 'JJ...\n",
            "6            6  ...  [('A', 'DT'), ('mob', 'NN'), ('breached', 'VBD...\n",
            "7            7  ...  [('President', 'NNP'), ('Donald', 'NNP'), ('Tr...\n",
            "8            8  ...  [('When', 'WRB'), ('Congress', 'NNP'), ('meets...\n",
            "9            9  ...  [('President', 'NNP'), ('Donald', 'NNP'), ('Tr...\n",
            "10          10  ...  [('In', 'IN'), ('hour-long', 'JJ'), ('phone', ...\n",
            "11          11  ...  [('President', 'NNP'), ('Donald', 'NNP'), ('Tr...\n",
            "12          12  ...  [('In', 'IN'), ('Dec.', 'NNP'), ('15', 'CD'), ...\n",
            "13          13  ...  [('During', 'IN'), ('Dec.', 'NNP'), ('8', 'CD'...\n",
            "14          14  ...  [('President', 'NNP'), ('Donald', 'NNP'), ('Tr...\n",
            "15          15  ...  [('President', 'NNP'), ('Donald', 'NNP'), ('Tr...\n",
            "16          16  ...  [('In', 'IN'), ('first', 'JJ'), ('major', 'JJ'...\n",
            "17          17  ...  [('One', 'CD'), ('President', 'NNP'), ('Donald...\n",
            "18          18  ...  [('A', 'DT'), ('list', 'NN'), ('Wisconsin', 'N...\n",
            "19          19  ...  [('In', 'IN'), ('late-night', 'JJ'), ('tweet',...\n",
            "20          20  ...  [('Continuing', 'VBG'), ('post-election', 'JJ'...\n",
            "21          21  ...  [('As', 'IN'), ('part', 'NN'), ('relentless', ...\n",
            "22          22  ...  [('President', 'NNP'), ('Donald', 'NNP'), ('Tr...\n",
            "23          23  ...  [('In', 'IN'), ('Nov.', 'NNP'), ('17', 'CD'), ...\n",
            "24          24  ...  [('President', 'NNP'), ('Donald', 'NNP'), ('Tr...\n",
            "25          25  ...  [('In', 'IN'), ('effort', 'NN'), ('challenge',...\n",
            "26          26  ...  [('President', 'NNP'), ('Donald', 'NNP'), ('Tr...\n",
            "27          27  ...  [('Since', 'IN'), ('Joe', 'NNP'), ('Biden', 'N...\n",
            "28          28  ...  [('President', 'NNP'), ('Donald', 'NNP'), ('Tr...\n",
            "29          29  ...  [('As', 'IN'), ('vote', 'NN'), ('counting', 'V...\n",
            "\n",
            "[30 rows x 18 columns]\n",
            "building vocabulary...\n"
          ],
          "name": "stdout"
        },
        {
          "output_type": "stream",
          "text": [
            "/usr/local/lib/python3.7/dist-packages/gensim/models/doc2vec.py:570: UserWarning: The parameter `size` is deprecated, will be removed in 4.0.0, use `vector_size` instead.\n",
            "  warnings.warn(\"The parameter `size` is deprecated, will be removed in 4.0.0, use `vector_size` instead.\")\n"
          ],
          "name": "stderr"
        },
        {
          "output_type": "stream",
          "text": [
            "total docs learned 30\n"
          ],
          "name": "stdout"
        }
      ]
    },
    {
      "cell_type": "markdown",
      "metadata": {
        "id": "6cJe_Cr8tZ-h"
      },
      "source": [
        "## 1.1Compare Similarity- Using Doc2Vec\n",
        "https://datascience.stackexchange.com/questions/23969/sentence-similarity-prediction"
      ]
    },
    {
      "cell_type": "code",
      "metadata": {
        "colab": {
          "base_uri": "https://localhost:8080/"
        },
        "id": "zw2etmU6txmi",
        "outputId": "b12d1924-e7bc-4006-a3d2-222d6d419953"
      },
      "source": [
        "from gensim.models.doc2vec import Doc2Vec \n",
        "\n",
        "#example for test\n",
        "model = Doc2Vec.load(file_path+\"polifact_doc2vec_model.model\")  \n",
        "new_sentence = \"I opened a new mailbox\".split(\" \")  \n",
        "model.docvecs.most_similar(positive=[model.infer_vector(new_sentence)],topn=1)"
      ],
      "execution_count": null,
      "outputs": [
        {
          "output_type": "execute_result",
          "data": {
            "text/plain": [
              "[(7, 0.6654379367828369)]"
            ]
          },
          "metadata": {
            "tags": []
          },
          "execution_count": 127
        }
      ]
    },
    {
      "cell_type": "markdown",
      "metadata": {
        "id": "5RJlRnNWefct"
      },
      "source": [
        "### Compute"
      ]
    },
    {
      "cell_type": "code",
      "metadata": {
        "id": "CHvpVhLP0Ul8"
      },
      "source": [
        "#try to find most similar claim from politifact for the current fox claim\n",
        "data_fox_claim['most_similar'] = data_fox_claim['text'].apply(lambda x : model.docvecs.most_similar(positive=[model.infer_vector(re.split('\\W+', str(x).lower()))],topn=1)) "
      ],
      "execution_count": null,
      "outputs": []
    },
    {
      "cell_type": "code",
      "metadata": {
        "id": "j_2-eRIm8fsn"
      },
      "source": [
        "#text_distilled: try to find most similar claim from politifact for the current fox claim\n",
        "data_fox_claim['most_similar'] = data_fox_claim['text_distilled'].apply(lambda x : model.docvecs.most_similar(positive=[model.infer_vector(x)],topn=1)) "
      ],
      "execution_count": null,
      "outputs": []
    },
    {
      "cell_type": "markdown",
      "metadata": {
        "id": "EriIdx9V4HAW"
      },
      "source": [
        "### Extract the similar rows from Politifact"
      ]
    },
    {
      "cell_type": "code",
      "metadata": {
        "colab": {
          "base_uri": "https://localhost:8080/",
          "height": 311
        },
        "id": "1UZujf1c6TQD",
        "outputId": "949a2197-c248-4cb6-a6ff-23f8d7981935"
      },
      "source": [
        "data_polifact.head(2)"
      ],
      "execution_count": null,
      "outputs": [
        {
          "output_type": "execute_result",
          "data": {
            "text/html": [
              "<div>\n",
              "<style scoped>\n",
              "    .dataframe tbody tr th:only-of-type {\n",
              "        vertical-align: middle;\n",
              "    }\n",
              "\n",
              "    .dataframe tbody tr th {\n",
              "        vertical-align: top;\n",
              "    }\n",
              "\n",
              "    .dataframe thead th {\n",
              "        text-align: right;\n",
              "    }\n",
              "</style>\n",
              "<table border=\"1\" class=\"dataframe\">\n",
              "  <thead>\n",
              "    <tr style=\"text-align: right;\">\n",
              "      <th></th>\n",
              "      <th>documentId</th>\n",
              "      <th>Unnamed: 0.1</th>\n",
              "      <th>sources</th>\n",
              "      <th>urls</th>\n",
              "      <th>title</th>\n",
              "      <th>summaries</th>\n",
              "      <th>dates</th>\n",
              "      <th>ratings</th>\n",
              "      <th>text</th>\n",
              "      <th>authors</th>\n",
              "      <th>publishdate</th>\n",
              "      <th>relatedlinks</th>\n",
              "      <th>claims</th>\n",
              "      <th>text_distilled</th>\n",
              "      <th>topics</th>\n",
              "      <th>named_entity_recognition</th>\n",
              "      <th>top_10_freq_word</th>\n",
              "      <th>pasts_of_speech</th>\n",
              "    </tr>\n",
              "  </thead>\n",
              "  <tbody>\n",
              "    <tr>\n",
              "      <th>0</th>\n",
              "      <td>0</td>\n",
              "      <td>0</td>\n",
              "      <td>politifact</td>\n",
              "      <td>http://www.politifact.com/factchecks/2021/mar/...</td>\n",
              "      <td>\\nSays Deborah Birx “traveled a great distance...</td>\n",
              "      <td>\\n\\n\\n\\n\\n\\n\\n\\n\\n\\n\\n\\n\\n\\n\\n\\n\\n\\n\\n\\n\\n\\n\\n...</td>\n",
              "      <td>2021-03-29</td>\n",
              "      <td>half-true</td>\n",
              "      <td>\\nFormer President Donald Trump didn’t appreci...</td>\n",
              "      <td>Jon Greenberg</td>\n",
              "      <td>2021-03-30</td>\n",
              "      <td>['https://www.cnn.com/2021/03/29/health/pandem...</td>\n",
              "      <td>National,Coronavirus,Donald Trump</td>\n",
              "      <td>['say', 'deborah', 'birx', 'traveled', 'great'...</td>\n",
              "      <td>['birx ', 'said']</td>\n",
              "      <td>[(Donald, 'PERSON'), (Trump, 'PERSON'), (Biden...</td>\n",
              "      <td>[('birx', 22), ('said', 12), ('family', 10), (...</td>\n",
              "      <td>[('Former', 'NNP'), ('President', 'NNP'), ('Do...</td>\n",
              "    </tr>\n",
              "    <tr>\n",
              "      <th>1</th>\n",
              "      <td>1</td>\n",
              "      <td>1</td>\n",
              "      <td>politifact</td>\n",
              "      <td>http://www.politifact.com/factchecks/2021/mar/...</td>\n",
              "      <td>\\n\"We proudly handed the Biden administration ...</td>\n",
              "      <td>\\n\\n\\n\\n\\n\\n\\n\\n\\n\\n\\n\\n\\n\\n\\n\\n\\n\\n\\n\\n\\n\\n\\n...</td>\n",
              "      <td>2021-03-21</td>\n",
              "      <td>barely-true</td>\n",
              "      <td>\\nFormer President Donald Trump said that the ...</td>\n",
              "      <td>Amy Sherman</td>\n",
              "      <td>2021-03-24</td>\n",
              "      <td>['https://twitter.com/seanspicer/status/137375...</td>\n",
              "      <td>Immigration,National,Donald Trump</td>\n",
              "      <td>['proudly', 'handed', 'biden', 'administration...</td>\n",
              "      <td>['border ', 'trump']</td>\n",
              "      <td>[(Donald, 'PERSON'), (Trump, 'PERSON'), (Biden...</td>\n",
              "      <td>[('border', 43), ('trump', 24), ('biden', 16),...</td>\n",
              "      <td>[('Former', 'NNP'), ('President', 'NNP'), ('Do...</td>\n",
              "    </tr>\n",
              "  </tbody>\n",
              "</table>\n",
              "</div>"
            ],
            "text/plain": [
              "   documentId  ...                                    pasts_of_speech\n",
              "0           0  ...  [('Former', 'NNP'), ('President', 'NNP'), ('Do...\n",
              "1           1  ...  [('Former', 'NNP'), ('President', 'NNP'), ('Do...\n",
              "\n",
              "[2 rows x 18 columns]"
            ]
          },
          "metadata": {
            "tags": []
          },
          "execution_count": 65
        }
      ]
    },
    {
      "cell_type": "code",
      "metadata": {
        "colab": {
          "base_uri": "https://localhost:8080/"
        },
        "id": "oKhuZdg-6emi",
        "outputId": "a78cf933-57b2-4215-f139-4d2131e2f7d4"
      },
      "source": [
        "data_polifact.columns"
      ],
      "execution_count": null,
      "outputs": [
        {
          "output_type": "execute_result",
          "data": {
            "text/plain": [
              "Index(['documentId', 'Unnamed: 0.1', 'sources', 'urls', 'title', 'summaries',\n",
              "       'dates', 'ratings', 'text', 'authors', 'publishdate', 'relatedlinks',\n",
              "       'claims', 'text_distilled', 'topics', 'named_entity_recognition',\n",
              "       'top_10_freq_word', 'pasts_of_speech'],\n",
              "      dtype='object')"
            ]
          },
          "metadata": {
            "tags": []
          },
          "execution_count": 58
        }
      ]
    },
    {
      "cell_type": "code",
      "metadata": {
        "id": "hUlZQkcg4FyS"
      },
      "source": [
        "for index, row in data_fox_claim.iterrows():\n",
        "    #print(row['most_similar'], row['most_similar'][0])\n",
        "    #print(\"id\", row['most_similar'][0][0])\n",
        "    id = row['most_similar'][0][0]\n",
        "    data_fox_claim['similar_claims']=data_polifact.iloc[id]['claims']\n",
        "    data_fox_claim['similar_ratings']=data_polifact.iloc[id]['ratings']\n",
        "    data_fox_claim['similar_topics']=data_polifact.iloc[id]['topics']\n",
        "    data_fox_claim['similar_text']=data_polifact.iloc[id]['text']\n",
        "    data_fox_claim['similar_text_distilled']=data_polifact.iloc[id]['text_distilled']"
      ],
      "execution_count": null,
      "outputs": []
    },
    {
      "cell_type": "code",
      "metadata": {
        "colab": {
          "base_uri": "https://localhost:8080/",
          "height": 214
        },
        "id": "JGrkSIl00x-j",
        "outputId": "29fc7cfa-3c7c-47bd-a9fe-da0bee214bb8"
      },
      "source": [
        "data_fox_claim.iloc[[7]]"
      ],
      "execution_count": null,
      "outputs": [
        {
          "output_type": "execute_result",
          "data": {
            "text/html": [
              "<div>\n",
              "<style scoped>\n",
              "    .dataframe tbody tr th:only-of-type {\n",
              "        vertical-align: middle;\n",
              "    }\n",
              "\n",
              "    .dataframe tbody tr th {\n",
              "        vertical-align: top;\n",
              "    }\n",
              "\n",
              "    .dataframe thead th {\n",
              "        text-align: right;\n",
              "    }\n",
              "</style>\n",
              "<table border=\"1\" class=\"dataframe\">\n",
              "  <thead>\n",
              "    <tr style=\"text-align: right;\">\n",
              "      <th></th>\n",
              "      <th>documentId</th>\n",
              "      <th>Unnamed: 0.1</th>\n",
              "      <th>link</th>\n",
              "      <th>published</th>\n",
              "      <th>title</th>\n",
              "      <th>text</th>\n",
              "      <th>site</th>\n",
              "      <th>text_distilled</th>\n",
              "      <th>topics</th>\n",
              "      <th>named_entity_recognition</th>\n",
              "      <th>top_10_freq_word</th>\n",
              "      <th>pasts_of_speech</th>\n",
              "      <th>most_similar</th>\n",
              "      <th>similar_claims</th>\n",
              "      <th>similar_ratings</th>\n",
              "      <th>similar_topics</th>\n",
              "      <th>similar_text</th>\n",
              "      <th>similar_text_distilled</th>\n",
              "    </tr>\n",
              "  </thead>\n",
              "  <tbody>\n",
              "    <tr>\n",
              "      <th>7</th>\n",
              "      <td>7</td>\n",
              "      <td>7</td>\n",
              "      <td>https://www.foxnews.com/politics/ex-trump-offi...</td>\n",
              "      <td>2021-04-15T22:09:32</td>\n",
              "      <td>Ex-Trump official Kellyanne Conway named senio...</td>\n",
              "      <td>Former Trump campaign manager and top White Ho...</td>\n",
              "      <td>foxnews</td>\n",
              "      <td>['ex', 'trump', 'official', 'kellyanne', 'conw...</td>\n",
              "      <td>['trump ', 'moreno']</td>\n",
              "      <td>[(Raphael, 'PERSON'), (Warnock, 'PERSON'), (re...</td>\n",
              "      <td>[('trump', 9), ('moreno', 8), ('campaign', 6),...</td>\n",
              "      <td>[('Former', 'JJ'), ('Trump', 'NNP'), ('campaig...</td>\n",
              "      <td>[(28, 0.12165184319019318)]</td>\n",
              "      <td>Immigration,Homeland Security,Donald Trump</td>\n",
              "      <td>false</td>\n",
              "      <td>['deportation ', 'biden']</td>\n",
              "      <td>\\nFormer President Donald Trump criticized Pre...</td>\n",
              "      <td>['say', 'joe', 'biden', 'ha', 'effectively', '...</td>\n",
              "    </tr>\n",
              "  </tbody>\n",
              "</table>\n",
              "</div>"
            ],
            "text/plain": [
              "   documentId  ...                             similar_text_distilled\n",
              "7           7  ...  ['say', 'joe', 'biden', 'ha', 'effectively', '...\n",
              "\n",
              "[1 rows x 18 columns]"
            ]
          },
          "metadata": {
            "tags": []
          },
          "execution_count": 71
        }
      ]
    },
    {
      "cell_type": "code",
      "metadata": {
        "colab": {
          "base_uri": "https://localhost:8080/"
        },
        "id": "deQ26CGr9lN5",
        "outputId": "fbdb10e2-27b3-45e4-d2f1-16a1a5e66d67"
      },
      "source": [
        "print(\"claim title=\",data_fox_claim['title'][7])\n",
        "print(\"most_similar=\",data_fox_claim['most_similar'][7])\n",
        "print(\"similar_claims=\",data_fox_claim['similar_claims'][7])\n",
        "print(\"similar_ratings=\",data_fox_claim['similar_ratings'][7])\n",
        "print(\"similar_topics=\",data_fox_claim['similar_topics'][7])\n",
        "print(\"similar_text_distilled=\",data_fox_claim['similar_text_distilled'][7])\n",
        "print(\"similar_text=\",data_fox_claim['similar_text'][7])"
      ],
      "execution_count": null,
      "outputs": [
        {
          "output_type": "stream",
          "text": [
            "claim title= Ex-Trump official Kellyanne Conway named senior adviser to Ohio Senate candidate Bernie Moreno\n",
            "most_similar= [(28, 0.12165184319019318)]\n",
            "similar_claims= Immigration,Homeland Security,Donald Trump\n",
            "similar_ratings= false\n",
            "similar_topics= ['deportation ', 'biden']\n",
            "similar_text_distilled= ['say', 'joe', 'biden', 'ha', 'effectively', 'ordered', 'shutdown', 'ice', 'halting', 'virtually', 'deportation', 'everyone', 'murderer', 'everybody', 'former', 'president', 'donald', 'trump', 'criticized', 'president', 'joe', 'biden', 'reversing', 'trump', 'era', 'immigration', 'policy', 'claimed', 'biden', 'crippled', 'federal', 'agency', 'responsible', 'deportation', 'ha', 'effectively', 'ordered', 'shutdown', 'ice', 'halting', 'virtually', 'deportation', 'everyone', 'murderer', 'everybody', 'trump', 'said', 'feb', '28', 'annual', 'conservative', 'political', 'action', 'conference', 'let', 'deport', 'people', 'restricting', 'law', 'enforcement', 'professional', 'biden', 'revoked', 'several', 'predecessor', 'executive', 'order', 'immigration', 'ordered', 'review', 'immigration', 'custom', 'enforcement', 'deportation', 'priority', '100', 'day', 'pause', 'deportation', 'biden', 'administration', 'ha', 'shut', 'ice', 'trump', 'claimed', 'criminal', 'murderer', 'still', 'deported', 'politifact', 'rated', 'similar', 'claim', 'cpac', 'sen', 'tom', 'cotton', 'r', 'ark', 'false', 'trump', 'office', 'respond', 'request', 'information', 'biden', '100', 'day', 'deportation', 'pause', 'apply', 'everyone', 'biden', 'first', 'day', 'office', 'david', 'pekoske', 'acting', 'secretary', 'homeland', 'security', 'said', 'department', 'resource', 'deport', 'every', 'single', 'person', 'living', 'country', 'illegally', 'estimated', '10', '5', 'million', 'people', 'u', 'unlawfully', 'pekoske', 'ordered', 'review', 'immigration', 'enforcement', 'practice', 'interim', 'said', 'department', 'would', 'prioritize', 'deportation', 'people', 'threatened', 'national', 'security', 'border', 'security', 'public', 'safety', 'trump', 'administration', 'everyone', 'country', 'illegally', 'deportation', 'priority', 'pekoske', 'also', 'ordered', 'immediate', '100', 'day', 'pause', 'deportation', 'people', 'final', 'order', 'removal', 'however', 'certain', 'group', 'people', 'including', 'engaged', 'suspected', 'terrorism', 'espionage', 'eligible', 'temporary', 'reprieve', 'texas', 'attorney', 'general', 'ken', 'paxton', 'sued', 'biden', 'administration', 'deportation', 'pause', 'federal', 'judge', 'ha', 'since', 'blocked', 'indefinitely', 'featured', 'fact', 'check', 'joe', 'biden', 'stated', 'march', '25', '2021', 'press', 'conference', 'sending', 'back', 'vast', 'majority', 'family', 'coming', 'miriam', 'valverde', 'march', '25', '2021', 'ice', 'acting', 'director', 'tae', 'johnson', 'feb', '18', 'issued', 'interim', 'guidance', 'reiterating', 'deportation', 'resource', 'would', 'focus', 'presumed', 'threat', 'national', 'security', 'border', 'security', 'public', 'safety', 'individual', 'presumed', 'threat', 'public', 'safety', 'example', 'convicted', 'aggravated', 'felony', 'engaged', 'certain', 'activity', 'part', 'criminal', 'gang', 'transnational', 'criminal', 'organization', 'reason', 'believe', 'currently', 'pose', 'threat', 'ice', 'said', 'aggravated', 'felony', 'includes', 'murder', 'rape', 'sexual', 'abuse', 'minor', 'ice', 'also', 'said', 'specific', 'deportation', 'priority', 'immigration', 'officer', 'agent', 'prohibited', 'arresting', 'detaining', 'removing', 'people', 'priority', 'list', 'action', 'though', 'would', 'subject', 'advance', 'review', 'guidance', 'said', 'news', 'report', 'deportation', 'happening', 'biden', 'administration', 'although', 'specific', 'case', 'exact', 'number', 'people', 'deported', 'unclear', 'politifact', 'asked', 'ice', 'detail', 'agency', 'provide', 'information', 'also', 'worth', 'noting', 'beyond', 'ice', 'immigration', 'enforcement', 'unit', 'agency', 'also', 'ha', 'homeland', 'security', 'investigation', 'division', 'division', 'focus', 'case', 'related', 'human', 'smuggling', 'trafficking', 'money', 'laundering', 'transnational', 'gang', 'activity', 'crime', 'biden', 'ha', 'ordered', 'shutdown', 'unit', 'either', 'ruling', 'trump', 'said', 'biden', 'ha', 'effectively', 'ordered', 'shutdown', 'ice', 'halting', 'virtually', 'deportation', 'everyone', 'murderer', 'everybody', 'biden', 'ha', 'closed', 'ice', 'agency', 'division', 'still', 'operating', 'biden', 'administration', 'established', 'new', 'deportation', 'priority', 'ordered', 'temporary', 'pause', 'certain', 'deportation', 'people', 'convicted', 'serious', 'crime', 'murder', 'threatened', 'public', 'safety', 'deportation', 'priority', 'biden', 'administration', 'rate', 'trump', 'claim', 'false', 'related', 'fact', 'checking', 'claim', 'deportation', 'biden', 'first', 'month']\n",
            "similar_text= \n",
            "Former President Donald Trump criticized President Joe Biden for reversing Trump-era immigration policies and claimed that Biden had crippled the federal agency responsible for deportations.\n",
            "\"He has effectively ordered a shutdown of ICE, halting virtually all deportations, everyone, murderers, everybody, no more,\" Trump said Feb. 28 at the annual Conservative Political Action Conference. \"Let's not deport people, and restricting our law enforcement professionals.\"\n",
            "Biden revoked several of his predecessor’s executive orders on immigration, ordered a review of Immigration and Customs Enforcement’s deportation priorities and a 100-day pause on deportations.\n",
            "But the Biden administration has not shut down ICE, as Trump claimed, and criminals, such as murderers, can still be deported.\n",
            "PolitiFact rated a similar claim at CPAC by Sen. Tom Cotton, R-Ark., as False. Trump’s office did not respond to our request for information.\n",
            "Biden’s 100-day deportation pause did not apply to everyone\n",
            "On Biden’s first day in office, David Pekoske, then the acting secretary of Homeland Security, said that the department did not have the resources to deport every single person living in the country illegally. An estimated 10.5 million people are in the U.S. unlawfully.\n",
            "Pekoske ordered a review of immigration enforcement practices. In the interim, he said the department would prioritize the deportation of people who threatened national security, border security and public safety. (Under the Trump administration, everyone in the country illegally was a deportation priority.)\n",
            "Pekoske also ordered an immediate 100-day pause on the deportation of people with final orders of removal. However, certain groups of people, including those who had engaged in or were suspected of terrorism or espionage, were not eligible for that temporary reprieve.\n",
            "Texas Attorney General Ken Paxton sued the Biden administration over the deportation pause, and a federal judge has since blocked it indefinitely.\n",
            "\n",
            "Featured Fact-check\n",
            "\n",
            "\n",
            "\n",
            "\n",
            "\n",
            "\n",
            "\n",
            "\n",
            "\n",
            "\n",
            "\n",
            "\n",
            "\n",
            "\n",
            "\n",
            "\n",
            "Joe Biden\n",
            "\n",
            "\n",
            "stated on March 25, 2021 in press conference\n",
            "\n",
            "\n",
            "\n",
            "\n",
            "\n",
            "\n",
            "\n",
            "\n",
            "“We’re sending back the vast majority of the families that are coming.”\n",
            "\n",
            "\n",
            "\n",
            "\n",
            "\n",
            "\n",
            "\n",
            "\n",
            "\n",
            "\n",
            "\n",
            "\n",
            "By Miriam Valverde • March 25, 2021\n",
            "\n",
            "\n",
            "\n",
            "\n",
            "\n",
            "\n",
            "\n",
            "ICE’s Acting Director Tae D. Johnson on Feb. 18 issued interim guidance reiterating that deportation resources would focus on presumed threats to national security, border security, and public safety. \n",
            "\"Individuals are presumed to be a threat to public safety if, for example, they have been convicted of an aggravated felony or engaged in certain activity as part of a criminal gang or transnational criminal organization and there is reason to believe they currently pose a threat,\" ICE said. An aggravated felony includes murder, rape or sexual abuse of a minor.\n",
            "ICE also said that while there were specific deportation priorities, immigration officers and agents were not prohibited from arresting, detaining or removing people not on the priority list. Those actions, though, would be \"subject to advance review,\" the guidance said.\n",
            "There have been news reports of deportations happening under Biden’s administration, although the specifics of those cases and exact number of people deported is unclear. PolitiFact asked ICE for details but the agency did not provide that information.\n",
            "It’s also worth noting that beyond ICE’s immigration enforcement unit, the agency also has a Homeland Security Investigations division. That division focuses on cases related to human smuggling and trafficking, money laundering, transnational gang activity, and other crimes. Biden has not ordered a \"shutdown\" of that unit, either.\n",
            "Our ruling\n",
            "Trump said Biden \"has effectively ordered a shutdown of ICE, halting virtually all deportations, everyone, murderers, everybody, no more.\"\n",
            "Biden has not closed down ICE; the agency’s divisions are still operating. Biden’s administration established new deportation priorities and ordered a temporary pause on certain, not all, deportations. People convicted of serious crimes such as murder and who threatened public safety are a deportation priority under Biden’s administration.\n",
            "We rate Trump’s claim False.\n",
            "RELATED: Fact-checking claims about deportations in Biden's first month\n",
            "\n"
          ],
          "name": "stdout"
        }
      ]
    },
    {
      "cell_type": "markdown",
      "metadata": {
        "id": "eGkO-X6kvSUh"
      },
      "source": [
        "### To CSV"
      ]
    },
    {
      "cell_type": "code",
      "metadata": {
        "colab": {
          "base_uri": "https://localhost:8080/",
          "height": 361
        },
        "id": "mE00gnFTxWkY",
        "outputId": "43dd0aae-2c40-4dde-bb50-4e064ec9df37"
      },
      "source": [
        "data_fox_claim.head(2)"
      ],
      "execution_count": null,
      "outputs": [
        {
          "output_type": "execute_result",
          "data": {
            "text/html": [
              "<div>\n",
              "<style scoped>\n",
              "    .dataframe tbody tr th:only-of-type {\n",
              "        vertical-align: middle;\n",
              "    }\n",
              "\n",
              "    .dataframe tbody tr th {\n",
              "        vertical-align: top;\n",
              "    }\n",
              "\n",
              "    .dataframe thead th {\n",
              "        text-align: right;\n",
              "    }\n",
              "</style>\n",
              "<table border=\"1\" class=\"dataframe\">\n",
              "  <thead>\n",
              "    <tr style=\"text-align: right;\">\n",
              "      <th></th>\n",
              "      <th>documentId</th>\n",
              "      <th>Unnamed: 0.1</th>\n",
              "      <th>link</th>\n",
              "      <th>published</th>\n",
              "      <th>title</th>\n",
              "      <th>text</th>\n",
              "      <th>site</th>\n",
              "      <th>text_distilled</th>\n",
              "      <th>topics</th>\n",
              "      <th>named_entity_recognition</th>\n",
              "      <th>top_10_freq_word</th>\n",
              "      <th>pasts_of_speech</th>\n",
              "      <th>most_similar</th>\n",
              "      <th>similar_claims</th>\n",
              "      <th>similar_ratings</th>\n",
              "      <th>similar_topics</th>\n",
              "      <th>similar_text</th>\n",
              "      <th>similar_text_distilled</th>\n",
              "    </tr>\n",
              "  </thead>\n",
              "  <tbody>\n",
              "    <tr>\n",
              "      <th>0</th>\n",
              "      <td>0</td>\n",
              "      <td>0</td>\n",
              "      <td>https://www.foxnews.com/us/violent-crime-los-a...</td>\n",
              "      <td>2021-04-15T22:33:38</td>\n",
              "      <td>Murders in Los Angeles up nearly 200%, violent...</td>\n",
              "      <td>Murders in Los Angeles County have spiked near...</td>\n",
              "      <td>foxnews</td>\n",
              "      <td>['murder', 'los', 'angeles', 'nearly', '200', ...</td>\n",
              "      <td>['angeles ', 'crime']</td>\n",
              "      <td>[(Raphael, 'PERSON'), (Warnock, 'PERSON'), (re...</td>\n",
              "      <td>[('los', 5), ('angeles', 5), ('crime', 5), ('f...</td>\n",
              "      <td>[('Murders', 'NNS'), ('Los', 'NNP'), ('Angeles...</td>\n",
              "      <td>[(27, 0.20057392120361328)]</td>\n",
              "      <td>Immigration,Homeland Security,Donald Trump</td>\n",
              "      <td>false</td>\n",
              "      <td>['deportation ', 'biden']</td>\n",
              "      <td>\\nFormer President Donald Trump criticized Pre...</td>\n",
              "      <td>['say', 'joe', 'biden', 'ha', 'effectively', '...</td>\n",
              "    </tr>\n",
              "    <tr>\n",
              "      <th>1</th>\n",
              "      <td>1</td>\n",
              "      <td>1</td>\n",
              "      <td>https://www.foxnews.com/politics/raphael-warno...</td>\n",
              "      <td>2021-04-15T22:30:47</td>\n",
              "      <td>Warnock pushes gun control but paid over $100K...</td>\n",
              "      <td>Sen. Raphael Warnock has been calling for gun ...</td>\n",
              "      <td>foxnews</td>\n",
              "      <td>['warnock', 'push', 'gun', 'control', 'paid', ...</td>\n",
              "      <td>['gun ', 'warnock']</td>\n",
              "      <td>[(Raphael, 'PERSON'), (Warnock, 'PERSON'), (re...</td>\n",
              "      <td>[('warnock', 15), ('gun', 15), ('control', 9),...</td>\n",
              "      <td>[('Sen.', 'NNP'), ('Raphael', 'NNP'), ('Warnoc...</td>\n",
              "      <td>[(23, 0.22679316997528076)]</td>\n",
              "      <td>Immigration,Homeland Security,Donald Trump</td>\n",
              "      <td>false</td>\n",
              "      <td>['deportation ', 'biden']</td>\n",
              "      <td>\\nFormer President Donald Trump criticized Pre...</td>\n",
              "      <td>['say', 'joe', 'biden', 'ha', 'effectively', '...</td>\n",
              "    </tr>\n",
              "  </tbody>\n",
              "</table>\n",
              "</div>"
            ],
            "text/plain": [
              "   documentId  ...                             similar_text_distilled\n",
              "0           0  ...  ['say', 'joe', 'biden', 'ha', 'effectively', '...\n",
              "1           1  ...  ['say', 'joe', 'biden', 'ha', 'effectively', '...\n",
              "\n",
              "[2 rows x 18 columns]"
            ]
          },
          "metadata": {
            "tags": []
          },
          "execution_count": 78
        }
      ]
    },
    {
      "cell_type": "code",
      "metadata": {
        "id": "UCwoMtBovT7K"
      },
      "source": [
        "#data_all_news.to_csv(file_path+'/statement_checker_all_processed.csv')\n",
        "data_fox_claim.to_csv(file_path+'/fox_claim_news_with_doc2vec_similarity.csv')"
      ],
      "execution_count": null,
      "outputs": []
    },
    {
      "cell_type": "markdown",
      "metadata": {
        "id": "XONSN1gMF9jI"
      },
      "source": [
        "## 1.2Compare Similarity- Using Word2Vec\n",
        "\n",
        "* https://stackoverflow.com/questions/22129943/how-to-calculate-the-sentence-similarity-using-word2vec-model-of-gensim-with-pyt\n",
        "* https://kavita-ganesan.com/gensim-word2vec-tutorial-starter-code/#.YHvy0OhKhPY"
      ]
    },
    {
      "cell_type": "code",
      "metadata": {
        "id": "yYRgCdBqF9jc"
      },
      "source": [
        "from gensim.models.word2vec import Word2Vec\n",
        "from gensim.models.keyedvectors import KeyedVectors\n",
        "import numpy as np\n",
        "from scipy import spatial\n"
      ],
      "execution_count": null,
      "outputs": []
    },
    {
      "cell_type": "code",
      "metadata": {
        "colab": {
          "base_uri": "https://localhost:8080/"
        },
        "id": "909_KHzKKUNY",
        "outputId": "8eef0f4a-af25-4a6b-a01b-b23ddb9aa04d"
      },
      "source": [
        "#example for test\n",
        "model = KeyedVectors.load_word2vec_format(file_path+\"polifact_word2vec_model.model\")  \n",
        "index2word_set = set(model.wv.index2word)\n",
        "\n",
        "def avg_feature_vector(sentence, model, num_features, index2word_set):\n",
        "    words = sentence.split(\" \")\n",
        "    feature_vec = np.zeros((num_features, ), dtype='float32')\n",
        "    n_words = 0\n",
        "    for word in words:\n",
        "        if word in index2word_set:\n",
        "            n_words += 1\n",
        "            feature_vec = np.add(feature_vec, model[word])\n",
        "    if (n_words > 0):\n",
        "        feature_vec = np.divide(feature_vec, n_words)\n",
        "    return feature_vec"
      ],
      "execution_count": null,
      "outputs": [
        {
          "output_type": "stream",
          "text": [
            "/usr/local/lib/python3.7/dist-packages/ipykernel_launcher.py:3: DeprecationWarning: Call to deprecated `wv` (Attribute will be removed in 4.0.0, use self instead).\n",
            "  This is separate from the ipykernel package so we can avoid doing imports until\n"
          ],
          "name": "stderr"
        }
      ]
    },
    {
      "cell_type": "code",
      "metadata": {
        "colab": {
          "base_uri": "https://localhost:8080/"
        },
        "id": "R8BpU7DDWJ8e",
        "outputId": "939bcff8-01d3-46e7-ad99-3cbb2306309d"
      },
      "source": [
        "#example practice\n",
        "s1_afv = avg_feature_vector(\"\".join(['trump happy']), model=model, num_features=100, index2word_set=index2word_set)\n",
        "s2_afv = avg_feature_vector(\"\".join(['hey no']), model=model, num_features=100, index2word_set=index2word_set)\n",
        "sim = 1 - spatial.distance.cosine(s1_afv, s2_afv)\n",
        "print(\"sim=\", sim)"
      ],
      "execution_count": null,
      "outputs": [
        {
          "output_type": "stream",
          "text": [
            "sim= 0.7214217782020569\n"
          ],
          "name": "stdout"
        }
      ]
    },
    {
      "cell_type": "code",
      "metadata": {
        "colab": {
          "base_uri": "https://localhost:8080/"
        },
        "id": "3YqZfKgMU0Sa",
        "outputId": "284f424d-9702-4c26-a350-8e0e38d09396"
      },
      "source": [
        "#example practice\n",
        "new_word = \"trump\".split(\" \")  \n",
        "model.wv.most_similar(positive=new_word,topn=1)"
      ],
      "execution_count": null,
      "outputs": [
        {
          "output_type": "stream",
          "text": [
            "/usr/local/lib/python3.7/dist-packages/ipykernel_launcher.py:3: DeprecationWarning: Call to deprecated `wv` (Attribute will be removed in 4.0.0, use self instead).\n",
            "  This is separate from the ipykernel package so we can avoid doing imports until\n"
          ],
          "name": "stderr"
        },
        {
          "output_type": "execute_result",
          "data": {
            "text/plain": [
              "[('tweet', 0.9050256609916687)]"
            ]
          },
          "metadata": {
            "tags": []
          },
          "execution_count": 123
        }
      ]
    },
    {
      "cell_type": "code",
      "metadata": {
        "colab": {
          "base_uri": "https://localhost:8080/"
        },
        "id": "ry4E4URXUH9F",
        "outputId": "a077d769-63d6-4d9b-bfa1-f3d8cefa780c"
      },
      "source": [
        "#example practice\n",
        "s1 = 'trump'\n",
        "s2 = 'trump' #corrected variable name\n",
        "\n",
        "distance = model.wv.n_similarity(s1.lower().split(), s2.lower().split())\n",
        "print(\"distance=\",distance)"
      ],
      "execution_count": null,
      "outputs": [
        {
          "output_type": "stream",
          "text": [
            "distance= 0.99999994\n"
          ],
          "name": "stdout"
        },
        {
          "output_type": "stream",
          "text": [
            "/usr/local/lib/python3.7/dist-packages/ipykernel_launcher.py:4: DeprecationWarning: Call to deprecated `wv` (Attribute will be removed in 4.0.0, use self instead).\n",
            "  after removing the cwd from sys.path.\n"
          ],
          "name": "stderr"
        }
      ]
    },
    {
      "cell_type": "code",
      "metadata": {
        "id": "O3raa3meUfrU"
      },
      "source": [
        "data_fox_claim_w2v = data_fox_claim"
      ],
      "execution_count": null,
      "outputs": []
    },
    {
      "cell_type": "markdown",
      "metadata": {
        "id": "D-U9H3Nfdpe8"
      },
      "source": [
        "### Computation with AVG score"
      ]
    },
    {
      "cell_type": "code",
      "metadata": {
        "colab": {
          "base_uri": "https://localhost:8080/"
        },
        "id": "6sHhg4yiaokw",
        "outputId": "ea181ed0-de78-49de-e2c0-5a9807799d88"
      },
      "source": [
        "import math\n",
        "similarity_list = []\n",
        "for index1, row1 in data_fox_claim.iterrows():\n",
        "    #id = row['most_similar'][0][0]\n",
        "    max_sim = (-math.inf)\n",
        "    max_index = 0\n",
        "    text = \"\".join(row1['text_distilled'])\n",
        "    #print(\"join(row1['text_distilled']=\" , text)\n",
        "    s1_afv = avg_feature_vector(text, model=model, num_features=100, index2word_set=index2word_set)\n",
        "    #print(\"s1_afv=\",s1_afv)\n",
        "    for index2, row2 in data_polifact.iterrows():\n",
        "      #print(\"index2=\", index2)\n",
        "      #print(\"row2=\",row2)\n",
        "      text2 = \"\".join(row1['text_distilled'])\n",
        "      #print(\"join(row2['text_distilled']=\" , text2)\n",
        "\n",
        "      s2_afv = avg_feature_vector(text2, model=model, num_features=100, index2word_set=index2word_set)\n",
        "      #print(\"s2_afv=\",s2_afv)\n",
        "      sim = 1 - spatial.distance.cosine(s1_afv, s2_afv)\n",
        "      if sim> max_sim:\n",
        "        max_sim = sim\n",
        "        max_index = index2\n",
        "    similarity_list.append((max_index,max_sim))"
      ],
      "execution_count": null,
      "outputs": [
        {
          "output_type": "stream",
          "text": [
            "/usr/local/lib/python3.7/dist-packages/scipy/spatial/distance.py:720: RuntimeWarning: invalid value encountered in float_scalars\n",
            "  dist = 1.0 - uv / np.sqrt(uu * vv)\n"
          ],
          "name": "stderr"
        }
      ]
    },
    {
      "cell_type": "code",
      "metadata": {
        "colab": {
          "base_uri": "https://localhost:8080/"
        },
        "id": "EfDYZ4ayhUJk",
        "outputId": "53370285-963f-4b0c-a310-6ce06d02ec2e"
      },
      "source": [
        "similarity_list"
      ],
      "execution_count": null,
      "outputs": [
        {
          "output_type": "execute_result",
          "data": {
            "text/plain": [
              "[(0, -inf),\n",
              " (0, -inf),\n",
              " (0, -inf),\n",
              " (0, -inf),\n",
              " (0, -inf),\n",
              " (0, -inf),\n",
              " (0, -inf),\n",
              " (0, -inf),\n",
              " (0, -inf),\n",
              " (0, -inf)]"
            ]
          },
          "metadata": {
            "tags": []
          },
          "execution_count": 159
        }
      ]
    },
    {
      "cell_type": "code",
      "metadata": {
        "id": "Xgdz0k28F9je"
      },
      "source": [
        "#try to find most similar claim from politifact for the current fox claim\n",
        "data_fox_claim_w2v['most_similar'] = similarity_list"
      ],
      "execution_count": null,
      "outputs": []
    },
    {
      "cell_type": "markdown",
      "metadata": {
        "id": "fB-OKIvyF9je"
      },
      "source": [
        "### Extract the similar rows from Politifact"
      ]
    },
    {
      "cell_type": "code",
      "metadata": {
        "colab": {
          "base_uri": "https://localhost:8080/",
          "height": 311
        },
        "id": "9F6sC1UAF9jf",
        "outputId": "949a2197-c248-4cb6-a6ff-23f8d7981935"
      },
      "source": [
        "data_polifact.head(2)"
      ],
      "execution_count": null,
      "outputs": [
        {
          "output_type": "execute_result",
          "data": {
            "text/html": [
              "<div>\n",
              "<style scoped>\n",
              "    .dataframe tbody tr th:only-of-type {\n",
              "        vertical-align: middle;\n",
              "    }\n",
              "\n",
              "    .dataframe tbody tr th {\n",
              "        vertical-align: top;\n",
              "    }\n",
              "\n",
              "    .dataframe thead th {\n",
              "        text-align: right;\n",
              "    }\n",
              "</style>\n",
              "<table border=\"1\" class=\"dataframe\">\n",
              "  <thead>\n",
              "    <tr style=\"text-align: right;\">\n",
              "      <th></th>\n",
              "      <th>documentId</th>\n",
              "      <th>Unnamed: 0.1</th>\n",
              "      <th>sources</th>\n",
              "      <th>urls</th>\n",
              "      <th>title</th>\n",
              "      <th>summaries</th>\n",
              "      <th>dates</th>\n",
              "      <th>ratings</th>\n",
              "      <th>text</th>\n",
              "      <th>authors</th>\n",
              "      <th>publishdate</th>\n",
              "      <th>relatedlinks</th>\n",
              "      <th>claims</th>\n",
              "      <th>text_distilled</th>\n",
              "      <th>topics</th>\n",
              "      <th>named_entity_recognition</th>\n",
              "      <th>top_10_freq_word</th>\n",
              "      <th>pasts_of_speech</th>\n",
              "    </tr>\n",
              "  </thead>\n",
              "  <tbody>\n",
              "    <tr>\n",
              "      <th>0</th>\n",
              "      <td>0</td>\n",
              "      <td>0</td>\n",
              "      <td>politifact</td>\n",
              "      <td>http://www.politifact.com/factchecks/2021/mar/...</td>\n",
              "      <td>\\nSays Deborah Birx “traveled a great distance...</td>\n",
              "      <td>\\n\\n\\n\\n\\n\\n\\n\\n\\n\\n\\n\\n\\n\\n\\n\\n\\n\\n\\n\\n\\n\\n\\n...</td>\n",
              "      <td>2021-03-29</td>\n",
              "      <td>half-true</td>\n",
              "      <td>\\nFormer President Donald Trump didn’t appreci...</td>\n",
              "      <td>Jon Greenberg</td>\n",
              "      <td>2021-03-30</td>\n",
              "      <td>['https://www.cnn.com/2021/03/29/health/pandem...</td>\n",
              "      <td>National,Coronavirus,Donald Trump</td>\n",
              "      <td>['say', 'deborah', 'birx', 'traveled', 'great'...</td>\n",
              "      <td>['birx ', 'said']</td>\n",
              "      <td>[(Donald, 'PERSON'), (Trump, 'PERSON'), (Biden...</td>\n",
              "      <td>[('birx', 22), ('said', 12), ('family', 10), (...</td>\n",
              "      <td>[('Former', 'NNP'), ('President', 'NNP'), ('Do...</td>\n",
              "    </tr>\n",
              "    <tr>\n",
              "      <th>1</th>\n",
              "      <td>1</td>\n",
              "      <td>1</td>\n",
              "      <td>politifact</td>\n",
              "      <td>http://www.politifact.com/factchecks/2021/mar/...</td>\n",
              "      <td>\\n\"We proudly handed the Biden administration ...</td>\n",
              "      <td>\\n\\n\\n\\n\\n\\n\\n\\n\\n\\n\\n\\n\\n\\n\\n\\n\\n\\n\\n\\n\\n\\n\\n...</td>\n",
              "      <td>2021-03-21</td>\n",
              "      <td>barely-true</td>\n",
              "      <td>\\nFormer President Donald Trump said that the ...</td>\n",
              "      <td>Amy Sherman</td>\n",
              "      <td>2021-03-24</td>\n",
              "      <td>['https://twitter.com/seanspicer/status/137375...</td>\n",
              "      <td>Immigration,National,Donald Trump</td>\n",
              "      <td>['proudly', 'handed', 'biden', 'administration...</td>\n",
              "      <td>['border ', 'trump']</td>\n",
              "      <td>[(Donald, 'PERSON'), (Trump, 'PERSON'), (Biden...</td>\n",
              "      <td>[('border', 43), ('trump', 24), ('biden', 16),...</td>\n",
              "      <td>[('Former', 'NNP'), ('President', 'NNP'), ('Do...</td>\n",
              "    </tr>\n",
              "  </tbody>\n",
              "</table>\n",
              "</div>"
            ],
            "text/plain": [
              "   documentId  ...                                    pasts_of_speech\n",
              "0           0  ...  [('Former', 'NNP'), ('President', 'NNP'), ('Do...\n",
              "1           1  ...  [('Former', 'NNP'), ('President', 'NNP'), ('Do...\n",
              "\n",
              "[2 rows x 18 columns]"
            ]
          },
          "metadata": {
            "tags": []
          },
          "execution_count": 65
        }
      ]
    },
    {
      "cell_type": "code",
      "metadata": {
        "colab": {
          "base_uri": "https://localhost:8080/"
        },
        "id": "fwpVaakkF9jf",
        "outputId": "a78cf933-57b2-4215-f139-4d2131e2f7d4"
      },
      "source": [
        "data_polifact.columns"
      ],
      "execution_count": null,
      "outputs": [
        {
          "output_type": "execute_result",
          "data": {
            "text/plain": [
              "Index(['documentId', 'Unnamed: 0.1', 'sources', 'urls', 'title', 'summaries',\n",
              "       'dates', 'ratings', 'text', 'authors', 'publishdate', 'relatedlinks',\n",
              "       'claims', 'text_distilled', 'topics', 'named_entity_recognition',\n",
              "       'top_10_freq_word', 'pasts_of_speech'],\n",
              "      dtype='object')"
            ]
          },
          "metadata": {
            "tags": []
          },
          "execution_count": 58
        }
      ]
    },
    {
      "cell_type": "code",
      "metadata": {
        "id": "0Uj6v86hF9jf"
      },
      "source": [
        "for index, row in data_fox_claim_w2v.iterrows():\n",
        "    #print(row['most_similar'], row['most_similar'][0])\n",
        "    #print(\"id\", row['most_similar'][0][0])\n",
        "    id = row['most_similar'][0]\n",
        "    data_fox_claim_w2v['similar_claims']=data_polifact.iloc[id]['claims']\n",
        "    data_fox_claim_w2v['similar_ratings']=data_polifact.iloc[id]['ratings']\n",
        "    data_fox_claim_w2v['similar_topics']=data_polifact.iloc[id]['topics']\n",
        "    data_fox_claim_w2v['similar_text']=data_polifact.iloc[id]['text']\n",
        "    data_fox_claim_w2v['similar_text_distilled']=data_polifact.iloc[id]['text_distilled']"
      ],
      "execution_count": null,
      "outputs": []
    },
    {
      "cell_type": "code",
      "metadata": {
        "colab": {
          "base_uri": "https://localhost:8080/",
          "height": 214
        },
        "id": "HFwAXQgVF9jg",
        "outputId": "f99838cd-cc07-4e39-f902-523c117f88c5"
      },
      "source": [
        "data_fox_claim_w2v.iloc[[7]]"
      ],
      "execution_count": null,
      "outputs": [
        {
          "output_type": "execute_result",
          "data": {
            "text/html": [
              "<div>\n",
              "<style scoped>\n",
              "    .dataframe tbody tr th:only-of-type {\n",
              "        vertical-align: middle;\n",
              "    }\n",
              "\n",
              "    .dataframe tbody tr th {\n",
              "        vertical-align: top;\n",
              "    }\n",
              "\n",
              "    .dataframe thead th {\n",
              "        text-align: right;\n",
              "    }\n",
              "</style>\n",
              "<table border=\"1\" class=\"dataframe\">\n",
              "  <thead>\n",
              "    <tr style=\"text-align: right;\">\n",
              "      <th></th>\n",
              "      <th>documentId</th>\n",
              "      <th>Unnamed: 0.1</th>\n",
              "      <th>link</th>\n",
              "      <th>published</th>\n",
              "      <th>title</th>\n",
              "      <th>text</th>\n",
              "      <th>site</th>\n",
              "      <th>text_distilled</th>\n",
              "      <th>topics</th>\n",
              "      <th>named_entity_recognition</th>\n",
              "      <th>top_10_freq_word</th>\n",
              "      <th>pasts_of_speech</th>\n",
              "      <th>most_similar</th>\n",
              "      <th>similar_claims</th>\n",
              "      <th>similar_ratings</th>\n",
              "      <th>similar_topics</th>\n",
              "      <th>similar_text</th>\n",
              "      <th>similar_text_distilled</th>\n",
              "    </tr>\n",
              "  </thead>\n",
              "  <tbody>\n",
              "    <tr>\n",
              "      <th>7</th>\n",
              "      <td>7</td>\n",
              "      <td>7</td>\n",
              "      <td>https://www.foxnews.com/politics/ex-trump-offi...</td>\n",
              "      <td>2021-04-15T22:09:32</td>\n",
              "      <td>Ex-Trump official Kellyanne Conway named senio...</td>\n",
              "      <td>Former Trump campaign manager and top White Ho...</td>\n",
              "      <td>foxnews</td>\n",
              "      <td>['ex', 'trump', 'official', 'kellyanne', 'conw...</td>\n",
              "      <td>['trump ', 'moreno']</td>\n",
              "      <td>[(Raphael, 'PERSON'), (Warnock, 'PERSON'), (re...</td>\n",
              "      <td>[('trump', 9), ('moreno', 8), ('campaign', 6),...</td>\n",
              "      <td>[('Former', 'JJ'), ('Trump', 'NNP'), ('campaig...</td>\n",
              "      <td>(0, -inf)</td>\n",
              "      <td>National,Coronavirus,Donald Trump</td>\n",
              "      <td>half-true</td>\n",
              "      <td>['birx ', 'said']</td>\n",
              "      <td>\\nFormer President Donald Trump didn’t appreci...</td>\n",
              "      <td>['say', 'deborah', 'birx', 'traveled', 'great'...</td>\n",
              "    </tr>\n",
              "  </tbody>\n",
              "</table>\n",
              "</div>"
            ],
            "text/plain": [
              "   documentId  ...                             similar_text_distilled\n",
              "7           7  ...  ['say', 'deborah', 'birx', 'traveled', 'great'...\n",
              "\n",
              "[1 rows x 18 columns]"
            ]
          },
          "metadata": {
            "tags": []
          },
          "execution_count": 158
        }
      ]
    },
    {
      "cell_type": "code",
      "metadata": {
        "colab": {
          "base_uri": "https://localhost:8080/"
        },
        "id": "X-heIJp4F9jg",
        "outputId": "f9f04ec4-8ee9-41d1-df10-b53263594ef7"
      },
      "source": [
        "print(\"claim title=\",data_fox_claim_w2v['title'][7])\n",
        "print(\"most_similar=\",data_fox_claim_w2v['most_similar'][7])\n",
        "print(\"similar_claims=\",data_fox_claim_w2v['similar_claims'][7])\n",
        "print(\"similar_ratings=\",data_fox_claim_w2v['similar_ratings'][7])\n",
        "print(\"similar_topics=\",data_fox_claim_w2v['similar_topics'][7])\n",
        "print(\"similar_text_distilled=\",data_fox_claim_w2v['similar_text_distilled'][7])\n",
        "print(\"similar_text=\",data_fox_claim_w2v['similar_text'][7])"
      ],
      "execution_count": null,
      "outputs": [
        {
          "output_type": "stream",
          "text": [
            "claim title= Ex-Trump official Kellyanne Conway named senior adviser to Ohio Senate candidate Bernie Moreno\n",
            "most_similar= (0, -inf)\n",
            "similar_claims= National,Coronavirus,Donald Trump\n",
            "similar_ratings= half-true\n",
            "similar_topics= ['birx ', 'said']\n",
            "similar_text_distilled= ['say', 'deborah', 'birx', 'traveled', 'great', 'distance', 'see', 'family', 'thanksgiving', 'call', 'police', 'turn', 'resigned', 'former', 'president', 'donald', 'trump', 'appreciate', 'comment', 'dr', 'deborah', 'birx', 'made', 'cnn', 'report', 'criticizing', 'administration', 'handling', 'coronavirus', 'birx', 'coordinator', 'white', 'house', 'coronavirus', 'task', 'force', 'said', 'trump', 'administration', 'failed', 'give', 'public', 'clear', 'consistent', 'guidance', 'laid', 'many', 'death', 'administration', 'foot', '100', '000', 'death', 'came', 'original', 'surge', 'birx', 'said', 'march', '28', 'broadcast', 'featuring', 'several', 'doctor', 'advised', 'trump', 'rest', 'mind', 'could', 'mitigated', 'decreased', 'substantially', 'date', 'u', 'death', 'toll', 'shy', '550', '000', 'trump', 'fired', 'back', 'statement', 'cast', 'birx', 'infectious', 'disease', 'chief', 'anthony', 'fauci', 'also', 'appeared', 'program', 'two', 'self', 'promoter', 'trying', 'reinvent', 'history', 'cover', 'bad', 'instinct', 'accused', 'birx', 'hypocrisy', 'forget', 'dr', 'birx', 'gave', 'huge', 'mandate', 'people', 'nation', 'travel', 'traveled', 'great', 'distance', 'see', 'family', 'thanksgiving', 'call', 'police', 'turn', 'trump', 'wrote', 'march', '29', 'embarrassingly', 'resigned', 'birx', 'travel', 'thanksgiving', 'family', 'call', 'police', 'detail', 'home', 'holiday', 'dec', '20', '2020', 'associated', 'press', 'reported', 'day', 'thanksgiving', 'birx', 'traveled', 'washington', 'vacation', 'property', 'fenwick', 'island', 'delaware', 'maryland', 'eastern', 'shore', 'group', 'included', 'husband', 'daughter', 'husband', 'two', 'grandchild', '130', 'mile', 'drive', 'take', 'two', 'hour', 'cdc', 'thanksgiving', 'guidance', 'recommended', 'celebrating', 'people', 'household', 'said', 'staying', 'home', 'best', 'way', 'protect', 'others', 'travel', 'said', 'always', 'wear', 'mask', 'public', 'setting', 'public', 'transportation', 'featured', 'fact', 'check', 'facebook', 'post', 'stated', 'march', '18', '2021', 'facebook', 'post', 'pelosi', '1', '9', 'trillion', 'bailout', 'give', 'every', 'federal', 'employee', '21', '000', 'bonus', 'check', 'never', 'lost', 'job', 'samantha', 'putterman', 'march', '19', '2021', 'birx', 'trip', 'lasted', 'two', 'day', 'time', 'appeared', 'cbs', 'news', 'face', 'nation', 'told', 'young', 'people', 'traveled', 'thanksgiving', 'need', 'assume', 'infected', 'near', 'grandparent', 'aunt', 'others', 'without', 'mask', 'really', 'asking', 'family', 'even', 'mask', 'indoors', 'chose', 'gather', 'thanksgiving', 'ap', 'asked', 'birx', 'trip', 'said', 'statement', 'office', 'delaware', 'purpose', 'celebrating', 'thanksgiving', 'winterizing', 'vacation', 'home', 'statement', 'said', 'although', 'group', 'share', 'meal', 'stay', 'time', 'public', 'message', 'stay', 'home', 'trip', 'reflected', 'badly', 'birx', 'public', 'health', 'official', 'ap', 'article', 'quoted', 'two', 'public', 'health', 'researcher', 'criticized', 'birx', 'angela', 'rasmussen', 'georgetown', 'virologist', 'said', 'disqualifies', 'future', 'government', 'health', 'position', 'two', 'day', 'ap', 'article', 'birx', 'said', 'interview', 'planned', 'retire', 'saying', 'position', 'ha', 'hard', 'family', 'dragged', 'interview', 'birx', 'said', 'welcomed', 'chance', 'help', 'incoming', 'biden', 'administration', 'take', 'rein', 'fighting', 'pandemic', 'formally', 'birx', 'held', 'position', 'ambassador', 'large', 'state', 'department', 'served', 'global', 'aid', 'coordinator', 'stepped', 'jan', '20', '2021', 'last', 'day', 'trump', 'term', 'police', 'call', 'report', 'anyone', 'birx', 'family', 'called', 'police', 'reached', 'trump', 'office', 'source', 'hear', 'back', 'ap', 'said', 'sister', 'birx', 'son', 'law', 'brought', 'matter', 'forward', 'slate', 'reported', 'sister', 'tipped', 'ap', 'estranged', 'family', 'ap', 'said', 'woman', 'acknowledged', 'family', 'friction', 'ruling', 'trump', 'said', 'birx', 'traveled', 'great', 'distance', 'see', 'family', 'thanksgiving', 'call', 'police', 'turn', 'resigned', 'birx', 'took', 'two', 'hour', 'drive', 'daughter', 'family', 'vacation', 'home', 'day', 'thanksgiving', 'sister', 'birx', 'son', 'law', 'told', 'ap', 'police', 'trip', 'birx', 'soon', 'announced', 'would', 'retire', 'stepped', 'end', 'trump', 'term', 'month', 'later', 'trump', 'invented', 'embellished', 'detail', 'broadly', 'claim', 'rate', 'half', 'true']\n",
            "similar_text= \n",
            "Former President Donald Trump didn’t appreciate the comments Dr. Deborah Birx made in a CNN report criticizing his administration’s handling of the coronavirus. \n",
            "Birx, who was coordinator of the White House coronavirus task force, said the Trump administration failed to give the public clear, consistent guidance. She laid many deaths at the administration’s feet.\n",
            "\"There were about 100,000 deaths that came from that original surge,\" Birx said in the March 28 broadcast featuring several doctors who advised Trump. \"All of the rest of them, in my mind, could have been mitigated or decreased substantially.\"\n",
            "To date, the U.S. death toll is just shy of 550,000.\n",
            "Trump fired back. In a statement, he cast Birx and infectious-disease chief Anthony Fauci, who also appeared on the program, as \"two self-promoters trying to reinvent history to cover for their bad instincts.\" He accused Birx of hypocrisy. \n",
            "\"Who can forget when Dr. Birx gave a huge mandate to the people of our nation to not travel, and then traveled a great distance to see her family for Thanksgiving — only to have them call the police and turn her in,\" Trump wrote March 29. \"She then, embarrassingly for her, resigned.\"\n",
            "Birx did travel for Thanksgiving. Her family did not call the police. \n",
            "Here are the details.\n",
            "Home for the holidays\n",
            "On Dec. 20, 2020, the Associated Press reported that the day after Thanksgiving, Birx traveled from Washington to a vacation property on Fenwick Island in Delaware, just off Maryland’s Eastern Shore. The group included her husband; a daughter and her husband; and two grandchildren. The 130-mile drive takes about two hours.\n",
            "The CDC Thanksgiving guidance recommended celebrating with \"people in your household,\" and said that \"staying home is the best way to protect yourself and others.\" If you do travel, it said, \"always wear a mask in public settings and on public transportation.\" \n",
            "\n",
            "Featured Fact-check\n",
            "\n",
            "\n",
            "\n",
            "\n",
            "\n",
            "\n",
            "\n",
            "\n",
            "\n",
            "\n",
            "\n",
            "\n",
            "\n",
            "\n",
            "\n",
            "\n",
            "Facebook posts\n",
            "\n",
            "\n",
            "stated on March 18, 2021 in a Facebook post\n",
            "\n",
            "\n",
            "\n",
            "\n",
            "\n",
            "\n",
            "\n",
            "\n",
            "“Pelosi’s $1.9 trillion bailout gives EVERY federal employee a $21,000 bonus check… they never lost their job!”\n",
            "\n",
            "\n",
            "\n",
            "\n",
            "\n",
            "\n",
            "\n",
            "\n",
            "\n",
            "\n",
            "\n",
            "\n",
            "By Samantha Putterman • March 19, 2021\n",
            "\n",
            "\n",
            "\n",
            "\n",
            "\n",
            "\n",
            "\n",
            "Birx’s trip lasted about two days. During that time, she appeared on CBS News’ \"Face the Nation,\" where she told young people who traveled for Thanksgiving, \"you need to assume that you're infected and not go near your grandparents and aunts and others without a mask. We're really asking families to even mask indoors if they chose to gather during Thanksgiving.\"\n",
            "When the AP asked Birx about the trip, she said through a statement from her office that she \"did not go to Delaware for the purpose of celebrating Thanksgiving.\" It was more for winterizing her vacation home, the statement said, although the group did share a meal during their stay.\n",
            "At a time when the public message was to stay home, the trip reflected badly on Birx as a public-health official. The AP article quoted two public health researchers who criticized Birx. Angela Rasmussen, a Georgetown virologist, said \"this disqualifies her from any future government health position.\"\n",
            "Two days after the AP article, Birx said in an interview that she planned to retire, saying her position \"has been very hard on my family,\" and that they had been dragged \"into this.\"\n",
            "In that interview, Birx said she welcomed the chance to help the incoming Biden administration take the reins in fighting the pandemic. Formally, Birx held the position of ambassador-at-large at the State Department, where she had served as global AIDS coordinator. She stepped down on Jan. 20, 2021, the last day of Trump’s term.\n",
            "No police call\n",
            "There is no report that anyone in Birx’s family called the police. We reached out to Trump’s office for their source and did not hear back.\n",
            "The AP said the sister of Birx’s son-in-law brought the matter forward. Slate reported that the sister tipped off the AP and is estranged from the family. The AP said the woman acknowledged there was \"family friction.\"\n",
            "Our ruling\n",
            "Trump said Birx \"traveled a great distance to see her family for Thanksgiving  — only to have them call the police and turn her in. She then … resigned.\"\n",
            "Birx took a two-hour drive with her daughter’s family to a vacation home the day after Thanksgiving. The sister of Birx’s son-in-law told the AP, not the police, about the trip. Birx soon announced she would retire, and she stepped down at the end of Trump’s term a month later.\n",
            "Trump invented and embellished the details, but broadly, the claim rates Half True.\n",
            " \n",
            "\n"
          ],
          "name": "stdout"
        }
      ]
    },
    {
      "cell_type": "markdown",
      "metadata": {
        "id": "nDRrc28nF9jg"
      },
      "source": [
        "### To CSV"
      ]
    },
    {
      "cell_type": "code",
      "metadata": {
        "colab": {
          "base_uri": "https://localhost:8080/",
          "height": 361
        },
        "id": "hbw8yEstF9jg",
        "outputId": "48f5df0e-735e-4e8f-8d49-95a04046f601"
      },
      "source": [
        "data_fox_claim_w2v.head(2)"
      ],
      "execution_count": null,
      "outputs": [
        {
          "output_type": "execute_result",
          "data": {
            "text/html": [
              "<div>\n",
              "<style scoped>\n",
              "    .dataframe tbody tr th:only-of-type {\n",
              "        vertical-align: middle;\n",
              "    }\n",
              "\n",
              "    .dataframe tbody tr th {\n",
              "        vertical-align: top;\n",
              "    }\n",
              "\n",
              "    .dataframe thead th {\n",
              "        text-align: right;\n",
              "    }\n",
              "</style>\n",
              "<table border=\"1\" class=\"dataframe\">\n",
              "  <thead>\n",
              "    <tr style=\"text-align: right;\">\n",
              "      <th></th>\n",
              "      <th>documentId</th>\n",
              "      <th>Unnamed: 0.1</th>\n",
              "      <th>link</th>\n",
              "      <th>published</th>\n",
              "      <th>title</th>\n",
              "      <th>text</th>\n",
              "      <th>site</th>\n",
              "      <th>text_distilled</th>\n",
              "      <th>topics</th>\n",
              "      <th>named_entity_recognition</th>\n",
              "      <th>top_10_freq_word</th>\n",
              "      <th>pasts_of_speech</th>\n",
              "      <th>most_similar</th>\n",
              "      <th>similar_claims</th>\n",
              "      <th>similar_ratings</th>\n",
              "      <th>similar_topics</th>\n",
              "      <th>similar_text</th>\n",
              "      <th>similar_text_distilled</th>\n",
              "    </tr>\n",
              "  </thead>\n",
              "  <tbody>\n",
              "    <tr>\n",
              "      <th>0</th>\n",
              "      <td>0</td>\n",
              "      <td>0</td>\n",
              "      <td>https://www.foxnews.com/us/violent-crime-los-a...</td>\n",
              "      <td>2021-04-15T22:33:38</td>\n",
              "      <td>Murders in Los Angeles up nearly 200%, violent...</td>\n",
              "      <td>Murders in Los Angeles County have spiked near...</td>\n",
              "      <td>foxnews</td>\n",
              "      <td>['murder', 'los', 'angeles', 'nearly', '200', ...</td>\n",
              "      <td>['angeles ', 'crime']</td>\n",
              "      <td>[(Raphael, 'PERSON'), (Warnock, 'PERSON'), (re...</td>\n",
              "      <td>[('los', 5), ('angeles', 5), ('crime', 5), ('f...</td>\n",
              "      <td>[('Murders', 'NNS'), ('Los', 'NNP'), ('Angeles...</td>\n",
              "      <td>(0, -inf)</td>\n",
              "      <td>National,Coronavirus,Donald Trump</td>\n",
              "      <td>half-true</td>\n",
              "      <td>['birx ', 'said']</td>\n",
              "      <td>\\nFormer President Donald Trump didn’t appreci...</td>\n",
              "      <td>['say', 'deborah', 'birx', 'traveled', 'great'...</td>\n",
              "    </tr>\n",
              "    <tr>\n",
              "      <th>1</th>\n",
              "      <td>1</td>\n",
              "      <td>1</td>\n",
              "      <td>https://www.foxnews.com/politics/raphael-warno...</td>\n",
              "      <td>2021-04-15T22:30:47</td>\n",
              "      <td>Warnock pushes gun control but paid over $100K...</td>\n",
              "      <td>Sen. Raphael Warnock has been calling for gun ...</td>\n",
              "      <td>foxnews</td>\n",
              "      <td>['warnock', 'push', 'gun', 'control', 'paid', ...</td>\n",
              "      <td>['gun ', 'warnock']</td>\n",
              "      <td>[(Raphael, 'PERSON'), (Warnock, 'PERSON'), (re...</td>\n",
              "      <td>[('warnock', 15), ('gun', 15), ('control', 9),...</td>\n",
              "      <td>[('Sen.', 'NNP'), ('Raphael', 'NNP'), ('Warnoc...</td>\n",
              "      <td>(0, -inf)</td>\n",
              "      <td>National,Coronavirus,Donald Trump</td>\n",
              "      <td>half-true</td>\n",
              "      <td>['birx ', 'said']</td>\n",
              "      <td>\\nFormer President Donald Trump didn’t appreci...</td>\n",
              "      <td>['say', 'deborah', 'birx', 'traveled', 'great'...</td>\n",
              "    </tr>\n",
              "  </tbody>\n",
              "</table>\n",
              "</div>"
            ],
            "text/plain": [
              "   documentId  ...                             similar_text_distilled\n",
              "0           0  ...  ['say', 'deborah', 'birx', 'traveled', 'great'...\n",
              "1           1  ...  ['say', 'deborah', 'birx', 'traveled', 'great'...\n",
              "\n",
              "[2 rows x 18 columns]"
            ]
          },
          "metadata": {
            "tags": []
          },
          "execution_count": 162
        }
      ]
    },
    {
      "cell_type": "code",
      "metadata": {
        "id": "BVTyFJovF9jh"
      },
      "source": [
        "#data_all_news.to_csv(file_path+'/statement_checker_all_processed.csv')\n",
        "data_fox_claim_w2v.to_csv(file_path+'/fox_claim_news_with_word2vec_similarity.csv')"
      ],
      "execution_count": null,
      "outputs": []
    },
    {
      "cell_type": "markdown",
      "metadata": {
        "id": "DW3w0sjHmPMV"
      },
      "source": [
        "# 2.Compare Similarity- Sentence BERT"
      ]
    },
    {
      "cell_type": "markdown",
      "metadata": {
        "id": "o30-zanAoGbz"
      },
      "source": [
        "## Method-1: S-BERT not working"
      ]
    },
    {
      "cell_type": "code",
      "metadata": {
        "colab": {
          "base_uri": "https://localhost:8080/"
        },
        "id": "ss-p5Kfqot0Q",
        "outputId": "4a25e857-3947-4b3e-92ec-f96581e048c3"
      },
      "source": [
        "!pip install torch==1.2.0 torchvision==0.4.0 -f"
      ],
      "execution_count": 1,
      "outputs": [
        {
          "output_type": "stream",
          "text": [
            "\n",
            "Usage:   \n",
            "  pip3 install [options] <requirement specifier> [package-index-options] ...\n",
            "  pip3 install [options] -r <requirements file> [package-index-options] ...\n",
            "  pip3 install [options] [-e] <vcs project url> ...\n",
            "  pip3 install [options] [-e] <local project path> ...\n",
            "  pip3 install [options] <archive url/path> ...\n",
            "\n",
            "-f option requires 1 argument\n"
          ],
          "name": "stdout"
        }
      ]
    },
    {
      "cell_type": "code",
      "metadata": {
        "colab": {
          "base_uri": "https://localhost:8080/"
        },
        "id": "C9YwRWABoUg-",
        "outputId": "84047350-73d2-4577-ae89-6b69777fc762"
      },
      "source": [
        "#(from versions: 0.1.0, 0.2.0, 0.2.1, 0.2.2, 0.2.3, 0.2.4, 0.2.4.1, 0.2.5, 0.2.5.1,\n",
        " #0.2.6, 0.2.6.1, 0.2.6.2, 0.3.0, 0.3.1, 0.3.2, 0.3.3, 0.3.4, 0.3.5, 0.3.5.1, 0.3.6, 0.3.7, 0.3.7.1, 0.3.7.2,\n",
        " #0.3.8, 0.3.9, 0.4.0, 0.4.1, 0.4.1.1, 0.4.1.2, 1.0.0, 1.0.1, 1.0.2, 1.0.3, 1.0.4)\n",
        "\n",
        "!pip install -U sentence-transformers==0.3.2"
      ],
      "execution_count": 15,
      "outputs": [
        {
          "output_type": "stream",
          "text": [
            "Collecting sentence-transformers\n",
            "\u001b[?25l  Downloading https://files.pythonhosted.org/packages/35/aa/f672ce489063c4ee7a566ebac1b723c53ac0cea19d9e36599cc241d8ed56/sentence-transformers-1.0.4.tar.gz (74kB)\n",
            "\r\u001b[K     |████▍                           | 10kB 19.7MB/s eta 0:00:01\r\u001b[K     |████████▊                       | 20kB 12.8MB/s eta 0:00:01\r\u001b[K     |█████████████▏                  | 30kB 9.4MB/s eta 0:00:01\r\u001b[K     |█████████████████▌              | 40kB 8.4MB/s eta 0:00:01\r\u001b[K     |█████████████████████▉          | 51kB 4.7MB/s eta 0:00:01\r\u001b[K     |██████████████████████████▎     | 61kB 4.7MB/s eta 0:00:01\r\u001b[K     |██████████████████████████████▋ | 71kB 5.3MB/s eta 0:00:01\r\u001b[K     |████████████████████████████████| 81kB 4.0MB/s \n",
            "\u001b[?25hRequirement already satisfied, skipping upgrade: transformers<5.0.0,>=3.1.0 in /usr/local/lib/python3.7/dist-packages (from sentence-transformers) (4.5.1)\n",
            "Requirement already satisfied, skipping upgrade: tqdm in /usr/local/lib/python3.7/dist-packages (from sentence-transformers) (4.41.1)\n",
            "Requirement already satisfied, skipping upgrade: torch>=1.6.0 in /usr/local/lib/python3.7/dist-packages (from sentence-transformers) (1.8.1+cu101)\n",
            "Requirement already satisfied, skipping upgrade: numpy in /usr/local/lib/python3.7/dist-packages (from sentence-transformers) (1.19.5)\n",
            "Requirement already satisfied, skipping upgrade: scikit-learn in /usr/local/lib/python3.7/dist-packages (from sentence-transformers) (0.22.2.post1)\n",
            "Requirement already satisfied, skipping upgrade: scipy in /usr/local/lib/python3.7/dist-packages (from sentence-transformers) (1.4.1)\n",
            "Requirement already satisfied, skipping upgrade: nltk in /usr/local/lib/python3.7/dist-packages (from sentence-transformers) (3.2.5)\n",
            "Collecting sentencepiece\n",
            "\u001b[?25l  Downloading https://files.pythonhosted.org/packages/f5/99/e0808cb947ba10f575839c43e8fafc9cc44e4a7a2c8f79c60db48220a577/sentencepiece-0.1.95-cp37-cp37m-manylinux2014_x86_64.whl (1.2MB)\n",
            "\u001b[K     |████████████████████████████████| 1.2MB 7.4MB/s \n",
            "\u001b[?25hRequirement already satisfied, skipping upgrade: sacremoses in /usr/local/lib/python3.7/dist-packages (from transformers<5.0.0,>=3.1.0->sentence-transformers) (0.0.45)\n",
            "Requirement already satisfied, skipping upgrade: requests in /usr/local/lib/python3.7/dist-packages (from transformers<5.0.0,>=3.1.0->sentence-transformers) (2.23.0)\n",
            "Requirement already satisfied, skipping upgrade: importlib-metadata; python_version < \"3.8\" in /usr/local/lib/python3.7/dist-packages (from transformers<5.0.0,>=3.1.0->sentence-transformers) (3.10.1)\n",
            "Requirement already satisfied, skipping upgrade: filelock in /usr/local/lib/python3.7/dist-packages (from transformers<5.0.0,>=3.1.0->sentence-transformers) (3.0.12)\n",
            "Requirement already satisfied, skipping upgrade: tokenizers<0.11,>=0.10.1 in /usr/local/lib/python3.7/dist-packages (from transformers<5.0.0,>=3.1.0->sentence-transformers) (0.10.2)\n",
            "Requirement already satisfied, skipping upgrade: regex!=2019.12.17 in /usr/local/lib/python3.7/dist-packages (from transformers<5.0.0,>=3.1.0->sentence-transformers) (2019.12.20)\n",
            "Requirement already satisfied, skipping upgrade: packaging in /usr/local/lib/python3.7/dist-packages (from transformers<5.0.0,>=3.1.0->sentence-transformers) (20.9)\n",
            "Requirement already satisfied, skipping upgrade: typing-extensions in /usr/local/lib/python3.7/dist-packages (from torch>=1.6.0->sentence-transformers) (3.7.4.3)\n",
            "Requirement already satisfied, skipping upgrade: joblib>=0.11 in /usr/local/lib/python3.7/dist-packages (from scikit-learn->sentence-transformers) (1.0.1)\n",
            "Requirement already satisfied, skipping upgrade: six in /usr/local/lib/python3.7/dist-packages (from nltk->sentence-transformers) (1.15.0)\n",
            "Requirement already satisfied, skipping upgrade: click in /usr/local/lib/python3.7/dist-packages (from sacremoses->transformers<5.0.0,>=3.1.0->sentence-transformers) (7.1.2)\n",
            "Requirement already satisfied, skipping upgrade: chardet<4,>=3.0.2 in /usr/local/lib/python3.7/dist-packages (from requests->transformers<5.0.0,>=3.1.0->sentence-transformers) (3.0.4)\n",
            "Requirement already satisfied, skipping upgrade: urllib3!=1.25.0,!=1.25.1,<1.26,>=1.21.1 in /usr/local/lib/python3.7/dist-packages (from requests->transformers<5.0.0,>=3.1.0->sentence-transformers) (1.24.3)\n",
            "Requirement already satisfied, skipping upgrade: certifi>=2017.4.17 in /usr/local/lib/python3.7/dist-packages (from requests->transformers<5.0.0,>=3.1.0->sentence-transformers) (2020.12.5)\n",
            "Requirement already satisfied, skipping upgrade: idna<3,>=2.5 in /usr/local/lib/python3.7/dist-packages (from requests->transformers<5.0.0,>=3.1.0->sentence-transformers) (2.10)\n",
            "Requirement already satisfied, skipping upgrade: zipp>=0.5 in /usr/local/lib/python3.7/dist-packages (from importlib-metadata; python_version < \"3.8\"->transformers<5.0.0,>=3.1.0->sentence-transformers) (3.4.1)\n",
            "Requirement already satisfied, skipping upgrade: pyparsing>=2.0.2 in /usr/local/lib/python3.7/dist-packages (from packaging->transformers<5.0.0,>=3.1.0->sentence-transformers) (2.4.7)\n",
            "Building wheels for collected packages: sentence-transformers\n",
            "  Building wheel for sentence-transformers (setup.py) ... \u001b[?25l\u001b[?25hdone\n",
            "  Created wheel for sentence-transformers: filename=sentence_transformers-1.0.4-cp37-none-any.whl size=114307 sha256=d147f39da27298a80d30d218db97b37674796a0bda125e5edf987421479a5e46\n",
            "  Stored in directory: /root/.cache/pip/wheels/26/ea/89/d0d2e013d951b6d23270aa9ca4018b82632ab7cd933c331316\n",
            "Successfully built sentence-transformers\n",
            "Installing collected packages: sentencepiece, sentence-transformers\n",
            "Successfully installed sentence-transformers-1.0.4 sentencepiece-0.1.95\n"
          ],
          "name": "stdout"
        }
      ]
    },
    {
      "cell_type": "code",
      "metadata": {
        "id": "pb22kwD9qZE8",
        "colab": {
          "base_uri": "https://localhost:8080/",
          "height": 302
        },
        "outputId": "0191ce3f-3050-47a8-d51c-2dfec15b84c1"
      },
      "source": [
        "from sentence_transformers import SentenceTransformer"
      ],
      "execution_count": 16,
      "outputs": [
        {
          "output_type": "error",
          "ename": "NameError",
          "evalue": "ignored",
          "traceback": [
            "\u001b[0;31m---------------------------------------------------------------------------\u001b[0m",
            "\u001b[0;31mNameError\u001b[0m                                 Traceback (most recent call last)",
            "\u001b[0;32m<ipython-input-16-dbcd88385343>\u001b[0m in \u001b[0;36m<module>\u001b[0;34m()\u001b[0m\n\u001b[0;32m----> 1\u001b[0;31m \u001b[0;32mfrom\u001b[0m \u001b[0msentence_transformers\u001b[0m \u001b[0;32mimport\u001b[0m \u001b[0mSentenceTransformer\u001b[0m\u001b[0;34m\u001b[0m\u001b[0;34m\u001b[0m\u001b[0m\n\u001b[0m",
            "\u001b[0;32m/usr/local/lib/python3.7/dist-packages/sentence_transformers/__init__.py\u001b[0m in \u001b[0;36m<module>\u001b[0;34m()\u001b[0m\n\u001b[1;32m      1\u001b[0m \u001b[0m__version__\u001b[0m \u001b[0;34m=\u001b[0m \u001b[0;34m\"1.0.4\"\u001b[0m\u001b[0;34m\u001b[0m\u001b[0;34m\u001b[0m\u001b[0m\n\u001b[1;32m      2\u001b[0m \u001b[0m__DOWNLOAD_SERVER__\u001b[0m \u001b[0;34m=\u001b[0m \u001b[0;34m'http://sbert.net/models/'\u001b[0m\u001b[0;34m\u001b[0m\u001b[0;34m\u001b[0m\u001b[0m\n\u001b[0;32m----> 3\u001b[0;31m \u001b[0;32mfrom\u001b[0m \u001b[0;34m.\u001b[0m\u001b[0mdatasets\u001b[0m \u001b[0;32mimport\u001b[0m \u001b[0mSentencesDataset\u001b[0m\u001b[0;34m,\u001b[0m \u001b[0mParallelSentencesDataset\u001b[0m\u001b[0;34m\u001b[0m\u001b[0;34m\u001b[0m\u001b[0m\n\u001b[0m\u001b[1;32m      4\u001b[0m \u001b[0;32mfrom\u001b[0m \u001b[0;34m.\u001b[0m\u001b[0mLoggingHandler\u001b[0m \u001b[0;32mimport\u001b[0m \u001b[0mLoggingHandler\u001b[0m\u001b[0;34m\u001b[0m\u001b[0;34m\u001b[0m\u001b[0m\n\u001b[1;32m      5\u001b[0m \u001b[0;32mfrom\u001b[0m \u001b[0;34m.\u001b[0m\u001b[0mSentenceTransformer\u001b[0m \u001b[0;32mimport\u001b[0m \u001b[0mSentenceTransformer\u001b[0m\u001b[0;34m\u001b[0m\u001b[0;34m\u001b[0m\u001b[0m\n",
            "\u001b[0;32m/usr/local/lib/python3.7/dist-packages/sentence_transformers/datasets/__init__.py\u001b[0m in \u001b[0;36m<module>\u001b[0;34m()\u001b[0m\n\u001b[0;32m----> 1\u001b[0;31m \u001b[0;32mfrom\u001b[0m \u001b[0;34m.\u001b[0m\u001b[0mParallelSentencesDataset\u001b[0m \u001b[0;32mimport\u001b[0m \u001b[0mParallelSentencesDataset\u001b[0m\u001b[0;34m\u001b[0m\u001b[0;34m\u001b[0m\u001b[0m\n\u001b[0m\u001b[1;32m      2\u001b[0m \u001b[0;32mfrom\u001b[0m \u001b[0;34m.\u001b[0m\u001b[0mSentencesDataset\u001b[0m \u001b[0;32mimport\u001b[0m \u001b[0mSentencesDataset\u001b[0m\u001b[0;34m\u001b[0m\u001b[0;34m\u001b[0m\u001b[0m\n\u001b[1;32m      3\u001b[0m \u001b[0;32mfrom\u001b[0m \u001b[0;34m.\u001b[0m\u001b[0mSentenceLabelDataset\u001b[0m \u001b[0;32mimport\u001b[0m \u001b[0mSentenceLabelDataset\u001b[0m\u001b[0;34m\u001b[0m\u001b[0;34m\u001b[0m\u001b[0m\n",
            "\u001b[0;32m/usr/local/lib/python3.7/dist-packages/sentence_transformers/datasets/ParallelSentencesDataset.py\u001b[0m in \u001b[0;36m<module>\u001b[0;34m()\u001b[0m\n\u001b[1;32m      2\u001b[0m \u001b[0;32mimport\u001b[0m \u001b[0mlogging\u001b[0m\u001b[0;34m\u001b[0m\u001b[0;34m\u001b[0m\u001b[0m\n\u001b[1;32m      3\u001b[0m \u001b[0;32mimport\u001b[0m \u001b[0mgzip\u001b[0m\u001b[0;34m\u001b[0m\u001b[0;34m\u001b[0m\u001b[0m\n\u001b[0;32m----> 4\u001b[0;31m \u001b[0;32mfrom\u001b[0m \u001b[0;34m.\u001b[0m\u001b[0;34m.\u001b[0m \u001b[0;32mimport\u001b[0m \u001b[0mSentenceTransformer\u001b[0m\u001b[0;34m\u001b[0m\u001b[0;34m\u001b[0m\u001b[0m\n\u001b[0m\u001b[1;32m      5\u001b[0m \u001b[0;32mfrom\u001b[0m \u001b[0;34m.\u001b[0m\u001b[0;34m.\u001b[0m\u001b[0mreaders\u001b[0m \u001b[0;32mimport\u001b[0m \u001b[0mInputExample\u001b[0m\u001b[0;34m\u001b[0m\u001b[0;34m\u001b[0m\u001b[0m\n\u001b[1;32m      6\u001b[0m \u001b[0;32mfrom\u001b[0m \u001b[0mtyping\u001b[0m \u001b[0;32mimport\u001b[0m \u001b[0mList\u001b[0m\u001b[0;34m\u001b[0m\u001b[0;34m\u001b[0m\u001b[0m\n",
            "\u001b[0;32m/usr/local/lib/python3.7/dist-packages/sentence_transformers/SentenceTransformer.py\u001b[0m in \u001b[0;36m<module>\u001b[0;34m()\u001b[0m\n\u001b[1;32m     22\u001b[0m \u001b[0;32mfrom\u001b[0m \u001b[0;34m.\u001b[0m\u001b[0mevaluation\u001b[0m \u001b[0;32mimport\u001b[0m \u001b[0mSentenceEvaluator\u001b[0m\u001b[0;34m\u001b[0m\u001b[0;34m\u001b[0m\u001b[0m\n\u001b[1;32m     23\u001b[0m \u001b[0;32mfrom\u001b[0m \u001b[0;34m.\u001b[0m\u001b[0mutil\u001b[0m \u001b[0;32mimport\u001b[0m \u001b[0mimport_from_string\u001b[0m\u001b[0;34m,\u001b[0m \u001b[0mbatch_to_device\u001b[0m\u001b[0;34m,\u001b[0m \u001b[0mhttp_get\u001b[0m\u001b[0;34m\u001b[0m\u001b[0;34m\u001b[0m\u001b[0m\n\u001b[0;32m---> 24\u001b[0;31m \u001b[0;32mfrom\u001b[0m \u001b[0;34m.\u001b[0m\u001b[0mmodels\u001b[0m \u001b[0;32mimport\u001b[0m \u001b[0mTransformer\u001b[0m\u001b[0;34m,\u001b[0m \u001b[0mPooling\u001b[0m\u001b[0;34m\u001b[0m\u001b[0;34m\u001b[0m\u001b[0m\n\u001b[0m\u001b[1;32m     25\u001b[0m \u001b[0;32mfrom\u001b[0m \u001b[0;34m.\u001b[0m \u001b[0;32mimport\u001b[0m \u001b[0m__version__\u001b[0m\u001b[0;34m\u001b[0m\u001b[0;34m\u001b[0m\u001b[0m\n\u001b[1;32m     26\u001b[0m \u001b[0;34m\u001b[0m\u001b[0m\n",
            "\u001b[0;32m/usr/local/lib/python3.7/dist-packages/sentence_transformers/models/__init__.py\u001b[0m in \u001b[0;36m<module>\u001b[0;34m()\u001b[0m\n\u001b[0;32m----> 1\u001b[0;31m \u001b[0;32mfrom\u001b[0m \u001b[0;34m.\u001b[0m\u001b[0mTransformer\u001b[0m \u001b[0;32mimport\u001b[0m \u001b[0mTransformer\u001b[0m\u001b[0;34m\u001b[0m\u001b[0;34m\u001b[0m\u001b[0m\n\u001b[0m\u001b[1;32m      2\u001b[0m \u001b[0;32mfrom\u001b[0m \u001b[0;34m.\u001b[0m\u001b[0mAsym\u001b[0m \u001b[0;32mimport\u001b[0m \u001b[0mAsym\u001b[0m\u001b[0;34m\u001b[0m\u001b[0;34m\u001b[0m\u001b[0m\n\u001b[1;32m      3\u001b[0m \u001b[0;32mfrom\u001b[0m \u001b[0;34m.\u001b[0m\u001b[0mBoW\u001b[0m \u001b[0;32mimport\u001b[0m \u001b[0mBoW\u001b[0m\u001b[0;34m\u001b[0m\u001b[0;34m\u001b[0m\u001b[0m\n\u001b[1;32m      4\u001b[0m \u001b[0;32mfrom\u001b[0m \u001b[0;34m.\u001b[0m\u001b[0mCNN\u001b[0m \u001b[0;32mimport\u001b[0m \u001b[0mCNN\u001b[0m\u001b[0;34m\u001b[0m\u001b[0;34m\u001b[0m\u001b[0m\n\u001b[1;32m      5\u001b[0m \u001b[0;32mfrom\u001b[0m \u001b[0;34m.\u001b[0m\u001b[0mDense\u001b[0m \u001b[0;32mimport\u001b[0m \u001b[0mDense\u001b[0m\u001b[0;34m\u001b[0m\u001b[0;34m\u001b[0m\u001b[0m\n",
            "\u001b[0;32m/usr/local/lib/python3.7/dist-packages/sentence_transformers/models/Transformer.py\u001b[0m in \u001b[0;36m<module>\u001b[0;34m()\u001b[0m\n\u001b[1;32m      1\u001b[0m \u001b[0;32mfrom\u001b[0m \u001b[0mtorch\u001b[0m \u001b[0;32mimport\u001b[0m \u001b[0mnn\u001b[0m\u001b[0;34m\u001b[0m\u001b[0;34m\u001b[0m\u001b[0m\n\u001b[0;32m----> 2\u001b[0;31m \u001b[0;32mfrom\u001b[0m \u001b[0mtransformers\u001b[0m \u001b[0;32mimport\u001b[0m \u001b[0mAutoModel\u001b[0m\u001b[0;34m,\u001b[0m \u001b[0mAutoTokenizer\u001b[0m\u001b[0;34m,\u001b[0m \u001b[0mAutoConfig\u001b[0m\u001b[0;34m\u001b[0m\u001b[0;34m\u001b[0m\u001b[0m\n\u001b[0m\u001b[1;32m      3\u001b[0m \u001b[0;32mimport\u001b[0m \u001b[0mjson\u001b[0m\u001b[0;34m\u001b[0m\u001b[0;34m\u001b[0m\u001b[0m\n\u001b[1;32m      4\u001b[0m \u001b[0;32mfrom\u001b[0m \u001b[0mtyping\u001b[0m \u001b[0;32mimport\u001b[0m \u001b[0mList\u001b[0m\u001b[0;34m,\u001b[0m \u001b[0mDict\u001b[0m\u001b[0;34m,\u001b[0m \u001b[0mOptional\u001b[0m\u001b[0;34m,\u001b[0m \u001b[0mUnion\u001b[0m\u001b[0;34m,\u001b[0m \u001b[0mTuple\u001b[0m\u001b[0;34m\u001b[0m\u001b[0;34m\u001b[0m\u001b[0m\n\u001b[1;32m      5\u001b[0m \u001b[0;32mimport\u001b[0m \u001b[0mos\u001b[0m\u001b[0;34m\u001b[0m\u001b[0;34m\u001b[0m\u001b[0m\n",
            "\u001b[0;32m/usr/lib/python3.7/importlib/_bootstrap.py\u001b[0m in \u001b[0;36m_handle_fromlist\u001b[0;34m(module, fromlist, import_, recursive)\u001b[0m\n",
            "\u001b[0;32m/usr/local/lib/python3.7/dist-packages/transformers/__init__.py\u001b[0m in \u001b[0;36m__getattr__\u001b[0;34m(self, name)\u001b[0m\n\u001b[1;32m   2485\u001b[0m             \u001b[0;32mif\u001b[0m \u001b[0mname\u001b[0m \u001b[0;34m==\u001b[0m \u001b[0;34m\"__version__\"\u001b[0m\u001b[0;34m:\u001b[0m\u001b[0;34m\u001b[0m\u001b[0;34m\u001b[0m\u001b[0m\n\u001b[1;32m   2486\u001b[0m                 \u001b[0;32mreturn\u001b[0m \u001b[0m__version__\u001b[0m\u001b[0;34m\u001b[0m\u001b[0;34m\u001b[0m\u001b[0m\n\u001b[0;32m-> 2487\u001b[0;31m             \u001b[0;32mreturn\u001b[0m \u001b[0msuper\u001b[0m\u001b[0;34m(\u001b[0m\u001b[0;34m)\u001b[0m\u001b[0;34m.\u001b[0m\u001b[0m__getattr__\u001b[0m\u001b[0;34m(\u001b[0m\u001b[0mname\u001b[0m\u001b[0;34m)\u001b[0m\u001b[0;34m\u001b[0m\u001b[0;34m\u001b[0m\u001b[0m\n\u001b[0m\u001b[1;32m   2488\u001b[0m \u001b[0;34m\u001b[0m\u001b[0m\n\u001b[1;32m   2489\u001b[0m     \u001b[0msys\u001b[0m\u001b[0;34m.\u001b[0m\u001b[0mmodules\u001b[0m\u001b[0;34m[\u001b[0m\u001b[0m__name__\u001b[0m\u001b[0;34m]\u001b[0m \u001b[0;34m=\u001b[0m \u001b[0m_LazyModule\u001b[0m\u001b[0;34m(\u001b[0m\u001b[0m__name__\u001b[0m\u001b[0;34m,\u001b[0m \u001b[0m_import_structure\u001b[0m\u001b[0;34m)\u001b[0m\u001b[0;34m\u001b[0m\u001b[0;34m\u001b[0m\u001b[0m\n",
            "\u001b[0;32m/usr/local/lib/python3.7/dist-packages/transformers/file_utils.py\u001b[0m in \u001b[0;36m__getattr__\u001b[0;34m(self, name)\u001b[0m\n\u001b[1;32m   1698\u001b[0m         \u001b[0;32melif\u001b[0m \u001b[0mname\u001b[0m \u001b[0;32min\u001b[0m \u001b[0mself\u001b[0m\u001b[0;34m.\u001b[0m\u001b[0m_class_to_module\u001b[0m\u001b[0;34m.\u001b[0m\u001b[0mkeys\u001b[0m\u001b[0;34m(\u001b[0m\u001b[0;34m)\u001b[0m\u001b[0;34m:\u001b[0m\u001b[0;34m\u001b[0m\u001b[0;34m\u001b[0m\u001b[0m\n\u001b[1;32m   1699\u001b[0m             \u001b[0mmodule\u001b[0m \u001b[0;34m=\u001b[0m \u001b[0mself\u001b[0m\u001b[0;34m.\u001b[0m\u001b[0m_get_module\u001b[0m\u001b[0;34m(\u001b[0m\u001b[0mself\u001b[0m\u001b[0;34m.\u001b[0m\u001b[0m_class_to_module\u001b[0m\u001b[0;34m[\u001b[0m\u001b[0mname\u001b[0m\u001b[0;34m]\u001b[0m\u001b[0;34m)\u001b[0m\u001b[0;34m\u001b[0m\u001b[0;34m\u001b[0m\u001b[0m\n\u001b[0;32m-> 1700\u001b[0;31m             \u001b[0mvalue\u001b[0m \u001b[0;34m=\u001b[0m \u001b[0mgetattr\u001b[0m\u001b[0;34m(\u001b[0m\u001b[0mmodule\u001b[0m\u001b[0;34m,\u001b[0m \u001b[0mname\u001b[0m\u001b[0;34m)\u001b[0m\u001b[0;34m\u001b[0m\u001b[0;34m\u001b[0m\u001b[0m\n\u001b[0m\u001b[1;32m   1701\u001b[0m         \u001b[0;32melse\u001b[0m\u001b[0;34m:\u001b[0m\u001b[0;34m\u001b[0m\u001b[0;34m\u001b[0m\u001b[0m\n\u001b[1;32m   1702\u001b[0m             \u001b[0;32mraise\u001b[0m \u001b[0mAttributeError\u001b[0m\u001b[0;34m(\u001b[0m\u001b[0;34mf\"module {self.__name__} has no attribute {name}\"\u001b[0m\u001b[0;34m)\u001b[0m\u001b[0;34m\u001b[0m\u001b[0;34m\u001b[0m\u001b[0m\n",
            "\u001b[0;32m/usr/local/lib/python3.7/dist-packages/transformers/file_utils.py\u001b[0m in \u001b[0;36m__getattr__\u001b[0;34m(self, name)\u001b[0m\n\u001b[1;32m   1697\u001b[0m             \u001b[0mvalue\u001b[0m \u001b[0;34m=\u001b[0m \u001b[0mself\u001b[0m\u001b[0;34m.\u001b[0m\u001b[0m_get_module\u001b[0m\u001b[0;34m(\u001b[0m\u001b[0mname\u001b[0m\u001b[0;34m)\u001b[0m\u001b[0;34m\u001b[0m\u001b[0;34m\u001b[0m\u001b[0m\n\u001b[1;32m   1698\u001b[0m         \u001b[0;32melif\u001b[0m \u001b[0mname\u001b[0m \u001b[0;32min\u001b[0m \u001b[0mself\u001b[0m\u001b[0;34m.\u001b[0m\u001b[0m_class_to_module\u001b[0m\u001b[0;34m.\u001b[0m\u001b[0mkeys\u001b[0m\u001b[0;34m(\u001b[0m\u001b[0;34m)\u001b[0m\u001b[0;34m:\u001b[0m\u001b[0;34m\u001b[0m\u001b[0;34m\u001b[0m\u001b[0m\n\u001b[0;32m-> 1699\u001b[0;31m             \u001b[0mmodule\u001b[0m \u001b[0;34m=\u001b[0m \u001b[0mself\u001b[0m\u001b[0;34m.\u001b[0m\u001b[0m_get_module\u001b[0m\u001b[0;34m(\u001b[0m\u001b[0mself\u001b[0m\u001b[0;34m.\u001b[0m\u001b[0m_class_to_module\u001b[0m\u001b[0;34m[\u001b[0m\u001b[0mname\u001b[0m\u001b[0;34m]\u001b[0m\u001b[0;34m)\u001b[0m\u001b[0;34m\u001b[0m\u001b[0;34m\u001b[0m\u001b[0m\n\u001b[0m\u001b[1;32m   1700\u001b[0m             \u001b[0mvalue\u001b[0m \u001b[0;34m=\u001b[0m \u001b[0mgetattr\u001b[0m\u001b[0;34m(\u001b[0m\u001b[0mmodule\u001b[0m\u001b[0;34m,\u001b[0m \u001b[0mname\u001b[0m\u001b[0;34m)\u001b[0m\u001b[0;34m\u001b[0m\u001b[0;34m\u001b[0m\u001b[0m\n\u001b[1;32m   1701\u001b[0m         \u001b[0;32melse\u001b[0m\u001b[0;34m:\u001b[0m\u001b[0;34m\u001b[0m\u001b[0;34m\u001b[0m\u001b[0m\n",
            "\u001b[0;32m/usr/local/lib/python3.7/dist-packages/transformers/models/auto/__init__.py\u001b[0m in \u001b[0;36m_get_module\u001b[0;34m(self, module_name)\u001b[0m\n\u001b[1;32m    196\u001b[0m \u001b[0;34m\u001b[0m\u001b[0m\n\u001b[1;32m    197\u001b[0m         \u001b[0;32mdef\u001b[0m \u001b[0m_get_module\u001b[0m\u001b[0;34m(\u001b[0m\u001b[0mself\u001b[0m\u001b[0;34m,\u001b[0m \u001b[0mmodule_name\u001b[0m\u001b[0;34m:\u001b[0m \u001b[0mstr\u001b[0m\u001b[0;34m)\u001b[0m\u001b[0;34m:\u001b[0m\u001b[0;34m\u001b[0m\u001b[0;34m\u001b[0m\u001b[0m\n\u001b[0;32m--> 198\u001b[0;31m             \u001b[0;32mreturn\u001b[0m \u001b[0mimportlib\u001b[0m\u001b[0;34m.\u001b[0m\u001b[0mimport_module\u001b[0m\u001b[0;34m(\u001b[0m\u001b[0;34m\".\"\u001b[0m \u001b[0;34m+\u001b[0m \u001b[0mmodule_name\u001b[0m\u001b[0;34m,\u001b[0m \u001b[0mself\u001b[0m\u001b[0;34m.\u001b[0m\u001b[0m__name__\u001b[0m\u001b[0;34m)\u001b[0m\u001b[0;34m\u001b[0m\u001b[0;34m\u001b[0m\u001b[0m\n\u001b[0m\u001b[1;32m    199\u001b[0m \u001b[0;34m\u001b[0m\u001b[0m\n\u001b[1;32m    200\u001b[0m     \u001b[0msys\u001b[0m\u001b[0;34m.\u001b[0m\u001b[0mmodules\u001b[0m\u001b[0;34m[\u001b[0m\u001b[0m__name__\u001b[0m\u001b[0;34m]\u001b[0m \u001b[0;34m=\u001b[0m \u001b[0m_LazyModule\u001b[0m\u001b[0;34m(\u001b[0m\u001b[0m__name__\u001b[0m\u001b[0;34m,\u001b[0m \u001b[0m_import_structure\u001b[0m\u001b[0;34m)\u001b[0m\u001b[0;34m\u001b[0m\u001b[0;34m\u001b[0m\u001b[0m\n",
            "\u001b[0;32m/usr/lib/python3.7/importlib/__init__.py\u001b[0m in \u001b[0;36mimport_module\u001b[0;34m(name, package)\u001b[0m\n\u001b[1;32m    125\u001b[0m                 \u001b[0;32mbreak\u001b[0m\u001b[0;34m\u001b[0m\u001b[0;34m\u001b[0m\u001b[0m\n\u001b[1;32m    126\u001b[0m             \u001b[0mlevel\u001b[0m \u001b[0;34m+=\u001b[0m \u001b[0;36m1\u001b[0m\u001b[0;34m\u001b[0m\u001b[0;34m\u001b[0m\u001b[0m\n\u001b[0;32m--> 127\u001b[0;31m     \u001b[0;32mreturn\u001b[0m \u001b[0m_bootstrap\u001b[0m\u001b[0;34m.\u001b[0m\u001b[0m_gcd_import\u001b[0m\u001b[0;34m(\u001b[0m\u001b[0mname\u001b[0m\u001b[0;34m[\u001b[0m\u001b[0mlevel\u001b[0m\u001b[0;34m:\u001b[0m\u001b[0;34m]\u001b[0m\u001b[0;34m,\u001b[0m \u001b[0mpackage\u001b[0m\u001b[0;34m,\u001b[0m \u001b[0mlevel\u001b[0m\u001b[0;34m)\u001b[0m\u001b[0;34m\u001b[0m\u001b[0;34m\u001b[0m\u001b[0m\n\u001b[0m\u001b[1;32m    128\u001b[0m \u001b[0;34m\u001b[0m\u001b[0m\n\u001b[1;32m    129\u001b[0m \u001b[0;34m\u001b[0m\u001b[0m\n",
            "\u001b[0;32m/usr/local/lib/python3.7/dist-packages/transformers/models/auto/tokenization_auto.py\u001b[0m in \u001b[0;36m<module>\u001b[0;34m()\u001b[0m\n\u001b[1;32m    121\u001b[0m     \u001b[0;32mfrom\u001b[0m \u001b[0;34m.\u001b[0m\u001b[0;34m.\u001b[0m\u001b[0mmbart\u001b[0m\u001b[0;34m.\u001b[0m\u001b[0mtokenization_mbart\u001b[0m \u001b[0;32mimport\u001b[0m \u001b[0mMBartTokenizer\u001b[0m\u001b[0;34m\u001b[0m\u001b[0;34m\u001b[0m\u001b[0m\n\u001b[1;32m    122\u001b[0m     \u001b[0;32mfrom\u001b[0m \u001b[0;34m.\u001b[0m\u001b[0;34m.\u001b[0m\u001b[0mmbart\u001b[0m\u001b[0;34m.\u001b[0m\u001b[0mtokenization_mbart50\u001b[0m \u001b[0;32mimport\u001b[0m \u001b[0mMBart50Tokenizer\u001b[0m\u001b[0;34m\u001b[0m\u001b[0;34m\u001b[0m\u001b[0m\n\u001b[0;32m--> 123\u001b[0;31m     \u001b[0;32mfrom\u001b[0m \u001b[0;34m.\u001b[0m\u001b[0;34m.\u001b[0m\u001b[0mmt5\u001b[0m \u001b[0;32mimport\u001b[0m \u001b[0mMT5Tokenizer\u001b[0m\u001b[0;34m\u001b[0m\u001b[0;34m\u001b[0m\u001b[0m\n\u001b[0m\u001b[1;32m    124\u001b[0m     \u001b[0;32mfrom\u001b[0m \u001b[0;34m.\u001b[0m\u001b[0;34m.\u001b[0m\u001b[0mpegasus\u001b[0m\u001b[0;34m.\u001b[0m\u001b[0mtokenization_pegasus\u001b[0m \u001b[0;32mimport\u001b[0m \u001b[0mPegasusTokenizer\u001b[0m\u001b[0;34m\u001b[0m\u001b[0;34m\u001b[0m\u001b[0m\n\u001b[1;32m    125\u001b[0m     \u001b[0;32mfrom\u001b[0m \u001b[0;34m.\u001b[0m\u001b[0;34m.\u001b[0m\u001b[0mreformer\u001b[0m\u001b[0;34m.\u001b[0m\u001b[0mtokenization_reformer\u001b[0m \u001b[0;32mimport\u001b[0m \u001b[0mReformerTokenizer\u001b[0m\u001b[0;34m\u001b[0m\u001b[0;34m\u001b[0m\u001b[0m\n",
            "\u001b[0;32m/usr/lib/python3.7/importlib/_bootstrap.py\u001b[0m in \u001b[0;36m_handle_fromlist\u001b[0;34m(module, fromlist, import_, recursive)\u001b[0m\n",
            "\u001b[0;32m/usr/local/lib/python3.7/dist-packages/transformers/models/mt5/__init__.py\u001b[0m in \u001b[0;36m__getattr__\u001b[0;34m(self, name)\u001b[0m\n\u001b[1;32m     92\u001b[0m         \u001b[0;32mdef\u001b[0m \u001b[0m__getattr__\u001b[0m\u001b[0;34m(\u001b[0m\u001b[0mself\u001b[0m\u001b[0;34m,\u001b[0m \u001b[0mname\u001b[0m\u001b[0;34m)\u001b[0m\u001b[0;34m:\u001b[0m\u001b[0;34m\u001b[0m\u001b[0;34m\u001b[0m\u001b[0m\n\u001b[1;32m     93\u001b[0m             \u001b[0;32mif\u001b[0m \u001b[0mname\u001b[0m \u001b[0;34m==\u001b[0m \u001b[0;34m\"MT5Tokenizer\"\u001b[0m\u001b[0;34m:\u001b[0m\u001b[0;34m\u001b[0m\u001b[0;34m\u001b[0m\u001b[0m\n\u001b[0;32m---> 94\u001b[0;31m                 \u001b[0;32mreturn\u001b[0m \u001b[0mMT5Tokenizer\u001b[0m\u001b[0;34m\u001b[0m\u001b[0;34m\u001b[0m\u001b[0m\n\u001b[0m\u001b[1;32m     95\u001b[0m             \u001b[0;32melif\u001b[0m \u001b[0mname\u001b[0m \u001b[0;34m==\u001b[0m \u001b[0;34m\"MT5TokenizerFast\"\u001b[0m\u001b[0;34m:\u001b[0m\u001b[0;34m\u001b[0m\u001b[0;34m\u001b[0m\u001b[0m\n\u001b[1;32m     96\u001b[0m                 \u001b[0;32mreturn\u001b[0m \u001b[0mMT5TokenizerFast\u001b[0m\u001b[0;34m\u001b[0m\u001b[0;34m\u001b[0m\u001b[0m\n",
            "\u001b[0;31mNameError\u001b[0m: name 'MT5Tokenizer' is not defined"
          ]
        }
      ]
    },
    {
      "cell_type": "code",
      "metadata": {
        "colab": {
          "base_uri": "https://localhost:8080/",
          "height": 540
        },
        "id": "cCdxlMVUob4H",
        "outputId": "d49b5d30-e7ee-46cb-c98f-f33a4b94c75e"
      },
      "source": [
        "\n",
        "#model = SentenceTransformer('paraphrase-distilroberta-base-v1')\n",
        "model = SentenceTransformer('xlm-r-100langs-bert-base-nli-stsb-mean-tokens')\n",
        "\n",
        "#Our sentences we like to encode\n",
        "sentences = ['This framework generates embeddings for each input sentence',\n",
        "    'Sentences are passed as a list of string.',\n",
        "    'The quick brown fox jumps over the lazy dog.']\n",
        "\n",
        "#Sentences are encoded by calling model.encode()\n",
        "embeddings = model.encode(sentences)\n",
        "\n",
        "#Print the embeddings\n",
        "for sentence, embedding in zip(sentences, embeddings):\n",
        "    print(\"Sentence:\", sentence)\n",
        "    print(\"Embedding:\", embedding)\n",
        "    print(\"\")"
      ],
      "execution_count": 4,
      "outputs": [
        {
          "output_type": "stream",
          "text": [
            "100%|██████████| 1.01G/1.01G [00:55<00:00, 18.3MB/s]\n",
            "WARNING:root:You try to use a model that was created with version 0.3.3, however, your version is 0.3.2. This might cause unexpected behavior or errors. In that case, try to update to the latest version.\n",
            "\n",
            "\n",
            "\n"
          ],
          "name": "stderr"
        },
        {
          "output_type": "error",
          "ename": "ValueError",
          "evalue": "ignored",
          "traceback": [
            "\u001b[0;31m---------------------------------------------------------------------------\u001b[0m",
            "\u001b[0;31mValueError\u001b[0m                                Traceback (most recent call last)",
            "\u001b[0;32m<ipython-input-4-97bf24325c39>\u001b[0m in \u001b[0;36m<module>\u001b[0;34m()\u001b[0m\n\u001b[1;32m      1\u001b[0m \u001b[0;34m\u001b[0m\u001b[0m\n\u001b[1;32m      2\u001b[0m \u001b[0;31m#model = SentenceTransformer('paraphrase-distilroberta-base-v1')\u001b[0m\u001b[0;34m\u001b[0m\u001b[0;34m\u001b[0m\u001b[0;34m\u001b[0m\u001b[0m\n\u001b[0;32m----> 3\u001b[0;31m \u001b[0mmodel\u001b[0m \u001b[0;34m=\u001b[0m \u001b[0mSentenceTransformer\u001b[0m\u001b[0;34m(\u001b[0m\u001b[0;34m'xlm-r-100langs-bert-base-nli-stsb-mean-tokens'\u001b[0m\u001b[0;34m)\u001b[0m\u001b[0;34m\u001b[0m\u001b[0;34m\u001b[0m\u001b[0m\n\u001b[0m\u001b[1;32m      4\u001b[0m \u001b[0;34m\u001b[0m\u001b[0m\n\u001b[1;32m      5\u001b[0m \u001b[0;31m#Our sentences we like to encode\u001b[0m\u001b[0;34m\u001b[0m\u001b[0;34m\u001b[0m\u001b[0;34m\u001b[0m\u001b[0m\n",
            "\u001b[0;32m/usr/local/lib/python3.7/dist-packages/sentence_transformers/SentenceTransformer.py\u001b[0m in \u001b[0;36m__init__\u001b[0;34m(self, model_name_or_path, modules, device)\u001b[0m\n\u001b[1;32m     79\u001b[0m                 \u001b[0;32mfor\u001b[0m \u001b[0mmodule_config\u001b[0m \u001b[0;32min\u001b[0m \u001b[0mcontained_modules\u001b[0m\u001b[0;34m:\u001b[0m\u001b[0;34m\u001b[0m\u001b[0;34m\u001b[0m\u001b[0m\n\u001b[1;32m     80\u001b[0m                     \u001b[0mmodule_class\u001b[0m \u001b[0;34m=\u001b[0m \u001b[0mimport_from_string\u001b[0m\u001b[0;34m(\u001b[0m\u001b[0mmodule_config\u001b[0m\u001b[0;34m[\u001b[0m\u001b[0;34m'type'\u001b[0m\u001b[0;34m]\u001b[0m\u001b[0;34m)\u001b[0m\u001b[0;34m\u001b[0m\u001b[0;34m\u001b[0m\u001b[0m\n\u001b[0;32m---> 81\u001b[0;31m                     \u001b[0mmodule\u001b[0m \u001b[0;34m=\u001b[0m \u001b[0mmodule_class\u001b[0m\u001b[0;34m.\u001b[0m\u001b[0mload\u001b[0m\u001b[0;34m(\u001b[0m\u001b[0mos\u001b[0m\u001b[0;34m.\u001b[0m\u001b[0mpath\u001b[0m\u001b[0;34m.\u001b[0m\u001b[0mjoin\u001b[0m\u001b[0;34m(\u001b[0m\u001b[0mmodel_path\u001b[0m\u001b[0;34m,\u001b[0m \u001b[0mmodule_config\u001b[0m\u001b[0;34m[\u001b[0m\u001b[0;34m'path'\u001b[0m\u001b[0;34m]\u001b[0m\u001b[0;34m)\u001b[0m\u001b[0;34m)\u001b[0m\u001b[0;34m\u001b[0m\u001b[0;34m\u001b[0m\u001b[0m\n\u001b[0m\u001b[1;32m     82\u001b[0m                     \u001b[0mmodules\u001b[0m\u001b[0;34m[\u001b[0m\u001b[0mmodule_config\u001b[0m\u001b[0;34m[\u001b[0m\u001b[0;34m'name'\u001b[0m\u001b[0;34m]\u001b[0m\u001b[0;34m]\u001b[0m \u001b[0;34m=\u001b[0m \u001b[0mmodule\u001b[0m\u001b[0;34m\u001b[0m\u001b[0;34m\u001b[0m\u001b[0m\n\u001b[1;32m     83\u001b[0m \u001b[0;34m\u001b[0m\u001b[0m\n",
            "\u001b[0;32m/usr/local/lib/python3.7/dist-packages/sentence_transformers/models/Transformer.py\u001b[0m in \u001b[0;36mload\u001b[0;34m(input_path)\u001b[0m\n\u001b[1;32m     75\u001b[0m         \u001b[0;32mwith\u001b[0m \u001b[0mopen\u001b[0m\u001b[0;34m(\u001b[0m\u001b[0mos\u001b[0m\u001b[0;34m.\u001b[0m\u001b[0mpath\u001b[0m\u001b[0;34m.\u001b[0m\u001b[0mjoin\u001b[0m\u001b[0;34m(\u001b[0m\u001b[0minput_path\u001b[0m\u001b[0;34m,\u001b[0m \u001b[0;34m'sentence_bert_config.json'\u001b[0m\u001b[0;34m)\u001b[0m\u001b[0;34m)\u001b[0m \u001b[0;32mas\u001b[0m \u001b[0mfIn\u001b[0m\u001b[0;34m:\u001b[0m\u001b[0;34m\u001b[0m\u001b[0;34m\u001b[0m\u001b[0m\n\u001b[1;32m     76\u001b[0m             \u001b[0mconfig\u001b[0m \u001b[0;34m=\u001b[0m \u001b[0mjson\u001b[0m\u001b[0;34m.\u001b[0m\u001b[0mload\u001b[0m\u001b[0;34m(\u001b[0m\u001b[0mfIn\u001b[0m\u001b[0;34m)\u001b[0m\u001b[0;34m\u001b[0m\u001b[0;34m\u001b[0m\u001b[0m\n\u001b[0;32m---> 77\u001b[0;31m         \u001b[0;32mreturn\u001b[0m \u001b[0mTransformer\u001b[0m\u001b[0;34m(\u001b[0m\u001b[0mmodel_name_or_path\u001b[0m\u001b[0;34m=\u001b[0m\u001b[0minput_path\u001b[0m\u001b[0;34m,\u001b[0m \u001b[0;34m**\u001b[0m\u001b[0mconfig\u001b[0m\u001b[0;34m)\u001b[0m\u001b[0;34m\u001b[0m\u001b[0;34m\u001b[0m\u001b[0m\n\u001b[0m\u001b[1;32m     78\u001b[0m \u001b[0;34m\u001b[0m\u001b[0m\n\u001b[1;32m     79\u001b[0m \u001b[0;34m\u001b[0m\u001b[0m\n",
            "\u001b[0;32m/usr/local/lib/python3.7/dist-packages/sentence_transformers/models/Transformer.py\u001b[0m in \u001b[0;36m__init__\u001b[0;34m(self, model_name_or_path, max_seq_length, model_args, cache_dir)\u001b[0m\n\u001b[1;32m     18\u001b[0m         \u001b[0mconfig\u001b[0m \u001b[0;34m=\u001b[0m \u001b[0mAutoConfig\u001b[0m\u001b[0;34m.\u001b[0m\u001b[0mfrom_pretrained\u001b[0m\u001b[0;34m(\u001b[0m\u001b[0mmodel_name_or_path\u001b[0m\u001b[0;34m,\u001b[0m \u001b[0;34m**\u001b[0m\u001b[0mmodel_args\u001b[0m\u001b[0;34m,\u001b[0m \u001b[0mcache_dir\u001b[0m\u001b[0;34m=\u001b[0m\u001b[0mcache_dir\u001b[0m\u001b[0;34m)\u001b[0m\u001b[0;34m\u001b[0m\u001b[0;34m\u001b[0m\u001b[0m\n\u001b[1;32m     19\u001b[0m         \u001b[0mself\u001b[0m\u001b[0;34m.\u001b[0m\u001b[0mauto_model\u001b[0m \u001b[0;34m=\u001b[0m \u001b[0mAutoModel\u001b[0m\u001b[0;34m.\u001b[0m\u001b[0mfrom_pretrained\u001b[0m\u001b[0;34m(\u001b[0m\u001b[0mmodel_name_or_path\u001b[0m\u001b[0;34m,\u001b[0m \u001b[0mconfig\u001b[0m\u001b[0;34m=\u001b[0m\u001b[0mconfig\u001b[0m\u001b[0;34m,\u001b[0m \u001b[0mcache_dir\u001b[0m\u001b[0;34m=\u001b[0m\u001b[0mcache_dir\u001b[0m\u001b[0;34m)\u001b[0m\u001b[0;34m\u001b[0m\u001b[0;34m\u001b[0m\u001b[0m\n\u001b[0;32m---> 20\u001b[0;31m         \u001b[0mself\u001b[0m\u001b[0;34m.\u001b[0m\u001b[0mtokenizer\u001b[0m \u001b[0;34m=\u001b[0m \u001b[0mAutoTokenizer\u001b[0m\u001b[0;34m.\u001b[0m\u001b[0mfrom_pretrained\u001b[0m\u001b[0;34m(\u001b[0m\u001b[0mmodel_name_or_path\u001b[0m\u001b[0;34m,\u001b[0m \u001b[0mcache_dir\u001b[0m\u001b[0;34m=\u001b[0m\u001b[0mcache_dir\u001b[0m\u001b[0;34m)\u001b[0m\u001b[0;34m\u001b[0m\u001b[0;34m\u001b[0m\u001b[0m\n\u001b[0m\u001b[1;32m     21\u001b[0m \u001b[0;34m\u001b[0m\u001b[0m\n\u001b[1;32m     22\u001b[0m \u001b[0;34m\u001b[0m\u001b[0m\n",
            "\u001b[0;32m/usr/local/lib/python3.7/dist-packages/transformers/models/auto/tokenization_auto.py\u001b[0m in \u001b[0;36mfrom_pretrained\u001b[0;34m(cls, pretrained_model_name_or_path, *inputs, **kwargs)\u001b[0m\n\u001b[1;32m    421\u001b[0m             \u001b[0mtokenizer_class_py\u001b[0m\u001b[0;34m,\u001b[0m \u001b[0mtokenizer_class_fast\u001b[0m \u001b[0;34m=\u001b[0m \u001b[0mTOKENIZER_MAPPING\u001b[0m\u001b[0;34m[\u001b[0m\u001b[0mtype\u001b[0m\u001b[0;34m(\u001b[0m\u001b[0mconfig\u001b[0m\u001b[0;34m)\u001b[0m\u001b[0;34m]\u001b[0m\u001b[0;34m\u001b[0m\u001b[0;34m\u001b[0m\u001b[0m\n\u001b[1;32m    422\u001b[0m             \u001b[0;32mif\u001b[0m \u001b[0mtokenizer_class_fast\u001b[0m \u001b[0;32mand\u001b[0m \u001b[0;34m(\u001b[0m\u001b[0muse_fast\u001b[0m \u001b[0;32mor\u001b[0m \u001b[0mtokenizer_class_py\u001b[0m \u001b[0;32mis\u001b[0m \u001b[0;32mNone\u001b[0m\u001b[0;34m)\u001b[0m\u001b[0;34m:\u001b[0m\u001b[0;34m\u001b[0m\u001b[0;34m\u001b[0m\u001b[0m\n\u001b[0;32m--> 423\u001b[0;31m                 \u001b[0;32mreturn\u001b[0m \u001b[0mtokenizer_class_fast\u001b[0m\u001b[0;34m.\u001b[0m\u001b[0mfrom_pretrained\u001b[0m\u001b[0;34m(\u001b[0m\u001b[0mpretrained_model_name_or_path\u001b[0m\u001b[0;34m,\u001b[0m \u001b[0;34m*\u001b[0m\u001b[0minputs\u001b[0m\u001b[0;34m,\u001b[0m \u001b[0;34m**\u001b[0m\u001b[0mkwargs\u001b[0m\u001b[0;34m)\u001b[0m\u001b[0;34m\u001b[0m\u001b[0;34m\u001b[0m\u001b[0m\n\u001b[0m\u001b[1;32m    424\u001b[0m             \u001b[0;32melse\u001b[0m\u001b[0;34m:\u001b[0m\u001b[0;34m\u001b[0m\u001b[0;34m\u001b[0m\u001b[0m\n\u001b[1;32m    425\u001b[0m                 \u001b[0;32mif\u001b[0m \u001b[0mtokenizer_class_py\u001b[0m \u001b[0;32mis\u001b[0m \u001b[0;32mnot\u001b[0m \u001b[0;32mNone\u001b[0m\u001b[0;34m:\u001b[0m\u001b[0;34m\u001b[0m\u001b[0;34m\u001b[0m\u001b[0m\n",
            "\u001b[0;32m/usr/local/lib/python3.7/dist-packages/transformers/tokenization_utils_base.py\u001b[0m in \u001b[0;36mfrom_pretrained\u001b[0;34m(cls, pretrained_model_name_or_path, *init_inputs, **kwargs)\u001b[0m\n\u001b[1;32m   1708\u001b[0m \u001b[0;34m\u001b[0m\u001b[0m\n\u001b[1;32m   1709\u001b[0m         return cls._from_pretrained(\n\u001b[0;32m-> 1710\u001b[0;31m             \u001b[0mresolved_vocab_files\u001b[0m\u001b[0;34m,\u001b[0m \u001b[0mpretrained_model_name_or_path\u001b[0m\u001b[0;34m,\u001b[0m \u001b[0minit_configuration\u001b[0m\u001b[0;34m,\u001b[0m \u001b[0;34m*\u001b[0m\u001b[0minit_inputs\u001b[0m\u001b[0;34m,\u001b[0m \u001b[0;34m**\u001b[0m\u001b[0mkwargs\u001b[0m\u001b[0;34m\u001b[0m\u001b[0;34m\u001b[0m\u001b[0m\n\u001b[0m\u001b[1;32m   1711\u001b[0m         )\n\u001b[1;32m   1712\u001b[0m \u001b[0;34m\u001b[0m\u001b[0m\n",
            "\u001b[0;32m/usr/local/lib/python3.7/dist-packages/transformers/tokenization_utils_base.py\u001b[0m in \u001b[0;36m_from_pretrained\u001b[0;34m(cls, resolved_vocab_files, pretrained_model_name_or_path, init_configuration, *init_inputs, **kwargs)\u001b[0m\n\u001b[1;32m   1779\u001b[0m         \u001b[0;31m# Instantiate tokenizer.\u001b[0m\u001b[0;34m\u001b[0m\u001b[0;34m\u001b[0m\u001b[0;34m\u001b[0m\u001b[0m\n\u001b[1;32m   1780\u001b[0m         \u001b[0;32mtry\u001b[0m\u001b[0;34m:\u001b[0m\u001b[0;34m\u001b[0m\u001b[0;34m\u001b[0m\u001b[0m\n\u001b[0;32m-> 1781\u001b[0;31m             \u001b[0mtokenizer\u001b[0m \u001b[0;34m=\u001b[0m \u001b[0mcls\u001b[0m\u001b[0;34m(\u001b[0m\u001b[0;34m*\u001b[0m\u001b[0minit_inputs\u001b[0m\u001b[0;34m,\u001b[0m \u001b[0;34m**\u001b[0m\u001b[0minit_kwargs\u001b[0m\u001b[0;34m)\u001b[0m\u001b[0;34m\u001b[0m\u001b[0;34m\u001b[0m\u001b[0m\n\u001b[0m\u001b[1;32m   1782\u001b[0m         \u001b[0;32mexcept\u001b[0m \u001b[0mOSError\u001b[0m\u001b[0;34m:\u001b[0m\u001b[0;34m\u001b[0m\u001b[0;34m\u001b[0m\u001b[0m\n\u001b[1;32m   1783\u001b[0m             raise OSError(\n",
            "\u001b[0;32m/usr/local/lib/python3.7/dist-packages/transformers/models/xlm_roberta/tokenization_xlm_roberta_fast.py\u001b[0m in \u001b[0;36m__init__\u001b[0;34m(self, vocab_file, tokenizer_file, bos_token, eos_token, sep_token, cls_token, unk_token, pad_token, mask_token, **kwargs)\u001b[0m\n\u001b[1;32m    142\u001b[0m             \u001b[0mpad_token\u001b[0m\u001b[0;34m=\u001b[0m\u001b[0mpad_token\u001b[0m\u001b[0;34m,\u001b[0m\u001b[0;34m\u001b[0m\u001b[0;34m\u001b[0m\u001b[0m\n\u001b[1;32m    143\u001b[0m             \u001b[0mmask_token\u001b[0m\u001b[0;34m=\u001b[0m\u001b[0mmask_token\u001b[0m\u001b[0;34m,\u001b[0m\u001b[0;34m\u001b[0m\u001b[0;34m\u001b[0m\u001b[0m\n\u001b[0;32m--> 144\u001b[0;31m             \u001b[0;34m**\u001b[0m\u001b[0mkwargs\u001b[0m\u001b[0;34m,\u001b[0m\u001b[0;34m\u001b[0m\u001b[0;34m\u001b[0m\u001b[0m\n\u001b[0m\u001b[1;32m    145\u001b[0m         )\n\u001b[1;32m    146\u001b[0m \u001b[0;34m\u001b[0m\u001b[0m\n",
            "\u001b[0;32m/usr/local/lib/python3.7/dist-packages/transformers/tokenization_utils_fast.py\u001b[0m in \u001b[0;36m__init__\u001b[0;34m(self, *args, **kwargs)\u001b[0m\n\u001b[1;32m    104\u001b[0m         \u001b[0;32melse\u001b[0m\u001b[0;34m:\u001b[0m\u001b[0;34m\u001b[0m\u001b[0;34m\u001b[0m\u001b[0m\n\u001b[1;32m    105\u001b[0m             raise ValueError(\n\u001b[0;32m--> 106\u001b[0;31m                 \u001b[0;34m\"Couldn't instantiate the backend tokenizer from one of: \\n\"\u001b[0m\u001b[0;34m\u001b[0m\u001b[0;34m\u001b[0m\u001b[0m\n\u001b[0m\u001b[1;32m    107\u001b[0m                 \u001b[0;34m\"(1) a `tokenizers` library serialization file, \\n\"\u001b[0m\u001b[0;34m\u001b[0m\u001b[0;34m\u001b[0m\u001b[0m\n\u001b[1;32m    108\u001b[0m                 \u001b[0;34m\"(2) a slow tokenizer instance to convert or \\n\"\u001b[0m\u001b[0;34m\u001b[0m\u001b[0;34m\u001b[0m\u001b[0m\n",
            "\u001b[0;31mValueError\u001b[0m: Couldn't instantiate the backend tokenizer from one of: \n(1) a `tokenizers` library serialization file, \n(2) a slow tokenizer instance to convert or \n(3) an equivalent slow tokenizer class to instantiate and convert. \nYou need to have sentencepiece installed to convert a slow tokenizer to a fast one."
          ]
        }
      ]
    },
    {
      "cell_type": "markdown",
      "metadata": {
        "id": "_T9fexDQoDtX"
      },
      "source": [
        "# 3.Compute Similarity: DistilBERT model\n",
        "\n",
        "https://towardsdatascience.com/how-to-compute-sentence-similarity-using-bert-and-word2vec-ab0663a5d64"
      ]
    },
    {
      "cell_type": "code",
      "metadata": {
        "colab": {
          "base_uri": "https://localhost:8080/"
        },
        "id": "zx13By7AmvkN",
        "outputId": "1fbda99a-d834-4f8e-a51d-df506bb2ab46"
      },
      "source": [
        "!pip install sent2vec"
      ],
      "execution_count": 40,
      "outputs": [
        {
          "output_type": "stream",
          "text": [
            "Requirement already satisfied: sent2vec in /usr/local/lib/python3.7/dist-packages (0.2.0)\n",
            "Requirement already satisfied: numpy in /usr/local/lib/python3.7/dist-packages (from sent2vec) (1.19.5)\n",
            "Requirement already satisfied: torch in /usr/local/lib/python3.7/dist-packages (from sent2vec) (1.8.1+cu101)\n",
            "Requirement already satisfied: transformers in /usr/local/lib/python3.7/dist-packages (from sent2vec) (4.5.1)\n",
            "Requirement already satisfied: spacy in /usr/local/lib/python3.7/dist-packages (from sent2vec) (2.2.4)\n",
            "Requirement already satisfied: gensim in /usr/local/lib/python3.7/dist-packages (from sent2vec) (3.6.0)\n",
            "Requirement already satisfied: typing-extensions in /usr/local/lib/python3.7/dist-packages (from torch->sent2vec) (3.7.4.3)\n",
            "Requirement already satisfied: tqdm>=4.27 in /usr/local/lib/python3.7/dist-packages (from transformers->sent2vec) (4.41.1)\n",
            "Requirement already satisfied: packaging in /usr/local/lib/python3.7/dist-packages (from transformers->sent2vec) (20.9)\n",
            "Requirement already satisfied: regex!=2019.12.17 in /usr/local/lib/python3.7/dist-packages (from transformers->sent2vec) (2019.12.20)\n",
            "Requirement already satisfied: tokenizers<0.11,>=0.10.1 in /usr/local/lib/python3.7/dist-packages (from transformers->sent2vec) (0.10.2)\n",
            "Requirement already satisfied: sacremoses in /usr/local/lib/python3.7/dist-packages (from transformers->sent2vec) (0.0.45)\n",
            "Requirement already satisfied: requests in /usr/local/lib/python3.7/dist-packages (from transformers->sent2vec) (2.23.0)\n",
            "Requirement already satisfied: filelock in /usr/local/lib/python3.7/dist-packages (from transformers->sent2vec) (3.0.12)\n",
            "Requirement already satisfied: importlib-metadata; python_version < \"3.8\" in /usr/local/lib/python3.7/dist-packages (from transformers->sent2vec) (3.10.1)\n",
            "Requirement already satisfied: wasabi<1.1.0,>=0.4.0 in /usr/local/lib/python3.7/dist-packages (from spacy->sent2vec) (0.8.2)\n",
            "Requirement already satisfied: catalogue<1.1.0,>=0.0.7 in /usr/local/lib/python3.7/dist-packages (from spacy->sent2vec) (1.0.0)\n",
            "Requirement already satisfied: murmurhash<1.1.0,>=0.28.0 in /usr/local/lib/python3.7/dist-packages (from spacy->sent2vec) (1.0.5)\n",
            "Requirement already satisfied: preshed<3.1.0,>=3.0.2 in /usr/local/lib/python3.7/dist-packages (from spacy->sent2vec) (3.0.5)\n",
            "Requirement already satisfied: thinc==7.4.0 in /usr/local/lib/python3.7/dist-packages (from spacy->sent2vec) (7.4.0)\n",
            "Requirement already satisfied: srsly<1.1.0,>=1.0.2 in /usr/local/lib/python3.7/dist-packages (from spacy->sent2vec) (1.0.5)\n",
            "Requirement already satisfied: setuptools in /usr/local/lib/python3.7/dist-packages (from spacy->sent2vec) (54.2.0)\n",
            "Requirement already satisfied: plac<1.2.0,>=0.9.6 in /usr/local/lib/python3.7/dist-packages (from spacy->sent2vec) (1.1.3)\n",
            "Requirement already satisfied: blis<0.5.0,>=0.4.0 in /usr/local/lib/python3.7/dist-packages (from spacy->sent2vec) (0.4.1)\n",
            "Requirement already satisfied: cymem<2.1.0,>=2.0.2 in /usr/local/lib/python3.7/dist-packages (from spacy->sent2vec) (2.0.5)\n",
            "Requirement already satisfied: six>=1.5.0 in /usr/local/lib/python3.7/dist-packages (from gensim->sent2vec) (1.15.0)\n",
            "Requirement already satisfied: smart-open>=1.2.1 in /usr/local/lib/python3.7/dist-packages (from gensim->sent2vec) (5.0.0)\n",
            "Requirement already satisfied: scipy>=0.18.1 in /usr/local/lib/python3.7/dist-packages (from gensim->sent2vec) (1.4.1)\n",
            "Requirement already satisfied: pyparsing>=2.0.2 in /usr/local/lib/python3.7/dist-packages (from packaging->transformers->sent2vec) (2.4.7)\n",
            "Requirement already satisfied: joblib in /usr/local/lib/python3.7/dist-packages (from sacremoses->transformers->sent2vec) (1.0.1)\n",
            "Requirement already satisfied: click in /usr/local/lib/python3.7/dist-packages (from sacremoses->transformers->sent2vec) (7.1.2)\n",
            "Requirement already satisfied: chardet<4,>=3.0.2 in /usr/local/lib/python3.7/dist-packages (from requests->transformers->sent2vec) (3.0.4)\n",
            "Requirement already satisfied: certifi>=2017.4.17 in /usr/local/lib/python3.7/dist-packages (from requests->transformers->sent2vec) (2020.12.5)\n",
            "Requirement already satisfied: idna<3,>=2.5 in /usr/local/lib/python3.7/dist-packages (from requests->transformers->sent2vec) (2.10)\n",
            "Requirement already satisfied: urllib3!=1.25.0,!=1.25.1,<1.26,>=1.21.1 in /usr/local/lib/python3.7/dist-packages (from requests->transformers->sent2vec) (1.24.3)\n",
            "Requirement already satisfied: zipp>=0.5 in /usr/local/lib/python3.7/dist-packages (from importlib-metadata; python_version < \"3.8\"->transformers->sent2vec) (3.4.1)\n"
          ],
          "name": "stdout"
        }
      ]
    },
    {
      "cell_type": "code",
      "metadata": {
        "id": "VEh1y98umPMr"
      },
      "source": [
        "from scipy import spatial\n",
        "from sent2vec.vectorizer import Vectorizer"
      ],
      "execution_count": 41,
      "outputs": []
    },
    {
      "cell_type": "markdown",
      "metadata": {
        "id": "fI_0G89KYOtl"
      },
      "source": [
        "## Example-Experiment"
      ]
    },
    {
      "cell_type": "markdown",
      "metadata": {
        "id": "_YLzX9V2iQCg"
      },
      "source": [
        "### 1"
      ]
    },
    {
      "cell_type": "code",
      "metadata": {
        "id": "mESTXEbrmPMs",
        "colab": {
          "base_uri": "https://localhost:8080/",
          "height": 260,
          "referenced_widgets": [
            "35b3a52be5f5459d89bba1c6dc8c6167",
            "2bfcaf1d5a21470e97c5167f09817966",
            "e7e255dcbda8483692a3bf3babadfe1b",
            "57bfc0a9758f4d3798f67f86b54f4afe",
            "4bd0b9a488b44ea6b58ee81b837091b2",
            "9a4fbfa460d9436b857f826509357e02",
            "c02095168a434f64b1c7083ebb454a45",
            "d64d2fe2f88f4ee89a7b3f65bfc098c8",
            "960fd9e3dec24e14a92405631180caf4",
            "51085a927b374b48bba632dee2129733",
            "0ff15390526c4d8ba60463a9f33ae8b4",
            "3e8bac43126742c2934ce54dc4d902e0",
            "07e85428e6454256a05439eabd5dcb7a",
            "caeec9ad17524b10992eabc0caf774e2",
            "b2dc7d7b422e469cb1db44b45ca0c318",
            "2a985cce7c264b4882c54e5b693c9a38",
            "ee83eb7987904e7e8b0ee47e9033c2ad",
            "eabc9fca8ed14060b99601cfe6afd4ba",
            "13c4b9a539ce4c368809c592b07fe0cf",
            "99f7c413abdb4919aefd44b952227d8f",
            "726f915e0aa5474aab960276b3544805",
            "fccf861e39e24593b8ccccb2a87bc275",
            "5608df9ed87040068521ce8ebd89d146",
            "13104f8572c34a0b848306216ab17989",
            "902bad7599ca4515962557c06b6d62da",
            "c9f5ac4c5ff547bcb01f26b328f2a471",
            "90a34110a38241369913ae676f0c61ca",
            "e9dee29d5d474a51ab2c7521d246f46c",
            "b0326d7abcf64bbe98af18c35f4f742a",
            "3f7c102c613745958fe031318a8c9b76",
            "f360033eefaa4123a7eb7dd7c73d0718",
            "91a75ad1f03b46928e3f6b8964d22e2d",
            "16016ffaab134edaa4d1406f9ab07f21",
            "5de23c52b7ae40139c611b20d4d6a2ab",
            "7555d040f8704ebf8f1360c975b9906d",
            "78a9a1fd34684c3eab8f579a20d08297",
            "7c6a9b8e60884f77822eafd638a7f9ed",
            "a2f01de030704a5288d869b0f2dbfbac",
            "f60f6eda36d74e86a99b55b2061a41b8",
            "cd0fdd2008eb4e53b29abbd7a346af14"
          ]
        },
        "outputId": "fa3a0b3c-d40d-41b2-e386-282ffc0a6faf"
      },
      "source": [
        "sentences = [\n",
        " \"This is an awesome book to learn NLP.\",\n",
        " \"DistilBERT is an amazing NLP model.\",\n",
        " \"We can interchangeably use embedding, encoding, or vectorizing.\",\n",
        "]\n",
        "s1 = \"I am here. \"\n",
        "s2 = \"My name is soma\"\n",
        "s3 = \"Go away\"\n",
        "\n",
        "vectorizer = Vectorizer()\n",
        "vectorizer.bert(s1)\n",
        "vectors_bert1 = vectorizer.vectors\n",
        "\n",
        "vectorizer.bert(s2)\n",
        "vectors_bert2 = vectorizer.vectors\n",
        "\n",
        "vectorizer.bert(s3)\n",
        "vectors_bert3 = vectorizer.vectors"
      ],
      "execution_count": null,
      "outputs": [
        {
          "output_type": "display_data",
          "data": {
            "application/vnd.jupyter.widget-view+json": {
              "model_id": "35b3a52be5f5459d89bba1c6dc8c6167",
              "version_minor": 0,
              "version_major": 2
            },
            "text/plain": [
              "HBox(children=(FloatProgress(value=0.0, description='Downloading', max=231508.0, style=ProgressStyle(descripti…"
            ]
          },
          "metadata": {
            "tags": []
          }
        },
        {
          "output_type": "stream",
          "text": [
            "\n"
          ],
          "name": "stdout"
        },
        {
          "output_type": "display_data",
          "data": {
            "application/vnd.jupyter.widget-view+json": {
              "model_id": "960fd9e3dec24e14a92405631180caf4",
              "version_minor": 0,
              "version_major": 2
            },
            "text/plain": [
              "HBox(children=(FloatProgress(value=0.0, description='Downloading', max=28.0, style=ProgressStyle(description_w…"
            ]
          },
          "metadata": {
            "tags": []
          }
        },
        {
          "output_type": "stream",
          "text": [
            "\n"
          ],
          "name": "stdout"
        },
        {
          "output_type": "display_data",
          "data": {
            "application/vnd.jupyter.widget-view+json": {
              "model_id": "ee83eb7987904e7e8b0ee47e9033c2ad",
              "version_minor": 0,
              "version_major": 2
            },
            "text/plain": [
              "HBox(children=(FloatProgress(value=0.0, description='Downloading', max=466062.0, style=ProgressStyle(descripti…"
            ]
          },
          "metadata": {
            "tags": []
          }
        },
        {
          "output_type": "stream",
          "text": [
            "\n"
          ],
          "name": "stdout"
        },
        {
          "output_type": "display_data",
          "data": {
            "application/vnd.jupyter.widget-view+json": {
              "model_id": "902bad7599ca4515962557c06b6d62da",
              "version_minor": 0,
              "version_major": 2
            },
            "text/plain": [
              "HBox(children=(FloatProgress(value=0.0, description='Downloading', max=442.0, style=ProgressStyle(description_…"
            ]
          },
          "metadata": {
            "tags": []
          }
        },
        {
          "output_type": "stream",
          "text": [
            "\n"
          ],
          "name": "stdout"
        },
        {
          "output_type": "display_data",
          "data": {
            "application/vnd.jupyter.widget-view+json": {
              "model_id": "16016ffaab134edaa4d1406f9ab07f21",
              "version_minor": 0,
              "version_major": 2
            },
            "text/plain": [
              "HBox(children=(FloatProgress(value=0.0, description='Downloading', max=267967963.0, style=ProgressStyle(descri…"
            ]
          },
          "metadata": {
            "tags": []
          }
        },
        {
          "output_type": "stream",
          "text": [
            "\n"
          ],
          "name": "stdout"
        }
      ]
    },
    {
      "cell_type": "code",
      "metadata": {
        "colab": {
          "base_uri": "https://localhost:8080/"
        },
        "id": "njeq0b25nkqu",
        "outputId": "b2a6ee9c-7dc1-4b92-db2c-3d6ce5f91156"
      },
      "source": [
        "vectors_bert1"
      ],
      "execution_count": null,
      "outputs": [
        {
          "output_type": "execute_result",
          "data": {
            "text/plain": [
              "array([[-0.00452068, -0.01841036,  0.11396753, ..., -0.03791968,\n",
              "         0.28177658,  0.26435444],\n",
              "       [-0.21792541,  0.01430414,  0.12090803, ..., -0.09087957,\n",
              "         0.0732041 ,  0.20216972],\n",
              "       [-0.22053696, -0.16753876,  0.092399  , ..., -0.01936097,\n",
              "         0.08270013,  0.29839826],\n",
              "       ...,\n",
              "       [-0.13918301, -0.02728104,  0.22536631, ..., -0.06013088,\n",
              "         0.18442337,  0.426399  ],\n",
              "       [-0.15340249,  0.04992858,  0.24422099, ..., -0.00687042,\n",
              "         0.11672808,  0.3288559 ],\n",
              "       [-0.22053696, -0.16753876,  0.092399  , ..., -0.01936097,\n",
              "         0.08270013,  0.29839826]], dtype=float32)"
            ]
          },
          "metadata": {
            "tags": []
          },
          "execution_count": 11
        }
      ]
    },
    {
      "cell_type": "code",
      "metadata": {
        "colab": {
          "base_uri": "https://localhost:8080/"
        },
        "id": "eA5vyJSYWDwy",
        "outputId": "60730dce-9454-44ac-e1f1-4593c34157e1"
      },
      "source": [
        "print(len(vectors_bert1))\n",
        "print(len(vectors_bert2))\n",
        "print(len(vectors_bert3))"
      ],
      "execution_count": null,
      "outputs": [
        {
          "output_type": "stream",
          "text": [
            "11\n",
            "15\n",
            "7\n"
          ],
          "name": "stdout"
        }
      ]
    },
    {
      "cell_type": "code",
      "metadata": {
        "colab": {
          "base_uri": "https://localhost:8080/"
        },
        "id": "Jhtvic0vmPMt",
        "outputId": "4a6222d6-31b9-4b1c-8770-4b117e3d5c1a"
      },
      "source": [
        "dist_1 = spatial.distance.cosine(vectors_bert1[0], vectors_bert2[0])\n",
        "dist_2 = spatial.distance.cosine(vectors_bert1[0], vectors_bert3[0])\n",
        "print('sim_1: {0}, sim_2: {1}'.format(1-dist_1, 1-dist_2))\n",
        "# dist_1: 0.043, dist_2: 0.192"
      ],
      "execution_count": null,
      "outputs": [
        {
          "output_type": "stream",
          "text": [
            "sim_1: 0.9835779666900635, sim_2: 0.9676865339279175\n"
          ],
          "name": "stdout"
        }
      ]
    },
    {
      "cell_type": "markdown",
      "metadata": {
        "id": "ACUCuNN_KXgs"
      },
      "source": [
        "### 3"
      ]
    },
    {
      "cell_type": "code",
      "metadata": {
        "id": "MWjzBGQZKZCk"
      },
      "source": [
        "def most_similar(doc_id,similarity_matrix,matrix):\n",
        "  print (f'Document: {documents_df.iloc[doc_id][\"documents\"]}')\n",
        "  print ('\\n')\n",
        "  print ('Similar Documents:')\n",
        "  if matrix=='Cosine Similarity':\n",
        "    similar_ix=np.argsort(similarity_matrix[doc_id])[::-1]\n",
        "  elif matrix=='Euclidean Distance':\n",
        "    similar_ix=np.argsort(similarity_matrix[doc_id])\n",
        "  for ix in similar_ix:\n",
        "    if ix==doc_id:\n",
        "      continue\n",
        "    print('\\n')"
      ],
      "execution_count": 5,
      "outputs": []
    },
    {
      "cell_type": "code",
      "metadata": {
        "id": "qN2k3aJ-nSMI"
      },
      "source": [
        "doc = '''New York City (NYC), often called simply New York, is the most populous city in the United States. The five boroughs—Brooklyn, Queens, Manhattan, the Bronx, and Staten Island—were consolidated \n",
        "into a single city in 1898. The city and its metropolitan area constitute the premier gateway for\n",
        " legal immigration to the United States. New York City traces its origins to a trading post founded by colonists from the \n",
        "Dutch Republic in 1624 on Lower Manhattan; the post was named New Amsterdam in 1626. In 2019, New York was voted the greatest city in the world per a survey of over 30,000 people from 48 cities worldwide, citing its cultural diversity. Many districts and landmarks in New York City are well known, including three of the world's\n",
        " ten most visited tourist attractions in 2013.\n",
        "'''"
      ],
      "execution_count": 6,
      "outputs": []
    },
    {
      "cell_type": "code",
      "metadata": {
        "id": "kJkKPePUntwp"
      },
      "source": [
        "# 2 Tokenize the sentences\n",
        "sentences = sent_tokenize(doc)"
      ],
      "execution_count": 7,
      "outputs": []
    },
    {
      "cell_type": "code",
      "metadata": {
        "colab": {
          "base_uri": "https://localhost:8080/"
        },
        "id": "iazXAq4AoAGK",
        "outputId": "3287d310-3487-4fab-de96-27452f2ac13c"
      },
      "source": [
        "sentences"
      ],
      "execution_count": 14,
      "outputs": [
        {
          "output_type": "execute_result",
          "data": {
            "text/plain": [
              "['New York City (NYC), often called simply New York, is the most populous city in the United States.',\n",
              " 'The five boroughs—Brooklyn, Queens, Manhattan, the Bronx, and Staten Island—were consolidated \\ninto a single city in 1898.',\n",
              " 'The city and its metropolitan area constitute the premier gateway for\\n legal immigration to the United States.',\n",
              " 'New York City traces its origins to a trading post founded by colonists from the \\nDutch Republic in 1624 on Lower Manhattan; the post was named New Amsterdam in 1626.',\n",
              " 'In 2019, New York was voted the greatest city in the world per a survey of over 30,000 people from 48 cities worldwide, citing its cultural diversity.',\n",
              " \"Many districts and landmarks in New York City are well known, including three of the world's\\n ten most visited tourist attractions in 2013.\"]"
            ]
          },
          "metadata": {
            "tags": []
          },
          "execution_count": 14
        }
      ]
    },
    {
      "cell_type": "code",
      "metadata": {
        "id": "Cl9V5CplidHh"
      },
      "source": [
        "vectorizer = Vectorizer()\n",
        "vectorizer.bert(sentences)\n",
        "vectors_bert1 = vectorizer.vectors"
      ],
      "execution_count": null,
      "outputs": []
    },
    {
      "cell_type": "code",
      "metadata": {
        "id": "4SB_vxcsoRUy"
      },
      "source": [
        "vectorizer = Vectorizer()\n",
        "vectorizer.bert(doc)\n",
        "vectors_bert1 = vectorizer.vectors"
      ],
      "execution_count": 28,
      "outputs": []
    },
    {
      "cell_type": "code",
      "metadata": {
        "colab": {
          "base_uri": "https://localhost:8080/"
        },
        "id": "dF6WrtKfoYHk",
        "outputId": "6d58075d-70c2-426a-aa6e-329cb6c0aca9"
      },
      "source": [
        "print(len(vectors_bert1))\n",
        "vectors_bert1"
      ],
      "execution_count": 29,
      "outputs": [
        {
          "output_type": "stream",
          "text": [
            "791\n"
          ],
          "name": "stdout"
        },
        {
          "output_type": "execute_result",
          "data": {
            "text/plain": [
              "array([[-0.14285815, -0.04064084,  0.30417648, ..., -0.01849161,\n",
              "         0.02013043,  0.6009128 ],\n",
              "       [-0.20620473, -0.06340116,  0.15632646, ..., -0.06193944,\n",
              "         0.0900249 ,  0.5196665 ],\n",
              "       [-0.10820428, -0.04309452,  0.23242228, ..., -0.0750291 ,\n",
              "         0.0437054 ,  0.53799635],\n",
              "       ...,\n",
              "       [-0.2334491 , -0.12328906,  0.09147265, ...,  0.00857628,\n",
              "         0.1512668 ,  0.28465116],\n",
              "       [-0.08960379, -0.15382951,  0.19180088, ..., -0.02337263,\n",
              "         0.3181084 ,  0.2216609 ],\n",
              "       [-0.21792541,  0.01430414,  0.12090803, ..., -0.09087957,\n",
              "         0.0732041 ,  0.20216972]], dtype=float32)"
            ]
          },
          "metadata": {
            "tags": []
          },
          "execution_count": 29
        }
      ]
    },
    {
      "cell_type": "markdown",
      "metadata": {
        "id": "xZP_p1GChlS4"
      },
      "source": [
        "https://gist.github.com/pgolding/fdf74a3e8e797fad0391befd5a906ddb"
      ]
    },
    {
      "cell_type": "code",
      "metadata": {
        "id": "A2WFijEeZpzI"
      },
      "source": [
        "x = vectors_bert1.reshape(1,-1)\n",
        "y = vectors_bert1.reshape(1,-1)"
      ],
      "execution_count": 32,
      "outputs": []
    },
    {
      "cell_type": "code",
      "metadata": {
        "colab": {
          "base_uri": "https://localhost:8080/"
        },
        "id": "ArEmLr4Ks_R1",
        "outputId": "69745bfd-41d6-41ea-a332-f3b978458746"
      },
      "source": [
        "pairwise_similarities=cosine_similarity(x, y)\n",
        "print(pairwise_similarities)"
      ],
      "execution_count": 33,
      "outputs": [
        {
          "output_type": "stream",
          "text": [
            "[[0.99999464]]\n"
          ],
          "name": "stdout"
        }
      ]
    },
    {
      "cell_type": "code",
      "metadata": {
        "id": "KoivJb6xZrWf"
      },
      "source": [
        "pairwise_differences=euclidean_distances(vectors_bert1)\n",
        "pairwise_differences"
      ],
      "execution_count": null,
      "outputs": []
    },
    {
      "cell_type": "code",
      "metadata": {
        "id": "spTxvjlDKua3"
      },
      "source": [
        "print (pairwise_similarities[0][:])"
      ],
      "execution_count": null,
      "outputs": []
    },
    {
      "cell_type": "code",
      "metadata": {
        "colab": {
          "base_uri": "https://localhost:8080/"
        },
        "id": "29r80ZXjYD8F",
        "outputId": "718eb264-4783-4f3f-e2b5-7db412d82c87"
      },
      "source": [
        "np.argsort([1,2,3])[::-1]"
      ],
      "execution_count": 27,
      "outputs": [
        {
          "output_type": "execute_result",
          "data": {
            "text/plain": [
              "array([2, 1, 0])"
            ]
          },
          "metadata": {
            "tags": []
          },
          "execution_count": 27
        }
      ]
    },
    {
      "cell_type": "code",
      "metadata": {
        "id": "jdtFLx0htqxl"
      },
      "source": [
        "#most_similar(0,pairwise_differences,'Euclidean Distance')"
      ],
      "execution_count": null,
      "outputs": []
    },
    {
      "cell_type": "markdown",
      "metadata": {
        "id": "L75qFVkIYTr4"
      },
      "source": [
        "## Compute Similarity Using DistilBERT"
      ]
    },
    {
      "cell_type": "markdown",
      "metadata": {
        "id": "xpnyO3HKeevX"
      },
      "source": [
        "### Methods"
      ]
    },
    {
      "cell_type": "code",
      "metadata": {
        "id": "AvR8j_IgbmyF"
      },
      "source": [
        "import math\n",
        "vectorizer = Vectorizer()"
      ],
      "execution_count": 59,
      "outputs": []
    },
    {
      "cell_type": "markdown",
      "metadata": {
        "id": "mQRhPIHZhG3H"
      },
      "source": [
        "https://github.com/varun21290/medium/blob/master/Document%20Similarities/Document_Similarities.ipynb"
      ]
    },
    {
      "cell_type": "code",
      "metadata": {
        "id": "6Cnt8yoAaeGk"
      },
      "source": [
        "def method_1_with_sentence_sim_avg(data_fox_claim_w2v,data_polifact):\n",
        "  similarity_list = []\n",
        "  i = 0\n",
        "  j= 0\n",
        "  for index1, row1 in data_fox_claim_w2v.iterrows():\n",
        "      #id = row['most_similar'][0][0]\n",
        "      max_sim = (-math.inf)\n",
        "      max_index = -1\n",
        "      text1 = \"\".join(row1['text'])\n",
        "      #print(\"\\njoin(row1['text_distilled']=\" , text1)\n",
        "\n",
        "      #vectorize for bert\n",
        "      vectorizer.bert(row1['text_distilled'])\n",
        "      vectors_bert1 = vectorizer.vectors\n",
        "      for index2, row2 in data_polifact.iterrows():\n",
        "        #if j==1: break\n",
        "        #print(\"index2=\", index2)\n",
        "        #print(\"row2=\",row2)\n",
        "        text2 = \"\".join(row2['text_distilled'])\n",
        "        #text2 = ['My', 'name', 'is' ,'soma']\n",
        "        #print(\"\\njoin(row2['text_distilled']=\" , text2)\n",
        "\n",
        "        #vectorize for bert\n",
        "        vectorizer.bert(row2['text'])\n",
        "        vectors_bert2 = vectorizer.vectors\n",
        "\n",
        "        #sim = 1 - spatial.distance.cosine(vectors_bert1[0], vectors_bert2[0])\n",
        "        #print(\"\\sim=\", sim, \"index2=\", index2)\n",
        "        x = vectors_bert1.reshape(1,-1)\n",
        "        y = vectors_bert2.reshape(1,-1)\n",
        "        sim = cosine_similarity(vectors_bert1, vectors_bert2)\n",
        "        sim_reshape = sim.reshape(1,-1)\n",
        "        sim_avg = np.mean(sim_reshape)\n",
        "        #print(sim_avg)\n",
        "        if sim_avg> max_sim:\n",
        "          max_sim = sim_avg\n",
        "          max_index = index2\n",
        "        j= 1\n",
        "      similarity_list.append((max_index,max_sim))\n",
        "      i = 1\n",
        "      #if i==1: break\n",
        "  return similarity_list"
      ],
      "execution_count": 67,
      "outputs": []
    },
    {
      "cell_type": "code",
      "metadata": {
        "id": "6FciSXixYZIv"
      },
      "source": [
        "def method_2_non_avg(data_fox_claim_w2v,data_polifact):\n",
        "  similarity_list = []\n",
        "  i = 0\n",
        "  j= 0\n",
        "  for index1, row1 in data_fox_claim_w2v.iterrows():\n",
        "      #id = row['most_similar'][0][0]\n",
        "      max_sim = (-math.inf)\n",
        "      max_index = -1\n",
        "      text1 = \"\".join(row1['text'])\n",
        "      #print(\"\\njoin(row1['text_distilled']=\" , text1)\n",
        "\n",
        "      #vectorize for bert\n",
        "      vectorizer.bert(text1)\n",
        "      vectors_bert1 = vectorizer.vectors\n",
        "      for index2, row2 in data_polifact.iterrows():\n",
        "        #if j==1: break\n",
        "        #print(\"index2=\", index2)\n",
        "        #print(\"row2=\",row2)\n",
        "        text2 = \"\".join(row2['claims'])\n",
        "        #text2 = ['My', 'name', 'is' ,'soma']\n",
        "        #print(\"\\njoin(row2['text_distilled']=\" , text2)\n",
        "\n",
        "        #vectorize for bert\n",
        "        vectorizer.bert(text2)\n",
        "        vectors_bert2 = vectorizer.vectors\n",
        "\n",
        "        sim = 1 - spatial.distance.cosine(vectors_bert1[0], vectors_bert2[0])\n",
        "        #print(\"\\sim=\", sim, \"index2=\", index2)\n",
        "        if sim> max_sim:\n",
        "          max_sim = sim\n",
        "          max_index = index2\n",
        "        j= 1\n",
        "      similarity_list.append((max_index,max_sim))\n",
        "      i = 1\n",
        "      #if i==1: break\n",
        "  return similarity_list   \n"
      ],
      "execution_count": 61,
      "outputs": []
    },
    {
      "cell_type": "markdown",
      "metadata": {
        "id": "PjOxBUIjellH"
      },
      "source": [
        "## Compute Doc-Sentence Similarity"
      ]
    },
    {
      "cell_type": "code",
      "metadata": {
        "id": "4dGDrMYJevuT"
      },
      "source": [
        "data_fox_claim_w2v = data_fox_claim"
      ],
      "execution_count": 68,
      "outputs": []
    },
    {
      "cell_type": "code",
      "metadata": {
        "colab": {
          "base_uri": "https://localhost:8080/"
        },
        "id": "ydtojhSGeziO",
        "outputId": "687443b9-760e-425b-cbbf-85bc21c4d785"
      },
      "source": [
        "data_polifact.columns"
      ],
      "execution_count": 69,
      "outputs": [
        {
          "output_type": "execute_result",
          "data": {
            "text/plain": [
              "Index(['documentId', 'Unnamed: 0.1', 'sources', 'urls', 'title', 'summaries',\n",
              "       'dates', 'ratings', 'text', 'authors', 'publishdate', 'relatedlinks',\n",
              "       'claims', 'text_distilled', 'topics', 'named_entity_recognition',\n",
              "       'top_10_freq_word', 'pasts_of_speech'],\n",
              "      dtype='object')"
            ]
          },
          "metadata": {
            "tags": []
          },
          "execution_count": 69
        }
      ]
    },
    {
      "cell_type": "code",
      "metadata": {
        "id": "B-oUBMEiZz-5"
      },
      "source": [
        "similarity_list = method_1_with_sentence_sim_avg(data_fox_claim_w2v,data_polifact)"
      ],
      "execution_count": 70,
      "outputs": []
    },
    {
      "cell_type": "code",
      "metadata": {
        "colab": {
          "base_uri": "https://localhost:8080/"
        },
        "id": "I3qFDgHlfg9c",
        "outputId": "f4e57505-61c1-49e9-9fd1-a110b55c2794"
      },
      "source": [
        "similarity_list"
      ],
      "execution_count": 71,
      "outputs": [
        {
          "output_type": "execute_result",
          "data": {
            "text/plain": [
              "[(19, 0.97164094),\n",
              " (3, 0.97149664),\n",
              " (3, 0.97193474),\n",
              " (3, 0.9716428),\n",
              " (3, 0.9717418),\n",
              " (19, 0.97164047),\n",
              " (19, 0.97181714),\n",
              " (3, 0.971934),\n",
              " (3, 0.9715869),\n",
              " (3, 0.9718186)]"
            ]
          },
          "metadata": {
            "tags": []
          },
          "execution_count": 71
        }
      ]
    },
    {
      "cell_type": "code",
      "metadata": {
        "id": "AmrERoQ6Zyks"
      },
      "source": [
        "#try to find most similar claim from politifact for the current fox claim\n",
        "data_fox_claim_w2v['most_similar'] = similarity_list"
      ],
      "execution_count": 72,
      "outputs": []
    },
    {
      "cell_type": "markdown",
      "metadata": {
        "id": "B3xhau5TmPMw"
      },
      "source": [
        "## Extract the similar rows from Politifact"
      ]
    },
    {
      "cell_type": "code",
      "metadata": {
        "colab": {
          "base_uri": "https://localhost:8080/",
          "height": 311
        },
        "id": "OUK0H7QemPMw",
        "outputId": "949a2197-c248-4cb6-a6ff-23f8d7981935"
      },
      "source": [
        "data_polifact.head(2)"
      ],
      "execution_count": null,
      "outputs": [
        {
          "output_type": "execute_result",
          "data": {
            "text/html": [
              "<div>\n",
              "<style scoped>\n",
              "    .dataframe tbody tr th:only-of-type {\n",
              "        vertical-align: middle;\n",
              "    }\n",
              "\n",
              "    .dataframe tbody tr th {\n",
              "        vertical-align: top;\n",
              "    }\n",
              "\n",
              "    .dataframe thead th {\n",
              "        text-align: right;\n",
              "    }\n",
              "</style>\n",
              "<table border=\"1\" class=\"dataframe\">\n",
              "  <thead>\n",
              "    <tr style=\"text-align: right;\">\n",
              "      <th></th>\n",
              "      <th>documentId</th>\n",
              "      <th>Unnamed: 0.1</th>\n",
              "      <th>sources</th>\n",
              "      <th>urls</th>\n",
              "      <th>title</th>\n",
              "      <th>summaries</th>\n",
              "      <th>dates</th>\n",
              "      <th>ratings</th>\n",
              "      <th>text</th>\n",
              "      <th>authors</th>\n",
              "      <th>publishdate</th>\n",
              "      <th>relatedlinks</th>\n",
              "      <th>claims</th>\n",
              "      <th>text_distilled</th>\n",
              "      <th>topics</th>\n",
              "      <th>named_entity_recognition</th>\n",
              "      <th>top_10_freq_word</th>\n",
              "      <th>pasts_of_speech</th>\n",
              "    </tr>\n",
              "  </thead>\n",
              "  <tbody>\n",
              "    <tr>\n",
              "      <th>0</th>\n",
              "      <td>0</td>\n",
              "      <td>0</td>\n",
              "      <td>politifact</td>\n",
              "      <td>http://www.politifact.com/factchecks/2021/mar/...</td>\n",
              "      <td>\\nSays Deborah Birx “traveled a great distance...</td>\n",
              "      <td>\\n\\n\\n\\n\\n\\n\\n\\n\\n\\n\\n\\n\\n\\n\\n\\n\\n\\n\\n\\n\\n\\n\\n...</td>\n",
              "      <td>2021-03-29</td>\n",
              "      <td>half-true</td>\n",
              "      <td>\\nFormer President Donald Trump didn’t appreci...</td>\n",
              "      <td>Jon Greenberg</td>\n",
              "      <td>2021-03-30</td>\n",
              "      <td>['https://www.cnn.com/2021/03/29/health/pandem...</td>\n",
              "      <td>National,Coronavirus,Donald Trump</td>\n",
              "      <td>['say', 'deborah', 'birx', 'traveled', 'great'...</td>\n",
              "      <td>['birx ', 'said']</td>\n",
              "      <td>[(Donald, 'PERSON'), (Trump, 'PERSON'), (Biden...</td>\n",
              "      <td>[('birx', 22), ('said', 12), ('family', 10), (...</td>\n",
              "      <td>[('Former', 'NNP'), ('President', 'NNP'), ('Do...</td>\n",
              "    </tr>\n",
              "    <tr>\n",
              "      <th>1</th>\n",
              "      <td>1</td>\n",
              "      <td>1</td>\n",
              "      <td>politifact</td>\n",
              "      <td>http://www.politifact.com/factchecks/2021/mar/...</td>\n",
              "      <td>\\n\"We proudly handed the Biden administration ...</td>\n",
              "      <td>\\n\\n\\n\\n\\n\\n\\n\\n\\n\\n\\n\\n\\n\\n\\n\\n\\n\\n\\n\\n\\n\\n\\n...</td>\n",
              "      <td>2021-03-21</td>\n",
              "      <td>barely-true</td>\n",
              "      <td>\\nFormer President Donald Trump said that the ...</td>\n",
              "      <td>Amy Sherman</td>\n",
              "      <td>2021-03-24</td>\n",
              "      <td>['https://twitter.com/seanspicer/status/137375...</td>\n",
              "      <td>Immigration,National,Donald Trump</td>\n",
              "      <td>['proudly', 'handed', 'biden', 'administration...</td>\n",
              "      <td>['border ', 'trump']</td>\n",
              "      <td>[(Donald, 'PERSON'), (Trump, 'PERSON'), (Biden...</td>\n",
              "      <td>[('border', 43), ('trump', 24), ('biden', 16),...</td>\n",
              "      <td>[('Former', 'NNP'), ('President', 'NNP'), ('Do...</td>\n",
              "    </tr>\n",
              "  </tbody>\n",
              "</table>\n",
              "</div>"
            ],
            "text/plain": [
              "   documentId  ...                                    pasts_of_speech\n",
              "0           0  ...  [('Former', 'NNP'), ('President', 'NNP'), ('Do...\n",
              "1           1  ...  [('Former', 'NNP'), ('President', 'NNP'), ('Do...\n",
              "\n",
              "[2 rows x 18 columns]"
            ]
          },
          "metadata": {
            "tags": []
          },
          "execution_count": 65
        }
      ]
    },
    {
      "cell_type": "code",
      "metadata": {
        "colab": {
          "base_uri": "https://localhost:8080/"
        },
        "id": "6jofSASLmPMw",
        "outputId": "d67c0b8c-83d4-43ba-a4fb-6e5c3a205cc4"
      },
      "source": [
        "data_polifact.columns"
      ],
      "execution_count": null,
      "outputs": [
        {
          "output_type": "execute_result",
          "data": {
            "text/plain": [
              "Index(['documentId', 'Unnamed: 0.1', 'sources', 'urls', 'title', 'summaries',\n",
              "       'dates', 'ratings', 'text', 'authors', 'publishdate', 'relatedlinks',\n",
              "       'claims', 'text_distilled', 'topics', 'named_entity_recognition',\n",
              "       'top_10_freq_word', 'pasts_of_speech'],\n",
              "      dtype='object')"
            ]
          },
          "metadata": {
            "tags": []
          },
          "execution_count": 16
        }
      ]
    },
    {
      "cell_type": "code",
      "metadata": {
        "id": "c71vxeecmPMx"
      },
      "source": [
        "for index, row in data_fox_claim_w2v.iterrows():\n",
        "    #print(row['most_similar'], row['most_similar'][0])\n",
        "    #print(\"id\", row['most_similar'][0][0])\n",
        "    id = row['most_similar'][0]\n",
        "    data_fox_claim_w2v['similar_claims']=data_polifact.iloc[id]['claims']\n",
        "    data_fox_claim_w2v['similar_ratings']=data_polifact.iloc[id]['ratings']\n",
        "    data_fox_claim_w2v['similar_topics']=data_polifact.iloc[id]['topics']\n",
        "    data_fox_claim_w2v['similar_text']=data_polifact.iloc[id]['text']\n",
        "    data_fox_claim_w2v['similar_text_distilled']=data_polifact.iloc[id]['text_distilled']"
      ],
      "execution_count": 73,
      "outputs": []
    },
    {
      "cell_type": "code",
      "metadata": {
        "colab": {
          "base_uri": "https://localhost:8080/",
          "height": 214
        },
        "id": "rmSLieL7mPMx",
        "outputId": "6e9a463b-9c4d-47cd-d089-a5a67c6dfb16"
      },
      "source": [
        "data_fox_claim_w2v.iloc[[7]]"
      ],
      "execution_count": 74,
      "outputs": [
        {
          "output_type": "execute_result",
          "data": {
            "text/html": [
              "<div>\n",
              "<style scoped>\n",
              "    .dataframe tbody tr th:only-of-type {\n",
              "        vertical-align: middle;\n",
              "    }\n",
              "\n",
              "    .dataframe tbody tr th {\n",
              "        vertical-align: top;\n",
              "    }\n",
              "\n",
              "    .dataframe thead th {\n",
              "        text-align: right;\n",
              "    }\n",
              "</style>\n",
              "<table border=\"1\" class=\"dataframe\">\n",
              "  <thead>\n",
              "    <tr style=\"text-align: right;\">\n",
              "      <th></th>\n",
              "      <th>documentId</th>\n",
              "      <th>Unnamed: 0.1</th>\n",
              "      <th>link</th>\n",
              "      <th>published</th>\n",
              "      <th>title</th>\n",
              "      <th>text</th>\n",
              "      <th>site</th>\n",
              "      <th>text_distilled</th>\n",
              "      <th>topics</th>\n",
              "      <th>named_entity_recognition</th>\n",
              "      <th>top_10_freq_word</th>\n",
              "      <th>pasts_of_speech</th>\n",
              "      <th>most_similar</th>\n",
              "      <th>similar_claims</th>\n",
              "      <th>similar_ratings</th>\n",
              "      <th>similar_topics</th>\n",
              "      <th>similar_text</th>\n",
              "      <th>similar_text_distilled</th>\n",
              "    </tr>\n",
              "  </thead>\n",
              "  <tbody>\n",
              "    <tr>\n",
              "      <th>7</th>\n",
              "      <td>7</td>\n",
              "      <td>7</td>\n",
              "      <td>https://www.foxnews.com/politics/ex-trump-offi...</td>\n",
              "      <td>2021-04-15T22:09:32</td>\n",
              "      <td>Ex-Trump official Kellyanne Conway named senio...</td>\n",
              "      <td>Former Trump campaign manager and top White Ho...</td>\n",
              "      <td>foxnews</td>\n",
              "      <td>['ex', 'trump', 'official', 'kellyanne', 'conw...</td>\n",
              "      <td>['trump ', 'moreno']</td>\n",
              "      <td>[(Raphael, 'PERSON'), (Warnock, 'PERSON'), (re...</td>\n",
              "      <td>[('trump', 9), ('moreno', 8), ('campaign', 6),...</td>\n",
              "      <td>[('Former', 'JJ'), ('Trump', 'NNP'), ('campaig...</td>\n",
              "      <td>(3, 0.971934)</td>\n",
              "      <td>National,Congress,Elections,Poverty,Donald Trump</td>\n",
              "      <td>barely-true</td>\n",
              "      <td>['1 ', 'registration']</td>\n",
              "      <td>\\nFormer President Donald Trump said that Demo...</td>\n",
              "      <td>['hr', '1', 'automatically', 'register', 'ever...</td>\n",
              "    </tr>\n",
              "  </tbody>\n",
              "</table>\n",
              "</div>"
            ],
            "text/plain": [
              "   documentId  ...                             similar_text_distilled\n",
              "7           7  ...  ['hr', '1', 'automatically', 'register', 'ever...\n",
              "\n",
              "[1 rows x 18 columns]"
            ]
          },
          "metadata": {
            "tags": []
          },
          "execution_count": 74
        }
      ]
    },
    {
      "cell_type": "code",
      "metadata": {
        "colab": {
          "base_uri": "https://localhost:8080/"
        },
        "id": "4a0_8bvYmPMx",
        "outputId": "4007575c-2682-4a25-e179-693e628cc7e2"
      },
      "source": [
        "print(\"claim title=\",data_fox_claim_w2v['title'][7])\n",
        "print(\"claim topics=\",data_fox_claim_w2v['topics'][7])\n",
        "print(\"most_similar=\",data_fox_claim_w2v['most_similar'][7])\n",
        "print(\"similar_claims=\",data_fox_claim_w2v['similar_claims'][7])\n",
        "print(\"similar_ratings=\",data_fox_claim_w2v['similar_ratings'][7])\n",
        "print(\"similar_topics=\",data_fox_claim_w2v['similar_topics'][7])\n",
        "print(\"similar_text_distilled=\",data_fox_claim_w2v['similar_text_distilled'][7])\n",
        "#print(\"similar_text=\",data_fox_claim_w2v['similar_text'][7])"
      ],
      "execution_count": 76,
      "outputs": [
        {
          "output_type": "stream",
          "text": [
            "claim title= Ex-Trump official Kellyanne Conway named senior adviser to Ohio Senate candidate Bernie Moreno\n",
            "claim topics= ['trump ', 'moreno']\n",
            "most_similar= (3, 0.971934)\n",
            "similar_claims= National,Congress,Elections,Poverty,Donald Trump\n",
            "similar_ratings= barely-true\n",
            "similar_topics= ['1 ', 'registration']\n",
            "similar_text_distilled= ['hr', '1', 'automatically', 'register', 'every', 'welfare', 'recipient', 'vote', 'former', 'president', 'donald', 'trump', 'said', 'democrat', 'racing', 'pas', 'bill', 'would', 'destroy', 'integrity', 'election', 'automatically', 'register', 'poor', 'people', 'vote', 'speech', 'conservative', 'political', 'action', 'conference', 'orlando', 'trump', 'reeled', 'multiple', 'objection', 'h', 'r', '1', 'including', 'automatically', 'register', 'every', 'welfare', 'recipient', 'vote', 'trump', 'statement', 'misleading', 'democrat', 'bill', 'expand', 'voting', 'right', 'would', 'require', 'multiple', 'government', 'agency', 'help', 'eligible', 'people', 'register', 'vote', 'apply', 'assistance', 'single', 'applicant', 'program', 'associated', 'welfare', 'trump', 'omits', 'public', 'assistance', 'agency', 'already', 'play', 'role', 'helping', 'people', 'register', 'vote', 'h', 'r', '1', 'would', 'expand', 'effort', 'public', 'assistance', 'agency', 'already', 'give', 'applicant', 'voter', 'registration', 'information', 'known', 'people', 'act', '791', 'page', 'h', 'r', '1', 'combine', 'proposal', 'voter', 'registration', 'absentee', 'voting', 'person', 'voting', 'campaign', 'finance', 'ethic', 'contacted', 'spokesperson', 'trump', 'ask', 'section', 'h', 'r', '1', 'referring', 'get', 'response', 'also', 'know', 'trump', 'defining', 'welfare', 'imprecise', 'term', 'could', 'refer', 'number', 'public', 'assistance', 'program', 'found', 'line', 'legislation', 'call', 'registering', 'welfare', 'recipient', 'vote', 'trump', 'likely', 'referring', 'automatic', 'voter', 'registration', 'section', 'applies', 'many', 'people', 'seek', 'government', 'service', 'goal', 'h', 'r', '1', 'full', 'registration', 'eligible', 'american', 'said', 'matthew', 'weil', 'election', 'expert', 'bipartisan', 'policy', 'center', '1993', 'national', 'voter', 'registration', 'act', 'often', 'called', 'motor', 'voter', 'requires', 'state', 'offer', 'voter', 'registration', 'motor', 'vehicle', 'department', 'state', 'must', 'also', 'offer', 'voter', 'registration', 'office', 'provide', 'public', 'assistance', 'service', 'people', 'disability', 'military', 'recruitment', 'office', 'counted', 'public', 'assistance', 'long', 'list', 'federal', 'program', 'including', 'supplemental', 'nutrition', 'assistance', 'program', 'formerly', 'known', 'food', 'stamp', 'special', 'supplemental', 'nutrition', 'program', 'woman', 'infant', 'child', 'temporary', 'assistance', 'needy', 'family', 'medicaid', 'state', 'child', 'health', 'insurance', 'program', 'state', 'public', 'assistance', 'program', 'included', 'given', 'language', 'found', 'nvra', 'safe', 'say', 'number', 'state', 'public', 'service', 'agency', 'already', 'involved', 'helping', 'people', 'register', 'vote', 'anthony', 'marcum', 'resident', 'fellow', 'r', 'street', 'institute', 'right', 'center', 'organization', 'opposes', 'h', 'r', '1', 'due', 'concern', 'free', 'speech', 'state', 'right', 'broadly', 'automatically', 'h', 'r', '1', 'envisions', 'h', 'r', '1', 'expands', 'role', 'government', 'agency', 'voter', 'registration', '1993', 'law', 'public', 'assistance', 'applicant', 'essentially', 'opt', 'choosing', 'register', 'vote', 'h', 'r', '1', 'applicant', 'service', 'would', 'opt', 'want', 'register', 'h', 'r', '1', 'automatically', 'register', 'everybody', 'vote', 'applies', 'public', 'assistance', 'said', 'sarah', 'brannon', 'voting', 'right', 'attorney', 'american', 'civil', 'liberty', 'union', 'state', 'federal', 'agency', 'determined', 'enough', 'information', 'applicant', 'register', 'vote', 'would', 'forward', 'information', 'electronically', 'election', 'official', 'agency', 'lack', 'certain', 'necessary', 'information', 'citizenship', 'verification', 'applicant', 'would', 'directed', 'voter', 'registration', 'form', 'either', 'way', 'election', 'official', 'determine', 'whether', 'applicant', 'eligible', 'register', 'vote', 'featured', 'fact', 'check', 'facebook', 'post', 'stated', 'march', '29', '2021', 'facebook', 'post', 'georgia', 'new', 'voting', 'law', 'make', 'jail', 'time', 'crime', 'drop', 'grandma', 'absentee', 'ballot', 'dropbox', 'amy', 'sherman', 'march', '30', '2021', 'automatic', 'process', 'share', 'information', 'election', 'official', 'decide', 'eligible', 'brannon', 'said', 'legislation', 'also', 'applies', 'applicant', 'previously', 'sought', 'public', 'assistance', 'state', 'agency', 'ha', 'applicant', 'information', 'needed', 'register', 'vote', 'including', 'proof', 'citizenship', 'age', 'address', 'h', 'r', '1', 'would', 'require', 'agency', 'forward', 'information', 'election', 'official', 'h', 'r', '1', 'existing', 'law', 'including', 'government', 'office', 'must', 'participate', 'including', 'federal', 'agency', 'department', 'veteran', 'affair', 'state', 'agency', 'responsible', 'regulating', 'firearm', 'putting', 'eligible', 'registered', 'firearm', 'owner', 'veteran', 'list', 'choose', 'opt', 'voter', 'registration', 'process', 'well', 'legislation', 'pass', 'would', 'every', 'welfare', 'recipient', 'registered', 'vote', 'trump', 'said', 'unlikely', 'public', 'assistance', 'applicant', 'may', 'opt', 'voter', 'registration', 'interested', 'applicant', 'public', 'assistance', 'still', 'meet', 'eligibility', 'criterion', 'including', 'citizenship', 'complete', 'registration', 'process', 'h', 'r', '1', 'automatically', 'register', 'people', 'citizenship', 'information', 'said', 'wendy', 'weiser', 'expert', 'voting', 'right', 'liberal', 'brennan', 'center', 'justice', 'nyu', 'school', 'law', 'automatic', 'voter', 'registration', 'doe', 'substitute', 'eligibility', 'check', 'substitute', 'first', 'part', 'process', 'application', 'application', 'transmitted', 'take', 'additional', 'step', 'expert', 'told', 'u', 'h', 'r', '1', 'become', 'law', 'would', 'expect', 'increase', 'number', 'public', 'assistance', 'applicant', 'register', 'vote', 'said', 'predict', 'many', 'register', 'way', 'know', 'current', 'law', 'adult', 'rarely', 'fill', 'voter', 'registration', 'form', 'apply', 'public', 'assistance', 'state', 'motor', 'vehicle', 'department', 'common', 'source', 'voter', 'registration', 'according', 'election', 'assistance', 'commission', 'would', 'likely', 'remain', '2', 'registration', 'came', 'public', 'assistance', 'office', 'according', 'data', '2016', '2018', 'election', 'automatic', 'voter', 'registration', 'new', 'idea', 'one', 'exclusively', 'pushed', 'democrat', 'campaign', 'legal', 'center', 'group', 'support', 'h', 'r', '1', 'found', 'automatic', 'registration', 'ha', 'implemented', 'dozen', 'state', 'including', 'republican', 'led', 'battleground', 'state', 'state', 'dmv', 'common', 'agency', 'involved', 'automatic', 'voter', 'registration', 'though', 'state', 'use', 'health', 'social', 'service', 'agency', 'ruling', 'trump', 'said', 'h', 'r', '1', 'automatically', 'register', 'every', 'welfare', 'recipient', 'vote', 'h', 'r', '1', 'includes', 'automatic', 'voter', 'registration', 'provision', 'government', 'agency', 'provide', 'public', 'assistance', 'would', 'pas', 'along', 'election', 'official', 'information', 'people', 'eligible', 'vote', 'well', 'relevant', 'information', 'including', 'citizenship', 'status', 'trump', 'statement', 'creates', 'misleading', 'impression', 'people', 'welfare', 'special', 'path', 'voter', 'registration', 'regardless', 'eligibility', 'bill', 'applicant', 'could', 'opt', 'election', 'official', 'still', 'review', 'application', 'eligibility', 'requirement', 'moving', 'voter', 'roll', 'part', 'bill', 'exclusively', 'people', 'public', 'assistance', 'would', 'apply', 'veteran', 'gun', 'owner', 'rate', 'statement', 'mostly', 'false', 'related', 'yes', 'aclu', 'ha', 'criticized', 'hr', '1', 'related', 'group', 'make', 'bogus', 'attack', 'hr', '1', 'congressional', 'salary', 'related', 'fact', 'checking', 'misleading', 'attack', 'hr', '1', 'democrat', 'voting', 'right', 'bill']\n"
          ],
          "name": "stdout"
        }
      ]
    },
    {
      "cell_type": "markdown",
      "metadata": {
        "id": "-1bI8RqVmPMx"
      },
      "source": [
        "## To CSV"
      ]
    },
    {
      "cell_type": "code",
      "metadata": {
        "colab": {
          "base_uri": "https://localhost:8080/",
          "height": 361
        },
        "id": "uyNDpSFEmPMx",
        "outputId": "77618703-ef97-4c14-8a34-6b08e310d54f"
      },
      "source": [
        "data_fox_claim_w2v.head(2)"
      ],
      "execution_count": 78,
      "outputs": [
        {
          "output_type": "execute_result",
          "data": {
            "text/html": [
              "<div>\n",
              "<style scoped>\n",
              "    .dataframe tbody tr th:only-of-type {\n",
              "        vertical-align: middle;\n",
              "    }\n",
              "\n",
              "    .dataframe tbody tr th {\n",
              "        vertical-align: top;\n",
              "    }\n",
              "\n",
              "    .dataframe thead th {\n",
              "        text-align: right;\n",
              "    }\n",
              "</style>\n",
              "<table border=\"1\" class=\"dataframe\">\n",
              "  <thead>\n",
              "    <tr style=\"text-align: right;\">\n",
              "      <th></th>\n",
              "      <th>documentId</th>\n",
              "      <th>Unnamed: 0.1</th>\n",
              "      <th>link</th>\n",
              "      <th>published</th>\n",
              "      <th>title</th>\n",
              "      <th>text</th>\n",
              "      <th>site</th>\n",
              "      <th>text_distilled</th>\n",
              "      <th>topics</th>\n",
              "      <th>named_entity_recognition</th>\n",
              "      <th>top_10_freq_word</th>\n",
              "      <th>pasts_of_speech</th>\n",
              "      <th>most_similar</th>\n",
              "      <th>similar_claims</th>\n",
              "      <th>similar_ratings</th>\n",
              "      <th>similar_topics</th>\n",
              "      <th>similar_text</th>\n",
              "      <th>similar_text_distilled</th>\n",
              "    </tr>\n",
              "  </thead>\n",
              "  <tbody>\n",
              "    <tr>\n",
              "      <th>0</th>\n",
              "      <td>0</td>\n",
              "      <td>0</td>\n",
              "      <td>https://www.foxnews.com/us/violent-crime-los-a...</td>\n",
              "      <td>2021-04-15T22:33:38</td>\n",
              "      <td>Murders in Los Angeles up nearly 200%, violent...</td>\n",
              "      <td>Murders in Los Angeles County have spiked near...</td>\n",
              "      <td>foxnews</td>\n",
              "      <td>['murder', 'los', 'angeles', 'nearly', '200', ...</td>\n",
              "      <td>['angeles ', 'crime']</td>\n",
              "      <td>[(Raphael, 'PERSON'), (Warnock, 'PERSON'), (re...</td>\n",
              "      <td>[('los', 5), ('angeles', 5), ('crime', 5), ('f...</td>\n",
              "      <td>[('Murders', 'NNS'), ('Los', 'NNP'), ('Angeles...</td>\n",
              "      <td>(19, 0.97164094)</td>\n",
              "      <td>National,Congress,Elections,Poverty,Donald Trump</td>\n",
              "      <td>barely-true</td>\n",
              "      <td>['1 ', 'registration']</td>\n",
              "      <td>\\nFormer President Donald Trump said that Demo...</td>\n",
              "      <td>['hr', '1', 'automatically', 'register', 'ever...</td>\n",
              "    </tr>\n",
              "    <tr>\n",
              "      <th>1</th>\n",
              "      <td>1</td>\n",
              "      <td>1</td>\n",
              "      <td>https://www.foxnews.com/politics/raphael-warno...</td>\n",
              "      <td>2021-04-15T22:30:47</td>\n",
              "      <td>Warnock pushes gun control but paid over $100K...</td>\n",
              "      <td>Sen. Raphael Warnock has been calling for gun ...</td>\n",
              "      <td>foxnews</td>\n",
              "      <td>['warnock', 'push', 'gun', 'control', 'paid', ...</td>\n",
              "      <td>['gun ', 'warnock']</td>\n",
              "      <td>[(Raphael, 'PERSON'), (Warnock, 'PERSON'), (re...</td>\n",
              "      <td>[('warnock', 15), ('gun', 15), ('control', 9),...</td>\n",
              "      <td>[('Sen.', 'NNP'), ('Raphael', 'NNP'), ('Warnoc...</td>\n",
              "      <td>(3, 0.97149664)</td>\n",
              "      <td>National,Congress,Elections,Poverty,Donald Trump</td>\n",
              "      <td>barely-true</td>\n",
              "      <td>['1 ', 'registration']</td>\n",
              "      <td>\\nFormer President Donald Trump said that Demo...</td>\n",
              "      <td>['hr', '1', 'automatically', 'register', 'ever...</td>\n",
              "    </tr>\n",
              "  </tbody>\n",
              "</table>\n",
              "</div>"
            ],
            "text/plain": [
              "   documentId  ...                             similar_text_distilled\n",
              "0           0  ...  ['hr', '1', 'automatically', 'register', 'ever...\n",
              "1           1  ...  ['hr', '1', 'automatically', 'register', 'ever...\n",
              "\n",
              "[2 rows x 18 columns]"
            ]
          },
          "metadata": {
            "tags": []
          },
          "execution_count": 78
        }
      ]
    },
    {
      "cell_type": "code",
      "metadata": {
        "id": "wh9Y3GwimPMy"
      },
      "source": [
        "#data_all_news.to_csv(file_path+'/statement_checker_all_processed.csv')\n",
        "data_fox_claim_w2v.to_csv(file_path+'/fox_claim_news_with_distilBERT_similarity.csv')"
      ],
      "execution_count": 77,
      "outputs": []
    },
    {
      "cell_type": "markdown",
      "metadata": {
        "id": "Ddnv2GPSPVE0"
      },
      "source": [
        "# Another BERT Motel"
      ]
    }
  ]
}